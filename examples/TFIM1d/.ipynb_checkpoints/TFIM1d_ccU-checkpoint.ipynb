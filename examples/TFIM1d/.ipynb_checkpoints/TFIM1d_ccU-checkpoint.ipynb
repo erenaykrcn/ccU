{
 "cells": [
  {
   "cell_type": "code",
   "execution_count": 30,
   "id": "f78c23f7-84ea-4ac5-b722-47b1ff44032d",
   "metadata": {},
   "outputs": [
    {
     "name": "stdout",
     "output_type": "stream",
     "text": [
      "Trotter error of the starting point:  0.6072181910423273\n",
      "fidelity:  0.6671282348891012\n"
     ]
    }
   ],
   "source": [
    "\"\"\"\n",
    "    (Successful) Attempt for the controlled version:\n",
    "\"\"\"\n",
    "import numpy as np\n",
    "import qiskit\n",
    "from qiskit.quantum_info import state_fidelity\n",
    "from numpy import linalg as LA\n",
    "import qib\n",
    "import matplotlib.pyplot as plt\n",
    "import scipy\n",
    "import h5py\n",
    "\n",
    "import sys\n",
    "sys.path.append(\"../../src/brickwall_sparse\")\n",
    "from utils_sparse import construct_ising_local_term, reduce_list, X, I2, get_perms\n",
    "from ansatz_sparse import ansatz_sparse\n",
    "import rqcopt as oc\n",
    "from scipy.sparse.linalg import expm_multiply\n",
    "from qiskit.quantum_info import random_statevector\n",
    "\n",
    "\n",
    "L = 6\n",
    "t = .75\n",
    "latt = qib.lattice.IntegerLattice((L, ), pbc=True)\n",
    "field = qib.field.Field(qib.field.ParticleType.QUBIT, latt)\n",
    "J, h, g = (1, 0, 3)\n",
    "hamil = qib.IsingHamiltonian(field, J, h, g).as_matrix()\n",
    "eigenvalues, eigenvectors = scipy.sparse.linalg.eigsh(hamil, k=10)\n",
    "idx = eigenvalues.argsort()\n",
    "eigenvalues_sort = eigenvalues[idx]\n",
    "eigenvectors_sort = eigenvectors[:,idx]\n",
    "ground_state = eigenvectors_sort[:, 0]\n",
    "\n",
    "X = np.array([[0, 1], [1, 0]])\n",
    "Z = np.array([[1, 0], [0, -1]])\n",
    "Y = np.array([[0, -1j], [1j, 0]])\n",
    "I2 = np.array([[1, 0], [0, 1]])\n",
    "\n",
    "\n",
    "hloc = construct_ising_local_term(J, 0, 0, ndim=2) + g*(np.kron(X, I2)+np.kron(I2, X))/2\n",
    "V1 = scipy.linalg.expm(-1j*t*hloc/2)\n",
    "V2 = scipy.linalg.expm(-1j*t*hloc)\n",
    "YZ = np.kron(Y, Z)\n",
    "Vlist_start = [YZ, np.kron(I2, I2), V1, V2, V1, np.kron(I2, I2),  YZ]\n",
    "Vlist_reduced = [V1, V2, V1]\n",
    "\n",
    "control_layers = [0, 1, 5, 6]\n",
    "perms_extended = [[[i for i in range(L)]] if i%2==0 else [[i for i in range(1, L)]+[0]] for i in range(len(Vlist_start))]\n",
    "perms_ext_reduced = []\n",
    "for i, perm in enumerate(perms_extended):\n",
    "    if i not in control_layers:\n",
    "        perms_ext_reduced.append(perm)\n",
    "\n",
    "\n",
    "# 12 layers with 6 being controlled, 9 parameters in total.\n",
    "state = random_statevector(2**L).data\n",
    "print(\"Trotter error of the starting point: \", (np.linalg.norm(ansatz_sparse(Vlist_start, L, perms_extended, state) - expm_multiply(\n",
    "    1j * t * hamil, state), ord=2) + np.linalg.norm(ansatz_sparse(Vlist_reduced, L, perms_ext_reduced, state) - expm_multiply(\n",
    "    -1j * t * hamil, state), ord=2))/2)\n",
    "\n",
    "print('fidelity: ', (state_fidelity(ansatz_sparse(Vlist_start, L, perms_extended, state), expm_multiply(\n",
    "    1j * t * hamil, state)) + state_fidelity(ansatz_sparse(Vlist_reduced, L, perms_ext_reduced, state), expm_multiply(\n",
    "    -1j * t * hamil, state)))/2)"
   ]
  },
  {
   "cell_type": "code",
   "execution_count": 31,
   "id": "74fe98dc-6959-4173-811f-12131ec50690",
   "metadata": {
    "scrolled": true
   },
   "outputs": [
    {
     "name": "stdout",
     "output_type": "stream",
     "text": [
      "Current error:  0.6617802909998816\n",
      "Current error:  0.6502554280485446\n",
      "Current error:  0.6274456740675607\n",
      "Current error:  0.5826889691748725\n",
      "Current error:  0.49591869841774283\n",
      "Current error:  0.3924569630258701\n",
      "Current error:  0.30112998891464904\n",
      "Current error:  0.2297767704793719\n",
      "Current error:  0.1905370535887838\n",
      "Current error:  0.14360194933923182\n",
      "Current error:  0.12488640690772926\n",
      "Current error:  0.11130453734923446\n",
      "Current error:  0.10585290731909669\n",
      "Current error:  0.10431987219638728\n",
      "Current error:  0.10328713101713063\n",
      "Current error:  0.10261312811272402\n",
      "Current error:  0.10194452917232438\n",
      "Current error:  0.1012982515344896\n",
      "Current error:  0.10046144183651795\n",
      "Current error:  0.09936779274683609\n",
      "Current error:  0.09801065336051196\n",
      "0.09801065336051196\n"
     ]
    },
    {
     "data": {
      "image/png": "[encoded data removed]",
      "text/plain": [
       "<Figure size 640x480 with 1 Axes>"
      ]
     },
     "metadata": {},
     "output_type": "display_data"
    }
   ],
   "source": [
    "from optimize_sparse import optimize\n",
    "\n",
    "niter = 20\n",
    "rS    = 1\n",
    "Vlist, f_iter, err_iter = optimize(L, hamil, t, Vlist_start, perms_extended, perms_reduced=perms_ext_reduced, \n",
    "                                   control_layers=control_layers, rS=rS, niter=niter)\n",
    "plt.plot(err_iter)\n",
    "plt.yscale('log')\n",
    "print(err_iter[-1])"
   ]
  },
  {
   "cell_type": "code",
   "execution_count": 40,
   "id": "c44cfb13-b832-4179-a06c-e73c4345ffd6",
   "metadata": {},
   "outputs": [
    {
     "data": {
      "text/plain": [
       "[0.03723038037506443,\n",
       " 0.047137315679279146,\n",
       " 0.05585384366115598,\n",
       " 0.06500725183269851,\n",
       " 0.07371434704708835]"
      ]
     },
     "execution_count": 40,
     "metadata": {},
     "output_type": "execute_result"
    }
   ],
   "source": [
    "\"\"\"\n",
    "    Test operations.\n",
    "\"\"\"\n",
    "infids = []\n",
    "for L in [8, 10, 12, 14, 16]: \n",
    "    t = .75\n",
    "    latt = qib.lattice.IntegerLattice((L, ), pbc=True)\n",
    "    field = qib.field.Field(qib.field.ParticleType.QUBIT, latt)\n",
    "    J, h, g = (1, 0, 3)\n",
    "    hamil = qib.IsingHamiltonian(field, J, h, g).as_matrix()\n",
    "    eigenvalues, eigenvectors = scipy.sparse.linalg.eigsh(hamil, k=10)\n",
    "    idx = eigenvalues.argsort()\n",
    "    eigenvalues_sort = eigenvalues[idx]\n",
    "    eigenvectors_sort = eigenvectors[:,idx]\n",
    "    ground_state = eigenvectors_sort[:, 0]\n",
    "    \n",
    "    perms_extended = [[[i for i in range(L)]] if i%2==0 else [[i for i in range(1, L)]+[0]] for i in range(len(Vlist_start))]\n",
    "    perms_ext_reduced = []\n",
    "    for i, perm in enumerate(perms_extended):\n",
    "        if i not in control_layers:\n",
    "            perms_ext_reduced.append(perm)\n",
    "    Vlist_reduced = []\n",
    "    for i, V in enumerate(Vlist):\n",
    "        if i not in control_layers:\n",
    "            Vlist_reduced.append(V)\n",
    "    \n",
    "    state = random_statevector(2**L).data\n",
    "    infids.append(1 - (state_fidelity(ansatz_sparse(Vlist, L, perms_extended, state), expm_multiply(\n",
    "        1j * t * hamil, state)) + state_fidelity(ansatz_sparse(Vlist_reduced, L, perms_ext_reduced, state), expm_multiply(\n",
    "        -1j * t * hamil, state)))/2)\n",
    "infids"
   ]
  },
  {
   "cell_type": "code",
   "execution_count": 41,
   "id": "185d3156-a44c-4fa0-a140-1fc3e4dc64a9",
   "metadata": {},
   "outputs": [
    {
     "data": {
      "text/plain": [
       "[<matplotlib.lines.Line2D at 0x297bf8d60>]"
      ]
     },
     "execution_count": 41,
     "metadata": {},
     "output_type": "execute_result"
    },
    {
     "data": {
      "image/png": "[encoded data removed]",
      "text/plain": [
       "<Figure size 640x480 with 1 Axes>"
      ]
     },
     "metadata": {},
     "output_type": "display_data"
    }
   ],
   "source": [
    "plt.plot(infids)"
   ]
  },
  {
   "cell_type": "code",
   "execution_count": 35,
   "id": "1a517524-8f57-45cc-8bb1-b9229ab7f6f5",
   "metadata": {},
   "outputs": [
    {
     "name": "stdout",
     "output_type": "stream",
     "text": [
      "Best f:  -7.988975484327331\n",
      "Best err:  0.06718226241147673\n",
      "Best f:  -7.985010884580439\n",
      "Best err:  0.07444873976511641\n",
      "Best f:  -7.993222659745626\n",
      "Best err:  0.05284894697278736\n",
      "Best f:  -7.987177046904607\n",
      "Best err:  0.07520313323035716\n"
     ]
    }
   ],
   "source": [
    "sys.path.append(\"../../src/controlled_unitary_optimizer\")\n",
    "sys.path.append(\"../../src/brickwall_ansatz\")\n",
    "from optimize_3q import optimize_3q \n",
    "from utils_3q import make_controlled, random_unitary\n",
    "\n",
    "Xlists_opt = {}\n",
    "#perms_qc = [[0, 1], [0, 2], [1, 2], [0, 2], [0, 1], [1, 2], [0, 2], [0, 1], [1, 2]]\n",
    "perms_qc = [[0, 1], [0, 2], [1, 2]]\n",
    "\n",
    "for i in control_layers:\n",
    "    cU = make_controlled(Vlist[i])\n",
    "    f_best, err_best, Glist_best = (0, 2, None)\n",
    "    for _ in range(10):\n",
    "        Xlist_start = [random_unitary(4) for i in range(len(perms_qc))]\n",
    "        Xlist, f_iter, err_iter = optimize_3q(L, cU, Xlist_start, perms_qc, niter=1000)\n",
    "        if err_iter[-1] < err_best:\n",
    "            f_best, err_best, Xlist_best = (f_iter[-1], err_iter[-1], Xlist)\n",
    "    print(\"Best f: \", f_best)\n",
    "    print(\"Best err: \", err_best)\n",
    "    Xlists_opt[i] = Xlist_best"
   ]
  },
  {
   "cell_type": "code",
   "execution_count": 36,
   "id": "b98d80ab-bc52-48b0-aa04-2e2b792051d7",
   "metadata": {},
   "outputs": [
    {
     "name": "stdout",
     "output_type": "stream",
     "text": [
      "t=0.75, Gate Count:  120  Trotter error:  0.0801052416529272\n"
     ]
    }
   ],
   "source": [
    "from qiskit import Aer, execute, transpile\n",
    "from qiskit.circuit.library import CYGate, CZGate, IGate, CXGate\n",
    "from qiskit.converters import circuit_to_dag\n",
    "from qiskit.providers.aer.noise import NoiseModel, errors\n",
    "from qiskit import Aer, execute, transpile\n",
    "from scipy import sparse as sp\n",
    "\n",
    "qc = qiskit.QuantumCircuit(L+1)\n",
    "qc.x(L)\n",
    "for i, V in enumerate(Vlist):\n",
    "    layer = i\n",
    "    if i in control_layers:\n",
    "        Glist = Xlists_opt[i]\n",
    "        qc_3 = qiskit.QuantumCircuit(3)\n",
    "        for j, G in enumerate(Glist):\n",
    "            qc_3.unitary( G, (3-1-perms_qc[j][1], 3-1-perms_qc[j][0]))\n",
    "\n",
    "        for perm in perms_extended[layer]:\n",
    "            for j in range(L//2):\n",
    "                qc.append(qc_3.to_gate(), [L-perm[2*j]-1, L-perm[2*j+1]-1, L])\n",
    "        \n",
    "    else:\n",
    "        for perm in perms_extended[layer]:\n",
    "            for j in range(L//2):\n",
    "                qc.unitary(V, [L-perm[2*j]-1, L-perm[2*j+1]-1])\n",
    "qc.x(L)\n",
    "\n",
    "\n",
    "ccU_cxs= []\n",
    "ccU_errs = []\n",
    "for t in [.75]:\n",
    "    state = random_statevector(2**L).data\n",
    "    qc_ext1 = qiskit.QuantumCircuit(L+1)\n",
    "    qc_ext1.initialize(state, [i for i in range(L)])\n",
    "    for i in range(int(t/t)):\n",
    "        qc_ext1.append(qc.to_gate(), [i for i in range(L+1)])\n",
    "    backend = Aer.get_backend(\"statevector_simulator\")\n",
    "    sv1 = execute(transpile(qc_ext1), backend).result().get_statevector().data\n",
    "    \n",
    "    qc_ext2 = qiskit.QuantumCircuit(L+1)\n",
    "    qc_ext2.initialize(state, [i for i in range(L)])\n",
    "    qc_ext2.x(L)\n",
    "    for i in range(int(t/t)):\n",
    "        qc_ext2.append(qc.to_gate(), [i for i in range(L+1)])\n",
    "    backend = Aer.get_backend(\"statevector_simulator\")\n",
    "    sv2 = execute(transpile(qc_ext2), backend).result().get_statevector().data\n",
    "\n",
    "    ket_0 = np.array([1, 0])\n",
    "    ket_1 = np.array([0, 1])\n",
    "    exact_v1 = np.kron(ket_0, expm_multiply(1j * t * hamil, state))\n",
    "    exact_v2 = np.kron(ket_1, expm_multiply(-1j * t * hamil, state))\n",
    "    #err = (np.linalg.norm(sv1-exact_v1, ord=2) + np.linalg.norm(sv2-exact_v2, ord=2))/2\n",
    "    err = 1-(state_fidelity(sv1, exact_v1) + state_fidelity(sv2, exact_v2))/2\n",
    "    \n",
    "    noise_model = NoiseModel()\n",
    "    dag = circuit_to_dag(transpile(qc_ext1, basis_gates=noise_model.basis_gates+['unitary', 'initialize', 'cx']))\n",
    "    count_ops = dag.count_ops()\n",
    "    \n",
    "    ccU_errs.append(err)\n",
    "    ccU_cxs.append(count_ops['unitary'])\n",
    "    print(f\"t={t}, Gate Count: \", count_ops['unitary'], \" Trotter error: \", err)"
   ]
  },
  {
   "cell_type": "code",
   "execution_count": null,
   "id": "962602df-149a-46ad-9aec-f68a109981b9",
   "metadata": {},
   "outputs": [],
   "source": []
  }
 ],
 "metadata": {
  "kernelspec": {
   "display_name": "Python3.10 (qc)",
   "language": "python",
   "name": "qc"
  },
  "language_info": {
   "codemirror_mode": {
    "name": "ipython",
    "version": 3
   },
   "file_extension": ".py",
   "mimetype": "text/x-python",
   "name": "python",
   "nbconvert_exporter": "python",
   "pygments_lexer": "ipython3",
   "version": "3.10.13"
  }
 },
 "nbformat": 4,
 "nbformat_minor": 5
}
