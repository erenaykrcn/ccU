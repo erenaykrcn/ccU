{
 "cells": [
  {
   "cell_type": "code",
   "execution_count": 2,
   "id": "7edaa7bd-b99d-456f-9b71-17304977d4ad",
   "metadata": {},
   "outputs": [
    {
     "data": {
      "text/plain": [
       "'for g in np.linspace(10, 10, 30):\\n    hamil = qib.IsingHamiltonian(field, J, h, g).as_matrix()\\n    eigenvalues, eigenvectors = scipy.sparse.linalg.eigsh(hamil, k=20)\\n    idx = eigenvalues.argsort()\\n    eigenvalues_sort = eigenvalues[idx]\\n    Es.append(eigenvalues_sort[0])'"
      ]
     },
     "execution_count": 2,
     "metadata": {},
     "output_type": "execute_result"
    }
   ],
   "source": [
    "import numpy as np\n",
    "import qiskit\n",
    "from qiskit.quantum_info import state_fidelity\n",
    "from numpy import linalg as LA\n",
    "import qib\n",
    "import matplotlib.pyplot as plt\n",
    "import scipy\n",
    "import h5py\n",
    "\n",
    "import sys\n",
    "sys.path.append(\"../../src/brickwall_sparse\")\n",
    "from utils_sparse import construct_ising_local_term, reduce_list, X, I2, get_perms\n",
    "from ansatz_sparse import ansatz_sparse\n",
    "import rqcopt as oc\n",
    "from scipy.sparse.linalg import expm_multiply\n",
    "from qiskit.quantum_info import random_statevector\n",
    "from scipy.linalg import expm\n",
    "\n",
    "Lx, Ly = (4, 4)\n",
    "L = Lx*Ly\n",
    "latt = qib.lattice.TriangularLattice((Lx, Ly), pbc=True)\n",
    "field = qib.field.Field(qib.field.ParticleType.QUBIT, latt)\n",
    "perms_1 = [[0, 1, 2, 3, 4, 5, 6, 7, 8, 9, 10, 11, 12, 13, 14, 15], [1, 2, 3, 0, 5, 6, 7, 4, 9, 10, 11, 8, 13, 14, 15, 12]]\n",
    "perms_2 = [[0, 5, 10, 15, 3, 4, 9, 14, 2, 7, 8, 13, 1, 6, 11, 12], [5, 10, 15, 0, 4, 9, 14, 3, 7, 8, 13, 2, 6, 11, 12, 1]]\n",
    "perms_3 = [[0, 4, 8, 12, 1, 5, 9, 13, 2, 6, 10, 14, 3, 7, 11, 15], [4, 8, 12, 0, 5, 9, 13, 1, 6, 10, 14, 2, 7, 11, 15, 3]]\n",
    "\n",
    "J, h, g = (1, 0, 3)\n",
    "Es = []\n",
    "\"\"\"for g in np.linspace(10, 10, 30):\n",
    "    hamil = qib.IsingHamiltonian(field, J, h, g).as_matrix()\n",
    "    eigenvalues, eigenvectors = scipy.sparse.linalg.eigsh(hamil, k=20)\n",
    "    idx = eigenvalues.argsort()\n",
    "    eigenvalues_sort = eigenvalues[idx]\n",
    "    Es.append(eigenvalues_sort[0])\"\"\""
   ]
  },
  {
   "cell_type": "code",
   "execution_count": 40,
   "id": "e1e92c53-a86b-4ef0-a471-42148a5ead6e",
   "metadata": {},
   "outputs": [
    {
     "data": {
      "image/png": "[encoded data removed]",
      "text/plain": [
       "<Figure size 640x480 with 1 Axes>"
      ]
     },
     "metadata": {},
     "output_type": "display_data"
    }
   ],
   "source": [
    "plt.plot(np.linspace(0, 10, 30), Es)\n",
    "plt.xticks([1, 2, 2.5, 3, 4])\n",
    "plt.show()"
   ]
  },
  {
   "cell_type": "code",
   "execution_count": 3,
   "id": "42d2be3d-d243-44c4-a4e3-c173232a84ad",
   "metadata": {},
   "outputs": [],
   "source": [
    "\"\"\"\n",
    "    Now here is to compare the performance of the ccU circuit\n",
    "    with the 1st and 2nd order Trotter circuits, in terms of \n",
    "    gate count vs Trotter error. I demonstrate it on L=10 system.\n",
    "\"\"\"\n",
    "\n",
    "from qiskit import Aer, execute, transpile\n",
    "from qiskit.circuit.library import CYGate, CZGate, IGate, CXGate\n",
    "from qiskit.converters import circuit_to_dag\n",
    "from qiskit.providers.aer.noise import NoiseModel, errors\n",
    "from qiskit import Aer, execute, transpile\n",
    "from scipy import sparse as sp\n",
    "\n",
    "\n",
    "def controlled_trotter(c1, c2, L, Lx, Ly, J, g, perms_1, perms_2, perms_3, dt=0.1, dag=False):\n",
    "    nsteps = int(np.ceil(c1/(2 * dt)))\n",
    "    t = c1/(2*nsteps)\n",
    "\n",
    "    #indices = [0, 1]\n",
    "    #coeffs = [1, 1]\n",
    "    indices = oc.SplittingMethod.suzuki(2, 1).indices\n",
    "    coeffs = oc.SplittingMethod.suzuki(2, 1).coeffs\n",
    "    perms_ext = [perms_1, perms_2, perms_3]*len(indices)\n",
    "    \n",
    "    hloc1 = g*(np.kron(X, I2)+np.kron(I2, X))/6\n",
    "    hloc2 = J*np.kron(Z, Z)\n",
    "    hlocs = (hloc1, hloc2)\n",
    "\n",
    "    K = []\n",
    "    for i, perms in enumerate(perms_ext):\n",
    "        perm = perms[0]\n",
    "        K_layer = [None for _ in range(L)]\n",
    "        for j in range(len(perm)//2):\n",
    "            K_layer[perm[2*j]] = CYGate\n",
    "            K_layer[perm[2*j+1]] = CZGate\n",
    "        K.append(K_layer)\n",
    "\n",
    "    Vlist_start = []\n",
    "    for i, c in zip(indices, coeffs):\n",
    "        Vlist_start.append(scipy.linalg.expm(-1j*c*t*hlocs[i]))\n",
    "    Vlist_gates = []\n",
    "    for V in Vlist_start:\n",
    "        qc2 = qiskit.QuantumCircuit(2)\n",
    "        qc2.unitary(V, [0, 1], label='str')\n",
    "        Vlist_gates.append(qc2)\n",
    "\n",
    "\n",
    "    qc = qiskit.QuantumCircuit(L+1)\n",
    "    if dag:\n",
    "        qc.x(L)\n",
    "    for n in range(nsteps):\n",
    "        for layer, qc_gate in enumerate(Vlist_gates):\n",
    "\n",
    "            perms = perms_1\n",
    "            qc.x(L)\n",
    "            for j in range(L):\n",
    "                if K[3*layer][j]:\n",
    "                    qc.append(K[3*layer][j](), [L, L-1-j])\n",
    "            qc.x(L)\n",
    "            for perm in perms:\n",
    "                for j in range(len(perm)//2):\n",
    "                    qc.append(qc_gate.to_gate(), [L-(perm[2*j]+1), L-(perm[2*j+1]+1)])\n",
    "            qc.x(L)\n",
    "            for j in range(L):\n",
    "                if K[3*layer][j]:\n",
    "                    qc.append(K[3*layer][j](), [L, L-1-j])\n",
    "            qc.x(L)\n",
    "\n",
    "            perms = perms_2\n",
    "            qc.x(L)\n",
    "            for j in range(L):\n",
    "                if K[3*layer+1][j]:\n",
    "                    qc.append(K[3*layer+1][j](), [L, L-1-j])\n",
    "            qc.x(L)\n",
    "            for perm in perms:\n",
    "                for j in range(len(perm)//2):\n",
    "                    qc.append(qc_gate.to_gate(), [L-(perm[2*j]+1), L-(perm[2*j+1]+1)])\n",
    "\n",
    "            qc.x(L)\n",
    "            for j in range(L):\n",
    "                if K[3*layer+1][j]:\n",
    "                    qc.append(K[3*layer+1][j](), [L, L-1-j])\n",
    "            qc.x(L)\n",
    "\n",
    "            perms = perms_3\n",
    "            qc.x(L)\n",
    "            for j in range(L):\n",
    "                if K[3*layer+2][j]:\n",
    "                    qc.append(K[3*layer+2][j](), [L, L-1-j])\n",
    "            qc.x(L)\n",
    "            for perm in perms:\n",
    "                for j in range(len(perm)//2):\n",
    "                    qc.append(qc_gate.to_gate(), [L-(perm[2*j]+1), L-(perm[2*j+1]+1)])\n",
    "            qc.x(L)\n",
    "            for j in range(L):\n",
    "                if K[3*layer+2][j]:\n",
    "                    qc.append(K[3*layer+2][j](), [L, L-1-j])\n",
    "            qc.x(L)\n",
    "    qc.cp(-c2, L, 0)\n",
    "    qc.x(0)\n",
    "    qc.cp(-c2, L, 0)\n",
    "    qc.x(0)\n",
    "    if dag:\n",
    "        qc.x(L)\n",
    "    return qc\n"
   ]
  },
  {
   "cell_type": "code",
   "execution_count": 223,
   "id": "475b1a4e-21b1-4eda-9117-9862981758f8",
   "metadata": {},
   "outputs": [],
   "source": [
    "import sys\n",
    "sys.path.append(\"../../../AQC-F/src/qetu\")\n",
    "from qetu import qetu_rqc_oneLayer\n",
    "\n",
    "def run_qetu(Lx, Ly, g, c1, c2, perms1, perms2, perms3, mu=0.95, d=12, M=1, return_circ=False, qc_init=None, \n",
    "             full_measure=False, return_one_layer=False, a_assess=None, reverse=False, dt=0.1,\n",
    "             return_poly=False, state=None):\n",
    "    t = c1/2\n",
    "    print(\"QETU t: \", c1/2)\n",
    "    qc_cU = controlled_trotter(c1, c2, L, Lx, Ly, J, g, perms1, perms2, perms3, dag=False, dt=dt)\n",
    "    qc_cU_dag = controlled_trotter(c1, c2, L, Lx, Ly, J, g, perms1, perms2, perms3, dag=True, dt=dt)\n",
    "    qc_cfUs = [qc_cU, qc_cU_dag]\n",
    "\n",
    "    ket_0 = np.array([1,0])\n",
    "    \n",
    "    # QETU Circuit:\n",
    "    c, phis_max_iter, = (0.95, 10)\n",
    "    qc_qetu, _ = qetu_rqc_oneLayer(L, 0, 0, 1, mu, d=d, c2=0,\n",
    "                                    qc_cU_custom=(qc_cfUs[0], qc_cfUs[1]),\n",
    "                                       a_assess=a_assess, reverse=reverse\n",
    "                                    )\n",
    "    if return_one_layer:\n",
    "        return qc_qetu\n",
    "    \n",
    "    qcs_qetu = []\n",
    "    for m in range(M):\n",
    "        qcs_qetu.append(qc_qetu)\n",
    "\n",
    "    if return_circ:\n",
    "        mid_cbits = len(qcs_qetu)\n",
    "        qc = qiskit.QuantumCircuit(L+1, (L+1 if full_measure else 1) + mid_cbits)\n",
    "        if qc_init is not None:\n",
    "            qc.append(qc_init.to_gate(), [i for i in range(L)])\n",
    "        \n",
    "        for j, qc_qetu in enumerate(qcs_qetu):\n",
    "            qc.append(qc_qetu.to_gate(), [i for i in range(L+1)])\n",
    "            qc.measure(L, j)\n",
    "        return qc, mid_cbits\n",
    "    else:\n",
    "        backend = Aer.get_backend(\"statevector_simulator\")\n",
    "        qc_RQC = qiskit.QuantumCircuit(L+1, L+1)\n",
    "        if state is not None:\n",
    "            qc_RQC.initialize(np.kron(ket_0, state))\n",
    "        if qc_init is not None:\n",
    "            qc_RQC.append(qc_init.to_gate(), [i for i in range(L)])\n",
    "        \n",
    "        for qc_qetu in qcs_qetu:\n",
    "            qc_RQC.append(qc_qetu.to_gate(), [i for i in range(L+1)])\n",
    "            bR = execute(transpile(qc_RQC), backend).result().get_statevector().data\n",
    "            aR = sp.kron(np.array([[1,0],[0,0]]), sp.eye(2**L), format='csr') @ bR\n",
    "            print(\"Success Prob: \", np.linalg.norm(aR)**2)\n",
    "            aR = aR / np.linalg.norm(aR)\n",
    "            qc_RQC.reset([i for i in range(L+1)])\n",
    "            qc_RQC.initialize(aR)\n",
    "        \n",
    "        toPlot = [state_fidelity(aR[:2**L], eigenvectors_sort[:, i]) for i in range(10)]\n",
    "        plt.plot([i for i in range(len(toPlot))], toPlot)\n",
    "        plt.scatter([i for i in range(len(toPlot))], toPlot)\n",
    "        #plt.show()\n",
    "        print(\"State Fid: \", toPlot[0])\n",
    "    \n",
    "        mid_cbits = len(qcs_qetu)\n",
    "        qc = qiskit.QuantumCircuit(L+1, 1 + mid_cbits)\n",
    "        qc.initialize(np.kron(ket_0, state))\n",
    "        if qc_init is not None:\n",
    "            qc.append(qc_init.to_gate(), [i for i in range(L)])\n",
    "        for j, qc_qetu in enumerate(qcs_qetu):\n",
    "            qc.append(qc_qetu.to_gate(), [i for i in range(L+1)])\n",
    "            qc.measure(L, j)\n",
    "            \n",
    "        noise_model = NoiseModel()\n",
    "        tr = transpile(qc, basis_gates=noise_model.basis_gates+['unitary', 'initialize', 'cx'])\n",
    "        dag = circuit_to_dag(tr)\n",
    "        count_ops = dag.count_ops()\n",
    "\n",
    "        counts_q = {}\n",
    "        for i in range(L+1):\n",
    "            counts_q[i] = {\"s\": 0, \"d\": 0}\n",
    "        \n",
    "        for gate in tr.data:\n",
    "            if len(gate.qubits) == 1:\n",
    "                counts_q[gate.qubits[0].index][\"s\"] += 1\n",
    "            elif len(gate.qubits) == 2:\n",
    "                counts_q[gate.qubits[0].index][\"d\"] += 1\n",
    "                counts_q[gate.qubits[1].index][\"d\"] += 1\n",
    "        counts_q[\"gates\"] = count_ops['unitary'] + count_ops['cx']\n",
    "        \n",
    "        if return_poly:\n",
    "            return toPlot, counts_q, aR[:2**L], phis_[2]\n",
    "        return toPlot, counts_q, aR[:2**L]"
   ]
  },
  {
   "cell_type": "code",
   "execution_count": 224,
   "id": "ec863a64-90db-4294-8b83-85a2766c601b",
   "metadata": {},
   "outputs": [],
   "source": [
    "\"\"\"\n",
    "    Adiabatic Evolution Implementation.\n",
    "\"\"\"\n",
    "from qiskit import Aer, transpile, execute\n",
    "from qiskit.converters import circuit_to_dag\n",
    "from qiskit.providers.aer.noise import NoiseModel, errors\n",
    "from qiskit import Aer, execute, transpile\n",
    "X = np.array([[0.,  1.], [1.,  0.]])\n",
    "Z = np.array([[1.,  0.], [0., -1.]])\n",
    "\n",
    "\n",
    "def trotter(Lx, Ly, tau, L, J_i, h_i, g_i, J_f, h_f, g_f, lamb, perms):\n",
    "    L = Lx * Ly\n",
    "    assert lamb <= 1 and lamb >= 0\n",
    "    J = lamb*J_f + (1-lamb)*J_i\n",
    "    g = lamb*g_f + (1-lamb)*g_i\n",
    "    h = lamb*h_f + (1-lamb)*h_i\n",
    "    perms1, perms2, perms3 = perms\n",
    "\n",
    "    qc = qiskit.QuantumCircuit(L)\n",
    "    hloc1 = J*np.kron(Z, Z)\n",
    "    hloc2 = g*(np.kron(X, I2)+np.kron(I2, X))/6\n",
    "    hlocs = (hloc2, hloc1)\n",
    "        \n",
    "    perms = perms1+perms2+perms3\n",
    "    perm_set = perms\n",
    "    \n",
    "    indices = [0 , 1,  0]\n",
    "    coeffs  = [.5, 1, .5]\n",
    "\n",
    "    Vlist_start = []\n",
    "    perms = []\n",
    "    for i, c in zip(indices, coeffs):\n",
    "        Vlist_start.append(scipy.linalg.expm(-1j*c*tau*hlocs[i]))\n",
    "        perms.append(perm_set[i])\n",
    "    Vlist_gates = []\n",
    "    for V in Vlist_start:\n",
    "        qc2 = qiskit.QuantumCircuit(2)\n",
    "        qc2.unitary(V, [0, 1])\n",
    "        Vlist_gates.append(qc2)\n",
    "    \n",
    "    for layer, qc_gate in enumerate(Vlist_gates):\n",
    "        for perm in perms:\n",
    "            for j in range(len(perm)//2):\n",
    "                qc.append(qc_gate.to_gate(), [L-(perm[2*j]+1), L-(perm[2*j+1]+1)])\n",
    "    return qc\n",
    "\n",
    "\n",
    "def construct_ising_local_term_(J, g, ndim, h=0):\n",
    "    X = np.array([[0.,  1.], [1.,  0.]])\n",
    "    Z = np.array([[1.,  0.], [0., -1.]])\n",
    "    I = np.identity(2)\n",
    "    return J*np.kron(Z, Z) + g*(0.5/ndim)*(np.kron(X, I) + np.kron(I, X)) + h*(0.5/ndim)*(np.kron(Z, I) + np.kron(I, Z))\n",
    "\n",
    "\n",
    "def run_adiabatic(Lx, Ly, g, T, S, perms, state=None, return_state=False, h_i=0, h_f=0):\n",
    "    L = Lx*Ly\n",
    "    tau = 1/S\n",
    "    t_s = np.linspace(0, T, S*T)\n",
    "    sch = lambda t, T: np.sin(np.pi*t/(2*T))**2\n",
    "    \n",
    "    qc = qiskit.QuantumCircuit(L)\n",
    "    if state is not None:\n",
    "        pass\n",
    "    else:\n",
    "        qc.x([i for i in range(L)])\n",
    "        qc.h([i for i in range(L)])\n",
    "    for s in range(S*T):\n",
    "        qc.append(trotter(Lx, Ly, tau, L, J, h_i, 0, J, h_f, g, sch(t_s[s], T), perms).to_gate(), [i for i in range(L)])\n",
    "    \n",
    "    backend = Aer.get_backend(\"statevector_simulator\")\n",
    "    qc_ = qiskit.QuantumCircuit(L)\n",
    "    if state is not None:\n",
    "        qc_.initialize(state)\n",
    "    qc_.append(qc.to_gate(), [i for i in range(L)])\n",
    "    final = execute(transpile(qc_), backend).result().get_statevector().data\n",
    "    print(\"AQC: \", [np.linalg.norm(np.vdot(final, eigenvectors_sort[:, i]))**2 for i in range(20)])\n",
    "\n",
    "    \n",
    "    if return_state:\n",
    "        return qc\n",
    "    else:\n",
    "        noise_model = NoiseModel()\n",
    "        dag = circuit_to_dag(transpile(qc_, basis_gates=['unitary', 'u3', 'initialize']))\n",
    "        count_ops = dag.count_ops()\n",
    "        print(count_ops)\n",
    "        #return [state_fidelity(final, eigenvectors_sort[:, i]) for i in range(10)], {\"gates\": count_ops}, final\n"
   ]
  },
  {
   "cell_type": "code",
   "execution_count": 218,
   "id": "cc1af126-5fcc-4d33-b4b4-6941bc08ff2b",
   "metadata": {},
   "outputs": [
    {
     "data": {
      "text/plain": [
       "array([-43.54184379, -39.9200887 , -39.9200887 , -39.9200887 ,\n",
       "       -39.91813547, -39.91813547, -39.91813547, -39.91813547,\n",
       "       -39.91813547, -39.91813547,  36.99699884,  36.99699884,\n",
       "        36.99699884,  36.99699884,  37.01045377,  37.01045377,\n",
       "        37.01045377,  37.01045377,  37.01045377,  37.01045377,\n",
       "        37.01478564,  37.01478564,  37.01478564,  37.01478564,\n",
       "        37.01478564,  37.01478564,  37.51240402,  37.51240402,\n",
       "        37.51240402,  37.5478799 ,  37.5478799 ,  37.5478799 ,\n",
       "        37.5568465 ,  37.5568465 ,  38.10404524,  38.10404524,\n",
       "        38.10404524,  38.1045052 ,  38.1045052 ,  38.1045052 ,\n",
       "        38.1045052 ,  38.1045052 ,  38.1045052 ,  38.33841364,\n",
       "        38.33841364,  38.33841364,  38.33841364,  38.33841364,\n",
       "        38.33841364,  38.50845349,  38.50845349,  38.50845349,\n",
       "        38.8451185 ,  38.8451185 ,  38.8451185 ,  38.8451185 ,\n",
       "        38.8451185 ,  38.8451185 ,  39.15842539,  40.01369271,\n",
       "        40.01369271,  40.01369271,  40.01369271,  40.01369271,\n",
       "        40.01369271,  41.61724125,  44.38292569,  44.38292569,\n",
       "        44.38292569,  44.38523492,  44.38523492,  44.38523492,\n",
       "        44.38523492,  44.38523492,  44.38523492,  44.39497232,\n",
       "        44.39497232,  44.39497232,  44.39724484,  44.39724484,\n",
       "        44.39724484,  44.39724484,  44.39724484,  44.39724484,\n",
       "        45.47592318,  45.47592318,  45.47592318,  45.47592318,\n",
       "        45.47592318,  45.47592318,  45.52224057,  45.52224057,\n",
       "        45.52224057,  45.52224057,  45.52224057,  45.52224057,\n",
       "        46.58409588,  46.82754108,  56.41200336,  56.41320506])"
      ]
     },
     "execution_count": 218,
     "metadata": {},
     "output_type": "execute_result"
    }
   ],
   "source": [
    "J = 1\n",
    "g = 2.5 # somewhere 2.7-2.8 is the PT point.\n",
    "Lx, Ly = (4, 4)\n",
    "L = Lx*Ly\n",
    "latt = qib.lattice.TriangularLattice((Lx, Ly), pbc=True)\n",
    "field = qib.field.Field(qib.field.ParticleType.QUBIT, latt)\n",
    "\n",
    "\"\"\"H_i = qib.IsingHamiltonian(field, J, 0, 1e-6).as_matrix()\n",
    "eigenvalues, eigenvectors = scipy.sparse.linalg.eigsh(H_i, k=20)\n",
    "#eigenvalues, eigenvectors = np.linalg.eig(H_i.toarray())\n",
    "idx = eigenvalues.argsort()\n",
    "eigenvectors_sort = eigenvectors[:,idx]\n",
    "eigenvalues_sort = eigenvalues[idx]\n",
    "state = eigenvectors_sort[:, 0]\"\"\"\n",
    "\n",
    "\n",
    "hamil = qib.IsingHamiltonian(field, J, h, g).as_matrix()\n",
    "eigenvalues, eigenvectors = scipy.sparse.linalg.eigsh(hamil, k=100)\n",
    "#eigenvalues, eigenvectors = np.linalg.eig(hamil.toarray())\n",
    "idx = eigenvalues.argsort()\n",
    "eigenvalues_sort = eigenvalues[idx]\n",
    "eigenvectors_sort = eigenvectors[:,idx]\n",
    "eigenvalues_sort"
   ]
  },
  {
   "cell_type": "code",
   "execution_count": 219,
   "id": "a6b82544-14ef-4f91-a654-e12e6a3cea96",
   "metadata": {},
   "outputs": [],
   "source": [
    "state = psi.data"
   ]
  },
  {
   "cell_type": "code",
   "execution_count": 229,
   "id": "4dfd0b34-ee09-44dd-8b3c-635129500406",
   "metadata": {},
   "outputs": [
    {
     "name": "stdout",
     "output_type": "stream",
     "text": [
      "AQC:  [0.11222010035860364, 6.330774349234854e-31, 2.853793714869819e-31, 6.264579452908553e-30, 2.9291318824979893e-31, 1.0179411032499371e-30, 2.419011738540219e-31, 5.81018645747037e-31, 1.8527131032519186e-31, 3.9289017885273644e-32, 1.35376541596418e-34, 1.3700519636632195e-32, 5.800668810319547e-33, 2.3887657105337447e-32, 4.9370136489920675e-31, 3.315219240443647e-31, 5.432782241195366e-34, 9.785990470595544e-35, 5.81599299548725e-31, 2.0781456721479238e-32]\n",
      "QETU t:  0.16325465704222833\n",
      "Constructing QETU sequence\n",
      "Success Prob:  0.3219640497868274\n",
      "State Fid:  0.26996139140352404\n",
      "\n",
      " AQC+F:  0.26996139140352404 \n",
      "\n",
      "\n",
      " CXs:  4040 \n",
      "\n"
     ]
    },
    {
     "name": "stderr",
     "output_type": "stream",
     "text": [
      "/tmp/ipykernel_42029/4223365128.py:84: DeprecationWarning: The property ``qiskit.circuit.bit.Bit.index`` is deprecated as of qiskit-terra 0.17. It will be removed no earlier than 3 months after the release date. Instead, use :meth:`~qiskit.circuit.quantumcircuit.QuantumCircuit.find_bit` to find all the containing registers within a circuit and the index of the bit within the circuit.\n",
      "  counts_q[gate.qubits[0].index][\"d\"] += 1\n",
      "/tmp/ipykernel_42029/4223365128.py:85: DeprecationWarning: The property ``qiskit.circuit.bit.Bit.index`` is deprecated as of qiskit-terra 0.17. It will be removed no earlier than 3 months after the release date. Instead, use :meth:`~qiskit.circuit.quantumcircuit.QuantumCircuit.find_bit` to find all the containing registers within a circuit and the index of the bit within the circuit.\n",
      "  counts_q[gate.qubits[1].index][\"d\"] += 1\n",
      "/tmp/ipykernel_42029/4223365128.py:82: DeprecationWarning: The property ``qiskit.circuit.bit.Bit.index`` is deprecated as of qiskit-terra 0.17. It will be removed no earlier than 3 months after the release date. Instead, use :meth:`~qiskit.circuit.quantumcircuit.QuantumCircuit.find_bit` to find all the containing registers within a circuit and the index of the bit within the circuit.\n",
      "  counts_q[gate.qubits[0].index][\"s\"] += 1\n"
     ]
    },
    {
     "data": {
      "image/png": "[encoded data removed]",
      "text/plain": [
       "<Figure size 640x480 with 1 Axes>"
      ]
     },
     "metadata": {},
     "output_type": "display_data"
    }
   ],
   "source": [
    "spectrum_upper_bound = eigenvalues_sort[1].real + 5\n",
    "spectrum_lower_bound = eigenvalues_sort[0].real - 1\n",
    "max_spectrum_length = spectrum_upper_bound - spectrum_lower_bound\n",
    "c1 = (np.pi) / (max_spectrum_length)\n",
    "c2 = - c1 * spectrum_lower_bound\n",
    "eigenvalues_tr = eigenvalues_sort * c1 + c2\n",
    "a_values = np.array([np.cos(eig/2) for eig in eigenvalues_tr])\n",
    "\n",
    "qc_A = run_adiabatic(Lx, Ly, g, 2, 4, (perms_1, perms_2, perms_3), state=state, return_state=True)\n",
    "fid, gates, final = run_qetu(Lx, Ly, g, c1, c2, perms_1, perms_2, perms_3, mu=0.8, d=4, M=1, qc_init=qc_A, state=state, dt=0.05)\n",
    "print('\\n AQC+F: ', fid[0], '\\n')\n",
    "print('\\n CXs: ', gates['gates'], '\\n')"
   ]
  },
  {
   "cell_type": "code",
   "execution_count": 221,
   "id": "21b33650-5350-4066-a275-dbac7cd91789",
   "metadata": {},
   "outputs": [
    {
     "data": {
      "text/plain": [
       "0.006465099905567391"
      ]
     },
     "execution_count": 221,
     "metadata": {},
     "output_type": "execute_result"
    }
   ],
   "source": [
    "np.sum(np.array([np.abs(np.vdot(state, eigenvectors_sort[:, i]))**2 for i in range(7)]))"
   ]
  },
  {
   "cell_type": "code",
   "execution_count": 171,
   "id": "15ee7bf7-4f16-4d85-8dc3-8bebd6987c3b",
   "metadata": {},
   "outputs": [
    {
     "data": {
      "text/plain": [
       "[<matplotlib.lines.Line2D at 0x17d3c3a30>]"
      ]
     },
     "execution_count": 171,
     "metadata": {},
     "output_type": "execute_result"
    },
    {
     "data": {
      "image/png": "[encoded data removed]",
      "text/plain": [
       "<Figure size 640x480 with 1 Axes>"
      ]
     },
     "metadata": {},
     "output_type": "display_data"
    }
   ],
   "source": [
    "plt.plot([4, 9, 16], [-10.42, -24.6883855, -44])"
   ]
  },
  {
   "cell_type": "code",
   "execution_count": 184,
   "id": "800d1c59-e3af-4db6-832e-4e98f2e0a2c3",
   "metadata": {},
   "outputs": [
    {
     "data": {
      "text/plain": [
       "18.8"
      ]
     },
     "execution_count": 184,
     "metadata": {},
     "output_type": "execute_result"
    }
   ],
   "source": [
    "9.8 + 9"
   ]
  },
  {
   "cell_type": "code",
   "execution_count": null,
   "id": "9f9fc455-5914-4383-9776-f5fcd6dd8db9",
   "metadata": {},
   "outputs": [],
   "source": [
    "H_i = qib.IsingHamiltonian(field, J, 0, 1e-6).as_matrix()\n",
    "eigenvalues, eigenvectors = scipy.sparse.linalg.eigsh(H_i, k=1000)\n",
    "#eigenvalues, eigenvectors = np.linalg.eig(H_i.toarray())\n",
    "idx = eigenvalues.argsort()\n",
    "eigenvectors_sort_i = eigenvectors[:,idx]\n",
    "eigenvalues_sort_i = eigenvalues[idx]\n",
    "state = eigenvectors_sort_i[:, 0]\n",
    "\n",
    "eigenvalues_sort_i"
   ]
  },
  {
   "cell_type": "code",
   "execution_count": 199,
   "id": "0497830f-84f9-4eba-bc30-6b7d59a5d3c8",
   "metadata": {},
   "outputs": [],
   "source": [
    "def eval_energy(config):\n",
    "    e = 0\n",
    "    for perm in perms_1+perms_2+perms_3:\n",
    "        for j in range(len(perm)//2):\n",
    "            e += 1 if config[perm[2*j]]==config[perm[2*j+1]] else -1\n",
    "    return e"
   ]
  },
  {
   "cell_type": "code",
   "execution_count": 211,
   "id": "26ae38d5-0ed4-4644-a612-d6a3732f760f",
   "metadata": {},
   "outputs": [
    {
     "data": {
      "text/plain": [
       "-16"
      ]
     },
     "execution_count": 211,
     "metadata": {},
     "output_type": "execute_result"
    }
   ],
   "source": [
    "from itertools import product\n",
    "\n",
    "e = 48\n",
    "gs = '0'*L\n",
    "gss = []\n",
    "bitstrings = [''.join(bits) for bits in product('01', repeat=16)]\n",
    "for bitstring in bitstrings:\n",
    "    if eval_energy(bitstring) < e:\n",
    "        gs = bitstring\n",
    "        e = eval_energy(bitstring)\n",
    "    if eval_energy(bitstring) == -16:\n",
    "        gss.append(bitstring)\n",
    "e"
   ]
  },
  {
   "cell_type": "code",
   "execution_count": null,
   "id": "d997eac2-ece3-4580-945d-05e57ce4e24c",
   "metadata": {},
   "outputs": [],
   "source": [
    "from qiskit import QuantumCircuit\n",
    "from qiskit.quantum_info import Statevector\n",
    "import numpy as np\n",
    "\n",
    "\n",
    "ground_states = gss\n",
    "n = len(ground_states[0])\n",
    "dim = 2**n\n",
    "\n",
    "state = np.zeros(dim, dtype=complex)\n",
    "for s in ground_states:\n",
    "    index = int(s, 2)\n",
    "    state[index] = 1 / np.sqrt(len(ground_states))\n",
    "psi = Statevector(state)\n",
    "\n",
    "\n",
    "qc = QuantumCircuit(n)\n",
    "qc.initialize(psi.data, qc.qubits)\n",
    "qc.draw('mpl')"
   ]
  },
  {
   "cell_type": "code",
   "execution_count": 231,
   "id": "bd68d4a2-597f-4265-bf1f-cb51a26a23c0",
   "metadata": {},
   "outputs": [
    {
     "data": {
      "text/plain": [
       "array([29.26722374, 29.26722374, 29.2672392 , 29.2672392 , 29.34864237,\n",
       "       29.34864237, 29.34864237, 29.34864237, 29.34864237, 29.34864237,\n",
       "       29.3486453 , 29.3486453 , 29.3486453 , 29.3486453 , 29.3486453 ,\n",
       "       29.3486453 , 29.48158738, 29.48158738, 29.48158738, 29.48158738,\n",
       "       29.48158738, 29.48158738, 29.48159502, 29.48159502, 29.48159502,\n",
       "       29.48159502, 29.48159502, 29.48159502, 29.49070957, 29.49070957,\n",
       "       29.49070957, 29.49071087, 29.49071087, 29.49071087, 29.71541535,\n",
       "       29.71541535, 29.71541535, 29.71541535, 29.71541535, 29.71541535,\n",
       "       29.71544444, 29.71544444, 29.71544444, 29.71544444, 29.71544444,\n",
       "       29.71544444, 29.7157834 , 29.7157834 , 29.7157834 , 29.71582576,\n",
       "       29.71582576, 29.71582576, 29.86615804, 29.86615804, 29.86615804,\n",
       "       29.86615804, 29.86615804, 29.86615804, 29.86635142, 29.86635142,\n",
       "       29.86635142, 29.86635142, 29.86635142, 29.86635142, 29.96668721,\n",
       "       29.96747398, 37.33461583, 37.33461583, 37.33461583, 37.3346159 ,\n",
       "       37.3346159 , 37.3346159 , 37.33463522, 37.33463522, 37.33463522,\n",
       "       37.33463522, 37.33463522, 37.33463522, 37.33463529, 37.33463529,\n",
       "       37.33463529, 37.33463529, 37.33463529, 37.33463529, 37.50325976,\n",
       "       37.50325976, 37.50325976, 37.50325976, 37.50325976, 37.50325976,\n",
       "       37.50326015, 37.50326015, 37.50326015, 37.50326015, 37.50326015,\n",
       "       37.50326015, 37.67316784, 37.6731707 , 49.33521061, 49.33521061])"
      ]
     },
     "execution_count": 231,
     "metadata": {},
     "output_type": "execute_result"
    }
   ],
   "source": [
    "J = 1\n",
    "g = 1 # somewhere 2.7-2.8 is the PT point.\n",
    "Lx, Ly = (4, 4)\n",
    "L = Lx*Ly\n",
    "latt = qib.lattice.TriangularLattice((Lx, Ly), pbc=True)\n",
    "field = qib.field.Field(qib.field.ParticleType.QUBIT, latt)\n",
    "\n",
    "hamil = qib.IsingHamiltonian(field, J, h, g).as_matrix()\n",
    "eigenvalues, eigenvectors = scipy.sparse.linalg.eigsh(hamil, k=100)\n",
    "#eigenvalues, eigenvectors = np.linalg.eig(hamil.toarray())\n",
    "idx = eigenvalues.argsort()\n",
    "eigenvalues_sort = eigenvalues[idx]\n",
    "eigenvectors_sort = eigenvectors[:,idx]\n",
    "eigenvalues_sort"
   ]
  },
  {
   "cell_type": "code",
   "execution_count": 233,
   "id": "52ad5275-4b05-4fd1-919b-04aee586a821",
   "metadata": {},
   "outputs": [
    {
     "name": "stdout",
     "output_type": "stream",
     "text": [
      "AQC:  [3.597444303924867e-33, 8.17804741607482e-35, 8.520856573114442e-33, 5.317365370275304e-36, 1.359177774359678e-33, 9.072088125915945e-33, 3.386037839494732e-35, 8.795266505442225e-33, 4.7172276993248935e-33, 4.6809324251014136e-34, 6.251156916971967e-34, 1.825860313418879e-32, 1.5199993914923975e-34, 1.1235436191608762e-33, 2.646474941796919e-35, 3.1763927548838814e-33, 2.8486922746048353e-35, 1.3991515015131134e-33, 2.0421928365947598e-34, 8.175214112163647e-33]\n",
      "QETU t:  0.2617993877991485\n",
      "Constructing QETU sequence\n",
      "Success Prob:  0.3940244126786867\n",
      "State Fid:  5.570707382883129e-33\n",
      "\n",
      " AQC+F:  5.570707382883129e-33 \n",
      "\n",
      "\n",
      " CXs:  5192 \n",
      "\n"
     ]
    },
    {
     "name": "stderr",
     "output_type": "stream",
     "text": [
      "/tmp/ipykernel_42029/4223365128.py:82: DeprecationWarning: The property ``qiskit.circuit.bit.Bit.index`` is deprecated as of qiskit-terra 0.17. It will be removed no earlier than 3 months after the release date. Instead, use :meth:`~qiskit.circuit.quantumcircuit.QuantumCircuit.find_bit` to find all the containing registers within a circuit and the index of the bit within the circuit.\n",
      "  counts_q[gate.qubits[0].index][\"s\"] += 1\n",
      "/tmp/ipykernel_42029/4223365128.py:84: DeprecationWarning: The property ``qiskit.circuit.bit.Bit.index`` is deprecated as of qiskit-terra 0.17. It will be removed no earlier than 3 months after the release date. Instead, use :meth:`~qiskit.circuit.quantumcircuit.QuantumCircuit.find_bit` to find all the containing registers within a circuit and the index of the bit within the circuit.\n",
      "  counts_q[gate.qubits[0].index][\"d\"] += 1\n",
      "/tmp/ipykernel_42029/4223365128.py:85: DeprecationWarning: The property ``qiskit.circuit.bit.Bit.index`` is deprecated as of qiskit-terra 0.17. It will be removed no earlier than 3 months after the release date. Instead, use :meth:`~qiskit.circuit.quantumcircuit.QuantumCircuit.find_bit` to find all the containing registers within a circuit and the index of the bit within the circuit.\n",
      "  counts_q[gate.qubits[1].index][\"d\"] += 1\n"
     ]
    },
    {
     "data": {
      "image/png": "[encoded data removed]",
      "text/plain": [
       "<Figure size 640x480 with 1 Axes>"
      ]
     },
     "metadata": {},
     "output_type": "display_data"
    }
   ],
   "source": [
    "spectrum_upper_bound = eigenvalues_sort[1].real + 5\n",
    "spectrum_lower_bound = eigenvalues_sort[0].real - 1\n",
    "max_spectrum_length = spectrum_upper_bound - spectrum_lower_bound\n",
    "c1 = (np.pi) / (max_spectrum_length)\n",
    "c2 = - c1 * spectrum_lower_bound\n",
    "eigenvalues_tr = eigenvalues_sort * c1 + c2\n",
    "a_values = np.array([np.cos(eig/2) for eig in eigenvalues_tr])\n",
    "\n",
    "qc_A = run_adiabatic(Lx, Ly, g, 0, 4, (perms_1, perms_2, perms_3), state=state, return_state=True)\n",
    "fid, gates, final = run_qetu(Lx, Ly, g, c1, c2, perms_1, perms_2, perms_3, mu=0.8, d=4, M=1, qc_init=qc_A, state=state, dt=0.05)\n",
    "print('\\n AQC+F: ', fid[0], '\\n')\n",
    "print('\\n CXs: ', gates['gates'], '\\n')"
   ]
  },
  {
   "cell_type": "code",
   "execution_count": null,
   "id": "cb14a64d-4e09-4b6a-87e1-84d4424cdfc0",
   "metadata": {},
   "outputs": [],
   "source": []
  }
 ],
 "metadata": {
  "kernelspec": {
   "display_name": "Python3.10 (qc)",
   "language": "python",
   "name": "qc"
  },
  "language_info": {
   "codemirror_mode": {
    "name": "ipython",
    "version": 3
   },
   "file_extension": ".py",
   "mimetype": "text/x-python",
   "name": "python",
   "nbconvert_exporter": "python",
   "pygments_lexer": "ipython3",
   "version": "3.10.13"
  }
 },
 "nbformat": 4,
 "nbformat_minor": 5
}
