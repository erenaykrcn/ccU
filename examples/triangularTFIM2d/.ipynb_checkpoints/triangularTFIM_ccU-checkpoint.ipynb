{
 "cells": [
  {
   "cell_type": "code",
   "execution_count": 3,
   "id": "75c4d9fa-f11f-4833-90e0-36ed8c69777f",
   "metadata": {},
   "outputs": [
    {
     "name": "stdout",
     "output_type": "stream",
     "text": [
      "Trotter error:  0.29176845133312607\n"
     ]
    }
   ],
   "source": [
    "import numpy as np\n",
    "import qiskit\n",
    "from qiskit.quantum_info import state_fidelity\n",
    "from numpy import linalg as LA\n",
    "import qib\n",
    "import matplotlib.pyplot as plt\n",
    "import scipy\n",
    "import h5py\n",
    "\n",
    "import sys\n",
    "sys.path.append(\"../../src/brickwall_sparse\")\n",
    "from utils_sparse import construct_ising_local_term, reduce_list, X, I2, get_perms\n",
    "from ansatz_sparse import ansatz_sparse\n",
    "import rqcopt as oc\n",
    "from scipy.sparse.linalg import expm_multiply\n",
    "from qiskit.quantum_info import random_statevector\n",
    "from scipy.linalg import expm\n",
    "\n",
    "Lx, Ly = (4, 4)\n",
    "L = Lx*Ly\n",
    "t = 0.25\n",
    "# construct Hamiltonian\n",
    "latt = qib.lattice.TriangularLattice((Lx, Ly), pbc=True)\n",
    "field = qib.field.Field(qib.field.ParticleType.QUBIT, latt)\n",
    "J, h, g = (1, 0, 3)\n",
    "hamil = qib.IsingHamiltonian(field, J, h, g).as_matrix()\n",
    "eigenvalues, eigenvectors = scipy.sparse.linalg.eigsh(hamil, k=10)\n",
    "idx = eigenvalues.argsort()\n",
    "eigenvalues_sort = eigenvalues[idx]\n",
    "eigenvectors_sort = eigenvectors[:,idx]\n",
    "ground_state = eigenvectors_sort[:, 0]\n",
    "\n",
    "hloc1 = construct_ising_local_term(J, 0, 0, ndim=2)\n",
    "hloc2 = g*(np.kron(X, I2)+np.kron(I2, X))/6\n",
    "perms_1 = [[0, 1, 2, 3, 4, 5, 6, 7, 8, 9, 10, 11, 12, 13, 14, 15], [1, 2, 3, 0, 5, 6, 7, 4, 9, 10, 11, 8, 13, 14, 15, 12]]\n",
    "perms_2 = [[0, 5, 10, 15, 3, 4, 9, 14, 2, 7, 8, 13, 1, 6, 11, 12], [5, 10, 15, 0, 4, 9, 14, 3, 7, 8, 13, 2, 6, 11, 12, 1]]\n",
    "perms_3 = [[0, 4, 8, 12, 1, 5, 9, 13, 2, 6, 10, 14, 3, 7, 11, 15], [4, 8, 12, 0, 5, 9, 13, 1, 6, 10, 14, 2, 7, 11, 15, 3]]\n",
    "\n",
    "Vlist_3 = [expm(-1j*t*hloc1/2) , expm(-1j*t*hloc2), expm(-1j*t*hloc1/2)]\n",
    "Vlist_2 = [expm(-1j*t*hloc1/4), expm(-1j*t*hloc2/2), expm(-1j*t*hloc1/4)]\n",
    "Vlist_1 = [expm(-1j*t*hloc1/4), expm(-1j*t*hloc2/2), expm(-1j*t*hloc1/4)]\n",
    "Vlist_start    = Vlist_1 + Vlist_2 + Vlist_3 + Vlist_2 + Vlist_1\n",
    "perms_extended = [perms_1]*3 + [perms_2]*3 + [perms_3]*3 + [perms_2]*3 + [perms_1]*3\n",
    "\n",
    "state = np.array(random_statevector(2**L).data)\n",
    "print(\"Trotter error: \", np.linalg.norm(ansatz_sparse(Vlist_start, L, perms_extended, state) - expm_multiply(\n",
    "    -1j * t * hamil, state), ord=2))"
   ]
  },
  {
   "cell_type": "code",
   "execution_count": 6,
   "id": "2c7d3793-5c66-42c3-8185-2950e895784c",
   "metadata": {},
   "outputs": [],
   "source": [
    "X = np.array([[0, 1], [1, 0]])\n",
    "Z = np.array([[1, 0], [0, -1]])\n",
    "Y = np.array([[0, -1j], [1j, 0]])\n",
    "I2 = np.array([[1, 0], [0, 1]])\n",
    "\n",
    "V1 = scipy.linalg.expm(-1j*t*hloc1/4)\n",
    "V2 = scipy.linalg.expm(-1j*t*hloc2/2)\n",
    "V3 = scipy.linalg.expm(-1j*t*hloc1/2)\n",
    "V4 = scipy.linalg.expm(-1j*t*hloc2)\n",
    "YZ = np.kron(Y, Z)\n",
    "\n",
    "Vlist_start = [YZ, V1, V2, V1, YZ]*2 +  [YZ, V3, V4, V3, YZ]  + [YZ, V1, V2, V1, YZ]*2\n",
    "Vlist_reduced = [V1, V2, V1]*2 +  [V3, V4, V3]  + [V1, V2, V1]*2\n",
    "\n",
    "perms_extended = [[perms_1[0]]] + [perms_1]*3 + [[perms_1[0]], [perms_2[0]]] +\\\n",
    "                    [perms_2]*3 + [[perms_2[0]], [perms_3[0]]] + [perms_3]*3 + [[perms_3[0]], [perms_2[0]]] +\\\n",
    "                    [perms_2]*3 + [[perms_2[0]], [perms_1[0]]] + [perms_1]*3 + [[perms_1[0]]]\n",
    "perms_ext_reduced = [perms_1]*3  + [perms_2]*3 + [perms_3]*3 + [perms_2]*3 + [perms_1]*3\n",
    "control_layers = [0, 4, 5, 9, 10, 14, 15, 19, 20, 24] # 10 control layers"
   ]
  },
  {
   "cell_type": "code",
   "execution_count": 9,
   "id": "caca93a7-1bf3-4d35-92dc-dcaa39c0511f",
   "metadata": {},
   "outputs": [
    {
     "name": "stdout",
     "output_type": "stream",
     "text": [
      "Trotter error of the starting point:  0.2887604743553296\n",
      "fidelity:  0.9183581579153954\n"
     ]
    }
   ],
   "source": [
    "# 12 layers with 6 being controlled, 9 parameters in total.\n",
    "state = random_statevector(2**L).data\n",
    "print(\"Trotter error of the starting point: \", (np.linalg.norm(ansatz_sparse(Vlist_start, L, perms_extended, state) - expm_multiply(\n",
    "    1j * t * hamil, state), ord=2) + np.linalg.norm(ansatz_sparse(Vlist_reduced, L, perms_ext_reduced, state) - expm_multiply(\n",
    "    -1j * t * hamil, state), ord=2))/2)\n",
    "\n",
    "print('fidelity: ', (state_fidelity(ansatz_sparse(Vlist_start, L, perms_extended, state), expm_multiply(\n",
    "    1j * t * hamil, state)) + state_fidelity(ansatz_sparse(Vlist_reduced, L, perms_ext_reduced, state), expm_multiply(\n",
    "    -1j * t * hamil, state)))/2)\n"
   ]
  },
  {
   "cell_type": "code",
   "execution_count": 10,
   "id": "29b20401-17e6-4a8d-9efe-5f486d3eb03d",
   "metadata": {},
   "outputs": [
    {
     "name": "stdout",
     "output_type": "stream",
     "text": [
      "Current error:  0.2895290451855035\n"
     ]
    },
    {
     "ename": "KeyboardInterrupt",
     "evalue": "",
     "output_type": "error",
     "traceback": [
      "\u001b[0;31m---------------------------------------------------------------------------\u001b[0m",
      "\u001b[0;31mKeyboardInterrupt\u001b[0m                         Traceback (most recent call last)",
      "Cell \u001b[0;32mIn[10], line 3\u001b[0m\n\u001b[1;32m      1\u001b[0m \u001b[38;5;28;01mfrom\u001b[39;00m \u001b[38;5;21;01moptimize_sparse\u001b[39;00m \u001b[38;5;28;01mimport\u001b[39;00m optimize, err\n\u001b[0;32m----> 3\u001b[0m Vlist, f_iter, err_iter \u001b[38;5;241m=\u001b[39m \u001b[43moptimize\u001b[49m\u001b[43m(\u001b[49m\u001b[43mL\u001b[49m\u001b[43m,\u001b[49m\u001b[43m \u001b[49m\u001b[43mhamil\u001b[49m\u001b[43m,\u001b[49m\u001b[43m \u001b[49m\u001b[43mt\u001b[49m\u001b[43m,\u001b[49m\u001b[43m \u001b[49m\u001b[43mVlist_start\u001b[49m\u001b[43m,\u001b[49m\u001b[43m \u001b[49m\u001b[43mperms_extended\u001b[49m\u001b[43m,\u001b[49m\u001b[43m \u001b[49m\u001b[43mperms_reduced\u001b[49m\u001b[38;5;241;43m=\u001b[39;49m\u001b[43mperms_ext_reduced\u001b[49m\u001b[43m,\u001b[49m\u001b[43m \u001b[49m\n\u001b[1;32m      4\u001b[0m \u001b[43m                                   \u001b[49m\u001b[43mcontrol_layers\u001b[49m\u001b[38;5;241;43m=\u001b[39;49m\u001b[43mcontrol_layers\u001b[49m\u001b[43m,\u001b[49m\u001b[43m \u001b[49m\u001b[43mrS\u001b[49m\u001b[38;5;241;43m=\u001b[39;49m\u001b[38;5;241;43m1\u001b[39;49m\u001b[43m,\u001b[49m\u001b[43m \u001b[49m\u001b[43mniter\u001b[49m\u001b[38;5;241;43m=\u001b[39;49m\u001b[38;5;241;43m5\u001b[39;49m\u001b[43m)\u001b[49m\n\u001b[1;32m      5\u001b[0m plt\u001b[38;5;241m.\u001b[39mplot(err_iter)\n\u001b[1;32m      6\u001b[0m plt\u001b[38;5;241m.\u001b[39myscale(\u001b[38;5;124m'\u001b[39m\u001b[38;5;124mlog\u001b[39m\u001b[38;5;124m'\u001b[39m)\n",
      "File \u001b[0;32m~/Desktop/QC/ccU/examples/triangularTFIM2d/../../src/brickwall_sparse/optimize_sparse.py:120\u001b[0m, in \u001b[0;36moptimize\u001b[0;34m(L, hamil, t, Vlist_start, perms, perms_reduced, control_layers, rS, **kwargs)\u001b[0m\n\u001b[1;32m    117\u001b[0m         \u001b[38;5;28;01mreturn\u001b[39;00m e\u001b[38;5;241m/\u001b[39m(\u001b[38;5;241m2\u001b[39m\u001b[38;5;241m*\u001b[39mrS)\n\u001b[1;32m    119\u001b[0m kwargs[\u001b[38;5;124m\"\u001b[39m\u001b[38;5;124mgfunc\u001b[39m\u001b[38;5;124m\"\u001b[39m] \u001b[38;5;241m=\u001b[39m errfunc\n\u001b[0;32m--> 120\u001b[0m Vlist, f_iter, err_iter \u001b[38;5;241m=\u001b[39m \u001b[43mriemannian_trust_region_optimize\u001b[49m\u001b[43m(\u001b[49m\n\u001b[1;32m    121\u001b[0m \u001b[43m    \u001b[49m\u001b[43mf\u001b[49m\u001b[43m,\u001b[49m\u001b[43m \u001b[49m\u001b[43mretract_unitary_list\u001b[49m\u001b[43m,\u001b[49m\u001b[43m \u001b[49m\u001b[43mgradfunc\u001b[49m\u001b[43m,\u001b[49m\u001b[43m \u001b[49m\u001b[43mhessfunc\u001b[49m\u001b[43m,\u001b[49m\u001b[43m \u001b[49m\u001b[43mnp\u001b[49m\u001b[38;5;241;43m.\u001b[39;49m\u001b[43mstack\u001b[49m\u001b[43m(\u001b[49m\u001b[43mVlist_start\u001b[49m\u001b[43m)\u001b[49m\u001b[43m,\u001b[49m\u001b[43m \u001b[49m\u001b[38;5;241;43m*\u001b[39;49m\u001b[38;5;241;43m*\u001b[39;49m\u001b[43mkwargs\u001b[49m\u001b[43m)\u001b[49m\n\u001b[1;32m    122\u001b[0m \u001b[38;5;28;01mreturn\u001b[39;00m Vlist, f_iter, err_iter\n",
      "File \u001b[0;32m/opt/anaconda3/envs/qc/lib/python3.10/site-packages/rqcopt/trust_region.py:34\u001b[0m, in \u001b[0;36mriemannian_trust_region_optimize\u001b[0;34m(f, retract, gradfunc, hessfunc, x_init, **kwargs)\u001b[0m\n\u001b[1;32m     32\u001b[0m \u001b[38;5;28;01mfor\u001b[39;00m k \u001b[38;5;129;01min\u001b[39;00m \u001b[38;5;28mrange\u001b[39m(niter):\n\u001b[1;32m     33\u001b[0m     grad \u001b[38;5;241m=\u001b[39m gradfunc(x)\n\u001b[0;32m---> 34\u001b[0m     hess \u001b[38;5;241m=\u001b[39m \u001b[43mhessfunc\u001b[49m\u001b[43m(\u001b[49m\u001b[43mx\u001b[49m\u001b[43m)\u001b[49m\n\u001b[1;32m     35\u001b[0m     eta, on_boundary \u001b[38;5;241m=\u001b[39m truncated_cg(grad, hess, radius, \u001b[38;5;241m*\u001b[39m\u001b[38;5;241m*\u001b[39mtcg_kwargs)\n\u001b[1;32m     36\u001b[0m     x_next \u001b[38;5;241m=\u001b[39m retract(x, eta)\n",
      "File \u001b[0;32m~/Desktop/QC/ccU/examples/triangularTFIM2d/../../src/brickwall_sparse/optimize_sparse.py:78\u001b[0m, in \u001b[0;36moptimize.<locals>.hessfunc\u001b[0;34m(vlist)\u001b[0m\n\u001b[1;32m     75\u001b[0m     \u001b[38;5;28;01mif\u001b[39;00m i \u001b[38;5;129;01mnot\u001b[39;00m \u001b[38;5;129;01min\u001b[39;00m control_layers:\n\u001b[1;32m     76\u001b[0m         vlist_reduced\u001b[38;5;241m.\u001b[39mappend(V)\n\u001b[0;32m---> 78\u001b[0m hessfunc1 \u001b[38;5;241m=\u001b[39m \u001b[38;5;241m-\u001b[39m\u001b[43mansatz_sparse_hessian_matrix\u001b[49m\u001b[43m(\u001b[49m\u001b[43mvlist\u001b[49m\u001b[43m,\u001b[49m\u001b[43m \u001b[49m\u001b[43mL\u001b[49m\u001b[43m,\u001b[49m\u001b[43m \u001b[49m\u001b[43mexpm_multiply\u001b[49m\u001b[43m(\u001b[49m\u001b[38;5;241;43m1\u001b[39;49m\u001b[43mj\u001b[49m\u001b[43m \u001b[49m\u001b[38;5;241;43m*\u001b[39;49m\u001b[43m \u001b[49m\u001b[43mt\u001b[49m\u001b[43m \u001b[49m\u001b[38;5;241;43m*\u001b[39;49m\u001b[43m \u001b[49m\u001b[43mhamil\u001b[49m\u001b[43m,\u001b[49m\u001b[43m \u001b[49m\n\u001b[1;32m     79\u001b[0m \u001b[43m    \u001b[49m\u001b[43mrandom_svs\u001b[49m\u001b[43m[\u001b[49m\u001b[38;5;241;43m0\u001b[39;49m\u001b[43m]\u001b[49m\u001b[43m)\u001b[49m\u001b[43m,\u001b[49m\u001b[43m \u001b[49m\u001b[43mrandom_svs\u001b[49m\u001b[43m[\u001b[49m\u001b[38;5;241;43m0\u001b[39;49m\u001b[43m]\u001b[49m\u001b[43m,\u001b[49m\u001b[43m \u001b[49m\u001b[43mperms\u001b[49m\u001b[43m,\u001b[49m\u001b[43m \u001b[49m\u001b[43mflatten\u001b[49m\u001b[38;5;241;43m=\u001b[39;49m\u001b[38;5;28;43;01mFalse\u001b[39;49;00m\u001b[43m)\u001b[49m\n\u001b[1;32m     80\u001b[0m \u001b[38;5;28;01mfor\u001b[39;00m v \u001b[38;5;129;01min\u001b[39;00m random_svs[\u001b[38;5;241m1\u001b[39m:]:\n\u001b[1;32m     81\u001b[0m     hessfunc1 \u001b[38;5;241m+\u001b[39m\u001b[38;5;241m=\u001b[39m \u001b[38;5;241m-\u001b[39mansatz_sparse_hessian_matrix(vlist, L, expm_multiply(\u001b[38;5;241m1\u001b[39mj \u001b[38;5;241m*\u001b[39m t \u001b[38;5;241m*\u001b[39m hamil, \n\u001b[1;32m     82\u001b[0m         v), v, perms, flatten\u001b[38;5;241m=\u001b[39m\u001b[38;5;28;01mFalse\u001b[39;00m)\n",
      "File \u001b[0;32m~/Desktop/QC/ccU/examples/triangularTFIM2d/../../src/brickwall_sparse/hessian_sparse.py:27\u001b[0m, in \u001b[0;36mansatz_sparse_hessian_matrix\u001b[0;34m(Vlist, L, Uv, state, perms, flatten, unprojected)\u001b[0m\n\u001b[1;32m     25\u001b[0m \tZ[j] \u001b[38;5;241m=\u001b[39m \u001b[38;5;241m1\u001b[39m\n\u001b[1;32m     26\u001b[0m \tZ \u001b[38;5;241m=\u001b[39m real_to_antisymm(np\u001b[38;5;241m.\u001b[39mreshape(Z, (\u001b[38;5;241m4\u001b[39m, \u001b[38;5;241m4\u001b[39m)))\n\u001b[0;32m---> 27\u001b[0m dVZj \u001b[38;5;241m=\u001b[39m \u001b[43mansatz_sparse_hess\u001b[49m\u001b[43m(\u001b[49m\u001b[43mVlist\u001b[49m\u001b[43m,\u001b[49m\u001b[43m \u001b[49m\u001b[43mL\u001b[49m\u001b[43m,\u001b[49m\u001b[43m \u001b[49m\u001b[43mVlist\u001b[49m\u001b[43m[\u001b[49m\u001b[43mk\u001b[49m\u001b[43m]\u001b[49m\u001b[43m \u001b[49m\u001b[38;5;241;43m@\u001b[39;49m\u001b[43m \u001b[49m\u001b[43mZ\u001b[49m\u001b[43m,\u001b[49m\u001b[43m \u001b[49m\u001b[43mk\u001b[49m\u001b[43m,\u001b[49m\u001b[43m \u001b[49m\u001b[43mUv\u001b[49m\u001b[43m,\u001b[49m\u001b[43m \u001b[49m\u001b[43mstate\u001b[49m\u001b[43m,\u001b[49m\u001b[43m \u001b[49m\u001b[43mperms\u001b[49m\u001b[43m,\u001b[49m\u001b[43m \u001b[49m\u001b[43munprojected\u001b[49m\u001b[38;5;241;43m=\u001b[39;49m\u001b[43munprojected\u001b[49m\u001b[43m)\u001b[49m\n\u001b[1;32m     28\u001b[0m \u001b[38;5;28;01mfor\u001b[39;00m i \u001b[38;5;129;01min\u001b[39;00m \u001b[38;5;28mrange\u001b[39m(eta):\n\u001b[1;32m     29\u001b[0m \tHess[i, :, k, j] \u001b[38;5;241m=\u001b[39m dVZj[i]\u001b[38;5;241m.\u001b[39mreshape(\u001b[38;5;241m-\u001b[39m\u001b[38;5;241m1\u001b[39m) \u001b[38;5;28;01mif\u001b[39;00m unprojected \u001b[38;5;28;01melse\u001b[39;00m \\\n\u001b[1;32m     30\u001b[0m \t\t\tantisymm_to_real(antisymm( Vlist[i]\u001b[38;5;241m.\u001b[39mconj()\u001b[38;5;241m.\u001b[39mT \u001b[38;5;241m@\u001b[39m dVZj[i] ))\u001b[38;5;241m.\u001b[39mreshape(\u001b[38;5;241m-\u001b[39m\u001b[38;5;241m1\u001b[39m)\n",
      "File \u001b[0;32m~/Desktop/QC/ccU/examples/triangularTFIM2d/../../src/brickwall_sparse/hessian_sparse.py:138\u001b[0m, in \u001b[0;36mansatz_sparse_hess\u001b[0;34m(Vlist, L, Z, k, Uv, state, perms_extended, unprojected)\u001b[0m\n\u001b[1;32m    136\u001b[0m \u001b[38;5;28;01mif\u001b[39;00m k\u001b[38;5;241m!=\u001b[39mj:\n\u001b[1;32m    137\u001b[0m \t\u001b[38;5;28;01mfor\u001b[39;00m perm \u001b[38;5;129;01min\u001b[39;00m perms_j:\n\u001b[0;32m--> 138\u001b[0m \t\tv \u001b[38;5;241m=\u001b[39m \u001b[43mapplyG_block_state\u001b[49m\u001b[43m(\u001b[49m\u001b[43mVlist\u001b[49m\u001b[43m[\u001b[49m\u001b[43mj\u001b[49m\u001b[43m]\u001b[49m\u001b[43m,\u001b[49m\u001b[43m \u001b[49m\u001b[43mv\u001b[49m\u001b[43m,\u001b[49m\u001b[43m \u001b[49m\u001b[43mL\u001b[49m\u001b[43m,\u001b[49m\u001b[43m \u001b[49m\u001b[43mperm\u001b[49m\u001b[43m)\u001b[49m\n\u001b[1;32m    139\u001b[0m \u001b[38;5;28;01melse\u001b[39;00m:\n\u001b[1;32m    140\u001b[0m \tv \u001b[38;5;241m=\u001b[39m ansatz_sparse_grad_directed(Vlist[k], v, L, Z, perms_j)\n",
      "File \u001b[0;32m~/Desktop/QC/ccU/examples/triangularTFIM2d/../../src/brickwall_sparse/utils_sparse.py:108\u001b[0m, in \u001b[0;36mapplyG_block_state\u001b[0;34m(G, state, L, perm)\u001b[0m\n\u001b[1;32m    106\u001b[0m     k \u001b[38;5;241m=\u001b[39m perm[\u001b[38;5;241m2\u001b[39m \u001b[38;5;241m*\u001b[39m j]\n\u001b[1;32m    107\u001b[0m     l \u001b[38;5;241m=\u001b[39m perm[\u001b[38;5;241m2\u001b[39m \u001b[38;5;241m*\u001b[39m j \u001b[38;5;241m+\u001b[39m \u001b[38;5;241m1\u001b[39m]\n\u001b[0;32m--> 108\u001b[0m     state \u001b[38;5;241m=\u001b[39m \u001b[43mapplyG_state\u001b[49m\u001b[43m(\u001b[49m\u001b[43mG\u001b[49m\u001b[43m,\u001b[49m\u001b[43m \u001b[49m\u001b[43mstate\u001b[49m\u001b[43m,\u001b[49m\u001b[43m \u001b[49m\u001b[43mL\u001b[49m\u001b[43m,\u001b[49m\u001b[43m \u001b[49m\u001b[43mk\u001b[49m\u001b[43m,\u001b[49m\u001b[43m \u001b[49m\u001b[43ml\u001b[49m\u001b[43m)\u001b[49m\n\u001b[1;32m    109\u001b[0m \u001b[38;5;28;01mreturn\u001b[39;00m state\n",
      "File \u001b[0;32m~/Desktop/QC/ccU/examples/triangularTFIM2d/../../src/brickwall_sparse/utils_sparse.py:95\u001b[0m, in \u001b[0;36mapplyG_state\u001b[0;34m(G, state, L, k, l)\u001b[0m\n\u001b[1;32m     92\u001b[0m updated \u001b[38;5;241m=\u001b[39m G \u001b[38;5;241m@\u001b[39m transposed\n\u001b[1;32m     94\u001b[0m \u001b[38;5;66;03m# Reshape back\u001b[39;00m\n\u001b[0;32m---> 95\u001b[0m updated \u001b[38;5;241m=\u001b[39m \u001b[43mupdated\u001b[49m\u001b[38;5;241;43m.\u001b[39;49m\u001b[43mreshape\u001b[49m\u001b[43m(\u001b[49m\u001b[43m[\u001b[49m\u001b[38;5;241;43m2\u001b[39;49m\u001b[43m,\u001b[49m\u001b[43m \u001b[49m\u001b[38;5;241;43m2\u001b[39;49m\u001b[43m]\u001b[49m\u001b[43m \u001b[49m\u001b[38;5;241;43m+\u001b[39;49m\u001b[43m \u001b[49m\u001b[43m[\u001b[49m\u001b[38;5;241;43m2\u001b[39;49m\u001b[43m]\u001b[49m\u001b[43m \u001b[49m\u001b[38;5;241;43m*\u001b[39;49m\u001b[43m \u001b[49m\u001b[43m(\u001b[49m\u001b[43mL\u001b[49m\u001b[43m \u001b[49m\u001b[38;5;241;43m-\u001b[39;49m\u001b[43m \u001b[49m\u001b[38;5;241;43m2\u001b[39;49m\u001b[43m)\u001b[49m\u001b[43m)\u001b[49m\n\u001b[1;32m     96\u001b[0m updated \u001b[38;5;241m=\u001b[39m np\u001b[38;5;241m.\u001b[39mtranspose(updated, inv_axes)\n\u001b[1;32m     97\u001b[0m \u001b[38;5;28;01mreturn\u001b[39;00m updated\u001b[38;5;241m.\u001b[39mreshape(\u001b[38;5;241m2\u001b[39m\u001b[38;5;241m*\u001b[39m\u001b[38;5;241m*\u001b[39mL)\n",
      "\u001b[0;31mKeyboardInterrupt\u001b[0m: "
     ]
    }
   ],
   "source": [
    "from optimize_sparse import optimize, err\n",
    "\n",
    "Vlist, f_iter, err_iter = optimize(L, hamil, t, Vlist_start, perms_extended, perms_reduced=perms_ext_reduced, \n",
    "                                   control_layers=control_layers, rS=1, niter=5)\n",
    "plt.plot(err_iter)\n",
    "plt.yscale('log')\n",
    "print(err_iter[-1])"
   ]
  },
  {
   "cell_type": "code",
   "execution_count": null,
   "id": "dcdae39d-c737-4e70-972e-98a3581cbe0e",
   "metadata": {},
   "outputs": [],
   "source": []
  }
 ],
 "metadata": {
  "kernelspec": {
   "display_name": "Python3.10 (qc)",
   "language": "python",
   "name": "qc"
  },
  "language_info": {
   "codemirror_mode": {
    "name": "ipython",
    "version": 3
   },
   "file_extension": ".py",
   "mimetype": "text/x-python",
   "name": "python",
   "nbconvert_exporter": "python",
   "pygments_lexer": "ipython3",
   "version": "3.10.13"
  }
 },
 "nbformat": 4,
 "nbformat_minor": 5
}
