{
 "cells": [
  {
   "cell_type": "code",
   "execution_count": 3,
   "id": "75c4d9fa-f11f-4833-90e0-36ed8c69777f",
   "metadata": {},
   "outputs": [
    {
     "name": "stdout",
     "output_type": "stream",
     "text": [
      "Trotter error:  0.29176845133312607\n"
     ]
    }
   ],
   "source": [
    "import numpy as np\n",
    "import qiskit\n",
    "from qiskit.quantum_info import state_fidelity\n",
    "from numpy import linalg as LA\n",
    "import qib\n",
    "import matplotlib.pyplot as plt\n",
    "import scipy\n",
    "import h5py\n",
    "\n",
    "import sys\n",
    "sys.path.append(\"../../src/brickwall_sparse\")\n",
    "from utils_sparse import construct_ising_local_term, reduce_list, X, I2, get_perms\n",
    "from ansatz_sparse import ansatz_sparse\n",
    "import rqcopt as oc\n",
    "from scipy.sparse.linalg import expm_multiply\n",
    "from qiskit.quantum_info import random_statevector\n",
    "from scipy.linalg import expm\n",
    "\n",
    "Lx, Ly = (4, 4)\n",
    "L = Lx*Ly\n",
    "t = 0.25\n",
    "# construct Hamiltonian\n",
    "latt = qib.lattice.TriangularLattice((Lx, Ly), pbc=True)\n",
    "field = qib.field.Field(qib.field.ParticleType.QUBIT, latt)\n",
    "J, h, g = (1, 0, 3)\n",
    "hamil = qib.IsingHamiltonian(field, J, h, g).as_matrix()\n",
    "eigenvalues, eigenvectors = scipy.sparse.linalg.eigsh(hamil, k=10)\n",
    "idx = eigenvalues.argsort()\n",
    "eigenvalues_sort = eigenvalues[idx]\n",
    "eigenvectors_sort = eigenvectors[:,idx]\n",
    "ground_state = eigenvectors_sort[:, 0]\n",
    "\n",
    "hloc1 = construct_ising_local_term(J, 0, 0, ndim=2)\n",
    "hloc2 = g*(np.kron(X, I2)+np.kron(I2, X))/6\n",
    "perms_1 = [[0, 1, 2, 3, 4, 5, 6, 7, 8, 9, 10, 11, 12, 13, 14, 15], [1, 2, 3, 0, 5, 6, 7, 4, 9, 10, 11, 8, 13, 14, 15, 12]]\n",
    "perms_2 = [[0, 5, 10, 15, 3, 4, 9, 14, 2, 7, 8, 13, 1, 6, 11, 12], [5, 10, 15, 0, 4, 9, 14, 3, 7, 8, 13, 2, 6, 11, 12, 1]]\n",
    "perms_3 = [[0, 4, 8, 12, 1, 5, 9, 13, 2, 6, 10, 14, 3, 7, 11, 15], [4, 8, 12, 0, 5, 9, 13, 1, 6, 10, 14, 2, 7, 11, 15, 3]]\n",
    "\n",
    "Vlist_3 = [expm(-1j*t*hloc1/2) , expm(-1j*t*hloc2), expm(-1j*t*hloc1/2)]\n",
    "Vlist_2 = [expm(-1j*t*hloc1/4), expm(-1j*t*hloc2/2), expm(-1j*t*hloc1/4)]\n",
    "Vlist_1 = [expm(-1j*t*hloc1/4), expm(-1j*t*hloc2/2), expm(-1j*t*hloc1/4)]\n",
    "Vlist_start    = Vlist_1 + Vlist_2 + Vlist_3 + Vlist_2 + Vlist_1\n",
    "perms_extended = [perms_1]*3 + [perms_2]*3 + [perms_3]*3 + [perms_2]*3 + [perms_1]*3\n",
    "\n",
    "state = np.array(random_statevector(2**L).data)\n",
    "print(\"Trotter error: \", np.linalg.norm(ansatz_sparse(Vlist_start, L, perms_extended, state) - expm_multiply(\n",
    "    -1j * t * hamil, state), ord=2))"
   ]
  },
  {
   "cell_type": "code",
   "execution_count": 12,
   "id": "2c7d3793-5c66-42c3-8185-2950e895784c",
   "metadata": {},
   "outputs": [],
   "source": [
    "X = np.array([[0, 1], [1, 0]])\n",
    "Z = np.array([[1, 0], [0, -1]])\n",
    "Y = np.array([[0, -1j], [1j, 0]])\n",
    "I2 = np.array([[1, 0], [0, 1]])\n",
    "\n",
    "V1 = scipy.linalg.expm(-1j*t*hloc1/4)\n",
    "V2 = scipy.linalg.expm(-1j*t*hloc2/2)\n",
    "V3 = scipy.linalg.expm(-1j*t*hloc1/2)\n",
    "V4 = scipy.linalg.expm(-1j*t*hloc2)\n",
    "YZ = np.kron(Y, Z)\n",
    "\n",
    "Vlist_start =  [YZ]*3 + [V1, V2, V1]*2 +  [V3, V4, V3]  + [V1, V2, V1]*2 + [YZ]*3\n",
    "Vlist_reduced = [V1, V2, V1]*2 +  [V3, V4, V3]  + [V1, V2, V1]*2\n",
    "\n",
    "perms_extended = [[perms_1[0]], [perms_2[0]], [perms_3[0]]] + [perms_1]*3 +\\\n",
    "                    [perms_2]*3 + [perms_3]*3 + [perms_2]*3 + [perms_1]*3 + [[perms_3[0]], [perms_2[0]], [perms_1[0]]] \n",
    "\n",
    "\n",
    "perms_ext_reduced = [perms_1]*3  + [perms_2]*3 + [perms_3]*3 + [perms_2]*3 + [perms_1]*3\n",
    "control_layers = [0, 1, 2, 18, 19, 20] # 10 control layers"
   ]
  },
  {
   "cell_type": "code",
   "execution_count": 13,
   "id": "caca93a7-1bf3-4d35-92dc-dcaa39c0511f",
   "metadata": {},
   "outputs": [
    {
     "name": "stdout",
     "output_type": "stream",
     "text": [
      "Trotter error of the starting point:  0.7639974284097137\n",
      "fidelity:  0.48612019443289034\n"
     ]
    }
   ],
   "source": [
    "# 12 layers with 6 being controlled, 9 parameters in total.\n",
    "state = random_statevector(2**L).data\n",
    "print(\"Trotter error of the starting point: \", (np.linalg.norm(ansatz_sparse(Vlist_start, L, perms_extended, state) - expm_multiply(\n",
    "    1j * t * hamil, state), ord=2) + np.linalg.norm(ansatz_sparse(Vlist_reduced, L, perms_ext_reduced, state) - expm_multiply(\n",
    "    -1j * t * hamil, state), ord=2))/2)\n",
    "\n",
    "print('fidelity: ', (state_fidelity(ansatz_sparse(Vlist_start, L, perms_extended, state), expm_multiply(\n",
    "    1j * t * hamil, state)) + state_fidelity(ansatz_sparse(Vlist_reduced, L, perms_ext_reduced, state), expm_multiply(\n",
    "    -1j * t * hamil, state)))/2)\n"
   ]
  },
  {
   "cell_type": "code",
   "execution_count": null,
   "id": "29b20401-17e6-4a8d-9efe-5f486d3eb03d",
   "metadata": {},
   "outputs": [
    {
     "name": "stdout",
     "output_type": "stream",
     "text": [
      "Current error:  0.7641588584072888\n"
     ]
    }
   ],
   "source": [
    "from optimize_sparse import optimize, err\n",
    "\n",
    "Vlist, f_iter, err_iter = optimize(L, hamil, t, Vlist_start, perms_extended, perms_reduced=perms_ext_reduced, \n",
    "                                   control_layers=control_layers, rS=1, niter=5)\n",
    "plt.plot(err_iter)\n",
    "plt.yscale('log')\n",
    "print(err_iter[-1])"
   ]
  },
  {
   "cell_type": "code",
   "execution_count": null,
   "id": "dcdae39d-c737-4e70-972e-98a3581cbe0e",
   "metadata": {},
   "outputs": [],
   "source": []
  }
 ],
 "metadata": {
  "kernelspec": {
   "display_name": "Python3.10 (qc)",
   "language": "python",
   "name": "qc"
  },
  "language_info": {
   "codemirror_mode": {
    "name": "ipython",
    "version": 3
   },
   "file_extension": ".py",
   "mimetype": "text/x-python",
   "name": "python",
   "nbconvert_exporter": "python",
   "pygments_lexer": "ipython3",
   "version": "3.10.13"
  }
 },
 "nbformat": 4,
 "nbformat_minor": 5
}
