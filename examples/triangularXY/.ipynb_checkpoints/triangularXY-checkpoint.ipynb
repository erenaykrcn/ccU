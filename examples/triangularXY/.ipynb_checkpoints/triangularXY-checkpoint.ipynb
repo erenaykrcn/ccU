{
 "cells": [
  {
   "cell_type": "code",
   "execution_count": 109,
   "id": "0f8fc3c7-3c53-470f-becc-66fe404ab9b5",
   "metadata": {},
   "outputs": [
    {
     "name": "stdout",
     "output_type": "stream",
     "text": [
      "Trotter error:  0.9237125016206478\n"
     ]
    }
   ],
   "source": [
    "import numpy as np\n",
    "import qiskit\n",
    "from qiskit.quantum_info import state_fidelity\n",
    "from numpy import linalg as LA\n",
    "import qib\n",
    "import matplotlib.pyplot as plt\n",
    "import scipy\n",
    "import h5py\n",
    "\n",
    "import sys\n",
    "sys.path.append(\"../../src/brickwall_sparse\")\n",
    "from utils_sparse import construct_heisenberg_local_term, reduce_list, X, I2, get_perms\n",
    "from ansatz_sparse import ansatz_sparse\n",
    "import rqcopt as oc\n",
    "from scipy.sparse.linalg import expm_multiply\n",
    "from qiskit.quantum_info import random_statevector\n",
    "from scipy.linalg import expm\n",
    "\n",
    "Lx, Ly = (3, 3)\n",
    "L = Lx*Ly\n",
    "t = 0.25\n",
    "# construct Hamiltonian\n",
    "latt = qib.lattice.TriangularLattice((Lx, Ly), pbc=True)\n",
    "field = qib.field.Field(qib.field.ParticleType.QUBIT, latt)\n",
    "J = (1, 1, 0)\n",
    "hamil = qib.HeisenbergHamiltonian(field, J, (0,)*3).as_matrix()\n",
    "eigenvalues, eigenvectors = scipy.sparse.linalg.eigsh(hamil, k=10)\n",
    "idx = eigenvalues.argsort()\n",
    "eigenvalues_sort = eigenvalues[idx]\n",
    "eigenvectors_sort = eigenvectors[:,idx]\n",
    "ground_state = eigenvectors_sort[:, 0]\n",
    "\n",
    "hloc1 = construct_heisenberg_local_term((J[0], 0, 0), (0,0,0))\n",
    "hloc2 = construct_heisenberg_local_term((0, J[1], 0), (0,0,0))\n",
    "perms_1 = [[0, 1, 3, 4, 6, 7], [1, 2, 4, 5, 7, 8], [2, 0, 5, 3, 8, 6]]\n",
    "perms_2 = [[0, 4, 1, 5, 2, 3], [4, 8, 3, 7, 5, 6], [8, 0, 6, 1, 7, 2]]\n",
    "perms_3 = [[0, 3, 1, 4, 2, 5], [3, 6, 4, 7, 5, 8], [7, 1, 6, 0, 8, 2]]\n",
    "\n",
    "Vlist_3 = [expm(-1j*t*hloc1/2) , expm(-1j*t*hloc2), expm(-1j*t*hloc1/2)]\n",
    "Vlist_1 = [expm(-1j*t*hloc1/4), expm(-1j*t*hloc2/2), expm(-1j*t*hloc1/4)]\n",
    "Vlist_start    = Vlist_1 + Vlist_1 + Vlist_3 + Vlist_1 + Vlist_1\n",
    "perms_extended = [perms_1]*3 + [perms_2]*3 + [perms_3]*3 + [perms_2]*3 + [perms_1]*3\n",
    "\n",
    "#V1_5 = scipy.linalg.expm(-1j*t*hloc1/2)\n",
    "#V2_1 = scipy.linalg.expm(-1j*t*hloc2)\n",
    "#Vlist_start  = [V1_5]*3+[V2_1]*3+[V1_5]*3\n",
    "#perms_v , perms_h = get_perms(Lx, Ly)\n",
    "#perms_extended = ([perms_1] + [perms_2] + [perms_3])*10\n",
    "\n",
    "state = np.array(random_statevector(2**L).data)\n",
    "print(\"Trotter error: \", state_fidelity(ansatz_sparse(Vlist_start, L, perms_extended, state), expm_multiply(\n",
    "    -1j * t * hamil, state)))"
   ]
  },
  {
   "cell_type": "code",
   "execution_count": null,
   "id": "f7b34a9c-d398-4662-9a06-73c64a8176b4",
   "metadata": {},
   "outputs": [
    {
     "name": "stdout",
     "output_type": "stream",
     "text": [
      "Current error:  0.48339447158587545\n"
     ]
    }
   ],
   "source": [
    "from optimize_sparse import optimize\n",
    "\n",
    "Vlist, f_iter, err_iter = optimize(L, hamil, t, Vlist, perms_extended, niter=10, rS=5)\n",
    "plt.plot(err_iter)\n",
    "plt.yscale('log')\n",
    "print(err_iter[-1])"
   ]
  },
  {
   "cell_type": "code",
   "execution_count": 111,
   "id": "8f019143-fd30-4630-9659-80d64336764b",
   "metadata": {},
   "outputs": [],
   "source": [
    "with h5py.File(f\"./results/triangularXY_SPARSE_{J[0]}{J[1]}_Lx{Lx}Ly{Ly}_t{t}_layers{len(Vlist_start)}_U_3hloc.hdf5\", \"w\") as f:\n",
    "    f.create_dataset(\"Vlist\", data=Vlist)\n",
    "    f.create_dataset(\"f_iter\", data=f_iter)\n",
    "    f.create_dataset(\"err_iter\", data=err_iter)\n",
    "    f.attrs[\"L\"] = L\n",
    "    f.attrs[\"t\"] = float(t)"
   ]
  },
  {
   "cell_type": "code",
   "execution_count": 114,
   "id": "f0047868-50b4-40fc-a766-37cf2f71aa68",
   "metadata": {},
   "outputs": [
    {
     "name": "stdout",
     "output_type": "stream",
     "text": [
      "Trotter error:  0.7796773187734842\n",
      "Trotter error:  0.8646667023224587\n"
     ]
    }
   ],
   "source": [
    "\"\"\"\n",
    "    Scaling from 3x3 -> 4x4. Important proof of concept! \n",
    "\"\"\"\n",
    "Lx, Ly = (4, 4)\n",
    "L = Lx*Ly\n",
    "latt = qib.lattice.TriangularLattice((Lx, Ly), pbc=True)\n",
    "field = qib.field.Field(qib.field.ParticleType.QUBIT, latt)\n",
    "t = 0.25\n",
    "J = (1, 1, 0)\n",
    "hamil = qib.HeisenbergHamiltonian(field, J, (0,)*3).as_matrix()\n",
    "\n",
    "perms_1 = [[0, 1, 2, 3, 4, 5, 6, 7, 8, 9, 10, 11, 12, 13, 14, 15], [1, 2, 3, 0, 5, 6, 7, 4, 9, 10, 11, 8, 13, 14, 15, 12]]\n",
    "perms_2 = [[0, 5, 10, 15, 3, 4, 9, 14, 2, 7, 8, 13, 1, 6, 11, 12], [5, 10, 15, 0, 4, 9, 14, 3, 7, 8, 13, 2, 6, 11, 12, 1]]\n",
    "perms_3 = [[0, 4, 8, 12, 1, 5, 9, 13, 2, 6, 10, 14, 3, 7, 11, 15], [4, 8, 12, 0, 5, 9, 13, 1, 6, 10, 14, 2, 7, 11, 15, 3]]\n",
    "\n",
    "Vlist_3 = [expm(-1j*t*hloc1/2) , expm(-1j*t*hloc2), expm(-1j*t*hloc1/2)]\n",
    "Vlist_1 = [expm(-1j*t*hloc1/4), expm(-1j*t*hloc2/2), expm(-1j*t*hloc1/4)]\n",
    "Vlist_start    = Vlist_1 + Vlist_1 + Vlist_3 + Vlist_1 + Vlist_1\n",
    "perms_extended = [perms_1]*3 + [perms_2]*3 + [perms_3]*3 + [perms_2]*3 + [perms_1]*3\n",
    "\n",
    "\n",
    "state = np.array(random_statevector(2**L).data)\n",
    "print(\"Trotter error: \", state_fidelity(ansatz_sparse(Vlist, L, perms_extended, state), expm_multiply(\n",
    "    -1j * t * hamil, state)))\n",
    "\n",
    "state = np.array(random_statevector(2**L).data)\n",
    "print(\"Trotter error: \", state_fidelity(ansatz_sparse(Vlist_start, L, perms_extended, state), expm_multiply(\n",
    "    -1j * t * hamil, state)))"
   ]
  },
  {
   "cell_type": "code",
   "execution_count": null,
   "id": "170360ce-8442-46da-9a15-e34be72c89d6",
   "metadata": {},
   "outputs": [],
   "source": []
  }
 ],
 "metadata": {
  "kernelspec": {
   "display_name": "Python3.10 (qc)",
   "language": "python",
   "name": "qc"
  },
  "language_info": {
   "codemirror_mode": {
    "name": "ipython",
    "version": 3
   },
   "file_extension": ".py",
   "mimetype": "text/x-python",
   "name": "python",
   "nbconvert_exporter": "python",
   "pygments_lexer": "ipython3",
   "version": "3.10.13"
  }
 },
 "nbformat": 4,
 "nbformat_minor": 5
}
