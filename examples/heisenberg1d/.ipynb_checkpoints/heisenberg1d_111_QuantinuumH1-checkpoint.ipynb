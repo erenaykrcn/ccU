{
 "cells": [
  {
   "cell_type": "code",
   "execution_count": 2,
   "id": "ff529bd8-dd19-4ed8-b0a0-102b175e733e",
   "metadata": {},
   "outputs": [
    {
     "name": "stdout",
     "output_type": "stream",
     "text": [
      "Ground State Energy -19.83293100209279\n",
      "Average Energy:  -1.9832931002092788\n"
     ]
    }
   ],
   "source": [
    "import qiskit\n",
    "from qiskit.quantum_info import state_fidelity\n",
    "import numpy as np\n",
    "from scipy.sparse import linalg as LA\n",
    "import qib\n",
    "import matplotlib.pyplot as plt\n",
    "import rqcopt as oc\n",
    "import scipy\n",
    "import scipy.sparse as sp\n",
    "\n",
    "\n",
    "L = 10\n",
    "J = ( 1, 1, 1)\n",
    "h = ( 1, 1, 1)\n",
    "\n",
    "# construct Hamiltonian\n",
    "latt = qib.lattice.IntegerLattice((L, ), pbc=True)\n",
    "field = qib.field.Field(qib.field.ParticleType.QUBIT, latt)\n",
    "\n",
    "hamil = qib.HeisenbergHamiltonian(field, J, h).as_matrix()\n",
    "eigenvalues, eigenvectors = LA.eigsh(hamil, k=100)\n",
    "idx = eigenvalues.argsort()\n",
    "eigenvalues_sort = eigenvalues[idx]\n",
    "eigenvectors_sort = eigenvectors[:,idx]\n",
    "ground_state = eigenvectors_sort[:, 0]\n",
    "\n",
    "print(\"Ground State Energy\", eigenvalues_sort[0].real)\n",
    "print(\"Average Energy: \", eigenvalues_sort[0]/L)\n",
    "E_exact = eigenvalues_sort[0]/L"
   ]
  },
  {
   "cell_type": "code",
   "execution_count": 3,
   "id": "f2b89d72-69f0-4f51-b401-5535e7862160",
   "metadata": {},
   "outputs": [
    {
     "name": "stdout",
     "output_type": "stream",
     "text": [
      "Trotter error for same time, larger system:  0.05030806768166928\n"
     ]
    }
   ],
   "source": [
    "\"\"\"\n",
    "    Compressed-Controlled Time Evolution Operator that we optimized previously.\n",
    "\"\"\"\n",
    "import h5py\n",
    "import sys\n",
    "sys.path.append(\"../../src/brickwall_ansatz\")\n",
    "from utils import construct_heisenberg_local_term, construct_ising_local_term, get_params, reduce_list\n",
    "from ansatz import ansatz, construct_ccU\n",
    "\n",
    "\n",
    "# Best Performing Setting I observed so far was (2, 5).\n",
    "L = 4\n",
    "t = 0.25\n",
    "eta, gamma = (2, 5)\n",
    "nlayers = eta*gamma+gamma+1\n",
    "perms = [[i for i in range(L)] if i%2==0 else [i for i in range(1, L)]+[0] for i in range(nlayers)]\n",
    "Vs = []\n",
    "with h5py.File(f\"./results/heisenberg1d_111_L{L}_t{t}_layers{nlayers}_gamma{gamma}_eta{eta}.hdf5\", \"r\") as f:\n",
    "    Vs = f[\"Vlist\"][:]\n",
    "\n",
    "L = 10\n",
    "latt = qib.lattice.IntegerLattice((L,), pbc=True)\n",
    "field = qib.field.Field(qib.field.ParticleType.QUBIT, latt)\n",
    "hamil = qib.HeisenbergHamiltonian(field, J, h).as_matrix().toarray()\n",
    "perms = [[i for i in range(L)] if i%2==0 else [i for i in range(1, L)]+[0] for i in range(nlayers)]\n",
    "\n",
    "U = scipy.linalg.expm(-1j*hamil*t)\n",
    "U_back = scipy.linalg.expm(1j*hamil*t)\n",
    "\n",
    "print(\"Trotter error for same time, larger system: \", (np.linalg.norm(ansatz(reduce_list(Vs, gamma, eta), L, \n",
    "            reduce_list(perms, gamma, eta)) - U, ord=2)+np.linalg.norm(\n",
    "        ansatz(Vs, L, perms) - U_back, ord=2))/2)"
   ]
  },
  {
   "cell_type": "code",
   "execution_count": 4,
   "id": "7bb3c03a-41fc-4c36-a7bb-9533dcf08160",
   "metadata": {},
   "outputs": [
    {
     "name": "stderr",
     "output_type": "stream",
     "text": [
      "/tmp/ipykernel_73871/2905619176.py:7: DeprecationWarning: Importing from 'qiskit.providers.aer' is deprecated. Import from 'qiskit_aer' instead, which should work identically.\n",
      "  from qiskit.providers.aer.noise import NoiseModel, errors\n",
      "/tmp/ipykernel_73871/2905619176.py:28: DeprecationWarning: The 'qiskit.Aer' entry point is deprecated and will be removed in Qiskit 1.0. You should use 'qiskit_aer.Aer' directly instead.\n",
      "  backend = Aer.get_backend(\"unitary_simulator\")\n",
      "/tmp/ipykernel_73871/2905619176.py:29: DeprecationWarning: The function ``qiskit.execute_function.execute()`` is deprecated as of qiskit 0.46.0. It will be removed in the Qiskit 1.0 release. This function combines ``transpile`` and ``backend.run``, which is covered by ``Sampler`` :mod:`~qiskit.primitives`. Alternatively, you can also run :func:`.transpile` followed by ``backend.run()``.\n",
      "  qc_unit = execute(transpile(qc_cU), backend).result().get_unitary(qc_cU, L+1).data\n"
     ]
    },
    {
     "name": "stdout",
     "output_type": "stream",
     "text": [
      "t=0.25, Gate Count:  320  Trotter error:  0.07297661192752307\n"
     ]
    }
   ],
   "source": [
    "\"\"\"\n",
    "    Trotter error of the optimal gates construct.\n",
    "\"\"\"\n",
    "\n",
    "from qiskit import Aer, execute, transpile\n",
    "from qiskit.converters import circuit_to_dag\n",
    "from qiskit.providers.aer.noise import NoiseModel, errors\n",
    "\n",
    "I2 = np.eye(2)\n",
    "X = np.array([[0, 1], [1, 0]])\n",
    "Y = np.array([[0, -1j], [1j, 0]])\n",
    "Z = np.array([[1, 0], [0, -1]])\n",
    "ket_0 = np.array([[1],[0]])\n",
    "ket_1 = np.array([[0],[1]])\n",
    "rho_0_anc = ket_0 @ ket_0.T\n",
    "rho_1_anc = ket_1 @ ket_1.T\n",
    "\n",
    "#  Controlled Two qubit Gates Decomposed & Optimized Previously.\n",
    "Xlists_opt = {}\n",
    "perms_qc = [[0, 1], [0, 2], [1, 2], [0, 2], [0, 1], [1, 2], [0, 2], [0, 1], [1, 2]]\n",
    "for i in range(0, nlayers, eta+1):\n",
    "    with h5py.File(f\"./results/heisenberg1d_111_L4_t{t}_layers{nlayers}_gamma{gamma}_eta{eta}_CUs_APPROXS_n{len(perms_qc)}_layer{i}.hdf5\", \"r\") as file:\n",
    "        Xlists_opt[i] = file[f\"Xlist_{i}\"][:]\n",
    "qc_cU = construct_ccU(L, eta, Vs, Xlists_opt, perms, perms_qc)\n",
    "\n",
    "U = scipy.linalg.expm(-1j * t * hamil)\n",
    "cU = np.kron(rho_0_anc, U.conj().T) + np.kron(rho_1_anc, U)\n",
    "backend = Aer.get_backend(\"unitary_simulator\")\n",
    "qc_unit = execute(transpile(qc_cU), backend).result().get_unitary(qc_cU, L+1).data\n",
    "noise_model = NoiseModel()\n",
    "dag = circuit_to_dag(transpile(qc_cU, basis_gates=noise_model.basis_gates+['unitary', 'initialize', 'cx']))\n",
    "count_ops = dag.count_ops()\n",
    "\n",
    "print(f\"t={t}, Gate Count: \", count_ops['unitary'], \" Trotter error: \", np.linalg.norm(qc_unit - cU, ord=2))"
   ]
  },
  {
   "cell_type": "code",
   "execution_count": 18,
   "id": "27390919-7820-4fdc-8c8c-184fdad99e96",
   "metadata": {},
   "outputs": [
    {
     "name": "stdout",
     "output_type": "stream",
     "text": [
      "Resulting Fidelities:  [1.5677920633030545e-32, 1.3147240343310066e-32, 2.889675216644827e-33, 2.415388343325366e-34, 5.916294971339938e-32, 1.200584638565536e-31, 1.1142131107204973e-31, 2.147833353340855e-31, 1.6529830948621775e-31, 8.492279631869808e-33]\n"
     ]
    },
    {
     "data": {
      "text/plain": [
       "([1.5677920633030545e-32,\n",
       "  1.3147240343310066e-32,\n",
       "  2.889675216644827e-33,\n",
       "  2.415388343325366e-34,\n",
       "  5.916294971339938e-32,\n",
       "  1.200584638565536e-31,\n",
       "  1.1142131107204973e-31,\n",
       "  2.147833353340855e-31,\n",
       "  1.6529830948621775e-31,\n",
       "  8.492279631869808e-33],)"
      ]
     },
     "execution_count": 18,
     "metadata": {},
     "output_type": "execute_result"
    }
   ],
   "source": [
    "import sys\n",
    "sys.path.append(\"../../src/adiabatic_gsp\")\n",
    "from adiabatic_gsp import run_adiabatic\n",
    "\n",
    "latt_i = qib.lattice.IntegerLattice((2,), pbc=True)\n",
    "field_i = qib.field.Field(qib.field.ParticleType.QUBIT, latt_i)\n",
    "h_i = qib.HeisenbergHamiltonian(field_i, J, h).as_matrix()\n",
    "H_i = sp.csr_matrix((2**L, 2**L))\n",
    "for i in range(L//2):\n",
    "    H_ii = sp.eye(1)\n",
    "    for j in range(i):\n",
    "        H_ii = sp.kron(H_ii, sp.eye(2**2), format='csr')\n",
    "    H_ii = sp.kron(H_ii, h_i, format='csr')\n",
    "    for j in range(i+1, L//2):\n",
    "        H_ii = sp.kron(H_ii, sp.eye(2**2), format='csr')\n",
    "    H_i = H_i + H_ii\n",
    "eigenvalues, eigenvectors = LA.eigsh(H_i, k=10)\n",
    "idx = eigenvalues.argsort()\n",
    "eigenvectors_sort_init = eigenvectors[:,idx]\n",
    "initial_state = eigenvectors_sort_init[:, 0]\n",
    "\n",
    "hloc = construct_heisenberg_local_term(J, h)\n",
    "run_adiabatic(L, 2, 5, hloc, initial_state,\n",
    "     return_state=False, eigenvectors_sort=eigenvectors_sort, dimerized=True)"
   ]
  },
  {
   "cell_type": "code",
   "execution_count": 4,
   "id": "5b1c2059-f80e-4e86-819a-c14316e677ec",
   "metadata": {},
   "outputs": [],
   "source": [
    "\"\"\"\n",
    "    Exact Initialization + Iterative QPE\n",
    "    Let's assume we can efficiently encode a DMRG ground state.\n",
    "\"\"\"\n",
    "import sys\n",
    "sys.path.append(\"../../src/qpe\")\n",
    "from qpe import estimate_phases\n",
    "\n",
    "def norm_mod2pi(theta):\n",
    "    return np.pi - np.abs((theta%(2*np.pi)) - np.pi) \n",
    "\n",
    "def run_QPE(qc_prepared_state, qc_cU, basis_time, init_guess, Ns, final_digit, depolarizing_error):\n",
    "    theta_prev = -init_guess\n",
    "    est_prev = init_guess\n",
    "\n",
    "    x1_error = errors.depolarizing_error(depolarizing_error*0.01, 1)\n",
    "    x2_error = errors.depolarizing_error(depolarizing_error, 2)\n",
    "    noise_model = NoiseModel()\n",
    "    noise_model.add_all_qubit_quantum_error(x1_error, ['u1', 'u2', 'u3'])\n",
    "    noise_model.add_all_qubit_quantum_error(x2_error, ['cu3', 'cx', 'str', 'cy', 'cz', 'unitary'])\n",
    "    \n",
    "    Es = []\n",
    "    ests_ = []\n",
    "    thetas_ = []\n",
    "    cxss_A = []\n",
    "    mid_cbits = 0\n",
    "    mid_errs_A = []\n",
    "    for j in list(range(-1, final_digit+1, 1)):\n",
    "        T = 2**j\n",
    "        theta_prev_ = theta_prev\n",
    "        counts_real, counts_imag, cxs, qasm = estimate_phases(\n",
    "                                                L, qc_C, eigenvalues_sort, T/2, basis_time,\n",
    "                                                Ns, depolarizing_error, qc_cU, noise_model=noise_model,\n",
    "                                                return_counts=True,\n",
    "                                                get_cx=True, qasm=True\n",
    "                                           )[0]\n",
    "        cxss_A.append(cxs['unitary'])\n",
    "        print('CXs: ', cxss_A[-1])\n",
    "    \n",
    "        phase_est_real = ((counts_real['0'] if '0' in counts_real else 0) - (counts_real['1'] if '1' in counts_real else 0)) /\\\n",
    "                    ((counts_real['0'] if '0' in counts_real else 0) + (counts_real['1'] if '1' in counts_real else 0))     \n",
    "        phase_est_imag = ((counts_imag['0'] if '0' in counts_imag else 0) - (counts_imag['1'] if '1' in counts_imag else 0)) /\\\n",
    "                    ((counts_imag['0'] if '0' in counts_imag else 0) + (counts_imag['1'] if '1' in counts_imag else 0))\n",
    "        phase = phase_est_real + 1j*phase_est_imag\n",
    "                \n",
    "        print(\"Exact Phase: \", np.exp(-1j * T * eigenvalues_sort[0]))\n",
    "        print(\"Estimated Phase: \", phase)\n",
    "        print(\"Estimated Phase Amplitude: \", np.linalg.norm(phase))\n",
    "                \n",
    "        if phase.real != 0:\n",
    "            angle = np.arctan(phase.imag/phase.real) if phase.real>0 else (np.pi + np.arctan(phase.imag/phase.real) if phase.imag>0 else \\\n",
    "                                                                               np.arctan(phase.imag/phase.real) - np.pi)\n",
    "        else:\n",
    "            angle = np.pi/2 if phase.imag > 0 else -np.pi/2\n",
    "\n",
    "    \n",
    "        if T>1:\n",
    "            thetas = [(angle + k*2*np.pi)/T for k in range(T+1)]\n",
    "            norms = np.array([norm_mod2pi(theta - theta_prev) for theta in thetas])\n",
    "            id_ = np.argmin(norms)\n",
    "                    \n",
    "            ests = [-thetas[id_] - coe*np.pi for coe in range(2, 40, 2)]\n",
    "            est = ests[0]\n",
    "            for est_ in ests[1:]:\n",
    "                est = est_ if np.abs(est_-est_prev) < np.abs(est-est_prev) else est\n",
    "            ests_.append(est)\n",
    "            thetas_.append(thetas[id_])\n",
    "            theta_prev = thetas_[-1]\n",
    "        else:\n",
    "            thetas = [(angle + k*np.pi)/T for k in range(0, 40, 2)]\n",
    "            ests = [-theta for theta in thetas]\n",
    "            est = ests[0]\n",
    "            for est_ in ests[1:]:\n",
    "                est = est_ if np.abs(est_-est_prev) < np.abs(est-est_prev) else est\n",
    "            ests_.append(est)\n",
    "            thetas_.append(-est)\n",
    "            theta_prev = thetas_[-1]\n",
    "    \n",
    "        est_prev = ests_[-1]\n",
    "        print(\"Final Estimation Result, Abs Error: \", np.abs(est_prev-eigenvalues_sort[0]))    \n",
    "        print(\"Final Estimation Result, Relative Error: \", np.abs(est_prev-eigenvalues_sort[0])/np.abs(eigenvalues_sort[0]), '\\n')    \n",
    "        mid_errs_A.append(np.abs(est_prev-eigenvalues_sort[0]))\n",
    "        Es.append(est_prev)\n",
    "    return Es"
   ]
  },
  {
   "cell_type": "code",
   "execution_count": 5,
   "id": "4469efcb-7a30-4fe4-9d69-7419b5139147",
   "metadata": {},
   "outputs": [
    {
     "name": "stderr",
     "output_type": "stream",
     "text": [
      "/tmp/ipykernel_73871/1927710879.py:9: DeprecationWarning: The method ``qiskit.circuit.quantumcircuit.QuantumCircuit.qasm()`` is deprecated as of qiskit 0.46. It will be removed in the 1.0.0 release. Instead use the qiskit.qasm2.dump() or qiskit.qasm2.dumps() function\n",
      "  qasm_string = qc_C.qasm()\n"
     ]
    }
   ],
   "source": [
    "from qiskit.quantum_info import Statevector\n",
    "\n",
    "s = (ground_state * 0.7 + eigenvectors_sort[:, 1] * 0.3)\n",
    "s = s/np.linalg.norm(s)\n",
    "state = Statevector(np.kron(np.array([1, 0]), s))\n",
    "qc_C = qiskit.QuantumCircuit(L+1, 1)\n",
    "qc_C.initialize(state, [i for i in range(L+1)])\n",
    "\n",
    "qasm_string = qc_C.qasm()"
   ]
  },
  {
   "cell_type": "code",
   "execution_count": 7,
   "id": "41874d1f-b7df-4d93-8f58-3f2b1f88fbdc",
   "metadata": {},
   "outputs": [],
   "source": [
    "f1 = open(f'./Heis_8_init.qasm', 'w')\n",
    "f1.write(qasm_string)\n",
    "f1.close()"
   ]
  },
  {
   "cell_type": "code",
   "execution_count": 1,
   "id": "fd9e9746-46c6-4205-8d19-fc281e041cae",
   "metadata": {},
   "outputs": [],
   "source": [
    "from pytket.qasm import circuit_from_qasm\n",
    "import qnexus as qnx\n",
    "\n",
    "my_project_ref = qnx.projects.get_or_create(name=\"IQPE with ccU, aniso. Heisenberg L=10\")\n",
    "init_circ = circuit_from_qasm(f'./Heis_8_init.qasm')"
   ]
  },
  {
   "cell_type": "code",
   "execution_count": 92,
   "id": "c0b04add-fdfb-49e4-8faa-2592f6674620",
   "metadata": {
    "scrolled": true
   },
   "outputs": [
    {
     "name": "stdout",
     "output_type": "stream",
     "text": [
      "t:  0.25\n",
      "nsteps:  1\n",
      "getting counts\n",
      "CXs:  320\n",
      "Exact Phase:  (-0.8815374024953675-0.47211418957887763j)\n",
      "Estimated Phase:  (-0.6713333333333333-0.312j)\n",
      "Estimated Phase Amplitude:  0.740292134528285\n",
      "Final Estimation Result, Abs Error:  0.11327619054860705\n",
      "Final Estimation Result, Relative Error:  0.0057115204271448354 \n",
      "\n",
      "t:  0.5\n",
      "nsteps:  2\n",
      "getting counts\n",
      "CXs:  640\n",
      "Exact Phase:  (0.5542163839965591+0.8323726327251386j)\n",
      "Estimated Phase:  (0.3453333333333333+0.36733333333333335j)\n",
      "Estimated Phase Amplitude:  0.5041714875802566\n",
      "Final Estimation Result, Abs Error:  0.1671167455170135\n",
      "Final Estimation Result, Relative Error:  0.008426225326926171 \n",
      "\n",
      "t:  1.0\n",
      "nsteps:  4\n",
      "getting counts\n",
      "CXs:  1280\n",
      "Exact Phase:  (-0.3856883994195569+0.9226291012932447j)\n",
      "Estimated Phase:  (-0.04533333333333334+0.20866666666666667j)\n",
      "Estimated Phase Amplitude:  0.21353428036006042\n",
      "Final Estimation Result, Abs Error:  0.09101289716762295\n",
      "Final Estimation Result, Relative Error:  0.004588978661702559 \n",
      "\n",
      "t:  2.0\n",
      "nsteps:  8\n",
      "getting counts\n",
      "CXs:  2560\n",
      "Exact Phase:  (-0.7024889171063606-0.7116946826713916j)\n",
      "Estimated Phase:  (-0.015333333333333332-0.07733333333333334j)\n",
      "Estimated Phase Amplitude:  0.0788387947368271\n",
      "Final Estimation Result, Abs Error:  0.1457878678977771\n",
      "Final Estimation Result, Relative Error:  0.007350797916979262 \n",
      "\n"
     ]
    }
   ],
   "source": [
    "Es_ccU = run_QPE(qc_C, qc_cU, t, -25, 3000, 2, 1e-3)"
   ]
  },
  {
   "cell_type": "code",
   "execution_count": 93,
   "id": "53603be6-b386-4fdf-b173-9a12a4b77c50",
   "metadata": {
    "scrolled": true
   },
   "outputs": [
    {
     "name": "stdout",
     "output_type": "stream",
     "text": [
      "t:  0.25\n",
      "nsteps:  1\n",
      "getting counts\n"
     ]
    },
    {
     "name": "stderr",
     "output_type": "stream",
     "text": [
      "/opt/anaconda3/envs/qc/lib/python3.10/site-packages/numpy/linalg/linalg.py:2180: RuntimeWarning: divide by zero encountered in det\n",
      "  r = _umath_linalg.det(a, signature=signature)\n",
      "/opt/anaconda3/envs/qc/lib/python3.10/site-packages/numpy/linalg/linalg.py:2180: RuntimeWarning: invalid value encountered in det\n",
      "  r = _umath_linalg.det(a, signature=signature)\n"
     ]
    },
    {
     "name": "stdout",
     "output_type": "stream",
     "text": [
      "CXs:  270\n",
      "Exact Phase:  (-0.8815374024953675-0.47211418957887763j)\n",
      "Estimated Phase:  (-0.43733333333333335-0.20266666666666666j)\n",
      "Estimated Phase Amplitude:  0.4820106038483201\n",
      "Final Estimation Result, Abs Error:  0.11546834176623477\n",
      "Final Estimation Result, Relative Error:  0.005822051302152488 \n",
      "\n",
      "t:  0.5\n",
      "nsteps:  2\n",
      "getting counts\n",
      "CXs:  540\n",
      "Exact Phase:  (0.5542163839965591+0.8323726327251386j)\n",
      "Estimated Phase:  (0.128+0.10866666666666666j)\n",
      "Estimated Phase Amplitude:  0.16790605839112668\n",
      "Final Estimation Result, Abs Error:  0.27948606842372925\n",
      "Final Estimation Result, Relative Error:  0.014092020407585627 \n",
      "\n",
      "t:  1.0\n",
      "nsteps:  4\n",
      "getting counts\n",
      "CXs:  1080\n",
      "Exact Phase:  (-0.3856883994195569+0.9226291012932447j)\n",
      "Estimated Phase:  (-0.04+0.016666666666666666j)\n",
      "Estimated Phase Amplitude:  0.043333333333333335\n",
      "Final Estimation Result, Abs Error:  0.39002568639098456\n",
      "Final Estimation Result, Relative Error:  0.019665559586216918 \n",
      "\n",
      "t:  2.0\n",
      "nsteps:  8\n",
      "getting counts\n",
      "CXs:  2160\n",
      "Exact Phase:  (-0.7024889171063606-0.7116946826713916j)\n",
      "Estimated Phase:  (-0.004666666666666667-0.024j)\n",
      "Estimated Phase Amplitude:  0.024449494427856332\n",
      "Final Estimation Result, Abs Error:  0.1467101602319616\n",
      "Final Estimation Result, Relative Error:  0.007397300994819203 \n",
      "\n"
     ]
    }
   ],
   "source": [
    "from qiskit import Aer, execute, transpile\n",
    "from qiskit.circuit.library import CYGate, CZGate, IGate, CXGate\n",
    "from qiskit.converters import circuit_to_dag\n",
    "from qiskit.providers.aer.noise import NoiseModel, errors\n",
    "from qiskit.quantum_info import Statevector\n",
    "\n",
    "hloc1 = construct_heisenberg_local_term((J[0], 0   ,    0), (0, h[1], 0))\n",
    "hloc2 = construct_heisenberg_local_term((0   , J[1],    0), (0, 0, h[2]))\n",
    "hloc3 = construct_heisenberg_local_term((0   , 0   , J[2]), (h[0], 0, 0))\n",
    "hlocs = ((hloc1, ), (hloc2, ), (hloc3, ))\n",
    "cgates = ((CXGate, CZGate), (CXGate, CYGate), (CZGate, CYGate))\n",
    "qc_cU_trotter = cU_trotter(t, L, hlocs, cgates, trotter_step=0.1, trotter_degree=3)\n",
    "Es_trotter = run_QPE(qc_C, qc_cU_trotter, t, -25, 3000, 2, 1e-3)"
   ]
  },
  {
   "cell_type": "code",
   "execution_count": 100,
   "id": "adb3bf0b-65f0-42d7-adc1-b52c27c4d9aa",
   "metadata": {},
   "outputs": [
    {
     "data": {
      "image/png": "[encoded data removed]",
      "text/plain": [
       "<Figure size 640x480 with 1 Axes>"
      ]
     },
     "metadata": {},
     "output_type": "display_data"
    }
   ],
   "source": [
    "plt.errorbar([270, 540], Es_trotter[:2], yerr=[(2, 1), (2, 1)], label='Trotter 3rd Order', color='blue')\n",
    "plt.scatter([270, 540], Es_trotter[:2], color='blue')\n",
    "plt.errorbar([540, 1080, 2160], Es_trotter[1:], yerr=[(1, 0.5, .25), (1, 0.5, .25)], ls='--', color='blue')\n",
    "plt.scatter([540, 1080, 2160], Es_trotter[1:], color='blue')\n",
    "\n",
    "plt.errorbar([320, 640, 1280], Es_ccU[:3], yerr=[(2, 1, .5), (2, 1, .5)], label='ccU', color='orange')\n",
    "plt.scatter([320, 640, 1280], Es_ccU[:3], color='orange')\n",
    "plt.errorbar([1280, 2560], Es_ccU[2:], yerr=[(.5, .25), (.5, .25)], color='orange', ls='--')\n",
    "plt.scatter([1280, 2560], Es_ccU[2:], color='orange')\n",
    "\n",
    "plt.ylabel(\"Energy\")\n",
    "plt.xlabel(\"Gate Count\")\n",
    "plt.xscale('log')\n",
    "plt.axhline(eigenvalues_sort[0], ls='--', color='red', label=\"Ground State Energy\")\n",
    "\n",
    "#plt.title(\"QPE of Anisotropic Heisenberg Model of 10 sites \\n DMRG State Fidelity at 0.7 and 1e-3 depolarizing error\")\n",
    "plt.legend()\n",
    "plt.savefig(\"./figs/heisenberg1d_111_qpe.pdf\", dpi=300)\n",
    "plt.savefig(\"./figs/heisenberg1d_111_qpe.png\", dpi=300)"
   ]
  },
  {
   "cell_type": "code",
   "execution_count": null,
   "id": "38276bdd-6a17-46de-a0dc-45108a8829e3",
   "metadata": {},
   "outputs": [],
   "source": []
  },
  {
   "cell_type": "code",
   "execution_count": null,
   "id": "d0de120e-e3cd-447e-b032-e555ebf35c12",
   "metadata": {},
   "outputs": [],
   "source": []
  },
  {
   "cell_type": "code",
   "execution_count": null,
   "id": "846c62a9-2226-4284-98c7-399a1aa8f7ec",
   "metadata": {},
   "outputs": [],
   "source": []
  },
  {
   "cell_type": "code",
   "execution_count": null,
   "id": "7e3f9b2f-7e05-44ce-a347-dbfa776d472d",
   "metadata": {},
   "outputs": [],
   "source": []
  },
  {
   "cell_type": "code",
   "execution_count": 20,
   "id": "d42c69f9-8d16-4613-b4a7-3820f5715c2e",
   "metadata": {},
   "outputs": [],
   "source": [
    "\"\"\"\n",
    "    Now here is to compare the performance of the ccU circuit\n",
    "    with the 1st and 2nd order Trotter circuits, in terms of \n",
    "    gate count vs Trotter error. I demonstrate it on L=8 system.\n",
    "\"\"\"\n",
    "\n",
    "from qiskit import Aer, execute, transpile\n",
    "from qiskit.circuit.library import CYGate, CZGate, IGate, CXGate\n",
    "from qiskit.converters import circuit_to_dag\n",
    "from qiskit.providers.aer.noise import NoiseModel, errors\n",
    "\n",
    "\n",
    "def uncompr_trotterized_time_evolution(qc, hlocs, t, gate, lamb=None):\n",
    "    # permutations specifying gate layout\n",
    "    perms1 = [i for i in range(L)]\n",
    "    perms2 = [i for i in range(1, L)]+[0]\n",
    "    perm_set = [perms1, perms2]\n",
    "    perms = perm_set\n",
    "    \n",
    "    K_layer = [None for _ in range(L)]\n",
    "    for j in range(len(perms[0])//2):\n",
    "        K_layer[perms[0][2*j]] = gate[0]\n",
    "        K_layer[perms[0][2*j+1]] = gate[1]\n",
    "        \n",
    "    K_b = [K_layer, None]\n",
    "    K_a = [None, K_layer]\n",
    "    \n",
    "    Vlists = [[scipy.linalg.expm(-1j*t*hloc) for i in range(len(perm_set))] for hloc in hlocs]\n",
    "    Vlists_gates = [[] for _ in hlocs]\n",
    "    for i, Vlist in enumerate(Vlists):\n",
    "        for V in Vlist:\n",
    "            qc2 = qiskit.QuantumCircuit(2)\n",
    "            qc2.unitary(V, [0, 1], label='str')\n",
    "            Vlists_gates[i].append(qc2)\n",
    "\n",
    "\n",
    "    for layer in range(len(perms)):\n",
    "        if K_b[layer] is not None:\n",
    "            qc.x(L)\n",
    "            for j in range(L):\n",
    "                if K_b[layer][j] is not None:\n",
    "                    qc.append(K_b[layer][j](), [L, L-1-j])\n",
    "            qc.x(L)\n",
    "\n",
    "            \n",
    "        for Vlist_gates in Vlists_gates:\n",
    "            qc_gate = Vlist_gates[layer]\n",
    "            \n",
    "            for j in range(len(perms[layer])//2):\n",
    "                    qc.append(qc_gate.to_gate(), [L-(perms[layer][2*j]+1), \n",
    "                                                    L-(perms[layer][2*j+1]+1)])\n",
    "\n",
    "        if K_a[layer] is not None:\n",
    "            qc.x(L)\n",
    "            for j in range(L):\n",
    "                if K_a[layer][j] is not None:\n",
    "                    qc.append(K_a[layer][j](), [L, L-1-j])\n",
    "            qc.x(L)\n",
    "\n",
    "\n",
    "def cU_trotter(t, L, hlocs, cgates, dagger=False, nsteps=1, trotter_degree=2, trotter_step=0.1):\n",
    "    if t/(nsteps) > trotter_step:\n",
    "        nsteps = int(np.ceil(t/trotter_step))\n",
    "    dt = t/(nsteps)\n",
    "    qc_cU_ins = qiskit.QuantumCircuit(L+1)\n",
    "    \n",
    "    # Trotter 2nd Order.\n",
    "    indices = [0, 1, 2, 1, 0]\n",
    "    coeffs  = [0.5, 0.5, 1, 0.5, 0.5]\n",
    "    if trotter_degree==1:\n",
    "        # Trotter 1st Order.\n",
    "        indices = [0, 1, 2]\n",
    "        coeffs  = [1, 1, 1]\n",
    "    if trotter_degree==3:\n",
    "        # Trotter 3rd Order.\n",
    "        indices = [0, 1, 2, 1, 0, 1, 2, 1, 0]\n",
    "        coeffs  = [0.25, 0.25, 0.5, 0.25, 0.5, 0.25, 0.5, 0.25, 0.25]\n",
    "        \n",
    "    for n in range(nsteps):\n",
    "        for index, coef in zip(indices, coeffs):\n",
    "            uncompr_trotterized_time_evolution(qc_cU_ins, hlocs[index], dt * coef, cgates[index])\n",
    "\n",
    "    return qc_cU_ins\n",
    "    "
   ]
  },
  {
   "cell_type": "code",
   "execution_count": null,
   "id": "bad0aaf2-568a-4af1-b328-d8f0f20bb741",
   "metadata": {},
   "outputs": [],
   "source": []
  }
 ],
 "metadata": {
  "kernelspec": {
   "display_name": "Python3.10 (qc)",
   "language": "python",
   "name": "qc"
  },
  "language_info": {
   "codemirror_mode": {
    "name": "ipython",
    "version": 3
   },
   "file_extension": ".py",
   "mimetype": "text/x-python",
   "name": "python",
   "nbconvert_exporter": "python",
   "pygments_lexer": "ipython3",
   "version": "3.10.13"
  }
 },
 "nbformat": 4,
 "nbformat_minor": 5
}
