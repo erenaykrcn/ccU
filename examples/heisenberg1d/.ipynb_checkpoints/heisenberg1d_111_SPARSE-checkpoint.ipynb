{
 "cells": [
  {
   "cell_type": "code",
   "execution_count": 1,
   "id": "e44b0e43-bba5-469d-8c5c-3a902cdf92bc",
   "metadata": {},
   "outputs": [],
   "source": [
    "import qiskit\n",
    "from qiskit.quantum_info import state_fidelity\n",
    "import numpy as np\n",
    "from numpy import linalg as LA\n",
    "import qib\n",
    "import matplotlib.pyplot as plt\n",
    "import scipy\n",
    "import h5py\n",
    "\n",
    "\n",
    "I2 = np.eye(2)\n",
    "X = np.array([[0, 1], [1, 0]])\n",
    "Y = np.array([[0, -1j], [1j, 0]])\n",
    "Z = np.array([[1, 0], [0, -1]])\n",
    "ket_0 = np.array([[1],[0]])\n",
    "ket_1 = np.array([[0],[1]])\n",
    "rho_0_anc = ket_0 @ ket_0.T\n",
    "rho_1_anc = ket_1 @ ket_1.T"
   ]
  },
  {
   "cell_type": "code",
   "execution_count": 7,
   "id": "730c878d-7b1c-43ae-a7ed-bb9f3a96bdf9",
   "metadata": {},
   "outputs": [
    {
     "name": "stdout",
     "output_type": "stream",
     "text": [
      "Trotter error of the starting point:  0.8153257584267191\n"
     ]
    }
   ],
   "source": [
    "import sys\n",
    "sys.path.append(\"../../src/brickwall_sparse\")\n",
    "from optimize_sparse import optimize\n",
    "from utils_sparse import construct_heisenberg_local_term\n",
    "from ansatz_sparse import ansatz_sparse\n",
    "import rqcopt as oc\n",
    "from qiskit.quantum_info import random_statevector\n",
    "from scipy.sparse.linalg import expm_multiply\n",
    "\n",
    "L = 6\n",
    "# construct Hamiltonian\n",
    "latt = qib.lattice.IntegerLattice((L,), pbc=True)\n",
    "field = qib.field.Field(qib.field.ParticleType.QUBIT, latt)\n",
    "J = (1, 1, 1)\n",
    "h = (1, 1, 1)\n",
    "hamil = qib.HeisenbergHamiltonian(field, J, h).as_matrix().toarray()\n",
    "t = 0.5\n",
    "\n",
    "hloc1 = construct_heisenberg_local_term((J[0], 0   ,    0), (0, h[1], 0))\n",
    "hloc2 = construct_heisenberg_local_term((0   , J[1],    0), (0, 0, h[2]))\n",
    "hloc3 = construct_heisenberg_local_term((0   , 0   , J[2]), (h[0], 0, 0))\n",
    "hlocs = (hloc1, hloc2, hloc3)\n",
    "Vs = [scipy.linalg.expm(-1j*t*hloc) if i==2 else scipy.linalg.expm(-1j*t*hloc/2)  for i, hloc in enumerate(hlocs)]\n",
    "cs = [np.kron(X,  Z), np.kron(Z@Y, I2), np.kron(X@Z, I2), np.kron(I2, Z@X), np.kron(I2, Y@Z), np.kron(Z, X)]\n",
    "\n",
    "Vlist_start = [cs[0], Vs[0], Vs[0], cs[1], Vs[1], Vs[1], cs[2], Vs[2], Vs[2], cs[3], Vs[1], Vs[1], cs[4], Vs[0], Vs[0], cs[5]]\n",
    "Vlist_reduced = [Vs[0], Vs[0], Vs[1], Vs[1], Vs[2], Vs[2], Vs[1], Vs[1], Vs[0], Vs[0]]\n",
    "control_layers = [0, 3, 6, 9, 12, 15] # 6 control layers\n",
    "perms_extended = [[[i for i in range(L)]] if i%2==0 else [[i for i in range(1, L)]+[0]] for i in range(len(Vlist_start))]\n",
    "perms_ext_reduced = []\n",
    "for i, perm in enumerate(perms_extended):\n",
    "    if i not in control_layers:\n",
    "        perms_ext_reduced.append(perm)\n",
    "\n",
    "state = random_statevector(2**L).data\n",
    "print(\"Trotter error of the starting point: \", (np.linalg.norm(ansatz_sparse(Vlist_start, L, perms_extended, state) - expm_multiply(\n",
    "    1j * t * hamil, state), ord=2) + np.linalg.norm(ansatz_sparse(Vlist_reduced, L, perms_ext_reduced, state) - expm_multiply(\n",
    "    -1j * t * hamil, state), ord=2))/2)"
   ]
  },
  {
   "cell_type": "code",
   "execution_count": null,
   "id": "4c823060-5938-4d88-8920-d389d03761e3",
   "metadata": {},
   "outputs": [],
   "source": [
    "from optimize_sparse import optimize\n",
    "\n",
    "niter = 5\n",
    "rS    = 6 \n",
    "Vlist5, f_iter, err_iter = optimize(L, hamil, t, Vlist4, perms_extended, perms_reduced=perms_ext_reduced, \n",
    "                                   control_layers=control_layers, rS=rS, niter=niter)\n",
    "plt.plot(err_iter)\n",
    "plt.yscale('log')\n",
    "print(err_iter[-1])"
   ]
  },
  {
   "cell_type": "code",
   "execution_count": 32,
   "id": "8709f1de-54b0-47f5-9349-b07fa6fb0839",
   "metadata": {},
   "outputs": [],
   "source": [
    "with h5py.File(f\"./results/heisenberg1d_111_SPARSE_L{L}_t{t}_layers{len(Vlist)}_c{len(control_layers)}_niter55_rS6.hdf5\", \"w\") as f:\n",
    "    f.create_dataset(\"Vlist\", data=Vlist5)\n",
    "    f.create_dataset(\"f_iter\", data=f_iter)\n",
    "    f.create_dataset(\"err_iter\", data=err_iter)\n",
    "    f.attrs[\"L\"] = L\n",
    "    f.attrs[\"t\"] = float(t)"
   ]
  },
  {
   "cell_type": "code",
   "execution_count": 36,
   "id": "cf829c21-0ff0-4439-ad49-df088f965537",
   "metadata": {},
   "outputs": [],
   "source": [
    "\"\"\"with h5py.File(f\"./results/heisenberg1d_111_SPARSE_L8_t0.5_layers16_c6.hdf5\", \"r\") as file:\n",
    "    Vlist_20 = file[f\"Vlist\"][:]\"\"\"\n",
    "\n",
    "with h5py.File(f\"./results/heisenberg1d_111_SPARSE_L6_t0.5_layers16_c6_niter50_rS6.hdf5\", \"r\") as file:\n",
    "    Vlist = file[f\"Vlist\"][:]"
   ]
  },
  {
   "cell_type": "code",
   "execution_count": 104,
   "id": "d40c247c-4879-45af-a9e7-5dc0035df19f",
   "metadata": {},
   "outputs": [
    {
     "name": "stdout",
     "output_type": "stream",
     "text": [
      "Trotter error of the starting point:  0.08063759198961588\n"
     ]
    }
   ],
   "source": [
    "\"\"\"\n",
    "    Test operations.\n",
    "\"\"\"\n",
    "L = 20\n",
    "# construct Hamiltonian\n",
    "latt = qib.lattice.IntegerLattice((L,), pbc=True)\n",
    "field = qib.field.Field(qib.field.ParticleType.QUBIT, latt)\n",
    "J = (1, 1, 1)\n",
    "h = (1, 1, 1)\n",
    "hamil = qib.HeisenbergHamiltonian(field, J, h).as_matrix()\n",
    "t = 0.5\n",
    "perms_extended = [[[i for i in range(L)]] if i%2==0 else [[i for i in range(1, L)]+[0]] for i in range(len(Vlist_start))]\n",
    "perms_ext_reduced = []\n",
    "for i, perm in enumerate(perms_extended):\n",
    "    if i not in control_layers:\n",
    "        perms_ext_reduced.append(perm)\n",
    "Vlist_reduced = []\n",
    "for i, V in enumerate(Vlist):\n",
    "    if i not in control_layers:\n",
    "        Vlist_reduced.append(V)\n",
    "\n",
    "state = random_statevector(2**L).data\n",
    "print(\"Trotter error of the starting point: \", (np.linalg.norm(ansatz_sparse(Vlist, L, perms_extended, state) - expm_multiply(\n",
    "    1j * t * hamil, state), ord=2) + np.linalg.norm(ansatz_sparse(Vlist_reduced, L, perms_ext_reduced, state) - expm_multiply(\n",
    "    -1j * t * hamil, state), ord=2))/2)"
   ]
  },
  {
   "cell_type": "code",
   "execution_count": 41,
   "id": "4a9e31ff-2d45-46a2-b1ca-18f17d4f0f4f",
   "metadata": {
    "scrolled": true
   },
   "outputs": [
    {
     "name": "stderr",
     "output_type": "stream",
     "text": [
      "/opt/anaconda3/envs/qc/lib/python3.10/site-packages/rqcopt/trust_region.py:81: RuntimeWarning: divide by zero encountered in scalar divide\n",
      "  alpha = rsq / dHd\n",
      "/opt/anaconda3/envs/qc/lib/python3.10/site-packages/rqcopt/trust_region.py:40: RuntimeWarning: divide by zero encountered in scalar divide\n",
      "  rho = (f(x_next) - fx) / (np.dot(grad, eta) + 0.5 * np.dot(eta, hess @ eta))\n",
      "/opt/anaconda3/envs/qc/lib/python3.10/site-packages/rqcopt/trust_region.py:40: RuntimeWarning: invalid value encountered in scalar divide\n",
      "  rho = (f(x_next) - fx) / (np.dot(grad, eta) + 0.5 * np.dot(eta, hess @ eta))\n"
     ]
    },
    {
     "name": "stdout",
     "output_type": "stream",
     "text": [
      "Best f:  -7.999999999999914\n",
      "Best err:  2.1303645529386208e-07\n",
      "Best f:  -7.999999999999945\n",
      "Best err:  1.9410247278359644e-07\n",
      "Best f:  -7.999999999999815\n",
      "Best err:  3.167975890834458e-07\n",
      "Best f:  -7.999999999999922\n",
      "Best err:  1.722490223784681e-07\n",
      "Best f:  -7.999999999999921\n",
      "Best err:  2.1426164010465294e-07\n",
      "Best f:  -7.999999999999882\n",
      "Best err:  2.3156602519077676e-07\n"
     ]
    }
   ],
   "source": [
    "sys.path.append(\"../../src/controlled_unitary_optimizer\")\n",
    "sys.path.append(\"../../src/brickwall_ansatz\")\n",
    "from optimize_3q import optimize_3q \n",
    "from utils_3q import make_controlled, random_unitary\n",
    "\n",
    "Xlists_opt = {}\n",
    "perms_qc = [[0, 1], [0, 2], [1, 2], [0, 2], [0, 1], [1, 2], [0, 2], [0, 1], [1, 2]]\n",
    "\n",
    "for i in control_layers:\n",
    "    cU = make_controlled(Vlist[i])\n",
    "    f_best, err_best, Glist_best = (0, 2, None)\n",
    "    for _ in range(10):\n",
    "        Xlist_start = [random_unitary(4) for i in range(len(perms_qc))]\n",
    "        Xlist, f_iter, err_iter = optimize_3q(L, cU, Xlist_start, perms_qc, niter=1000)\n",
    "        if err_iter[-1] < err_best:\n",
    "            f_best, err_best, Xlist_best = (f_iter[-1], err_iter[-1], Xlist)\n",
    "    print(\"Best f: \", f_best)\n",
    "    print(\"Best err: \", err_best)\n",
    "    Xlists_opt[i] = Xlist_best"
   ]
  },
  {
   "cell_type": "code",
   "execution_count": 42,
   "id": "51199dad-b974-4964-828c-a7b1216a785f",
   "metadata": {},
   "outputs": [],
   "source": [
    "# Save the optimal gates.\n",
    "\n",
    "for i in control_layers:\n",
    "    with h5py.File(f\"./results/heisenberg1d_111_SPARSE_L6_t{t}_layers16_c6_niter50_rS6_DECOMPOSE_n{len(perms_qc)}_layer{i}.hdf5\", \"w\") as file:\n",
    "        file.create_dataset(f\"Xlist_{i}\", data=Xlists_opt[i])"
   ]
  },
  {
   "cell_type": "code",
   "execution_count": 44,
   "id": "0ee5314a-f2c5-4fcf-a309-eb7740a92f6a",
   "metadata": {},
   "outputs": [],
   "source": [
    "Xlists_opt1 = {}\n",
    "for i in control_layers:\n",
    "    with h5py.File(f\"./results/heisenberg1d_111_SPARSE_L6_t{t}_layers16_c6_niter50_rS6_DECOMPOSE_n{len(perms_qc)}_layer{i}.hdf5\", \"r\") as file:\n",
    "        Xlists_opt1[i] = file[f\"Xlist_{i}\"][:]"
   ]
  },
  {
   "cell_type": "code",
   "execution_count": 200,
   "id": "3910e4b9-420d-4aef-9740-a5cb7d1d94f7",
   "metadata": {},
   "outputs": [
    {
     "name": "stderr",
     "output_type": "stream",
     "text": [
      "/tmp/ipykernel_1296/3497514686.py:38: DeprecationWarning: The function ``qiskit.execute_function.execute()`` is deprecated as of qiskit 0.46.0. It will be removed in the Qiskit 1.0 release. This function combines ``transpile`` and ``backend.run``, which is covered by ``Sampler`` :mod:`~qiskit.primitives`. Alternatively, you can also run :func:`.transpile` followed by ``backend.run()``.\n",
      "  sv1 = execute(transpile(qc_ext1), backend).result().get_statevector().data\n",
      "/tmp/ipykernel_1296/3497514686.py:46: DeprecationWarning: The function ``qiskit.execute_function.execute()`` is deprecated as of qiskit 0.46.0. It will be removed in the Qiskit 1.0 release. This function combines ``transpile`` and ``backend.run``, which is covered by ``Sampler`` :mod:`~qiskit.primitives`. Alternatively, you can also run :func:`.transpile` followed by ``backend.run()``.\n",
      "  sv2 = execute(transpile(qc_ext2), backend).result().get_statevector().data\n"
     ]
    },
    {
     "name": "stdout",
     "output_type": "stream",
     "text": [
      "t=1.5, Gate Count:  1920  Trotter error:  0.16659943098685642\n"
     ]
    }
   ],
   "source": [
    "from qiskit import Aer, execute, transpile\n",
    "from qiskit.circuit.library import CYGate, CZGate, IGate, CXGate\n",
    "from qiskit.converters import circuit_to_dag\n",
    "from qiskit.providers.aer.noise import NoiseModel, errors\n",
    "from qiskit import Aer, execute, transpile\n",
    "from scipy import sparse as sp\n",
    "\n",
    "qc = qiskit.QuantumCircuit(L+1)\n",
    "qc.x(L)\n",
    "for i, V in enumerate(Vlist):\n",
    "    layer = i\n",
    "    if i in control_layers:\n",
    "        Glist = Xlists_opt[i]\n",
    "        qc_3 = qiskit.QuantumCircuit(3)\n",
    "        for j, G in enumerate(Glist):\n",
    "            qc_3.unitary( G, (3-1-perms_qc[j][1], 3-1-perms_qc[j][0]))\n",
    "\n",
    "        for perm in perms_extended[layer]:\n",
    "            for j in range(L//2):\n",
    "                qc.append(qc_3.to_gate(), [L-perm[2*j]-1, L-perm[2*j+1]-1, L])\n",
    "        \n",
    "    else:\n",
    "        for perm in perms_extended[layer]:\n",
    "            for j in range(L//2):\n",
    "                qc.unitary(V, [L-perm[2*j]-1, L-perm[2*j+1]-1])\n",
    "qc.x(L)\n",
    "\n",
    "\n",
    "#ccU_cxs= []\n",
    "#ccU_errs = []\n",
    "for t in [1.5]:\n",
    "    state = random_statevector(2**L).data\n",
    "    qc_ext1 = qiskit.QuantumCircuit(L+1)\n",
    "    qc_ext1.initialize(state, [i for i in range(L)])\n",
    "    for i in range(int(t/0.5)):\n",
    "        qc_ext1.append(qc.to_gate(), [i for i in range(L+1)])\n",
    "    backend = Aer.get_backend(\"statevector_simulator\")\n",
    "    sv1 = execute(transpile(qc_ext1), backend).result().get_statevector().data\n",
    "    \n",
    "    qc_ext2 = qiskit.QuantumCircuit(L+1)\n",
    "    qc_ext2.initialize(state, [i for i in range(L)])\n",
    "    qc_ext2.x(L)\n",
    "    for i in range(int(t/0.5)):\n",
    "        qc_ext2.append(qc.to_gate(), [i for i in range(L+1)])\n",
    "    backend = Aer.get_backend(\"statevector_simulator\")\n",
    "    sv2 = execute(transpile(qc_ext2), backend).result().get_statevector().data\n",
    "\n",
    "    ket_0 = np.array([1, 0])\n",
    "    ket_1 = np.array([0, 1])\n",
    "    exact_v1 = np.kron(ket_0, expm_multiply(1j * t * hamil, state))\n",
    "    exact_v2 = np.kron(ket_1, expm_multiply(-1j * t * hamil, state))\n",
    "    err = (np.linalg.norm(sv1-exact_v1, ord=2) + np.linalg.norm(sv2-exact_v2, ord=2))/2\n",
    "    \n",
    "    noise_model = NoiseModel()\n",
    "    dag = circuit_to_dag(transpile(qc_ext1, basis_gates=noise_model.basis_gates+['unitary', 'initialize', 'cx']))\n",
    "    count_ops = dag.count_ops()\n",
    "    \n",
    "    ccU_errs.append(err)\n",
    "    ccU_cxs.append(count_ops['unitary'])\n",
    "    print(f\"t={t}, Gate Count: \", count_ops['unitary'], \" Trotter error: \", err)"
   ]
  },
  {
   "cell_type": "code",
   "execution_count": 208,
   "id": "f7bf4bd3-7a55-4771-a751-1c05a269c5f2",
   "metadata": {
    "scrolled": true
   },
   "outputs": [
    {
     "name": "stderr",
     "output_type": "stream",
     "text": [
      "/tmp/ipykernel_1296/82421771.py:109: DeprecationWarning: The function ``qiskit.execute_function.execute()`` is deprecated as of qiskit 0.46.0. It will be removed in the Qiskit 1.0 release. This function combines ``transpile`` and ``backend.run``, which is covered by ``Sampler`` :mod:`~qiskit.primitives`. Alternatively, you can also run :func:`.transpile` followed by ``backend.run()``.\n",
      "  sv1 = execute(transpile(qc_ext1), backend).result().get_statevector().data\n",
      "/tmp/ipykernel_1296/82421771.py:116: DeprecationWarning: The function ``qiskit.execute_function.execute()`` is deprecated as of qiskit 0.46.0. It will be removed in the Qiskit 1.0 release. This function combines ``transpile`` and ``backend.run``, which is covered by ``Sampler`` :mod:`~qiskit.primitives`. Alternatively, you can also run :func:`.transpile` followed by ``backend.run()``.\n",
      "  sv2 = execute(transpile(qc_ext2), backend).result().get_statevector().data\n"
     ]
    },
    {
     "name": "stdout",
     "output_type": "stream",
     "text": [
      "t=0.5, Gate Count:  1500  Trotter error:  0.1807771842225962\n",
      "t=1, Gate Count:  3000  Trotter error:  0.30265263944132426\n",
      "t=1.5, Gate Count:  4500  Trotter error:  0.38777533456822233\n",
      "t=2, Gate Count:  6000  Trotter error:  0.45531193293427574\n"
     ]
    }
   ],
   "source": [
    "\"\"\"\n",
    "    Now here is to compare the performance of the ccU circuit\n",
    "    with the 1st and 2nd order Trotter circuits, in terms of \n",
    "    gate count vs Trotter error. I demonstrate it on L=10 system.\n",
    "\"\"\"\n",
    "\n",
    "\n",
    "def uncompr_trotterized_time_evolution(qc, hlocs, t, gate, lamb=None):\n",
    "    # permutations specifying gate layout\n",
    "    perms1 = [i for i in range(L)]\n",
    "    perms2 = [i for i in range(1, L)]+[0]\n",
    "    perm_set = [perms1, perms2]\n",
    "    perms = perm_set\n",
    "    \n",
    "    K_layer = [None for _ in range(L)]\n",
    "    for j in range(len(perms[0])//2):\n",
    "        K_layer[perms[0][2*j]] = gate[0]\n",
    "        K_layer[perms[0][2*j+1]] = gate[1]\n",
    "        \n",
    "    K_b = [K_layer, None]\n",
    "    K_a = [None, K_layer]\n",
    "    \n",
    "    Vlists = [[scipy.linalg.expm(-1j*t*hloc) for i in range(len(perm_set))] for hloc in hlocs]\n",
    "    Vlists_gates = [[] for _ in hlocs]\n",
    "    for i, Vlist in enumerate(Vlists):\n",
    "        for V in Vlist:\n",
    "            qc2 = qiskit.QuantumCircuit(2)\n",
    "            qc2.unitary(V, [0, 1], label='str')\n",
    "            Vlists_gates[i].append(qc2)\n",
    "\n",
    "\n",
    "    for layer in range(len(perms)):\n",
    "        if K_b[layer] is not None:\n",
    "            qc.x(L)\n",
    "            for j in range(L):\n",
    "                if K_b[layer][j] is not None:\n",
    "                    qc.append(K_b[layer][j](), [L, L-1-j])\n",
    "            qc.x(L)\n",
    "\n",
    "            \n",
    "        for Vlist_gates in Vlists_gates:\n",
    "            qc_gate = Vlist_gates[layer]\n",
    "            \n",
    "            for j in range(len(perms[layer])//2):\n",
    "                    qc.append(qc_gate.to_gate(), [L-(perms[layer][2*j]+1), \n",
    "                                                    L-(perms[layer][2*j+1]+1)])\n",
    "\n",
    "        if K_a[layer] is not None:\n",
    "            qc.x(L)\n",
    "            for j in range(L):\n",
    "                if K_a[layer][j] is not None:\n",
    "                    qc.append(K_a[layer][j](), [L, L-1-j])\n",
    "            qc.x(L)\n",
    "\n",
    "\n",
    "def uncompr_controlled_trotter(c1, c2, L, J, h=(0,0,0), dagger=False, nsteps=1, trotter_degree=2):\n",
    "    if c1/(2*nsteps) > 0.1:\n",
    "        nsteps = int(np.ceil(c1/(2 * 0.1)))\n",
    "    dt = c1/(2*nsteps)\n",
    "    t = c1/2\n",
    "    \n",
    "    hloc1 = construct_heisenberg_local_term((J[0], 0   ,    0), (0, h[1],    0))\n",
    "    hloc2 = construct_heisenberg_local_term((0   ,    J[1], 0), (0, 0, h[2]   ))\n",
    "    hloc3 = construct_heisenberg_local_term((0   , 0   , J[2]), (h[0], 0,    0))\n",
    "    qc_cU_ins = qiskit.QuantumCircuit(L+1)\n",
    "\n",
    "    if dagger:\n",
    "        qc_cU_ins.x(L)\n",
    "\n",
    "    hs = ((hloc1,), (hloc2,), (hloc3,))\n",
    "    cgates = ((CXGate, CZGate), \n",
    "              (CXGate, CYGate), \n",
    "              (CZGate, CYGate))\n",
    "\n",
    "    # Trotter 2nd Order.\n",
    "    indices = [0, 1, 2, 1, 0]\n",
    "    coeffs  = [0.5, 0.5, 1, 0.5, 0.5]\n",
    "    if trotter_degree==1:\n",
    "        # Trotter 1st Order.\n",
    "        indices = [0, 1, 2]\n",
    "        coeffs  = [1, 1, 1]\n",
    "    if trotter_degree==4:\n",
    "        # Trotter 4th Order.\n",
    "        indices = [0, 1, 2, 1, 0, 1, 2, 1, 0]\n",
    "        coeffs  = [0.25, 0.25, 0.5, 0.25, 0.5, 0.25, 0.5, 0.25, 0.25]\n",
    "        \n",
    "    for n in range(nsteps):\n",
    "        for index, coef in zip(indices, coeffs):\n",
    "            uncompr_trotterized_time_evolution(qc_cU_ins, hs[index], dt * coef, cgates[index])\n",
    "\n",
    "    qc_cU_ins.cp(-c2, L,  0)\n",
    "    qc_cU_ins.x(0)\n",
    "    qc_cU_ins.cp(-c2, L, 0)\n",
    "    qc_cU_ins.x(0)\n",
    "\n",
    "    if dagger:\n",
    "        qc_cU_ins.x(L)\n",
    "\n",
    "    return qc_cU_ins\n",
    "    \n",
    "trotter2_cxs= []\n",
    "trotter2_errs = []\n",
    "for t in [0.5, 1, 1.5, 2]:\n",
    "    state = random_statevector(2**L).data\n",
    "    qc_ext1 = qiskit.QuantumCircuit(L+1)\n",
    "    qc_ext1.initialize(state, [i for i in range(L)])\n",
    "    qc_ext1.append(uncompr_controlled_trotter(2*t, 0, L, J, h, trotter_degree=2).to_gate(), [i for i in range(L+1)])\n",
    "    backend = Aer.get_backend(\"statevector_simulator\")\n",
    "    sv1 = execute(transpile(qc_ext1), backend).result().get_statevector().data\n",
    "    \n",
    "    qc_ext2 = qiskit.QuantumCircuit(L+1)\n",
    "    qc_ext2.initialize(state, [i for i in range(L)])\n",
    "    qc_ext2.x(L)\n",
    "    qc_ext2.append(uncompr_controlled_trotter(2*t, 0, L, J, h, trotter_degree=2).to_gate(), [i for i in range(L+1)])\n",
    "    backend = Aer.get_backend(\"statevector_simulator\")\n",
    "    sv2 = execute(transpile(qc_ext2), backend).result().get_statevector().data\n",
    "\n",
    "    ket_0 = np.array([1, 0])\n",
    "    ket_1 = np.array([0, 1])\n",
    "    exact_v1 = np.kron(ket_0, expm_multiply(1j * t * hamil, state))\n",
    "    exact_v2 = np.kron(ket_1, expm_multiply(-1j * t * hamil, state))\n",
    "    err = (np.linalg.norm(sv1-exact_v1, ord=2) + np.linalg.norm(sv2-exact_v2, ord=2))/2\n",
    "    \n",
    "    noise_model = NoiseModel()\n",
    "    dag = circuit_to_dag(transpile(qc_ext1, basis_gates=noise_model.basis_gates+['unitary', 'initialize', 'cx']))\n",
    "    count_ops = dag.count_ops()\n",
    "\n",
    "    trotter2_cxs.append(count_ops['cx']+count_ops['unitary'])\n",
    "    trotter2_errs.append(err)\n",
    "\n",
    "    print(f\"t={t}, Gate Count: \", count_ops['cx']+count_ops['unitary'], \" Trotter error: \", err)"
   ]
  },
  {
   "cell_type": "code",
   "execution_count": 290,
   "id": "911bd278-65d3-477f-8be3-4ba5b4259dfa",
   "metadata": {},
   "outputs": [
    {
     "data": {
      "text/plain": [
       "<Figure size 700x500 with 0 Axes>"
      ]
     },
     "metadata": {},
     "output_type": "display_data"
    },
    {
     "data": {
      "image/png": "[encoded data removed]",
      "text/plain": [
       "<Figure size 700x500 with 1 Axes>"
      ]
     },
     "metadata": {},
     "output_type": "display_data"
    }
   ],
   "source": [
    "import matplotlib\n",
    "plt.subplots_adjust(left=0.2, bottom=0.1, right=0.9, top=0.8, wspace=0.1, hspace=0.2)\n",
    "plt.rcParams[\"figure.figsize\"] = (7, 5)\n",
    "import matplotlib as mpl\n",
    "mpl.rcParams['figure.dpi'] = 100\n",
    "\n",
    "fig1, ax1 = plt.subplots()\n",
    "color1 = (39/256, 42/256  , 138/256)\n",
    "color2 = (61/256, 179/256 , 84/256 )\n",
    "color3 = (181/256, 161/256, 63/256 )\n",
    "plt.xlabel(r'Two Qubit Gates ($\\propto$ t)', size=15)\n",
    "plt.ylabel('Trotter Error', size=15)\n",
    "plt.yticks([0.1, 0.15, 0.2, 0.25, 0.3, 0.35, 0.4, 0.45])\n",
    "\n",
    "plt.plot(trotter4_cxs, trotter4_errs, label=r\"Trotter 4th Order\", color=color1)\n",
    "plt.scatter(trotter4_cxs, trotter4_errs, ls='--', color=color1)\n",
    "plt.plot(trotter2_cxs, trotter2_errs, label=r\"Trotter 2nd Order\", color=color3)\n",
    "plt.scatter(trotter2_cxs, trotter2_errs, ls='--', color=color3)\n",
    "plt.plot(ccU_cxs, ccU_errs, label=r\"Compressed Controlled-U\", color=color2)\n",
    "plt.scatter(ccU_cxs, ccU_errs, color=color2)\n",
    "\n",
    "annotations = [(\"t=0.5\", (10, -5)), (\"t=1\", (1, -15)), (\"t=1.5\", (1, -15)), (\"t=2\", (-5, -25))]\n",
    "for xi, yi, text in zip(trotter4_cxs, trotter4_errs, annotations):\n",
    "    plt.annotate(text[0], xy=(xi, yi), xycoords='data', size=10, xytext=text[1], textcoords='offset points', color=color1)\n",
    "    \n",
    "annotations = [(\"t=0.5\", (10, -5)), (\"t=1\", (1, -15)), (\"t=1.5\", (1, -15)), (\"t=2\", (-5, -25))]\n",
    "for xi, yi, text in zip(ccU_cxs, ccU_errs, annotations):\n",
    "    plt.annotate(text[0], xy=(xi, yi), xycoords='data', size=10, xytext=text[1], textcoords='offset points', color=color2)\n",
    "\n",
    "annotations = [(\"t=0.5\", (-25, 10)), (\"t=1\", (-2, -18)), (\"t=1.5\", (-5, -18)), (\"t=2\", (-28, -2))]\n",
    "for xi, yi, text in zip(trotter2_cxs, trotter2_errs, annotations):\n",
    "    plt.annotate(text[0], xy=(xi, yi), xycoords='data', size=10, xytext=text[1], textcoords='offset points', color=color3)\n",
    "\n",
    "plt.tight_layout()\n",
    "plt.legend(loc=\"upper left\", prop={'size': 10})\n",
    "#plt.title(\"Controlled-U of anisotropic Heisenberg model for 20 qubits \\n\", size=15)\n",
    "\n",
    "ax1.set_xscale('log')\n",
    "ax1.set_yscale('log')\n",
    "ax1.set_xticks([500, 1000, 2500, 5000, 10000])\n",
    "ax1.get_xaxis().set_major_formatter(matplotlib.ticker.ScalarFormatter())\n",
    "plt.savefig('./figs/heisenberg1d_111_trotter_and_cxs.pdf', dpi=300, bbox_inches='tight')\n",
    "#plt.savefig('./figs/heisenberg1d_111_trotter_and_cxs.png', dpi=300, bbox_inches='tight')\n",
    "plt.show()"
   ]
  },
  {
   "cell_type": "code",
   "execution_count": 221,
   "id": "8800b210-ccf0-49f4-9161-ffc95b51334f",
   "metadata": {},
   "outputs": [
    {
     "name": "stdout",
     "output_type": "stream",
     "text": [
      "[1500, 3000, 4500, 6000] [0.1807771842225962, 0.30265263944132426, 0.38777533456822233, 0.45531193293427574] \n",
      "\n",
      "[2700, 5400, 8100, 10800] [0.09796044777174191, 0.1667859590777272, 0.2146021833049138, 0.2526482471716145] \n",
      "\n",
      "[640, 1280, 1920, 2560] [0.08059105781840381, 0.12653934797482738, 0.16659943098685642, 0.20574073191569148]\n"
     ]
    }
   ],
   "source": [
    "print(trotter2_cxs, trotter2_errs, '\\n')\n",
    "\n",
    "print(trotter4_cxs, trotter4_errs, '\\n')\n",
    "\n",
    "print(ccU_cxs, ccU_errs)"
   ]
  },
  {
   "cell_type": "code",
   "execution_count": null,
   "id": "00144424-1621-4f2c-a485-746b972df150",
   "metadata": {},
   "outputs": [],
   "source": []
  },
  {
   "cell_type": "code",
   "execution_count": null,
   "id": "b613945b-c117-4937-83a9-2c0ab759e158",
   "metadata": {},
   "outputs": [],
   "source": []
  },
  {
   "cell_type": "code",
   "execution_count": null,
   "id": "6e515b36-3b1f-4caf-8080-ebbfcd270ca9",
   "metadata": {},
   "outputs": [],
   "source": []
  },
  {
   "cell_type": "code",
   "execution_count": null,
   "id": "167ff782-660d-4a1f-8ace-24b4cc88705a",
   "metadata": {},
   "outputs": [],
   "source": []
  }
 ],
 "metadata": {
  "kernelspec": {
   "display_name": "Python3.10 (qc)",
   "language": "python",
   "name": "qc"
  },
  "language_info": {
   "codemirror_mode": {
    "name": "ipython",
    "version": 3
   },
   "file_extension": ".py",
   "mimetype": "text/x-python",
   "name": "python",
   "nbconvert_exporter": "python",
   "pygments_lexer": "ipython3",
   "version": "3.10.13"
  }
 },
 "nbformat": 4,
 "nbformat_minor": 5
}
