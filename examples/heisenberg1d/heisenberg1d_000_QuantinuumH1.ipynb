{
 "cells": [
  {
   "cell_type": "code",
   "execution_count": 17,
   "id": "ff529bd8-dd19-4ed8-b0a0-102b175e733e",
   "metadata": {},
   "outputs": [
    {
     "name": "stdout",
     "output_type": "stream",
     "text": [
      "Ground State Energy -18.06178541796835\n",
      "First Excited State Energy -15.082389741634692\n",
      "Average Energy:  -1.8061785417968348\n"
     ]
    }
   ],
   "source": [
    "import qiskit\n",
    "from qiskit.quantum_info import state_fidelity\n",
    "import numpy as np\n",
    "from scipy.sparse import linalg as LA\n",
    "import qib\n",
    "import matplotlib.pyplot as plt\n",
    "import rqcopt as oc\n",
    "import scipy\n",
    "import scipy.sparse as sp\n",
    "\n",
    "\n",
    "L = 10\n",
    "J = (1, 1, 1)\n",
    "h = (0, 0, 0)\n",
    "\n",
    "latt_i = qib.lattice.IntegerLattice((2,), pbc=True)\n",
    "field_i = qib.field.Field(qib.field.ParticleType.QUBIT, latt_i)\n",
    "h_i = qib.HeisenbergHamiltonian(field_i, J, h).as_matrix()\n",
    "H_i = sp.csr_matrix((2**L, 2**L))\n",
    "\n",
    "# Expand\n",
    "for i in range(L//2):\n",
    "    H_ii = sp.eye(1)\n",
    "    for j in range(i):\n",
    "        H_ii = sp.kron(H_ii, sp.eye(2**2), format='csr')\n",
    "    H_ii = sp.kron(H_ii, h_i, format='csr')\n",
    "    for j in range(i+1, L//2):\n",
    "        H_ii = sp.kron(H_ii, sp.eye(2**2), format='csr')\n",
    "    H_i = H_i + H_ii\n",
    "\n",
    "eigenvalues, eigenvectors = LA.eigsh(H_i, k=100)\n",
    "idx = eigenvalues.argsort()\n",
    "eigenvectors_sort = eigenvectors[:,idx]\n",
    "init_state = eigenvectors_sort[:, 0]\n",
    "\n",
    "# construct Hamiltonian\n",
    "latt = qib.lattice.IntegerLattice((L, ), pbc=True)\n",
    "field = qib.field.Field(qib.field.ParticleType.QUBIT, latt)\n",
    "\n",
    "hamil = qib.HeisenbergHamiltonian(field, J, h).as_matrix()\n",
    "eigenvalues, eigenvectors = LA.eigsh(hamil, k=100)\n",
    "idx = eigenvalues.argsort()\n",
    "eigenvalues_sort = eigenvalues[idx]\n",
    "eigenvectors_sort = eigenvectors[:,idx]\n",
    "ground_state = eigenvectors_sort[:, 0]\n",
    "\n",
    "print(\"Ground State Energy\", eigenvalues_sort[0].real)\n",
    "print(\"First Excited State Energy\", eigenvalues_sort[4].real)\n",
    "print(\"Average Energy: \", eigenvalues_sort[0]/L)\n",
    "E_exact = eigenvalues_sort[0]/L"
   ]
  },
  {
   "cell_type": "code",
   "execution_count": 10,
   "id": "f2b89d72-69f0-4f51-b401-5535e7862160",
   "metadata": {},
   "outputs": [
    {
     "name": "stdout",
     "output_type": "stream",
     "text": [
      "Resulting Fidelities:  [0.7410905159478294, 4.263671859133072e-30, 2.5077533805866198e-30, 6.207079617765624e-30, 0.20749043706906917, 1.8539242385914575e-29, 2.6674129729763217e-32, 1.9494774472229082e-32, 3.445609041130289e-33, 6.168994353115364e-32]\n"
     ]
    }
   ],
   "source": [
    "import sys\n",
    "sys.path.append(\"../../src/adiabatic_gsp\")\n",
    "from adiabatic_gsp import run_adiabatic\n",
    "from utils_gsp import construct_heisenberg_local_term\n",
    "\n",
    "\n",
    "hloc = construct_heisenberg_local_term(J, h, 1)\n",
    "qc_AQC = run_adiabatic(L, 2, 3, hloc, init_state, return_state=True, eigenvectors_sort=eigenvectors_sort)"
   ]
  },
  {
   "cell_type": "code",
   "execution_count": 18,
   "id": "b1ee6809-8473-4ea3-9f35-83e961c2f4f5",
   "metadata": {},
   "outputs": [
    {
     "name": "stdout",
     "output_type": "stream",
     "text": [
      "Trotter error for same time, larger system:  0.031078948038620637\n"
     ]
    }
   ],
   "source": [
    "\"\"\"\n",
    "    Compressed-Controlled Time Evolution Operator that we optimized previously.\n",
    "\"\"\"\n",
    "import h5py\n",
    "import sys\n",
    "sys.path.append(\"../../src/brickwall_ansatz\")\n",
    "from utils import construct_heisenberg_local_term, construct_ising_local_term, get_params, reduce_list\n",
    "from ansatz import ansatz, construct_ccU\n",
    "\n",
    "\n",
    "# Best Performing Setting I observed so far was (2, 5).\n",
    "L = 4\n",
    "t = 0.25\n",
    "eta, gamma = (2, 5)\n",
    "nlayers = eta*gamma+gamma+1\n",
    "perms = [[i for i in range(L)] if i%2==0 else [i for i in range(1, L)]+[0] for i in range(nlayers)]\n",
    "Vs = []\n",
    "with h5py.File(f\"./results/heisenberg1d_000_L{L}_t{t}_layers{nlayers}_gamma{gamma}_eta{eta}.hdf5\", \"r\") as f:\n",
    "    Vs = f[\"Vlist\"][:]\n",
    "\n",
    "L = 10\n",
    "latt = qib.lattice.IntegerLattice((L,), pbc=True)\n",
    "field = qib.field.Field(qib.field.ParticleType.QUBIT, latt)\n",
    "hamil = qib.HeisenbergHamiltonian(field, J, h).as_matrix().toarray()\n",
    "perms = [[i for i in range(L)] if i%2==0 else [i for i in range(1, L)]+[0] for i in range(nlayers)]\n",
    "\n",
    "U = scipy.linalg.expm(-1j*hamil*t)\n",
    "U_back = scipy.linalg.expm(1j*hamil*t)\n",
    "\n",
    "print(\"Trotter error for same time, larger system: \", (np.linalg.norm(ansatz(reduce_list(Vs, gamma, eta), L, \n",
    "            reduce_list(perms, gamma, eta)) - U, ord=2)+np.linalg.norm(\n",
    "        ansatz(Vs, L, perms) - U_back, ord=2))/2)\n",
    "\n",
    "#  Controlled Two qubit Gates Decomposed & Optimized Previously.\n",
    "Xlists_opt = {}\n",
    "perms_qc = [[0, 1], [0, 2], [1, 2], [0, 2], [0, 1], [1, 2], [0, 2], [0, 1], [1, 2]]\n",
    "for i in range(0, nlayers, eta+1):\n",
    "    with h5py.File(f\"./results/heisenberg1d_000_L4_t{t}_layers{nlayers}_gamma{gamma}_eta{eta}_CUs_APPROXS_n{len(perms_qc)}_layer{i}.hdf5\", \"r\") as file:\n",
    "        Xlists_opt[i] = file[f\"Xlist_{i}\"][:]\n",
    "\n",
    "qc_cU = construct_ccU(L, eta, Vs, Xlists_opt, perms, perms_qc)\n"
   ]
  },
  {
   "cell_type": "code",
   "execution_count": 19,
   "id": "2cb231d6-5640-4c20-b1ce-4c33e78b87a5",
   "metadata": {},
   "outputs": [
    {
     "name": "stderr",
     "output_type": "stream",
     "text": [
      "/tmp/ipykernel_73919/4053000614.py:21: DeprecationWarning: The function ``qiskit.execute_function.execute()`` is deprecated as of qiskit 0.46.0. It will be removed in the Qiskit 1.0 release. This function combines ``transpile`` and ``backend.run``, which is covered by ``Sampler`` :mod:`~qiskit.primitives`. Alternatively, you can also run :func:`.transpile` followed by ``backend.run()``.\n",
      "  qc_unit = execute(transpile(qc_cU), backend).result().get_unitary(qc_cU, L+1).data\n"
     ]
    },
    {
     "name": "stdout",
     "output_type": "stream",
     "text": [
      "t=0.25, Gate Count:  320  Trotter error:  0.03449221616999256\n"
     ]
    }
   ],
   "source": [
    "\"\"\"\n",
    "    Trotter error of the optimal gates construct.\n",
    "\"\"\"\n",
    "\n",
    "from qiskit import Aer, execute, transpile\n",
    "from qiskit.converters import circuit_to_dag\n",
    "from qiskit.providers.aer.noise import NoiseModel, errors\n",
    "\n",
    "I2 = np.eye(2)\n",
    "X = np.array([[0, 1], [1, 0]])\n",
    "Y = np.array([[0, -1j], [1j, 0]])\n",
    "Z = np.array([[1, 0], [0, -1]])\n",
    "ket_0 = np.array([[1],[0]])\n",
    "ket_1 = np.array([[0],[1]])\n",
    "rho_0_anc = ket_0 @ ket_0.T\n",
    "rho_1_anc = ket_1 @ ket_1.T\n",
    "\n",
    "U = scipy.linalg.expm(-1j * t * hamil)\n",
    "cU = np.kron(rho_0_anc, U.conj().T) + np.kron(rho_1_anc, U)\n",
    "backend = Aer.get_backend(\"unitary_simulator\")\n",
    "qc_unit = execute(transpile(qc_cU), backend).result().get_unitary(qc_cU, L+1).data\n",
    "noise_model = NoiseModel()\n",
    "dag = circuit_to_dag(transpile(qc_cU, basis_gates=noise_model.basis_gates+['unitary', 'initialize', 'cx']))\n",
    "count_ops = dag.count_ops()\n",
    "\n",
    "print(f\"t={t}, Gate Count: \", count_ops['unitary'], \" Trotter error: \", np.linalg.norm(qc_unit - cU, ord=2))"
   ]
  },
  {
   "cell_type": "code",
   "execution_count": 20,
   "id": "1ed4a31a-ce60-4bc8-8de3-96090527d7ca",
   "metadata": {},
   "outputs": [],
   "source": [
    "\"\"\"\n",
    "\n",
    "    Adiabatic + Iterative QPE\n",
    "\n",
    "\"\"\"\n",
    "import sys\n",
    "sys.path.append(\"../../src/qpe\")\n",
    "from qpe import estimate_phases\n",
    "\n",
    "def norm_mod2pi(theta):\n",
    "    return np.pi - np.abs((theta%(2*np.pi)) - np.pi) "
   ]
  },
  {
   "cell_type": "code",
   "execution_count": 21,
   "id": "26be38ad-64d6-4fb2-8e4e-7751c8002c14",
   "metadata": {
    "scrolled": true
   },
   "outputs": [],
   "source": [
    "def run_QPE(qc_prepared_state, qc_cU, basis_time, init_guess, Ns, final_digit, depolarizing_error):\n",
    "    theta_prev = -init_guess\n",
    "    est_prev = init_guess\n",
    "\n",
    "    x1_error = errors.depolarizing_error(depolarizing_error*0.01, 1)\n",
    "    x2_error = errors.depolarizing_error(depolarizing_error, 2)\n",
    "    noise_model = NoiseModel()\n",
    "    noise_model.add_all_qubit_quantum_error(x1_error, ['u1', 'u2', 'u3'])\n",
    "    noise_model.add_all_qubit_quantum_error(x2_error, ['cu3', 'cx', 'str', 'cy', 'cz', 'unitary'])\n",
    "    \n",
    "    Es = []\n",
    "    ests_ = []\n",
    "    thetas_ = []\n",
    "    cxss_A = []\n",
    "    mid_cbits = 0\n",
    "    mid_errs_A = []\n",
    "    for j in list(range(-1, final_digit+1, 1)):\n",
    "        T = 2**j\n",
    "        theta_prev_ = theta_prev\n",
    "        counts_real, counts_imag, cxs, qasm = estimate_phases(\n",
    "                                                L, qc_C, eigenvalues_sort, T/2, basis_time,\n",
    "                                                Ns, depolarizing_error, qc_cU, noise_model=noise_model,\n",
    "                                                return_counts=True,\n",
    "                                                get_cx=True, qasm=True\n",
    "                                           )[0]\n",
    "        cxss_A.append(cxs['unitary'])\n",
    "        print('CXs: ', cxss_A[-1])\n",
    "    \n",
    "        phase_est_real = ((counts_real['0'] if '0' in counts_real else 0) - (counts_real['1'] if '1' in counts_real else 0)) /\\\n",
    "                    ((counts_real['0'] if '0' in counts_real else 0) + (counts_real['1'] if '1' in counts_real else 0))     \n",
    "        phase_est_imag = ((counts_imag['0'] if '0' in counts_imag else 0) - (counts_imag['1'] if '1' in counts_imag else 0)) /\\\n",
    "                    ((counts_imag['0'] if '0' in counts_imag else 0) + (counts_imag['1'] if '1' in counts_imag else 0))\n",
    "        phase = phase_est_real + 1j*phase_est_imag\n",
    "                \n",
    "        print(\"Exact Phase: \", np.exp(-1j * T * eigenvalues_sort[0]))\n",
    "        print(\"Estimated Phase: \", phase)\n",
    "                \n",
    "        if phase.real != 0:\n",
    "            angle = np.arctan(phase.imag/phase.real) if phase.real>0 else (np.pi + np.arctan(phase.imag/phase.real) if phase.imag>0 else \\\n",
    "                                                                               np.arctan(phase.imag/phase.real) - np.pi)\n",
    "        else:\n",
    "            angle = np.pi/2 if phase.imag > 0 else -np.pi/2\n",
    "\n",
    "    \n",
    "        if T>1:\n",
    "            thetas = [(angle + k*2*np.pi)/T for k in range(T+1)]\n",
    "            norms = np.array([norm_mod2pi(theta - theta_prev) for theta in thetas])\n",
    "            id_ = np.argmin(norms)\n",
    "                    \n",
    "            ests = [-thetas[id_] - coe*np.pi for coe in range(2, 40, 2)]\n",
    "            est = ests[0]\n",
    "            for est_ in ests[1:]:\n",
    "                est = est_ if np.abs(est_-est_prev) < np.abs(est-est_prev) else est\n",
    "            ests_.append(est)\n",
    "            thetas_.append(thetas[id_])\n",
    "    \n",
    "            #thetas_.sort()\n",
    "            #theta_prev = thetas_[0]\n",
    "            theta_prev = thetas_[-1]\n",
    "        else:\n",
    "            thetas = [(angle + k*np.pi)/T for k in range(0, 40, 2)]\n",
    "            ests = [-theta for theta in thetas]\n",
    "            est = ests[0]\n",
    "            for est_ in ests[1:]:\n",
    "                est = est_ if np.abs(est_-est_prev) < np.abs(est-est_prev) else est\n",
    "            ests_.append(est)\n",
    "            thetas_.append(-est)\n",
    "            #print(\"Estimation Result: \", est)\n",
    "            #print('Abs Error: ', np.abs(est-eigenvalues_sort[0]))\n",
    "            #thetas_.sort()\n",
    "            #theta_prev = thetas_[0]\n",
    "            theta_prev = thetas_[-1]\n",
    "    \n",
    "        #ests_.sort()\n",
    "        #est_prev = ests_[0]\n",
    "        est_prev = ests_[-1]\n",
    "        print(\"Final Estimation Result, Abs Error: \", np.abs(est_prev-eigenvalues_sort[0]))    \n",
    "        print(\"Final Estimation Result, Relative Error: \", np.abs(est_prev-eigenvalues_sort[0])/np.abs(eigenvalues_sort[0]), '\\n')    \n",
    "        mid_errs_A.append(np.abs(est_prev-eigenvalues_sort[0]))\n",
    "        Es.append(ests_)"
   ]
  },
  {
   "cell_type": "code",
   "execution_count": 43,
   "id": "bd92f3fb-f5c6-4590-ad20-8c41fc3d67c0",
   "metadata": {
    "scrolled": true
   },
   "outputs": [
    {
     "name": "stdout",
     "output_type": "stream",
     "text": [
      "Resulting Fidelities:  [0.8730593240535176, 7.040477652950589e-30, 2.429079142358402e-31, 9.139885737078504e-30, 0.11207393687432073, 3.9965453758465635e-30, 4.04084176456747e-32, 2.750468701828022e-32, 4.998991911900118e-32, 1.5640958560854841e-31]\n",
      "t:  0.25\n",
      "nsteps:  1\n",
      "getting counts\n",
      "CXs:  500\n",
      "Exact Phase:  (-0.9234249550287373+0.3837790411554213j)\n",
      "Estimated Phase:  (-0.7808+0.4484j)\n",
      "Final Estimation Result, Abs Error:  0.2548197125756779\n",
      "Final Estimation Result, Relative Error:  0.014108223892538135 \n",
      "\n",
      "t:  0.5\n",
      "nsteps:  2\n",
      "getting counts\n",
      "CXs:  820\n",
      "Exact Phase:  (0.705427295139651-0.7087822876398336j)\n",
      "Estimated Phase:  (0.508-0.5508j)\n",
      "Final Estimation Result, Abs Error:  0.0380287843893683\n",
      "Final Estimation Result, Relative Error:  0.0021054831241398893 \n",
      "\n"
     ]
    }
   ],
   "source": [
    "# We can achieve up to relative error of 10^{-3} precision. Almost at the chemical accuracy!\n",
    "\n",
    "\n",
    "qc_A = run_adiabatic(L, 3, 4, hloc, init_state, return_state=True, eigenvectors_sort=eigenvectors_sort)\n",
    "qc_C = qiskit.QuantumCircuit(L+1, 1)\n",
    "for q in range(L//2):\n",
    "    qc_C.x(2*q)\n",
    "    qc_C.h(2*q)\n",
    "    qc_C.x(2*q+1)\n",
    "    qc_C.cx(2*q, 2*q+1)\n",
    "qc_C.append(qc_A.to_gate(), [i for i in range(L)])\n",
    "qc_C.barrier()\n",
    "\n",
    "run_QPE(qc_C, qc_cU, t, -20, 10000, 0, 0)"
   ]
  },
  {
   "cell_type": "code",
   "execution_count": 42,
   "id": "ab18c463-7174-4ac2-9b43-6a24b5d031a4",
   "metadata": {
    "scrolled": true
   },
   "outputs": [
    {
     "name": "stdout",
     "output_type": "stream",
     "text": [
      "t:  0.25\n",
      "nsteps:  1\n",
      "getting counts\n",
      "CXs:  420\n",
      "Exact Phase:  (-0.9234249550287373+0.3837790411554213j)\n",
      "Estimated Phase:  (-0.7876+0.4456j)\n",
      "Final Estimation Result, Abs Error:  0.24196867656534593\n",
      "Final Estimation Result, Relative Error:  0.01339671970217457 \n",
      "\n",
      "t:  0.5\n",
      "nsteps:  2\n",
      "getting counts\n",
      "CXs:  660\n",
      "Exact Phase:  (0.705427295139651-0.7087822876398336j)\n",
      "Estimated Phase:  (0.52-0.5642j)\n",
      "Final Estimation Result, Abs Error:  0.038372483555839665\n",
      "Final Estimation Result, Relative Error:  0.0021245122045169293 \n",
      "\n"
     ]
    }
   ],
   "source": [
    "from utils import cU_trotter\n",
    "from qiskit.circuit.library import CYGate, CZGate, IGate\n",
    "\n",
    "hloc1 = construct_heisenberg_local_term((J[0], 0, 0), h)\n",
    "hloc2 = construct_heisenberg_local_term((0, J[1], 0), h)\n",
    "hloc3 = construct_heisenberg_local_term((0, 0, J[2]), h)\n",
    "hlocs = ((hloc1, hloc2, ), (hloc3, )) # H1 and H2\n",
    "cgates = ((CZGate, None), (CYGate, None))\n",
    "\n",
    "qc_cU_trotter = cU_trotter(t, L, hlocs, cgates, trotter_step=0.1, trotter_degree=3)\n",
    "run_QPE(qc_C, qc_cU_trotter, t, -20, 10000, 0, 0)"
   ]
  },
  {
   "cell_type": "code",
   "execution_count": null,
   "id": "7bb3c03a-41fc-4c36-a7bb-9533dcf08160",
   "metadata": {},
   "outputs": [],
   "source": []
  },
  {
   "cell_type": "code",
   "execution_count": null,
   "id": "5b1c2059-f80e-4e86-819a-c14316e677ec",
   "metadata": {},
   "outputs": [],
   "source": []
  }
 ],
 "metadata": {
  "kernelspec": {
   "display_name": "Python3.10 (qc)",
   "language": "python",
   "name": "qc"
  },
  "language_info": {
   "codemirror_mode": {
    "name": "ipython",
    "version": 3
   },
   "file_extension": ".py",
   "mimetype": "text/x-python",
   "name": "python",
   "nbconvert_exporter": "python",
   "pygments_lexer": "ipython3",
   "version": "3.10.13"
  }
 },
 "nbformat": 4,
 "nbformat_minor": 5
}
