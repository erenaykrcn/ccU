{
 "cells": [
  {
   "cell_type": "code",
   "execution_count": 4,
   "id": "dc1ab3b3-8ab2-4379-9888-56f228334fa2",
   "metadata": {},
   "outputs": [
    {
     "name": "stdout",
     "output_type": "stream",
     "text": [
      "Trotter error of the starting point:  0.04103686563894126\n"
     ]
    }
   ],
   "source": [
    "\"\"\"\n",
    "    Attempt for the controlled version:\n",
    "\"\"\"\n",
    "\n",
    "import numpy as np\n",
    "import qiskit\n",
    "from qiskit.quantum_info import state_fidelity\n",
    "from numpy import linalg as LA\n",
    "import qib\n",
    "import matplotlib.pyplot as plt\n",
    "import scipy\n",
    "import h5py\n",
    "\n",
    "import sys\n",
    "sys.path.append(\"../../src/brickwall_ansatz_2D\")\n",
    "from utils_2D import construct_ising_local_term, reduce_list, X, I2\n",
    "from ansatz_2D import ansatz_2D, ansatz_sparse\n",
    "import rqcopt as oc\n",
    "from scipy.sparse.linalg import expm_multiply\n",
    "\n",
    "Lx, Ly = (4, 4)\n",
    "L = Lx*Ly\n",
    "t = 0.25\n",
    "latt = qib.lattice.IntegerLattice((Lx, Ly), pbc=True)\n",
    "field = qib.field.Field(qib.field.ParticleType.QUBIT, latt)\n",
    "J, h, g = (1, 0, 1)\n",
    "hamil = qib.IsingHamiltonian(field, J, h, g).as_matrix()\n",
    "eigenvalues, eigenvectors = scipy.sparse.linalg.eigsh(hamil, k=10)\n",
    "idx = eigenvalues.argsort()\n",
    "eigenvalues_sort = eigenvalues[idx]\n",
    "eigenvectors_sort = eigenvectors[:,idx]\n",
    "ground_state = eigenvectors_sort[:, 0]\n",
    "\n",
    "X = np.array([[0, 1], [1, 0]])\n",
    "Z = np.array([[1, 0], [0, -1]])\n",
    "Y = np.array([[0, -1j], [1j, 0]])\n",
    "I2 = np.array([[1, 0], [0, 1]])\n",
    "\n",
    "hloc = construct_ising_local_term(J, 0, g, ndim=2)\n",
    "V1 = scipy.linalg.expm(-1j*t*hloc/2)\n",
    "V2 = scipy.linalg.expm(-1j*t*hloc)\n",
    "YZ = np.kron(Y, Z)\n",
    "\n",
    "perms_v = [[0, 1, 4, 5, 8, 9, 12, 13, 2, 3, 6, 7, 10, 11, 14, 15], \n",
    "          [1, 2, 5, 6, 9, 10, 13, 14, 3, 0, 7, 4, 11, 8, 15, 12]]\n",
    "perms_h = [[0, 4, 1, 5, 2, 6, 3, 7, 8, 12, 9, 13, 10, 14, 11, 15], \n",
    "          [4, 8, 5, 9, 6, 10, 7, 11, 12, 0, 13, 1, 14, 2, 15, 3]]\n",
    "\n",
    "Vlist_start = [YZ, V1, YZ, YZ, V2, YZ, YZ, V1, YZ]\n",
    "Vlist_reduced = [V1, V2, V1]\n",
    "perms_extended = [[perms_v[0]]] + [perms_v]*1 + [[perms_v[0]], [perms_h[0]]] +\\\n",
    "                    [perms_h]*1 + [[perms_h[0]], [perms_v[0]]] + [perms_v]*1 + [[perms_v[0]]]\n",
    "perms_ext_reduced = [perms_v]*1  + [perms_h]*1 + [perms_v]*1\n",
    "control_layers = [0, 2, 3, 5, 6, 8] # 6 control layers\n",
    "\n",
    "# 12 layers with 6 being controlled, 9 parameters in total.\n",
    "print(\"Trotter error of the starting point: \", (np.linalg.norm(ansatz_sparse(Vlist_start, L, perms_extended, ground_state) - expm_multiply(\n",
    "    1j * t * hamil, ground_state), ord=2) + np.linalg.norm(ansatz_sparse(Vlist_reduced, L, perms_ext_reduced, ground_state) - expm_multiply(\n",
    "    -1j * t * hamil, ground_state), ord=2))/2)"
   ]
  },
  {
   "cell_type": "code",
   "execution_count": null,
   "id": "0614225b-c4af-4950-ab83-992656288127",
   "metadata": {},
   "outputs": [],
   "source": [
    "from optimize_2D import optimize\n",
    "\n",
    "Vlist, f_iter, err_iter = optimize(L, U, Vlist_start, perms_extended, perms_reduced=perms_ext_reduced, \n",
    "                                   control_layers=control_layers, niter=20)\n",
    "plt.plot(err_iter)\n",
    "plt.yscale('log')\n",
    "print(err_iter[-1])\n",
    "\n",
    "\n",
    "with h5py.File(f\"./tfim2d_{J}{h}{g}_Lx{Lx}Ly{Ly}_t{t}_layers{len(Vlist_start)}_U_1hloc.hdf5\", \"w\") as f:\n",
    "    f.create_dataset(\"Vlist\", data=Vlist)\n",
    "    f.create_dataset(\"f_iter\", data=f_iter)\n",
    "    f.create_dataset(\"err_iter\", data=err_iter)\n",
    "    f.attrs[\"L\"] = L\n",
    "    f.attrs[\"t\"] = float(t)"
   ]
  }
 ],
 "metadata": {
  "kernelspec": {
   "display_name": "Python3.10 (qc)",
   "language": "python",
   "name": "qc"
  },
  "language_info": {
   "codemirror_mode": {
    "name": "ipython",
    "version": 3
   },
   "file_extension": ".py",
   "mimetype": "text/x-python",
   "name": "python",
   "nbconvert_exporter": "python",
   "pygments_lexer": "ipython3",
   "version": "3.10.13"
  }
 },
 "nbformat": 4,
 "nbformat_minor": 5
}
