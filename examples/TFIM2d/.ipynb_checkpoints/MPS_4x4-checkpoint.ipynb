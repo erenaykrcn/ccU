{
 "cells": [
  {
   "cell_type": "code",
   "execution_count": 139,
   "id": "d72940be-a9e5-4da4-97bd-69b3113a6660",
   "metadata": {},
   "outputs": [],
   "source": [
    "import numpy as np\n",
    "import qiskit\n",
    "from qiskit.quantum_info import state_fidelity\n",
    "from numpy import linalg as LA\n",
    "import qib\n",
    "import matplotlib.pyplot as plt\n",
    "import scipy\n",
    "import h5py\n",
    "from scipy.sparse.linalg import expm_multiply\n",
    "from qiskit.quantum_info import random_statevector\n",
    "from scipy.linalg import expm\n",
    "\n",
    "import sys\n",
    "sys.path.append(\"../../src/brickwall_sparse\")\n",
    "from utils_sparse import get_perms\n",
    "sys.path.append(\"../../src/MPS\")\n",
    "from utils_MPS import (random_mps, apply_localGate, apply_two_site_operator, \n",
    "\t\t\t\t\t\tmps_to_state_vector, get_mps_of_sv, mps_fidelity)\n",
    "from MPS import trotter, ccU\n",
    "\n",
    "Lx, Ly = (4, 4)\n",
    "L= Lx*Ly\n",
    "\n",
    "# construct Hamiltonian\n",
    "latt = qib.lattice.IntegerLattice((Lx, Ly), pbc=True)\n",
    "field = qib.field.Field(qib.field.ParticleType.QUBIT, latt)\n",
    "J, h, g = (1, 0, 3)\n",
    "hamil = qib.IsingHamiltonian(field, J, h, g).as_matrix()\n",
    "eigenvalues, eigenvectors = scipy.sparse.linalg.eigsh(hamil, k=10)\n",
    "idx = eigenvalues.argsort()\n",
    "eigenvalues_sort = eigenvalues[idx]\n",
    "eigenvectors_sort = eigenvectors[:,idx]\n",
    "ground_state = eigenvectors_sort[:, 0]\n",
    "\n",
    "perms_v, perms_h = get_perms(Lx, Ly)\n",
    "perms_extended = [[perms_v[0]]] + [perms_v]*3 + [[perms_v[0]], [perms_h[0]]] +\\\n",
    "                    [perms_h]*3 + [[perms_h[0]], [perms_v[0]]] + [perms_v]*3 + [[perms_v[0]]]\n",
    "perms_ext_reduced = [perms_v]*3  + [perms_h]*3 + [perms_v]*3"
   ]
  },
  {
   "cell_type": "code",
   "execution_count": 123,
   "id": "fc76d0cf-8b1e-4770-8987-fcb7163c3f24",
   "metadata": {},
   "outputs": [],
   "source": [
    "Vlist = []\n",
    "with h5py.File(f\"./results/tfim2d_ccU_SPARSE_103_Lx4Ly4_t0.25_layers15_rS1_niter15_3hloc.hdf5\", \"r\") as f:\n",
    "    Vlist =  f[\"Vlist\"][:]\n",
    "    \n",
    "control_layers = [0, 4, 5, 9, 10, 14]\n",
    "perms_qc = [[0, 1], [0, 2], [1, 2], [0, 2], [0, 1], [1, 2], [0, 2], [0, 1], [1, 2]]\n",
    "Xlists_opt = {}\n",
    "for i in control_layers:\n",
    "    with h5py.File(f\"./results/tfim2d_ccU_SPARSE_103_Lx4Ly4_t0.25_layers15_niter20_rS5_DECOMPOSE_n9_layer{i}.hdf5\", \"r\") as file:\n",
    "        Xlists_opt[i] = file[f\"Xlist_{i}\"][:]"
   ]
  },
  {
   "cell_type": "code",
   "execution_count": 3,
   "id": "d4baf772-0980-48ce-b258-0bf34367c8f8",
   "metadata": {},
   "outputs": [
    {
     "data": {
      "text/plain": [
       "'perms_v, perms_h = (\\n[[0 , 1 , 2 , 3 , 4 , 5 , 6 , 7 , 8 , 9 , 10, 11, 12, 13, 14, 15, 16, 17, 18, 19, 20, 21, 22, 23, 24, 25, 26, 27, 28, 29, 30, 31, 32, 33, 34, 35],\\n [1, 2, 3, 4, 5, 0, 7, 8, 9, 10, 11, 6, 13, 14, 15, 16, 17, 12, 19, 20, 21, 22, 23, 18, 25, 26, 27, 28, 29, 24, 31, 32, 33, 34, 35, 30]],\\n[[0, 6, 12, 18, 24, 30, 1, 7, 13, 19, 25, 31, 2, 8, 14, 20, 26, 32, 3, 9, 15, 21, 27, 33, 4, 10, 16, 22, 28, 34, 5, 11, 17, 23, 29, 35], \\n [6, 12, 18, 24, 30, 0, 7, 13, 19, 25, 31, 1, 8, 14, 20, 26, 32, 2, 9, 15, 21, 27, 33, 3, 10, 16, 22, 28, 34, 4, 11, 17, 23, 29, 35, 5]]\\n )\\n'"
      ]
     },
     "execution_count": 3,
     "metadata": {},
     "output_type": "execute_result"
    }
   ],
   "source": [
    "\"\"\"perms_v, perms_h = (\n",
    "[[0 , 1 , 2 , 3 , 4 , 5 , 6 , 7 , 8 , 9 , 10, 11, 12, 13, 14, 15, 16, 17, 18, 19, 20, 21, 22, 23, 24, 25, 26, 27, 28, 29, 30, 31, 32, 33, 34, 35],\n",
    " [1, 2, 3, 4, 5, 0, 7, 8, 9, 10, 11, 6, 13, 14, 15, 16, 17, 12, 19, 20, 21, 22, 23, 18, 25, 26, 27, 28, 29, 24, 31, 32, 33, 34, 35, 30]],\n",
    "[[0, 6, 12, 18, 24, 30, 1, 7, 13, 19, 25, 31, 2, 8, 14, 20, 26, 32, 3, 9, 15, 21, 27, 33, 4, 10, 16, 22, 28, 34, 5, 11, 17, 23, 29, 35], \n",
    " [6, 12, 18, 24, 30, 0, 7, 13, 19, 25, 31, 1, 8, 14, 20, 26, 32, 2, 9, 15, 21, 27, 33, 3, 10, 16, 22, 28, 34, 4, 11, 17, 23, 29, 35, 5]]\n",
    " )\n",
    "\"\"\""
   ]
  },
  {
   "cell_type": "code",
   "execution_count": 30,
   "id": "682ecf0d-db71-4c95-9a05-39451c9aeff5",
   "metadata": {},
   "outputs": [
    {
     "name": "stdout",
     "output_type": "stream",
     "text": [
      "ccU backwards fidelity:  0.9856362364497463\n",
      "ccU forwards fidelity:  0.9967732853692048\n"
     ]
    }
   ],
   "source": [
    "import os\n",
    "\n",
    "t     = 0.25\n",
    "dt    = 0.1\n",
    "order = 2\n",
    "initial_state_BD, exact_state_BD, ccU_BD = (2**2, 2**8, 2**8)\n",
    "\n",
    "\n",
    "if not os.path.isfile(f\"./MPS/tfim2d_Lx{Lx}Ly{Ly}__MPS_103_t0.25_INITIAL_MPS.h5\"):\n",
    "    initial_mps = random_mps(L, max_bond_dim=initial_state_BD)\n",
    "    with h5py.File(f\"./MPS/tfim2d_Lx{Lx}Ly{Ly}__MPS_103_t0.25_INITIAL_MPS.h5\", \"w\") as f:\n",
    "        mps_group = f.create_group(\"mps\")\n",
    "        for i, tensor in enumerate(initial_mps):\n",
    "            mps_group.create_dataset(f\"site_{i}\", data=tensor)\n",
    "        f.attrs[\"L\"] = L\n",
    "        f.attrs[\"t\"] = float(t)\n",
    "else:\n",
    "    with h5py.File(f\"./MPS/tfim2d_Lx{Lx}Ly{Ly}__MPS_103_t0.25_INITIAL_MPS.h5\", \"r\") as f:\n",
    "        mps_group = f[\"mps\"]\n",
    "        initial_mps = [mps_group[f\"site_{i}\"][()] for i in range(L)]\n",
    "\n",
    "\n",
    "if not os.path.isfile(f\"./MPS/tfim2d_Lx{Lx}Ly{Ly}__MPS_103_t0.25_TROTTER_MPS_BACKWARDS_Order{order}_dt{dt}.h5\"):\n",
    "    exact_mps_back_input = initial_mps.copy()\n",
    "    exact_mps_backwards = trotter(exact_mps_back_input, -t, L, Lx, Ly, J, g, max_bond_dim=exact_state_BD, trotter_order=order, dt=dt)\n",
    "    with h5py.File(f\"./MPS/tfim2d_Lx{Lx}Ly{Ly}__MPS_103_t0.25_TROTTER_MPS_BACKWARDS_Order{order}_dt{dt}.h5\", \"w\") as f:\n",
    "        mps_group = f.create_group(\"mps\")\n",
    "        for i, tensor in enumerate(exact_mps_backwards):\n",
    "            mps_group.create_dataset(f\"site_{i}\", data=tensor)\n",
    "        f.attrs[\"L\"] = L\n",
    "        f.attrs[\"t\"] = float(t)\n",
    "        f.attrs[\"order\"] = order\n",
    "        f.attrs[\"dt\"] = dt\n",
    "else:\n",
    "    with h5py.File(f\"./MPS/tfim2d_Lx{Lx}Ly{Ly}__MPS_103_t0.25_TROTTER_MPS_BACKWARDS_Order{order}_dt{dt}.h5\", \"r\") as f:\n",
    "        mps_group = f[\"mps\"]\n",
    "        exact_mps_backwards = [mps_group[f\"site_{i}\"][()] for i in range(L)]\n",
    "\n",
    "\n",
    "\n",
    "if os.path.isfile(f\"./MPS/tfim2d_Lx{Lx}Ly{Ly}__MPS_103_t0.25_TROTTER_MPS_FORWARDS_Order{order}_dt{dt}.h5\"):\n",
    "    with h5py.File(f\"./MPS/tfim2d_Lx{Lx}Ly{Ly}__MPS_103_t0.25_TROTTER_MPS_FORWARDS_Order{order}_dt{dt}.h5\", \"r\") as f:\n",
    "        mps_group = f[\"mps\"]\n",
    "        exact_mps_forwards = [mps_group[f\"site_{i}\"][()] for i in range(L)]\n",
    "else:\n",
    "    exact_mps_forw_input = initial_mps.copy()\n",
    "    exact_mps_forwards = trotter(exact_mps_forw_input, t, L, Lx, Ly, J, g, max_bond_dim=exact_state_BD, trotter_order=order, dt=dt)\n",
    "    with h5py.File(f\"./MPS/tfim2d_Lx{Lx}Ly{Ly}__MPS_103_t0.25_TROTTER_MPS_FORWARDS_Order{order}_dt{dt}.h5\", \"w\") as f:\n",
    "        mps_group = f.create_group(\"mps\")\n",
    "        for i, tensor in enumerate(exact_mps_forwards):\n",
    "            mps_group.create_dataset(f\"site_{i}\", data=tensor)\n",
    "        f.attrs[\"L\"] = L\n",
    "        f.attrs[\"t\"] = float(t)\n",
    "        f.attrs[\"order\"] = order\n",
    "        f.attrs[\"dt\"] = dt\n",
    "\n",
    "\n",
    "A0 = np.zeros((2, 1, 1), dtype=np.complex128)\n",
    "A0[0, :, :] = 1\n",
    "initial_mps_backwards = [A0]+initial_mps\n",
    "exact_mps_backwards_EXT = [A0]+exact_mps_backwards\n",
    "if not os.path.isfile(f\"./MPS/tfim2d_Lx{Lx}Ly{Ly}__MPS_103_t0.25_ccU_MPS_BACKWARDS.h5\"):\n",
    "    mps_ccU_backwards = ccU(initial_mps_backwards, L, Vlist, Xlists_opt, perms_extended, perms_qc, control_layers, max_bond_dim=ccU_BD)\n",
    "    with h5py.File(f\"./MPS/tfim2d_Lx{Lx}Ly{Ly}__MPS_103_t0.25_ccU_MPS_BACKWARDS.h5\", \"w\") as f:\n",
    "        mps_group = f.create_group(\"mps\")\n",
    "        for i, tensor in enumerate(mps_ccU_backwards):\n",
    "            mps_group.create_dataset(f\"site_{i}\", data=tensor)\n",
    "        f.attrs[\"L\"] = L\n",
    "        f.attrs[\"t\"] = float(t)\n",
    "        f.attrs[\"order\"] = order\n",
    "        f.attrs[\"dt\"] = dt\n",
    "else:\n",
    "    with h5py.File(f\"./MPS/tfim2d_Lx{Lx}Ly{Ly}__MPS_103_t0.25_ccU_MPS_BACKWARDS.h5\", \"r\") as f:\n",
    "        mps_group = f[\"mps\"]\n",
    "        mps_ccU_backwards = [mps_group[f\"site_{i}\"][()] for i in range(L+1)]\n",
    "print(\"ccU backwards fidelity: \", mps_fidelity(exact_mps_backwards_EXT, mps_ccU_backwards))\n",
    "\n",
    "\n",
    "A0 = np.zeros((2, 1, 1), dtype=np.complex128)\n",
    "A0[1, :, :] = 1\n",
    "initial_mps_forwards = [A0]+initial_mps\n",
    "exact_mps_forwards_EXT = [A0]+exact_mps_forwards\n",
    "if not os.path.isfile(f\"./MPS/tfim2d_Lx{Lx}Ly{Ly}_MPS_103_t0.25_ccU_MPS_FORWARDS.h5\"):\n",
    "    mps_ccU_forwards = ccU(initial_mps_forwards, L, Vlist, Xlists_opt, perms_extended, perms_qc, control_layers, max_bond_dim=ccU_BD)\n",
    "    with h5py.File(f\"./MPS/tfim2d_Lx{Lx}Ly{Ly}_MPS_103_t0.25_ccU_MPS_FORWARDS.h5\", \"w\") as f:\n",
    "        mps_group = f.create_group(\"mps\")\n",
    "        for i, tensor in enumerate(mps_ccU_forwards):\n",
    "            mps_group.create_dataset(f\"site_{i}\", data=tensor)\n",
    "        f.attrs[\"L\"] = L\n",
    "        f.attrs[\"t\"] = float(t)\n",
    "        f.attrs[\"order\"] = order\n",
    "        f.attrs[\"dt\"] = dt\n",
    "else:\n",
    "    with h5py.File(f\"./MPS/tfim2d_Lx{Lx}Ly{Ly}_MPS_103_t0.25_ccU_MPS_FORWARDS.h5\", \"r\") as f:\n",
    "        mps_group = f[\"mps\"]\n",
    "        mps_ccU_forwards = [mps_group[f\"site_{i}\"][()] for i in range(L+1)]\n",
    "print(\"ccU forwards fidelity: \", mps_fidelity(exact_mps_forwards_EXT, mps_ccU_forwards))"
   ]
  },
  {
   "cell_type": "code",
   "execution_count": 127,
   "id": "7f7e869e-1b3c-468c-afe3-81ece5bd6965",
   "metadata": {},
   "outputs": [],
   "source": [
    "initial_mps = random_mps(L, max_bond_dim=2**2)\n",
    "A0 = np.zeros((2, 1, 1), dtype=np.complex128)\n",
    "A0[1, :, :] = 1\n",
    "initial_mps_forwards = [A0]+initial_mps\n",
    "mps_ccU_forwards = ccU(initial_mps_forwards, L, Vlist, Xlists_opt, perms_extended, perms_qc, control_layers, max_bond_dim=2**7)"
   ]
  },
  {
   "cell_type": "code",
   "execution_count": 128,
   "id": "19af67ef-78a4-48e0-8f38-45867a290386",
   "metadata": {},
   "outputs": [
    {
     "data": {
      "text/plain": [
       "0.5750821948456292"
      ]
     },
     "execution_count": 128,
     "metadata": {},
     "output_type": "execute_result"
    }
   ],
   "source": [
    "ket_0 = np.array([1, 0])\n",
    "ket_1 = np.array([0, 1])\n",
    "\n",
    "exact_v2 = np.kron(ket_1, expm_multiply(-1j * 0.25 * hamil, mps_to_state_vector(initial_mps)))\n",
    "np.linalg.norm(np.vdot(exact_v2, mps_to_state_vector(mps_ccU_forwards)))"
   ]
  },
  {
   "cell_type": "code",
   "execution_count": null,
   "id": "28adf4f2-e400-4117-b079-794a33f17807",
   "metadata": {},
   "outputs": [],
   "source": [
    "trotter_mps_forwards = trotter(initial_mps.copy(), 0.25, L, Lx, Ly, J, g, perms_v, perms_h, \n",
    "                               max_bond_dim=2**8, trotter_order=2, dt=0.25/8)\n",
    "exact_v = expm_multiply(-1j * 0.25 * hamil, mps_to_state_vector(initial_mps))\n",
    "np.linalg.norm(np.vdot(exact_v, mps_to_state_vector(trotter_mps_forwards)))"
   ]
  },
  {
   "cell_type": "code",
   "execution_count": null,
   "id": "5a2da9a3-f770-441b-bd3e-2e2ee792a4b3",
   "metadata": {},
   "outputs": [],
   "source": []
  },
  {
   "cell_type": "code",
   "execution_count": null,
   "id": "cdbdc41a-9741-4389-8651-c38724d7d589",
   "metadata": {},
   "outputs": [],
   "source": []
  }
 ],
 "metadata": {
  "kernelspec": {
   "display_name": "Python3.10 (qc)",
   "language": "python",
   "name": "qc"
  },
  "language_info": {
   "codemirror_mode": {
    "name": "ipython",
    "version": 3
   },
   "file_extension": ".py",
   "mimetype": "text/x-python",
   "name": "python",
   "nbconvert_exporter": "python",
   "pygments_lexer": "ipython3",
   "version": "3.10.13"
  }
 },
 "nbformat": 4,
 "nbformat_minor": 5
}
