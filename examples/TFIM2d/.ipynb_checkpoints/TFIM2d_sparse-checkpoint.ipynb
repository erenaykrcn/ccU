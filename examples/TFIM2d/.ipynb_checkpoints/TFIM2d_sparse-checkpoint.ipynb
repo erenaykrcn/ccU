{
 "cells": [
  {
   "cell_type": "code",
   "execution_count": 94,
   "id": "38b6ea50-3b87-4a9c-b91e-59d86960dee7",
   "metadata": {},
   "outputs": [
    {
     "name": "stdout",
     "output_type": "stream",
     "text": [
      "Trotter error:  0.14314583419968407\n"
     ]
    }
   ],
   "source": [
    "import numpy as np\n",
    "import qiskit\n",
    "from qiskit.quantum_info import state_fidelity\n",
    "from numpy import linalg as LA\n",
    "import qib\n",
    "import matplotlib.pyplot as plt\n",
    "import scipy\n",
    "import h5py\n",
    "\n",
    "import sys\n",
    "sys.path.append(\"../../src/brickwall_sparse\")\n",
    "from utils_sparse import construct_ising_local_term, reduce_list, X, I2, get_perms\n",
    "from ansatz_sparse import ansatz_sparse\n",
    "import rqcopt as oc\n",
    "from scipy.sparse.linalg import expm_multiply\n",
    "from qiskit.quantum_info import random_statevector\n",
    "from scipy.linalg import expm\n",
    "\n",
    "Lx, Ly = (3, 3)\n",
    "L = Lx*Ly\n",
    "t = 0.25\n",
    "# construct Hamiltonian\n",
    "latt = qib.lattice.IntegerLattice((Lx, Ly), pbc=True)\n",
    "field = qib.field.Field(qib.field.ParticleType.QUBIT, latt)\n",
    "J, h, g = (1, 0, 3)\n",
    "hamil = qib.IsingHamiltonian(field, J, h, g).as_matrix()\n",
    "eigenvalues, eigenvectors = scipy.sparse.linalg.eigsh(hamil, k=10)\n",
    "idx = eigenvalues.argsort()\n",
    "eigenvalues_sort = eigenvalues[idx]\n",
    "eigenvectors_sort = eigenvectors[:,idx]\n",
    "ground_state = eigenvectors_sort[:, 0]\n",
    "\n",
    "hloc1 = construct_ising_local_term(J, 0, 0, ndim=2)\n",
    "hloc2 = g*(np.kron(X, I2)+np.kron(I2, X))/4\n",
    "perms_v, perms_h = get_perms(Lx, Ly)\n",
    "\n",
    "\"\"\"Vlist_H = [expm(-1j*t*hloc1/8), expm(-1j*t*hloc2/4), expm(-1j*t*hloc1/4), expm(-1j*t*hloc2/4), expm(-1j*t*hloc1/8)]\n",
    "Vlist_V = [expm(-1j*t*hloc1/16), expm(-1j*t*hloc2/8), expm(-1j*t*hloc1/8), expm(-1j*t*hloc2/8), expm(-1j*t*hloc1/16)]\n",
    "Vlist_start    = Vlist_V + Vlist_H + Vlist_H + Vlist_H + Vlist_V\n",
    "perms_extended = [perms_v]*5 + [perms_h]*5 + [perms_v]*5 + [perms_h]*5 + [perms_v]*5\"\"\"\n",
    "Vlist_H = [expm(-1j*t*hloc1/2) , expm(-1j*t*hloc2), expm(-1j*t*hloc1/2)]\n",
    "Vlist_V = [expm(-1j*t*hloc1/4), expm(-1j*t*hloc2/2), expm(-1j*t*hloc1/4)]\n",
    "Vlist_start    = Vlist_V + Vlist_H + Vlist_V\n",
    "perms_extended = [perms_v]*3 + [perms_h]*3 + [perms_v]*3\n",
    "\n",
    "state = np.array(random_statevector(2**L).data)\n",
    "print(\"Trotter error: \", np.linalg.norm(ansatz_sparse(Vlist_start, L, perms_extended, state) - expm_multiply(\n",
    "    -1j * t * hamil, state), ord=2))"
   ]
  },
  {
   "cell_type": "code",
   "execution_count": 21,
   "id": "c532a981-9fef-4c80-879c-e191d74e527e",
   "metadata": {},
   "outputs": [
    {
     "name": "stdout",
     "output_type": "stream",
     "text": [
      "0.14348534773313465\n"
     ]
    },
    {
     "data": {
      "image/png": "[encoded data removed]",
      "text/plain": [
       "<Figure size 640x480 with 1 Axes>"
      ]
     },
     "metadata": {},
     "output_type": "display_data"
    }
   ],
   "source": [
    "from optimize_sparse import optimize\n",
    "\n",
    "Vlist, f_iter, err_iter = optimize(L, hamil, t, Vlist_start, perms_extended, niter=1, rS=1) # Took 6 mins for 9 params.\n",
    "plt.plot(err_iter)\n",
    "plt.yscale('log')\n",
    "print(err_iter[-1])"
   ]
  },
  {
   "cell_type": "code",
   "execution_count": 9,
   "id": "ff42cee3-e323-45c1-9791-5c3e2baa4fe9",
   "metadata": {},
   "outputs": [],
   "source": [
    "with h5py.File(f\"./results/tfim2d_SPARSE_{J}{h}{g}_Lx{Lx}Ly{Ly}_t{t}_layers{len(Vlist_start)}_U_3hloc.hdf5\", \"w\") as f:\n",
    "    f.create_dataset(\"Vlist\", data=Vlist)\n",
    "    f.create_dataset(\"f_iter\", data=f_iter)\n",
    "    f.create_dataset(\"err_iter\", data=err_iter)\n",
    "    f.attrs[\"L\"] = L\n",
    "    f.attrs[\"t\"] = float(t)"
   ]
  },
  {
   "cell_type": "code",
   "execution_count": 4,
   "id": "065b75ef-afd1-47d2-897f-ec90adcf2e0c",
   "metadata": {},
   "outputs": [],
   "source": [
    "\n",
    "with h5py.File(f\"./results/tfim2d_SPARSE_{J}{h}{g}_Lx{Lx}Ly{Ly}_t{t}_layers{len(Vlist_start)}_U_3hloc.hdf5\", \"r\") as f:\n",
    "    Vlist =  f[\"Vlist\"][:]"
   ]
  },
  {
   "cell_type": "code",
   "execution_count": 110,
   "id": "00093003-ba75-419d-8b48-cfe072d06f9f",
   "metadata": {},
   "outputs": [
    {
     "name": "stdout",
     "output_type": "stream",
     "text": [
      "Trotter error:  0.00019958117239415873\n"
     ]
    }
   ],
   "source": [
    "from scipy.sparse.linalg import expm_multiply\n",
    "\n",
    "\n",
    "Lx, Ly = (3, 3)\n",
    "L = Lx*Ly\n",
    "t = 0.25\n",
    "latt = qib.lattice.IntegerLattice((Lx, Ly), pbc=True)\n",
    "field = qib.field.Field(qib.field.ParticleType.QUBIT, latt)\n",
    "J, h, g = (1, 0, 3)\n",
    "hamil = qib.IsingHamiltonian(field, J, h, g).as_matrix()\n",
    "eigenvalues, eigenvectors = scipy.sparse.linalg.eigsh(hamil, k=10)\n",
    "idx = eigenvalues.argsort()\n",
    "eigenvalues_sort = eigenvalues[idx]\n",
    "eigenvectors_sort = eigenvectors[:,idx]\n",
    "ground_state = eigenvectors_sort[:, 0]\n",
    "\n",
    "perms_v, perms_h = get_perms(Lx, Ly)\n",
    "perms_extended = [perms_v, perms_v, perms_v, perms_h, perms_h, perms_h, perms_v, perms_v, perms_v]\n",
    "\n",
    "state = np.array(random_statevector(2**L).data)\n",
    "print(\"Trotter error: \", 1-state_fidelity(ansatz_sparse(Vlist, L, perms_extended, state), expm_multiply(\n",
    "    -1j * t * hamil, state)))"
   ]
  },
  {
   "cell_type": "code",
   "execution_count": 111,
   "id": "21345922-6380-4210-9e50-e87dc80c336e",
   "metadata": {},
   "outputs": [
    {
     "name": "stdout",
     "output_type": "stream",
     "text": [
      "Trotter error:  0.0003803731635825258\n"
     ]
    }
   ],
   "source": [
    "\"\"\"\n",
    "    Scaling from 3x3 -> 4x4. Important proof of concept! \n",
    "\"\"\"\n",
    "Lx, Ly = (4, 4)\n",
    "L = Lx*Ly\n",
    "latt = qib.lattice.IntegerLattice((Lx, Ly), pbc=True)\n",
    "field = qib.field.Field(qib.field.ParticleType.QUBIT, latt)\n",
    "J, h, g = (1, 0, 3)\n",
    "hamil = qib.IsingHamiltonian(field, J, h, g).as_matrix()\n",
    "eigenvalues, eigenvectors = scipy.sparse.linalg.eigsh(hamil, k=10)\n",
    "idx = eigenvalues.argsort()\n",
    "eigenvalues_sort = eigenvalues[idx]\n",
    "eigenvectors_sort = eigenvectors[:,idx]\n",
    "ground_state = eigenvectors_sort[:, 0]\n",
    "\n",
    "perms_v, perms_h = get_perms(Lx, Ly)\n",
    "perms_extended = [perms_v, perms_v, perms_v, perms_h, perms_h, perms_h, perms_v, perms_v, perms_v]\n",
    "\n",
    "state = np.array(random_statevector(2**L).data)\n",
    "print(\"Trotter error: \", 1-state_fidelity(ansatz_sparse(Vlist, L, perms_extended, state), expm_multiply(\n",
    "    -1j * t * hamil, state)))"
   ]
  },
  {
   "cell_type": "code",
   "execution_count": 105,
   "id": "cbf9f60e-4008-451b-9d4c-dcb1760a29c1",
   "metadata": {
    "scrolled": true
   },
   "outputs": [
    {
     "name": "stdout",
     "output_type": "stream",
     "text": [
      "Approach  ccU\n"
     ]
    },
    {
     "name": "stderr",
     "output_type": "stream",
     "text": [
      "/tmp/ipykernel_12721/1151231498.py:62: DeprecationWarning: The function ``qiskit.execute_function.execute()`` is deprecated as of qiskit 0.46.0. It will be removed in the Qiskit 1.0 release. This function combines ``transpile`` and ``backend.run``, which is covered by ``Sampler`` :mod:`~qiskit.primitives`. Alternatively, you can also run :func:`.transpile` followed by ``backend.run()``.\n",
      "  sv = execute(transpile(qc_), backend).result().get_statevector().data\n"
     ]
    },
    {
     "name": "stdout",
     "output_type": "stream",
     "text": [
      "Trotter error:  0.0009222232736559421\n",
      "Cxs  288\n",
      "Trotter error:  0.0023802766144963793\n",
      "Cxs  576\n",
      "Trotter error:  0.005792562192097228\n",
      "Cxs  1152\n",
      "Trotter error:  0.013942697841436136\n",
      "Cxs  2304\n",
      "Approach  t2\n",
      "Trotter error:  0.016299109976279834\n",
      "Cxs  288\n",
      "Trotter error:  0.03781115562362434\n",
      "Cxs  576\n",
      "Trotter error:  0.09565482902310656\n",
      "Cxs  1152\n",
      "Trotter error:  0.280695201942101\n",
      "Cxs  2304\n",
      "Approach  t4\n",
      "Trotter error:  0.0008688530569181063\n",
      "Cxs  800\n",
      "Trotter error:  0.002213740153746224\n",
      "Cxs  1600\n",
      "Trotter error:  0.005621595144149727\n",
      "Cxs  3200\n",
      "Trotter error:  0.01758572537639449\n",
      "Cxs  6400\n"
     ]
    }
   ],
   "source": [
    "from qiskit import Aer, execute, transpile\n",
    "from qiskit.converters import circuit_to_dag\n",
    "from qiskit.providers.aer.noise import NoiseModel, errors\n",
    "\n",
    "Lx, Ly = (4, 4)\n",
    "L = Lx*Ly\n",
    "latt = qib.lattice.IntegerLattice((Lx, Ly), pbc=True)\n",
    "field = qib.field.Field(qib.field.ParticleType.QUBIT, latt)\n",
    "J, h, g = (1, 0, 3)\n",
    "hamil = qib.IsingHamiltonian(field, J, h, g).as_matrix()\n",
    "eigenvalues, eigenvectors = scipy.sparse.linalg.eigsh(hamil, k=10)\n",
    "idx = eigenvalues.argsort()\n",
    "eigenvalues_sort = eigenvalues[idx]\n",
    "eigenvectors_sort = eigenvectors[:,idx]\n",
    "ground_state = eigenvectors_sort[:, 0]\n",
    "perms_v, perms_h = get_perms(Lx, Ly)\n",
    "perms_extended = [perms_v, perms_v, perms_v, perms_h, perms_h, perms_h, perms_v, perms_v, perms_v]\n",
    "\n",
    "t = 0.25\n",
    "hloc1 = construct_ising_local_term(J, 0, 0, ndim=2)\n",
    "hloc2 = g*(np.kron(X, I2)+np.kron(I2, X))/4\n",
    "Vlist_H = [expm(-1j*t*hloc1/8), expm(-1j*t*hloc2/4), expm(-1j*t*hloc1/4), expm(-1j*t*hloc2/4), expm(-1j*t*hloc1/8)]\n",
    "Vlist_V = [expm(-1j*t*hloc1/16), expm(-1j*t*hloc2/8), expm(-1j*t*hloc1/8), expm(-1j*t*hloc2/8), expm(-1j*t*hloc1/16)]\n",
    "Vlist_t4    = Vlist_V + Vlist_H + Vlist_H + Vlist_H + Vlist_V\n",
    "perms_extended_t4 = [perms_v]*5 + [perms_h]*5 + [perms_v]*5 + [perms_h]*5 + [perms_v]*5\n",
    "\n",
    "Vlist_H = [expm(-1j*t*hloc1/2) , expm(-1j*t*hloc2), expm(-1j*t*hloc1/2)]\n",
    "Vlist_V = [expm(-1j*t*hloc1/4), expm(-1j*t*hloc2/2), expm(-1j*t*hloc1/4)]\n",
    "Vlist_t2    = Vlist_V + Vlist_H + Vlist_V\n",
    "perms_extended_t2 = [perms_v]*3 + [perms_h]*3 + [perms_v]*3\n",
    "\n",
    "errs = {'ccU': [], 't2': [], 't4': []}\n",
    "cxs =  {'ccU': [], 't2': [], 't4': []}\n",
    "Vs = {'ccU': Vlist, 't2': Vlist_t2, 't4': Vlist_t4}\n",
    "perms_ = {'ccU': perms_extended, 't2': perms_extended_t2, 't4': perms_extended_t4}\n",
    "\n",
    "for lab in ['ccU', 't2', 't4']:\n",
    "    print('Approach ', lab)\n",
    "    for t in [.5, 1, 2, 4]:\n",
    "        qc = qiskit.QuantumCircuit(L)\n",
    "        \n",
    "        for n in range(int(t//0.25)):\n",
    "            for i, V in enumerate(Vs[lab]):\n",
    "                perms = perms_[lab][i]\n",
    "                for perm in perms:\n",
    "                    for j in range(len(perm)//2):\n",
    "                        qc.unitary(V, [L-perm[2*j]-1, L-perm[2*j+1]-1])\n",
    "\n",
    "        noise_model = NoiseModel()\n",
    "        dag = circuit_to_dag(transpile(qc, basis_gates=noise_model.basis_gates+['unitary', 'initialize', 'cx']))\n",
    "        count_ops = dag.count_ops()\n",
    "        cx = count_ops[\"unitary\"]\n",
    "\n",
    "        backend = Aer.get_backend(\"statevector_simulator\")\n",
    "        err = 0\n",
    "        for _ in range(5):\n",
    "            qc_ = qiskit.QuantumCircuit(L)\n",
    "            state = np.array(random_statevector(2**L).data)\n",
    "            qc_.initialize(state, [i for i in range(L)])\n",
    "            qc_.append(qc.to_gate(), [i for i in range(L)])\n",
    "            sv = execute(transpile(qc_), backend).result().get_statevector().data\n",
    "            #err += np.linalg.norm(sv - expm_multiply(-1j * t * hamil, state), ord=2)\n",
    "            err += 1 - state_fidelity(sv, expm_multiply(-1j * t * hamil, state))\n",
    "        err /= 5\n",
    "    \n",
    "        errs[lab].append(err)\n",
    "        cxs[lab].append(cx)\n",
    "        print(\"Trotter error: \", err)\n",
    "        print(\"Cxs \", cx)"
   ]
  },
  {
   "cell_type": "code",
   "execution_count": 107,
   "id": "4e66565b-8b51-41e2-99c8-114b9c56a0d9",
   "metadata": {},
   "outputs": [
    {
     "data": {
      "text/plain": [
       "<Figure size 700x350 with 0 Axes>"
      ]
     },
     "metadata": {},
     "output_type": "display_data"
    },
    {
     "data": {
      "image/png": "[encoded data removed]",
      "text/plain": [
       "<Figure size 700x350 with 1 Axes>"
      ]
     },
     "metadata": {},
     "output_type": "display_data"
    }
   ],
   "source": [
    "import matplotlib\n",
    "plt.subplots_adjust(left=0.2, bottom=0.1, right=0.9, top=0.8, wspace=0.1, hspace=0.2)\n",
    "plt.rcParams[\"figure.figsize\"] = (7, 3.5)\n",
    "import matplotlib as mpl\n",
    "mpl.rcParams['figure.dpi'] = 100\n",
    "\n",
    "fig1, ax1 = plt.subplots()\n",
    "\n",
    "color1 = (181/256, 161/256, 63/256)\n",
    "color2 = (150/256, 83/256, 201/256)\n",
    "color3 = (39/256, 42/256, 138/256)\n",
    "plt.xlabel(r'Two Qubit Gates ($\\propto$ t)', size=15)\n",
    "plt.ylabel('Trotter Error', size=15)\n",
    "\n",
    "plt.plot(cxs['t2'],  errs['t2'], label=r'Trotter $2^{\\text{nd}}$ order', color=color3)\n",
    "plt.scatter(cxs['t2'],  errs['t2'], ls='--', color=color3)\n",
    "\n",
    "plt.plot(cxs['t4'], errs['t4'], label=r'Trotter $4^{\\text{th}}$ order', color=color1)\n",
    "plt.scatter(cxs['t4'],  errs['t4'], ls='--', color=color1)\n",
    "\n",
    "plt.plot(cxs['ccU'],  errs['ccU'], label=r'Compressed‑U', color=color2)\n",
    "plt.scatter(cxs['ccU'],  errs['ccU'], color=color2)\n",
    "\n",
    "annotations = [(\"t=0.5\", (10, -5)), (\"t=1\", (1, -15)), (\"t=2\", (1, -15)), (\"t=4\", (-5, -25))]\n",
    "for xi, yi, text in zip(cxs['t4'], errs['t4'], annotations):\n",
    "    plt.annotate(text[0], xy=(xi, yi), xycoords='data', size=10, xytext=text[1], textcoords='offset points', color=color1)\n",
    "    \n",
    "annotations = [(\"t=0.5\", (10, -5)), (\"t=1\", (1, -15)), (\"t=2\", (1, -15)), (\"t=4\", (-5, -25))]\n",
    "for xi, yi, text in zip(cxs['ccU'], errs['ccU'], annotations):\n",
    "    plt.annotate(text[0], xy=(xi, yi), xycoords='data', size=10, xytext=text[1], textcoords='offset points', color=color2)\n",
    "\n",
    "annotations = [(\"t=0.5\", (0, -15)), (\"t=1\", (-2, -18)), (\"t=2\", (-5, -18)), (\"t=4\", (-28, -2))]\n",
    "for xi, yi, text in zip(cxs['t2'], errs['t2'], annotations):\n",
    "    plt.annotate(text[0], xy=(xi, yi), xycoords='data', size=10, xytext=text[1], textcoords='offset points', color=color3)\n",
    "\n",
    "\n",
    "ax1.set_xscale('log')\n",
    "ax1.set_yscale('log')\n",
    "ax1.set_xticks([300, 1000, 5000])\n",
    "ax1.get_xaxis().set_major_formatter(matplotlib.ticker.ScalarFormatter())\n",
    "plt.legend(loc=\"upper left\", prop={'size': 10})\n",
    "#plt.title(\"Controlled-U of TFIM (g=3) for 4x4 lattice \\n\", size=15)\n",
    "\n",
    "plt.savefig('./figs/TFIM_trotter_and_cxs.pdf', dpi=300, bbox_inches='tight')\n",
    "plt.savefig('./figs/TFIM_trotter_and_cxs.png', dpi=300)\n",
    "plt.show()"
   ]
  },
  {
   "cell_type": "code",
   "execution_count": 18,
   "id": "eaeb5214-5222-4465-99ca-14477cc53b7e",
   "metadata": {},
   "outputs": [
    {
     "data": {
      "text/plain": [
       "'\\n    Gradient and Hessian tests.\\n'"
      ]
     },
     "execution_count": 18,
     "metadata": {},
     "output_type": "execute_result"
    }
   ],
   "source": [
    "\n",
    "\n",
    "\"\"\"\n",
    "    Gradient and Hessian tests.\n",
    "\"\"\""
   ]
  },
  {
   "cell_type": "code",
   "execution_count": 9,
   "id": "7fef52a2-4384-48a6-9650-bd9b53e13d73",
   "metadata": {},
   "outputs": [],
   "source": [
    "# Numerical Test function for: d/G_j d/dG_i f(G)\n",
    "import sys\n",
    "from utils_sparse import real_to_antisymm, project_unitary_tangent\n",
    "\n",
    "\n",
    "def numerical_hessian(Glist, Uv, state, L, perms, i, j, epsilon=1e-6):\n",
    "    \"\"\"Numerically compute d/dW1 of projected gradient dL/dV1 (Riemannian).\"\"\"\n",
    "    numerical_H = []\n",
    "\n",
    "    for _ in range(16):\n",
    "        Z_real = np.zeros(16)\n",
    "        Z_real[_] = 1.0\n",
    "        Z = real_to_antisymm(Z_real.reshape(4, 4))  # 4x4 anti-Hermitian direction\n",
    "\n",
    "        Gj_plus  = Glist[j] @ scipy.linalg.expm(+epsilon*Z)\n",
    "        Gj_minus = Glist[j] @ scipy.linalg.expm(-epsilon*Z)\n",
    "    \n",
    "        if i==j:\n",
    "            grad_plus  = ansatz_sparse_grad_vector(Glist[:j]+[Gj_plus]+Glist[j+1:], L, Uv, state, perms, unprojected=True, flatten=False)[i]\n",
    "            grad_minus = ansatz_sparse_grad_vector(Glist[:j]+[Gj_minus]+Glist[j+1:], L, Uv, state, perms, unprojected=True, flatten=False)[i]\n",
    "            dgrad = (grad_plus - grad_minus) / (2 * epsilon)  # shape (16,)\n",
    "            G = dgrad.reshape(4, 4)\n",
    "\n",
    "            V = Glist[j]\n",
    "            Z = V @ Z\n",
    "            G = project_unitary_tangent(V, G)\n",
    "            grad = ansatz_sparse_grad_vector(Glist, L, Uv, state, perms, flatten=False, unprojected=True)[i]\n",
    "            G -= 0.5 * (Z @ grad.conj().T @ V + V @ grad.conj().T @ Z)\n",
    "            if not np.allclose(Z, project_unitary_tangent(V, Z)):\n",
    "                G -= 0.5 * (Z @ V.conj().T + V @ Z.conj().T) @ grad\n",
    "            G = antisymm_to_real(antisymm( V.conj().T @ G ))\n",
    "        else:\n",
    "            grad_plus  = ansatz_sparse_grad_vector(Glist[:j]+[Gj_plus]+Glist[j+1:], L, Uv, state, perms, unprojected=False, flatten=False)[i]\n",
    "            grad_minus = ansatz_sparse_grad_vector(Glist[:j]+[Gj_minus]+Glist[j+1:], L, Uv, state, perms, unprojected=False, flatten=False)[i]\n",
    "            dgrad = (grad_plus - grad_minus) / (2 * epsilon)  # shape (16,)\n",
    "            G = dgrad.reshape(4, 4)\n",
    "            \n",
    "        numerical_H.append(G)\n",
    "    \n",
    "    return np.array(numerical_H)  # shape: (16, 4, 4)\n"
   ]
  },
  {
   "cell_type": "code",
   "execution_count": 10,
   "id": "894d9d1d-b5f7-435c-94a7-8437ffc42856",
   "metadata": {},
   "outputs": [],
   "source": [
    "def grad_numerical(Glist, perms, Uv, v, epsilon=1e-6, flatten=True, unprojected=False):\n",
    "    grads = []\n",
    "    for _ in range(len(Glist)):\n",
    "        W = Glist[_]\n",
    "        d = Glist[_].shape[0]\n",
    "        grad_complex = np.zeros((d, d), dtype=complex)\n",
    "\n",
    "        for i in range(d):\n",
    "            for j in range(d):\n",
    "                # Real perturbation\n",
    "                dW_real = np.zeros_like(W, dtype=complex)\n",
    "                dW_real[i, j] = epsilon\n",
    "\n",
    "                Glist_plus_real  = Glist[:_] + [W + dW_real] + Glist[_+1:]\n",
    "                Glist_minus_real = Glist[:_] + [W - dW_real] + Glist[_+1:]\n",
    "                \n",
    "                f_plus  = f(Glist_plus_real, Uv, v, L, perms)\n",
    "                f_minus = f(Glist_minus_real, Uv, v, L, perms)\n",
    "                df_real = (f_plus - f_minus) / (2 * epsilon)\n",
    "\n",
    "                # Imaginary perturbation\n",
    "                dW_imag = np.zeros_like(W, dtype=complex)\n",
    "                dW_imag[i, j] = 1j * epsilon\n",
    "\n",
    "                Glist_plus_imag  = Glist[:_] + [W + dW_imag] + Glist[_+1:]\n",
    "                Glist_minus_imag = Glist[:_] + [W - dW_imag] + Glist[_+1:]\n",
    "                \n",
    "                f_plus  = f(Glist_plus_imag, Uv, v, L, perms)\n",
    "                f_minus = f(Glist_minus_imag, Uv, v, L, perms)\n",
    "                df_imag = (f_plus - f_minus) / (2 * epsilon)\n",
    "    \n",
    "                grad_complex[i, j] = df_real + 1j * df_imag\n",
    "        grads.append(grad_complex)\n",
    "\n",
    "    if unprojected:\n",
    "        return grads\n",
    "    \n",
    "    stack = np.stack([ antisymm_to_real(antisymm(W.conj().T @ grads[j])) for j, W in enumerate(Glist)])\n",
    "    if flatten:\n",
    "        return stack.reshape(-1)\n",
    "    return stack\n",
    "\n",
    "# Random unitary generator\n",
    "def random_unitary(n):\n",
    "    A = np.random.randn(n, n) + 1j * np.random.randn(n, n)\n",
    "    Q, _ = np.linalg.qr(A)\n",
    "    return Q"
   ]
  },
  {
   "cell_type": "code",
   "execution_count": 11,
   "id": "e7aaf870-90da-46bd-a29e-59173b8469ef",
   "metadata": {},
   "outputs": [
    {
     "name": "stdout",
     "output_type": "stream",
     "text": [
      "Difference (Frobenius norm): 2.907280466353324e-10\n"
     ]
    }
   ],
   "source": [
    "import numpy as np\n",
    "from ansatz_sparse import ansatz_sparse_grad, ansatz_sparse_grad_vector\n",
    "from utils_sparse import antisymm_to_real, antisymm, partial_trace_keep, applyG_state, applyG_block_state\n",
    "from optimize_sparse import err as f\n",
    "\n",
    "perms_extended = [perms_v, perms_h, perms_v]\n",
    "Glist = [random_unitary(4) for i in range(3)]\n",
    "state = np.array(random_statevector(2**L).data)\n",
    "Uv = np.array(random_statevector(2**L).data)\n",
    "\n",
    "# Compute gradients\n",
    "grad_a = -ansatz_sparse_grad_vector(Glist, L, Uv, state, perms_extended)\n",
    "grad_n = grad_numerical(Glist, perms_extended, Uv, state)\n",
    "# Compare\n",
    "error = np.linalg.norm(grad_a - grad_n)\n",
    "print(\"Difference (Frobenius norm):\", error)"
   ]
  },
  {
   "cell_type": "code",
   "execution_count": 12,
   "id": "0e04ee10-fdcb-48a7-ba55-0119e5ee57c5",
   "metadata": {},
   "outputs": [
    {
     "name": "stdout",
     "output_type": "stream",
     "text": [
      "Difference norm: 6.989909689026296e-10\n"
     ]
    }
   ],
   "source": [
    "from hessian_sparse import ansatz_sparse_hessian_matrix\n",
    "\n",
    "\n",
    "Glist = [random_unitary(4) for i in range(3)]\n",
    "state = np.array(random_statevector(2**L).data)\n",
    "Uv = np.array(random_statevector(2**L).data)\n",
    "\n",
    "i, j = 0, 1\n",
    "H = ansatz_sparse_hessian_matrix(Glist, L, Uv, state, perms_extended, unprojected=False, flatten=False)\n",
    "grad = []\n",
    "for _ in range(16):\n",
    "    grad.append(H[i, :, j, _].reshape(4,4))\n",
    "analytical = np.array(grad)\n",
    "numerical = numerical_hessian(Glist, Uv, state, L, perms_extended, i, j)\n",
    "\n",
    "print(\"Difference norm:\", np.linalg.norm(numerical - analytical))"
   ]
  },
  {
   "cell_type": "code",
   "execution_count": null,
   "id": "0ddb76ff-a01c-4c8f-baab-9f617ff10cb4",
   "metadata": {},
   "outputs": [],
   "source": []
  },
  {
   "cell_type": "code",
   "execution_count": null,
   "id": "e7fcf764-2c1d-4768-9d4a-8743bbb6e399",
   "metadata": {},
   "outputs": [],
   "source": []
  },
  {
   "cell_type": "code",
   "execution_count": null,
   "id": "f6b2f820-92d5-4a4b-bcd0-817d5870ff2f",
   "metadata": {},
   "outputs": [],
   "source": []
  },
  {
   "cell_type": "code",
   "execution_count": null,
   "id": "791083e6-9d67-47b4-9ffe-3f5d204ced0b",
   "metadata": {},
   "outputs": [],
   "source": []
  },
  {
   "cell_type": "code",
   "execution_count": 11,
   "id": "9e3864b1-ecaf-4f26-9013-0b850b4f4623",
   "metadata": {},
   "outputs": [
    {
     "name": "stdout",
     "output_type": "stream",
     "text": [
      "0.04330406641643729\n"
     ]
    },
    {
     "data": {
      "image/png": "[encoded data removed]",
      "text/plain": [
       "<Figure size 640x480 with 1 Axes>"
      ]
     },
     "metadata": {},
     "output_type": "display_data"
    }
   ],
   "source": [
    "from optimize_2D import optimize\n",
    "\n",
    "Vlist, f_iter, err_iter = optimize(L, U, Vlist_start, perms_extended, niter=10)\n",
    "plt.plot(err_iter)\n",
    "plt.yscale('log')\n",
    "print(err_iter[-1])"
   ]
  },
  {
   "cell_type": "code",
   "execution_count": 12,
   "id": "8c39497a-8b63-4407-b70e-80dc927af6a1",
   "metadata": {},
   "outputs": [],
   "source": [
    "with h5py.File(f\"./results/tfim2d_{J}{h}{g}_Lx{Lx}Ly{Ly}_t{t}_layers{len(Vlist_start)}_U_3hloc_v2.hdf5\", \"w\") as f:\n",
    "    f.create_dataset(\"Vlist\", data=Vlist)\n",
    "    f.create_dataset(\"f_iter\", data=f_iter)\n",
    "    f.create_dataset(\"err_iter\", data=err_iter)\n",
    "    f.attrs[\"L\"] = L\n",
    "    f.attrs[\"t\"] = float(t)"
   ]
  },
  {
   "cell_type": "code",
   "execution_count": 37,
   "id": "59a6b1a4-02ad-4d82-8fee-746490282af4",
   "metadata": {},
   "outputs": [],
   "source": [
    "#Vlist = []\n",
    "#with h5py.File(\"./results/tfim2d_101_Lx3Ly3_t0.25_layers9_U_v3.hdf5\", \"r\") as f:\n",
    "#    Vlist =  f[\"Vlist\"][:]\n",
    "\n",
    "with h5py.File(f\"./results/tfim2d_{J}{h}{g}_Lx3Ly3_t{t}_layers9_U_3hloc_v2.hdf5\", \"r\") as f:\n",
    "    Vlist =  f[\"Vlist\"][:]"
   ]
  },
  {
   "cell_type": "code",
   "execution_count": 38,
   "id": "f72dfc4b-2149-4be3-ab7b-de8218adbb9b",
   "metadata": {},
   "outputs": [
    {
     "name": "stdout",
     "output_type": "stream",
     "text": [
      "Trotter error:  0.014658279834763598\n"
     ]
    }
   ],
   "source": [
    "from scipy.sparse.linalg import expm_multiply\n",
    "\n",
    "perms_v = [[0, 1, 3, 4, 6, 7], [1, 2, 4, 5, 7, 8], [2, 0, 5, 3, 8, 6]]\n",
    "perms_h = [[0, 3, 1, 4, 2, 5], [3, 6, 4, 7, 5, 8], [6, 0, 7, 1, 8, 2]]\n",
    "perms_extended = [perms_v, perms_v, perms_v, perms_h, perms_h, perms_h, perms_v, perms_v, perms_v]\n",
    "\n",
    "Lx, Ly = (3, 3)\n",
    "L = Lx*Ly\n",
    "t = 0.25\n",
    "latt = qib.lattice.IntegerLattice((Lx, Ly), pbc=True)\n",
    "field = qib.field.Field(qib.field.ParticleType.QUBIT, latt)\n",
    "J, h, g = (1, 0, 3)\n",
    "hamil = qib.IsingHamiltonian(field, J, h, g).as_matrix()\n",
    "eigenvalues, eigenvectors = scipy.sparse.linalg.eigsh(hamil, k=10)\n",
    "idx = eigenvalues.argsort()\n",
    "eigenvalues_sort = eigenvalues[idx]\n",
    "eigenvectors_sort = eigenvectors[:,idx]\n",
    "ground_state = eigenvectors_sort[:, 0]\n",
    "\n",
    "state = np.array(random_statevector(2**L).data)\n",
    "print(\"Trotter error: \", np.linalg.norm(ansatz_sparse(Vlist, L, perms_extended, state) - expm_multiply(\n",
    "    -1j * t * hamil, state), ord=2))"
   ]
  },
  {
   "cell_type": "code",
   "execution_count": 39,
   "id": "730fc6f5-815d-4bad-a752-7e1290f58472",
   "metadata": {},
   "outputs": [
    {
     "name": "stdout",
     "output_type": "stream",
     "text": [
      "Trotter error:  0.019069131740793995\n"
     ]
    }
   ],
   "source": [
    "\"\"\"\n",
    "    Scaling from 3x3 -> 4x4. Important proof of concept! \n",
    "\"\"\"\n",
    "\n",
    "\n",
    "from scipy.sparse.linalg import expm_multiply\n",
    "from qiskit.quantum_info import state_fidelity\n",
    "\n",
    "perms_v = [[0, 1, 4, 5, 8, 9, 12, 13, 2, 3, 6, 7, 10, 11, 14, 15], \n",
    "          [1, 2, 5, 6, 9, 10, 13, 14, 3, 0, 7, 4, 11, 8, 15, 12]]\n",
    "perms_h = [[0, 4, 1, 5, 2, 6, 3, 7, 8, 12, 9, 13, 10, 14, 11, 15], \n",
    "          [4, 8, 5, 9, 6, 10, 7, 11, 12, 0, 13, 1, 14, 2, 15, 3]]\n",
    "perms_extended = [perms_v, perms_v, perms_v, perms_h, perms_h, perms_h, perms_v, perms_v, perms_v]\n",
    "\n",
    "Lx, Ly = (4, 4)\n",
    "L = Lx*Ly\n",
    "latt = qib.lattice.IntegerLattice((Lx, Ly), pbc=True)\n",
    "field = qib.field.Field(qib.field.ParticleType.QUBIT, latt)\n",
    "J, h, g = (1, 0, 3)\n",
    "hamil = qib.IsingHamiltonian(field, J, h, g).as_matrix()\n",
    "eigenvalues, eigenvectors = scipy.sparse.linalg.eigsh(hamil, k=10)\n",
    "idx = eigenvalues.argsort()\n",
    "eigenvalues_sort = eigenvalues[idx]\n",
    "eigenvectors_sort = eigenvectors[:,idx]\n",
    "ground_state = eigenvectors_sort[:, 0]\n",
    "\n",
    "state = np.array(random_statevector(2**L).data)\n",
    "print(\"Trotter error: \", np.linalg.norm(ansatz_sparse(Vlist, L, perms_extended, state) - expm_multiply(\n",
    "    -1j * t * hamil, state), ord=2))"
   ]
  },
  {
   "cell_type": "code",
   "execution_count": 23,
   "id": "cc9d9326-8eaa-47b8-bec3-e28b6d8f4825",
   "metadata": {},
   "outputs": [
    {
     "name": "stdout",
     "output_type": "stream",
     "text": [
      "Trotter error of the starting point:  0.13347188641887073\n"
     ]
    }
   ],
   "source": [
    "\"\"\"\n",
    "    Attempt for the controlled version:\n",
    "\"\"\"\n",
    "\n",
    "import numpy as np\n",
    "import qiskit\n",
    "from qiskit.quantum_info import state_fidelity\n",
    "from numpy import linalg as LA\n",
    "import qib\n",
    "import matplotlib.pyplot as plt\n",
    "import scipy\n",
    "import h5py\n",
    "\n",
    "import sys\n",
    "sys.path.append(\"../../src/brickwall_ansatz_2D\")\n",
    "from utils_2D import construct_ising_local_term, reduce_list, X, I2\n",
    "from ansatz_2D import ansatz_2D, ansatz_sparse\n",
    "import rqcopt as oc\n",
    "\n",
    "Lx, Ly = (2, 2)\n",
    "L = Lx*Ly\n",
    "t = 0.25\n",
    "# construct Hamiltonian\n",
    "latt = qib.lattice.IntegerLattice((Lx, Ly), pbc=True)\n",
    "field = qib.field.Field(qib.field.ParticleType.QUBIT, latt)\n",
    "J, h, g = (1, 0, 3)\n",
    "hamil = qib.IsingHamiltonian(field, J, h, g).as_matrix().toarray()\n",
    "eigenvalues, eigenvectors = LA.eig(hamil)\n",
    "idx = eigenvalues.argsort()\n",
    "eigenvalues_sort = eigenvalues[idx]\n",
    "eigenvectors_sort = eigenvectors[:,idx]\n",
    "ground_state = eigenvectors_sort[:, 0]\n",
    "\n",
    "X = np.array([[0, 1], [1, 0]])\n",
    "Z = np.array([[1, 0], [0, -1]])\n",
    "Y = np.array([[0, -1j], [1j, 0]])\n",
    "I2 = np.array([[1, 0], [0, 1]])\n",
    "\n",
    "hloc1 = construct_ising_local_term(J, 0, 0, ndim=2)/2\n",
    "hloc2 = g*(np.kron(X, I2)+np.kron(I2, X))/4\n",
    "V1 = scipy.linalg.expm(-1j*t*hloc1/2)\n",
    "V2 = scipy.linalg.expm(-1j*t*hloc2)\n",
    "V3 = scipy.linalg.expm(-1j*t*hloc1/4)\n",
    "V4 = scipy.linalg.expm(-1j*t*hloc2/2)\n",
    "YZ = np.kron(Y, Z)\n",
    "\n",
    "perms_v = [[0, 1, 2, 3], [1, 0, 3, 2]]\n",
    "perms_h = [[0, 2, 1, 3], [2, 0, 3, 1]]\n",
    "\n",
    "Vlist_start = [YZ, V3, V4, V3, YZ, YZ, V1, V2, V1, YZ, YZ, V3, V4, V3, YZ]\n",
    "Vlist_reduced = [V3, V4, V3, V1, V2, V1, V3, V4, V3]\n",
    "perms_extended = [[perms_v[0]]] + [perms_v]*3 + [[perms_v[0]], [perms_h[0]]] +\\\n",
    "                    [perms_h]*3 + [[perms_h[0]], [perms_v[0]]] + [perms_v]*3 + [[perms_v[0]]]\n",
    "perms_ext_reduced = [perms_v]*3  + [perms_h]*3 + [perms_v]*3\n",
    "control_layers = [0, 4, 5, 9, 10, 14] # 6 control layers\n",
    "\n",
    "U = scipy.linalg.expm(-1j*hamil*t)\n",
    "U_back = scipy.linalg.expm(1j*hamil*t)\n",
    "print(\"Trotter error of the starting point: \", (np.linalg.norm(ansatz_2D(Vlist_start, L, perms_extended) - U_back, ord=2) +\\\n",
    "                                                np.linalg.norm(ansatz_2D(Vlist_reduced, L, perms_ext_reduced) - U, ord=2)\n",
    "                                               )/2)"
   ]
  },
  {
   "cell_type": "code",
   "execution_count": 24,
   "id": "03e6b5f0-d89c-48f7-aaf5-9c3f36bc0a42",
   "metadata": {
    "scrolled": true
   },
   "outputs": [
    {
     "name": "stdout",
     "output_type": "stream",
     "text": [
      "0.006405958437971454\n"
     ]
    },
    {
     "data": {
      "image/png": "[encoded data removed]",
      "text/plain": [
       "<Figure size 640x480 with 1 Axes>"
      ]
     },
     "metadata": {},
     "output_type": "display_data"
    }
   ],
   "source": [
    "from optimize_2D import optimize\n",
    "\n",
    "Vlist, f_iter, err_iter = optimize(L, U, Vlist_start, perms_extended, perms_reduced=perms_ext_reduced, \n",
    "                                   control_layers=control_layers, niter=20)\n",
    "plt.plot(err_iter)\n",
    "plt.yscale('log')\n",
    "print(err_iter[-1])"
   ]
  },
  {
   "cell_type": "code",
   "execution_count": 33,
   "id": "95afd7e9-219f-4308-a7bb-76fd0fdc9efc",
   "metadata": {},
   "outputs": [
    {
     "name": "stdout",
     "output_type": "stream",
     "text": [
      "Trotter error:  0.5750621139281873\n",
      "0.5751317605441435\n"
     ]
    }
   ],
   "source": [
    "Lx, Ly = (4, 4)\n",
    "L = Lx*Ly\n",
    "t = 0.25\n",
    "# construct Hamiltonian\n",
    "latt = qib.lattice.IntegerLattice((Lx, Ly), pbc=True)\n",
    "field = qib.field.Field(qib.field.ParticleType.QUBIT, latt)\n",
    "J, h, g = (1, 0, 3)\n",
    "hamil = qib.IsingHamiltonian(field, J, h, g).as_matrix()\n",
    "\n",
    "\n",
    "perms_v = [[0, 1, 4, 5, 8, 9, 12, 13, 2, 3, 6, 7, 10, 11, 14, 15], \n",
    "          [1, 2, 5, 6, 9, 10, 13, 14, 3, 0, 7, 4, 11, 8, 15, 12]]\n",
    "perms_h = [[0, 4, 1, 5, 2, 6, 3, 7, 8, 12, 9, 13, 10, 14, 11, 15], \n",
    "          [4, 8, 5, 9, 6, 10, 7, 11, 12, 0, 13, 1, 14, 2, 15, 3]]\n",
    "perms_extended = [[perms_v[0]]] + [perms_v]*3 + [[perms_v[0]], [perms_h[0]]] +\\\n",
    "                    [perms_h]*3 + [[perms_h[0]], [perms_v[0]]] + [perms_v]*3 + [[perms_v[0]]]\n",
    "perms_ext_reduced = [perms_v]*3  + [perms_h]*3 + [perms_v]*3\n",
    "control_layers = [0, 4, 5, 9, 10, 14] # 6 control layers\n",
    "\n",
    "\n",
    "Vlist_reduced = []\n",
    "for i, V in enumerate(Vlist):\n",
    "    if i not in control_layers:\n",
    "        Vlist_reduced.append(V)\n",
    "#U = scipy.linalg.expm(-1j*hamil*t)\n",
    "#U_back = scipy.linalg.expm(1j*hamil*t)\n",
    "\"\"\"print(\"Trotter error of the starting point: \", (np.linalg.norm(ansatz_sparse(Vlist, L, perms_extended, reps=len(perms_v)) - U_back, ord=2) +\\\n",
    "                                                np.linalg.norm(ansatz_sparse(Vlist_reduced, L, perms_ext_reduced, reps=len(perms_v)) - U, ord=2)\n",
    "                                               )/2)\"\"\"\n",
    "\n",
    "state = np.array(random_statevector(2**L).data)\n",
    "print(\"Trotter error: \", (np.linalg.norm(ansatz_sparse(Vlist, L, perms_extended, state) - expm_multiply(\n",
    "    1j * t * hamil, state), ord=2)))\n",
    "      \n",
    "print(np.linalg.norm(ansatz_sparse(Vlist_reduced, L, perms_ext_reduced, state) - expm_multiply(\n",
    "    -1j * t * hamil, state), ord=2))\n"
   ]
  },
  {
   "cell_type": "code",
   "execution_count": null,
   "id": "ce38a522-9ca9-4564-9b1f-58f46fdde2cd",
   "metadata": {},
   "outputs": [],
   "source": []
  },
  {
   "cell_type": "code",
   "execution_count": null,
   "id": "b613945b-c117-4937-83a9-2c0ab759e158",
   "metadata": {},
   "outputs": [],
   "source": []
  },
  {
   "cell_type": "code",
   "execution_count": null,
   "id": "a7f0557e-118f-47b2-8013-031afd83752a",
   "metadata": {},
   "outputs": [],
   "source": []
  },
  {
   "cell_type": "code",
   "execution_count": null,
   "id": "51550200-61df-464c-b6eb-27a842e29d52",
   "metadata": {},
   "outputs": [],
   "source": []
  },
  {
   "cell_type": "code",
   "execution_count": null,
   "id": "0614225b-c4af-4950-ab83-992656288127",
   "metadata": {},
   "outputs": [],
   "source": []
  }
 ],
 "metadata": {
  "kernelspec": {
   "display_name": "Python3.10 (qc)",
   "language": "python",
   "name": "qc"
  },
  "language_info": {
   "codemirror_mode": {
    "name": "ipython",
    "version": 3
   },
   "file_extension": ".py",
   "mimetype": "text/x-python",
   "name": "python",
   "nbconvert_exporter": "python",
   "pygments_lexer": "ipython3",
   "version": "3.10.13"
  }
 },
 "nbformat": 4,
 "nbformat_minor": 5
}
