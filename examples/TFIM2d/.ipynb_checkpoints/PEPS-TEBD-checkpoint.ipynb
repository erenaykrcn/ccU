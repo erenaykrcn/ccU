{
 "cells": [
  {
   "cell_type": "code",
   "execution_count": null,
   "id": "975a4b35-6817-408f-8526-a9318a74bacb",
   "metadata": {
    "scrolled": true
   },
   "outputs": [],
   "source": [
    "import sys\n",
    "sys.path.append(\"../../src/brickwall_sparse\")\n",
    "from utils_sparse import applyG_block_state, get_perms\n",
    "\n",
    "import numpy as np\n",
    "import quimb.tensor as qtn\n",
    "import quimb\n",
    "from quimb.tensor.tensor_2d_tebd import TEBD2D, LocalHam2D\n",
    "import scipy\n",
    "import h5py\n",
    "import qib\n",
    "import rqcopt as oc\n",
    "from scipy.sparse.linalg import expm_multiply\n",
    "\n",
    "import time\n",
    "import tracemalloc\n",
    "tracemalloc.start()\n",
    "\n",
    "Lx, Ly = (6, 6)\n",
    "L = Lx*Ly\n",
    "latt = qib.lattice.IntegerLattice((Lx, Ly), pbc=True)\n",
    "field = qib.field.Field(qib.field.ParticleType.QUBIT, latt)\n",
    "J, h, g = (1, 0, 1)\n",
    "\n",
    "#perms_v, perms_h = get_perms(Lx, Ly)\n",
    "perms_v, perms_h = (\n",
    "    [[0 , 1 , 2 , 3 , 4 , 5 , 6 , 7 , 8 , 9 , 10, 11, 12, 13, 14, 15, 16, 17, 18, 19, 20, 21, 22, 23, 24, 25, 26, 27, 28, 29, 30, 31, 32, 33, 34, 35],\n",
    "    [1, 2, 3, 4, 5, 0, 7, 8, 9, 10, 11, 6, 13, 14, 15, 16, 17, 12, 19, 20, 21, 22, 23, 18, 25, 26, 27, 28, 29, 24, 31, 32, 33, 34, 35, 30]],\n",
    "    [[0, 6, 12, 18, 24, 30, 1, 7, 13, 19, 25, 31, 2, 8, 14, 20, 26, 32, 3, 9, 15, 21, 27, 33, 4, 10, 16, 22, 28, 34, 5, 11, 17, 23, 29, 35], \n",
    "    [6, 12, 18, 24, 30, 0, 7, 13, 19, 25, 31, 1, 8, 14, 20, 26, 32, 2, 9, 15, 21, 27, 33, 3, 10, 16, 22, 28, 34, 4, 11, 17, 23, 29, 35, 5]]\n",
    ")\n",
    "map_ = {i: (i//Ly, i%Lx) for i in range(L)}\n",
    "\n",
    "peps = qtn.PEPS.rand(Lx, Ly, bond_dim=1, phys_dim=2, cyclic=True)\n",
    "peps = peps / peps.norm()\n",
    "peps_E = peps.copy()\n",
    "\n",
    "\n",
    "\"\"\"zero = np.array([1, 0])\n",
    "one = np.array([0, 1])\n",
    "site_map = {map_[i]: one for i in range(L)}\n",
    "for y in range(Ly):\n",
    "    for x in range(Lx):\n",
    "        i = Ly * y + x\n",
    "        if (x + y) % 2 == 1:\n",
    "            site_map[map_[i]] = zero\n",
    "peps_product1 = qtn.PEPS.product_state(site_map, cyclic=True)\n",
    "peps_A = run_adiabatic(peps_product1, Lx, Ly, 1, 2, perms_v, perms_h, J_i=J, g_i=0, J_f=J, g_f=g)\"\"\"\n",
    "\n",
    "\n",
    "peps_E = trotter(peps_E.copy(), 10, L, Lx, Ly, J, g, perms_v, perms_h,\n",
    "                     dt=0.1, max_bond_dim=3, lower_max_bond_dim=3, trotter_order=1, imag=True)\n",
    "#peps_T = trotter(peps_T.copy(), 0.25, L, Lx, Ly, J, g, perms_v, perms_h,\n",
    "#                     dt=0.25/2, max_bond_dim=3, lower_max_bond_dim=3, treshold=6, trotter_order=1)\n",
    "\n"
   ]
  },
  {
   "cell_type": "code",
   "execution_count": 19,
   "id": "053c6b92-6969-4687-8e10-42f89457b425",
   "metadata": {},
   "outputs": [],
   "source": [
    "latt = qib.lattice.IntegerLattice((Lx, Ly), pbc=True)\n",
    "field = qib.field.Field(qib.field.ParticleType.QUBIT, latt)\n",
    "J, h, g = (1, 0, 1)\n",
    "hamil = qib.IsingHamiltonian(field, J, h, g).as_matrix()\n",
    "eigenvalues, eigenvectors = scipy.sparse.linalg.eigsh(hamil, k=20)\n",
    "idx = eigenvalues.argsort()\n",
    "eigenvalues_sort = eigenvalues[idx]\n",
    "eigenvectors_sort = eigenvectors[:,idx]\n",
    "ground_state = eigenvectors_sort[:, 0]"
   ]
  },
  {
   "cell_type": "code",
   "execution_count": 30,
   "id": "b199e4c0-30b4-4c05-a876-9e10f0c09c27",
   "metadata": {},
   "outputs": [
    {
     "data": {
      "text/plain": [
       "0.9818295518043846"
      ]
     },
     "execution_count": 30,
     "metadata": {},
     "output_type": "execute_result"
    }
   ],
   "source": [
    "np.abs(np.vdot(peps_E.to_dense(), ground_state))"
   ]
  },
  {
   "cell_type": "code",
   "execution_count": null,
   "id": "4f8b8b7f-1cf6-4399-96f2-e98d20577320",
   "metadata": {},
   "outputs": [],
   "source": [
    "Z = np.array([[1, 0], [0, -1]])\n",
    "X = np.array([[0, 1], [1, 0]])\n",
    "ZZ1 = J*peps_E.compute_local_expectation({((2, 2), (2, 3)): np.kron(Z, Z)})\n",
    "ZZ2 = J*peps_E.compute_local_expectation({((2, 2), (3, 2)): np.kron(Z, Z)})\n",
    "gX = g*peps_E.compute_local_expectation({((2, 2)): X})\n",
    "(ZZ2 + ZZ1 + gX)"
   ]
  },
  {
   "cell_type": "code",
   "execution_count": 83,
   "id": "151e1cc1-0826-4c45-bb53-b6100a939355",
   "metadata": {},
   "outputs": [],
   "source": [
    "zero = np.array([1, 0])\n",
    "one = np.array([0, 1])\n",
    "\n",
    "site_map = {map_[i]: one for i in range(L)}\n",
    "for y in range(Ly):\n",
    "    for x in range(Lx):\n",
    "        i = Ly * y + x\n",
    "        if (x + y) % 2 == 1:\n",
    "            site_map[map_[i]] = zero\n",
    "peps_product1 = qtn.PEPS.product_state(site_map)"
   ]
  },
  {
   "cell_type": "code",
   "execution_count": 84,
   "id": "b64b469d-1f08-4636-bb5f-334e7fa8609e",
   "metadata": {},
   "outputs": [],
   "source": [
    "zero = np.array([1, 0])\n",
    "one = np.array([0, 1])\n",
    "\n",
    "site_map = {map_[i]: zero for i in range(L)}\n",
    "for y in range(Ly):\n",
    "    for x in range(Lx):\n",
    "        i = Ly * y + x\n",
    "        if (x + y) % 2 == 1:\n",
    "            site_map[map_[i]] = one\n",
    "peps_product2 = qtn.PEPS.product_state(site_map)"
   ]
  },
  {
   "cell_type": "code",
   "execution_count": 88,
   "id": "9023271b-b9ff-40b2-ab5e-af3204305069",
   "metadata": {},
   "outputs": [
    {
     "data": {
      "text/plain": [
       "0.7186625453052174"
      ]
     },
     "execution_count": 88,
     "metadata": {},
     "output_type": "execute_result"
    }
   ],
   "source": [
    "np.abs(peps_product2.overlap(peps_E))**2"
   ]
  },
  {
   "cell_type": "code",
   "execution_count": 86,
   "id": "f8dec463-f73e-4bd1-8a1c-1527b4743a2f",
   "metadata": {},
   "outputs": [
    {
     "data": {
      "text/plain": [
       "1.614516827861519e-41"
      ]
     },
     "execution_count": 86,
     "metadata": {},
     "output_type": "execute_result"
    }
   ],
   "source": [
    "np.abs(peps_product1.overlap(peps_E))**2"
   ]
  },
  {
   "cell_type": "code",
   "execution_count": 7,
   "id": "7022075c-7a4d-450a-a26e-6ff0e2b25ef4",
   "metadata": {},
   "outputs": [
    {
     "data": {
      "text/plain": [
       "0.10700816194270334"
      ]
     },
     "execution_count": 7,
     "metadata": {},
     "output_type": "execute_result"
    }
   ],
   "source": [
    "# construct Hamiltonian\n",
    "latt = qib.lattice.IntegerLattice((Lx, Ly), pbc=True)\n",
    "field = qib.field.Field(qib.field.ParticleType.QUBIT, latt)\n",
    "J, h, g = (1, 0, 1)\n",
    "hamil = qib.IsingHamiltonian(field, J, h, g).as_matrix()\n",
    "eigenvalues, eigenvectors = scipy.sparse.linalg.eigsh(hamil, k=10)\n",
    "idx = eigenvalues.argsort()\n",
    "eigenvalues_sort = eigenvalues[idx]\n",
    "eigenvectors_sort = eigenvectors[:,idx]\n",
    "ground_state = eigenvectors_sort[:, 0]\n",
    "\n",
    "np.abs(np.vdot(peps_E.to_dense(), ground_state))"
   ]
  },
  {
   "cell_type": "code",
   "execution_count": 2,
   "id": "1595ad69-83db-4a43-9d1b-3e4f76130bf0",
   "metadata": {},
   "outputs": [],
   "source": [
    "import rqcopt as oc\n",
    "X = np.array([[0, 1], [1, 0]])\n",
    "Z = np.array([[1, 0], [0, -1]])\n",
    "I2 = np.eye(2)\n",
    "\n",
    "def trotter(peps, t, L, Lx, Ly, J, g, perms_v, perms_h, dag=False, max_bond_dim=5, \n",
    "            dt=0.1, trotter_order=2, treshold=10, lower_max_bond_dim=4, imag=False):\n",
    "    nsteps = np.abs(int(np.ceil(t/dt)))\n",
    "    t = t/nsteps\n",
    "    if trotter_order > 1:\n",
    "        indices = oc.SplittingMethod.suzuki(2, int(np.log(trotter_order)/np.log(2))).indices\n",
    "        coeffs = oc.SplittingMethod.suzuki(2, int(np.log(trotter_order)/np.log(2))).coeffs\n",
    "    else:\n",
    "        indices = [0, 1]\n",
    "        coeffs = [1, 1]\n",
    "    \n",
    "    hloc1 = g*(np.kron(X, I2)+np.kron(I2, X))/4\n",
    "    hloc2 = J*np.kron(Z, Z)\n",
    "    hlocs = (hloc1, hloc2)\n",
    "    Vlist_start = []\n",
    "    for i, c in zip(indices, coeffs):\n",
    "        Vlist_start.append(-1j*c*t*hlocs[i])\n",
    "\n",
    "    for n in range(nsteps):\n",
    "        for layer, V in enumerate(Vlist_start):\n",
    "            i = n*len(Vlist_start)+layer\n",
    "            for perm in perms_h:\n",
    "                ordering = {(map_[perm[2*j]], map_[perm[2*j+1]]): V for j in range(len(perm)//2)}\n",
    "                start = time.time()\n",
    "                t = TEBD2D(peps, ham=LocalHam2D(Lx, Ly, ordering, cyclic=True),\n",
    "                    tau=1, D=max_bond_dim if i<treshold else lower_max_bond_dim, chi=1)\n",
    "                t.sweep(tau=1j if imag else -1)\n",
    "                peps = t.state\n",
    "                \n",
    "            for perm in perms_v:\n",
    "                ordering = {(map_[perm[2*j]], map_[perm[2*j+1]]): V for j in range(len(perm)//2)}\n",
    "                start = time.time()\n",
    "                t = TEBD2D(peps, ham=LocalHam2D(Lx, Ly, ordering, cyclic=True),\n",
    "                    tau=1, D=max_bond_dim if i<treshold else lower_max_bond_dim, chi=1)\n",
    "                t.sweep(tau=1j if imag else -1)\n",
    "                peps = t.state\n",
    "            #with open(f\"trotter_PEPS_log{Lx}{Ly}.txt\", \"a\") as file:\n",
    "            #    file.write(f\"Time step {n}/{nsteps}, layer {layer}/{len(Vlist_start)} applied \\n\")\n",
    "            #print(f\"Time step {n}/{nsteps}, layer {layer}/{len(Vlist_start)} applied\")\n",
    "    print(f\"Norm. Trotter\")\n",
    "    #peps.normalize()\n",
    "    peps = peps / peps.norm()\n",
    "    print(f\"norm finished Trotter\")\n",
    "    return peps"
   ]
  },
  {
   "cell_type": "code",
   "execution_count": 3,
   "id": "b3546982-58c7-43a5-ba02-4f4b0ee80083",
   "metadata": {},
   "outputs": [],
   "source": [
    "def run_adiabatic(peps_init_state, Lx, Ly, T, S, perms_v, perms_h, J_i=J, h_i=0, g_i=0, J_f=J, h_f=0, g_f=g,\n",
    "                 lower_max_bond_dim=3, max_bond_dim=3\n",
    "                 ):\n",
    "    L = Lx*Ly\n",
    "    tau = 1/S\n",
    "    t_s = np.linspace(0, T, S*T)\n",
    "    sch = lambda t, T: np.sin(np.pi*t/(2*T))**2\n",
    "    \n",
    "    peps = peps_init_state.copy()\n",
    "    for s in range(S*T):\n",
    "        lamb = sch(t_s[s], T)\n",
    "        assert lamb <= 1 and lamb >= 0\n",
    "        J = lamb*J_f + (1-lamb)*J_i\n",
    "        g = lamb*g_f + (1-lamb)*g_i\n",
    "        h = lamb*h_f + (1-lamb)*h_i\n",
    "        \n",
    "        peps = trotter(peps, tau, L, Lx, Ly, J, g, perms_v, perms_h, max_bond_dim=max_bond_dim, \n",
    "            dt=tau, trotter_order=2, lower_max_bond_dim=lower_max_bond_dim)\n",
    "    return peps"
   ]
  },
  {
   "cell_type": "code",
   "execution_count": null,
   "id": "a579c5b1-714e-47fb-8b0d-ad42a31d4ed3",
   "metadata": {},
   "outputs": [],
   "source": []
  },
  {
   "cell_type": "code",
   "execution_count": null,
   "id": "25ee8731-2099-4289-812d-8847dda92af4",
   "metadata": {},
   "outputs": [],
   "source": []
  },
  {
   "cell_type": "code",
   "execution_count": null,
   "id": "e7463e49-e886-44e6-b853-a3ef4e8d52c9",
   "metadata": {},
   "outputs": [],
   "source": []
  },
  {
   "cell_type": "code",
   "execution_count": null,
   "id": "a8032523-3095-4461-80df-a88f49487990",
   "metadata": {},
   "outputs": [],
   "source": []
  },
  {
   "cell_type": "code",
   "execution_count": null,
   "id": "1e22efcb-1adf-430a-98fe-2653bb762d8c",
   "metadata": {},
   "outputs": [],
   "source": []
  },
  {
   "cell_type": "code",
   "execution_count": null,
   "id": "b10cda94-3589-4500-9332-ffef8d50c402",
   "metadata": {},
   "outputs": [],
   "source": [
    "\"\"\"Vlist = []\n",
    "with h5py.File(f\"./results/tfim2d_ccU_SPARSE_103_Lx4Ly4_t0.25_layers15_rS1_niter15_3hloc.hdf5\", \"r\") as f:\n",
    "    Vlist =  f[\"Vlist\"][:]\n",
    "control_layers = [0, 4, 5, 9, 10, 14]\n",
    "perms_qc = [[0, 1], [0, 2], [1, 2], [0, 2], [0, 1], [1, 2], [0, 2], [0, 1], [1, 2]]\n",
    "Xlists_opt = {}\n",
    "for i in control_layers:\n",
    "    with h5py.File(f\"./results/tfim2d_ccU_SPARSE_103_Lx4Ly4_t0.25_layers15_niter20_rS5_DECOMPOSE_n9_layer{i}.hdf5\", \"r\") as file:\n",
    "        Xlists_opt[i] = file[f\"Xlist_{i}\"][:]\"\"\"\n",
    "\n",
    "#peps_aE2 = ccU(peps_aE.copy(), Vlist, perms_extended, control_layers, dagger=True, \n",
    "#                 max_bond_dim=4, lower_max_bond_dim=4, treshold=10)\n",
    "\n",
    "#peps_trotters[.25] = peps_T.copy()\n",
    "#peps_ccUs[.25] = peps_aE.copy()\n",
    "#peps_exacts[.25] = peps_E.copy()\n",
    "\n",
    "#sv = peps.to_dense()[:, 0]\n",
    "#sv = expm_multiply(1j * 0.25 * hamil, sv)\n",
    "#peps_exact_05 = trotter(peps_E.copy(), -0.25, L, Lx, Ly, J, g, perms_v, perms_h, dt=0.25/10, max_bond_dim=3, lower_max_bond_dim=3, treshold=10)\n",
    "#peps_trotter_05 = trotter(peps_T.copy(), -0.25, L, Lx, Ly, J, g, perms_v, perms_h, dt=0.25/2, max_bond_dim=3, lower_max_bond_dim=3, treshold=10)\n",
    "#f = quimb.fidelity(peps_trotter.to_dense()[:, 0], sv)\n",
    "#print(\"Trotter Fidelity:\", f)  # Should be ≈1\n",
    "#peps_ccU_025 = ccU(peps_C.copy(), Vlist, perms_extended, control_layers, dagger=True, max_bond_dim=3, lower_max_bond_dim=3, treshold=10)\n",
    "#f = quimb.fidelity(peps_ccU.to_dense()[:, 0], sv)\n",
    "#print(\"ccU Fidelity after identity:\", f)  # Should be ≈1\n",
    "#np.linalg.norm(peps_ccU.overlap(peps_trotter))**2\n"
   ]
  }
 ],
 "metadata": {
  "kernelspec": {
   "display_name": "Python3.10 (qc)",
   "language": "python",
   "name": "qc"
  },
  "language_info": {
   "codemirror_mode": {
    "name": "ipython",
    "version": 3
   },
   "file_extension": ".py",
   "mimetype": "text/x-python",
   "name": "python",
   "nbconvert_exporter": "python",
   "pygments_lexer": "ipython3",
   "version": "3.10.13"
  }
 },
 "nbformat": 4,
 "nbformat_minor": 5
}
