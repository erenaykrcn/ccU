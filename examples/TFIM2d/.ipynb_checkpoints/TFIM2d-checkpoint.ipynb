{
 "cells": [
  {
   "cell_type": "code",
   "execution_count": 1,
   "id": "7790ecf5-2113-47e0-a092-d562259b4eca",
   "metadata": {},
   "outputs": [
    {
     "name": "stdout",
     "output_type": "stream",
     "text": [
      "Trotter error of the starting point:  0.2677916145840912\n"
     ]
    }
   ],
   "source": [
    "import numpy as np\n",
    "import qiskit\n",
    "from qiskit.quantum_info import state_fidelity\n",
    "from numpy import linalg as LA\n",
    "import qib\n",
    "import matplotlib.pyplot as plt\n",
    "import scipy\n",
    "import h5py\n",
    "\n",
    "import sys\n",
    "sys.path.append(\"../../../brickwall_ansatz_2D\")\n",
    "#from optimize import optimize, dynamics_opt\n",
    "from utils_2D import construct_ising_local_term, reduce_list, X, I2\n",
    "from ansatz_2D import ansatz_2D, ansatz_sparse\n",
    "import rqcopt as oc\n",
    "\n",
    "Lx, Ly = (3, 3)\n",
    "L = Lx*Ly\n",
    "t = 0.25\n",
    "# construct Hamiltonian\n",
    "latt = qib.lattice.IntegerLattice((Lx, Ly), pbc=True)\n",
    "field = qib.field.Field(qib.field.ParticleType.QUBIT, latt)\n",
    "J, h, g = (1, 0, 1)\n",
    "hamil = qib.IsingHamiltonian(field, J, h, g).as_matrix().toarray()\n",
    "eigenvalues, eigenvectors = LA.eig(hamil)\n",
    "idx = eigenvalues.argsort()\n",
    "eigenvalues_sort = eigenvalues[idx]\n",
    "eigenvectors_sort = eigenvectors[:,idx]\n",
    "ground_state = eigenvectors_sort[:, 0]\n",
    "\n",
    "hloc1 = construct_ising_local_term(J, 0, 0, ndim=2)/2 if L ==4 else construct_ising_local_term(J, 0, 0, ndim=2)\n",
    "hloc2 = g*(np.kron(X, I2)+np.kron(I2, X))/4\n",
    "\n",
    "Vlist_start = [\n",
    "    scipy.linalg.expm(-1j*t*hloc1*0.5),\n",
    "    scipy.linalg.expm(-1j*t*hloc2),\n",
    "    scipy.linalg.expm(-1j*t*hloc1*0.5)\n",
    "]*2\n",
    "perms = [[0, 1, 3, 4, 6, 7], \n",
    "         [1, 2, 4, 5, 7, 8], \n",
    "         [2, 0, 5, 3, 8, 6], \n",
    "         [0, 3, 1, 4, 2, 5], \n",
    "         [3, 6, 4, 7, 5, 8], \n",
    "         [6, 0, 7, 1, 8, 2]]\n",
    "\n",
    "X = np.array([[0, 1], [1, 0]])\n",
    "I2 = np.array([[1, 0], [0, 1]])\n",
    "\n",
    "U = scipy.linalg.expm(-1j*hamil*t)\n",
    "#U_back = scipy.linalg.expm(1j*hamil*t)\n",
    "print(\"Trotter error of the starting point: \", (np.linalg.norm(ansatz_2D(Vlist_start, L, perms) - U, ord=2) ))"
   ]
  },
  {
   "cell_type": "code",
   "execution_count": 15,
   "id": "38b6ea50-3b87-4a9c-b91e-59d86960dee7",
   "metadata": {},
   "outputs": [
    {
     "name": "stdout",
     "output_type": "stream",
     "text": [
      "Trotter error of the starting point:  0.06981799451385608\n"
     ]
    }
   ],
   "source": [
    "import numpy as np\n",
    "import qiskit\n",
    "from qiskit.quantum_info import state_fidelity\n",
    "from numpy import linalg as LA\n",
    "import qib\n",
    "import matplotlib.pyplot as plt\n",
    "import scipy\n",
    "import h5py\n",
    "\n",
    "import sys\n",
    "sys.path.append(\"../../src/brickwall_ansatz_2D\")\n",
    "#from optimize import optimize, dynamics_opt\n",
    "from utils_2D import construct_ising_local_term, reduce_list, X, I2\n",
    "from ansatz_2D import ansatz_2D, ansatz_sparse\n",
    "import rqcopt as oc\n",
    "\n",
    "Lx, Ly = (3, 3)\n",
    "L = Lx*Ly\n",
    "t = 0.25\n",
    "# construct Hamiltonian\n",
    "latt = qib.lattice.IntegerLattice((Lx, Ly), pbc=True)\n",
    "field = qib.field.Field(qib.field.ParticleType.QUBIT, latt)\n",
    "J, h, g = (1, 0, 1)\n",
    "hamil = qib.IsingHamiltonian(field, J, h, g).as_matrix().toarray()\n",
    "eigenvalues, eigenvectors = LA.eig(hamil)\n",
    "idx = eigenvalues.argsort()\n",
    "eigenvalues_sort = eigenvalues[idx]\n",
    "eigenvectors_sort = eigenvectors[:,idx]\n",
    "ground_state = eigenvectors_sort[:, 0]\n",
    "\n",
    "hloc1 = construct_ising_local_term(J, 0, 0, ndim=2)/2 if L == 4 else construct_ising_local_term(J, 0, 0, ndim=2)\n",
    "hloc2 = g*(np.kron(X, I2)+np.kron(I2, X))/4\n",
    "#hloc = construct_ising_local_term(J, 0, g, ndim=2)\n",
    "\n",
    "perms_v = [[0, 1, 3, 4, 6, 7], [1, 2, 4, 5, 7, 8], [2, 0, 5, 3, 8, 6]]\n",
    "perms_h = [[0, 3, 1, 4, 2, 5], [3, 6, 4, 7, 5, 8], [6, 0, 7, 1, 8, 2]]\n",
    "#perms_v = [[0, 1, 2, 3], [1, 0, 3, 2]]\n",
    "#perms_h = [[0, 2, 1, 3], [2, 0, 3, 1]]\n",
    "\n",
    "V1 = scipy.linalg.expm(-1j*t*hloc1/2)\n",
    "V2 = scipy.linalg.expm(-1j*t*hloc2)\n",
    "\n",
    "V3 = scipy.linalg.expm(-1j*t*hloc1/4)\n",
    "V4 = scipy.linalg.expm(-1j*t*hloc2/2)\n",
    "Vlist_start = [V3, V4, V3, V1, V2, V1, V3, V4, V3]\n",
    "\n",
    "\n",
    "eta1, eta2 = (3, 3) # eta1 here refers to the Trotter terms within each v or h perms (different hlocs).\n",
    "                    # and eta2 refers to the Trotter terms in terms of v/h splitting (e.g. 3 for V-H-V splitting),\n",
    "                    # takes odd values.\n",
    "perms_v = [[0, 1, 3, 4, 6, 7], [1, 2, 4, 5, 7, 8], [2, 0, 5, 3, 8, 6]]\n",
    "perms_h = [[0, 3, 1, 4, 2, 5], [3, 6, 4, 7, 5, 8], [6, 0, 7, 1, 8, 2]]\n",
    "reps = len(perms_v) # How many times a V_i is repeated in terms of layers.\n",
    "perms = perms_v*eta1 + perms_h*eta1\n",
    "perms_extended = []\n",
    "for i in range(eta1*eta2*reps):\n",
    "    perms_extended.append(perms[i%len(perms)])\n",
    "\n",
    "X = np.array([[0, 1], [1, 0]])\n",
    "I2 = np.array([[1, 0], [0, 1]])\n",
    "\n",
    "U = scipy.linalg.expm(-1j*hamil*t)\n",
    "#U_back = scipy.linalg.expm(1j*hamil*t)\n",
    "print(\"Trotter error of the starting point: \", (np.linalg.norm(ansatz_2D(Vlist_start, L, perms_extended, reps=len(perms_v)) - U, ord=2) ))"
   ]
  },
  {
   "cell_type": "code",
   "execution_count": 16,
   "id": "a95a83dd-dee0-4ec2-88e8-e8b29f30c2e9",
   "metadata": {},
   "outputs": [
    {
     "name": "stdout",
     "output_type": "stream",
     "text": [
      "0.003547554142222721\n"
     ]
    },
    {
     "data": {
      "image/png": "[encoded data removed]",
      "text/plain": [
       "<Figure size 640x480 with 1 Axes>"
      ]
     },
     "metadata": {},
     "output_type": "display_data"
    }
   ],
   "source": [
    "from optimize_2D import optimize\n",
    "\n",
    "Vlist, f_iter, err_iter = optimize(L, U, Vlist_start, perms_extended, reps=len(perms_v), niter=50)\n",
    "plt.plot(err_iter)\n",
    "plt.yscale('log')\n",
    "print(err_iter[-1])"
   ]
  },
  {
   "cell_type": "code",
   "execution_count": 30,
   "id": "8c39497a-8b63-4407-b70e-80dc927af6a1",
   "metadata": {},
   "outputs": [],
   "source": [
    "#with h5py.File(f\"./results/tfim2d_{J}{h}{g}_Lx{Lx}Ly{Ly}_t{t}_layers{len(Vlist_start)}_U_3hloc.hdf5\", \"w\") as f:\n",
    "    f.create_dataset(\"Vlist\", data=Vlist)\n",
    "    f.create_dataset(\"f_iter\", data=f_iter)\n",
    "    f.create_dataset(\"err_iter\", data=err_iter)\n",
    "    f.attrs[\"L\"] = L\n",
    "    f.attrs[\"t\"] = float(t)"
   ]
  },
  {
   "cell_type": "code",
   "execution_count": 12,
   "id": "59a6b1a4-02ad-4d82-8fee-746490282af4",
   "metadata": {},
   "outputs": [],
   "source": [
    "\"\"\"Vlist = []\n",
    "with h5py.File(f\"./results/tfim2d_{J}{h}{g}_Lx{Lx}Ly{Ly}_t{t}_layers{len(Vlist_start)}_U_3hloc.hdf5\", \"r\") as f:\n",
    "    Vlist =  f[\"Vlist\"][:]\"\"\"\n",
    "\n",
    "\n",
    "Vlist = []\n",
    "with h5py.File(\"./results/tfim2d_101_Lx3Ly3_t0.25_layers9_U_v3.hdf5\", \"r\") as f:\n",
    "    Vlist =  f[\"Vlist\"][:]"
   ]
  },
  {
   "cell_type": "code",
   "execution_count": 16,
   "id": "f72dfc4b-2149-4be3-ab7b-de8218adbb9b",
   "metadata": {},
   "outputs": [
    {
     "name": "stdout",
     "output_type": "stream",
     "text": [
      "Trotter error:  0.002888919335212491\n"
     ]
    }
   ],
   "source": [
    "from scipy.sparse.linalg import expm_multiply\n",
    "\n",
    "Lx, Ly = (3, 3)\n",
    "L = Lx*Ly\n",
    "t = 0.25\n",
    "latt = qib.lattice.IntegerLattice((Lx, Ly), pbc=True)\n",
    "field = qib.field.Field(qib.field.ParticleType.QUBIT, latt)\n",
    "J, h, g = (1, 0, 1)\n",
    "hamil = qib.IsingHamiltonian(field, J, h, g).as_matrix()\n",
    "eigenvalues, eigenvectors = scipy.sparse.linalg.eigsh(hamil, k=10)\n",
    "idx = eigenvalues.argsort()\n",
    "eigenvalues_sort = eigenvalues[idx]\n",
    "eigenvectors_sort = eigenvectors[:,idx]\n",
    "ground_state = eigenvectors_sort[:, 0]\n",
    "#U = scipy.linalg.expm(-1j*hamil*t)\n",
    "\n",
    "eta1, eta2 = (3, 3) # eta1 here refers to the Trotter terms within each v or h perms (different hlocs).\n",
    "                    # and eta2 refers to the Trotter terms in terms of v/h splitting (e.g. 3 for V-H-V splitting),\n",
    "                    # takes odd values.\n",
    "perms_v = [[0, 1, 3, 4, 6, 7], [1, 2, 4, 5, 7, 8], [2, 0, 5, 3, 8, 6]]\n",
    "perms_h = [[0, 3, 1, 4, 2, 5], [3, 6, 4, 7, 5, 8], [6, 0, 7, 1, 8, 2]]\n",
    "\n",
    "\n",
    "reps = len(perms_v) # How many times a V_i is repeated in terms of layers.\n",
    "perms = perms_v*eta1 + perms_h*eta1\n",
    "perms_extended = []\n",
    "for i in range(eta1*eta2*reps):\n",
    "    perms_extended.append(perms[i%len(perms)])\n",
    "#perms = perms_v + perms_h # 2 here refers to the Trotter terms within each v or h perms.\n",
    "#perms_extended = perms*3\n",
    "\n",
    "#print(\"Trotter error: \", (np.linalg.norm(ansatz_2D(Vlist, L, perms_extended, reps=reps) - U, ord=2) ))\n",
    "print(\"Trotter error: \", np.linalg.norm(ansatz_sparse(Vlist, L, perms_extended, ground_state, reps=reps) - expm_multiply(\n",
    "    -1j * t * hamil, ground_state), ord=2))"
   ]
  },
  {
   "cell_type": "code",
   "execution_count": 17,
   "id": "730fc6f5-815d-4bad-a752-7e1290f58472",
   "metadata": {},
   "outputs": [
    {
     "name": "stdout",
     "output_type": "stream",
     "text": [
      "Trotter error:  0.004602165906379773\n"
     ]
    }
   ],
   "source": [
    "from scipy.sparse.linalg import expm_multiply\n",
    "from qiskit.quantum_info import state_fidelity\n",
    "\n",
    "perms_v = [[0, 1, 4, 5, 8, 9, 12, 13, 2, 3, 6, 7, 10, 11, 14, 15], \n",
    "          [1, 2, 5, 6, 9, 10, 13, 14, 3, 0, 7, 4, 11, 8, 15, 12]]\n",
    "perms_h = [[0, 4, 1, 5, 2, 6, 3, 7, 8, 12, 9, 13, 10, 14, 11, 15], \n",
    "          [4, 8, 5, 9, 6, 10, 7, 11, 12, 0, 13, 1, 14, 2, 15, 3]]\n",
    "reps = len(perms_v) # How many times a V_i is repeated in terms of layers.\n",
    "eta1, eta2 = (3, 3)\n",
    "perms = perms_v*eta1 + perms_h*eta1\n",
    "perms_extended = []\n",
    "for i in range(eta1*eta2*reps):\n",
    "    perms_extended.append(perms[i%len(perms)])\n",
    "#perms = perms_v + perms_h # 2 here refers to the Trotter terms within each v or h perms.\n",
    "#perms_extended = perms*3\n",
    "\n",
    "Lx, Ly = (4, 4)\n",
    "latt = qib.lattice.IntegerLattice((Lx, Ly), pbc=True)\n",
    "field = qib.field.Field(qib.field.ParticleType.QUBIT, latt)\n",
    "J, h, g = (1, 0, 1)\n",
    "hamil = qib.IsingHamiltonian(field, J, h, g).as_matrix()\n",
    "eigenvalues, eigenvectors = scipy.sparse.linalg.eigsh(hamil, k=10)\n",
    "idx = eigenvalues.argsort()\n",
    "eigenvalues_sort = eigenvalues[idx]\n",
    "eigenvectors_sort = eigenvectors[:,idx]\n",
    "ground_state = eigenvectors_sort[:, 0]\n",
    "\n",
    "#print(\"Difference Norm: \", np.linalg.norm(ansatz_sparse(Vlist, L, perms, ground_state) - expm_multiply(\n",
    "#    -1j * t * hamil, ground_state), ord=2))\n",
    "print(\"Trotter error: \", np.linalg.norm(ansatz_sparse(Vlist, L, perms_extended, ground_state, reps=reps) - expm_multiply(\n",
    "    -1j * t * hamil, ground_state), ord=2))"
   ]
  },
  {
   "cell_type": "code",
   "execution_count": 4,
   "id": "cc9d9326-8eaa-47b8-bec3-e28b6d8f4825",
   "metadata": {},
   "outputs": [
    {
     "name": "stdout",
     "output_type": "stream",
     "text": [
      "Trotter error of the starting point:  0.4846627248389517\n"
     ]
    }
   ],
   "source": [
    "\"\"\"\n",
    "    Attempt for the controlled version:\n",
    "\"\"\"\n",
    "\n",
    "import numpy as np\n",
    "import qiskit\n",
    "from qiskit.quantum_info import state_fidelity\n",
    "from numpy import linalg as LA\n",
    "import qib\n",
    "import matplotlib.pyplot as plt\n",
    "import scipy\n",
    "import h5py\n",
    "\n",
    "import sys\n",
    "sys.path.append(\"../../src/brickwall_ansatz_2D\")\n",
    "#from optimize import optimize, dynamics_opt\n",
    "from utils_2D import construct_ising_local_term, reduce_list, X, I2\n",
    "from ansatz_2D import ansatz_2D, ansatz_sparse\n",
    "import rqcopt as oc\n",
    "\n",
    "Lx, Ly = (2, 2)\n",
    "L = Lx*Ly\n",
    "t = 0.25\n",
    "# construct Hamiltonian\n",
    "latt = qib.lattice.IntegerLattice((Lx, Ly), pbc=True)\n",
    "field = qib.field.Field(qib.field.ParticleType.QUBIT, latt)\n",
    "J, h, g = (1, 0, 1)\n",
    "hamil = qib.IsingHamiltonian(field, J, h, g).as_matrix().toarray()\n",
    "eigenvalues, eigenvectors = LA.eig(hamil)\n",
    "idx = eigenvalues.argsort()\n",
    "eigenvalues_sort = eigenvalues[idx]\n",
    "eigenvectors_sort = eigenvectors[:,idx]\n",
    "ground_state = eigenvectors_sort[:, 0]\n",
    "\n",
    "X = np.array([[0, 1], [1, 0]])\n",
    "Z = np.array([[1, 0], [0, -1]])\n",
    "Y = np.array([[0, -1j], [1j, 0]])\n",
    "I2 = np.array([[1, 0], [0, 1]])\n",
    "\n",
    "hloc1 = construct_ising_local_term(J, 0, 0, ndim=2)\n",
    "hloc2 = g*(np.kron(X, I2)+np.kron(I2, X))/4\n",
    "V1 = scipy.linalg.expm(-1j*t*hloc1/2)\n",
    "V2 = scipy.linalg.expm(-1j*t*hloc2)\n",
    "V3 = scipy.linalg.expm(-1j*t*hloc1/4)\n",
    "V4 = scipy.linalg.expm(-1j*t*hloc2/2)\n",
    "YZ = np.kron(Y, Z)\n",
    "Vlist_reduced = [V3, V4, V3, V1, V2, V1, V3, V4, V3]\n",
    "#perms_v = [[0, 1, 3, 4, 6, 7], [1, 2, 4, 5, 7, 8], [2, 0, 5, 3, 8, 6]]\n",
    "#perms_h = [[0, 3, 1, 4, 2, 5], [3, 6, 4, 7, 5, 8], [6, 0, 7, 1, 8, 2]]\n",
    "perms_v = [[0, 1, 2, 3]]\n",
    "perms_h = [[0, 2, 1, 3]]\n",
    "\n",
    "eta1, eta2 = (3, 3) # eta1 here refers to the Trotter terms within each v or h perms (different hlocs).\n",
    "                    # and eta2 refers to the Trotter terms in terms of v/h splitting (e.g. 3 for V-H-V splitting),\n",
    "                    # takes odd values.\n",
    "reps = len(perms_v) # How many times a V_i is repeated in terms of layers.\n",
    "perms = perms_v*eta1 + perms_h*eta1\n",
    "perms_ext_reduced = []\n",
    "for i in range(eta1*eta2*reps):\n",
    "    perms_ext_reduced.append(perms[i%len(perms)])\n",
    "\n",
    "Vlist_start = [YZ, V3, V4, V3, YZ, YZ, V1, V2, V1, YZ, YZ, V3, V4, V3, YZ]\n",
    "control_layers = [0, 4, 5, 9, 10, 14] # 6 control layers\n",
    "perms_extended = perms_v*5 + perms_h*5 + perms_v*5\n",
    "\n",
    "U = scipy.linalg.expm(-1j*hamil*t)\n",
    "U_back = scipy.linalg.expm(1j*hamil*t)\n",
    "print(\"Trotter error of the starting point: \", (np.linalg.norm(ansatz_2D(Vlist_start, L, perms_extended, reps=len(perms_v)) - U_back, ord=2) +\\\n",
    "                                                np.linalg.norm(ansatz_2D(Vlist_reduced, L, perms_ext_reduced, reps=len(perms_v)) - U, ord=2)\n",
    "                                               )/2)\n"
   ]
  },
  {
   "cell_type": "code",
   "execution_count": 7,
   "id": "03e6b5f0-d89c-48f7-aaf5-9c3f36bc0a42",
   "metadata": {
    "scrolled": true
   },
   "outputs": [
    {
     "name": "stdout",
     "output_type": "stream",
     "text": [
      "0.00044071464503896596\n"
     ]
    },
    {
     "data": {
      "image/png": "[encoded data removed]",
      "text/plain": [
       "<Figure size 640x480 with 1 Axes>"
      ]
     },
     "metadata": {},
     "output_type": "display_data"
    }
   ],
   "source": [
    "from optimize_2D import optimize\n",
    "\n",
    "Vlist, f_iter, err_iter = optimize(L, U, Vlist_start, perms_extended, perms_reduced=perms_ext_reduced, \n",
    "                                   reps=len(perms_v), control_layers=control_layers, niter=20)\n",
    "plt.plot(err_iter)\n",
    "plt.yscale('log')\n",
    "print(err_iter[-1])"
   ]
  },
  {
   "cell_type": "code",
   "execution_count": 9,
   "id": "95afd7e9-219f-4308-a7bb-76fd0fdc9efc",
   "metadata": {},
   "outputs": [
    {
     "name": "stdout",
     "output_type": "stream",
     "text": [
      "Trotter error of the starting point:  1.8930500316683925\n"
     ]
    }
   ],
   "source": [
    "Lx, Ly = (3, 3)\n",
    "L = Lx*Ly\n",
    "t = 0.25\n",
    "# construct Hamiltonian\n",
    "latt = qib.lattice.IntegerLattice((Lx, Ly), pbc=True)\n",
    "field = qib.field.Field(qib.field.ParticleType.QUBIT, latt)\n",
    "J, h, g = (1, 0, 1)\n",
    "hamil = qib.IsingHamiltonian(field, J, h, g).as_matrix().toarray()\n",
    "eigenvalues, eigenvectors = LA.eig(hamil)\n",
    "idx = eigenvalues.argsort()\n",
    "eigenvalues_sort = eigenvalues[idx]\n",
    "eigenvectors_sort = eigenvectors[:,idx]\n",
    "ground_state = eigenvectors_sort[:, 0]\n",
    "\n",
    "\n",
    "perms_v = [[0, 1, 3, 4, 6, 7], [1, 2, 4, 5, 7, 8], [2, 0, 5, 3, 8, 6]]\n",
    "perms_h = [[0, 3, 1, 4, 2, 5], [3, 6, 4, 7, 5, 8], [6, 0, 7, 1, 8, 2]]\n",
    "reps = len(perms_v) # How many times a V_i is repeated in terms of layers.\n",
    "perms = perms_v*eta1 + perms_h*eta1\n",
    "perms_ext_reduced = []\n",
    "for i in range(eta1*eta2*reps):\n",
    "    perms_ext_reduced.append(perms[i%len(perms)])\n",
    "control_layers = [0, 4, 5, 9, 10, 14] # 6 control layers\n",
    "perms_extended = perms_v*5 + perms_h*5 + perms_v*5\n",
    "\n",
    "\n",
    "Vlist_reduced = []\n",
    "for i, V in enumerate(Vlist):\n",
    "    if i not in control_layers:\n",
    "        Vlist_reduced.append(V)\n",
    "U = scipy.linalg.expm(-1j*hamil*t)\n",
    "U_back = scipy.linalg.expm(1j*hamil*t)\n",
    "print(\"Trotter error of the starting point: \", (np.linalg.norm(ansatz_2D(Vlist, L, perms_extended, reps=len(perms_v)) - U_back, ord=2) +\\\n",
    "                                                np.linalg.norm(ansatz_2D(Vlist_reduced, L, perms_ext_reduced, reps=len(perms_v)) - U, ord=2)\n",
    "                                               )/2)"
   ]
  },
  {
   "cell_type": "code",
   "execution_count": null,
   "id": "4105de00-3f82-465c-a691-f86bb5a4c10f",
   "metadata": {},
   "outputs": [],
   "source": [
    "\"\"\"\n",
    "    Conclusion: We need the optimization to run on 4x4 directly. 2x2 is a special case that's\n",
    "    not representative and 3x3 is not suitable for clear convergence as it doesnt have \n",
    "    anti commuting pauli string structure to be used as starting point.\n",
    "\"\"\""
   ]
  },
  {
   "cell_type": "code",
   "execution_count": null,
   "id": "3ca442cc-8021-445b-a0e0-cf92ac51905e",
   "metadata": {},
   "outputs": [],
   "source": []
  },
  {
   "cell_type": "code",
   "execution_count": null,
   "id": "ae96bbd0-d59c-4ee1-8e52-462f1f8c5790",
   "metadata": {},
   "outputs": [],
   "source": []
  },
  {
   "cell_type": "code",
   "execution_count": null,
   "id": "4a711a0f-bf40-41d8-8b8d-4c651937646c",
   "metadata": {},
   "outputs": [],
   "source": []
  },
  {
   "cell_type": "code",
   "execution_count": 14,
   "id": "83b046d4-5117-49c6-80d3-7f501983d3be",
   "metadata": {
    "scrolled": true
   },
   "outputs": [
    {
     "name": "stdout",
     "output_type": "stream",
     "text": [
      "0.003382348027478038\n"
     ]
    },
    {
     "data": {
      "text/plain": [
       "[<matplotlib.lines.Line2D at 0x15c7b89a0>]"
      ]
     },
     "execution_count": 14,
     "metadata": {},
     "output_type": "execute_result"
    },
    {
     "data": {
      "image/png": "[encoded data removed]",
      "text/plain": [
       "<Figure size 640x480 with 1 Axes>"
      ]
     },
     "metadata": {},
     "output_type": "display_data"
    }
   ],
   "source": [
    "from optimize_2D import optimize\n",
    "\n",
    "\n",
    "Vlist, f_iter, err_iter = optimize(L, U, Vlist_start, perms, niter=20)\n",
    "print(err_iter[-1])\n",
    "plt.plot(err_iter)"
   ]
  },
  {
   "cell_type": "code",
   "execution_count": null,
   "id": "1281cd7c-22f0-43eb-9ecc-4c937e7f59a7",
   "metadata": {},
   "outputs": [],
   "source": [
    "with h5py.File(f\"./results/tfim2d_{J}{h}{g}_Lx{Lx}Ly{Ly}_t{t}_layers{len(Vlist)}_U.hdf5\", \"w\") as f:\n",
    "    f.create_dataset(\"Vlist\", data=Vlist)\n",
    "    f.create_dataset(\"f_iter\", data=f_iter)\n",
    "    f.create_dataset(\"err_iter\", data=err_iter)\n",
    "    f.attrs[\"L\"] = L\n",
    "    f.attrs[\"t\"] = float(t)"
   ]
  },
  {
   "cell_type": "code",
   "execution_count": 2,
   "id": "5178d854-5824-430b-a683-36f205e0a5f1",
   "metadata": {},
   "outputs": [],
   "source": [
    "Vlist = []\n",
    "with h5py.File(f\"./results/tfim2d_{J}{h}{g}_Lx{Lx}Ly{Ly}_t{t}_layers{len(Vlist_start)}_Uonly.hdf5\", \"r\") as f:\n",
    "    Vlist =  f[\"Vlist\"][:]"
   ]
  },
  {
   "cell_type": "code",
   "execution_count": 3,
   "id": "1f7c92e6-ab3e-48b8-849a-8a5031d14922",
   "metadata": {
    "scrolled": true
   },
   "outputs": [
    {
     "name": "stdout",
     "output_type": "stream",
     "text": [
      "Trotter error:  0.003382348027478038\n"
     ]
    }
   ],
   "source": [
    "perms = [[0, 1, 3, 4, 6, 7], [1, 2, 4, 5, 7, 8] , [2, 0, 5, 3, 8, 6], \n",
    "              [0, 3, 1, 4, 2, 5], [3, 6, 4, 7, 5, 8], [6, 0, 7, 1, 8, 2]\n",
    "             ]\n",
    "Lx, Ly = (3, 3)\n",
    "L = Lx*Ly\n",
    "# construct Hamiltonian\n",
    "latt = qib.lattice.IntegerLattice((Lx, Ly), pbc=True)\n",
    "field = qib.field.Field(qib.field.ParticleType.QUBIT, latt)\n",
    "J, h, g = (1, 0, 1)\n",
    "hamil = qib.IsingHamiltonian(field, J, h, g).as_matrix().toarray()\n",
    "U = scipy.linalg.expm(-1j*hamil*t)\n",
    "\n",
    "print(\"Trotter error: \", (np.linalg.norm(ansatz_2D(Vlist, L, perms) - U, ord=2) ))"
   ]
  },
  {
   "cell_type": "code",
   "execution_count": 4,
   "id": "9c72551a-6416-4065-bca8-5a2b09ec9667",
   "metadata": {},
   "outputs": [
    {
     "name": "stdout",
     "output_type": "stream",
     "text": [
      "Difference Norm:  0.004377929527117532\n"
     ]
    }
   ],
   "source": [
    "from scipy.sparse.linalg import expm_multiply\n",
    "from qiskit.quantum_info import state_fidelity\n",
    "\n",
    "perms = [ [0, 1, 4, 5, 8, 9, 12, 13, 2, 3, 6, 7, 10, 11, 14, 15], \n",
    "          [1, 2, 5, 6, 9, 10, 13, 14, 3, 0, 7, 4, 11, 8, 15, 12],\n",
    "          [0, 4, 1, 5, 2, 6, 3, 7, 8, 12, 9, 13, 10, 14, 11, 15], \n",
    "          [4, 8, 5, 9, 6, 10, 7, 11, 12, 0, 13, 1, 14, 2, 15, 3]]\n",
    "\n",
    "Lx, Ly = (4, 4)\n",
    "L = Lx*Ly\n",
    "# construct Hamiltonian\n",
    "latt = qib.lattice.IntegerLattice((Lx, Ly), pbc=True)\n",
    "field = qib.field.Field(qib.field.ParticleType.QUBIT, latt)\n",
    "J, h, g = (1, 0, 1)\n",
    "hamil = qib.IsingHamiltonian(field, J, h, g).as_matrix()\n",
    "eigenvalues, eigenvectors = scipy.sparse.linalg.eigsh(hamil, k=10)\n",
    "idx = eigenvalues.argsort()\n",
    "eigenvalues_sort = eigenvalues[idx]\n",
    "eigenvectors_sort = eigenvectors[:,idx]\n",
    "ground_state = eigenvectors_sort[:, 0]\n",
    "\n",
    "print(\"Difference Norm: \", np.linalg.norm(ansatz_sparse(Vlist, L, perms, ground_state) - expm_multiply(\n",
    "    -1j * t * hamil, ground_state), ord=2))"
   ]
  },
  {
   "cell_type": "code",
   "execution_count": null,
   "id": "7cabef25-3fed-4eef-867e-8f579bc3d466",
   "metadata": {},
   "outputs": [],
   "source": []
  },
  {
   "cell_type": "code",
   "execution_count": null,
   "id": "3d9ab5f7-6a44-4ffd-9286-ec7d19145ace",
   "metadata": {},
   "outputs": [],
   "source": []
  },
  {
   "cell_type": "code",
   "execution_count": null,
   "id": "bd171850-fb27-4517-811d-264c1b95b74b",
   "metadata": {},
   "outputs": [],
   "source": []
  },
  {
   "cell_type": "code",
   "execution_count": null,
   "id": "77717b96-a076-436b-8866-43b2db1885e3",
   "metadata": {
    "scrolled": true
   },
   "outputs": [],
   "source": []
  },
  {
   "cell_type": "code",
   "execution_count": null,
   "id": "444c7751-706f-4e39-840e-5a32e565dfc7",
   "metadata": {},
   "outputs": [],
   "source": []
  },
  {
   "cell_type": "code",
   "execution_count": null,
   "id": "62c4e144-3e29-4764-ae8c-836d04065da8",
   "metadata": {},
   "outputs": [],
   "source": []
  },
  {
   "cell_type": "code",
   "execution_count": null,
   "id": "ce38a522-9ca9-4564-9b1f-58f46fdde2cd",
   "metadata": {},
   "outputs": [],
   "source": []
  },
  {
   "cell_type": "code",
   "execution_count": null,
   "id": "b613945b-c117-4937-83a9-2c0ab759e158",
   "metadata": {},
   "outputs": [],
   "source": []
  },
  {
   "cell_type": "code",
   "execution_count": null,
   "id": "a7f0557e-118f-47b2-8013-031afd83752a",
   "metadata": {},
   "outputs": [],
   "source": []
  },
  {
   "cell_type": "code",
   "execution_count": null,
   "id": "51550200-61df-464c-b6eb-27a842e29d52",
   "metadata": {},
   "outputs": [],
   "source": []
  },
  {
   "cell_type": "code",
   "execution_count": null,
   "id": "5fe790de-570d-4fc8-91b9-5cfea99444a3",
   "metadata": {},
   "outputs": [],
   "source": [
    "t = .25\n",
    "hloc1 = construct_ising_local_term(J, 0, 0, ndim=2)\n",
    "hloc2 = np.kron(X, I2)+np.kron(I2, X)\n",
    "Vlist_start = []\n",
    "perms = []\n",
    "Vlist_start += [scipy.linalg.expm(-1j*t*hloc2/4)]\n",
    "perms += [[i for i in range(L)]]\n",
    "eta_indices = [0, 1, 2, 3]\n",
    "eta_coeffs =  [.5, .5, .5, .5]\n",
    "for i, c1 in zip(eta_indices, eta_coeffs):\n",
    "    Vlist_start += [scipy.linalg.expm(-1j*t*hloc1*c1/2)]\n",
    "    perms.append(perms_base[i])\n",
    "Vlist_start += [scipy.linalg.expm(-1j*t*hloc2/2)]\n",
    "perms += [[i for i in range(L)]]\n",
    "eta_indices = [3, 2, 1, 0]\n",
    "eta_coeffs =  [.5, .5, .5, .5]\n",
    "for i, c1 in zip(eta_indices, eta_coeffs):\n",
    "    Vlist_start += [scipy.linalg.expm(-1j*t*hloc1*c1/2)]\n",
    "    perms.append(perms_base[i])\n",
    "Vlist_start += [scipy.linalg.expm(-1j*t*hloc2/4)]\n",
    "perms += [[i for i in range(L)]]"
   ]
  },
  {
   "cell_type": "code",
   "execution_count": 2,
   "id": "167ff782-660d-4a1f-8ace-24b4cc88705a",
   "metadata": {},
   "outputs": [
    {
     "name": "stdout",
     "output_type": "stream",
     "text": [
      "Difference (Frobenius norm): 5.1379261126779365e-09\n"
     ]
    }
   ],
   "source": [
    "import numpy as np\n",
    "from ansatz_2D import ansatz_2D_grad_vector\n",
    "from utils_2D import antisymm_to_real, antisymm, partial_trace_keep\n",
    "from optimize_2D import err as f\n",
    "\n",
    "\n",
    "\n",
    "def grad_numerical(Glist, U, perms, reps=1, epsilon=1e-6, flatten=True, unprojected=False):\n",
    "    grads = []\n",
    "    for _ in range(len(Glist)):\n",
    "        W = Glist[_]\n",
    "        d = Glist[_].shape[0]\n",
    "        grad_complex = np.zeros((d, d), dtype=complex)\n",
    "\n",
    "        for i in range(d):\n",
    "            for j in range(d):\n",
    "                # Real perturbation\n",
    "                dW_real = np.zeros_like(W, dtype=complex)\n",
    "                dW_real[i, j] = epsilon\n",
    "\n",
    "                Glist_plus_real  = Glist[:_] + [W + dW_real] + Glist[_+1:]\n",
    "                Glist_minus_real = Glist[:_] + [W - dW_real] + Glist[_+1:]\n",
    "                \n",
    "                f_plus  = f(Glist_plus_real, U, L, perms, reps=reps)\n",
    "                f_minus = f(Glist_minus_real, U, L, perms, reps=reps)\n",
    "                df_real = (f_plus - f_minus) / (2 * epsilon)\n",
    "\n",
    "                # Imaginary perturbation\n",
    "                dW_imag = np.zeros_like(W, dtype=complex)\n",
    "                dW_imag[i, j] = 1j * epsilon\n",
    "\n",
    "                Glist_plus_imag  = Glist[:_] + [W + dW_imag] + Glist[_+1:]\n",
    "                Glist_minus_imag = Glist[:_] + [W - dW_imag] + Glist[_+1:]\n",
    "                \n",
    "                f_plus  = f(Glist_plus_imag, U, L, perms, reps=reps)\n",
    "                f_minus = f(Glist_minus_imag, U, L, perms, reps=reps)\n",
    "                df_imag = (f_plus - f_minus) / (2 * epsilon)\n",
    "    \n",
    "                grad_complex[i, j] = df_real + 1j * df_imag\n",
    "        grads.append(grad_complex)\n",
    "\n",
    "    if unprojected:\n",
    "        return grads\n",
    "    \n",
    "    stack = np.stack([ antisymm_to_real(antisymm(W.conj().T @ grads[j])) for j, W in enumerate(Glist)])\n",
    "    if flatten:\n",
    "        return stack.reshape(-1)\n",
    "    return stack\n",
    "\n",
    "# Random unitary generator\n",
    "def random_unitary(n):\n",
    "    A = np.random.randn(n, n) + 1j * np.random.randn(n, n)\n",
    "    Q, _ = np.linalg.qr(A)\n",
    "    return Q\n",
    "Glist = [random_unitary(4) for i in range(3)]*2\n",
    "\n",
    "# Compute gradients\n",
    "grad_a = -ansatz_2D_grad_vector(Glist, L, U, perms_extended, reps=len(perms_v))\n",
    "grad_n = grad_numerical(Glist, U, perms_extended, reps=len(perms_v))\n",
    "\n",
    "# Compare\n",
    "error = np.linalg.norm(grad_a - grad_n)\n",
    "print(\"Difference (Frobenius norm):\", error)"
   ]
  },
  {
   "cell_type": "code",
   "execution_count": 4,
   "id": "d17d9c88-d7e3-4d3a-80d7-d5eb7987a789",
   "metadata": {},
   "outputs": [
    {
     "name": "stdout",
     "output_type": "stream",
     "text": [
      "Difference norm: 2.0334895158312727e-08\n"
     ]
    }
   ],
   "source": [
    "# Numerical Test function for: d/G_j d/dG_i f(G)\n",
    "import sys\n",
    "from hessian_2D import ansatz_2D_hessian_matrix\n",
    "from utils_2D import real_to_antisymm, project_unitary_tangent\n",
    "\n",
    "\n",
    "def numerical_hessian(Glist, U, L, perms, i, j, reps=1, epsilon=1e-6):\n",
    "    \"\"\"Numerically compute d/dW1 of projected gradient dL/dV1 (Riemannian).\"\"\"\n",
    "    numerical_H = []\n",
    "\n",
    "    for _ in range(16):\n",
    "        Z_real = np.zeros(16)\n",
    "        Z_real[_] = 1.0\n",
    "        Z = real_to_antisymm(Z_real.reshape(4, 4))  # 4x4 anti-Hermitian direction\n",
    "\n",
    "        Gj_plus  = Glist[j] @ scipy.linalg.expm(+epsilon*Z)\n",
    "        Gj_minus = Glist[j] @ scipy.linalg.expm(-epsilon*Z)\n",
    "    \n",
    "        if i==j:\n",
    "            grad_plus  = ansatz_2D_grad_vector(Glist[:j]+[Gj_plus]+Glist[j+1:], L, U, perms, unprojected=True, flatten=False, reps=len(perms_v))[i]\n",
    "            grad_minus = ansatz_2D_grad_vector(Glist[:j]+[Gj_minus]+Glist[j+1:], L, U, perms, unprojected=True, flatten=False, reps=len(perms_v))[i]\n",
    "            dgrad = (grad_plus - grad_minus) / (2 * epsilon)  # shape (16,)\n",
    "            G = dgrad.reshape(4, 4)\n",
    "\n",
    "            V = Glist[j]\n",
    "            Z = V @ Z\n",
    "            G = project_unitary_tangent(V, G)\n",
    "            grad = ansatz_2D_grad_vector(Glist, L, U, perms, flatten=False, unprojected=True, reps=len(perms_v))[i]\n",
    "            G -= 0.5 * (Z @ grad.conj().T @ V + V @ grad.conj().T @ Z)\n",
    "            if not np.allclose(Z, project_unitary_tangent(V, Z)):\n",
    "                G -= 0.5 * (Z @ V.conj().T + V @ Z.conj().T) @ grad\n",
    "            G = antisymm_to_real(antisymm( V.conj().T @ G ))\n",
    "        else:\n",
    "            grad_plus  = ansatz_2D_grad_vector(Glist[:j]+[Gj_plus]+Glist[j+1:], L, U, perms, unprojected=False, flatten=False, reps=len(perms_v))[i]\n",
    "            grad_minus = ansatz_2D_grad_vector(Glist[:j]+[Gj_minus]+Glist[j+1:], L, U, perms, unprojected=False, flatten=False, reps=len(perms_v))[i]\n",
    "            dgrad = (grad_plus - grad_minus) / (2 * epsilon)  # shape (16,)\n",
    "            G = dgrad.reshape(4, 4)\n",
    "            \n",
    "        numerical_H.append(G)\n",
    "    \n",
    "    return np.array(numerical_H)  # shape: (16, 4, 4)\n",
    "\n",
    "\n",
    "# Random unitary generator\n",
    "def random_unitary(n):\n",
    "    A = np.random.randn(n, n) + 1j * np.random.randn(n, n)\n",
    "    Q, _ = np.linalg.qr(A)\n",
    "    return Q\n",
    "\n",
    "i, j = 0, 3\n",
    "#Glist = [random_unitary(4) for i in range(6)]\n",
    "#H = ansatz_2D_hessian_matrix(Glist, L, U, perms_extended, reps=len(perms_v), unprojected=False, flatten=False)\n",
    "grad = []\n",
    "for _ in range(16):\n",
    "    grad.append(H[i, :, j, _].reshape(4,4))\n",
    "analytical = np.array(grad)\n",
    "numerical = numerical_hessian(Glist, U, L, perms_extended, i, j, reps=len(perms_v))\n",
    "\n",
    "print(\"Difference norm:\", np.linalg.norm(numerical - analytical))\n"
   ]
  },
  {
   "cell_type": "code",
   "execution_count": null,
   "id": "0614225b-c4af-4950-ab83-992656288127",
   "metadata": {},
   "outputs": [],
   "source": []
  },
  {
   "cell_type": "code",
   "execution_count": null,
   "id": "fbbe19a4-8bea-4234-852a-525506d3d546",
   "metadata": {},
   "outputs": [],
   "source": [
    "t = .25\n",
    "hloc1 = construct_ising_local_term(J, 0, 0, ndim=2)/2\n",
    "hloc2 = np.kron(X, I2)+np.kron(I2, X)\n",
    "Vlist_start = []\n",
    "perms = []\n",
    "Vlist_start += [scipy.linalg.expm(-1j*t*hloc2/4)]\n",
    "perms += [[i for i in range(L)]]\n",
    "eta_indices = [0, 1, 2, 3]\n",
    "eta_coeffs =  [.5, .5, .5, .5]\n",
    "for i, c1 in zip(eta_indices, eta_coeffs):\n",
    "    Vlist_start += [scipy.linalg.expm(-1j*t*hloc1*c1)]\n",
    "    perms.append(perms_base[i])\n",
    "Vlist_start += [scipy.linalg.expm(-1j*t*hloc2/2)]\n",
    "perms += [[i for i in range(L)]]\n",
    "eta_indices = [3, 2, 1, 0]\n",
    "eta_coeffs =  [.5, .5, .5, .5]\n",
    "for i, c1 in zip(eta_indices, eta_coeffs):\n",
    "    Vlist_start += [scipy.linalg.expm(-1j*t*hloc1*c1)]\n",
    "    perms.append(perms_base[i])\n",
    "Vlist_start += [scipy.linalg.expm(-1j*t*hloc2/4)]\n",
    "perms += [[i for i in range(L)]]"
   ]
  },
  {
   "cell_type": "code",
   "execution_count": null,
   "id": "124b4538-a94d-4ddf-ae6f-3ac02c775dc8",
   "metadata": {},
   "outputs": [],
   "source": [
    "perms = [[i for i in range(L)]]+[[0, 1, 2, 3, 4, 5, 6, 7, 8, 9, 10, 11, 12, 13, 14, 15], \n",
    "                                 [1, 2, 3, 0,  5, 6, 7, 4, 9, 10, 11, 8, 13, 14, 15, 12], \n",
    "                                 [0, 4, 1, 5, 2, 6, 3, 7, 8, 12, 9, 13, 10, 14, 11, 15], \n",
    "                                 [4, 8, 12, 0, 5, 9, 13, 1, 6, 10, 14, 2, 7, 11, 15, 3]] + [[i for i in range(L)]]+[\n",
    "                                 [4, 8, 12, 0, 5, 9, 13, 1, 6, 10, 14, 2, 7, 11, 15, 3],\n",
    "                                 [0, 4, 1, 5, 2, 6, 3, 7, 8, 12, 9, 13, 10, 14, 11, 15], \n",
    "                                 [1, 2, 3, 0,  5, 6, 7, 4, 9, 10, 11, 8, 13, 14, 15, 12],\n",
    "                                 [0, 1, 2, 3, 4, 5, 6, 7, 8, 9, 10, 11, 12, 13, 14, 15]] + [[i for i in range(L)]]\n",
    "#perms = []\n",
    "#for i, c1 in zip(eta_indices, eta_coeffs):\n",
    "#    perms.append(perms_base[i])\n",
    "\n",
    "np.linalg.norm(ansatz_sparse(Vlist, L, perms, ground_state) - expm_multiply(-1j * t * hamil, ground_state), ord=2)"
   ]
  }
 ],
 "metadata": {
  "kernelspec": {
   "display_name": "Python3.10 (qc)",
   "language": "python",
   "name": "qc"
  },
  "language_info": {
   "codemirror_mode": {
    "name": "ipython",
    "version": 3
   },
   "file_extension": ".py",
   "mimetype": "text/x-python",
   "name": "python",
   "nbconvert_exporter": "python",
   "pygments_lexer": "ipython3",
   "version": "3.10.13"
  }
 },
 "nbformat": 4,
 "nbformat_minor": 5
}
