{
 "cells": [
  {
   "cell_type": "code",
   "execution_count": 1,
   "id": "b512702f-814b-44f3-8201-21e5cba33a19",
   "metadata": {},
   "outputs": [
    {
     "name": "stdout",
     "output_type": "stream",
     "text": [
      "GSE -51.44812913320615\n"
     ]
    }
   ],
   "source": [
    "import numpy as np\n",
    "import qiskit\n",
    "from numpy import linalg as LA\n",
    "import matplotlib.pyplot as plt\n",
    "import scipy\n",
    "import qib\n",
    "import h5py\n",
    "import sys\n",
    "import rqcopt as oc\n",
    "from scipy.sparse.linalg import expm_multiply\n",
    "\n",
    "\n",
    "Lx, Ly = (4, 4)\n",
    "L = Lx*Ly\n",
    "t = .25\n",
    "latt = qib.lattice.IntegerLattice((Lx, Ly), pbc=True)\n",
    "field = qib.field.Field(qib.field.ParticleType.QUBIT, latt)\n",
    "J, h, g = (1, 0, 3)\n",
    "hamil = qib.IsingHamiltonian(field, J, h, g).as_matrix()\n",
    "eigenvalues, eigenvectors = scipy.sparse.linalg.eigsh(hamil, k=10)\n",
    "idx = eigenvalues.argsort()\n",
    "eigenvalues_sort = eigenvalues[idx]\n",
    "eigenvectors_sort = eigenvectors[:,idx]\n",
    "ground_state = eigenvectors_sort[:, 0]\n",
    "\n",
    "X = np.array([[0, 1], [1, 0]])\n",
    "Z = np.array([[1, 0], [0, -1]])\n",
    "Y = np.array([[0, -1j], [1j, 0]])\n",
    "I2 = np.array([[1, 0], [0, 1]])\n",
    "\n",
    "\n",
    "control_layers = [0, 4, 5, 9, 10, 14] # 6 control layers\n",
    "perms_v, perms_h = ([[0, 4, 1, 5, 2, 6, 3, 7, 8, 12, 9, 13, 10, 14, 11, 15],\n",
    "  [4, 8, 5, 9, 6, 10, 7, 11, 12, 0, 13, 1, 14, 2, 15, 3]],\n",
    " [[0, 1, 4, 5, 8, 9, 12, 13, 2, 3, 6, 7, 10, 11, 14, 15],\n",
    "  [1, 2, 5, 6, 9, 10, 13, 14, 3, 0, 7, 4, 11, 8, 15, 12]])\n",
    "perms_extended = [[perms_v[0]]] + [perms_v]*3 + [[perms_v[0]], [perms_h[0]]] +\\\n",
    "                    [perms_h]*3 + [[perms_h[0]], [perms_v[0]]] + [perms_v]*3 + [[perms_v[0]]]\n",
    "perms_ext_reduced = [perms_v]*3  + [perms_h]*3 + [perms_v]*3\n",
    "\n",
    "print(\"GSE\", eigenvalues_sort[0])"
   ]
  },
  {
   "cell_type": "code",
   "execution_count": 17,
   "id": "1493bfa2-baad-4a89-8629-a38f46336e41",
   "metadata": {},
   "outputs": [],
   "source": [
    "\"\"\"\n",
    "    Compressed-Controlled Time Evolution Operator that we optimized previously.\n",
    "\"\"\"\n",
    "import h5py\n",
    "\n",
    "#perms_qc = [[0, 1], [0, 2], [1, 2], [0, 2], [0, 1], [1, 2], [0, 2], [0, 1], [1, 2]]\n",
    "perms_qc = [[0, 1], [0, 2], [1, 2]]\n",
    "Xlists_opts = {}\n",
    "Vlists = {}\n",
    "qc_cUs = {}\n",
    "ts = [0.2, 0.21, 0.22, 0.23, 0.25]\n",
    "for t in [0.25]:\n",
    "    Vlist = []\n",
    "    #with h5py.File(f\"./results/tfim2d_ccU_SPARSE_103_Lx4Ly4_t{t}_layers15_rS1_niter15_3hloc.hdf5\", \"r\") as f:\n",
    "    #    Vlist =  f[\"Vlist\"][:]\n",
    "    with h5py.File(f\"./results/tfim2d_ccU_SPARSE_103_Lx4Ly4_t{t}_layers10_niter5_rS1_2hloc.hdf5\", \"r\") as f:\n",
    "        Vlist =  f[\"Vlist\"][:]\n",
    "        perms_extended = [[perms_v[0]]] + [perms_v]*3 + [[perms_v[0]], [perms_h[0]]] +\\\n",
    "                                [perms_h]*3 + [[perms_h[0]]]\n",
    "        perms_ext_reduced = [perms_v]*3  + [perms_h]*3\n",
    "        control_layers = [0, 4, 5, 9]\n",
    "    \n",
    "    Xlists_opt = {}\n",
    "    if t==0.25:\n",
    "        for i in control_layers:\n",
    "            with h5py.File(f\"./results/tfim2d_ccU_SPARSE_{J}{h}{g}_Lx{Lx}Ly{Ly}_t{t}_layers{len(Vlist)}_niter15_rS1_DECOMPOSE_n{len(perms_qc)}_layer{i}.hdf5\", \"r\") as file:\n",
    "                Xlists_opt[i] = file[f\"Xlist_{i}\"][:]\n",
    "    else:\n",
    "        for i in control_layers:\n",
    "            with h5py.File(f\"./results/tfim2d_ccU_SPARSE_{J}{h}{g}_Lx{Lx}Ly{Ly}_t{t}_layers15_niter15_rS1_DECOMPOSE_n{len(perms_qc)}_layer{i}.hdf5\", \"r\") as file:\n",
    "                Xlists_opt[i] = file[f\"Xlist_{i}\"][:]\n",
    "        \n",
    "\n",
    "    Xlists_opts[t] = Xlists_opt\n",
    "    Vlists[t] = Vlist"
   ]
  },
  {
   "cell_type": "code",
   "execution_count": 18,
   "id": "5b6fbdce-2a1c-4fb6-9cdc-7841aee1fe53",
   "metadata": {},
   "outputs": [],
   "source": [
    "import random\n",
    "from pytket import Circuit, Qubit\n",
    "from pytket.pauli import Pauli\n",
    "from pytket.circuit import Circuit, Unitary1qBox, Unitary2qBox\n",
    "\n",
    "\n",
    "def construct_ccU(L, Vs, Xlists_opt, perms, perms_qc, control_layers):\n",
    "    qc = Circuit(L+1)\n",
    "    qc.X(0)\n",
    "    for i, V in enumerate(Vs):\n",
    "        layer = i\n",
    "        if i in control_layers:\n",
    "            for perm in perms[layer]:\n",
    "                for j in range(L//2):\n",
    "                    mapp = {0: 0, 1: perm[2*j]+1, 2:perm[2*j+1]+1}\n",
    "                    for g, G in enumerate(Xlists_opt[i]):\n",
    "                        qc.add_unitary2qbox(Unitary2qBox(G), mapp[perms_qc[g][0]], mapp[perms_qc[g][1]])\n",
    "        else:\n",
    "            for perm in perms[layer]:\n",
    "                for j in range(L//2):\n",
    "                    qc.add_unitary2qbox(Unitary2qBox(V), perm[2*j]+1, perm[2*j+1]+1)\n",
    "                    \n",
    "    qc.X(0)\n",
    "    return qc\n",
    "\n",
    "qc_cU = construct_ccU(L, Vlists[0.25], Xlists_opts[0.25], perms_extended, perms_qc, control_layers)"
   ]
  },
  {
   "cell_type": "code",
   "execution_count": 69,
   "id": "374c78e8-7444-45ed-b3fb-cd4a418fac74",
   "metadata": {},
   "outputs": [],
   "source": [
    "\"\"\"from pytket.extensions.qiskit import qiskit_to_tk\n",
    "\n",
    "def construct_ccU(L, decomposed_Vs, perms, perms_qc, control_layers):\n",
    "    qc = Circuit(L+1)\n",
    "    qc.X(0)\n",
    "    for i, V in enumerate(decomposed_Vs):\n",
    "        layer = i\n",
    "        if i in control_layers:\n",
    "            for perm in perms[layer]:\n",
    "                for j in range(L//2):\n",
    "                    circ_C = qiskit_to_tk(decomposed_Vs[i])\n",
    "                    circ_C.rename_units({       Qubit(2): Qubit(0),\n",
    "                                                Qubit(1): Qubit(perm[2*j]+1),\n",
    "                                                Qubit(0): Qubit(perm[2*j+1]+1)\n",
    "                                               })\n",
    "                    qc.append(circ_C)\n",
    "        else:\n",
    "            for perm in perms[layer]:\n",
    "                for j in range(L//2):\n",
    "                    circ = qiskit_to_tk(decomposed_Vs[i])\n",
    "                    circ.rename_units({Qubit(1): Qubit(perm[2*j]+1),\n",
    "                                       Qubit(0): Qubit(perm[2*j+1]+1)})\n",
    "                    qc.append(circ)\n",
    "    qc.X(0)\n",
    "    return qc\n",
    "\n",
    "qc_cU = construct_ccU(L, decomposed_Vs, perms_extended, perms_qc, control_layers)\"\"\""
   ]
  },
  {
   "cell_type": "code",
   "execution_count": 19,
   "id": "69f6a95c-a8bb-44b9-9159-29c6a8de178d",
   "metadata": {},
   "outputs": [
    {
     "name": "stdout",
     "output_type": "stream",
     "text": [
      "t=0.25 Trotter fid:  0.9833953517295392\n"
     ]
    }
   ],
   "source": [
    "from scipy.sparse.linalg import expm_multiply\n",
    "from scipy import sparse as sp\n",
    "from pytket.extensions.qiskit import IBMQBackend, AerStateBackend\n",
    "\n",
    "backend = AerStateBackend()\n",
    "for t_ in [.25]:\n",
    "    qc_rand = random_state_prep_circuit(L, 5)\n",
    "    c = backend.get_compiled_circuit(qc_rand)\n",
    "    handle = backend.process_circuit(c)\n",
    "    state = backend.get_result(handle).get_state()\n",
    "    qc_rand.rename_units({Qubit(i): Qubit(i + 1) for i in range(L)})\n",
    "    \n",
    "    qc_ext1 = Circuit(L+1)\n",
    "    qc_ext1.append(qc_rand)\n",
    "    for i in range(int(t_//0.25)):\n",
    "        qc_ext1.append(qc_cU)\n",
    "    c = backend.get_compiled_circuit(qc_ext1)\n",
    "    handle = backend.process_circuit(c)\n",
    "    sv1 = backend.get_result(handle).get_state()\n",
    "\n",
    "    qc_ext2 = Circuit(L+1)\n",
    "    qc_ext2.X(0)\n",
    "    qc_ext2.append(qc_rand)\n",
    "    for i in range(int(t_//0.25)):\n",
    "        qc_ext2.append(qc_cU)\n",
    "    c = backend.get_compiled_circuit(qc_ext2)\n",
    "    handle = backend.process_circuit(c)\n",
    "    sv2 = backend.get_result(handle).get_state()\n",
    "    \n",
    "    ket_0 = np.array([1, 0])\n",
    "    ket_1 = np.array([0, 1])\n",
    "    exact_v1 = np.kron(ket_0, expm_multiply(1j * t_ * hamil, state))\n",
    "    exact_v2 = np.kron(ket_1, expm_multiply(-1j * t_ * hamil, state))\n",
    "    fid = (np.linalg.norm(np.vdot(sv1, exact_v1)) + np.linalg.norm(np.vdot(sv2, exact_v2)))/2\n",
    "    \n",
    "    print(f\"t={t_}\", \"Trotter fid: \", fid)"
   ]
  },
  {
   "cell_type": "code",
   "execution_count": 20,
   "id": "83f3c170-5543-422a-8d9b-b98a07e46261",
   "metadata": {},
   "outputs": [],
   "source": [
    "\"\"\"\n",
    "    Adiabatic Evolution Implementation.\n",
    "\"\"\"\n",
    "\n",
    "backend = AerStateBackend()\n",
    "def trotter(Lx, Ly, tau, L, J_i, h_i, g_i, J_f, h_f, g_f, lamb):\n",
    "    L = Lx * Ly\n",
    "    assert lamb <= 1 and lamb >= 0\n",
    "    J = lamb*J_f + (1-lamb)*J_i\n",
    "    g = lamb*g_f + (1-lamb)*g_i\n",
    "    h = lamb*h_f + (1-lamb)*h_i\n",
    "\n",
    "    qc = Circuit(L)\n",
    "    hloc = construct_ising_local_term_(J, g, 2)\n",
    "    perms_vercs = []\n",
    "    for i in range(Ly):\n",
    "        start_ind = Lx*i\n",
    "        perms_verc = []\n",
    "        for j in range(start_ind, start_ind+Lx):\n",
    "            perms_verc += [j, (j+Lx)%L]\n",
    "        perms_vercs.append(perms_verc)\n",
    "    if Ly == 4:\n",
    "        perms_vercs = [perms_vercs[0]+perms_vercs[2], perms_vercs[1]+perms_vercs[3]]\n",
    "    # Horizontals\n",
    "    perms_horzs = []\n",
    "    for i in range(Lx):\n",
    "        start_ind = i\n",
    "        perms_horz = []\n",
    "        for j in range(start_ind, L, Lx):\n",
    "            if start_ind != Lx-1:\n",
    "                perms_horz += [j, j+1]\n",
    "            else:\n",
    "                perms_horz += [j, j+1-Lx]\n",
    "        perms_horzs.append(perms_horz)\n",
    "    if Lx == 4:\n",
    "        perms_horzs = [perms_horzs[0]+perms_horzs[2], perms_horzs[1]+perms_horzs[3]]\n",
    "    perm_set = perms_vercs + perms_horzs\n",
    "    perms = perm_set\n",
    "    \n",
    "    method_start = oc.SplittingMethod.suzuki(len(perm_set), 1)\n",
    "    indices = method_start.indices\n",
    "    coeffs = method_start.coeffs\n",
    "\n",
    "    Vlist_start = []\n",
    "    perms = []\n",
    "    for i, c in zip(indices, coeffs):\n",
    "        Vlist_start.append(scipy.linalg.expm(-1j*c*tau*hloc))\n",
    "        perms.append(perm_set[i])\n",
    "\n",
    "    for layer, V in enumerate(Vlist_start):     \n",
    "        for j in range(len(perms[layer])//2):\n",
    "            qc.add_unitary2qbox(Unitary2qBox(V), perms[layer][2*j], perms[layer][2*j+1])\n",
    "    return qc\n",
    "\n",
    "\n",
    "def construct_ising_local_term_(J, g, ndim, h=0):\n",
    "    X = np.array([[0.,  1.], [1.,  0.]])\n",
    "    Z = np.array([[1.,  0.], [0., -1.]])\n",
    "    I = np.identity(2)\n",
    "    return J*np.kron(Z, Z) + g*(0.5/ndim)*(np.kron(X, I) + np.kron(I, X)) + h*(0.5/ndim)*(np.kron(Z, I) + np.kron(I, Z))\n",
    "\n",
    "\n",
    "def run_adiabatic(Lx, Ly, g, T, S, init_circ, h_i=0, h_f=0):\n",
    "    L = Lx*Ly\n",
    "    tau = 1/S\n",
    "    t_s = np.linspace(0, T, S*T)\n",
    "    sch = lambda t, T: np.sin(np.pi*t/(2*T))**2\n",
    "    \n",
    "    qc = init_circ.copy()\n",
    "    for s in range(S*T):\n",
    "        qc.append(trotter(Lx, Ly, tau, L, 0, h_i, g, J, h_f, g, sch(t_s[s], T)))\n",
    "    c = backend.get_compiled_circuit(qc)\n",
    "    handle = backend.process_circuit(c)\n",
    "    final = backend.get_result(handle).get_state()\n",
    "    print(\"AQC: \", [np.linalg.norm(np.vdot(final, eigenvectors_sort[:, i]))**2 for i in range(10)])\n",
    "    return qc"
   ]
  },
  {
   "cell_type": "code",
   "execution_count": 21,
   "id": "c932f44a-6671-44e0-9ae5-8cb24c6d5b69",
   "metadata": {},
   "outputs": [
    {
     "name": "stdout",
     "output_type": "stream",
     "text": [
      "AQC:  [np.float64(0.5794138609135231), np.float64(5.7317601074908526e-30), np.float64(0.25866677728129905), np.float64(3.605340855892906e-31), np.float64(7.583310637425853e-29), np.float64(8.553777291050618e-32), np.float64(9.66680349339686e-34), np.float64(7.25862123586652e-11), np.float64(4.7079327515440034e-33), np.float64(7.108257975487647e-12)]\n"
     ]
    },
    {
     "data": {
      "text/plain": [
       "True"
      ]
     },
     "execution_count": 21,
     "metadata": {},
     "output_type": "execute_result"
    }
   ],
   "source": [
    "qc_C = Circuit(L)\n",
    "for i in range(L):\n",
    "    qc_C.X(i)\n",
    "    qc_C.H(i)\n",
    "qc_A = run_adiabatic(Lx, Ly, 3, 1, 1, qc_C)\n",
    "qc_A.rename_units({Qubit(i): Qubit(i + 1) for i in range(L)})"
   ]
  },
  {
   "cell_type": "code",
   "execution_count": 22,
   "id": "ac8fed19-cb45-4253-8d57-123218aff393",
   "metadata": {
    "scrolled": true
   },
   "outputs": [
    {
     "data": {
      "text/plain": [
       "[H q[0]; X q[1]; X q[2]; X q[3]; X q[4]; X q[5]; X q[6]; X q[7]; X q[8]; X q[9]; X q[10]; X q[11]; X q[12]; X q[13]; X q[14]; X q[15]; X q[16]; X q[0]; H q[1]; H q[2]; H q[3]; H q[4]; H q[5]; H q[6]; H q[7]; H q[8]; H q[9]; H q[10]; H q[11]; H q[12]; H q[13]; H q[14]; H q[15]; H q[16]; Unitary2qBox q[1], q[5]; Unitary2qBox q[2], q[6]; Unitary2qBox q[3], q[7]; Unitary2qBox q[4], q[8]; Unitary2qBox q[9], q[13]; Unitary2qBox q[10], q[14]; Unitary2qBox q[11], q[15]; Unitary2qBox q[12], q[16]; Unitary2qBox q[13], q[1]; Unitary2qBox q[14], q[2]; Unitary2qBox q[15], q[3]; Unitary2qBox q[16], q[4]; Unitary2qBox q[5], q[9]; Unitary2qBox q[6], q[10]; Unitary2qBox q[7], q[11]; Unitary2qBox q[8], q[12]; Unitary2qBox q[1], q[2]; Unitary2qBox q[3], q[4]; Unitary2qBox q[5], q[6]; Unitary2qBox q[7], q[8]; Unitary2qBox q[9], q[10]; Unitary2qBox q[11], q[12]; Unitary2qBox q[13], q[14]; Unitary2qBox q[15], q[16]; Unitary2qBox q[4], q[1]; Unitary2qBox q[2], q[3]; Unitary2qBox q[8], q[5]; Unitary2qBox q[6], q[7]; Unitary2qBox q[12], q[9]; Unitary2qBox q[10], q[11]; Unitary2qBox q[16], q[13]; Unitary2qBox q[14], q[15]; Unitary2qBox q[1], q[2]; Unitary2qBox q[3], q[4]; Unitary2qBox q[5], q[6]; Unitary2qBox q[7], q[8]; Unitary2qBox q[9], q[10]; Unitary2qBox q[11], q[12]; Unitary2qBox q[13], q[14]; Unitary2qBox q[15], q[16]; Unitary2qBox q[13], q[1]; Unitary2qBox q[14], q[2]; Unitary2qBox q[15], q[3]; Unitary2qBox q[16], q[4]; Unitary2qBox q[5], q[9]; Unitary2qBox q[6], q[10]; Unitary2qBox q[7], q[11]; Unitary2qBox q[8], q[12]; Unitary2qBox q[1], q[5]; Unitary2qBox q[2], q[6]; Unitary2qBox q[3], q[7]; Unitary2qBox q[4], q[8]; Unitary2qBox q[9], q[13]; Unitary2qBox q[10], q[14]; Unitary2qBox q[11], q[15]; Unitary2qBox q[12], q[16]; Unitary2qBox q[0], q[1]; Unitary2qBox q[0], q[5]; Unitary2qBox q[0], q[2]; Unitary2qBox q[1], q[5]; Unitary2qBox q[0], q[6]; Unitary2qBox q[1], q[5]; Unitary2qBox q[0], q[3]; Unitary2qBox q[2], q[6]; Unitary2qBox q[0], q[7]; Unitary2qBox q[2], q[6]; Unitary2qBox q[0], q[4]; Unitary2qBox q[3], q[7]; Unitary2qBox q[0], q[8]; Unitary2qBox q[3], q[7]; Unitary2qBox q[0], q[9]; Unitary2qBox q[4], q[8]; Unitary2qBox q[0], q[13]; Unitary2qBox q[4], q[8]; Unitary2qBox q[0], q[10]; Unitary2qBox q[9], q[13]; Unitary2qBox q[0], q[14]; Unitary2qBox q[9], q[13]; Unitary2qBox q[0], q[11]; Unitary2qBox q[13], q[1]; Unitary2qBox q[5], q[9]; Unitary2qBox q[10], q[14]; Unitary2qBox q[0], q[15]; Unitary2qBox q[1], q[5]; Unitary2qBox q[9], q[13]; Unitary2qBox q[10], q[14]; Unitary2qBox q[0], q[12]; Unitary2qBox q[13], q[1]; Unitary2qBox q[14], q[2]; Unitary2qBox q[5], q[9]; Unitary2qBox q[6], q[10]; Unitary2qBox q[11], q[15]; Unitary2qBox q[0], q[16]; Unitary2qBox q[1], q[5]; Unitary2qBox q[2], q[6]; Unitary2qBox q[9], q[13]; Unitary2qBox q[10], q[14]; Unitary2qBox q[11], q[15]; Unitary2qBox q[13], q[1]; Unitary2qBox q[14], q[2]; Unitary2qBox q[15], q[3]; Unitary2qBox q[5], q[9]; Unitary2qBox q[6], q[10]; Unitary2qBox q[7], q[11]; Unitary2qBox q[12], q[16]; Unitary2qBox q[0], q[1]; Unitary2qBox q[2], q[6]; Unitary2qBox q[3], q[7]; Unitary2qBox q[10], q[14]; Unitary2qBox q[11], q[15]; Unitary2qBox q[12], q[16]; Unitary2qBox q[0], q[5]; Unitary2qBox q[14], q[2]; Unitary2qBox q[15], q[3]; Unitary2qBox q[16], q[4]; Unitary2qBox q[6], q[10]; Unitary2qBox q[7], q[11]; Unitary2qBox q[8], q[12]; Unitary2qBox q[0], q[2]; Unitary2qBox q[1], q[5]; Unitary2qBox q[3], q[7]; Unitary2qBox q[4], q[8]; Unitary2qBox q[11], q[15]; Unitary2qBox q[12], q[16]; Unitary2qBox q[0], q[6]; Unitary2qBox q[15], q[3]; Unitary2qBox q[16], q[4]; Unitary2qBox q[7], q[11]; Unitary2qBox q[8], q[12]; Unitary2qBox q[0], q[3]; Unitary2qBox q[2], q[6]; Unitary2qBox q[4], q[8]; Unitary2qBox q[12], q[16]; Unitary2qBox q[0], q[7]; Unitary2qBox q[16], q[4]; Unitary2qBox q[8], q[12]; Unitary2qBox q[0], q[4]; Unitary2qBox q[3], q[7]; Unitary2qBox q[0], q[8]; Unitary2qBox q[0], q[9]; Unitary2qBox q[4], q[8]; Unitary2qBox q[0], q[13]; Unitary2qBox q[0], q[10]; Unitary2qBox q[9], q[13]; Unitary2qBox q[0], q[14]; Unitary2qBox q[0], q[11]; Unitary2qBox q[10], q[14]; Unitary2qBox q[0], q[15]; Unitary2qBox q[0], q[12]; Unitary2qBox q[11], q[15]; Unitary2qBox q[0], q[16]; Unitary2qBox q[0], q[1]; Unitary2qBox q[12], q[16]; Unitary2qBox q[0], q[2]; Unitary2qBox q[0], q[5]; Unitary2qBox q[1], q[2]; Unitary2qBox q[0], q[6]; Unitary2qBox q[1], q[2]; Unitary2qBox q[0], q[9]; Unitary2qBox q[5], q[6]; Unitary2qBox q[0], q[10]; Unitary2qBox q[5], q[6]; Unitary2qBox q[0], q[13]; Unitary2qBox q[9], q[10]; Unitary2qBox q[0], q[14]; Unitary2qBox q[9], q[10]; Unitary2qBox q[0], q[3]; Unitary2qBox q[13], q[14]; Unitary2qBox q[0], q[4]; Unitary2qBox q[13], q[14]; Unitary2qBox q[0], q[7]; Unitary2qBox q[3], q[4]; Unitary2qBox q[0], q[8]; Unitary2qBox q[3], q[4]; Unitary2qBox q[0], q[11]; Unitary2qBox q[4], q[1]; Unitary2qBox q[2], q[3]; Unitary2qBox q[7], q[8]; Unitary2qBox q[0], q[12]; Unitary2qBox q[1], q[2]; Unitary2qBox q[3], q[4]; Unitary2qBox q[7], q[8]; Unitary2qBox q[0], q[15]; Unitary2qBox q[4], q[1]; Unitary2qBox q[2], q[3]; Unitary2qBox q[8], q[5]; Unitary2qBox q[6], q[7]; Unitary2qBox q[11], q[12]; Unitary2qBox q[0], q[16]; Unitary2qBox q[1], q[2]; Unitary2qBox q[3], q[4]; Unitary2qBox q[5], q[6]; Unitary2qBox q[7], q[8]; Unitary2qBox q[11], q[12]; Unitary2qBox q[4], q[1]; Unitary2qBox q[2], q[3]; Unitary2qBox q[8], q[5]; Unitary2qBox q[6], q[7]; Unitary2qBox q[12], q[9]; Unitary2qBox q[10], q[11]; Unitary2qBox q[15], q[16]; Unitary2qBox q[0], q[1]; Unitary2qBox q[5], q[6]; Unitary2qBox q[7], q[8]; Unitary2qBox q[9], q[10]; Unitary2qBox q[11], q[12]; Unitary2qBox q[15], q[16]; Unitary2qBox q[0], q[2]; Unitary2qBox q[8], q[5]; Unitary2qBox q[6], q[7]; Unitary2qBox q[12], q[9]; Unitary2qBox q[10], q[11]; Unitary2qBox q[16], q[13]; Unitary2qBox q[14], q[15]; Unitary2qBox q[0], q[5]; Unitary2qBox q[1], q[2]; Unitary2qBox q[9], q[10]; Unitary2qBox q[11], q[12]; Unitary2qBox q[13], q[14]; Unitary2qBox q[15], q[16]; Unitary2qBox q[0], q[6]; Unitary2qBox q[12], q[9]; Unitary2qBox q[10], q[11]; Unitary2qBox q[16], q[13]; Unitary2qBox q[14], q[15]; Unitary2qBox q[0], q[9]; Unitary2qBox q[5], q[6]; Unitary2qBox q[13], q[14]; Unitary2qBox q[15], q[16]; Unitary2qBox q[0], q[10]; Unitary2qBox q[16], q[13]; Unitary2qBox q[14], q[15]; Unitary2qBox q[0], q[13]; Unitary2qBox q[9], q[10]; Unitary2qBox q[0], q[14]; Unitary2qBox q[0], q[3]; Unitary2qBox q[13], q[14]; Unitary2qBox q[0], q[4]; Unitary2qBox q[0], q[7]; Unitary2qBox q[3], q[4]; Unitary2qBox q[0], q[8]; Unitary2qBox q[0], q[11]; Unitary2qBox q[7], q[8]; Unitary2qBox q[0], q[12]; Unitary2qBox q[0], q[15]; Unitary2qBox q[11], q[12]; Unitary2qBox q[0], q[16]; X q[0]; Unitary2qBox q[15], q[16]; Unitary1qBox q[0]; H q[0]; Measure q[0] --> c[0]; ]"
      ]
     },
     "execution_count": 22,
     "metadata": {},
     "output_type": "execute_result"
    }
   ],
   "source": [
    "from pytket.circuit import Unitary1qBox\n",
    "\n",
    "qc_QPE_real = Circuit(L+1, 1)\n",
    "qc_QPE_real.append(qc_A)\n",
    "qc_QPE_real.H(0)\n",
    "qc_QPE_real.append(qc_cU)\n",
    "qc_QPE_real.H(0)\n",
    "qc_QPE_real.Measure(0, 0)\n",
    "\n",
    "qc_QPE_imag = Circuit(L+1, 1)\n",
    "qc_QPE_imag.append(qc_A)\n",
    "qc_QPE_imag.H(0)\n",
    "qc_QPE_imag.append(qc_cU)\n",
    "qc_QPE_imag.add_unitary1qbox(Unitary1qBox(np.array([[1, 0],\n",
    "                                                    [0, -1j]])), 0)\n",
    "qc_QPE_imag.H(0)\n",
    "qc_QPE_imag.Measure(0, 0)\n"
   ]
  },
  {
   "cell_type": "code",
   "execution_count": 12,
   "id": "3e4fbaf4-7a14-4064-abce-223d4e50ac2b",
   "metadata": {},
   "outputs": [],
   "source": [
    "import qnexus as qnx\n",
    "\n",
    "my_project_ref = qnx.projects.get_or_create(name=\"Compile Tester\")"
   ]
  },
  {
   "cell_type": "code",
   "execution_count": 23,
   "id": "922b2161-c3f8-425f-83d3-4d6309b62ec0",
   "metadata": {},
   "outputs": [
    {
     "name": "stderr",
     "output_type": "stream",
     "text": [
      "/opt/anaconda3/envs/pytket/lib/python3.11/site-packages/qnexus/client/utils.py:170: DeprecationWarning: The `circuits` argument is deprecated and will be removed in a future version. Please use `programs`.\n",
      "  warnings.warn(\n"
     ]
    }
   ],
   "source": [
    "# Upload Circuits\n",
    "circ_refs = []\n",
    "\n",
    "circ_refs.append(qnx.circuits.upload(\n",
    "    name=f\"QPE Real, t=0.25\",\n",
    "    circuit=qc_QPE_real,\n",
    "    project=my_project_ref,\n",
    "))\n",
    "\n",
    "circ_refs.append(qnx.circuits.upload(\n",
    "    name=f\"QPE Imag, t=0.25\",\n",
    "    circuit=qc_QPE_imag,\n",
    "    project=my_project_ref,\n",
    "))\n",
    "\n",
    "\n",
    "# Compile Circuits\n",
    "compiled_circuits = qnx.compile(\n",
    "    circuits=circ_refs,\n",
    "    name=\"QPE extra EXTRA compressed T, S = (1, 1), t=0.25\",\n",
    "    optimisation_level = 0,\n",
    "    backend_config=qnx.QuantinuumConfig(device_name=\"H1-Emulator\"),\n",
    "    project=my_project_ref,\n",
    ")"
   ]
  },
  {
   "cell_type": "code",
   "execution_count": 27,
   "id": "b6e4c932-88e4-470e-9052-f970d3ceae77",
   "metadata": {},
   "outputs": [
    {
     "name": "stderr",
     "output_type": "stream",
     "text": [
      "/opt/anaconda3/envs/pytket/lib/python3.11/site-packages/qnexus/client/utils.py:170: DeprecationWarning: The `circuits` argument is deprecated and will be removed in a future version. Please use `programs`.\n",
      "  warnings.warn(\n"
     ]
    },
    {
     "data": {
      "text/html": [
       "<div>\n",
       "<style scoped>\n",
       "    .dataframe tbody tr th:only-of-type {\n",
       "        vertical-align: middle;\n",
       "    }\n",
       "\n",
       "    .dataframe tbody tr th {\n",
       "        vertical-align: top;\n",
       "    }\n",
       "\n",
       "    .dataframe thead th {\n",
       "        text-align: right;\n",
       "    }\n",
       "</style>\n",
       "<table border=\"1\" class=\"dataframe\">\n",
       "  <thead>\n",
       "    <tr style=\"text-align: right;\">\n",
       "      <th></th>\n",
       "      <th>name</th>\n",
       "      <th>description</th>\n",
       "      <th>created</th>\n",
       "      <th>modified</th>\n",
       "      <th>job_type</th>\n",
       "      <th>last_status</th>\n",
       "      <th>project</th>\n",
       "      <th>backend_config</th>\n",
       "      <th>id</th>\n",
       "    </tr>\n",
       "  </thead>\n",
       "  <tbody>\n",
       "    <tr>\n",
       "      <th>0</th>\n",
       "      <td>QPE extra EXTRA compressed T, S = (1, 1), t=0....</td>\n",
       "      <td></td>\n",
       "      <td>2025-07-26 20:03:56.298865+00:00</td>\n",
       "      <td>2025-07-26 20:03:56.298865+00:00</td>\n",
       "      <td>JobType.EXECUTE</td>\n",
       "      <td>StatusEnum.SUBMITTED</td>\n",
       "      <td>Compile Tester</td>\n",
       "      <td>QuantinuumConfig</td>\n",
       "      <td>1fab17f5-5069-4e63-854d-cd11b0358dc4</td>\n",
       "    </tr>\n",
       "  </tbody>\n",
       "</table>\n",
       "</div>"
      ],
      "text/plain": [
       "                                                name description  \\\n",
       "0  QPE extra EXTRA compressed T, S = (1, 1), t=0....               \n",
       "\n",
       "                           created                         modified  \\\n",
       "0 2025-07-26 20:03:56.298865+00:00 2025-07-26 20:03:56.298865+00:00   \n",
       "\n",
       "          job_type           last_status         project    backend_config  \\\n",
       "0  JobType.EXECUTE  StatusEnum.SUBMITTED  Compile Tester  QuantinuumConfig   \n",
       "\n",
       "                                     id  \n",
       "0  1fab17f5-5069-4e63-854d-cd11b0358dc4  "
      ]
     },
     "execution_count": 27,
     "metadata": {},
     "output_type": "execute_result"
    }
   ],
   "source": [
    "execute_job_ref = qnx.start_execute_job(\n",
    "    circuits=compiled_circuits,\n",
    "    name=f\"QPE extra EXTRA compressed T, S = (1, 1), t=0.25, Noisy v2\",\n",
    "    n_shots=[2000]*2,\n",
    "    backend_config=qnx.QuantinuumConfig(device_name=\"H1-Emulator\"),\n",
    "    project=my_project_ref,\n",
    ")\n",
    "\n",
    "execute_job_ref.df()"
   ]
  },
  {
   "cell_type": "code",
   "execution_count": null,
   "id": "8c545efb-7efd-405d-9da6-19aad2f1996b",
   "metadata": {},
   "outputs": [],
   "source": [
    "import pandas as pd\n",
    "\n",
    "counts_real = {}\n",
    "counts_imag = {}\n",
    "\n",
    "for i, id in enumerate(range(2, 10)):\n",
    "    table_csv = pd.read_csv(f'./Emulator/shot_results_t0.25_real.csv')\n",
    "\n",
    "    counts_real[0.25]={}\n",
    "    \n",
    "    \n",
    "    for index, row in table_csv.iterrows():\n",
    "        str_key = row['Outcome']\n",
    "        count =  int(row['Count'].replace(',', ''))  if type(row['Count'])==str else int(row['Count'])\n",
    "        counts_real[0.25][int(str_key)] = count"
   ]
  },
  {
   "cell_type": "code",
   "execution_count": null,
   "id": "46fde5a2-bc1a-4acc-9672-968f9687211b",
   "metadata": {},
   "outputs": [],
   "source": [
    "from pytket.extensions.qiskit import AerBackend\n",
    "\n",
    "backend = AerBackend()\n",
    "\n",
    "compiled_circ = backend.get_compiled_circuit(qc_QPE_real)\n",
    "handle = backend.process_circuit(compiled_circ, n_shots=2000)\n",
    "counts_real = backend.get_result(handle).get_counts()\n",
    "\n",
    "compiled_circ = backend.get_compiled_circuit(qc_QPE_imag)\n",
    "handle = backend.process_circuit(compiled_circ, n_shots=2000)\n",
    "counts_imag = backend.get_result(handle).get_counts()"
   ]
  },
  {
   "cell_type": "code",
   "execution_count": 347,
   "id": "88a4078b-0a16-47f7-8133-cb26abd0de53",
   "metadata": {},
   "outputs": [],
   "source": [
    "\n",
    "counts  = {\n",
    "           0.2:  [{(0, ): 1106, (1, ): 894}, {(0, ): 1620, (1, ): 380}],\n",
    "           0.21: [{(0, ): 505, (1, ): 1495}, {(0, ): 1436, (1, ): 564}],\n",
    "    \n",
    "           0.22: [{(0, ): 410, (1, ): 1590}, {(0, ): 814, (1, ): 1186}],\n",
    "    \n",
    "           0.23: [{(0, ): 876, (1, ): 1124}, {(0, ): 391, (1, ): 1609}],\n",
    "           0.5 : [{(0, ): 1015, (1, ): 985}, {(0, ): 1552, (1, ): 448}]\n",
    "          }"
   ]
  },
  {
   "cell_type": "code",
   "execution_count": 348,
   "id": "6dff5898-3ce1-4dc5-9669-acad321c1e02",
   "metadata": {},
   "outputs": [
    {
     "name": "stdout",
     "output_type": "stream",
     "text": [
      "Estimated Phase Amplitude:  0.6289960254246445\n",
      "Estimated Phase Amplitude:  0.6596370213988902\n",
      "Estimated Phase Amplitude:  0.6186242801571887\n",
      "Estimated Phase Amplitude:  0.6214957763331944\n",
      "Estimated Phase Amplitude:  0.55220376673833\n"
     ]
    }
   ],
   "source": [
    "phases_est = {}\n",
    "for t in [0.2, 0.21, 0.22, 0.23, 0.5]:\n",
    "    counts_real, counts_imag = counts[t]\n",
    "    phase_est_real = ((counts_real[(0, )] if (0, ) in counts_real else 0) - (counts_real[(1, )] if (1, ) in counts_real else 0)) /\\\n",
    "                        ((counts_real[(0, )] if (0, ) in counts_real else 0) + (counts_real[(1, )] if (1, ) in counts_real else 0))     \n",
    "    phase_est_imag = ((counts_imag[(0, )] if (0, ) in counts_imag else 0) - (counts_imag[(1, )] if (1, ) in counts_imag else 0)) /\\\n",
    "                        ((counts_imag[(0, )] if (0, ) in counts_imag else 0) + (counts_imag[(1, )] if (1, ) in counts_imag else 0))\n",
    "    phases_est[t] = phase_est_real + 1j*phase_est_imag\n",
    "    print(\"Estimated Phase Amplitude: \", np.linalg.norm(phase_est_real + 1j*phase_est_imag))"
   ]
  },
  {
   "cell_type": "code",
   "execution_count": 349,
   "id": "d1ee1ee2-5767-480a-8a01-d3f597babf20",
   "metadata": {},
   "outputs": [
    {
     "data": {
      "text/plain": [
       "{0.2: (0.106+0.62j),\n",
       " 0.21: (-0.495+0.436j),\n",
       " 0.22: (-0.59-0.186j),\n",
       " 0.23: (-0.124-0.609j),\n",
       " 0.5: (0.015+0.552j)}"
      ]
     },
     "execution_count": 349,
     "metadata": {},
     "output_type": "execute_result"
    }
   ],
   "source": [
    "phases_est"
   ]
  },
  {
   "cell_type": "code",
   "execution_count": 45,
   "id": "1ac584f2-a2fa-493b-b6d4-eeac0c75a2eb",
   "metadata": {},
   "outputs": [],
   "source": [
    "# For t=0.2, here is the exact phase:   (-0.15823157287931242+0.9874020302511732j)\n",
    "# For t=0.21, here is the exact phase:  (-0.9275722326124037+0.37364388565376094j)\n",
    "# For t=0.22, here is the exact phase:  (-0.7984811662380588-0.6020197896773075j)\n",
    "# For t=0.23, here is the exact phase:  (0.10400607051011165-0.9945766623529056j)\n",
    "# For t=0.25, here is the exact phase:  (0.8302036981146572+0.5574601507163961j)\n",
    "# For t=0.5, here is the exact phase:  (0.3784763607264664+0.9256109573526287j)\n",
    "# "
   ]
  },
  {
   "cell_type": "code",
   "execution_count": null,
   "id": "820283c5-7892-4b45-936f-8dfa2672de97",
   "metadata": {},
   "outputs": [],
   "source": []
  },
  {
   "cell_type": "code",
   "execution_count": 6,
   "id": "cc54b827-ccc2-49e8-bb66-c5ad2347dc81",
   "metadata": {},
   "outputs": [],
   "source": [
    "import random\n",
    "from pytket import Circuit, Qubit\n",
    "from pytket.pauli import Pauli\n",
    "\n",
    "def random_state_prep_circuit(n_qubits: int, depth: int = 10) -> Circuit:\n",
    "    circ = Circuit(n_qubits)\n",
    "\n",
    "    for d in range(depth):\n",
    "        # Layer of random single-qubit rotations\n",
    "        for q in range(n_qubits):\n",
    "            theta = random.uniform(0, 2 * 3.1415)\n",
    "            phi = random.uniform(0, 2 * 3.1415)\n",
    "            lamb = random.uniform(0, 2 * 3.1415)\n",
    "            circ.Rz(phi, q)\n",
    "            circ.Ry(theta, q)\n",
    "            circ.Rz(lamb, q)\n",
    "\n",
    "        # Layer of CX gates (entangling)\n",
    "        for q in range(0, n_qubits - 1, 2):\n",
    "            circ.CX(q, q + 1)\n",
    "\n",
    "        # Optionally shuffle qubits between layers for more mixing\n",
    "        random.shuffle(list(range(n_qubits)))\n",
    "\n",
    "    return circ\n",
    "\n",
    "\n",
    "def reverse_bits_statevector(statevec, num_qubits):\n",
    "    n = len(statevec)\n",
    "    output = np.zeros(n, dtype=complex)\n",
    "    for i in range(n):\n",
    "        reversed_i = int(f\"{i:0{num_qubits}b}\"[::-1], 2)\n",
    "        output[reversed_i] = statevec[i]\n",
    "    return output"
   ]
  },
  {
   "cell_type": "code",
   "execution_count": 6,
   "id": "cae8cf76-cb85-4867-b6a5-dc8d256f528d",
   "metadata": {},
   "outputs": [],
   "source": [
    "import numpy as np\n",
    "from scipy.linalg import eig, qr\n",
    "\n",
    "def demultiplex(U, V):\n",
    "    \"\"\"Compute the type-A KAK decomposition of the block-diagonal matrix U⊕V that\n",
    "    corresponds to demultiplexing.\"\"\"\n",
    "    delta = U @ V.conj().T\n",
    "    # Compute eigenvalue decomposition\n",
    "    D_squared, U_1 = eig(delta)\n",
    "    # Compute the square root by extracting phases and halving them\n",
    "    phi = np.angle(D_squared) / 2\n",
    "    U_2 = np.diag(np.exp(1j * phi)) @ U_1.conj().T @ V\n",
    "    # Return the rotation angles for A, instead of the diagonal matrix D\n",
    "    return U_1, phi, U_2"
   ]
  },
  {
   "cell_type": "code",
   "execution_count": 7,
   "id": "08c75ccc-2c0b-460b-9a1d-605545c8ef07",
   "metadata": {},
   "outputs": [],
   "source": [
    "from scipy.linalg import cossin, eig, qr\n",
    "import pennylane as qml\n",
    "\n",
    "def demultiplex(U, V):\n",
    "    \"\"\"Numerically stable demultiplexing decomposition: K = K1 · A · K2\"\"\"\n",
    "    delta = U @ V.conj().T\n",
    "    # Eigen decomposition of delta (not necessarily Hermitian)\n",
    "    D_squared, U_1 = eig(delta)\n",
    "    # Fix: Re-orthogonalize U_1 (ensure unitary)\n",
    "    U_1, _ = qr(U_1)\n",
    "    # Compute eigenphases, halve them\n",
    "    phi = np.angle(D_squared) / 2\n",
    "    # Construct U_2\n",
    "    U_2 = np.diag(np.exp(1j * phi)) @ U_1.conj().T @ V\n",
    "    # Fix: Project U_2 back to nearest unitary using SVD\n",
    "    U, _, Vh = np.linalg.svd(U_2)\n",
    "    U_2 = U @ Vh\n",
    "    return U_1, phi, U_2"
   ]
  },
  {
   "cell_type": "code",
   "execution_count": 68,
   "id": "dffe6866-310d-426a-95aa-baffc747672b",
   "metadata": {},
   "outputs": [
    {
     "name": "stdout",
     "output_type": "stream",
     "text": [
      "     ┌─────┐┌────┐┌─────┐\n",
      "q_0: ┤0    ├┤0   ├┤0    ├\n",
      "     │  U2 ││    ││  U1 │\n",
      "q_1: ┤1    ├┤1 A ├┤1    ├\n",
      "     └─────┘│    │└─────┘\n",
      "q_2: ───────┤2   ├───────\n",
      "            └────┘       \n"
     ]
    },
    {
     "data": {
      "text/plain": [
       "1192"
      ]
     },
     "execution_count": 68,
     "metadata": {},
     "output_type": "execute_result"
    }
   ],
   "source": [
    "from qiskit import QuantumCircuit, transpile\n",
    "\n",
    "Vlist = Vlists[0.25]\n",
    "decomposed_Vs = []\n",
    "counts_nc = 0\n",
    "counts_c = 0\n",
    "for i in range(15):\n",
    "    if i not in control_layers:\n",
    "        qc = qiskit.QuantumCircuit(2)\n",
    "        qc.unitary(Vlist[i], [0, 1])\n",
    "        transpiled_circuit = transpile(qc, basis_gates=['rzz', 'u3'])\n",
    "        gate_counts = transpiled_circuit.count_ops()\n",
    "        counts_nc += gate_counts['rzz']\n",
    "        decomposed_Vs.append(transpiled_circuit)\n",
    "\n",
    "        from qiskit_aer import AerSimulator\n",
    "        from qiskit_aer.library import SaveUnitary\n",
    "        # Add instruction to save unitary\n",
    "        qc.save_unitary()\n",
    "        simulator = AerSimulator(method='unitary')\n",
    "        transpiled = transpile(qc, simulator)\n",
    "        result = simulator.run(transpiled).result()\n",
    "        unitary = result.data(0)['unitary']\n",
    "        assert np.allclose(np.array(unitary.data), Vlist[i])\n",
    "    \n",
    "    else:\n",
    "        ket_0 = np.array([[1],[0]])\n",
    "        ket_1 = np.array([[0],[1]])\n",
    "        rho_0_anc = ket_0 @ ket_0.T\n",
    "        rho_1_anc = ket_1 @ ket_1.T\n",
    "        K_1 = np.kron(rho_0_anc, np.eye(4)) + np.kron(rho_1_anc, Vlist[i])\n",
    "        n = 3\n",
    "        zero = np.zeros((4, 4))\n",
    "        \n",
    "        U_1, phi, U_2 = demultiplex(np.eye(4), Vlist[i])\n",
    "        \n",
    "        rz_ops = [qml.RZ(-2 * p, 0) for p in phi]\n",
    "        demultiplex_A = qml.matrix(qml.Select(rz_ops, control=range(1, n)), wire_order=range(n))\n",
    "        #demultiplex_K_1 = np.block([[U_1, zero], [zero, U_1]])\n",
    "        #demultiplex_K_2 = np.block([[U_2, zero], [zero, U_2]])\n",
    "        demultiplex_K_1 = np.kron(np.eye(2), U_1)\n",
    "        demultiplex_K_2 = np.kron(np.eye(2), U_2)\n",
    "        \n",
    "        reconstructed_K_1 = demultiplex_K_1 @ demultiplex_A @ demultiplex_K_2\n",
    "        assert np.allclose(reconstructed_K_1, K_1)\n",
    "        \n",
    "        qc = qiskit.QuantumCircuit(3)\n",
    "        qc.unitary(U_2, [0, 1], label='U2')\n",
    "        qc.unitary(demultiplex_A  , [0, 1, 2], label='A')\n",
    "        qc.unitary(U_1, [0, 1], label='U1')\n",
    "        if i==0:\n",
    "            print(qc.draw())\n",
    "        \n",
    "        transpiled_circuit = transpile(qc, basis_gates=['rzz', 'u3'])\n",
    "        gate_counts = transpiled_circuit.count_ops()\n",
    "        counts_c += gate_counts['rzz']\n",
    "        decomposed_Vs.append(transpiled_circuit)\n",
    "\n",
    "        from qiskit_aer import AerSimulator\n",
    "        from qiskit_aer.library import SaveUnitary\n",
    "        # Add instruction to save unitary\n",
    "        qc.save_unitary()\n",
    "        simulator = AerSimulator(method='unitary')\n",
    "        transpiled = transpile(qc, simulator)\n",
    "        result = simulator.run(transpiled).result()\n",
    "        unitary = result.data(0)['unitary']\n",
    "        #print(gate_counts['rzz'])\n",
    "        assert np.allclose(np.array(unitary.data), K_1)\n",
    "        #decomposed_Vs.append((U_1, A, U_2))\n",
    "        \n",
    "counts_nc*16 + counts_c*8"
   ]
  },
  {
   "cell_type": "code",
   "execution_count": null,
   "id": "41168442-7b58-474e-b420-8943bd68a630",
   "metadata": {},
   "outputs": [],
   "source": [
    "from pytket.extensions.qiskit import qiskit_to_tk\n",
    "from pytket.circuit.display import render_circuit_jupyter\n",
    "\n",
    "render_circuit_jupyter(qiskit_to_tk(decomposed_Vs[6]))"
   ]
  },
  {
   "cell_type": "code",
   "execution_count": null,
   "id": "b8fb591a-491c-4cb9-8f1a-e8e7c502bb5a",
   "metadata": {},
   "outputs": [],
   "source": []
  }
 ],
 "metadata": {
  "kernelspec": {
   "display_name": "Python 11, PtTKET Env",
   "language": "python",
   "name": "pytket"
  },
  "language_info": {
   "codemirror_mode": {
    "name": "ipython",
    "version": 3
   },
   "file_extension": ".py",
   "mimetype": "text/x-python",
   "name": "python",
   "nbconvert_exporter": "python",
   "pygments_lexer": "ipython3",
   "version": "3.11.13"
  }
 },
 "nbformat": 4,
 "nbformat_minor": 5
}
