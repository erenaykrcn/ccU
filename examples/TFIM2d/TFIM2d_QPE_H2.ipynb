{
 "cells": [
  {
   "cell_type": "code",
   "execution_count": 1,
   "id": "b512702f-814b-44f3-8201-21e5cba33a19",
   "metadata": {},
   "outputs": [
    {
     "name": "stdout",
     "output_type": "stream",
     "text": [
      "GSE -51.44812913320615\n"
     ]
    }
   ],
   "source": [
    "import numpy as np\n",
    "import qiskit\n",
    "from numpy import linalg as LA\n",
    "import matplotlib.pyplot as plt\n",
    "import scipy\n",
    "import qib\n",
    "import h5py\n",
    "import sys\n",
    "import rqcopt as oc\n",
    "from scipy.sparse.linalg import expm_multiply\n",
    "\n",
    "\n",
    "Lx, Ly = (4, 4)\n",
    "L = Lx*Ly\n",
    "t = .25\n",
    "latt = qib.lattice.IntegerLattice((Lx, Ly), pbc=True)\n",
    "field = qib.field.Field(qib.field.ParticleType.QUBIT, latt)\n",
    "J, h, g = (1, 0, 3)\n",
    "hamil = qib.IsingHamiltonian(field, J, h, g).as_matrix()\n",
    "eigenvalues, eigenvectors = scipy.sparse.linalg.eigsh(hamil, k=10)\n",
    "idx = eigenvalues.argsort()\n",
    "eigenvalues_sort = eigenvalues[idx]\n",
    "eigenvectors_sort = eigenvectors[:,idx]\n",
    "ground_state = eigenvectors_sort[:, 0]\n",
    "\n",
    "X = np.array([[0, 1], [1, 0]])\n",
    "Z = np.array([[1, 0], [0, -1]])\n",
    "Y = np.array([[0, -1j], [1j, 0]])\n",
    "I2 = np.array([[1, 0], [0, 1]])\n",
    "\n",
    "\n",
    "control_layers = [0, 4, 5, 9, 10, 14] # 6 control layers\n",
    "perms_v, perms_h = ([[0, 4, 1, 5, 2, 6, 3, 7, 8, 12, 9, 13, 10, 14, 11, 15],\n",
    "  [4, 8, 5, 9, 6, 10, 7, 11, 12, 0, 13, 1, 14, 2, 15, 3]],\n",
    " [[0, 1, 4, 5, 8, 9, 12, 13, 2, 3, 6, 7, 10, 11, 14, 15],\n",
    "  [1, 2, 5, 6, 9, 10, 13, 14, 3, 0, 7, 4, 11, 8, 15, 12]])\n",
    "perms_extended = [[perms_v[0]]] + [perms_v]*3 + [[perms_v[0]], [perms_h[0]]] +\\\n",
    "                    [perms_h]*3 + [[perms_h[0]], [perms_v[0]]] + [perms_v]*3 + [[perms_v[0]]]\n",
    "perms_ext_reduced = [perms_v]*3  + [perms_h]*3 + [perms_v]*3\n",
    "\n",
    "print(\"GSE\", eigenvalues_sort[0])"
   ]
  },
  {
   "cell_type": "code",
   "execution_count": 2,
   "id": "1493bfa2-baad-4a89-8629-a38f46336e41",
   "metadata": {},
   "outputs": [],
   "source": [
    "\"\"\"\n",
    "    Compressed-Controlled Time Evolution Operator that we optimized previously.\n",
    "\"\"\"\n",
    "import h5py\n",
    "\n",
    "perms_qc = [[0, 1], [0, 2], [1, 2], [0, 2], [0, 1], [1, 2], [0, 2], [0, 1], [1, 2]]\n",
    "Xlists_opts = {}\n",
    "Vlists = {}\n",
    "qc_cUs = {}\n",
    "for t in [0.2, 0.21, 0.22, 0.23, 0.25]:\n",
    "    Vlist = []\n",
    "    with h5py.File(f\"./results/tfim2d_ccU_SPARSE_103_Lx4Ly4_t{t}_layers15_rS1_niter15_3hloc.hdf5\", \"r\") as f:\n",
    "        Vlist =  f[\"Vlist\"][:]\n",
    "    Xlists_opt = {}\n",
    "\n",
    "    if t==0.25:\n",
    "        for i in control_layers:\n",
    "            with h5py.File(f\"./results/tfim2d_ccU_SPARSE_{J}{h}{g}_Lx{Lx}Ly{Ly}_t{t}_layers15_niter20_rS5_DECOMPOSE_n{len(perms_qc)}_layer{i}.hdf5\", \"r\") as file:\n",
    "                Xlists_opt[i] = file[f\"Xlist_{i}\"][:]\n",
    "    else:\n",
    "        for i in control_layers:\n",
    "            with h5py.File(f\"./results/tfim2d_ccU_SPARSE_{J}{h}{g}_Lx{Lx}Ly{Ly}_t{t}_layers15_niter15_rS1_DECOMPOSE_n{len(perms_qc)}_layer{i}.hdf5\", \"r\") as file:\n",
    "                Xlists_opt[i] = file[f\"Xlist_{i}\"][:]\n",
    "        \n",
    "\n",
    "    Xlists_opts[t] = Xlists_opt\n",
    "    Vlists[t] = Vlist"
   ]
  },
  {
   "cell_type": "code",
   "execution_count": 41,
   "id": "5b6fbdce-2a1c-4fb6-9cdc-7841aee1fe53",
   "metadata": {},
   "outputs": [],
   "source": [
    "import random\n",
    "from pytket import Circuit, Qubit\n",
    "from pytket.pauli import Pauli\n",
    "from pytket.circuit import Circuit, Unitary1qBox, Unitary2qBox\n",
    "\n",
    "\n",
    "def construct_ccU(L, Vs, Xlists_opt, perms, perms_qc, control_layers):\n",
    "    qc = Circuit(L+1)\n",
    "    qc.X(0)\n",
    "    for i, V in enumerate(Vs):\n",
    "        layer = i\n",
    "        if i in control_layers:\n",
    "            for perm in perms[layer]:\n",
    "                for j in range(L//2):\n",
    "                    mapp = {0: 0, 1: perm[2*j]+1, 2:perm[2*j+1]+1}\n",
    "                    for g, G in enumerate(Xlists_opt[i]):\n",
    "                        qc.add_unitary2qbox(Unitary2qBox(G), mapp[perms_qc[g][0]], mapp[perms_qc[g][1]])\n",
    "        else:\n",
    "            for perm in perms[layer]:\n",
    "                for j in range(L//2):\n",
    "                    qc.add_unitary2qbox(Unitary2qBox(V), perm[2*j]+1, perm[2*j+1]+1)\n",
    "                    \n",
    "    qc.X(0)\n",
    "    return qc\n",
    "\n",
    "qc_cU = construct_ccU(L, Vlists[0.2], Xlists_opts[0.2], perms_extended, perms_qc, control_layers)"
   ]
  },
  {
   "cell_type": "code",
   "execution_count": 69,
   "id": "374c78e8-7444-45ed-b3fb-cd4a418fac74",
   "metadata": {},
   "outputs": [],
   "source": [
    "from pytket.extensions.qiskit import qiskit_to_tk\n",
    "\n",
    "def construct_ccU(L, decomposed_Vs, perms, perms_qc, control_layers):\n",
    "    qc = Circuit(L+1)\n",
    "    qc.X(0)\n",
    "    for i, V in enumerate(decomposed_Vs):\n",
    "        layer = i\n",
    "        if i in control_layers:\n",
    "            for perm in perms[layer]:\n",
    "                for j in range(L//2):\n",
    "                    circ_C = qiskit_to_tk(decomposed_Vs[i])\n",
    "                    circ_C.rename_units({       Qubit(2): Qubit(0),\n",
    "                                                Qubit(1): Qubit(perm[2*j]+1),\n",
    "                                                Qubit(0): Qubit(perm[2*j+1]+1)\n",
    "                                               })\n",
    "                    qc.append(circ_C)\n",
    "        else:\n",
    "            for perm in perms[layer]:\n",
    "                for j in range(L//2):\n",
    "                    circ = qiskit_to_tk(decomposed_Vs[i])\n",
    "                    circ.rename_units({Qubit(1): Qubit(perm[2*j]+1),\n",
    "                                       Qubit(0): Qubit(perm[2*j+1]+1)})\n",
    "                    qc.append(circ)\n",
    "    qc.X(0)\n",
    "    return qc\n",
    "\n",
    "qc_cU = construct_ccU(L, decomposed_Vs, perms_extended, perms_qc, control_layers)"
   ]
  },
  {
   "cell_type": "code",
   "execution_count": 71,
   "id": "69f6a95c-a8bb-44b9-9159-29c6a8de178d",
   "metadata": {},
   "outputs": [
    {
     "name": "stdout",
     "output_type": "stream",
     "text": [
      "t=0.25 Trotter fid:  0.9998238240699218\n"
     ]
    }
   ],
   "source": [
    "from scipy.sparse.linalg import expm_multiply\n",
    "from scipy import sparse as sp\n",
    "from pytket.extensions.qiskit import IBMQBackend, AerStateBackend\n",
    "\n",
    "backend = AerStateBackend()\n",
    "for t_ in [.25]:\n",
    "    qc_rand = random_state_prep_circuit(L, 5)\n",
    "    c = backend.get_compiled_circuit(qc_rand)\n",
    "    handle = backend.process_circuit(c)\n",
    "    state = backend.get_result(handle).get_state()\n",
    "    qc_rand.rename_units({Qubit(i): Qubit(i + 1) for i in range(L)})\n",
    "    \n",
    "    qc_ext1 = Circuit(L+1)\n",
    "    qc_ext1.append(qc_rand)\n",
    "    for i in range(int(t_//0.25)):\n",
    "        qc_ext1.append(qc_cU)\n",
    "    c = backend.get_compiled_circuit(qc_ext1)\n",
    "    handle = backend.process_circuit(c)\n",
    "    sv1 = backend.get_result(handle).get_state()\n",
    "\n",
    "    qc_ext2 = Circuit(L+1)\n",
    "    qc_ext2.X(0)\n",
    "    qc_ext2.append(qc_rand)\n",
    "    for i in range(int(t_//0.25)):\n",
    "        qc_ext2.append(qc_cU)\n",
    "    c = backend.get_compiled_circuit(qc_ext2)\n",
    "    handle = backend.process_circuit(c)\n",
    "    sv2 = backend.get_result(handle).get_state()\n",
    "    \n",
    "    ket_0 = np.array([1, 0])\n",
    "    ket_1 = np.array([0, 1])\n",
    "    exact_v1 = np.kron(ket_0, expm_multiply(1j * t_ * hamil, state))\n",
    "    exact_v2 = np.kron(ket_1, expm_multiply(-1j * t_ * hamil, state))\n",
    "    fid = (np.linalg.norm(np.vdot(sv1, exact_v1)) + np.linalg.norm(np.vdot(sv2, exact_v2)))/2\n",
    "    \n",
    "    print(f\"t={t_}\", \"Trotter fid: \", fid)"
   ]
  },
  {
   "cell_type": "code",
   "execution_count": 56,
   "id": "83f3c170-5543-422a-8d9b-b98a07e46261",
   "metadata": {},
   "outputs": [],
   "source": [
    "\"\"\"\n",
    "    Adiabatic Evolution Implementation.\n",
    "\"\"\"\n",
    "\n",
    "backend = AerStateBackend()\n",
    "def trotter(Lx, Ly, tau, L, J_i, h_i, g_i, J_f, h_f, g_f, lamb):\n",
    "    L = Lx * Ly\n",
    "    assert lamb <= 1 and lamb >= 0\n",
    "    J = lamb*J_f + (1-lamb)*J_i\n",
    "    g = lamb*g_f + (1-lamb)*g_i\n",
    "    h = lamb*h_f + (1-lamb)*h_i\n",
    "\n",
    "    qc = Circuit(L)\n",
    "    hloc = construct_ising_local_term_(J, g, 2)\n",
    "    perms_vercs = []\n",
    "    for i in range(Ly):\n",
    "        start_ind = Lx*i\n",
    "        perms_verc = []\n",
    "        for j in range(start_ind, start_ind+Lx):\n",
    "            perms_verc += [j, (j+Lx)%L]\n",
    "        perms_vercs.append(perms_verc)\n",
    "    if Ly == 4:\n",
    "        perms_vercs = [perms_vercs[0]+perms_vercs[2], perms_vercs[1]+perms_vercs[3]]\n",
    "    # Horizontals\n",
    "    perms_horzs = []\n",
    "    for i in range(Lx):\n",
    "        start_ind = i\n",
    "        perms_horz = []\n",
    "        for j in range(start_ind, L, Lx):\n",
    "            if start_ind != Lx-1:\n",
    "                perms_horz += [j, j+1]\n",
    "            else:\n",
    "                perms_horz += [j, j+1-Lx]\n",
    "        perms_horzs.append(perms_horz)\n",
    "    if Lx == 4:\n",
    "        perms_horzs = [perms_horzs[0]+perms_horzs[2], perms_horzs[1]+perms_horzs[3]]\n",
    "    perm_set = perms_vercs + perms_horzs\n",
    "    perms = perm_set\n",
    "    \n",
    "    method_start = oc.SplittingMethod.suzuki(len(perm_set), 1)\n",
    "    indices = method_start.indices\n",
    "    coeffs = method_start.coeffs\n",
    "\n",
    "    Vlist_start = []\n",
    "    perms = []\n",
    "    for i, c in zip(indices, coeffs):\n",
    "        Vlist_start.append(scipy.linalg.expm(-1j*c*tau*hloc))\n",
    "        perms.append(perm_set[i])\n",
    "\n",
    "    for layer, V in enumerate(Vlist_start):     \n",
    "        for j in range(len(perms[layer])//2):\n",
    "            qc.add_unitary2qbox(Unitary2qBox(V), perms[layer][2*j], perms[layer][2*j+1])\n",
    "    return qc\n",
    "\n",
    "\n",
    "def construct_ising_local_term_(J, g, ndim, h=0):\n",
    "    X = np.array([[0.,  1.], [1.,  0.]])\n",
    "    Z = np.array([[1.,  0.], [0., -1.]])\n",
    "    I = np.identity(2)\n",
    "    return J*np.kron(Z, Z) + g*(0.5/ndim)*(np.kron(X, I) + np.kron(I, X)) + h*(0.5/ndim)*(np.kron(Z, I) + np.kron(I, Z))\n",
    "\n",
    "\n",
    "def run_adiabatic(Lx, Ly, g, T, S, init_circ, h_i=0, h_f=0):\n",
    "    L = Lx*Ly\n",
    "    tau = 1/S\n",
    "    t_s = np.linspace(0, T, S*T)\n",
    "    sch = lambda t, T: np.sin(np.pi*t/(2*T))**2\n",
    "    \n",
    "    qc = init_circ.copy()\n",
    "    for s in range(S*T):\n",
    "        qc.append(trotter(Lx, Ly, tau, L, 0, h_i, g, J, h_f, g, sch(t_s[s], T)))\n",
    "    c = backend.get_compiled_circuit(qc)\n",
    "    handle = backend.process_circuit(c)\n",
    "    final = backend.get_result(handle).get_state()\n",
    "    print(\"AQC: \", [np.linalg.norm(np.vdot(final, eigenvectors_sort[:, i]))**2 for i in range(10)])\n",
    "    return qc"
   ]
  },
  {
   "cell_type": "code",
   "execution_count": 79,
   "id": "c932f44a-6671-44e0-9ae5-8cb24c6d5b69",
   "metadata": {},
   "outputs": [
    {
     "name": "stdout",
     "output_type": "stream",
     "text": [
      "AQC:  [np.float64(0.8823000596442861), np.float64(1.9259299443872359e-31), np.float64(0.08493784283317464), np.float64(6.548161810916602e-32), np.float64(1.986712293432097e-29), np.float64(6.268062458450342e-33), np.float64(2.8617773705245665e-33), np.float64(3.2933812938691494e-15), np.float64(2.86281533835948e-32), np.float64(8.283819233350804e-16)]\n"
     ]
    },
    {
     "data": {
      "text/plain": [
       "True"
      ]
     },
     "execution_count": 79,
     "metadata": {},
     "output_type": "execute_result"
    }
   ],
   "source": [
    "qc_C = Circuit(L)\n",
    "for i in range(L):\n",
    "    qc_C.X(i)\n",
    "    qc_C.H(i)\n",
    "qc_A = run_adiabatic(Lx, Ly, 3, 2, 4, qc_C)\n",
    "qc_A.rename_units({Qubit(i): Qubit(i + 1) for i in range(L)})"
   ]
  },
  {
   "cell_type": "code",
   "execution_count": 80,
   "id": "ac8fed19-cb45-4253-8d57-123218aff393",
   "metadata": {
    "scrolled": true
   },
   "outputs": [
    {
     "data": {
      "text/plain": [
       "[H q[0]; X q[1]; X q[2]; X q[3]; X q[4]; X q[5]; X q[6]; X q[7]; X q[8]; X q[9]; X q[10]; X q[11]; X q[12]; X q[13]; X q[14]; X q[15]; X q[16]; X q[0]; H q[1]; H q[2]; H q[3]; H q[4]; H q[5]; H q[6]; H q[7]; H q[8]; H q[9]; H q[10]; H q[11]; H q[12]; H q[13]; H q[14]; H q[15]; H q[16]; U3(0.5, 0.5, 1) q[0]; Unitary2qBox q[1], q[5]; Unitary2qBox q[2], q[6]; Unitary2qBox q[3], q[7]; Unitary2qBox q[4], q[8]; Unitary2qBox q[9], q[13]; Unitary2qBox q[10], q[14]; Unitary2qBox q[11], q[15]; Unitary2qBox q[12], q[16]; Unitary2qBox q[13], q[1]; Unitary2qBox q[14], q[2]; Unitary2qBox q[15], q[3]; Unitary2qBox q[16], q[4]; Unitary2qBox q[5], q[9]; Unitary2qBox q[6], q[10]; Unitary2qBox q[7], q[11]; Unitary2qBox q[8], q[12]; Unitary2qBox q[1], q[2]; Unitary2qBox q[3], q[4]; Unitary2qBox q[5], q[6]; Unitary2qBox q[7], q[8]; Unitary2qBox q[9], q[10]; Unitary2qBox q[11], q[12]; Unitary2qBox q[13], q[14]; Unitary2qBox q[15], q[16]; Unitary2qBox q[4], q[1]; Unitary2qBox q[2], q[3]; Unitary2qBox q[8], q[5]; Unitary2qBox q[6], q[7]; Unitary2qBox q[12], q[9]; Unitary2qBox q[10], q[11]; Unitary2qBox q[16], q[13]; Unitary2qBox q[14], q[15]; Unitary2qBox q[1], q[2]; Unitary2qBox q[3], q[4]; Unitary2qBox q[5], q[6]; Unitary2qBox q[7], q[8]; Unitary2qBox q[9], q[10]; Unitary2qBox q[11], q[12]; Unitary2qBox q[13], q[14]; Unitary2qBox q[15], q[16]; Unitary2qBox q[13], q[1]; Unitary2qBox q[14], q[2]; Unitary2qBox q[15], q[3]; Unitary2qBox q[16], q[4]; Unitary2qBox q[5], q[9]; Unitary2qBox q[6], q[10]; Unitary2qBox q[7], q[11]; Unitary2qBox q[8], q[12]; Unitary2qBox q[1], q[5]; Unitary2qBox q[2], q[6]; Unitary2qBox q[3], q[7]; Unitary2qBox q[4], q[8]; Unitary2qBox q[9], q[13]; Unitary2qBox q[10], q[14]; Unitary2qBox q[11], q[15]; Unitary2qBox q[12], q[16]; Unitary2qBox q[1], q[5]; Unitary2qBox q[2], q[6]; Unitary2qBox q[3], q[7]; Unitary2qBox q[4], q[8]; Unitary2qBox q[9], q[13]; Unitary2qBox q[10], q[14]; Unitary2qBox q[11], q[15]; Unitary2qBox q[12], q[16]; Unitary2qBox q[13], q[1]; Unitary2qBox q[14], q[2]; Unitary2qBox q[15], q[3]; Unitary2qBox q[16], q[4]; Unitary2qBox q[5], q[9]; Unitary2qBox q[6], q[10]; Unitary2qBox q[7], q[11]; Unitary2qBox q[8], q[12]; Unitary2qBox q[1], q[2]; Unitary2qBox q[3], q[4]; Unitary2qBox q[5], q[6]; Unitary2qBox q[7], q[8]; Unitary2qBox q[9], q[10]; Unitary2qBox q[11], q[12]; Unitary2qBox q[13], q[14]; Unitary2qBox q[15], q[16]; Unitary2qBox q[4], q[1]; Unitary2qBox q[2], q[3]; Unitary2qBox q[8], q[5]; Unitary2qBox q[6], q[7]; Unitary2qBox q[12], q[9]; Unitary2qBox q[10], q[11]; Unitary2qBox q[16], q[13]; Unitary2qBox q[14], q[15]; Unitary2qBox q[1], q[2]; Unitary2qBox q[3], q[4]; Unitary2qBox q[5], q[6]; Unitary2qBox q[7], q[8]; Unitary2qBox q[9], q[10]; Unitary2qBox q[11], q[12]; Unitary2qBox q[13], q[14]; Unitary2qBox q[15], q[16]; Unitary2qBox q[13], q[1]; Unitary2qBox q[14], q[2]; Unitary2qBox q[15], q[3]; Unitary2qBox q[16], q[4]; Unitary2qBox q[5], q[9]; Unitary2qBox q[6], q[10]; Unitary2qBox q[7], q[11]; Unitary2qBox q[8], q[12]; Unitary2qBox q[1], q[5]; Unitary2qBox q[2], q[6]; Unitary2qBox q[3], q[7]; Unitary2qBox q[4], q[8]; Unitary2qBox q[9], q[13]; Unitary2qBox q[10], q[14]; Unitary2qBox q[11], q[15]; Unitary2qBox q[12], q[16]; Unitary2qBox q[1], q[5]; Unitary2qBox q[2], q[6]; Unitary2qBox q[3], q[7]; Unitary2qBox q[4], q[8]; Unitary2qBox q[9], q[13]; Unitary2qBox q[10], q[14]; Unitary2qBox q[11], q[15]; Unitary2qBox q[12], q[16]; Unitary2qBox q[13], q[1]; Unitary2qBox q[14], q[2]; Unitary2qBox q[15], q[3]; Unitary2qBox q[16], q[4]; Unitary2qBox q[5], q[9]; Unitary2qBox q[6], q[10]; Unitary2qBox q[7], q[11]; Unitary2qBox q[8], q[12]; Unitary2qBox q[1], q[2]; Unitary2qBox q[3], q[4]; Unitary2qBox q[5], q[6]; Unitary2qBox q[7], q[8]; Unitary2qBox q[9], q[10]; Unitary2qBox q[11], q[12]; Unitary2qBox q[13], q[14]; Unitary2qBox q[15], q[16]; Unitary2qBox q[4], q[1]; Unitary2qBox q[2], q[3]; Unitary2qBox q[8], q[5]; Unitary2qBox q[6], q[7]; Unitary2qBox q[12], q[9]; Unitary2qBox q[10], q[11]; Unitary2qBox q[16], q[13]; Unitary2qBox q[14], q[15]; Unitary2qBox q[1], q[2]; Unitary2qBox q[3], q[4]; Unitary2qBox q[5], q[6]; Unitary2qBox q[7], q[8]; Unitary2qBox q[9], q[10]; Unitary2qBox q[11], q[12]; Unitary2qBox q[13], q[14]; Unitary2qBox q[15], q[16]; Unitary2qBox q[13], q[1]; Unitary2qBox q[14], q[2]; Unitary2qBox q[15], q[3]; Unitary2qBox q[16], q[4]; Unitary2qBox q[5], q[9]; Unitary2qBox q[6], q[10]; Unitary2qBox q[7], q[11]; Unitary2qBox q[8], q[12]; Unitary2qBox q[1], q[5]; Unitary2qBox q[2], q[6]; Unitary2qBox q[3], q[7]; Unitary2qBox q[4], q[8]; Unitary2qBox q[9], q[13]; Unitary2qBox q[10], q[14]; Unitary2qBox q[11], q[15]; Unitary2qBox q[12], q[16]; Unitary2qBox q[1], q[5]; Unitary2qBox q[2], q[6]; Unitary2qBox q[3], q[7]; Unitary2qBox q[4], q[8]; Unitary2qBox q[9], q[13]; Unitary2qBox q[10], q[14]; Unitary2qBox q[11], q[15]; Unitary2qBox q[12], q[16]; Unitary2qBox q[13], q[1]; Unitary2qBox q[14], q[2]; Unitary2qBox q[15], q[3]; Unitary2qBox q[16], q[4]; Unitary2qBox q[5], q[9]; Unitary2qBox q[6], q[10]; Unitary2qBox q[7], q[11]; Unitary2qBox q[8], q[12]; Unitary2qBox q[1], q[2]; Unitary2qBox q[3], q[4]; Unitary2qBox q[5], q[6]; Unitary2qBox q[7], q[8]; Unitary2qBox q[9], q[10]; Unitary2qBox q[11], q[12]; Unitary2qBox q[13], q[14]; Unitary2qBox q[15], q[16]; Unitary2qBox q[4], q[1]; Unitary2qBox q[2], q[3]; Unitary2qBox q[8], q[5]; Unitary2qBox q[6], q[7]; Unitary2qBox q[12], q[9]; Unitary2qBox q[10], q[11]; Unitary2qBox q[16], q[13]; Unitary2qBox q[14], q[15]; Unitary2qBox q[1], q[2]; Unitary2qBox q[3], q[4]; Unitary2qBox q[5], q[6]; Unitary2qBox q[7], q[8]; Unitary2qBox q[9], q[10]; Unitary2qBox q[11], q[12]; Unitary2qBox q[13], q[14]; Unitary2qBox q[15], q[16]; Unitary2qBox q[13], q[1]; Unitary2qBox q[14], q[2]; Unitary2qBox q[15], q[3]; Unitary2qBox q[16], q[4]; Unitary2qBox q[5], q[9]; Unitary2qBox q[6], q[10]; Unitary2qBox q[7], q[11]; Unitary2qBox q[8], q[12]; Unitary2qBox q[1], q[5]; Unitary2qBox q[2], q[6]; Unitary2qBox q[3], q[7]; Unitary2qBox q[4], q[8]; Unitary2qBox q[9], q[13]; Unitary2qBox q[10], q[14]; Unitary2qBox q[11], q[15]; Unitary2qBox q[12], q[16]; Unitary2qBox q[1], q[5]; Unitary2qBox q[2], q[6]; Unitary2qBox q[3], q[7]; Unitary2qBox q[4], q[8]; Unitary2qBox q[9], q[13]; Unitary2qBox q[10], q[14]; Unitary2qBox q[11], q[15]; Unitary2qBox q[12], q[16]; Unitary2qBox q[13], q[1]; Unitary2qBox q[14], q[2]; Unitary2qBox q[15], q[3]; Unitary2qBox q[16], q[4]; Unitary2qBox q[5], q[9]; Unitary2qBox q[6], q[10]; Unitary2qBox q[7], q[11]; Unitary2qBox q[8], q[12]; Unitary2qBox q[1], q[2]; Unitary2qBox q[3], q[4]; Unitary2qBox q[5], q[6]; Unitary2qBox q[7], q[8]; Unitary2qBox q[9], q[10]; Unitary2qBox q[11], q[12]; Unitary2qBox q[13], q[14]; Unitary2qBox q[15], q[16]; Unitary2qBox q[4], q[1]; Unitary2qBox q[2], q[3]; Unitary2qBox q[8], q[5]; Unitary2qBox q[6], q[7]; Unitary2qBox q[12], q[9]; Unitary2qBox q[10], q[11]; Unitary2qBox q[16], q[13]; Unitary2qBox q[14], q[15]; Unitary2qBox q[1], q[2]; Unitary2qBox q[3], q[4]; Unitary2qBox q[5], q[6]; Unitary2qBox q[7], q[8]; Unitary2qBox q[9], q[10]; Unitary2qBox q[11], q[12]; Unitary2qBox q[13], q[14]; Unitary2qBox q[15], q[16]; Unitary2qBox q[13], q[1]; Unitary2qBox q[14], q[2]; Unitary2qBox q[15], q[3]; Unitary2qBox q[16], q[4]; Unitary2qBox q[5], q[9]; Unitary2qBox q[6], q[10]; Unitary2qBox q[7], q[11]; Unitary2qBox q[8], q[12]; Unitary2qBox q[1], q[5]; Unitary2qBox q[2], q[6]; Unitary2qBox q[3], q[7]; Unitary2qBox q[4], q[8]; Unitary2qBox q[9], q[13]; Unitary2qBox q[10], q[14]; Unitary2qBox q[11], q[15]; Unitary2qBox q[12], q[16]; Unitary2qBox q[1], q[5]; Unitary2qBox q[2], q[6]; Unitary2qBox q[3], q[7]; Unitary2qBox q[4], q[8]; Unitary2qBox q[9], q[13]; Unitary2qBox q[10], q[14]; Unitary2qBox q[11], q[15]; Unitary2qBox q[12], q[16]; Unitary2qBox q[13], q[1]; Unitary2qBox q[14], q[2]; Unitary2qBox q[15], q[3]; Unitary2qBox q[16], q[4]; Unitary2qBox q[5], q[9]; Unitary2qBox q[6], q[10]; Unitary2qBox q[7], q[11]; Unitary2qBox q[8], q[12]; Unitary2qBox q[1], q[2]; Unitary2qBox q[3], q[4]; Unitary2qBox q[5], q[6]; Unitary2qBox q[7], q[8]; Unitary2qBox q[9], q[10]; Unitary2qBox q[11], q[12]; Unitary2qBox q[13], q[14]; Unitary2qBox q[15], q[16]; Unitary2qBox q[4], q[1]; Unitary2qBox q[2], q[3]; Unitary2qBox q[8], q[5]; Unitary2qBox q[6], q[7]; Unitary2qBox q[12], q[9]; Unitary2qBox q[10], q[11]; Unitary2qBox q[16], q[13]; Unitary2qBox q[14], q[15]; Unitary2qBox q[1], q[2]; Unitary2qBox q[3], q[4]; Unitary2qBox q[5], q[6]; Unitary2qBox q[7], q[8]; Unitary2qBox q[9], q[10]; Unitary2qBox q[11], q[12]; Unitary2qBox q[13], q[14]; Unitary2qBox q[15], q[16]; Unitary2qBox q[13], q[1]; Unitary2qBox q[14], q[2]; Unitary2qBox q[15], q[3]; Unitary2qBox q[16], q[4]; Unitary2qBox q[5], q[9]; Unitary2qBox q[6], q[10]; Unitary2qBox q[7], q[11]; Unitary2qBox q[8], q[12]; Unitary2qBox q[1], q[5]; Unitary2qBox q[2], q[6]; Unitary2qBox q[3], q[7]; Unitary2qBox q[4], q[8]; Unitary2qBox q[9], q[13]; Unitary2qBox q[10], q[14]; Unitary2qBox q[11], q[15]; Unitary2qBox q[12], q[16]; Unitary2qBox q[1], q[5]; Unitary2qBox q[2], q[6]; Unitary2qBox q[3], q[7]; Unitary2qBox q[4], q[8]; Unitary2qBox q[9], q[13]; Unitary2qBox q[10], q[14]; Unitary2qBox q[11], q[15]; Unitary2qBox q[12], q[16]; Unitary2qBox q[13], q[1]; Unitary2qBox q[14], q[2]; Unitary2qBox q[15], q[3]; Unitary2qBox q[16], q[4]; Unitary2qBox q[5], q[9]; Unitary2qBox q[6], q[10]; Unitary2qBox q[7], q[11]; Unitary2qBox q[8], q[12]; Unitary2qBox q[1], q[2]; Unitary2qBox q[3], q[4]; Unitary2qBox q[5], q[6]; Unitary2qBox q[7], q[8]; Unitary2qBox q[9], q[10]; Unitary2qBox q[11], q[12]; Unitary2qBox q[13], q[14]; Unitary2qBox q[15], q[16]; Unitary2qBox q[4], q[1]; Unitary2qBox q[2], q[3]; Unitary2qBox q[8], q[5]; Unitary2qBox q[6], q[7]; Unitary2qBox q[12], q[9]; Unitary2qBox q[10], q[11]; Unitary2qBox q[16], q[13]; Unitary2qBox q[14], q[15]; Unitary2qBox q[1], q[2]; Unitary2qBox q[3], q[4]; Unitary2qBox q[5], q[6]; Unitary2qBox q[7], q[8]; Unitary2qBox q[9], q[10]; Unitary2qBox q[11], q[12]; Unitary2qBox q[13], q[14]; Unitary2qBox q[15], q[16]; Unitary2qBox q[13], q[1]; Unitary2qBox q[14], q[2]; Unitary2qBox q[15], q[3]; Unitary2qBox q[16], q[4]; Unitary2qBox q[5], q[9]; Unitary2qBox q[6], q[10]; Unitary2qBox q[7], q[11]; Unitary2qBox q[8], q[12]; Unitary2qBox q[1], q[5]; Unitary2qBox q[2], q[6]; Unitary2qBox q[3], q[7]; Unitary2qBox q[4], q[8]; Unitary2qBox q[9], q[13]; Unitary2qBox q[10], q[14]; Unitary2qBox q[11], q[15]; Unitary2qBox q[12], q[16]; Unitary2qBox q[1], q[5]; Unitary2qBox q[2], q[6]; Unitary2qBox q[3], q[7]; Unitary2qBox q[4], q[8]; Unitary2qBox q[9], q[13]; Unitary2qBox q[10], q[14]; Unitary2qBox q[11], q[15]; Unitary2qBox q[12], q[16]; Unitary2qBox q[13], q[1]; Unitary2qBox q[14], q[2]; Unitary2qBox q[15], q[3]; Unitary2qBox q[16], q[4]; Unitary2qBox q[5], q[9]; Unitary2qBox q[6], q[10]; Unitary2qBox q[7], q[11]; Unitary2qBox q[8], q[12]; Unitary2qBox q[1], q[2]; Unitary2qBox q[3], q[4]; Unitary2qBox q[5], q[6]; Unitary2qBox q[7], q[8]; Unitary2qBox q[9], q[10]; Unitary2qBox q[11], q[12]; Unitary2qBox q[13], q[14]; Unitary2qBox q[15], q[16]; Unitary2qBox q[4], q[1]; Unitary2qBox q[2], q[3]; Unitary2qBox q[8], q[5]; Unitary2qBox q[6], q[7]; Unitary2qBox q[12], q[9]; Unitary2qBox q[10], q[11]; Unitary2qBox q[16], q[13]; Unitary2qBox q[14], q[15]; Unitary2qBox q[1], q[2]; Unitary2qBox q[3], q[4]; Unitary2qBox q[5], q[6]; Unitary2qBox q[7], q[8]; Unitary2qBox q[9], q[10]; Unitary2qBox q[11], q[12]; Unitary2qBox q[13], q[14]; Unitary2qBox q[15], q[16]; Unitary2qBox q[13], q[1]; Unitary2qBox q[14], q[2]; Unitary2qBox q[15], q[3]; Unitary2qBox q[16], q[4]; Unitary2qBox q[5], q[9]; Unitary2qBox q[6], q[10]; Unitary2qBox q[7], q[11]; Unitary2qBox q[8], q[12]; Unitary2qBox q[1], q[5]; Unitary2qBox q[2], q[6]; Unitary2qBox q[3], q[7]; Unitary2qBox q[4], q[8]; Unitary2qBox q[9], q[13]; Unitary2qBox q[10], q[14]; Unitary2qBox q[11], q[15]; Unitary2qBox q[12], q[16]; U3(0.668777, 1.49993, 1.99989) q[1]; U3(0.668777, 1.49993, 1.99989) q[2]; U3(0.668777, 1.49993, 1.99989) q[3]; U3(0.668777, 1.49993, 1.99989) q[4]; U3(0.99981, 1.51176, 1.9891) q[5]; U3(0.99981, 1.51176, 1.9891) q[6]; U3(0.99981, 1.51176, 1.9891) q[7]; U3(0.99981, 1.51176, 1.9891) q[8]; U3(0.668777, 1.49993, 1.99989) q[9]; U3(0.668777, 1.49993, 1.99989) q[10]; U3(0.668777, 1.49993, 1.99989) q[11]; U3(0.668777, 1.49993, 1.99989) q[12]; U3(0.99981, 1.51176, 1.9891) q[13]; U3(0.99981, 1.51176, 1.9891) q[14]; U3(0.99981, 1.51176, 1.9891) q[15]; U3(0.99981, 1.51176, 1.9891) q[16]; ZZPhase(3.5003) q[5], q[1]; ZZPhase(3.5003) q[6], q[2]; ZZPhase(3.5003) q[7], q[3]; ZZPhase(3.5003) q[8], q[4]; ZZPhase(3.5003) q[13], q[9]; ZZPhase(3.5003) q[14], q[10]; ZZPhase(3.5003) q[15], q[11]; ZZPhase(3.5003) q[16], q[12]; U3(0.5, 1.5, 0.5) q[1]; U3(0.5, 1.5, 0.5) q[2]; U3(0.5, 1.5, 0.5) q[3]; U3(0.5, 1.5, 0.5) q[4]; U3(0.5, 1.5, 0.5) q[5]; U3(0.5, 1.5, 0.5) q[6]; U3(0.5, 1.5, 0.5) q[7]; U3(0.5, 1.5, 0.5) q[8]; U3(0.5, 1.5, 0.5) q[9]; U3(0.5, 1.5, 0.5) q[10]; U3(0.5, 1.5, 0.5) q[11]; U3(0.5, 1.5, 0.5) q[12]; U3(0.5, 1.5, 0.5) q[13]; U3(0.5, 1.5, 0.5) q[14]; U3(0.5, 1.5, 0.5) q[15]; U3(0.5, 1.5, 0.5) q[16]; ZZPhase(3.84716) q[5], q[1]; ZZPhase(3.84716) q[6], q[2]; ZZPhase(3.84716) q[7], q[3]; ZZPhase(3.84716) q[8], q[4]; ZZPhase(3.84716) q[13], q[9]; ZZPhase(3.84716) q[14], q[10]; ZZPhase(3.84716) q[15], q[11]; ZZPhase(3.84716) q[16], q[12]; U3(0.5, 1.5, 0) q[1]; U3(0.5, 1.5, 0) q[2]; U3(0.5, 1.5, 0) q[3]; U3(0.5, 1.5, 0) q[4]; U3(0.5, 1.5, 0) q[5]; U3(0.5, 1.5, 0) q[6]; U3(0.5, 1.5, 0) q[7]; U3(0.5, 1.5, 0) q[8]; U3(0.5, 1.5, 0) q[9]; U3(0.5, 1.5, 0) q[10]; U3(0.5, 1.5, 0) q[11]; U3(0.5, 1.5, 0) q[12]; U3(0.5, 1.5, 0) q[13]; U3(0.5, 1.5, 0) q[14]; U3(0.5, 1.5, 0) q[15]; U3(0.5, 1.5, 0) q[16]; ZZPhase(0.000189669) q[5], q[1]; ZZPhase(0.000189669) q[6], q[2]; ZZPhase(0.000189669) q[7], q[3]; ZZPhase(0.000189669) q[8], q[4]; ZZPhase(0.000189669) q[13], q[9]; ZZPhase(0.000189669) q[14], q[10]; ZZPhase(0.000189669) q[15], q[11]; ZZPhase(0.000189669) q[16], q[12]; U3(0.500047, 0.500494, 1.4994) q[1]; U3(0.500047, 0.500494, 1.4994) q[2]; U3(0.500047, 0.500494, 1.4994) q[3]; U3(0.500047, 0.500494, 1.4994) q[4]; U3(0.4327, 0.365769, 1.08718) q[5]; U3(0.4327, 0.365769, 1.08718) q[6]; U3(0.4327, 0.365769, 1.08718) q[7]; U3(0.4327, 0.365769, 1.08718) q[8]; U3(0.500047, 0.500494, 1.4994) q[9]; U3(0.500047, 0.500494, 1.4994) q[10]; U3(0.500047, 0.500494, 1.4994) q[11]; U3(0.500047, 0.500494, 1.4994) q[12]; U3(0.4327, 0.365769, 1.08718) q[13]; U3(0.4327, 0.365769, 1.08718) q[14]; U3(0.4327, 0.365769, 1.08718) q[15]; U3(0.4327, 0.365769, 1.08718) q[16]; ZZPhase(3.5) q[5], q[0]; U3(0.249831, 1, 1.5) q[0]; U3(0, 0, 0.5) q[5]; ZZPhase(3.5) q[1], q[0]; U3(0.249975, 0, 0.5) q[0]; U3(0, 0, 0.5) q[1]; ZZPhase(3.5) q[5], q[0]; U3(4.79954e-05, 0, 0.5) q[0]; U3(0, 0, 0.5) q[5]; ZZPhase(3.5) q[1], q[0]; U3(0.5, 0.5, 1) q[0]; U3(0, 0, 0.5) q[1]; ZZPhase(3.5) q[5], q[0]; U3(0, 1, 1.5) q[0]; U3(0, 0, 0.5) q[5]; ZZPhase(3.5) q[1], q[0]; U3(0, 1, 1.5) q[0]; U3(1, 1.0108, 0.0107997) q[1]; ZZPhase(3.5) q[5], q[0]; U3(0.5, 0.5, 1) q[0]; ZZPhase(3.64761) q[5], q[1]; U3(1, 1.35686, 0.856813) q[1]; U3(0, 1.01446, 1.13329) q[5]; ZZPhase(3.5) q[5], q[0]; U3(0.250169, 0, 0.5) q[0]; U3(0, 0, 0.5) q[5]; ZZPhase(3.5) q[1], q[0]; U3(0.250025, 1, 1.5) q[0]; U3(0, 0, 0.5) q[1]; ZZPhase(3.5) q[5], q[0]; U3(4.79954e-05, 0, 0.5) q[0]; U3(0.176631, 0.936592, 0.035655) q[5]; ZZPhase(3.5) q[1], q[0]; U3(0.5, 0, 1) q[0]; U3(0.500014, 0.498992, 1.49936) q[1]; U3(0.5, 0.5, 1) q[0]; ZZPhase(3.50064) q[5], q[1]; ZZPhase(3.5) q[6], q[0]; U3(0.5, 1.5, 0.5) q[1]; U3(0.5, 1.5, 0.5) q[5]; U3(0.249831, 1, 1.5) q[0]; ZZPhase(3.93989) q[5], q[1]; U3(0, 0, 0.5) q[6]; ZZPhase(3.5) q[2], q[0]; U3(0.503518, 1.99911, 0.499963) q[1]; U3(0.500003, 1.5279, 1.50009) q[5]; U3(0.249975, 0, 0.5) q[0]; U3(0.924661, 0.498487, 1.50255) q[1]; U3(0, 0, 0.5) q[2]; U3(0.0752859, 1.50113, 0.498986) q[5]; ZZPhase(3.5) q[6], q[0]; ZZPhase(3.9319) q[5], q[1]; U3(4.79954e-05, 0, 0.5) q[0]; U3(0.5, 1.5, 0.5) q[1]; U3(0.5, 1.5, 0.5) q[5]; U3(0, 0, 0.5) q[6]; ZZPhase(3.5) q[2], q[0]; ZZPhase(3.99658) q[5], q[1]; U3(0.5, 0.5, 1) q[0]; U3(0.444258, 1.49661, 0.499445) q[1]; U3(0, 0, 0.5) q[2]; U3(0.555766, 0.500054, 1.49986) q[5]; ZZPhase(3.5) q[6], q[0]; U3(0.0752859, 1.50113, 0.498986) q[1]; U3(0.924661, 0.498487, 1.50255) q[5]; U3(0, 1, 1.5) q[0]; U3(0, 0, 0.5) q[6]; ZZPhase(3.5) q[2], q[0]; U3(0, 1, 1.5) q[0]; U3(1, 1.0108, 0.0107997) q[2]; ZZPhase(3.5) q[6], q[0]; U3(0.5, 0.5, 1) q[0]; ZZPhase(3.64761) q[6], q[2]; U3(1, 1.35686, 0.856813) q[2]; U3(0, 1.01446, 1.13329) q[6]; ZZPhase(3.5) q[6], q[0]; U3(0.250169, 0, 0.5) q[0]; U3(0, 0, 0.5) q[6]; ZZPhase(3.5) q[2], q[0]; U3(0.250025, 1, 1.5) q[0]; U3(0, 0, 0.5) q[2]; ZZPhase(3.5) q[6], q[0]; U3(4.79954e-05, 0, 0.5) q[0]; U3(0.176631, 0.936592, 0.035655) q[6]; ZZPhase(3.5) q[2], q[0]; U3(0.5, 0, 1) q[0]; U3(0.500014, 0.498992, 1.49936) q[2]; U3(0.5, 0.5, 1) q[0]; ZZPhase(3.50064) q[6], q[2]; ZZPhase(3.5) q[7], q[0]; U3(0.5, 1.5, 0.5) q[2]; U3(0.5, 1.5, 0.5) q[6]; U3(0.249831, 1, 1.5) q[0]; ZZPhase(3.93989) q[6], q[2]; U3(0, 0, 0.5) q[7]; ZZPhase(3.5) q[3], q[0]; U3(0.503518, 1.99911, 0.499963) q[2]; U3(0.500003, 1.5279, 1.50009) q[6]; U3(0.249975, 0, 0.5) q[0]; U3(0.924661, 0.498487, 1.50255) q[2]; U3(0, 0, 0.5) q[3]; U3(0.0752859, 1.50113, 0.498986) q[6]; ZZPhase(3.5) q[7], q[0]; ZZPhase(3.9319) q[6], q[2]; U3(4.79954e-05, 0, 0.5) q[0]; U3(0.5, 1.5, 0.5) q[2]; U3(0.5, 1.5, 0.5) q[6]; U3(0, 0, 0.5) q[7]; ZZPhase(3.5) q[3], q[0]; ZZPhase(3.99658) q[6], q[2]; U3(0.5, 0.5, 1) q[0]; U3(0.444258, 1.49661, 0.499445) q[2]; U3(0, 0, 0.5) q[3]; U3(0.555766, 0.500054, 1.49986) q[6]; ZZPhase(3.5) q[7], q[0]; U3(0.0752859, 1.50113, 0.498986) q[2]; U3(0.924661, 0.498487, 1.50255) q[6]; U3(0, 1, 1.5) q[0]; U3(0, 0, 0.5) q[7]; ZZPhase(3.5) q[3], q[0]; U3(0, 1, 1.5) q[0]; U3(1, 1.0108, 0.0107997) q[3]; ZZPhase(3.5) q[7], q[0]; U3(0.5, 0.5, 1) q[0]; ZZPhase(3.64761) q[7], q[3]; U3(1, 1.35686, 0.856813) q[3]; U3(0, 1.01446, 1.13329) q[7]; ZZPhase(3.5) q[7], q[0]; U3(0.250169, 0, 0.5) q[0]; U3(0, 0, 0.5) q[7]; ZZPhase(3.5) q[3], q[0]; U3(0.250025, 1, 1.5) q[0]; U3(0, 0, 0.5) q[3]; ZZPhase(3.5) q[7], q[0]; U3(4.79954e-05, 0, 0.5) q[0]; U3(0.176631, 0.936592, 0.035655) q[7]; ZZPhase(3.5) q[3], q[0]; U3(0.5, 0, 1) q[0]; U3(0.500014, 0.498992, 1.49936) q[3]; U3(0.5, 0.5, 1) q[0]; ZZPhase(3.50064) q[7], q[3]; ZZPhase(3.5) q[8], q[0]; U3(0.5, 1.5, 0.5) q[3]; U3(0.5, 1.5, 0.5) q[7]; U3(0.249831, 1, 1.5) q[0]; ZZPhase(3.93989) q[7], q[3]; U3(0, 0, 0.5) q[8]; ZZPhase(3.5) q[4], q[0]; U3(0.503518, 1.99911, 0.499963) q[3]; U3(0.500003, 1.5279, 1.50009) q[7]; U3(0.249975, 0, 0.5) q[0]; U3(0.924661, 0.498487, 1.50255) q[3]; U3(0, 0, 0.5) q[4]; U3(0.0752859, 1.50113, 0.498986) q[7]; ZZPhase(3.5) q[8], q[0]; ZZPhase(3.9319) q[7], q[3]; U3(4.79954e-05, 0, 0.5) q[0]; U3(0.5, 1.5, 0.5) q[3]; U3(0.5, 1.5, 0.5) q[7]; U3(0, 0, 0.5) q[8]; ZZPhase(3.5) q[4], q[0]; ZZPhase(3.99658) q[7], q[3]; U3(0.5, 0.5, 1) q[0]; U3(0.444258, 1.49661, 0.499445) q[3]; U3(0, 0, 0.5) q[4]; U3(0.555766, 0.500054, 1.49986) q[7]; ZZPhase(3.5) q[8], q[0]; U3(0.0752859, 1.50113, 0.498986) q[3]; U3(0.924661, 0.498487, 1.50255) q[7]; U3(0, 1, 1.5) q[0]; U3(0, 0, 0.5) q[8]; ZZPhase(3.5) q[4], q[0]; U3(0, 1, 1.5) q[0]; U3(1, 1.0108, 0.0107997) q[4]; ZZPhase(3.5) q[8], q[0]; U3(0.5, 0.5, 1) q[0]; ZZPhase(3.64761) q[8], q[4]; U3(1, 1.35686, 0.856813) q[4]; U3(0, 1.01446, 1.13329) q[8]; ZZPhase(3.5) q[8], q[0]; U3(0.250169, 0, 0.5) q[0]; U3(0, 0, 0.5) q[8]; ZZPhase(3.5) q[4], q[0]; U3(0.250025, 1, 1.5) q[0]; U3(0, 0, 0.5) q[4]; ZZPhase(3.5) q[8], q[0]; U3(4.79954e-05, 0, 0.5) q[0]; U3(0.176631, 0.936592, 0.035655) q[8]; ZZPhase(3.5) q[4], q[0]; U3(0.5, 0, 1) q[0]; U3(0.500014, 0.498992, 1.49936) q[4]; U3(0.5, 0.5, 1) q[0]; ZZPhase(3.50064) q[8], q[4]; ZZPhase(3.5) q[13], q[0]; U3(0.5, 1.5, 0.5) q[4]; U3(0.5, 1.5, 0.5) q[8]; U3(0.249831, 1, 1.5) q[0]; ZZPhase(3.93989) q[8], q[4]; U3(0, 0, 0.5) q[13]; ZZPhase(3.5) q[9], q[0]; U3(0.503518, 1.99911, 0.499963) q[4]; U3(0.500003, 1.5279, 1.50009) q[8]; U3(0.249975, 0, 0.5) q[0]; U3(0.924661, 0.498487, 1.50255) q[4]; U3(0.0752859, 1.50113, 0.498986) q[8]; U3(0, 0, 0.5) q[9]; ZZPhase(3.5) q[13], q[0]; ZZPhase(3.9319) q[8], q[4]; U3(4.79954e-05, 0, 0.5) q[0]; U3(0.5, 1.5, 0.5) q[4]; U3(0.5, 1.5, 0.5) q[8]; U3(0, 0, 0.5) q[13]; ZZPhase(3.5) q[9], q[0]; ZZPhase(3.99658) q[8], q[4]; U3(0.5, 0.5, 1) q[0]; U3(0.444258, 1.49661, 0.499445) q[4]; U3(0.555766, 0.500054, 1.49986) q[8]; U3(0, 0, 0.5) q[9]; ZZPhase(3.5) q[13], q[0]; U3(0.0752859, 1.50113, 0.498986) q[4]; U3(0.924661, 0.498487, 1.50255) q[8]; U3(0, 1, 1.5) q[0]; U3(0, 0, 0.5) q[13]; ZZPhase(3.5) q[9], q[0]; U3(0, 1, 1.5) q[0]; U3(1, 1.0108, 0.0107997) q[9]; ZZPhase(3.5) q[13], q[0]; U3(0.5, 0.5, 1) q[0]; ZZPhase(3.64761) q[13], q[9]; U3(1, 1.35686, 0.856813) q[9]; U3(0, 1.01446, 1.13329) q[13]; ZZPhase(3.5) q[13], q[0]; U3(0.250169, 0, 0.5) q[0]; U3(0, 0, 0.5) q[13]; ZZPhase(3.5) q[9], q[0]; U3(0.250025, 1, 1.5) q[0]; U3(0, 0, 0.5) q[9]; ZZPhase(3.5) q[13], q[0]; U3(4.79954e-05, 0, 0.5) q[0]; U3(0.176631, 0.936592, 0.035655) q[13]; ZZPhase(3.5) q[9], q[0]; U3(0.5, 0, 1) q[0]; U3(0.500014, 0.498992, 1.49936) q[9]; U3(0.5, 0.5, 1) q[0]; ZZPhase(3.50064) q[13], q[9]; ZZPhase(3.5) q[14], q[0]; U3(0.5, 1.5, 0.5) q[9]; U3(0.5, 1.5, 0.5) q[13]; U3(0.249831, 1, 1.5) q[0]; ZZPhase(3.93989) q[13], q[9]; U3(0, 0, 0.5) q[14]; ZZPhase(3.5) q[10], q[0]; U3(0.503518, 1.99911, 0.499963) q[9]; U3(0.500003, 1.5279, 1.50009) q[13]; U3(0.249975, 0, 0.5) q[0]; U3(0.924661, 0.498487, 1.50255) q[9]; U3(0, 0, 0.5) q[10]; U3(0.0752859, 1.50113, 0.498986) q[13]; ZZPhase(3.5) q[14], q[0]; ZZPhase(3.9319) q[13], q[9]; U3(4.79954e-05, 0, 0.5) q[0]; U3(0.5, 1.5, 0.5) q[9]; U3(0.5, 1.5, 0.5) q[13]; U3(0, 0, 0.5) q[14]; ZZPhase(3.5) q[10], q[0]; ZZPhase(3.99658) q[13], q[9]; U3(0.5, 0.5, 1) q[0]; U3(0.444258, 1.49661, 0.499445) q[9]; U3(0, 0, 0.5) q[10]; U3(0.555766, 0.500054, 1.49986) q[13]; ZZPhase(3.5) q[14], q[0]; U3(0.0752859, 1.50113, 0.498986) q[9]; U3(0.924661, 0.498487, 1.50255) q[13]; U3(0, 1, 1.5) q[0]; ZZPhase(3.9319) q[1], q[13]; ZZPhase(3.9319) q[9], q[5]; U3(0, 0, 0.5) q[14]; ZZPhase(3.5) q[10], q[0]; U3(0.5, 1.5, 0.5) q[1]; U3(0.5, 1.5, 0.5) q[5]; U3(0.5, 1.5, 0.5) q[9]; U3(0.5, 1.5, 0.5) q[13]; U3(0, 1, 1.5) q[0]; ZZPhase(3.99658) q[1], q[13]; ZZPhase(3.99658) q[9], q[5]; U3(1, 1.0108, 0.0107997) q[10]; ZZPhase(3.5) q[14], q[0]; U3(0.555766, 0.500054, 1.49986) q[1]; U3(0.444258, 1.49661, 0.499445) q[5]; U3(0.555766, 0.500054, 1.49986) q[9]; U3(0.444258, 1.49661, 0.499445) q[13]; U3(0.5, 0.5, 1) q[0]; U3(0.00291816, 0.814439, 1.18309) q[1]; U3(0.00946577, 0.181874, 0.804505) q[5]; U3(0.00291816, 0.814439, 1.18309) q[9]; ZZPhase(3.64761) q[14], q[10]; U3(0.00946577, 0.181874, 0.804505) q[13]; ZZPhase(3.99091) q[5], q[1]; ZZPhase(3.99091) q[13], q[9]; U3(1, 1.35686, 0.856813) q[10]; U3(0, 1.01446, 1.13329) q[14]; ZZPhase(3.5) q[14], q[0]; U3(0.5, 1.5, 0.5) q[1]; U3(0.5, 1.5, 0.5) q[5]; U3(0.5, 1.5, 0.5) q[9]; U3(0.5, 1.5, 0.5) q[13]; U3(0.250169, 0, 0.5) q[0]; ZZPhase(3.99742) q[5], q[1]; ZZPhase(3.99742) q[13], q[9]; U3(0, 0, 0.5) q[14]; ZZPhase(3.5) q[10], q[0]; U3(0.5, 1.5, 0) q[1]; U3(0.5, 1.5, 0) q[5]; U3(0.5, 1.5, 0) q[9]; U3(0.5, 1.5, 0) q[13]; U3(0.250025, 1, 1.5) q[0]; ZZPhase(5.3099e-05) q[5], q[1]; ZZPhase(5.3099e-05) q[13], q[9]; U3(0, 0, 0.5) q[10]; ZZPhase(3.5) q[14], q[0]; U3(0.497683, 1.00267, 1.93219) q[1]; U3(0.505255, 0.0152119, 0.0609269) q[5]; U3(0.497683, 1.00267, 1.93219) q[9]; U3(0.505255, 0.0152119, 0.0609269) q[13]; U3(4.79954e-05, 0, 0.5) q[0]; U3(0.00946577, 0.181874, 0.804505) q[1]; U3(0.00291816, 0.814439, 1.18309) q[5]; U3(0.00946577, 0.181874, 0.804505) q[9]; U3(0.00291816, 0.814439, 1.18309) q[13]; U3(0.176631, 0.936592, 0.035655) q[14]; ZZPhase(3.5) q[10], q[0]; ZZPhase(3.99091) q[1], q[13]; ZZPhase(3.99091) q[9], q[5]; U3(0.5, 0, 1) q[0]; U3(0.5, 1.5, 0.5) q[1]; U3(0.5, 1.5, 0.5) q[5]; U3(0.5, 1.5, 0.5) q[9]; U3(0.500014, 0.498992, 1.49936) q[10]; U3(0.5, 1.5, 0.5) q[13]; U3(0.5, 0.5, 1) q[0]; ZZPhase(3.99742) q[1], q[13]; ZZPhase(3.99742) q[9], q[5]; ZZPhase(3.50064) q[14], q[10]; ZZPhase(3.5) q[15], q[0]; U3(0.5, 1.5, 0) q[1]; U3(0.5, 1.5, 0) q[5]; U3(0.5, 1.5, 0) q[9]; U3(0.5, 1.5, 0.5) q[10]; U3(0.5, 1.5, 0) q[13]; U3(0.5, 1.5, 0.5) q[14]; U3(0.249831, 1, 1.5) q[0]; ZZPhase(5.3099e-05) q[1], q[13]; ZZPhase(5.3099e-05) q[9], q[5]; ZZPhase(3.93989) q[14], q[10]; U3(0, 0, 0.5) q[15]; ZZPhase(3.5) q[11], q[0]; U3(0.505255, 0.0152119, 0.0609269) q[1]; U3(0.497683, 1.00267, 1.93219) q[5]; U3(0.505255, 0.0152119, 0.0609269) q[9]; U3(0.503518, 1.99911, 0.499963) q[10]; U3(0.497683, 1.00267, 1.93219) q[13]; U3(0.500003, 1.5279, 1.50009) q[14]; U3(0.249975, 0, 0.5) q[0]; U3(0.94985, 0.500328, 0.500054) q[1]; U3(0.0468347, 0.532275, 1.46436) q[5]; U3(0.94985, 0.500328, 0.500054) q[9]; U3(0.924661, 0.498487, 1.50255) q[10]; U3(0, 0, 0.5) q[11]; U3(0.0468347, 0.532275, 1.46436) q[13]; U3(0.0752859, 1.50113, 0.498986) q[14]; ZZPhase(3.5) q[15], q[0]; ZZPhase(3.97677) q[5], q[1]; ZZPhase(3.97677) q[13], q[9]; ZZPhase(3.9319) q[14], q[10]; U3(4.79954e-05, 0, 0.5) q[0]; U3(0.5, 1.5, 0.5) q[1]; U3(0.5, 1.5, 0.5) q[5]; U3(0.5, 1.5, 0.5) q[9]; U3(0.5, 1.5, 0.5) q[10]; U3(0.5, 1.5, 0.5) q[13]; U3(0.5, 1.5, 0.5) q[14]; U3(0, 0, 0.5) q[15]; ZZPhase(3.5) q[11], q[0]; ZZPhase(3.99105) q[5], q[1]; ZZPhase(3.99105) q[13], q[9]; ZZPhase(3.99658) q[14], q[10]; U3(0.5, 0.5, 1) q[0]; U3(0.5, 1.5, 0) q[1]; U3(0.5, 1.5, 0) q[5]; U3(0.5, 1.5, 0) q[9]; U3(0.444258, 1.49661, 0.499445) q[10]; U3(0, 0, 0.5) q[11]; U3(0.5, 1.5, 0) q[13]; U3(0.555766, 0.500054, 1.49986) q[14]; ZZPhase(3.5) q[15], q[0]; ZZPhase(3.99996) q[5], q[1]; ZZPhase(3.99996) q[13], q[9]; U3(0.0752859, 1.50113, 0.498986) q[10]; U3(0.924661, 0.498487, 1.50255) q[14]; U3(0, 1, 1.5) q[0]; U3(0.49905, 1.99933, 1.03488) q[1]; ZZPhase(3.9319) q[2], q[14]; U3(0.495372, 1.00341, 1.96835) q[5]; ZZPhase(3.9319) q[10], q[6]; U3(0.49905, 1.99933, 1.03488) q[9]; U3(0.495372, 1.00341, 1.96835) q[13]; U3(0, 0, 0.5) q[15]; ZZPhase(3.5) q[11], q[0]; U3(0.0468347, 0.532275, 1.46436) q[1]; U3(0.5, 1.5, 0.5) q[2]; U3(0.94985, 0.500328, 0.500054) q[5]; U3(0.5, 1.5, 0.5) q[6]; U3(0.0468347, 0.532275, 1.46436) q[9]; U3(0.5, 1.5, 0.5) q[10]; U3(0.94985, 0.500328, 0.500054) q[13]; U3(0.5, 1.5, 0.5) q[14]; U3(0, 1, 1.5) q[0]; ZZPhase(3.97677) q[1], q[13]; ZZPhase(3.99658) q[2], q[14]; ZZPhase(3.97677) q[9], q[5]; ZZPhase(3.99658) q[10], q[6]; U3(1, 1.0108, 0.0107997) q[11]; ZZPhase(3.5) q[15], q[0]; U3(0.5, 1.5, 0.5) q[1]; U3(0.555766, 0.500054, 1.49986) q[2]; U3(0.5, 1.5, 0.5) q[5]; U3(0.444258, 1.49661, 0.499445) q[6]; U3(0.5, 1.5, 0.5) q[9]; U3(0.555766, 0.500054, 1.49986) q[10]; U3(0.5, 1.5, 0.5) q[13]; U3(0.444258, 1.49661, 0.499445) q[14]; U3(0.5, 0.5, 1) q[0]; ZZPhase(3.99105) q[1], q[13]; U3(0.00291816, 0.814439, 1.18309) q[2]; ZZPhase(3.99105) q[9], q[5]; U3(0.00946577, 0.181874, 0.804505) q[6]; U3(0.00291816, 0.814439, 1.18309) q[10]; ZZPhase(3.64761) q[15], q[11]; U3(0.00946577, 0.181874, 0.804505) q[14]; U3(0.5, 1.5, 0) q[1]; ZZPhase(3.99091) q[6], q[2]; U3(0.5, 1.5, 0) q[5]; U3(0.5, 1.5, 0) q[9]; ZZPhase(3.99091) q[14], q[10]; U3(1, 1.35686, 0.856813) q[11]; U3(0.5, 1.5, 0) q[13]; U3(0, 1.01446, 1.13329) q[15]; ZZPhase(3.5) q[15], q[0]; ZZPhase(3.99996) q[1], q[13]; U3(0.5, 1.5, 0.5) q[2]; ZZPhase(3.99996) q[9], q[5]; U3(0.5, 1.5, 0.5) q[6]; U3(0.5, 1.5, 0.5) q[10]; U3(0.5, 1.5, 0.5) q[14]; U3(0.250169, 0, 0.5) q[0]; U3(0.495372, 1.00341, 1.96835) q[1]; ZZPhase(3.99742) q[6], q[2]; U3(0.49905, 1.99933, 1.03488) q[5]; U3(0.495372, 1.00341, 1.96835) q[9]; ZZPhase(3.99742) q[14], q[10]; U3(0.49905, 1.99933, 1.03488) q[13]; U3(0, 0, 0.5) q[15]; ZZPhase(3.5) q[11], q[0]; U3(0.501848, 1.50012, 0.999938) q[1]; U3(0.5, 1.5, 0) q[2]; U3(0.000210232, 1.35719, 0.104508) q[5]; U3(0.5, 1.5, 0) q[6]; U3(0.501848, 1.50012, 0.999938) q[9]; U3(0.5, 1.5, 0) q[10]; U3(0.000210232, 1.35719, 0.104508) q[13]; U3(0.5, 1.5, 0) q[14]; U3(0.250025, 1, 1.5) q[0]; ZZPhase(3.50001) q[5], q[1]; ZZPhase(5.3099e-05) q[6], q[2]; ZZPhase(3.50001) q[13], q[9]; ZZPhase(5.3099e-05) q[14], q[10]; U3(0, 0, 0.5) q[11]; ZZPhase(3.5) q[15], q[0]; U3(0.5, 1.5, 0.5) q[1]; U3(0.497683, 1.00267, 1.93219) q[2]; U3(0.5, 1.5, 0.5) q[5]; U3(0.505255, 0.0152119, 0.0609269) q[6]; U3(0.5, 1.5, 0.5) q[9]; U3(0.497683, 1.00267, 1.93219) q[10]; U3(0.5, 1.5, 0.5) q[13]; U3(0.505255, 0.0152119, 0.0609269) q[14]; U3(4.79954e-05, 0, 0.5) q[0]; ZZPhase(3.89408) q[5], q[1]; U3(0.00946577, 0.181874, 0.804505) q[2]; U3(0.00291816, 0.814439, 1.18309) q[6]; ZZPhase(3.89408) q[13], q[9]; U3(0.00946577, 0.181874, 0.804505) q[10]; U3(0.00291816, 0.814439, 1.18309) q[14]; U3(0.176631, 0.936592, 0.035655) q[15]; ZZPhase(3.5) q[11], q[0]; U3(0.5, 1.5, 0) q[1]; ZZPhase(3.99091) q[2], q[14]; U3(0.5, 1.5, 0) q[5]; ZZPhase(3.99091) q[10], q[6]; U3(0.5, 1.5, 0) q[9]; U3(0.5, 1.5, 0) q[13]; U3(0.5, 0, 1) q[0]; ZZPhase(3.99984) q[5], q[1]; U3(0.5, 1.5, 0.5) q[2]; U3(0.5, 1.5, 0.5) q[6]; ZZPhase(3.99984) q[13], q[9]; U3(0.5, 1.5, 0.5) q[10]; U3(0.500014, 0.498992, 1.49936) q[11]; U3(0.5, 1.5, 0.5) q[14]; U3(0.5, 0.5, 1) q[0]; U3(0.499972, 0.499457, 0.50074) q[1]; ZZPhase(3.99742) q[2], q[14]; U3(0.475012, 0.0381844, 0.0105589) q[5]; ZZPhase(3.99742) q[10], q[6]; U3(0.499972, 0.499457, 0.50074) q[9]; ZZPhase(3.50064) q[15], q[11]; U3(0.475012, 0.0381844, 0.0105589) q[13]; ZZPhase(3.5) q[16], q[0]; U3(0.5, 1.5, 0) q[2]; U3(0.5, 1.5, 0) q[6]; U3(0.5, 1.5, 0) q[10]; U3(0.5, 1.5, 0.5) q[11]; U3(0.5, 1.5, 0) q[14]; U3(0.5, 1.5, 0.5) q[15]; U3(0.249831, 1, 1.5) q[0]; ZZPhase(5.3099e-05) q[2], q[14]; ZZPhase(5.3099e-05) q[10], q[6]; ZZPhase(3.93989) q[15], q[11]; U3(0, 0, 0.5) q[16]; ZZPhase(3.5) q[12], q[0]; U3(0.505255, 0.0152119, 0.0609269) q[2]; U3(0.497683, 1.00267, 1.93219) q[6]; U3(0.505255, 0.0152119, 0.0609269) q[10]; U3(0.503518, 1.99911, 0.499963) q[11]; U3(0.497683, 1.00267, 1.93219) q[14]; U3(0.500003, 1.5279, 1.50009) q[15]; U3(0.249975, 0, 0.5) q[0]; U3(0.94985, 0.500328, 0.500054) q[2]; U3(0.0468347, 0.532275, 1.46436) q[6]; U3(0.94985, 0.500328, 0.500054) q[10]; U3(0.924661, 0.498487, 1.50255) q[11]; U3(0, 0, 0.5) q[12]; U3(0.0468347, 0.532275, 1.46436) q[14]; U3(0.0752859, 1.50113, 0.498986) q[15]; ZZPhase(3.5) q[16], q[0]; ZZPhase(3.97677) q[6], q[2]; ZZPhase(3.97677) q[14], q[10]; ZZPhase(3.9319) q[15], q[11]; U3(4.79954e-05, 0, 0.5) q[0]; U3(0.5, 1.5, 0.5) q[2]; U3(0.5, 1.5, 0.5) q[6]; U3(0.5, 1.5, 0.5) q[10]; U3(0.5, 1.5, 0.5) q[11]; U3(0.5, 1.5, 0.5) q[14]; U3(0.5, 1.5, 0.5) q[15]; U3(0, 0, 0.5) q[16]; ZZPhase(3.5) q[12], q[0]; ZZPhase(3.99105) q[6], q[2]; ZZPhase(3.99105) q[14], q[10]; ZZPhase(3.99658) q[15], q[11]; U3(0.5, 0.5, 1) q[0]; U3(0.5, 1.5, 0) q[2]; U3(0.5, 1.5, 0) q[6]; U3(0.5, 1.5, 0) q[10]; U3(0.444258, 1.49661, 0.499445) q[11]; U3(0, 0, 0.5) q[12]; U3(0.5, 1.5, 0) q[14]; U3(0.555766, 0.500054, 1.49986) q[15]; ZZPhase(3.5) q[16], q[0]; ZZPhase(3.99996) q[6], q[2]; ZZPhase(3.99996) q[14], q[10]; U3(0.0752859, 1.50113, 0.498986) q[11]; U3(0.924661, 0.498487, 1.50255) q[15]; U3(0, 1, 1.5) q[0]; U3(0.49905, 1.99933, 1.03488) q[2]; ZZPhase(3.9319) q[3], q[15]; U3(0.495372, 1.00341, 1.96835) q[6]; ZZPhase(3.9319) q[11], q[7]; U3(0.49905, 1.99933, 1.03488) q[10]; U3(0.495372, 1.00341, 1.96835) q[14]; U3(0, 0, 0.5) q[16]; ZZPhase(3.5) q[12], q[0]; U3(0.0468347, 0.532275, 1.46436) q[2]; U3(0.5, 1.5, 0.5) q[3]; U3(0.94985, 0.500328, 0.500054) q[6]; U3(0.5, 1.5, 0.5) q[7]; U3(0.0468347, 0.532275, 1.46436) q[10]; U3(0.5, 1.5, 0.5) q[11]; U3(0.94985, 0.500328, 0.500054) q[14]; U3(0.5, 1.5, 0.5) q[15]; U3(0, 1, 1.5) q[0]; ZZPhase(3.97677) q[2], q[14]; ZZPhase(3.99658) q[3], q[15]; ZZPhase(3.97677) q[10], q[6]; ZZPhase(3.99658) q[11], q[7]; U3(1, 1.0108, 0.0107997) q[12]; ZZPhase(3.5) q[16], q[0]; U3(0.5, 1.5, 0.5) q[2]; U3(0.555766, 0.500054, 1.49986) q[3]; U3(0.5, 1.5, 0.5) q[6]; U3(0.444258, 1.49661, 0.499445) q[7]; U3(0.5, 1.5, 0.5) q[10]; U3(0.555766, 0.500054, 1.49986) q[11]; U3(0.5, 1.5, 0.5) q[14]; U3(0.444258, 1.49661, 0.499445) q[15]; U3(0.5, 0.5, 1) q[0]; ZZPhase(3.99105) q[2], q[14]; U3(0.00291816, 0.814439, 1.18309) q[3]; ZZPhase(3.99105) q[10], q[6]; U3(0.00946577, 0.181874, 0.804505) q[7]; U3(0.00291816, 0.814439, 1.18309) q[11]; ZZPhase(3.64761) q[16], q[12]; U3(0.00946577, 0.181874, 0.804505) q[15]; U3(0.5, 1.5, 0) q[2]; ZZPhase(3.99091) q[7], q[3]; U3(0.5, 1.5, 0) q[6]; U3(0.5, 1.5, 0) q[10]; ZZPhase(3.99091) q[15], q[11]; U3(1, 1.35686, 0.856813) q[12]; U3(0.5, 1.5, 0) q[14]; U3(0, 1.01446, 1.13329) q[16]; ZZPhase(3.5) q[16], q[0]; ZZPhase(3.99996) q[2], q[14]; U3(0.5, 1.5, 0.5) q[3]; ZZPhase(3.99996) q[10], q[6]; U3(0.5, 1.5, 0.5) q[7]; U3(0.5, 1.5, 0.5) q[11]; U3(0.5, 1.5, 0.5) q[15]; U3(0.250169, 0, 0.5) q[0]; U3(0.495372, 1.00341, 1.96835) q[2]; ZZPhase(3.99742) q[7], q[3]; U3(0.49905, 1.99933, 1.03488) q[6]; U3(0.495372, 1.00341, 1.96835) q[10]; ZZPhase(3.99742) q[15], q[11]; U3(0.49905, 1.99933, 1.03488) q[14]; U3(0, 0, 0.5) q[16]; ZZPhase(3.5) q[12], q[0]; U3(0.501848, 1.50012, 0.999938) q[2]; U3(0.5, 1.5, 0) q[3]; U3(0.000210232, 1.35719, 0.104508) q[6]; U3(0.5, 1.5, 0) q[7]; U3(0.501848, 1.50012, 0.999938) q[10]; U3(0.5, 1.5, 0) q[11]; U3(0.000210232, 1.35719, 0.104508) q[14]; U3(0.5, 1.5, 0) q[15]; U3(0.250025, 1, 1.5) q[0]; ZZPhase(3.50001) q[6], q[2]; ZZPhase(5.3099e-05) q[7], q[3]; ZZPhase(3.50001) q[14], q[10]; ZZPhase(5.3099e-05) q[15], q[11]; U3(0, 0, 0.5) q[12]; ZZPhase(3.5) q[16], q[0]; U3(0.5, 1.5, 0.5) q[2]; U3(0.497683, 1.00267, 1.93219) q[3]; U3(0.5, 1.5, 0.5) q[6]; U3(0.505255, 0.0152119, 0.0609269) q[7]; U3(0.5, 1.5, 0.5) q[10]; U3(0.497683, 1.00267, 1.93219) q[11]; U3(0.5, 1.5, 0.5) q[14]; U3(0.505255, 0.0152119, 0.0609269) q[15]; U3(4.79954e-05, 0, 0.5) q[0]; ZZPhase(3.89408) q[6], q[2]; U3(0.00946577, 0.181874, 0.804505) q[3]; U3(0.00291816, 0.814439, 1.18309) q[7]; ZZPhase(3.89408) q[14], q[10]; U3(0.00946577, 0.181874, 0.804505) q[11]; U3(0.00291816, 0.814439, 1.18309) q[15]; U3(0.176631, 0.936592, 0.035655) q[16]; ZZPhase(3.5) q[12], q[0]; U3(0.5, 1.5, 0) q[2]; ZZPhase(3.99091) q[3], q[15]; U3(0.5, 1.5, 0) q[6]; ZZPhase(3.99091) q[11], q[7]; U3(0.5, 1.5, 0) q[10]; U3(0.5, 1.5, 0) q[14]; U3(0.5, 0, 1) q[0]; ZZPhase(3.99984) q[6], q[2]; U3(0.5, 1.5, 0.5) q[3]; U3(0.5, 1.5, 0.5) q[7]; ZZPhase(3.99984) q[14], q[10]; U3(0.5, 1.5, 0.5) q[11]; U3(0.500014, 0.498992, 1.49936) q[12]; U3(0.5, 1.5, 0.5) q[15]; U3(0.5, 0.5, 1) q[0]; U3(0.499972, 0.499457, 0.50074) q[2]; ZZPhase(3.99742) q[3], q[15]; U3(0.475012, 0.0381844, 0.0105589) q[6]; ZZPhase(3.99742) q[11], q[7]; U3(0.499972, 0.499457, 0.50074) q[10]; ZZPhase(3.50064) q[16], q[12]; U3(0.475012, 0.0381844, 0.0105589) q[14]; ZZPhase(3.5) q[5], q[0]; U3(0.5, 1.5, 0) q[3]; U3(0.5, 1.5, 0) q[7]; U3(0.5, 1.5, 0) q[11]; U3(0.5, 1.5, 0.5) q[12]; U3(0.5, 1.5, 0) q[15]; U3(0.5, 1.5, 0.5) q[16]; U3(0.249913, 0, 0.5) q[0]; ZZPhase(5.3099e-05) q[3], q[15]; U3(0, 0, 0.5) q[5]; ZZPhase(5.3099e-05) q[11], q[7]; ZZPhase(3.93989) q[16], q[12]; ZZPhase(3.5) q[1], q[0]; U3(0.505255, 0.0152119, 0.0609269) q[3]; U3(0.497683, 1.00267, 1.93219) q[7]; U3(0.505255, 0.0152119, 0.0609269) q[11]; U3(0.503518, 1.99911, 0.499963) q[12]; U3(0.497683, 1.00267, 1.93219) q[15]; U3(0.500003, 1.5279, 1.50009) q[16]; U3(0.249996, 0, 0.5) q[0]; U3(0, 0, 0.5) q[1]; U3(0.94985, 0.500328, 0.500054) q[3]; U3(0.0468347, 0.532275, 1.46436) q[7]; U3(0.94985, 0.500328, 0.500054) q[11]; U3(0.924661, 0.498487, 1.50255) q[12]; U3(0.0468347, 0.532275, 1.46436) q[15]; U3(0.0752859, 1.50113, 0.498986) q[16]; ZZPhase(3.5) q[5], q[0]; ZZPhase(3.97677) q[7], q[3]; ZZPhase(3.97677) q[15], q[11]; ZZPhase(3.9319) q[16], q[12]; U3(5.49828e-05, 1, 1.5) q[0]; U3(0.5, 1.5, 0.5) q[3]; U3(0, 0, 0.5) q[5]; U3(0.5, 1.5, 0.5) q[7]; U3(0.5, 1.5, 0.5) q[11]; U3(0.5, 1.5, 0.5) q[12]; U3(0.5, 1.5, 0.5) q[15]; U3(0.5, 1.5, 0.5) q[16]; ZZPhase(3.5) q[1], q[0]; ZZPhase(3.99105) q[7], q[3]; ZZPhase(3.99105) q[15], q[11]; ZZPhase(3.99658) q[16], q[12]; U3(0.5, 0.5, 1) q[0]; U3(0, 0, 0.5) q[1]; U3(0.5, 1.5, 0) q[3]; U3(0.5, 1.5, 0) q[7]; U3(0.5, 1.5, 0) q[11]; U3(0.444258, 1.49661, 0.499445) q[12]; U3(0.5, 1.5, 0) q[15]; U3(0.555766, 0.500054, 1.49986) q[16]; ZZPhase(3.5) q[5], q[0]; ZZPhase(3.99996) q[7], q[3]; ZZPhase(3.99996) q[15], q[11]; U3(0.0752859, 1.50113, 0.498986) q[12]; U3(0.924661, 0.498487, 1.50255) q[16]; U3(0, 1, 1.5) q[0]; U3(0.49905, 1.99933, 1.03488) q[3]; ZZPhase(3.9319) q[4], q[16]; U3(0, 0, 0.5) q[5]; U3(0.495372, 1.00341, 1.96835) q[7]; ZZPhase(3.9319) q[12], q[8]; U3(0.49905, 1.99933, 1.03488) q[11]; U3(0.495372, 1.00341, 1.96835) q[15]; ZZPhase(3.5) q[1], q[0]; U3(0.0468347, 0.532275, 1.46436) q[3]; U3(0.5, 1.5, 0.5) q[4]; U3(0.94985, 0.500328, 0.500054) q[7]; U3(0.5, 1.5, 0.5) q[8]; U3(0.0468347, 0.532275, 1.46436) q[11]; U3(0.5, 1.5, 0.5) q[12]; U3(0.94985, 0.500328, 0.500054) q[15]; U3(0.5, 1.5, 0.5) q[16]; U3(0, 1, 1.5) q[0]; ZZPhase(3.97677) q[3], q[15]; ZZPhase(3.99658) q[4], q[16]; ZZPhase(3.97677) q[11], q[7]; ZZPhase(3.99658) q[12], q[8]; ZZPhase(3.5) q[5], q[0]; U3(0.5, 1.5, 0.5) q[3]; U3(0.555766, 0.500054, 1.49986) q[4]; U3(0.5, 1.5, 0.5) q[7]; U3(0.444258, 1.49661, 0.499445) q[8]; U3(0.5, 1.5, 0.5) q[11]; U3(0.555766, 0.500054, 1.49986) q[12]; U3(0.5, 1.5, 0.5) q[15]; U3(0.444258, 1.49661, 0.499445) q[16]; U3(0.5, 0.5, 1) q[0]; ZZPhase(3.99105) q[3], q[15]; U3(0.00291816, 0.814439, 1.18309) q[4]; U3(1, 0.75, 1.75) q[5]; ZZPhase(3.99105) q[11], q[7]; U3(0.00946577, 0.181874, 0.804505) q[8]; U3(0.00291816, 0.814439, 1.18309) q[12]; U3(0.00946577, 0.181874, 0.804505) q[16]; ZZPhase(3.5) q[5], q[1]; U3(0.5, 1.5, 0) q[3]; ZZPhase(3.99091) q[8], q[4]; U3(0.5, 1.5, 0) q[7]; U3(0.5, 1.5, 0) q[11]; ZZPhase(3.99091) q[16], q[12]; U3(0.5, 1.5, 0) q[15]; U3(0, 0.147576, 0.352369) q[1]; ZZPhase(3.99996) q[3], q[15]; U3(0.5, 1.5, 0.5) q[4]; U3(1, 0.332753, 0.83284) q[5]; ZZPhase(3.99996) q[11], q[7]; U3(0.5, 1.5, 0.5) q[8]; U3(0.5, 1.5, 0.5) q[12]; U3(0.5, 1.5, 0.5) q[16]; ZZPhase(3.5) q[5], q[0]; U3(0.495372, 1.00341, 1.96835) q[3]; ZZPhase(3.99742) q[8], q[4]; U3(0.49905, 1.99933, 1.03488) q[7]; U3(0.495372, 1.00341, 1.96835) q[11]; ZZPhase(3.99742) q[16], q[12]; U3(0.49905, 1.99933, 1.03488) q[15]; U3(0.749913, 0, 0.5) q[0]; U3(0.501848, 1.50012, 0.999938) q[3]; U3(0.5, 1.5, 0) q[4]; U3(0, 0, 0.5) q[5]; U3(0.000210232, 1.35719, 0.104508) q[7]; U3(0.5, 1.5, 0) q[8]; U3(0.501848, 1.50012, 0.999938) q[11]; U3(0.5, 1.5, 0) q[12]; U3(0.000210232, 1.35719, 0.104508) q[15]; U3(0.5, 1.5, 0) q[16]; ZZPhase(3.5) q[1], q[0]; ZZPhase(3.50001) q[7], q[3]; ZZPhase(5.3099e-05) q[8], q[4]; ZZPhase(3.50001) q[15], q[11]; ZZPhase(5.3099e-05) q[16], q[12]; U3(0.250004, 1, 1.5) q[0]; U3(0, 0, 0.5) q[1]; U3(0.5, 1.5, 0.5) q[3]; U3(0.497683, 1.00267, 1.93219) q[4]; U3(0.5, 1.5, 0.5) q[7]; U3(0.505255, 0.0152119, 0.0609269) q[8]; U3(0.5, 1.5, 0.5) q[11]; U3(0.497683, 1.00267, 1.93219) q[12]; U3(0.5, 1.5, 0.5) q[15]; U3(0.505255, 0.0152119, 0.0609269) q[16]; ZZPhase(3.5) q[5], q[0]; ZZPhase(3.89408) q[7], q[3]; U3(0.00946577, 0.181874, 0.804505) q[4]; U3(0.00291816, 0.814439, 1.18309) q[8]; ZZPhase(3.89408) q[15], q[11]; U3(0.00946577, 0.181874, 0.804505) q[12]; U3(0.00291816, 0.814439, 1.18309) q[16]; U3(5.49828e-05, 1, 1.5) q[0]; U3(0.5, 1.5, 0) q[3]; ZZPhase(3.99091) q[4], q[16]; U3(0.894027, 1.12107, 1.96208) q[5]; U3(0.5, 1.5, 0) q[7]; ZZPhase(3.99091) q[12], q[8]; U3(0.5, 1.5, 0) q[11]; U3(0.5, 1.5, 0) q[15]; ZZPhase(3.5) q[1], q[0]; ZZPhase(3.99984) q[7], q[3]; U3(0.5, 1.5, 0.5) q[4]; U3(0.5, 1.5, 0.5) q[8]; ZZPhase(3.99984) q[15], q[11]; U3(0.5, 1.5, 0.5) q[12]; U3(0.5, 1.5, 0.5) q[16]; U3(0.5, 0, 1) q[0]; U3(0.499981, 1.50169, 0.500708) q[1]; U3(0.499972, 0.499457, 0.50074) q[3]; ZZPhase(3.99742) q[4], q[16]; U3(0.475012, 0.0381844, 0.0105589) q[7]; ZZPhase(3.99742) q[12], q[8]; U3(0.499972, 0.499457, 0.50074) q[11]; U3(0.475012, 0.0381844, 0.0105589) q[15]; U3(0.5, 0.5, 1) q[0]; ZZPhase(3.5007) q[5], q[1]; U3(0.5, 1.5, 0) q[4]; U3(0.5, 1.5, 0) q[8]; U3(0.5, 1.5, 0) q[12]; U3(0.5, 1.5, 0) q[16]; ZZPhase(3.5) q[6], q[0]; U3(0.5, 1.5, 0.5) q[1]; ZZPhase(5.3099e-05) q[4], q[16]; U3(0.5, 1.5, 0.5) q[5]; ZZPhase(5.3099e-05) q[12], q[8]; U3(0.249913, 0, 0.5) q[0]; ZZPhase(3.9731) q[5], q[1]; U3(0.505255, 0.0152119, 0.0609269) q[4]; U3(0, 0, 0.5) q[6]; U3(0.497683, 1.00267, 1.93219) q[8]; U3(0.505255, 0.0152119, 0.0609269) q[12]; U3(0.497683, 1.00267, 1.93219) q[16]; ZZPhase(3.5) q[2], q[0]; U3(0.5, 1.5, 0) q[1]; U3(0.94985, 0.500328, 0.500054) q[4]; U3(0.5, 1.5, 0) q[5]; U3(0.0468347, 0.532275, 1.46436) q[8]; U3(0.94985, 0.500328, 0.500054) q[12]; U3(0.0468347, 0.532275, 1.46436) q[16]; U3(0.249996, 0, 0.5) q[0]; ZZPhase(6.69383e-05) q[5], q[1]; U3(0, 0, 0.5) q[2]; ZZPhase(3.97677) q[8], q[4]; ZZPhase(3.97677) q[16], q[12]; ZZPhase(3.5) q[6], q[0]; U3(0.500135, 0.498376, 1.99839) q[1]; U3(0.5, 1.5, 0.5) q[4]; U3(0.499918, 1.15897, 1.00006) q[5]; U3(0.5, 1.5, 0.5) q[8]; U3(0.5, 1.5, 0.5) q[12]; U3(0.5, 1.5, 0.5) q[16]; U3(5.49828e-05, 1, 1.5) q[0]; U3(0.245349, 1.49998, 0.000275126) q[1]; ZZPhase(3.99105) q[8], q[4]; U3(0.245349, 1.49998, 0.000275126) q[5]; U3(0, 0, 0.5) q[6]; ZZPhase(3.99105) q[16], q[12]; ZZPhase(3.5) q[2], q[0]; U3(0.5, 1.5, 0) q[4]; U3(0.5, 1.5, 0) q[8]; U3(0.5, 1.5, 0) q[12]; U3(0.5, 1.5, 0) q[16]; U3(0.5, 0.5, 1) q[0]; U3(0, 0, 0.5) q[2]; ZZPhase(3.99996) q[8], q[4]; ZZPhase(3.99996) q[16], q[12]; ZZPhase(3.5) q[6], q[0]; U3(0.49905, 1.99933, 1.03488) q[4]; U3(0.495372, 1.00341, 1.96835) q[8]; U3(0.49905, 1.99933, 1.03488) q[12]; U3(0.495372, 1.00341, 1.96835) q[16]; U3(0, 1, 1.5) q[0]; U3(0.0468347, 0.532275, 1.46436) q[4]; U3(0, 0, 0.5) q[6]; U3(0.94985, 0.500328, 0.500054) q[8]; U3(0.0468347, 0.532275, 1.46436) q[12]; U3(0.94985, 0.500328, 0.500054) q[16]; ZZPhase(3.5) q[2], q[0]; ZZPhase(3.97677) q[4], q[16]; ZZPhase(3.97677) q[12], q[8]; U3(0, 1, 1.5) q[0]; U3(0.5, 1.5, 0.5) q[4]; U3(0.5, 1.5, 0.5) q[8]; U3(0.5, 1.5, 0.5) q[12]; U3(0.5, 1.5, 0.5) q[16]; ZZPhase(3.5) q[6], q[0]; ZZPhase(3.99105) q[4], q[16]; ZZPhase(3.99105) q[12], q[8]; U3(0.5, 0.5, 1) q[0]; U3(0.5, 1.5, 0) q[4]; U3(1, 0.75, 1.75) q[6]; U3(0.5, 1.5, 0) q[8]; U3(0.5, 1.5, 0) q[12]; U3(0.5, 1.5, 0) q[16]; ZZPhase(3.5) q[6], q[2]; ZZPhase(3.99996) q[4], q[16]; ZZPhase(3.99996) q[12], q[8]; U3(0, 0.147576, 0.352369) q[2]; U3(0.495372, 1.00341, 1.96835) q[4]; U3(1, 0.332753, 0.83284) q[6]; U3(0.49905, 1.99933, 1.03488) q[8]; U3(0.495372, 1.00341, 1.96835) q[12]; U3(0.49905, 1.99933, 1.03488) q[16]; ZZPhase(3.5) q[6], q[0]; U3(0.501848, 1.50012, 0.999938) q[4]; U3(0.000210232, 1.35719, 0.104508) q[8]; U3(0.501848, 1.50012, 0.999938) q[12]; U3(0.000210232, 1.35719, 0.104508) q[16]; U3(0.749913, 0, 0.5) q[0]; ZZPhase(3.50001) q[8], q[4]; U3(0, 0, 0.5) q[6]; ZZPhase(3.50001) q[16], q[12]; ZZPhase(3.5) q[2], q[0]; U3(0.5, 1.5, 0.5) q[4]; U3(0.5, 1.5, 0.5) q[8]; U3(0.5, 1.5, 0.5) q[12]; U3(0.5, 1.5, 0.5) q[16]; U3(0.250004, 1, 1.5) q[0]; U3(0, 0, 0.5) q[2]; ZZPhase(3.89408) q[8], q[4]; ZZPhase(3.89408) q[16], q[12]; ZZPhase(3.5) q[6], q[0]; U3(0.5, 1.5, 0) q[4]; U3(0.5, 1.5, 0) q[8]; U3(0.5, 1.5, 0) q[12]; U3(0.5, 1.5, 0) q[16]; U3(5.49828e-05, 1, 1.5) q[0]; ZZPhase(3.99984) q[8], q[4]; U3(0.894027, 1.12107, 1.96208) q[6]; ZZPhase(3.99984) q[16], q[12]; ZZPhase(3.5) q[2], q[0]; U3(0.499972, 0.499457, 0.50074) q[4]; U3(0.475012, 0.0381844, 0.0105589) q[8]; U3(0.499972, 0.499457, 0.50074) q[12]; U3(0.475012, 0.0381844, 0.0105589) q[16]; U3(0.5, 0, 1) q[0]; U3(0.499981, 1.50169, 0.500708) q[2]; U3(0.5, 0.5, 1) q[0]; ZZPhase(3.5007) q[6], q[2]; ZZPhase(3.5) q[7], q[0]; U3(0.5, 1.5, 0.5) q[2]; U3(0.5, 1.5, 0.5) q[6]; U3(0.249913, 0, 0.5) q[0]; ZZPhase(3.9731) q[6], q[2]; U3(0, 0, 0.5) q[7]; ZZPhase(3.5) q[3], q[0]; U3(0.5, 1.5, 0) q[2]; U3(0.5, 1.5, 0) q[6]; U3(0.249996, 0, 0.5) q[0]; ZZPhase(6.69383e-05) q[6], q[2]; U3(0, 0, 0.5) q[3]; ZZPhase(3.5) q[7], q[0]; U3(0.500135, 0.498376, 1.99839) q[2]; U3(0.499918, 1.15897, 1.00006) q[6]; U3(5.49828e-05, 1, 1.5) q[0]; U3(0.000115505, 0.206205, 0.466528) q[2]; U3(0.000115505, 0.206205, 0.466528) q[6]; U3(0, 0, 0.5) q[7]; ZZPhase(3.5) q[3], q[0]; ZZPhase(3.50005) q[2], q[1]; ZZPhase(3.50005) q[6], q[5]; U3(0.5, 0.5, 1) q[0]; U3(0.5, 1.5, 0.5) q[1]; U3(0.5, 1.5, 0.5) q[2]; U3(0, 0, 0.5) q[3]; U3(0.5, 1.5, 0.5) q[5]; U3(0.5, 1.5, 0.5) q[6]; ZZPhase(3.5) q[7], q[0]; ZZPhase(3.95654) q[2], q[1]; ZZPhase(3.95654) q[6], q[5]; U3(0, 1, 1.5) q[0]; U3(0.5, 1.5, 1.5) q[1]; U3(0.5, 1.5, 1.5) q[2]; U3(0.5, 1.5, 1.5) q[5]; U3(0.5, 1.5, 1.5) q[6]; U3(0, 0, 0.5) q[7]; ZZPhase(3.5) q[3], q[0]; ZZPhase(3.99999) q[2], q[1]; ZZPhase(3.99999) q[6], q[5]; U3(0, 1, 1.5) q[0]; U3(0.499963, 0.999916, 1.49984) q[1]; U3(0.0753045, 0.943152, 1.63424) q[2]; U3(0.499963, 0.999916, 1.49984) q[5]; U3(0.0753045, 0.943152, 1.63424) q[6]; ZZPhase(3.5) q[7], q[0]; U3(0.5, 0.5, 1) q[0]; U3(1, 0.75, 1.75) q[7]; ZZPhase(3.5) q[7], q[3]; U3(0, 0.147576, 0.352369) q[3]; U3(1, 0.332753, 0.83284) q[7]; ZZPhase(3.5) q[7], q[0]; U3(0.749913, 0, 0.5) q[0]; U3(0, 0, 0.5) q[7]; ZZPhase(3.5) q[3], q[0]; U3(0.250004, 1, 1.5) q[0]; U3(0, 0, 0.5) q[3]; ZZPhase(3.5) q[7], q[0]; U3(5.49828e-05, 1, 1.5) q[0]; U3(0.894027, 1.12107, 1.96208) q[7]; ZZPhase(3.5) q[3], q[0]; U3(0.5, 0, 1) q[0]; U3(0.499981, 1.50169, 0.500708) q[3]; U3(0.5, 0.5, 1) q[0]; ZZPhase(3.5007) q[7], q[3]; ZZPhase(3.5) q[8], q[0]; U3(0.5, 1.5, 0.5) q[3]; U3(0.5, 1.5, 0.5) q[7]; U3(0.249913, 0, 0.5) q[0]; ZZPhase(3.9731) q[7], q[3]; U3(0, 0, 0.5) q[8]; ZZPhase(3.5) q[4], q[0]; U3(0.5, 1.5, 0) q[3]; U3(0.5, 1.5, 0) q[7]; U3(0.249996, 0, 0.5) q[0]; ZZPhase(6.69383e-05) q[7], q[3]; U3(0, 0, 0.5) q[4]; ZZPhase(3.5) q[8], q[0]; U3(0.500135, 0.498376, 1.99839) q[3]; U3(0.499918, 1.15897, 1.00006) q[7]; U3(5.49828e-05, 1, 1.5) q[0]; U3(0.245349, 1.49998, 0.000275126) q[3]; U3(0.245349, 1.49998, 0.000275126) q[7]; U3(0, 0, 0.5) q[8]; ZZPhase(3.5) q[4], q[0]; U3(0.5, 0.5, 1) q[0]; U3(0, 0, 0.5) q[4]; ZZPhase(3.5) q[8], q[0]; U3(0, 1, 1.5) q[0]; U3(0, 0, 0.5) q[8]; ZZPhase(3.5) q[4], q[0]; U3(0, 1, 1.5) q[0]; ZZPhase(3.5) q[8], q[0]; U3(0.5, 0.5, 1) q[0]; U3(1, 0.75, 1.75) q[8]; ZZPhase(3.5) q[8], q[4]; U3(0, 0.147576, 0.352369) q[4]; U3(1, 0.332753, 0.83284) q[8]; ZZPhase(3.5) q[8], q[0]; U3(0.749913, 0, 0.5) q[0]; U3(0, 0, 0.5) q[8]; ZZPhase(3.5) q[4], q[0]; U3(0.250004, 1, 1.5) q[0]; U3(0, 0, 0.5) q[4]; ZZPhase(3.5) q[8], q[0]; U3(5.49828e-05, 1, 1.5) q[0]; U3(0.894027, 1.12107, 1.96208) q[8]; ZZPhase(3.5) q[4], q[0]; U3(0.5, 0, 1) q[0]; U3(0.499981, 1.50169, 0.500708) q[4]; U3(0.5, 0.5, 1) q[0]; ZZPhase(3.5007) q[8], q[4]; ZZPhase(3.5) q[13], q[0]; U3(0.5, 1.5, 0.5) q[4]; U3(0.5, 1.5, 0.5) q[8]; U3(0.249913, 0, 0.5) q[0]; ZZPhase(3.9731) q[8], q[4]; U3(0, 0, 0.5) q[13]; ZZPhase(3.5) q[9], q[0]; U3(0.5, 1.5, 0) q[4]; U3(0.5, 1.5, 0) q[8]; U3(0.249996, 0, 0.5) q[0]; ZZPhase(6.69383e-05) q[8], q[4]; U3(0, 0, 0.5) q[9]; ZZPhase(3.5) q[13], q[0]; U3(0.500135, 0.498376, 1.99839) q[4]; U3(0.499918, 1.15897, 1.00006) q[8]; U3(5.49828e-05, 1, 1.5) q[0]; U3(0.000115505, 0.206205, 0.466528) q[4]; U3(0.000115505, 0.206205, 0.466528) q[8]; U3(0, 0, 0.5) q[13]; ZZPhase(3.5) q[9], q[0]; ZZPhase(3.50005) q[4], q[3]; ZZPhase(3.50005) q[8], q[7]; U3(0.5, 0.5, 1) q[0]; U3(0.5, 1.5, 0.5) q[3]; U3(0.5, 1.5, 0.5) q[4]; U3(0.5, 1.5, 0.5) q[7]; U3(0.5, 1.5, 0.5) q[8]; U3(0, 0, 0.5) q[9]; ZZPhase(3.5) q[13], q[0]; ZZPhase(3.95654) q[4], q[3]; ZZPhase(3.95654) q[8], q[7]; U3(0, 1, 1.5) q[0]; U3(0.5, 1.5, 1.5) q[3]; U3(0.5, 1.5, 1.5) q[4]; U3(0.5, 1.5, 1.5) q[7]; U3(0.5, 1.5, 1.5) q[8]; U3(0, 0, 0.5) q[13]; ZZPhase(3.5) q[9], q[0]; ZZPhase(3.99999) q[4], q[3]; ZZPhase(3.99999) q[8], q[7]; U3(0, 1, 1.5) q[0]; U3(0.499963, 0.999916, 1.49984) q[3]; U3(0.0753045, 0.943152, 1.63424) q[4]; U3(0.499963, 0.999916, 1.49984) q[7]; U3(0.0753045, 0.943152, 1.63424) q[8]; ZZPhase(3.5) q[13], q[0]; U3(0.5, 0.5, 1) q[0]; U3(1, 0.75, 1.75) q[13]; ZZPhase(3.5) q[13], q[9]; U3(0, 0.147576, 0.352369) q[9]; U3(1, 0.332753, 0.83284) q[13]; ZZPhase(3.5) q[13], q[0]; U3(0.749913, 0, 0.5) q[0]; U3(0, 0, 0.5) q[13]; ZZPhase(3.5) q[9], q[0]; U3(0.250004, 1, 1.5) q[0]; U3(0, 0, 0.5) q[9]; ZZPhase(3.5) q[13], q[0]; U3(5.49828e-05, 1, 1.5) q[0]; U3(0.894027, 1.12107, 1.96208) q[13]; ZZPhase(3.5) q[9], q[0]; U3(0.5, 0, 1) q[0]; U3(0.499981, 1.50169, 0.500708) q[9]; U3(0.5, 0.5, 1) q[0]; ZZPhase(3.5007) q[13], q[9]; ZZPhase(3.5) q[14], q[0]; U3(0.5, 1.5, 0.5) q[9]; U3(0.5, 1.5, 0.5) q[13]; U3(0.249913, 0, 0.5) q[0]; ZZPhase(3.9731) q[13], q[9]; U3(0, 0, 0.5) q[14]; ZZPhase(3.5) q[10], q[0]; U3(0.5, 1.5, 0) q[9]; U3(0.5, 1.5, 0) q[13]; U3(0.249996, 0, 0.5) q[0]; ZZPhase(6.69383e-05) q[13], q[9]; U3(0, 0, 0.5) q[10]; ZZPhase(3.5) q[14], q[0]; U3(0.500135, 0.498376, 1.99839) q[9]; U3(0.499918, 1.15897, 1.00006) q[13]; U3(5.49828e-05, 1, 1.5) q[0]; U3(0.245349, 1.49998, 0.000275126) q[9]; U3(0.245349, 1.49998, 0.000275126) q[13]; U3(0, 0, 0.5) q[14]; ZZPhase(3.5) q[10], q[0]; U3(0.5, 0.5, 1) q[0]; U3(0, 0, 0.5) q[10]; ZZPhase(3.5) q[14], q[0]; U3(0, 1, 1.5) q[0]; U3(0, 0, 0.5) q[14]; ZZPhase(3.5) q[10], q[0]; U3(0, 1, 1.5) q[0]; ZZPhase(3.5) q[14], q[0]; U3(0.5, 0.5, 1) q[0]; U3(1, 0.75, 1.75) q[14]; ZZPhase(3.5) q[14], q[10]; U3(0, 0.147576, 0.352369) q[10]; U3(1, 0.332753, 0.83284) q[14]; ZZPhase(3.5) q[14], q[0]; U3(0.749913, 0, 0.5) q[0]; U3(0, 0, 0.5) q[14]; ZZPhase(3.5) q[10], q[0]; U3(0.250004, 1, 1.5) q[0]; U3(0, 0, 0.5) q[10]; ZZPhase(3.5) q[14], q[0]; U3(5.49828e-05, 1, 1.5) q[0]; U3(0.894027, 1.12107, 1.96208) q[14]; ZZPhase(3.5) q[10], q[0]; U3(0.5, 0, 1) q[0]; U3(0.499981, 1.50169, 0.500708) q[10]; U3(0.5, 0.5, 1) q[0]; ZZPhase(3.5007) q[14], q[10]; ZZPhase(3.5) q[15], q[0]; U3(0.5, 1.5, 0.5) q[10]; U3(0.5, 1.5, 0.5) q[14]; U3(0.249913, 0, 0.5) q[0]; ZZPhase(3.9731) q[14], q[10]; U3(0, 0, 0.5) q[15]; ZZPhase(3.5) q[11], q[0]; U3(0.5, 1.5, 0) q[10]; U3(0.5, 1.5, 0) q[14]; U3(0.249996, 0, 0.5) q[0]; ZZPhase(6.69383e-05) q[14], q[10]; U3(0, 0, 0.5) q[11]; ZZPhase(3.5) q[15], q[0]; U3(0.500135, 0.498376, 1.99839) q[10]; U3(0.499918, 1.15897, 1.00006) q[14]; U3(5.49828e-05, 1, 1.5) q[0]; U3(0.000115505, 0.206205, 0.466528) q[10]; U3(0.000115505, 0.206205, 0.466528) q[14]; U3(0, 0, 0.5) q[15]; ZZPhase(3.5) q[11], q[0]; ZZPhase(3.50005) q[10], q[9]; ZZPhase(3.50005) q[14], q[13]; U3(0.5, 0.5, 1) q[0]; U3(0.5, 1.5, 0.5) q[9]; U3(0.5, 1.5, 0.5) q[10]; U3(0, 0, 0.5) q[11]; U3(0.5, 1.5, 0.5) q[13]; U3(0.5, 1.5, 0.5) q[14]; ZZPhase(3.5) q[15], q[0]; ZZPhase(3.95654) q[10], q[9]; ZZPhase(3.95654) q[14], q[13]; U3(0, 1, 1.5) q[0]; U3(0.5, 1.5, 1.5) q[9]; U3(0.5, 1.5, 1.5) q[10]; U3(0.5, 1.5, 1.5) q[13]; U3(0.5, 1.5, 1.5) q[14]; U3(0, 0, 0.5) q[15]; ZZPhase(3.5) q[11], q[0]; ZZPhase(3.99999) q[10], q[9]; ZZPhase(3.99999) q[14], q[13]; U3(0, 1, 1.5) q[0]; U3(0.499963, 0.999916, 1.49984) q[9]; U3(0.0753045, 0.943152, 1.63424) q[10]; U3(0.499963, 0.999916, 1.49984) q[13]; U3(0.0753045, 0.943152, 1.63424) q[14]; ZZPhase(3.5) q[15], q[0]; U3(0.5, 0.5, 1) q[0]; U3(1, 0.75, 1.75) q[15]; ZZPhase(3.5) q[15], q[11]; U3(0, 0.147576, 0.352369) q[11]; U3(1, 0.332753, 0.83284) q[15]; ZZPhase(3.5) q[15], q[0]; U3(0.749913, 0, 0.5) q[0]; U3(0, 0, 0.5) q[15]; ZZPhase(3.5) q[11], q[0]; U3(0.250004, 1, 1.5) q[0]; U3(0, 0, 0.5) q[11]; ZZPhase(3.5) q[15], q[0]; U3(5.49828e-05, 1, 1.5) q[0]; U3(0.894027, 1.12107, 1.96208) q[15]; ZZPhase(3.5) q[11], q[0]; U3(0.5, 0, 1) q[0]; U3(0.499981, 1.50169, 0.500708) q[11]; U3(0.5, 0.5, 1) q[0]; ZZPhase(3.5007) q[15], q[11]; ZZPhase(3.5) q[16], q[0]; U3(0.5, 1.5, 0.5) q[11]; U3(0.5, 1.5, 0.5) q[15]; U3(0.249913, 0, 0.5) q[0]; ZZPhase(3.9731) q[15], q[11]; U3(0, 0, 0.5) q[16]; ZZPhase(3.5) q[12], q[0]; U3(0.5, 1.5, 0) q[11]; U3(0.5, 1.5, 0) q[15]; U3(0.249996, 0, 0.5) q[0]; ZZPhase(6.69383e-05) q[15], q[11]; U3(0, 0, 0.5) q[12]; ZZPhase(3.5) q[16], q[0]; U3(0.500135, 0.498376, 1.99839) q[11]; U3(0.499918, 1.15897, 1.00006) q[15]; U3(5.49828e-05, 1, 1.5) q[0]; U3(0.245349, 1.49998, 0.000275126) q[11]; U3(0.245349, 1.49998, 0.000275126) q[15]; U3(0, 0, 0.5) q[16]; ZZPhase(3.5) q[12], q[0]; U3(0.5, 0.5, 1) q[0]; U3(0, 0, 0.5) q[12]; ZZPhase(3.5) q[16], q[0]; U3(0, 1, 1.5) q[0]; U3(0, 0, 0.5) q[16]; ZZPhase(3.5) q[12], q[0]; U3(0, 1, 1.5) q[0]; ZZPhase(3.5) q[16], q[0]; U3(0.5, 0.5, 1) q[0]; U3(1, 0.75, 1.75) q[16]; ZZPhase(3.5) q[16], q[12]; U3(0, 0.147576, 0.352369) q[12]; U3(1, 0.332753, 0.83284) q[16]; ZZPhase(3.5) q[16], q[0]; U3(0.749913, 0, 0.5) q[0]; U3(0, 0, 0.5) q[16]; ZZPhase(3.5) q[12], q[0]; U3(0.250004, 1, 1.5) q[0]; U3(0, 0, 0.5) q[12]; ZZPhase(3.5) q[16], q[0]; U3(5.49828e-05, 1, 1.5) q[0]; U3(0.894027, 1.12107, 1.96208) q[16]; ZZPhase(3.5) q[12], q[0]; U3(0.5, 0, 1) q[0]; U3(0.499981, 1.50169, 0.500708) q[12]; U3(0.5, 0.5, 1) q[0]; ZZPhase(3.5007) q[16], q[12]; ZZPhase(3.5) q[2], q[0]; U3(0.5, 1.5, 0.5) q[12]; U3(0.5, 1.5, 0.5) q[16]; U3(0.249962, 0, 0.5) q[0]; U3(0, 0, 0.5) q[2]; ZZPhase(3.9731) q[16], q[12]; ZZPhase(3.5) q[1], q[0]; U3(0.5, 1.5, 0) q[12]; U3(0.5, 1.5, 0) q[16]; U3(0.249974, 0, 0.5) q[0]; U3(0, 0, 0.5) q[1]; ZZPhase(6.69383e-05) q[16], q[12]; ZZPhase(3.5) q[2], q[0]; U3(0.500135, 0.498376, 1.99839) q[12]; U3(0.499918, 1.15897, 1.00006) q[16]; U3(3.27857e-06, 0, 0.5) q[0]; U3(0, 0, 0.5) q[2]; U3(0.000115505, 0.206205, 0.466528) q[12]; U3(0.000115505, 0.206205, 0.466528) q[16]; ZZPhase(3.5) q[1], q[0]; ZZPhase(3.50005) q[12], q[11]; ZZPhase(3.50005) q[16], q[15]; U3(0.5, 0.5, 1) q[0]; U3(0, 0, 0.5) q[1]; U3(0.5, 1.5, 0.5) q[11]; U3(0.5, 1.5, 0.5) q[12]; U3(0.5, 1.5, 0.5) q[15]; U3(0.5, 1.5, 0.5) q[16]; ZZPhase(3.5) q[2], q[0]; ZZPhase(3.95654) q[12], q[11]; ZZPhase(3.95654) q[16], q[15]; U3(0, 1, 1.5) q[0]; U3(0, 0, 0.5) q[2]; U3(0.5, 1.5, 1.5) q[11]; U3(0.5, 1.5, 1.5) q[12]; U3(0.5, 1.5, 1.5) q[15]; U3(0.5, 1.5, 1.5) q[16]; ZZPhase(3.5) q[1], q[0]; ZZPhase(3.99999) q[12], q[11]; ZZPhase(3.99999) q[16], q[15]; U3(0, 1, 1.5) q[0]; U3(0.499963, 0.999916, 1.49984) q[11]; U3(0.0753045, 0.943152, 1.63424) q[12]; U3(0.499963, 0.999916, 1.49984) q[15]; U3(0.0753045, 0.943152, 1.63424) q[16]; ZZPhase(3.5) q[2], q[0]; U3(0.5, 0.5, 1) q[0]; U3(1, 1.75, 0.75) q[2]; ZZPhase(3.75003) q[2], q[1]; U3(0, 1.5422, 0.957808) q[1]; U3(1, 1.35242, 1.60245) q[2]; ZZPhase(3.5) q[2], q[0]; U3(0.749962, 0, 0.5) q[0]; U3(0, 0, 0.5) q[2]; ZZPhase(3.5) q[1], q[0]; U3(0.250026, 1, 1.5) q[0]; U3(0, 0, 0.5) q[1]; ZZPhase(3.5) q[2], q[0]; U3(3.27857e-06, 0, 0.5) q[0]; U3(0.917638, 1.29879, 0.258964) q[2]; ZZPhase(3.5) q[1], q[0]; U3(0.5, 0, 1) q[0]; U3(0.500011, 1.49976, 0.500074) q[1]; U3(0.5, 0.5, 1) q[0]; ZZPhase(3.50007) q[2], q[1]; ZZPhase(3.5) q[6], q[0]; U3(0.5, 1.5, 0.5) q[1]; U3(0.5, 1.5, 0.5) q[2]; U3(0.249962, 0, 0.5) q[0]; ZZPhase(3.97247) q[2], q[1]; U3(0, 0, 0.5) q[6]; ZZPhase(3.5) q[5], q[0]; U3(0.496963, 9.393e-05, 1.49987) q[1]; U3(0.500118, 0.539835, 0.499998) q[2]; U3(0.249974, 0, 0.5) q[0]; U3(0.947287, 1.47595, 0.500047) q[1]; U3(0.0528048, 1.52245, 1.49998) q[2]; U3(0, 0, 0.5) q[5]; ZZPhase(3.5) q[6], q[0]; ZZPhase(3.91275) q[2], q[1]; U3(3.27857e-06, 0, 0.5) q[0]; U3(0.5, 1.5, 0.5) q[1]; U3(0.5, 1.5, 0.5) q[2]; U3(0, 0, 0.5) q[6]; ZZPhase(3.5) q[5], q[0]; ZZPhase(3.99958) q[2], q[1]; U3(0.5, 0.5, 1) q[0]; U3(0.536415, 1.47552, 0.497122) q[1]; U3(0.536558, 1.47718, 1.49733) q[2]; U3(0, 0, 0.5) q[5]; ZZPhase(3.5) q[6], q[0]; U3(0.0528048, 1.52245, 1.49998) q[1]; U3(0.947287, 1.47595, 0.500047) q[2]; U3(0, 1, 1.5) q[0]; U3(0, 0, 0.5) q[6]; ZZPhase(3.5) q[5], q[0]; U3(0, 1, 1.5) q[0]; ZZPhase(3.5) q[6], q[0]; U3(0.5, 0.5, 1) q[0]; U3(1, 1.75, 0.75) q[6]; ZZPhase(3.75003) q[6], q[5]; U3(0, 1.5422, 0.957808) q[5]; U3(1, 1.35242, 1.60245) q[6]; ZZPhase(3.5) q[6], q[0]; U3(0.749962, 0, 0.5) q[0]; U3(0, 0, 0.5) q[6]; ZZPhase(3.5) q[5], q[0]; U3(0.250026, 1, 1.5) q[0]; U3(0, 0, 0.5) q[5]; ZZPhase(3.5) q[6], q[0]; U3(3.27857e-06, 0, 0.5) q[0]; U3(0.917638, 1.29879, 0.258964) q[6]; ZZPhase(3.5) q[5], q[0]; U3(0.5, 0, 1) q[0]; U3(0.500011, 1.49976, 0.500074) q[5]; U3(0.5, 0.5, 1) q[0]; ZZPhase(3.50007) q[6], q[5]; ZZPhase(3.5) q[10], q[0]; U3(0.5, 1.5, 0.5) q[5]; U3(0.5, 1.5, 0.5) q[6]; U3(0.249962, 0, 0.5) q[0]; ZZPhase(3.97247) q[6], q[5]; U3(0, 0, 0.5) q[10]; ZZPhase(3.5) q[9], q[0]; U3(0.496963, 9.393e-05, 1.49987) q[5]; U3(0.500118, 0.539835, 0.499998) q[6]; U3(0.249974, 0, 0.5) q[0]; U3(0.947287, 1.47595, 0.500047) q[5]; U3(0.0528048, 1.52245, 1.49998) q[6]; U3(0, 0, 0.5) q[9]; ZZPhase(3.5) q[10], q[0]; ZZPhase(3.91275) q[6], q[5]; U3(3.27857e-06, 0, 0.5) q[0]; U3(0.5, 1.5, 0.5) q[5]; U3(0.5, 1.5, 0.5) q[6]; U3(0, 0, 0.5) q[10]; ZZPhase(3.5) q[9], q[0]; ZZPhase(3.99958) q[6], q[5]; U3(0.5, 0.5, 1) q[0]; U3(0.536415, 1.47552, 0.497122) q[5]; U3(0.536558, 1.47718, 1.49733) q[6]; U3(0, 0, 0.5) q[9]; ZZPhase(3.5) q[10], q[0]; U3(0.0528048, 1.52245, 1.49998) q[5]; U3(0.947287, 1.47595, 0.500047) q[6]; U3(0, 1, 1.5) q[0]; U3(0, 0, 0.5) q[10]; ZZPhase(3.5) q[9], q[0]; U3(0, 1, 1.5) q[0]; ZZPhase(3.5) q[10], q[0]; U3(0.5, 0.5, 1) q[0]; U3(1, 1.75, 0.75) q[10]; ZZPhase(3.75003) q[10], q[9]; U3(0, 1.5422, 0.957808) q[9]; U3(1, 1.35242, 1.60245) q[10]; ZZPhase(3.5) q[10], q[0]; U3(0.749962, 0, 0.5) q[0]; U3(0, 0, 0.5) q[10]; ZZPhase(3.5) q[9], q[0]; U3(0.250026, 1, 1.5) q[0]; U3(0, 0, 0.5) q[9]; ZZPhase(3.5) q[10], q[0]; U3(3.27857e-06, 0, 0.5) q[0]; U3(0.917638, 1.29879, 0.258964) q[10]; ZZPhase(3.5) q[9], q[0]; U3(0.5, 0, 1) q[0]; U3(0.500011, 1.49976, 0.500074) q[9]; U3(0.5, 0.5, 1) q[0]; ZZPhase(3.50007) q[10], q[9]; ZZPhase(3.5) q[14], q[0]; U3(0.5, 1.5, 0.5) q[9]; U3(0.5, 1.5, 0.5) q[10]; U3(0.249962, 0, 0.5) q[0]; ZZPhase(3.97247) q[10], q[9]; U3(0, 0, 0.5) q[14]; ZZPhase(3.5) q[13], q[0]; U3(0.496963, 9.393e-05, 1.49987) q[9]; U3(0.500118, 0.539835, 0.499998) q[10]; U3(0.249974, 0, 0.5) q[0]; U3(0.947287, 1.47595, 0.500047) q[9]; U3(0.0528048, 1.52245, 1.49998) q[10]; U3(0, 0, 0.5) q[13]; ZZPhase(3.5) q[14], q[0]; ZZPhase(3.91275) q[10], q[9]; U3(3.27857e-06, 0, 0.5) q[0]; U3(0.5, 1.5, 0.5) q[9]; U3(0.5, 1.5, 0.5) q[10]; U3(0, 0, 0.5) q[14]; ZZPhase(3.5) q[13], q[0]; ZZPhase(3.99958) q[10], q[9]; U3(0.5, 0.5, 1) q[0]; U3(0.536415, 1.47552, 0.497122) q[9]; U3(0.536558, 1.47718, 1.49733) q[10]; U3(0, 0, 0.5) q[13]; ZZPhase(3.5) q[14], q[0]; U3(0.0528048, 1.52245, 1.49998) q[9]; U3(0.947287, 1.47595, 0.500047) q[10]; U3(0, 1, 1.5) q[0]; U3(0, 0, 0.5) q[14]; ZZPhase(3.5) q[13], q[0]; U3(0, 1, 1.5) q[0]; ZZPhase(3.5) q[14], q[0]; U3(0.5, 0.5, 1) q[0]; U3(1, 1.75, 0.75) q[14]; ZZPhase(3.75003) q[14], q[13]; U3(0, 1.5422, 0.957808) q[13]; U3(1, 1.35242, 1.60245) q[14]; ZZPhase(3.5) q[14], q[0]; U3(0.749962, 0, 0.5) q[0]; U3(0, 0, 0.5) q[14]; ZZPhase(3.5) q[13], q[0]; U3(0.250026, 1, 1.5) q[0]; U3(0, 0, 0.5) q[13]; ZZPhase(3.5) q[14], q[0]; U3(3.27857e-06, 0, 0.5) q[0]; U3(0.917638, 1.29879, 0.258964) q[14]; ZZPhase(3.5) q[13], q[0]; U3(0.5, 0, 1) q[0]; U3(0.500011, 1.49976, 0.500074) q[13]; U3(0.5, 0.5, 1) q[0]; ZZPhase(3.50007) q[14], q[13]; ZZPhase(3.5) q[4], q[0]; U3(0.5, 1.5, 0.5) q[13]; U3(0.5, 1.5, 0.5) q[14]; U3(0.249962, 0, 0.5) q[0]; U3(0, 0, 0.5) q[4]; ZZPhase(3.97247) q[14], q[13]; ZZPhase(3.5) q[3], q[0]; U3(0.496963, 9.393e-05, 1.49987) q[13]; U3(0.500118, 0.539835, 0.499998) q[14]; U3(0.249974, 0, 0.5) q[0]; U3(0, 0, 0.5) q[3]; U3(0.947287, 1.47595, 0.500047) q[13]; U3(0.0528048, 1.52245, 1.49998) q[14]; ZZPhase(3.5) q[4], q[0]; ZZPhase(3.91275) q[14], q[13]; U3(3.27857e-06, 0, 0.5) q[0]; U3(0, 0, 0.5) q[4]; U3(0.5, 1.5, 0.5) q[13]; U3(0.5, 1.5, 0.5) q[14]; ZZPhase(3.5) q[3], q[0]; ZZPhase(3.99958) q[14], q[13]; U3(0.5, 0.5, 1) q[0]; U3(0, 0, 0.5) q[3]; U3(0.536415, 1.47552, 0.497122) q[13]; U3(0.536558, 1.47718, 1.49733) q[14]; ZZPhase(3.5) q[4], q[0]; U3(0.0528048, 1.52245, 1.49998) q[13]; U3(0.947287, 1.47595, 0.500047) q[14]; U3(0, 1, 1.5) q[0]; U3(0, 0, 0.5) q[4]; ZZPhase(3.5) q[3], q[0]; U3(0, 1, 1.5) q[0]; ZZPhase(3.5) q[4], q[0]; U3(0.5, 0.5, 1) q[0]; U3(1, 1.75, 0.75) q[4]; ZZPhase(3.75003) q[4], q[3]; U3(0, 1.5422, 0.957808) q[3]; U3(1, 1.35242, 1.60245) q[4]; ZZPhase(3.5) q[4], q[0]; U3(0.749962, 0, 0.5) q[0]; U3(0, 0, 0.5) q[4]; ZZPhase(3.5) q[3], q[0]; U3(0.250026, 1, 1.5) q[0]; U3(0, 0, 0.5) q[3]; ZZPhase(3.5) q[4], q[0]; U3(3.27857e-06, 0, 0.5) q[0]; U3(0.917638, 1.29879, 0.258964) q[4]; ZZPhase(3.5) q[3], q[0]; U3(0.5, 0, 1) q[0]; U3(0.500011, 1.49976, 0.500074) q[3]; U3(0.5, 0.5, 1) q[0]; ZZPhase(3.50007) q[4], q[3]; ZZPhase(3.5) q[8], q[0]; U3(0.5, 1.5, 0.5) q[3]; U3(0.5, 1.5, 0.5) q[4]; U3(0.249962, 0, 0.5) q[0]; ZZPhase(3.97247) q[4], q[3]; U3(0, 0, 0.5) q[8]; ZZPhase(3.5) q[7], q[0]; U3(0.496963, 9.393e-05, 1.49987) q[3]; U3(0.500118, 0.539835, 0.499998) q[4]; U3(0.249974, 0, 0.5) q[0]; U3(0.947287, 1.47595, 0.500047) q[3]; U3(0.0528048, 1.52245, 1.49998) q[4]; U3(0, 0, 0.5) q[7]; ZZPhase(3.5) q[8], q[0]; ZZPhase(3.91275) q[4], q[3]; U3(3.27857e-06, 0, 0.5) q[0]; U3(0.5, 1.5, 0.5) q[3]; U3(0.5, 1.5, 0.5) q[4]; U3(0, 0, 0.5) q[8]; ZZPhase(3.5) q[7], q[0]; ZZPhase(3.99958) q[4], q[3]; U3(0.5, 0.5, 1) q[0]; U3(0.536415, 1.47552, 0.497122) q[3]; U3(0.536558, 1.47718, 1.49733) q[4]; U3(0, 0, 0.5) q[7]; ZZPhase(3.5) q[8], q[0]; U3(0.0528048, 1.52245, 1.49998) q[3]; U3(0.947287, 1.47595, 0.500047) q[4]; U3(0, 1, 1.5) q[0]; ZZPhase(3.91275) q[1], q[4]; ZZPhase(3.91275) q[3], q[2]; U3(0, 0, 0.5) q[8]; ZZPhase(3.5) q[7], q[0]; U3(0.5, 1.5, 0.5) q[1]; U3(0.5, 1.5, 0.5) q[2]; U3(0.5, 1.5, 0.5) q[3]; U3(0.5, 1.5, 0.5) q[4]; U3(0, 1, 1.5) q[0]; ZZPhase(3.99958) q[1], q[4]; ZZPhase(3.99958) q[3], q[2]; ZZPhase(3.5) q[8], q[0]; U3(0.536558, 1.47718, 1.49733) q[1]; U3(0.536415, 1.47552, 0.497122) q[2]; U3(0.536558, 1.47718, 1.49733) q[3]; U3(0.536415, 1.47552, 0.497122) q[4]; U3(0.5, 0.5, 1) q[0]; U3(0.571487, 1.4989, 0.499793) q[1]; U3(0.570867, 1.49686, 0.500164) q[2]; U3(0.571487, 1.4989, 0.499793) q[3]; U3(0.570867, 1.49686, 0.500164) q[4]; U3(1, 1.75, 0.75) q[8]; ZZPhase(3.98535) q[2], q[1]; ZZPhase(3.98535) q[4], q[3]; ZZPhase(3.75003) q[8], q[7]; U3(0.5, 1.5, 0.5) q[1]; U3(0.5, 1.5, 0.5) q[2]; U3(0.5, 1.5, 0.5) q[3]; U3(0.5, 1.5, 0.5) q[4]; U3(0, 1.5422, 0.957808) q[7]; U3(1, 1.35242, 1.60245) q[8]; ZZPhase(3.5) q[8], q[0]; ZZPhase(3.99798) q[2], q[1]; ZZPhase(3.99798) q[4], q[3]; U3(0.749962, 0, 0.5) q[0]; U3(0.942016, 0.505787, 1.50523) q[1]; U3(0.94123, 0.517254, 1.51692) q[2]; U3(0.942016, 0.505787, 1.50523) q[3]; U3(0.94123, 0.517254, 1.51692) q[4]; U3(0, 0, 0.5) q[8]; ZZPhase(3.5) q[7], q[0]; U3(0.570867, 1.49686, 0.500164) q[1]; U3(0.571487, 1.4989, 0.499793) q[2]; U3(0.570867, 1.49686, 0.500164) q[3]; U3(0.571487, 1.4989, 0.499793) q[4]; U3(0.250026, 1, 1.5) q[0]; ZZPhase(3.98535) q[1], q[4]; ZZPhase(3.98535) q[3], q[2]; U3(0, 0, 0.5) q[7]; ZZPhase(3.5) q[8], q[0]; U3(0.5, 1.5, 0.5) q[1]; U3(0.5, 1.5, 0.5) q[2]; U3(0.5, 1.5, 0.5) q[3]; U3(0.5, 1.5, 0.5) q[4]; U3(3.27857e-06, 0, 0.5) q[0]; ZZPhase(3.99798) q[1], q[4]; ZZPhase(3.99798) q[3], q[2]; U3(0.917638, 1.29879, 0.258964) q[8]; ZZPhase(3.5) q[7], q[0]; U3(0.94123, 0.517254, 1.51692) q[1]; U3(0.942016, 0.505787, 1.50523) q[2]; U3(0.94123, 0.517254, 1.51692) q[3]; U3(0.942016, 0.505787, 1.50523) q[4]; U3(0.5, 0, 1) q[0]; U3(0.964768, 1.50065, 1.50218) q[1]; U3(0.0351988, 0.505155, 0.50241) q[2]; U3(0.964768, 1.50065, 1.50218) q[3]; U3(0.0351988, 0.505155, 0.50241) q[4]; U3(0.500011, 1.49976, 0.500074) q[7]; U3(0.5, 0.5, 1) q[0]; ZZPhase(3.91189) q[2], q[1]; ZZPhase(3.91189) q[4], q[3]; ZZPhase(3.50007) q[8], q[7]; ZZPhase(3.5) q[12], q[0]; U3(0.5, 1.5, 0.5) q[1]; U3(0.5, 1.5, 0.5) q[2]; U3(0.5, 1.5, 0.5) q[3]; U3(0.5, 1.5, 0.5) q[4]; U3(0.5, 1.5, 0.5) q[7]; U3(0.5, 1.5, 0.5) q[8]; U3(0.249962, 0, 0.5) q[0]; ZZPhase(3.9997) q[2], q[1]; ZZPhase(3.9997) q[4], q[3]; ZZPhase(3.97247) q[8], q[7]; U3(0, 0, 0.5) q[12]; ZZPhase(3.5) q[11], q[0]; U3(0.552265, 0.498313, 0.499831) q[1]; U3(0.447766, 1.4922, 1.5011) q[2]; U3(0.552265, 0.498313, 0.499831) q[3]; U3(0.447766, 1.4922, 1.5011) q[4]; U3(0.496963, 9.393e-05, 1.49987) q[7]; U3(0.500118, 0.539835, 0.499998) q[8]; U3(0.249974, 0, 0.5) q[0]; U3(0.0351988, 0.505155, 0.50241) q[1]; U3(0.964768, 1.50065, 1.50218) q[2]; U3(0.0351988, 0.505155, 0.50241) q[3]; U3(0.964768, 1.50065, 1.50218) q[4]; U3(0.947287, 1.47595, 0.500047) q[7]; U3(0.0528048, 1.52245, 1.49998) q[8]; U3(0, 0, 0.5) q[11]; ZZPhase(3.5) q[12], q[0]; ZZPhase(3.91189) q[1], q[4]; ZZPhase(3.91189) q[3], q[2]; ZZPhase(3.91275) q[8], q[7]; U3(3.27857e-06, 0, 0.5) q[0]; U3(0.5, 1.5, 0.5) q[1]; U3(0.5, 1.5, 0.5) q[2]; U3(0.5, 1.5, 0.5) q[3]; U3(0.5, 1.5, 0.5) q[4]; U3(0.5, 1.5, 0.5) q[7]; U3(0.5, 1.5, 0.5) q[8]; U3(0, 0, 0.5) q[12]; ZZPhase(3.5) q[11], q[0]; ZZPhase(3.9997) q[1], q[4]; ZZPhase(3.9997) q[3], q[2]; ZZPhase(3.99958) q[8], q[7]; U3(0.5, 0.5, 1) q[0]; U3(0.447766, 1.4922, 1.5011) q[1]; U3(0.552265, 0.498313, 0.499831) q[2]; U3(0.447766, 1.4922, 1.5011) q[3]; U3(0.552265, 0.498313, 0.499831) q[4]; U3(0.536415, 1.47552, 0.497122) q[7]; U3(0.536558, 1.47718, 1.49733) q[8]; U3(0, 0, 0.5) q[11]; ZZPhase(3.5) q[12], q[0]; U3(0.0894252, 1.50049, 1.9997) q[1]; U3(0.00013701, 1.15938, 1.51008) q[2]; U3(0.0894252, 1.50049, 1.9997) q[3]; U3(0.00013701, 1.15938, 1.51008) q[4]; U3(0.0528048, 1.52245, 1.49998) q[7]; U3(0.947287, 1.47595, 0.500047) q[8]; U3(0, 1, 1.5) q[0]; ZZPhase(3.50003) q[2], q[1]; ZZPhase(3.50003) q[4], q[3]; ZZPhase(3.91275) q[5], q[8]; ZZPhase(3.91275) q[7], q[6]; U3(0, 0, 0.5) q[12]; ZZPhase(3.5) q[11], q[0]; U3(0.5, 1.5, 0.5) q[1]; U3(0.5, 1.5, 0.5) q[2]; U3(0.5, 1.5, 0.5) q[3]; U3(0.5, 1.5, 0.5) q[4]; U3(0.5, 1.5, 0.5) q[5]; U3(0.5, 1.5, 0.5) q[6]; U3(0.5, 1.5, 0.5) q[7]; U3(0.5, 1.5, 0.5) q[8]; U3(0, 1, 1.5) q[0]; ZZPhase(3.82449) q[2], q[1]; ZZPhase(3.82449) q[4], q[3]; ZZPhase(3.99958) q[5], q[8]; ZZPhase(3.99958) q[7], q[6]; ZZPhase(3.5) q[12], q[0]; U3(0.5, 1.5, 0) q[1]; U3(0.5, 1.5, 0) q[2]; U3(0.5, 1.5, 0) q[3]; U3(0.5, 1.5, 0) q[4]; U3(0.536558, 1.47718, 1.49733) q[5]; U3(0.536415, 1.47552, 0.497122) q[6]; U3(0.536558, 1.47718, 1.49733) q[7]; U3(0.536415, 1.47552, 0.497122) q[8]; U3(0.5, 0.5, 1) q[0]; ZZPhase(3.99997) q[2], q[1]; ZZPhase(3.99997) q[4], q[3]; U3(0.571487, 1.4989, 0.499793) q[5]; U3(0.570867, 1.49686, 0.500164) q[6]; U3(0.571487, 1.4989, 0.499793) q[7]; U3(0.570867, 1.49686, 0.500164) q[8]; U3(1, 1.75, 0.75) q[12]; U3(0.499965, 0.499975, 1.49999) q[1]; U3(0.524322, 0.561381, 1.52919) q[2]; U3(0.499965, 0.499975, 1.49999) q[3]; U3(0.524322, 0.561381, 1.52919) q[4]; ZZPhase(3.98535) q[6], q[5]; ZZPhase(3.98535) q[8], q[7]; ZZPhase(3.75003) q[12], q[11]; U3(0.5, 1.5, 0.5) q[5]; U3(0.5, 1.5, 0.5) q[6]; U3(0.5, 1.5, 0.5) q[7]; U3(0.5, 1.5, 0.5) q[8]; U3(0, 1.5422, 0.957808) q[11]; U3(1, 1.35242, 1.60245) q[12]; ZZPhase(3.5) q[12], q[0]; ZZPhase(3.99798) q[6], q[5]; ZZPhase(3.99798) q[8], q[7]; U3(0.749962, 0, 0.5) q[0]; U3(0.942016, 0.505787, 1.50523) q[5]; U3(0.94123, 0.517254, 1.51692) q[6]; U3(0.942016, 0.505787, 1.50523) q[7]; U3(0.94123, 0.517254, 1.51692) q[8]; U3(0, 0, 0.5) q[12]; ZZPhase(3.5) q[11], q[0]; U3(0.570867, 1.49686, 0.500164) q[5]; U3(0.571487, 1.4989, 0.499793) q[6]; U3(0.570867, 1.49686, 0.500164) q[7]; U3(0.571487, 1.4989, 0.499793) q[8]; U3(0.250026, 1, 1.5) q[0]; ZZPhase(3.98535) q[5], q[8]; ZZPhase(3.98535) q[7], q[6]; U3(0, 0, 0.5) q[11]; ZZPhase(3.5) q[12], q[0]; U3(0.5, 1.5, 0.5) q[5]; U3(0.5, 1.5, 0.5) q[6]; U3(0.5, 1.5, 0.5) q[7]; U3(0.5, 1.5, 0.5) q[8]; U3(3.27857e-06, 0, 0.5) q[0]; ZZPhase(3.99798) q[5], q[8]; ZZPhase(3.99798) q[7], q[6]; U3(0.917638, 1.29879, 0.258964) q[12]; ZZPhase(3.5) q[11], q[0]; U3(0.94123, 0.517254, 1.51692) q[5]; U3(0.942016, 0.505787, 1.50523) q[6]; U3(0.94123, 0.517254, 1.51692) q[7]; U3(0.942016, 0.505787, 1.50523) q[8]; U3(0.5, 0, 1) q[0]; U3(0.964768, 1.50065, 1.50218) q[5]; U3(0.0351988, 0.505155, 0.50241) q[6]; U3(0.964768, 1.50065, 1.50218) q[7]; U3(0.0351988, 0.505155, 0.50241) q[8]; U3(0.500011, 1.49976, 0.500074) q[11]; U3(0.5, 0.5, 1) q[0]; ZZPhase(3.91189) q[6], q[5]; ZZPhase(3.91189) q[8], q[7]; ZZPhase(3.50007) q[12], q[11]; ZZPhase(3.5) q[16], q[0]; U3(0.5, 1.5, 0.5) q[5]; U3(0.5, 1.5, 0.5) q[6]; U3(0.5, 1.5, 0.5) q[7]; U3(0.5, 1.5, 0.5) q[8]; U3(0.5, 1.5, 0.5) q[11]; U3(0.5, 1.5, 0.5) q[12]; U3(0.249962, 0, 0.5) q[0]; ZZPhase(3.9997) q[6], q[5]; ZZPhase(3.9997) q[8], q[7]; ZZPhase(3.97247) q[12], q[11]; U3(0, 0, 0.5) q[16]; ZZPhase(3.5) q[15], q[0]; U3(0.552265, 0.498313, 0.499831) q[5]; U3(0.447766, 1.4922, 1.5011) q[6]; U3(0.552265, 0.498313, 0.499831) q[7]; U3(0.447766, 1.4922, 1.5011) q[8]; U3(0.496963, 9.393e-05, 1.49987) q[11]; U3(0.500118, 0.539835, 0.499998) q[12]; U3(0.249974, 0, 0.5) q[0]; U3(0.0351988, 0.505155, 0.50241) q[5]; U3(0.964768, 1.50065, 1.50218) q[6]; U3(0.0351988, 0.505155, 0.50241) q[7]; U3(0.964768, 1.50065, 1.50218) q[8]; U3(0.947287, 1.47595, 0.500047) q[11]; U3(0.0528048, 1.52245, 1.49998) q[12]; U3(0, 0, 0.5) q[15]; ZZPhase(3.5) q[16], q[0]; ZZPhase(3.91189) q[5], q[8]; ZZPhase(3.91189) q[7], q[6]; ZZPhase(3.91275) q[12], q[11]; U3(3.27857e-06, 0, 0.5) q[0]; U3(0.5, 1.5, 0.5) q[5]; U3(0.5, 1.5, 0.5) q[6]; U3(0.5, 1.5, 0.5) q[7]; U3(0.5, 1.5, 0.5) q[8]; U3(0.5, 1.5, 0.5) q[11]; U3(0.5, 1.5, 0.5) q[12]; U3(0, 0, 0.5) q[16]; ZZPhase(3.5) q[15], q[0]; ZZPhase(3.9997) q[5], q[8]; ZZPhase(3.9997) q[7], q[6]; ZZPhase(3.99958) q[12], q[11]; U3(0.5, 0.5, 1) q[0]; U3(0.447766, 1.4922, 1.5011) q[5]; U3(0.552265, 0.498313, 0.499831) q[6]; U3(0.447766, 1.4922, 1.5011) q[7]; U3(0.552265, 0.498313, 0.499831) q[8]; U3(0.536415, 1.47552, 0.497122) q[11]; U3(0.536558, 1.47718, 1.49733) q[12]; U3(0, 0, 0.5) q[15]; ZZPhase(3.5) q[16], q[0]; U3(0.0894252, 1.50049, 1.9997) q[5]; U3(0.00013701, 1.15938, 1.51008) q[6]; U3(0.0894252, 1.50049, 1.9997) q[7]; U3(0.00013701, 1.15938, 1.51008) q[8]; U3(0.0528048, 1.52245, 1.49998) q[11]; U3(0.947287, 1.47595, 0.500047) q[12]; U3(0, 1, 1.5) q[0]; ZZPhase(3.50003) q[6], q[5]; ZZPhase(3.50003) q[8], q[7]; ZZPhase(3.91275) q[9], q[12]; ZZPhase(3.91275) q[11], q[10]; U3(0, 0, 0.5) q[16]; ZZPhase(3.5) q[15], q[0]; U3(0.5, 1.5, 0.5) q[5]; U3(0.5, 1.5, 0.5) q[6]; U3(0.5, 1.5, 0.5) q[7]; U3(0.5, 1.5, 0.5) q[8]; U3(0.5, 1.5, 0.5) q[9]; U3(0.5, 1.5, 0.5) q[10]; U3(0.5, 1.5, 0.5) q[11]; U3(0.5, 1.5, 0.5) q[12]; U3(0, 1, 1.5) q[0]; ZZPhase(3.82449) q[6], q[5]; ZZPhase(3.82449) q[8], q[7]; ZZPhase(3.99958) q[9], q[12]; ZZPhase(3.99958) q[11], q[10]; ZZPhase(3.5) q[16], q[0]; U3(0.5, 1.5, 0) q[5]; U3(0.5, 1.5, 0) q[6]; U3(0.5, 1.5, 0) q[7]; U3(0.5, 1.5, 0) q[8]; U3(0.536558, 1.47718, 1.49733) q[9]; U3(0.536415, 1.47552, 0.497122) q[10]; U3(0.536558, 1.47718, 1.49733) q[11]; U3(0.536415, 1.47552, 0.497122) q[12]; U3(0.5, 0.5, 1) q[0]; ZZPhase(3.99997) q[6], q[5]; ZZPhase(3.99997) q[8], q[7]; U3(0.571487, 1.4989, 0.499793) q[9]; U3(0.570867, 1.49686, 0.500164) q[10]; U3(0.571487, 1.4989, 0.499793) q[11]; U3(0.570867, 1.49686, 0.500164) q[12]; U3(1, 1.75, 0.75) q[16]; U3(0.499965, 0.499975, 1.49999) q[5]; U3(0.524322, 0.561381, 1.52919) q[6]; U3(0.499965, 0.499975, 1.49999) q[7]; U3(0.524322, 0.561381, 1.52919) q[8]; ZZPhase(3.98535) q[10], q[9]; ZZPhase(3.98535) q[12], q[11]; ZZPhase(3.75003) q[16], q[15]; U3(0.5, 1.5, 0.5) q[9]; U3(0.5, 1.5, 0.5) q[10]; U3(0.5, 1.5, 0.5) q[11]; U3(0.5, 1.5, 0.5) q[12]; U3(0, 1.5422, 0.957808) q[15]; U3(1, 1.35242, 1.60245) q[16]; ZZPhase(3.5) q[16], q[0]; ZZPhase(3.99798) q[10], q[9]; ZZPhase(3.99798) q[12], q[11]; U3(0.749962, 0, 0.5) q[0]; U3(0.942016, 0.505787, 1.50523) q[9]; U3(0.94123, 0.517254, 1.51692) q[10]; U3(0.942016, 0.505787, 1.50523) q[11]; U3(0.94123, 0.517254, 1.51692) q[12]; U3(0, 0, 0.5) q[16]; ZZPhase(3.5) q[15], q[0]; U3(0.570867, 1.49686, 0.500164) q[9]; U3(0.571487, 1.4989, 0.499793) q[10]; U3(0.570867, 1.49686, 0.500164) q[11]; U3(0.571487, 1.4989, 0.499793) q[12]; U3(0.250026, 1, 1.5) q[0]; ZZPhase(3.98535) q[9], q[12]; ZZPhase(3.98535) q[11], q[10]; U3(0, 0, 0.5) q[15]; ZZPhase(3.5) q[16], q[0]; U3(0.5, 1.5, 0.5) q[9]; U3(0.5, 1.5, 0.5) q[10]; U3(0.5, 1.5, 0.5) q[11]; U3(0.5, 1.5, 0.5) q[12]; U3(3.27857e-06, 0, 0.5) q[0]; ZZPhase(3.99798) q[9], q[12]; ZZPhase(3.99798) q[11], q[10]; U3(0.917638, 1.29879, 0.258964) q[16]; ZZPhase(3.5) q[15], q[0]; U3(0.94123, 0.517254, 1.51692) q[9]; U3(0.942016, 0.505787, 1.50523) q[10]; U3(0.94123, 0.517254, 1.51692) q[11]; U3(0.942016, 0.505787, 1.50523) q[12]; U3(0.5, 0, 1) q[0]; U3(0.964768, 1.50065, 1.50218) q[9]; U3(0.0351988, 0.505155, 0.50241) q[10]; U3(0.964768, 1.50065, 1.50218) q[11]; U3(0.0351988, 0.505155, 0.50241) q[12]; U3(0.500011, 1.49976, 0.500074) q[15]; U3(0.5, 0.5, 1) q[0]; ZZPhase(3.91189) q[10], q[9]; ZZPhase(3.91189) q[12], q[11]; ZZPhase(3.50007) q[16], q[15]; ZZPhase(3.5) q[2], q[0]; U3(0.5, 1.5, 0.5) q[9]; U3(0.5, 1.5, 0.5) q[10]; U3(0.5, 1.5, 0.5) q[11]; U3(0.5, 1.5, 0.5) q[12]; U3(0.5, 1.5, 0.5) q[15]; U3(0.5, 1.5, 0.5) q[16]; U3(0.249987, 1, 1.5) q[0]; U3(0, 0, 0.5) q[2]; ZZPhase(3.9997) q[10], q[9]; ZZPhase(3.9997) q[12], q[11]; ZZPhase(3.97247) q[16], q[15]; ZZPhase(3.5) q[1], q[0]; U3(0.552265, 0.498313, 0.499831) q[9]; U3(0.447766, 1.4922, 1.5011) q[10]; U3(0.552265, 0.498313, 0.499831) q[11]; U3(0.447766, 1.4922, 1.5011) q[12]; U3(0.496963, 9.393e-05, 1.49987) q[15]; U3(0.500118, 0.539835, 0.499998) q[16]; U3(0.249995, 1, 1.5) q[0]; U3(0, 0, 0.5) q[1]; U3(0.0351988, 0.505155, 0.50241) q[9]; U3(0.964768, 1.50065, 1.50218) q[10]; U3(0.0351988, 0.505155, 0.50241) q[11]; U3(0.964768, 1.50065, 1.50218) q[12]; U3(0.947287, 1.47595, 0.500047) q[15]; U3(0.0528048, 1.52245, 1.49998) q[16]; ZZPhase(3.5) q[2], q[0]; ZZPhase(3.91189) q[9], q[12]; ZZPhase(3.91189) q[11], q[10]; ZZPhase(3.91275) q[16], q[15]; U3(5.52926e-06, 1, 1.5) q[0]; U3(0, 0, 0.5) q[2]; U3(0.5, 1.5, 0.5) q[9]; U3(0.5, 1.5, 0.5) q[10]; U3(0.5, 1.5, 0.5) q[11]; U3(0.5, 1.5, 0.5) q[12]; U3(0.5, 1.5, 0.5) q[15]; U3(0.5, 1.5, 0.5) q[16]; ZZPhase(3.5) q[1], q[0]; ZZPhase(3.9997) q[9], q[12]; ZZPhase(3.9997) q[11], q[10]; ZZPhase(3.99958) q[16], q[15]; U3(0.5, 0.5, 1) q[0]; U3(0, 0, 0.5) q[1]; U3(0.447766, 1.4922, 1.5011) q[9]; U3(0.552265, 0.498313, 0.499831) q[10]; U3(0.447766, 1.4922, 1.5011) q[11]; U3(0.552265, 0.498313, 0.499831) q[12]; U3(0.536415, 1.47552, 0.497122) q[15]; U3(0.536558, 1.47718, 1.49733) q[16]; ZZPhase(3.5) q[2], q[0]; U3(0.0894252, 1.50049, 1.9997) q[9]; U3(0.00013701, 1.15938, 1.51008) q[10]; U3(0.0894252, 1.50049, 1.9997) q[11]; U3(0.00013701, 1.15938, 1.51008) q[12]; U3(0.0528048, 1.52245, 1.49998) q[15]; U3(0.947287, 1.47595, 0.500047) q[16]; U3(0, 1, 1.5) q[0]; U3(0, 0, 0.5) q[2]; ZZPhase(3.50003) q[10], q[9]; ZZPhase(3.50003) q[12], q[11]; ZZPhase(3.91275) q[13], q[16]; ZZPhase(3.91275) q[15], q[14]; ZZPhase(3.5) q[1], q[0]; U3(0.5, 1.5, 0.5) q[9]; U3(0.5, 1.5, 0.5) q[10]; U3(0.5, 1.5, 0.5) q[11]; U3(0.5, 1.5, 0.5) q[12]; U3(0.5, 1.5, 0.5) q[13]; U3(0.5, 1.5, 0.5) q[14]; U3(0.5, 1.5, 0.5) q[15]; U3(0.5, 1.5, 0.5) q[16]; U3(0, 1, 1.5) q[0]; U3(1, 0.812167, 1.81217) q[1]; ZZPhase(3.82449) q[10], q[9]; ZZPhase(3.82449) q[12], q[11]; ZZPhase(3.99958) q[13], q[16]; ZZPhase(3.99958) q[15], q[14]; ZZPhase(3.5) q[2], q[0]; U3(0.5, 1.5, 0) q[9]; U3(0.5, 1.5, 0) q[10]; U3(0.5, 1.5, 0) q[11]; U3(0.5, 1.5, 0) q[12]; U3(0.536558, 1.47718, 1.49733) q[13]; U3(0.536415, 1.47552, 0.497122) q[14]; U3(0.536558, 1.47718, 1.49733) q[15]; U3(0.536415, 1.47552, 0.497122) q[16]; U3(0.5, 0.5, 1) q[0]; ZZPhase(3.75) q[2], q[1]; ZZPhase(3.99997) q[10], q[9]; ZZPhase(3.99997) q[12], q[11]; U3(0.571487, 1.4989, 0.499793) q[13]; U3(0.570867, 1.49686, 0.500164) q[14]; U3(0.571487, 1.4989, 0.499793) q[15]; U3(0.570867, 1.49686, 0.500164) q[16]; U3(1, 0.798419, 0.298424) q[1]; U3(0, 0.291286, 1.45873) q[2]; U3(0.499965, 0.499975, 1.49999) q[9]; U3(0.524322, 0.561381, 1.52919) q[10]; U3(0.499965, 0.499975, 1.49999) q[11]; U3(0.524322, 0.561381, 1.52919) q[12]; ZZPhase(3.98535) q[14], q[13]; ZZPhase(3.98535) q[16], q[15]; ZZPhase(3.5) q[2], q[0]; U3(0.5, 1.5, 0.5) q[13]; U3(0.5, 1.5, 0.5) q[14]; U3(0.5, 1.5, 0.5) q[15]; U3(0.5, 1.5, 0.5) q[16]; U3(0.749987, 1, 1.5) q[0]; U3(0, 0, 0.5) q[2]; ZZPhase(3.99798) q[14], q[13]; ZZPhase(3.99798) q[16], q[15]; ZZPhase(3.5) q[1], q[0]; U3(0.942016, 0.505787, 1.50523) q[13]; U3(0.94123, 0.517254, 1.51692) q[14]; U3(0.942016, 0.505787, 1.50523) q[15]; U3(0.94123, 0.517254, 1.51692) q[16]; U3(0.250005, 0, 0.5) q[0]; U3(0, 0, 0.5) q[1]; U3(0.570867, 1.49686, 0.500164) q[13]; U3(0.571487, 1.4989, 0.499793) q[14]; U3(0.570867, 1.49686, 0.500164) q[15]; U3(0.571487, 1.4989, 0.499793) q[16]; ZZPhase(3.5) q[2], q[0]; ZZPhase(3.98535) q[13], q[16]; ZZPhase(3.98535) q[15], q[14]; U3(5.52926e-06, 1, 1.5) q[0]; U3(0.474507, 1.55486, 0.189961) q[2]; U3(0.5, 1.5, 0.5) q[13]; U3(0.5, 1.5, 0.5) q[14]; U3(0.5, 1.5, 0.5) q[15]; U3(0.5, 1.5, 0.5) q[16]; ZZPhase(3.5) q[1], q[0]; ZZPhase(3.99798) q[13], q[16]; ZZPhase(3.99798) q[15], q[14]; U3(0.5, 0, 1) q[0]; U3(0.499993, 1.50011, 0.500042) q[1]; U3(0.94123, 0.517254, 1.51692) q[13]; U3(0.942016, 0.505787, 1.50523) q[14]; U3(0.94123, 0.517254, 1.51692) q[15]; U3(0.942016, 0.505787, 1.50523) q[16]; U3(0.5, 0.5, 1) q[0]; ZZPhase(3.5) q[2], q[1]; U3(0.964768, 1.50065, 1.50218) q[13]; U3(0.0351988, 0.505155, 0.50241) q[14]; U3(0.964768, 1.50065, 1.50218) q[15]; U3(0.0351988, 0.505155, 0.50241) q[16]; ZZPhase(3.5) q[6], q[0]; U3(0.5, 1.5, 0.5) q[1]; U3(0.5, 1.5, 0.5) q[2]; ZZPhase(3.91189) q[14], q[13]; ZZPhase(3.91189) q[16], q[15]; U3(0.249987, 1, 1.5) q[0]; ZZPhase(3.92483) q[2], q[1]; U3(0, 0, 0.5) q[6]; U3(0.5, 1.5, 0.5) q[13]; U3(0.5, 1.5, 0.5) q[14]; U3(0.5, 1.5, 0.5) q[15]; U3(0.5, 1.5, 0.5) q[16]; ZZPhase(3.5) q[5], q[0]; U3(0.431731, 1.99993, 0.500109) q[1]; U3(0.499904, 0.756431, 1.4999) q[2]; ZZPhase(3.9997) q[14], q[13]; ZZPhase(3.9997) q[16], q[15]; U3(0.249995, 1, 1.5) q[0]; U3(0.122451, 1.4996, 1.0002) q[1]; U3(0.122451, 1.4996, 1.0002) q[2]; U3(0, 0, 0.5) q[5]; U3(0.552265, 0.498313, 0.499831) q[13]; U3(0.447766, 1.4922, 1.5011) q[14]; U3(0.552265, 0.498313, 0.499831) q[15]; U3(0.447766, 1.4922, 1.5011) q[16]; ZZPhase(3.5) q[6], q[0]; U3(0.0351988, 0.505155, 0.50241) q[13]; U3(0.964768, 1.50065, 1.50218) q[14]; U3(0.0351988, 0.505155, 0.50241) q[15]; U3(0.964768, 1.50065, 1.50218) q[16]; U3(5.52926e-06, 1, 1.5) q[0]; U3(0, 0, 0.5) q[6]; ZZPhase(3.91189) q[13], q[16]; ZZPhase(3.91189) q[15], q[14]; ZZPhase(3.5) q[5], q[0]; U3(0.5, 1.5, 0.5) q[13]; U3(0.5, 1.5, 0.5) q[14]; U3(0.5, 1.5, 0.5) q[15]; U3(0.5, 1.5, 0.5) q[16]; U3(0.5, 0.5, 1) q[0]; U3(0, 0, 0.5) q[5]; ZZPhase(3.9997) q[13], q[16]; ZZPhase(3.9997) q[15], q[14]; ZZPhase(3.5) q[6], q[0]; U3(0.447766, 1.4922, 1.5011) q[13]; U3(0.552265, 0.498313, 0.499831) q[14]; U3(0.447766, 1.4922, 1.5011) q[15]; U3(0.552265, 0.498313, 0.499831) q[16]; U3(0, 1, 1.5) q[0]; U3(0, 0, 0.5) q[6]; U3(0.0894252, 1.50049, 1.9997) q[13]; U3(0.00013701, 1.15938, 1.51008) q[14]; U3(0.0894252, 1.50049, 1.9997) q[15]; U3(0.00013701, 1.15938, 1.51008) q[16]; ZZPhase(3.5) q[5], q[0]; ZZPhase(3.50003) q[14], q[13]; ZZPhase(3.50003) q[16], q[15]; U3(0, 1, 1.5) q[0]; U3(1, 0.812167, 1.81217) q[5]; U3(0.5, 1.5, 0.5) q[13]; U3(0.5, 1.5, 0.5) q[14]; U3(0.5, 1.5, 0.5) q[15]; U3(0.5, 1.5, 0.5) q[16]; ZZPhase(3.5) q[6], q[0]; ZZPhase(3.82449) q[14], q[13]; ZZPhase(3.82449) q[16], q[15]; U3(0.5, 0.5, 1) q[0]; ZZPhase(3.75) q[6], q[5]; U3(0.5, 1.5, 0) q[13]; U3(0.5, 1.5, 0) q[14]; U3(0.5, 1.5, 0) q[15]; U3(0.5, 1.5, 0) q[16]; U3(1, 0.798419, 0.298424) q[5]; U3(0, 0.291286, 1.45873) q[6]; ZZPhase(3.99997) q[14], q[13]; ZZPhase(3.99997) q[16], q[15]; ZZPhase(3.5) q[6], q[0]; U3(0.499965, 0.499975, 1.49999) q[13]; U3(0.524322, 0.561381, 1.52919) q[14]; U3(0.499965, 0.499975, 1.49999) q[15]; U3(0.524322, 0.561381, 1.52919) q[16]; U3(0.749987, 1, 1.5) q[0]; U3(0, 0, 0.5) q[6]; ZZPhase(3.5) q[5], q[0]; U3(0.250005, 0, 0.5) q[0]; U3(0, 0, 0.5) q[5]; ZZPhase(3.5) q[6], q[0]; U3(5.52926e-06, 1, 1.5) q[0]; U3(0.474507, 1.55486, 0.189961) q[6]; ZZPhase(3.5) q[5], q[0]; U3(0.5, 0, 1) q[0]; U3(0.499993, 1.50011, 0.500042) q[5]; U3(0.5, 0.5, 1) q[0]; ZZPhase(3.5) q[6], q[5]; ZZPhase(3.5) q[10], q[0]; U3(0.5, 1.5, 0.5) q[5]; U3(0.5, 1.5, 0.5) q[6]; U3(0.249987, 1, 1.5) q[0]; ZZPhase(3.92483) q[6], q[5]; U3(0, 0, 0.5) q[10]; ZZPhase(3.5) q[9], q[0]; U3(0.431731, 1.99993, 0.500109) q[5]; U3(0.499904, 0.756431, 1.4999) q[6]; U3(0.249995, 1, 1.5) q[0]; U3(0.00818837, 1.49939, 1.51204) q[5]; U3(0.00818837, 1.49939, 1.51204) q[6]; U3(0, 0, 0.5) q[9]; ZZPhase(3.5) q[10], q[0]; ZZPhase(3.50236) q[5], q[1]; ZZPhase(3.50236) q[6], q[2]; U3(5.52926e-06, 1, 1.5) q[0]; U3(0.5, 1.5, 0.5) q[1]; U3(0.5, 1.5, 0.5) q[2]; U3(0.5, 1.5, 0.5) q[5]; U3(0.5, 1.5, 0.5) q[6]; U3(0, 0, 0.5) q[10]; ZZPhase(3.5) q[9], q[0]; ZZPhase(3.53639) q[5], q[1]; ZZPhase(3.53639) q[6], q[2]; U3(0.5, 0.5, 1) q[0]; U3(0.99186, 1.25471, 0.501795) q[1]; U3(0.99186, 1.25471, 0.501795) q[2]; U3(0.63674, 1.9753, 1.46505) q[5]; U3(0.63674, 1.9753, 1.46505) q[6]; U3(0, 0, 0.5) q[9]; ZZPhase(3.5) q[10], q[0]; U3(0, 1, 1.5) q[0]; U3(0, 0, 0.5) q[10]; ZZPhase(3.5) q[9], q[0]; U3(0, 1, 1.5) q[0]; U3(1, 0.812167, 1.81217) q[9]; ZZPhase(3.5) q[10], q[0]; U3(0.5, 0.5, 1) q[0]; ZZPhase(3.75) q[10], q[9]; U3(1, 0.798419, 0.298424) q[9]; U3(0, 0.291286, 1.45873) q[10]; ZZPhase(3.5) q[10], q[0]; U3(0.749987, 1, 1.5) q[0]; U3(0, 0, 0.5) q[10]; ZZPhase(3.5) q[9], q[0]; U3(0.250005, 0, 0.5) q[0]; U3(0, 0, 0.5) q[9]; ZZPhase(3.5) q[10], q[0]; U3(5.52926e-06, 1, 1.5) q[0]; U3(0.474507, 1.55486, 0.189961) q[10]; ZZPhase(3.5) q[9], q[0]; U3(0.5, 0, 1) q[0]; U3(0.499993, 1.50011, 0.500042) q[9]; U3(0.5, 0.5, 1) q[0]; ZZPhase(3.5) q[10], q[9]; ZZPhase(3.5) q[14], q[0]; U3(0.5, 1.5, 0.5) q[9]; U3(0.5, 1.5, 0.5) q[10]; U3(0.249987, 1, 1.5) q[0]; ZZPhase(3.92483) q[10], q[9]; U3(0, 0, 0.5) q[14]; ZZPhase(3.5) q[13], q[0]; U3(0.431731, 1.99993, 0.500109) q[9]; U3(0.499904, 0.756431, 1.4999) q[10]; U3(0.249995, 1, 1.5) q[0]; U3(0.122451, 1.4996, 1.0002) q[9]; U3(0.122451, 1.4996, 1.0002) q[10]; U3(0, 0, 0.5) q[13]; ZZPhase(3.5) q[14], q[0]; U3(5.52926e-06, 1, 1.5) q[0]; U3(0, 0, 0.5) q[14]; ZZPhase(3.5) q[13], q[0]; U3(0.5, 0.5, 1) q[0]; U3(0, 0, 0.5) q[13]; ZZPhase(3.5) q[14], q[0]; U3(0, 1, 1.5) q[0]; U3(0, 0, 0.5) q[14]; ZZPhase(3.5) q[13], q[0]; U3(0, 1, 1.5) q[0]; U3(1, 0.812167, 1.81217) q[13]; ZZPhase(3.5) q[14], q[0]; U3(0.5, 0.5, 1) q[0]; ZZPhase(3.75) q[14], q[13]; U3(1, 0.798419, 0.298424) q[13]; U3(0, 0.291286, 1.45873) q[14]; ZZPhase(3.5) q[14], q[0]; U3(0.749987, 1, 1.5) q[0]; U3(0, 0, 0.5) q[14]; ZZPhase(3.5) q[13], q[0]; U3(0.250005, 0, 0.5) q[0]; U3(0, 0, 0.5) q[13]; ZZPhase(3.5) q[14], q[0]; U3(5.52926e-06, 1, 1.5) q[0]; U3(0.474507, 1.55486, 0.189961) q[14]; ZZPhase(3.5) q[13], q[0]; U3(0.5, 0, 1) q[0]; U3(0.499993, 1.50011, 0.500042) q[13]; U3(0.5, 0.5, 1) q[0]; ZZPhase(3.5) q[14], q[13]; ZZPhase(3.5) q[4], q[0]; U3(0.5, 1.5, 0.5) q[13]; U3(0.5, 1.5, 0.5) q[14]; U3(0.249987, 1, 1.5) q[0]; U3(0, 0, 0.5) q[4]; ZZPhase(3.92483) q[14], q[13]; ZZPhase(3.5) q[3], q[0]; U3(0.431731, 1.99993, 0.500109) q[13]; U3(0.499904, 0.756431, 1.4999) q[14]; U3(0.249995, 1, 1.5) q[0]; U3(0, 0, 0.5) q[3]; U3(0.00818837, 1.49939, 1.51204) q[13]; U3(0.00818837, 1.49939, 1.51204) q[14]; ZZPhase(3.5) q[4], q[0]; ZZPhase(3.50236) q[13], q[9]; ZZPhase(3.50236) q[14], q[10]; U3(5.52926e-06, 1, 1.5) q[0]; U3(0, 0, 0.5) q[4]; U3(0.5, 1.5, 0.5) q[9]; U3(0.5, 1.5, 0.5) q[10]; U3(0.5, 1.5, 0.5) q[13]; U3(0.5, 1.5, 0.5) q[14]; ZZPhase(3.5) q[3], q[0]; ZZPhase(3.53639) q[13], q[9]; ZZPhase(3.53639) q[14], q[10]; U3(0.5, 0.5, 1) q[0]; U3(0, 0, 0.5) q[3]; U3(0.99186, 1.25471, 0.501795) q[9]; U3(0.99186, 1.25471, 0.501795) q[10]; U3(0.63674, 1.9753, 1.46505) q[13]; U3(0.63674, 1.9753, 1.46505) q[14]; ZZPhase(3.5) q[4], q[0]; U3(0, 1, 1.5) q[0]; U3(0, 0, 0.5) q[4]; ZZPhase(3.5) q[3], q[0]; U3(0, 1, 1.5) q[0]; U3(1, 0.812167, 1.81217) q[3]; ZZPhase(3.5) q[4], q[0]; U3(0.5, 0.5, 1) q[0]; ZZPhase(3.75) q[4], q[3]; U3(1, 0.798419, 0.298424) q[3]; U3(0, 0.291286, 1.45873) q[4]; ZZPhase(3.5) q[4], q[0]; U3(0.749987, 1, 1.5) q[0]; U3(0, 0, 0.5) q[4]; ZZPhase(3.5) q[3], q[0]; U3(0.250005, 0, 0.5) q[0]; U3(0, 0, 0.5) q[3]; ZZPhase(3.5) q[4], q[0]; U3(5.52926e-06, 1, 1.5) q[0]; U3(0.474507, 1.55486, 0.189961) q[4]; ZZPhase(3.5) q[3], q[0]; U3(0.5, 0, 1) q[0]; U3(0.499993, 1.50011, 0.500042) q[3]; U3(0.5, 0.5, 1) q[0]; ZZPhase(3.5) q[4], q[3]; ZZPhase(3.5) q[8], q[0]; U3(0.5, 1.5, 0.5) q[3]; U3(0.5, 1.5, 0.5) q[4]; U3(0.249987, 1, 1.5) q[0]; ZZPhase(3.92483) q[4], q[3]; U3(0, 0, 0.5) q[8]; ZZPhase(3.5) q[7], q[0]; U3(0.431731, 1.99993, 0.500109) q[3]; U3(0.499904, 0.756431, 1.4999) q[4]; U3(0.249995, 1, 1.5) q[0]; U3(0.122451, 1.4996, 1.0002) q[3]; U3(0.122451, 1.4996, 1.0002) q[4]; U3(0, 0, 0.5) q[7]; ZZPhase(3.5) q[8], q[0]; U3(5.52926e-06, 1, 1.5) q[0]; U3(0, 0, 0.5) q[8]; ZZPhase(3.5) q[7], q[0]; U3(0.5, 0.5, 1) q[0]; U3(0, 0, 0.5) q[7]; ZZPhase(3.5) q[8], q[0]; U3(0, 1, 1.5) q[0]; U3(0, 0, 0.5) q[8]; ZZPhase(3.5) q[7], q[0]; U3(0, 1, 1.5) q[0]; U3(1, 0.812167, 1.81217) q[7]; ZZPhase(3.5) q[8], q[0]; U3(0.5, 0.5, 1) q[0]; ZZPhase(3.75) q[8], q[7]; U3(1, 0.798419, 0.298424) q[7]; U3(0, 0.291286, 1.45873) q[8]; ZZPhase(3.5) q[8], q[0]; U3(0.749987, 1, 1.5) q[0]; U3(0, 0, 0.5) q[8]; ZZPhase(3.5) q[7], q[0]; U3(0.250005, 0, 0.5) q[0]; U3(0, 0, 0.5) q[7]; ZZPhase(3.5) q[8], q[0]; U3(5.52926e-06, 1, 1.5) q[0]; U3(0.474507, 1.55486, 0.189961) q[8]; ZZPhase(3.5) q[7], q[0]; U3(0.5, 0, 1) q[0]; U3(0.499993, 1.50011, 0.500042) q[7]; U3(0.5, 0.5, 1) q[0]; ZZPhase(3.5) q[8], q[7]; ZZPhase(3.5) q[12], q[0]; U3(0.5, 1.5, 0.5) q[7]; U3(0.5, 1.5, 0.5) q[8]; U3(0.249987, 1, 1.5) q[0]; ZZPhase(3.92483) q[8], q[7]; U3(0, 0, 0.5) q[12]; ZZPhase(3.5) q[11], q[0]; U3(0.431731, 1.99993, 0.500109) q[7]; U3(0.499904, 0.756431, 1.4999) q[8]; U3(0.249995, 1, 1.5) q[0]; U3(0.00818837, 1.49939, 1.51204) q[7]; U3(0.00818837, 1.49939, 1.51204) q[8]; U3(0, 0, 0.5) q[11]; ZZPhase(3.5) q[12], q[0]; ZZPhase(3.50236) q[7], q[3]; ZZPhase(3.50236) q[8], q[4]; U3(5.52926e-06, 1, 1.5) q[0]; U3(0.5, 1.5, 0.5) q[3]; U3(0.5, 1.5, 0.5) q[4]; U3(0.5, 1.5, 0.5) q[7]; U3(0.5, 1.5, 0.5) q[8]; U3(0, 0, 0.5) q[12]; ZZPhase(3.5) q[11], q[0]; ZZPhase(3.53639) q[7], q[3]; ZZPhase(3.53639) q[8], q[4]; U3(0.5, 0.5, 1) q[0]; U3(0.99186, 1.25471, 0.501795) q[3]; U3(0.99186, 1.25471, 0.501795) q[4]; U3(0.63674, 1.9753, 1.46505) q[7]; U3(0.63674, 1.9753, 1.46505) q[8]; U3(0, 0, 0.5) q[11]; ZZPhase(3.5) q[12], q[0]; U3(0, 1, 1.5) q[0]; U3(0, 0, 0.5) q[12]; ZZPhase(3.5) q[11], q[0]; U3(0, 1, 1.5) q[0]; U3(1, 0.812167, 1.81217) q[11]; ZZPhase(3.5) q[12], q[0]; U3(0.5, 0.5, 1) q[0]; ZZPhase(3.75) q[12], q[11]; U3(1, 0.798419, 0.298424) q[11]; U3(0, 0.291286, 1.45873) q[12]; ZZPhase(3.5) q[12], q[0]; U3(0.749987, 1, 1.5) q[0]; U3(0, 0, 0.5) q[12]; ZZPhase(3.5) q[11], q[0]; U3(0.250005, 0, 0.5) q[0]; U3(0, 0, 0.5) q[11]; ZZPhase(3.5) q[12], q[0]; U3(5.52926e-06, 1, 1.5) q[0]; U3(0.474507, 1.55486, 0.189961) q[12]; ZZPhase(3.5) q[11], q[0]; U3(0.5, 0, 1) q[0]; U3(0.499993, 1.50011, 0.500042) q[11]; U3(0.5, 0.5, 1) q[0]; ZZPhase(3.5) q[12], q[11]; ZZPhase(3.5) q[16], q[0]; U3(0.5, 1.5, 0.5) q[11]; U3(0.5, 1.5, 0.5) q[12]; U3(0.249987, 1, 1.5) q[0]; ZZPhase(3.92483) q[12], q[11]; U3(0, 0, 0.5) q[16]; ZZPhase(3.5) q[15], q[0]; U3(0.431731, 1.99993, 0.500109) q[11]; U3(0.499904, 0.756431, 1.4999) q[12]; U3(0.249995, 1, 1.5) q[0]; U3(0.122451, 1.4996, 1.0002) q[11]; U3(0.122451, 1.4996, 1.0002) q[12]; U3(0, 0, 0.5) q[15]; ZZPhase(3.5) q[16], q[0]; U3(5.52926e-06, 1, 1.5) q[0]; U3(0, 0, 0.5) q[16]; ZZPhase(3.5) q[15], q[0]; U3(0.5, 0.5, 1) q[0]; U3(0, 0, 0.5) q[15]; ZZPhase(3.5) q[16], q[0]; U3(0, 1, 1.5) q[0]; U3(0, 0, 0.5) q[16]; ZZPhase(3.5) q[15], q[0]; U3(0, 1, 1.5) q[0]; U3(1, 0.812167, 1.81217) q[15]; ZZPhase(3.5) q[16], q[0]; U3(0.5, 0.5, 1) q[0]; ZZPhase(3.75) q[16], q[15]; U3(1, 0.798419, 0.298424) q[15]; U3(0, 0.291286, 1.45873) q[16]; ZZPhase(3.5) q[16], q[0]; U3(0.749987, 1, 1.5) q[0]; U3(0, 0, 0.5) q[16]; ZZPhase(3.5) q[15], q[0]; U3(0.250005, 0, 0.5) q[0]; U3(0, 0, 0.5) q[15]; ZZPhase(3.5) q[16], q[0]; U3(5.52926e-06, 1, 1.5) q[0]; U3(0.474507, 1.55486, 0.189961) q[16]; ZZPhase(3.5) q[15], q[0]; U3(0.5, 0, 1) q[0]; U3(0.499993, 1.50011, 0.500042) q[15]; U3(0.5, 0.5, 1.25) q[0]; ZZPhase(3.5) q[16], q[15]; ZZPhase(3.5) q[5], q[0]; U3(0.5, 1.5, 0.5) q[15]; U3(0.5, 1.5, 0.5) q[16]; U3(1.206e-05, 0, 0.5) q[0]; U3(0, 0, 0.5) q[5]; ZZPhase(3.92483) q[16], q[15]; ZZPhase(3.5) q[1], q[0]; U3(0.431731, 1.99993, 0.500109) q[15]; U3(0.499904, 0.756431, 1.4999) q[16]; U3(0.000101273, 0, 0.5) q[0]; U3(0, 0, 0.5) q[1]; U3(0.00818837, 1.49939, 1.51204) q[15]; U3(0.00818837, 1.49939, 1.51204) q[16]; ZZPhase(3.5) q[5], q[0]; ZZPhase(3.50236) q[15], q[11]; ZZPhase(3.50236) q[16], q[12]; U3(0.249876, 0, 0.5) q[0]; U3(0, 0, 0.5) q[5]; U3(0.5, 1.5, 0.5) q[11]; U3(0.5, 1.5, 0.5) q[12]; U3(0.5, 1.5, 0.5) q[15]; U3(0.5, 1.5, 0.5) q[16]; ZZPhase(3.5) q[1], q[0]; ZZPhase(3.53639) q[15], q[11]; ZZPhase(3.53639) q[16], q[12]; U3(0.5, 0.5, 1) q[0]; U3(0, 0, 0.5) q[1]; U3(0.99186, 1.25471, 0.501795) q[11]; U3(0.99186, 1.25471, 0.501795) q[12]; U3(0.63674, 1.9753, 1.46505) q[15]; U3(0.63674, 1.9753, 1.46505) q[16]; ZZPhase(3.5) q[5], q[0]; U3(0, 1, 1.5) q[0]; U3(0, 0, 0.5) q[5]; ZZPhase(3.5) q[1], q[0]; U3(0, 1, 1.5) q[0]; U3(1, 0.984121, 1.98412) q[1]; ZZPhase(3.5) q[5], q[0]; U3(0.5, 0.5, 0.75) q[0]; ZZPhase(3.9999) q[5], q[1]; U3(1, 0.266, 0.0161244) q[1]; U3(0, 1.44169, 1.05832) q[5]; ZZPhase(3.5) q[5], q[0]; U3(1.206e-05, 0, 0.5) q[0]; U3(0, 0, 0.5) q[5]; ZZPhase(3.5) q[1], q[0]; U3(0.000101273, 0, 0.5) q[0]; U3(0, 0, 0.5) q[1]; ZZPhase(3.5) q[5], q[0]; U3(0.749876, 0, 0.5) q[0]; U3(0.85681, 0.426424, 0.443587) q[5]; ZZPhase(3.5) q[1], q[0]; U3(0.5, 0, 1) q[0]; U3(0.508268, 1.50005, 1.49746) q[1]; U3(0.5, 0.5, 1.25) q[0]; ZZPhase(3.50236) q[5], q[1]; ZZPhase(3.5) q[6], q[0]; U3(0.5, 1.5, 0.5) q[1]; U3(0.5, 1.5, 0.5) q[5]; U3(1.206e-05, 0, 0.5) q[0]; ZZPhase(3.53652) q[5], q[1]; U3(0, 0, 0.5) q[6]; ZZPhase(3.5) q[2], q[0]; U3(0.624856, 0.000231947, 1.50016) q[1]; U3(0.491685, 0.488531, 0.499984) q[5]; U3(0.000101273, 0, 0.5) q[0]; U3(0.0388983, 0.491154, 0.511273) q[1]; U3(0, 0, 0.5) q[2]; U3(0.966072, 0.490987, 1.49383) q[5]; ZZPhase(3.5) q[6], q[0]; ZZPhase(3.97702) q[5], q[1]; U3(0.249876, 0, 0.5) q[0]; U3(0.5, 1.5, 0.5) q[1]; U3(0.5, 1.5, 0.5) q[5]; U3(0, 0, 0.5) q[6]; ZZPhase(3.5) q[2], q[0]; ZZPhase(3.99056) q[5], q[1]; U3(0.5, 0.5, 1) q[0]; U3(0.5, 1.5, 0) q[1]; U3(0, 0, 0.5) q[2]; U3(0.5, 1.5, 0) q[5]; ZZPhase(3.5) q[6], q[0]; ZZPhase(0.000131611) q[5], q[1]; U3(0, 1, 1.5) q[0]; U3(0.500172, 1.99789, 1.94685) q[1]; U3(0.500836, 0.996926, 1.04871) q[5]; U3(0, 0, 0.5) q[6]; ZZPhase(3.5) q[2], q[0]; U3(0.966072, 0.490987, 1.49383) q[1]; U3(0.0388983, 0.491154, 0.511273) q[5]; U3(0, 1, 1.5) q[0]; U3(1, 0.984121, 1.98412) q[2]; ZZPhase(3.5) q[6], q[0]; U3(0.5, 0.5, 0.75) q[0]; ZZPhase(3.9999) q[6], q[2]; U3(1, 0.266, 0.0161244) q[2]; U3(0, 1.44169, 1.05832) q[6]; ZZPhase(3.5) q[6], q[0]; U3(1.206e-05, 0, 0.5) q[0]; U3(0, 0, 0.5) q[6]; ZZPhase(3.5) q[2], q[0]; U3(0.000101273, 0, 0.5) q[0]; U3(0, 0, 0.5) q[2]; ZZPhase(3.5) q[6], q[0]; U3(0.749876, 0, 0.5) q[0]; U3(0.85681, 0.426424, 0.443587) q[6]; ZZPhase(3.5) q[2], q[0]; U3(0.5, 0, 1) q[0]; U3(0.508268, 1.50005, 1.49746) q[2]; U3(0.5, 0.5, 1.25) q[0]; ZZPhase(3.50236) q[6], q[2]; ZZPhase(3.5) q[7], q[0]; U3(0.5, 1.5, 0.5) q[2]; U3(0.5, 1.5, 0.5) q[6]; U3(1.206e-05, 0, 0.5) q[0]; ZZPhase(3.53652) q[6], q[2]; U3(0, 0, 0.5) q[7]; ZZPhase(3.5) q[3], q[0]; U3(0.624856, 0.000231947, 1.50016) q[2]; U3(0.491685, 0.488531, 0.499984) q[6]; U3(0.000101273, 0, 0.5) q[0]; U3(0.0388983, 0.491154, 0.511273) q[2]; U3(0, 0, 0.5) q[3]; U3(0.966072, 0.490987, 1.49383) q[6]; ZZPhase(3.5) q[7], q[0]; ZZPhase(3.97702) q[6], q[2]; U3(0.249876, 0, 0.5) q[0]; U3(0.5, 1.5, 0.5) q[2]; U3(0.5, 1.5, 0.5) q[6]; U3(0, 0, 0.5) q[7]; ZZPhase(3.5) q[3], q[0]; ZZPhase(3.99056) q[6], q[2]; U3(0.5, 0.5, 1) q[0]; U3(0.5, 1.5, 0) q[2]; U3(0, 0, 0.5) q[3]; U3(0.5, 1.5, 0) q[6]; ZZPhase(3.5) q[7], q[0]; ZZPhase(0.000131611) q[6], q[2]; U3(0, 1, 1.5) q[0]; U3(0.500172, 1.99789, 1.94685) q[2]; U3(0.500836, 0.996926, 1.04871) q[6]; U3(0, 0, 0.5) q[7]; ZZPhase(3.5) q[3], q[0]; U3(0.966072, 0.490987, 1.49383) q[2]; U3(0.0388983, 0.491154, 0.511273) q[6]; U3(0, 1, 1.5) q[0]; U3(1, 0.984121, 1.98412) q[3]; ZZPhase(3.5) q[7], q[0]; U3(0.5, 0.5, 0.75) q[0]; ZZPhase(3.9999) q[7], q[3]; U3(1, 0.266, 0.0161244) q[3]; U3(0, 1.44169, 1.05832) q[7]; ZZPhase(3.5) q[7], q[0]; U3(1.206e-05, 0, 0.5) q[0]; U3(0, 0, 0.5) q[7]; ZZPhase(3.5) q[3], q[0]; U3(0.000101273, 0, 0.5) q[0]; U3(0, 0, 0.5) q[3]; ZZPhase(3.5) q[7], q[0]; U3(0.749876, 0, 0.5) q[0]; U3(0.85681, 0.426424, 0.443587) q[7]; ZZPhase(3.5) q[3], q[0]; U3(0.5, 0, 1) q[0]; U3(0.508268, 1.50005, 1.49746) q[3]; U3(0.5, 0.5, 1.25) q[0]; ZZPhase(3.50236) q[7], q[3]; ZZPhase(3.5) q[8], q[0]; U3(0.5, 1.5, 0.5) q[3]; U3(0.5, 1.5, 0.5) q[7]; U3(1.206e-05, 0, 0.5) q[0]; ZZPhase(3.53652) q[7], q[3]; U3(0, 0, 0.5) q[8]; ZZPhase(3.5) q[4], q[0]; U3(0.624856, 0.000231947, 1.50016) q[3]; U3(0.491685, 0.488531, 0.499984) q[7]; U3(0.000101273, 0, 0.5) q[0]; U3(0.0388983, 0.491154, 0.511273) q[3]; U3(0, 0, 0.5) q[4]; U3(0.966072, 0.490987, 1.49383) q[7]; ZZPhase(3.5) q[8], q[0]; ZZPhase(3.97702) q[7], q[3]; U3(0.249876, 0, 0.5) q[0]; U3(0.5, 1.5, 0.5) q[3]; U3(0.5, 1.5, 0.5) q[7]; U3(0, 0, 0.5) q[8]; ZZPhase(3.5) q[4], q[0]; ZZPhase(3.99056) q[7], q[3]; U3(0.5, 0.5, 1) q[0]; U3(0.5, 1.5, 0) q[3]; U3(0, 0, 0.5) q[4]; U3(0.5, 1.5, 0) q[7]; ZZPhase(3.5) q[8], q[0]; ZZPhase(0.000131611) q[7], q[3]; U3(0, 1, 1.5) q[0]; U3(0.500172, 1.99789, 1.94685) q[3]; U3(0.500836, 0.996926, 1.04871) q[7]; U3(0, 0, 0.5) q[8]; ZZPhase(3.5) q[4], q[0]; U3(0.966072, 0.490987, 1.49383) q[3]; U3(0.0388983, 0.491154, 0.511273) q[7]; U3(0, 1, 1.5) q[0]; U3(1, 0.984121, 1.98412) q[4]; ZZPhase(3.5) q[8], q[0]; U3(0.5, 0.5, 0.75) q[0]; ZZPhase(3.9999) q[8], q[4]; U3(1, 0.266, 0.0161244) q[4]; U3(0, 1.44169, 1.05832) q[8]; ZZPhase(3.5) q[8], q[0]; U3(1.206e-05, 0, 0.5) q[0]; U3(0, 0, 0.5) q[8]; ZZPhase(3.5) q[4], q[0]; U3(0.000101273, 0, 0.5) q[0]; U3(0, 0, 0.5) q[4]; ZZPhase(3.5) q[8], q[0]; U3(0.749876, 0, 0.5) q[0]; U3(0.85681, 0.426424, 0.443587) q[8]; ZZPhase(3.5) q[4], q[0]; U3(0.5, 0, 1) q[0]; U3(0.508268, 1.50005, 1.49746) q[4]; U3(0.5, 0.5, 1.25) q[0]; ZZPhase(3.50236) q[8], q[4]; ZZPhase(3.5) q[13], q[0]; U3(0.5, 1.5, 0.5) q[4]; U3(0.5, 1.5, 0.5) q[8]; U3(1.206e-05, 0, 0.5) q[0]; ZZPhase(3.53652) q[8], q[4]; U3(0, 0, 0.5) q[13]; ZZPhase(3.5) q[9], q[0]; U3(0.624856, 0.000231947, 1.50016) q[4]; U3(0.491685, 0.488531, 0.499984) q[8]; U3(0.000101273, 0, 0.5) q[0]; U3(0.0388983, 0.491154, 0.511273) q[4]; U3(0.966072, 0.490987, 1.49383) q[8]; U3(0, 0, 0.5) q[9]; ZZPhase(3.5) q[13], q[0]; ZZPhase(3.97702) q[8], q[4]; U3(0.249876, 0, 0.5) q[0]; U3(0.5, 1.5, 0.5) q[4]; U3(0.5, 1.5, 0.5) q[8]; U3(0, 0, 0.5) q[13]; ZZPhase(3.5) q[9], q[0]; ZZPhase(3.99056) q[8], q[4]; U3(0.5, 0.5, 1) q[0]; U3(0.5, 1.5, 0) q[4]; U3(0.5, 1.5, 0) q[8]; U3(0, 0, 0.5) q[9]; ZZPhase(3.5) q[13], q[0]; ZZPhase(0.000131611) q[8], q[4]; U3(0, 1, 1.5) q[0]; U3(0.500172, 1.99789, 1.94685) q[4]; U3(0.500836, 0.996926, 1.04871) q[8]; U3(0, 0, 0.5) q[13]; ZZPhase(3.5) q[9], q[0]; U3(0.966072, 0.490987, 1.49383) q[4]; U3(0.0388983, 0.491154, 0.511273) q[8]; U3(0, 1, 1.5) q[0]; U3(1, 0.984121, 1.98412) q[9]; ZZPhase(3.5) q[13], q[0]; U3(0.5, 0.5, 0.75) q[0]; ZZPhase(3.9999) q[13], q[9]; U3(1, 0.266, 0.0161244) q[9]; U3(0, 1.44169, 1.05832) q[13]; ZZPhase(3.5) q[13], q[0]; U3(1.206e-05, 0, 0.5) q[0]; U3(0, 0, 0.5) q[13]; ZZPhase(3.5) q[9], q[0]; U3(0.000101273, 0, 0.5) q[0]; U3(0, 0, 0.5) q[9]; ZZPhase(3.5) q[13], q[0]; U3(0.749876, 0, 0.5) q[0]; U3(0.85681, 0.426424, 0.443587) q[13]; ZZPhase(3.5) q[9], q[0]; U3(0.5, 0, 1) q[0]; U3(0.508268, 1.50005, 1.49746) q[9]; U3(0.5, 0.5, 1.25) q[0]; ZZPhase(3.50236) q[13], q[9]; ZZPhase(3.5) q[14], q[0]; U3(0.5, 1.5, 0.5) q[9]; U3(0.5, 1.5, 0.5) q[13]; U3(1.206e-05, 0, 0.5) q[0]; ZZPhase(3.53652) q[13], q[9]; U3(0, 0, 0.5) q[14]; ZZPhase(3.5) q[10], q[0]; U3(0.624856, 0.000231947, 1.50016) q[9]; U3(0.491685, 0.488531, 0.499984) q[13]; U3(0.000101273, 0, 0.5) q[0]; U3(0.0388983, 0.491154, 0.511273) q[9]; U3(0, 0, 0.5) q[10]; U3(0.966072, 0.490987, 1.49383) q[13]; ZZPhase(3.5) q[14], q[0]; ZZPhase(3.97702) q[13], q[9]; U3(0.249876, 0, 0.5) q[0]; U3(0.5, 1.5, 0.5) q[9]; U3(0.5, 1.5, 0.5) q[13]; U3(0, 0, 0.5) q[14]; ZZPhase(3.5) q[10], q[0]; ZZPhase(3.99056) q[13], q[9]; U3(0.5, 0.5, 1) q[0]; U3(0.5, 1.5, 0) q[9]; U3(0, 0, 0.5) q[10]; U3(0.5, 1.5, 0) q[13]; ZZPhase(3.5) q[14], q[0]; ZZPhase(0.000131611) q[13], q[9]; U3(0, 1, 1.5) q[0]; U3(0.500172, 1.99789, 1.94685) q[9]; U3(0.500836, 0.996926, 1.04871) q[13]; U3(0, 0, 0.5) q[14]; ZZPhase(3.5) q[10], q[0]; U3(0.966072, 0.490987, 1.49383) q[9]; U3(0.0388983, 0.491154, 0.511273) q[13]; U3(0, 1, 1.5) q[0]; ZZPhase(3.97702) q[1], q[13]; ZZPhase(3.97702) q[9], q[5]; U3(1, 0.984121, 1.98412) q[10]; ZZPhase(3.5) q[14], q[0]; U3(0.5, 1.5, 0.5) q[1]; U3(0.5, 1.5, 0.5) q[5]; U3(0.5, 1.5, 0.5) q[9]; U3(0.5, 1.5, 0.5) q[13]; U3(0.5, 0.5, 0.75) q[0]; ZZPhase(3.99056) q[1], q[13]; ZZPhase(3.99056) q[9], q[5]; ZZPhase(3.9999) q[14], q[10]; U3(0.5, 1.5, 0) q[1]; U3(0.5, 1.5, 0) q[5]; U3(0.5, 1.5, 0) q[9]; U3(1, 0.266, 0.0161244) q[10]; U3(0.5, 1.5, 0) q[13]; U3(0, 1.44169, 1.05832) q[14]; ZZPhase(3.5) q[14], q[0]; ZZPhase(0.000131611) q[1], q[13]; ZZPhase(0.000131611) q[9], q[5]; U3(1.206e-05, 0, 0.5) q[0]; U3(0.500836, 0.996926, 1.04871) q[1]; U3(0.500172, 1.99789, 1.94685) q[5]; U3(0.500836, 0.996926, 1.04871) q[9]; U3(0.500172, 1.99789, 1.94685) q[13]; U3(0, 0, 0.5) q[14]; ZZPhase(3.5) q[10], q[0]; U3(0.926882, 1.49604, 1.50353) q[1]; U3(0.93661, 0.483099, 1.49487) q[5]; U3(0.926882, 1.49604, 1.50353) q[9]; U3(0.93661, 0.483099, 1.49487) q[13]; U3(0.000101273, 0, 0.5) q[0]; ZZPhase(3.99141) q[5], q[1]; ZZPhase(3.99141) q[13], q[9]; U3(0, 0, 0.5) q[10]; ZZPhase(3.5) q[14], q[0]; U3(0.5, 1.5, 0.5) q[1]; U3(0.5, 1.5, 0.5) q[5]; U3(0.5, 1.5, 0.5) q[9]; U3(0.5, 1.5, 0.5) q[13]; U3(0.749876, 0, 0.5) q[0]; ZZPhase(3.9966) q[5], q[1]; ZZPhase(3.9966) q[13], q[9]; U3(0.85681, 0.426424, 0.443587) q[14]; ZZPhase(3.5) q[10], q[0]; U3(0.5, 1.5, 0) q[1]; U3(0.5, 1.5, 0) q[5]; U3(0.5, 1.5, 0) q[9]; U3(0.5, 1.5, 0) q[13]; U3(0.5, 0, 1) q[0]; ZZPhase(3.99995) q[5], q[1]; ZZPhase(3.99995) q[13], q[9]; U3(0.508268, 1.50005, 1.49746) q[10]; U3(0.5, 0.5, 1.25) q[0]; U3(0.500572, 1.99274, 0.993175) q[1]; U3(0.500276, 0.988241, 0.996886) q[5]; U3(0.500572, 1.99274, 0.993175) q[9]; ZZPhase(3.50236) q[14], q[10]; U3(0.500276, 0.988241, 0.996886) q[13]; ZZPhase(3.5) q[15], q[0]; U3(0.93661, 0.483099, 1.49487) q[1]; U3(0.926882, 1.49604, 1.50353) q[5]; U3(0.93661, 0.483099, 1.49487) q[9]; U3(0.5, 1.5, 0.5) q[10]; U3(0.926882, 1.49604, 1.50353) q[13]; U3(0.5, 1.5, 0.5) q[14]; U3(1.206e-05, 0, 0.5) q[0]; ZZPhase(3.99141) q[1], q[13]; ZZPhase(3.99141) q[9], q[5]; ZZPhase(3.53652) q[14], q[10]; U3(0, 0, 0.5) q[15]; ZZPhase(3.5) q[11], q[0]; U3(0.5, 1.5, 0.5) q[1]; U3(0.5, 1.5, 0.5) q[5]; U3(0.5, 1.5, 0.5) q[9]; U3(0.624856, 0.000231947, 1.50016) q[10]; U3(0.5, 1.5, 0.5) q[13]; U3(0.491685, 0.488531, 0.499984) q[14]; U3(0.000101273, 0, 0.5) q[0]; ZZPhase(3.9966) q[1], q[13]; ZZPhase(3.9966) q[9], q[5]; U3(0.0388983, 0.491154, 0.511273) q[10]; U3(0, 0, 0.5) q[11]; U3(0.966072, 0.490987, 1.49383) q[14]; ZZPhase(3.5) q[15], q[0]; U3(0.5, 1.5, 0) q[1]; U3(0.5, 1.5, 0) q[5]; U3(0.5, 1.5, 0) q[9]; ZZPhase(3.97702) q[14], q[10]; U3(0.5, 1.5, 0) q[13]; U3(0.249876, 0, 0.5) q[0]; ZZPhase(3.99995) q[1], q[13]; ZZPhase(3.99995) q[9], q[5]; U3(0.5, 1.5, 0.5) q[10]; U3(0.5, 1.5, 0.5) q[14]; U3(0, 0, 0.5) q[15]; ZZPhase(3.5) q[11], q[0]; U3(0.500276, 0.988241, 0.996886) q[1]; U3(0.500572, 1.99274, 0.993175) q[5]; U3(0.500276, 0.988241, 0.996886) q[9]; ZZPhase(3.99056) q[14], q[10]; U3(0.500572, 1.99274, 0.993175) q[13]; U3(0.5, 0.5, 1) q[0]; U3(0.0553968, 1.49624, 1.50142) q[1]; U3(0.944803, 0.503483, 0.499456) q[5]; U3(0.0553968, 1.49624, 1.50142) q[9]; U3(0.5, 1.5, 0) q[10]; U3(0, 0, 0.5) q[11]; U3(0.944803, 0.503483, 0.499456) q[13]; U3(0.5, 1.5, 0) q[14]; ZZPhase(3.5) q[15], q[0]; ZZPhase(3.93216) q[5], q[1]; ZZPhase(3.93216) q[13], q[9]; ZZPhase(0.000131611) q[14], q[10]; U3(0, 1, 1.5) q[0]; U3(0.5, 1.5, 0.5) q[1]; U3(0.5, 1.5, 0.5) q[5]; U3(0.5, 1.5, 0.5) q[9]; U3(0.500172, 1.99789, 1.94685) q[10]; U3(0.5, 1.5, 0.5) q[13]; U3(0.500836, 0.996926, 1.04871) q[14]; U3(0, 0, 0.5) q[15]; ZZPhase(3.5) q[11], q[0]; ZZPhase(3.99687) q[5], q[1]; ZZPhase(3.99687) q[13], q[9]; U3(0.966072, 0.490987, 1.49383) q[10]; U3(0.0388983, 0.491154, 0.511273) q[14]; U3(0, 1, 1.5) q[0]; U3(0.5, 1.5, 0) q[1]; ZZPhase(3.97702) q[2], q[14]; U3(0.5, 1.5, 0) q[5]; ZZPhase(3.97702) q[10], q[6]; U3(0.5, 1.5, 0) q[9]; U3(1, 0.984121, 1.98412) q[11]; U3(0.5, 1.5, 0) q[13]; ZZPhase(3.5) q[15], q[0]; ZZPhase(6.81278e-05) q[5], q[1]; U3(0.5, 1.5, 0.5) q[2]; U3(0.5, 1.5, 0.5) q[6]; ZZPhase(6.81278e-05) q[13], q[9]; U3(0.5, 1.5, 0.5) q[10]; U3(0.5, 1.5, 0.5) q[14]; U3(0.5, 0.5, 0.75) q[0]; U3(0.499327, 0.00190508, 0.0750951) q[1]; ZZPhase(3.99056) q[2], q[14]; U3(0.499088, 0.00410997, 1.07503) q[5]; ZZPhase(3.99056) q[10], q[6]; U3(0.499327, 0.00190508, 0.0750951) q[9]; ZZPhase(3.9999) q[15], q[11]; U3(0.499088, 0.00410997, 1.07503) q[13]; U3(0.944803, 0.503483, 0.499456) q[1]; U3(0.5, 1.5, 0) q[2]; U3(0.0553968, 1.49624, 1.50142) q[5]; U3(0.5, 1.5, 0) q[6]; U3(0.944803, 0.503483, 0.499456) q[9]; U3(0.5, 1.5, 0) q[10]; U3(1, 0.266, 0.0161244) q[11]; U3(0.0553968, 1.49624, 1.50142) q[13]; U3(0.5, 1.5, 0) q[14]; U3(0, 1.44169, 1.05832) q[15]; ZZPhase(3.5) q[15], q[0]; ZZPhase(3.93216) q[1], q[13]; ZZPhase(0.000131611) q[2], q[14]; ZZPhase(3.93216) q[9], q[5]; ZZPhase(0.000131611) q[10], q[6]; U3(1.206e-05, 0, 0.5) q[0]; U3(0.5, 1.5, 0.5) q[1]; U3(0.500836, 0.996926, 1.04871) q[2]; U3(0.5, 1.5, 0.5) q[5]; U3(0.500172, 1.99789, 1.94685) q[6]; U3(0.5, 1.5, 0.5) q[9]; U3(0.500836, 0.996926, 1.04871) q[10]; U3(0.5, 1.5, 0.5) q[13]; U3(0.500172, 1.99789, 1.94685) q[14]; U3(0, 0, 0.5) q[15]; ZZPhase(3.5) q[11], q[0]; ZZPhase(3.99687) q[1], q[13]; U3(0.926882, 1.49604, 1.50353) q[2]; ZZPhase(3.99687) q[9], q[5]; U3(0.93661, 0.483099, 1.49487) q[6]; U3(0.926882, 1.49604, 1.50353) q[10]; U3(0.93661, 0.483099, 1.49487) q[14]; U3(0.000101273, 0, 0.5) q[0]; U3(0.5, 1.5, 0) q[1]; ZZPhase(3.99141) q[6], q[2]; U3(0.5, 1.5, 0) q[5]; U3(0.5, 1.5, 0) q[9]; ZZPhase(3.99141) q[14], q[10]; U3(0, 0, 0.5) q[11]; U3(0.5, 1.5, 0) q[13]; ZZPhase(3.5) q[15], q[0]; ZZPhase(6.81278e-05) q[1], q[13]; U3(0.5, 1.5, 0.5) q[2]; ZZPhase(6.81278e-05) q[9], q[5]; U3(0.5, 1.5, 0.5) q[6]; U3(0.5, 1.5, 0.5) q[10]; U3(0.5, 1.5, 0.5) q[14]; U3(0.749876, 0, 0.5) q[0]; U3(0.499088, 0.00410997, 1.07503) q[1]; ZZPhase(3.9966) q[6], q[2]; U3(0.499327, 0.00190508, 0.0750951) q[5]; U3(0.499088, 0.00410997, 1.07503) q[9]; ZZPhase(3.9966) q[14], q[10]; U3(0.499327, 0.00190508, 0.0750951) q[13]; U3(0.85681, 0.426424, 0.443587) q[15]; ZZPhase(3.5) q[11], q[0]; U3(0.0274118, 0.50042, 0.99937) q[1]; U3(0.5, 1.5, 0) q[2]; U3(0.000160413, 0.315122, 0.201577) q[5]; U3(0.5, 1.5, 0) q[6]; U3(0.0274118, 0.50042, 0.99937) q[9]; U3(0.5, 1.5, 0) q[10]; U3(0.000160413, 0.315122, 0.201577) q[13]; U3(0.5, 1.5, 0) q[14]; U3(0.5, 0, 1) q[0]; ZZPhase(3.50222) q[5], q[1]; ZZPhase(3.99995) q[6], q[2]; ZZPhase(3.50222) q[13], q[9]; ZZPhase(3.99995) q[14], q[10]; U3(0.508268, 1.50005, 1.49746) q[11]; U3(0.5, 0.5, 1.25) q[0]; U3(0.5, 1.5, 0.5) q[1]; U3(0.500572, 1.99274, 0.993175) q[2]; U3(0.5, 1.5, 0.5) q[5]; U3(0.500276, 0.988241, 0.996886) q[6]; U3(0.5, 1.5, 0.5) q[9]; U3(0.500572, 1.99274, 0.993175) q[10]; ZZPhase(3.50236) q[15], q[11]; U3(0.5, 1.5, 0.5) q[13]; U3(0.500276, 0.988241, 0.996886) q[14]; ZZPhase(3.5) q[16], q[0]; ZZPhase(3.75342) q[5], q[1]; U3(0.93661, 0.483099, 1.49487) q[2]; U3(0.926882, 1.49604, 1.50353) q[6]; ZZPhase(3.75342) q[13], q[9]; U3(0.93661, 0.483099, 1.49487) q[10]; U3(0.5, 1.5, 0.5) q[11]; U3(0.926882, 1.49604, 1.50353) q[14]; U3(0.5, 1.5, 0.5) q[15]; U3(1.206e-05, 0, 0.5) q[0]; U3(0.5, 1.5, 0) q[1]; ZZPhase(3.99141) q[2], q[14]; U3(0.5, 1.5, 0) q[5]; ZZPhase(3.99141) q[10], q[6]; U3(0.5, 1.5, 0) q[9]; ZZPhase(3.53652) q[15], q[11]; U3(0.5, 1.5, 0) q[13]; U3(0, 0, 0.5) q[16]; ZZPhase(3.5) q[12], q[0]; ZZPhase(3.9998) q[5], q[1]; U3(0.5, 1.5, 0.5) q[2]; U3(0.5, 1.5, 0.5) q[6]; ZZPhase(3.9998) q[13], q[9]; U3(0.5, 1.5, 0.5) q[10]; U3(0.624856, 0.000231947, 1.50016) q[11]; U3(0.5, 1.5, 0.5) q[14]; U3(0.491685, 0.488531, 0.499984) q[15]; U3(0.000101273, 0, 0.5) q[0]; U3(0.500023, 0.998563, 0.499751) q[1]; ZZPhase(3.9966) q[2], q[14]; U3(0.530462, 1.75245, 0.465261) q[5]; ZZPhase(3.9966) q[10], q[6]; U3(0.500023, 0.998563, 0.499751) q[9]; U3(0.0388983, 0.491154, 0.511273) q[11]; U3(0, 0, 0.5) q[12]; U3(0.530462, 1.75245, 0.465261) q[13]; U3(0.966072, 0.490987, 1.49383) q[15]; ZZPhase(3.5) q[16], q[0]; U3(0.5, 1.5, 0) q[2]; U3(0.5, 1.5, 0) q[6]; U3(0.5, 1.5, 0) q[10]; ZZPhase(3.97702) q[15], q[11]; U3(0.5, 1.5, 0) q[14]; U3(0.249876, 0, 0.5) q[0]; ZZPhase(3.99995) q[2], q[14]; ZZPhase(3.99995) q[10], q[6]; U3(0.5, 1.5, 0.5) q[11]; U3(0.5, 1.5, 0.5) q[15]; U3(0, 0, 0.5) q[16]; ZZPhase(3.5) q[12], q[0]; U3(0.500276, 0.988241, 0.996886) q[2]; U3(0.500572, 1.99274, 0.993175) q[6]; U3(0.500276, 0.988241, 0.996886) q[10]; ZZPhase(3.99056) q[15], q[11]; U3(0.500572, 1.99274, 0.993175) q[14]; U3(0.5, 0.5, 1) q[0]; U3(0.0553968, 1.49624, 1.50142) q[2]; U3(0.944803, 0.503483, 0.499456) q[6]; U3(0.0553968, 1.49624, 1.50142) q[10]; U3(0.5, 1.5, 0) q[11]; U3(0, 0, 0.5) q[12]; U3(0.944803, 0.503483, 0.499456) q[14]; U3(0.5, 1.5, 0) q[15]; ZZPhase(3.5) q[16], q[0]; ZZPhase(3.93216) q[6], q[2]; ZZPhase(3.93216) q[14], q[10]; ZZPhase(0.000131611) q[15], q[11]; U3(0, 1, 1.5) q[0]; U3(0.5, 1.5, 0.5) q[2]; U3(0.5, 1.5, 0.5) q[6]; U3(0.5, 1.5, 0.5) q[10]; U3(0.500172, 1.99789, 1.94685) q[11]; U3(0.5, 1.5, 0.5) q[14]; U3(0.500836, 0.996926, 1.04871) q[15]; U3(0, 0, 0.5) q[16]; ZZPhase(3.5) q[12], q[0]; ZZPhase(3.99687) q[6], q[2]; ZZPhase(3.99687) q[14], q[10]; U3(0.966072, 0.490987, 1.49383) q[11]; U3(0.0388983, 0.491154, 0.511273) q[15]; U3(0, 1, 1.5) q[0]; U3(0.5, 1.5, 0) q[2]; ZZPhase(3.97702) q[3], q[15]; U3(0.5, 1.5, 0) q[6]; ZZPhase(3.97702) q[11], q[7]; U3(0.5, 1.5, 0) q[10]; U3(1, 0.984121, 1.98412) q[12]; U3(0.5, 1.5, 0) q[14]; ZZPhase(3.5) q[16], q[0]; ZZPhase(6.81278e-05) q[6], q[2]; U3(0.5, 1.5, 0.5) q[3]; U3(0.5, 1.5, 0.5) q[7]; ZZPhase(6.81278e-05) q[14], q[10]; U3(0.5, 1.5, 0.5) q[11]; U3(0.5, 1.5, 0.5) q[15]; U3(0.5, 0.5, 0.75) q[0]; U3(0.499327, 0.00190508, 0.0750951) q[2]; ZZPhase(3.99056) q[3], q[15]; U3(0.499088, 0.00410997, 1.07503) q[6]; ZZPhase(3.99056) q[11], q[7]; U3(0.499327, 0.00190508, 0.0750951) q[10]; ZZPhase(3.9999) q[16], q[12]; U3(0.499088, 0.00410997, 1.07503) q[14]; U3(0.944803, 0.503483, 0.499456) q[2]; U3(0.5, 1.5, 0) q[3]; U3(0.0553968, 1.49624, 1.50142) q[6]; U3(0.5, 1.5, 0) q[7]; U3(0.944803, 0.503483, 0.499456) q[10]; U3(0.5, 1.5, 0) q[11]; U3(1, 0.266, 0.0161244) q[12]; U3(0.0553968, 1.49624, 1.50142) q[14]; U3(0.5, 1.5, 0) q[15]; U3(0, 1.44169, 1.05832) q[16]; ZZPhase(3.5) q[16], q[0]; ZZPhase(3.93216) q[2], q[14]; ZZPhase(0.000131611) q[3], q[15]; ZZPhase(3.93216) q[10], q[6]; ZZPhase(0.000131611) q[11], q[7]; U3(1.206e-05, 0, 0.5) q[0]; U3(0.5, 1.5, 0.5) q[2]; U3(0.500836, 0.996926, 1.04871) q[3]; U3(0.5, 1.5, 0.5) q[6]; U3(0.500172, 1.99789, 1.94685) q[7]; U3(0.5, 1.5, 0.5) q[10]; U3(0.500836, 0.996926, 1.04871) q[11]; U3(0.5, 1.5, 0.5) q[14]; U3(0.500172, 1.99789, 1.94685) q[15]; U3(0, 0, 0.5) q[16]; ZZPhase(3.5) q[12], q[0]; ZZPhase(3.99687) q[2], q[14]; U3(0.926882, 1.49604, 1.50353) q[3]; ZZPhase(3.99687) q[10], q[6]; U3(0.93661, 0.483099, 1.49487) q[7]; U3(0.926882, 1.49604, 1.50353) q[11]; U3(0.93661, 0.483099, 1.49487) q[15]; U3(0.000101273, 0, 0.5) q[0]; U3(0.5, 1.5, 0) q[2]; ZZPhase(3.99141) q[7], q[3]; U3(0.5, 1.5, 0) q[6]; U3(0.5, 1.5, 0) q[10]; ZZPhase(3.99141) q[15], q[11]; U3(0, 0, 0.5) q[12]; U3(0.5, 1.5, 0) q[14]; ZZPhase(3.5) q[16], q[0]; ZZPhase(6.81278e-05) q[2], q[14]; U3(0.5, 1.5, 0.5) q[3]; ZZPhase(6.81278e-05) q[10], q[6]; U3(0.5, 1.5, 0.5) q[7]; U3(0.5, 1.5, 0.5) q[11]; U3(0.5, 1.5, 0.5) q[15]; U3(0.749876, 0, 0.5) q[0]; U3(0.499088, 0.00410997, 1.07503) q[2]; ZZPhase(3.9966) q[7], q[3]; U3(0.499327, 0.00190508, 0.0750951) q[6]; U3(0.499088, 0.00410997, 1.07503) q[10]; ZZPhase(3.9966) q[15], q[11]; U3(0.499327, 0.00190508, 0.0750951) q[14]; U3(0.85681, 0.426424, 0.443587) q[16]; ZZPhase(3.5) q[12], q[0]; U3(0.0274118, 0.50042, 0.99937) q[2]; U3(0.5, 1.5, 0) q[3]; U3(0.000160413, 0.315122, 0.201577) q[6]; U3(0.5, 1.5, 0) q[7]; U3(0.0274118, 0.50042, 0.99937) q[10]; U3(0.5, 1.5, 0) q[11]; U3(0.000160413, 0.315122, 0.201577) q[14]; U3(0.5, 1.5, 0) q[15]; U3(0.5, 0, 1) q[0]; ZZPhase(3.50222) q[6], q[2]; ZZPhase(3.99995) q[7], q[3]; ZZPhase(3.50222) q[14], q[10]; ZZPhase(3.99995) q[15], q[11]; U3(0.508268, 1.50005, 1.49746) q[12]; U3(0.5, 0.5, 1) q[0]; U3(0.5, 1.5, 0.5) q[2]; U3(0.500572, 1.99274, 0.993175) q[3]; U3(0.5, 1.5, 0.5) q[6]; U3(0.500276, 0.988241, 0.996886) q[7]; U3(0.5, 1.5, 0.5) q[10]; U3(0.500572, 1.99274, 0.993175) q[11]; ZZPhase(3.50236) q[16], q[12]; U3(0.5, 1.5, 0.5) q[14]; U3(0.500276, 0.988241, 0.996886) q[15]; ZZPhase(3.5) q[5], q[0]; ZZPhase(3.75342) q[6], q[2]; U3(0.93661, 0.483099, 1.49487) q[3]; U3(0.926882, 1.49604, 1.50353) q[7]; ZZPhase(3.75342) q[14], q[10]; U3(0.93661, 0.483099, 1.49487) q[11]; U3(0.5, 1.5, 0.5) q[12]; U3(0.926882, 1.49604, 1.50353) q[15]; U3(0.5, 1.5, 0.5) q[16]; U3(0.249563, 0, 0.5) q[0]; U3(0.5, 1.5, 0) q[2]; ZZPhase(3.99141) q[3], q[15]; U3(0, 0, 0.5) q[5]; U3(0.5, 1.5, 0) q[6]; ZZPhase(3.99141) q[11], q[7]; U3(0.5, 1.5, 0) q[10]; ZZPhase(3.53652) q[16], q[12]; U3(0.5, 1.5, 0) q[14]; ZZPhase(3.5) q[1], q[0]; ZZPhase(3.9998) q[6], q[2]; U3(0.5, 1.5, 0.5) q[3]; U3(0.5, 1.5, 0.5) q[7]; ZZPhase(3.9998) q[14], q[10]; U3(0.5, 1.5, 0.5) q[11]; U3(0.624856, 0.000231947, 1.50016) q[12]; U3(0.5, 1.5, 0.5) q[15]; U3(0.491685, 0.488531, 0.499984) q[16]; U3(0.250009, 1, 1.5) q[0]; U3(0, 0, 0.5) q[1]; U3(0.500023, 0.998563, 0.499751) q[2]; ZZPhase(3.9966) q[3], q[15]; U3(0.530462, 1.75245, 0.465261) q[6]; ZZPhase(3.9966) q[11], q[7]; U3(0.500023, 0.998563, 0.499751) q[10]; U3(0.0388983, 0.491154, 0.511273) q[12]; U3(0.530462, 1.75245, 0.465261) q[14]; U3(0.966072, 0.490987, 1.49383) q[16]; ZZPhase(3.5) q[5], q[0]; U3(0.5, 1.5, 0) q[3]; U3(0.5, 1.5, 0) q[7]; U3(0.5, 1.5, 0) q[11]; ZZPhase(3.97702) q[16], q[12]; U3(0.5, 1.5, 0) q[15]; U3(0.000416269, 0, 0.5) q[0]; ZZPhase(3.99995) q[3], q[15]; U3(0, 0, 0.5) q[5]; ZZPhase(3.99995) q[11], q[7]; U3(0.5, 1.5, 0.5) q[12]; U3(0.5, 1.5, 0.5) q[16]; ZZPhase(3.5) q[1], q[0]; U3(0.500276, 0.988241, 0.996886) q[3]; U3(0.500572, 1.99274, 0.993175) q[7]; U3(0.500276, 0.988241, 0.996886) q[11]; ZZPhase(3.99056) q[16], q[12]; U3(0.500572, 1.99274, 0.993175) q[15]; U3(0.5, 0.5, 1) q[0]; U3(0, 0, 0.5) q[1]; U3(0.0553968, 1.49624, 1.50142) q[3]; U3(0.944803, 0.503483, 0.499456) q[7]; U3(0.0553968, 1.49624, 1.50142) q[11]; U3(0.5, 1.5, 0) q[12]; U3(0.944803, 0.503483, 0.499456) q[15]; U3(0.5, 1.5, 0) q[16]; ZZPhase(3.5) q[5], q[0]; ZZPhase(3.93216) q[7], q[3]; ZZPhase(3.93216) q[15], q[11]; ZZPhase(0.000131611) q[16], q[12]; U3(0, 1, 1.5) q[0]; U3(0.5, 1.5, 0.5) q[3]; U3(0, 0, 0.5) q[5]; U3(0.5, 1.5, 0.5) q[7]; U3(0.5, 1.5, 0.5) q[11]; U3(0.500172, 1.99789, 1.94685) q[12]; U3(0.5, 1.5, 0.5) q[15]; U3(0.500836, 0.996926, 1.04871) q[16]; ZZPhase(3.5) q[1], q[0]; ZZPhase(3.99687) q[7], q[3]; ZZPhase(3.99687) q[15], q[11]; U3(0.966072, 0.490987, 1.49383) q[12]; U3(0.0388983, 0.491154, 0.511273) q[16]; U3(0, 1, 1.5) q[0]; U3(1, 0.339777, 1.33978) q[1]; U3(0.5, 1.5, 0) q[3]; ZZPhase(3.97702) q[4], q[16]; U3(0.5, 1.5, 0) q[7]; ZZPhase(3.97702) q[12], q[8]; U3(0.5, 1.5, 0) q[11]; U3(0.5, 1.5, 0) q[15]; ZZPhase(3.5) q[5], q[0]; ZZPhase(6.81278e-05) q[7], q[3]; U3(0.5, 1.5, 0.5) q[4]; U3(0.5, 1.5, 0.5) q[8]; ZZPhase(6.81278e-05) q[15], q[11]; U3(0.5, 1.5, 0.5) q[12]; U3(0.5, 1.5, 0.5) q[16]; U3(0.5, 0.5, 1) q[0]; ZZPhase(3.75001) q[5], q[1]; U3(0.499327, 0.00190508, 0.0750951) q[3]; ZZPhase(3.99056) q[4], q[16]; U3(0.499088, 0.00410997, 1.07503) q[7]; ZZPhase(3.99056) q[12], q[8]; U3(0.499327, 0.00190508, 0.0750951) q[11]; U3(0.499088, 0.00410997, 1.07503) q[15]; U3(1, 1.52548, 1.02506) q[1]; U3(0.944803, 0.503483, 0.499456) q[3]; U3(0.5, 1.5, 0) q[4]; U3(0, 0.5, 1.74956) q[5]; U3(0.0553968, 1.49624, 1.50142) q[7]; U3(0.5, 1.5, 0) q[8]; U3(0.944803, 0.503483, 0.499456) q[11]; U3(0.5, 1.5, 0) q[12]; U3(0.0553968, 1.49624, 1.50142) q[15]; U3(0.5, 1.5, 0) q[16]; ZZPhase(3.5) q[5], q[0]; ZZPhase(3.93216) q[3], q[15]; ZZPhase(0.000131611) q[4], q[16]; ZZPhase(3.93216) q[11], q[7]; ZZPhase(0.000131611) q[12], q[8]; U3(0.250437, 1, 1.5) q[0]; U3(0.5, 1.5, 0.5) q[3]; U3(0.500836, 0.996926, 1.04871) q[4]; U3(0, 0, 0.5) q[5]; U3(0.5, 1.5, 0.5) q[7]; U3(0.500172, 1.99789, 1.94685) q[8]; U3(0.5, 1.5, 0.5) q[11]; U3(0.500836, 0.996926, 1.04871) q[12]; U3(0.5, 1.5, 0.5) q[15]; U3(0.500172, 1.99789, 1.94685) q[16]; ZZPhase(3.5) q[1], q[0]; ZZPhase(3.99687) q[3], q[15]; U3(0.926882, 1.49604, 1.50353) q[4]; ZZPhase(3.99687) q[11], q[7]; U3(0.93661, 0.483099, 1.49487) q[8]; U3(0.926882, 1.49604, 1.50353) q[12]; U3(0.93661, 0.483099, 1.49487) q[16]; U3(0.249991, 0, 0.5) q[0]; U3(0, 0, 0.5) q[1]; U3(0.5, 1.5, 0) q[3]; ZZPhase(3.99141) q[8], q[4]; U3(0.5, 1.5, 0) q[7]; U3(0.5, 1.5, 0) q[11]; ZZPhase(3.99141) q[16], q[12]; U3(0.5, 1.5, 0) q[15]; ZZPhase(3.5) q[5], q[0]; ZZPhase(6.81278e-05) q[3], q[15]; U3(0.5, 1.5, 0.5) q[4]; ZZPhase(6.81278e-05) q[11], q[7]; U3(0.5, 1.5, 0.5) q[8]; U3(0.5, 1.5, 0.5) q[12]; U3(0.5, 1.5, 0.5) q[16]; U3(0.000416269, 0, 0.5) q[0]; U3(0.499088, 0.00410997, 1.07503) q[3]; ZZPhase(3.9966) q[8], q[4]; U3(0.475256, 0.0468292, 0.497177) q[5]; U3(0.499327, 0.00190508, 0.0750951) q[7]; U3(0.499088, 0.00410997, 1.07503) q[11]; ZZPhase(3.9966) q[16], q[12]; U3(0.499327, 0.00190508, 0.0750951) q[15]; ZZPhase(3.5) q[1], q[0]; U3(0.0274118, 0.50042, 0.99937) q[3]; U3(0.5, 1.5, 0) q[4]; U3(0.000160413, 0.315122, 0.201577) q[7]; U3(0.5, 1.5, 0) q[8]; U3(0.0274118, 0.50042, 0.99937) q[11]; U3(0.5, 1.5, 0) q[12]; U3(0.000160413, 0.315122, 0.201577) q[15]; U3(0.5, 1.5, 0) q[16]; U3(0.5, 0, 1) q[0]; U3(0.500007, 0.497045, 1.00019) q[1]; ZZPhase(3.50222) q[7], q[3]; ZZPhase(3.99995) q[8], q[4]; ZZPhase(3.50222) q[15], q[11]; ZZPhase(3.99995) q[16], q[12]; U3(0.5, 0.5, 1) q[0]; ZZPhase(3.50223) q[5], q[1]; U3(0.5, 1.5, 0.5) q[3]; U3(0.500572, 1.99274, 0.993175) q[4]; U3(0.5, 1.5, 0.5) q[7]; U3(0.500276, 0.988241, 0.996886) q[8]; U3(0.5, 1.5, 0.5) q[11]; U3(0.500572, 1.99274, 0.993175) q[12]; U3(0.5, 1.5, 0.5) q[15]; U3(0.500276, 0.988241, 0.996886) q[16]; ZZPhase(3.5) q[6], q[0]; U3(0.5, 1.5, 0.5) q[1]; ZZPhase(3.75342) q[7], q[3]; U3(0.93661, 0.483099, 1.49487) q[4]; U3(0.5, 1.5, 0.5) q[5]; U3(0.926882, 1.49604, 1.50353) q[8]; ZZPhase(3.75342) q[15], q[11]; U3(0.93661, 0.483099, 1.49487) q[12]; U3(0.926882, 1.49604, 1.50353) q[16]; U3(0.249563, 0, 0.5) q[0]; ZZPhase(3.97841) q[5], q[1]; U3(0.5, 1.5, 0) q[3]; ZZPhase(3.99141) q[4], q[16]; U3(0, 0, 0.5) q[6]; U3(0.5, 1.5, 0) q[7]; ZZPhase(3.99141) q[12], q[8]; U3(0.5, 1.5, 0) q[11]; U3(0.5, 1.5, 0) q[15]; ZZPhase(3.5) q[2], q[0]; U3(0.5, 1.5, 0) q[1]; ZZPhase(3.9998) q[7], q[3]; U3(0.5, 1.5, 0.5) q[4]; U3(0.5, 1.5, 0) q[5]; U3(0.5, 1.5, 0.5) q[8]; ZZPhase(3.9998) q[15], q[11]; U3(0.5, 1.5, 0.5) q[12]; U3(0.5, 1.5, 0.5) q[16]; U3(0.250009, 1, 1.5) q[0]; ZZPhase(3.99997) q[5], q[1]; U3(0, 0, 0.5) q[2]; U3(0.500023, 0.998563, 0.499751) q[3]; ZZPhase(3.9966) q[4], q[16]; U3(0.530462, 1.75245, 0.465261) q[7]; ZZPhase(3.9966) q[12], q[8]; U3(0.500023, 0.998563, 0.499751) q[11]; U3(0.530462, 1.75245, 0.465261) q[15]; ZZPhase(3.5) q[6], q[0]; U3(0.499938, 1.49728, 0.99707) q[1]; U3(0.5, 1.5, 0) q[4]; U3(0.500033, 1.95817, 1.99991) q[5]; U3(0.5, 1.5, 0) q[8]; U3(0.5, 1.5, 0) q[12]; U3(0.5, 1.5, 0) q[16]; U3(0.000416269, 0, 0.5) q[0]; ZZPhase(3.99995) q[4], q[16]; U3(0, 0, 0.5) q[6]; ZZPhase(3.99995) q[12], q[8]; ZZPhase(3.5) q[2], q[0]; U3(0.500276, 0.988241, 0.996886) q[4]; U3(0.500572, 1.99274, 0.993175) q[8]; U3(0.500276, 0.988241, 0.996886) q[12]; U3(0.500572, 1.99274, 0.993175) q[16]; U3(0.5, 0.5, 1) q[0]; U3(0, 0, 0.5) q[2]; U3(0.0553968, 1.49624, 1.50142) q[4]; U3(0.944803, 0.503483, 0.499456) q[8]; U3(0.0553968, 1.49624, 1.50142) q[12]; U3(0.944803, 0.503483, 0.499456) q[16]; ZZPhase(3.5) q[6], q[0]; ZZPhase(3.93216) q[8], q[4]; ZZPhase(3.93216) q[16], q[12]; U3(0, 1, 1.5) q[0]; U3(0.5, 1.5, 0.5) q[4]; U3(0, 0, 0.5) q[6]; U3(0.5, 1.5, 0.5) q[8]; U3(0.5, 1.5, 0.5) q[12]; U3(0.5, 1.5, 0.5) q[16]; ZZPhase(3.5) q[2], q[0]; ZZPhase(3.99687) q[8], q[4]; ZZPhase(3.99687) q[16], q[12]; U3(0, 1, 1.5) q[0]; U3(1, 0.339777, 1.33978) q[2]; U3(0.5, 1.5, 0) q[4]; U3(0.5, 1.5, 0) q[8]; U3(0.5, 1.5, 0) q[12]; U3(0.5, 1.5, 0) q[16]; ZZPhase(3.5) q[6], q[0]; ZZPhase(6.81278e-05) q[8], q[4]; ZZPhase(6.81278e-05) q[16], q[12]; U3(0.5, 0.5, 1) q[0]; ZZPhase(3.75001) q[6], q[2]; U3(0.499327, 0.00190508, 0.0750951) q[4]; U3(0.499088, 0.00410997, 1.07503) q[8]; U3(0.499327, 0.00190508, 0.0750951) q[12]; U3(0.499088, 0.00410997, 1.07503) q[16]; U3(1, 1.52548, 1.02506) q[2]; U3(0.944803, 0.503483, 0.499456) q[4]; U3(0, 0.5, 1.74956) q[6]; U3(0.0553968, 1.49624, 1.50142) q[8]; U3(0.944803, 0.503483, 0.499456) q[12]; U3(0.0553968, 1.49624, 1.50142) q[16]; ZZPhase(3.5) q[6], q[0]; ZZPhase(3.93216) q[4], q[16]; ZZPhase(3.93216) q[12], q[8]; U3(0.250437, 1, 1.5) q[0]; U3(0.5, 1.5, 0.5) q[4]; U3(0, 0, 0.5) q[6]; U3(0.5, 1.5, 0.5) q[8]; U3(0.5, 1.5, 0.5) q[12]; U3(0.5, 1.5, 0.5) q[16]; ZZPhase(3.5) q[2], q[0]; ZZPhase(3.99687) q[4], q[16]; ZZPhase(3.99687) q[12], q[8]; U3(0.249991, 0, 0.5) q[0]; U3(0, 0, 0.5) q[2]; U3(0.5, 1.5, 0) q[4]; U3(0.5, 1.5, 0) q[8]; U3(0.5, 1.5, 0) q[12]; U3(0.5, 1.5, 0) q[16]; ZZPhase(3.5) q[6], q[0]; ZZPhase(6.81278e-05) q[4], q[16]; ZZPhase(6.81278e-05) q[12], q[8]; U3(0.000416269, 0, 0.5) q[0]; U3(0.499088, 0.00410997, 1.07503) q[4]; U3(0.475256, 0.0468292, 0.497177) q[6]; U3(0.499327, 0.00190508, 0.0750951) q[8]; U3(0.499088, 0.00410997, 1.07503) q[12]; U3(0.499327, 0.00190508, 0.0750951) q[16]; ZZPhase(3.5) q[2], q[0]; U3(0.0274118, 0.50042, 0.99937) q[4]; U3(0.000160413, 0.315122, 0.201577) q[8]; U3(0.0274118, 0.50042, 0.99937) q[12]; U3(0.000160413, 0.315122, 0.201577) q[16]; U3(0.5, 0, 1) q[0]; U3(0.500007, 0.497045, 1.00019) q[2]; ZZPhase(3.50222) q[8], q[4]; ZZPhase(3.50222) q[16], q[12]; U3(0.5, 0.5, 1) q[0]; ZZPhase(3.50223) q[6], q[2]; U3(0.5, 1.5, 0.5) q[4]; U3(0.5, 1.5, 0.5) q[8]; U3(0.5, 1.5, 0.5) q[12]; U3(0.5, 1.5, 0.5) q[16]; ZZPhase(3.5) q[7], q[0]; U3(0.5, 1.5, 0.5) q[2]; ZZPhase(3.75342) q[8], q[4]; U3(0.5, 1.5, 0.5) q[6]; ZZPhase(3.75342) q[16], q[12]; U3(0.249563, 0, 0.5) q[0]; ZZPhase(3.97841) q[6], q[2]; U3(0.5, 1.5, 0) q[4]; U3(0, 0, 0.5) q[7]; U3(0.5, 1.5, 0) q[8]; U3(0.5, 1.5, 0) q[12]; U3(0.5, 1.5, 0) q[16]; ZZPhase(3.5) q[3], q[0]; U3(0.5, 1.5, 0) q[2]; ZZPhase(3.9998) q[8], q[4]; U3(0.5, 1.5, 0) q[6]; ZZPhase(3.9998) q[16], q[12]; U3(0.250009, 1, 1.5) q[0]; ZZPhase(3.99997) q[6], q[2]; U3(0, 0, 0.5) q[3]; U3(0.500023, 0.998563, 0.499751) q[4]; U3(0.530462, 1.75245, 0.465261) q[8]; U3(0.500023, 0.998563, 0.499751) q[12]; U3(0.530462, 1.75245, 0.465261) q[16]; ZZPhase(3.5) q[7], q[0]; U3(0.499938, 1.49728, 0.99707) q[2]; U3(0.500033, 1.95817, 1.99991) q[6]; U3(0.000416269, 0, 0.5) q[0]; U3(0, 0, 0.5) q[7]; ZZPhase(3.5) q[3], q[0]; U3(0.5, 0.5, 1) q[0]; U3(0, 0, 0.5) q[3]; ZZPhase(3.5) q[7], q[0]; U3(0, 1, 1.5) q[0]; U3(0, 0, 0.5) q[7]; ZZPhase(3.5) q[3], q[0]; U3(0, 1, 1.5) q[0]; U3(1, 0.339777, 1.33978) q[3]; ZZPhase(3.5) q[7], q[0]; U3(0.5, 0.5, 1) q[0]; ZZPhase(3.75001) q[7], q[3]; U3(1, 1.52548, 1.02506) q[3]; U3(0, 0.5, 1.74956) q[7]; ZZPhase(3.5) q[7], q[0]; U3(0.250437, 1, 1.5) q[0]; U3(0, 0, 0.5) q[7]; ZZPhase(3.5) q[3], q[0]; U3(0.249991, 0, 0.5) q[0]; U3(0, 0, 0.5) q[3]; ZZPhase(3.5) q[7], q[0]; U3(0.000416269, 0, 0.5) q[0]; U3(0.475256, 0.0468292, 0.497177) q[7]; ZZPhase(3.5) q[3], q[0]; U3(0.5, 0, 1) q[0]; U3(0.500007, 0.497045, 1.00019) q[3]; U3(0.5, 0.5, 1) q[0]; ZZPhase(3.50223) q[7], q[3]; ZZPhase(3.5) q[8], q[0]; U3(0.5, 1.5, 0.5) q[3]; U3(0.5, 1.5, 0.5) q[7]; U3(0.249563, 0, 0.5) q[0]; ZZPhase(3.97841) q[7], q[3]; U3(0, 0, 0.5) q[8]; ZZPhase(3.5) q[4], q[0]; U3(0.5, 1.5, 0) q[3]; U3(0.5, 1.5, 0) q[7]; U3(0.250009, 1, 1.5) q[0]; ZZPhase(3.99997) q[7], q[3]; U3(0, 0, 0.5) q[4]; ZZPhase(3.5) q[8], q[0]; U3(0.499938, 1.49728, 0.99707) q[3]; U3(0.500033, 1.95817, 1.99991) q[7]; U3(0.000416269, 0, 0.5) q[0]; U3(0, 0, 0.5) q[8]; ZZPhase(3.5) q[4], q[0]; U3(0.5, 0.5, 1) q[0]; U3(0, 0, 0.5) q[4]; ZZPhase(3.5) q[8], q[0]; U3(0, 1, 1.5) q[0]; U3(0, 0, 0.5) q[8]; ZZPhase(3.5) q[4], q[0]; U3(0, 1, 1.5) q[0]; U3(1, 0.339777, 1.33978) q[4]; ZZPhase(3.5) q[8], q[0]; U3(0.5, 0.5, 1) q[0]; ZZPhase(3.75001) q[8], q[4]; U3(1, 1.52548, 1.02506) q[4]; U3(0, 0.5, 1.74956) q[8]; ZZPhase(3.5) q[8], q[0]; U3(0.250437, 1, 1.5) q[0]; U3(0, 0, 0.5) q[8]; ZZPhase(3.5) q[4], q[0]; U3(0.249991, 0, 0.5) q[0]; U3(0, 0, 0.5) q[4]; ZZPhase(3.5) q[8], q[0]; U3(0.000416269, 0, 0.5) q[0]; U3(0.475256, 0.0468292, 0.497177) q[8]; ZZPhase(3.5) q[4], q[0]; U3(0.5, 0, 1) q[0]; U3(0.500007, 0.497045, 1.00019) q[4]; U3(0.5, 0.5, 1) q[0]; ZZPhase(3.50223) q[8], q[4]; ZZPhase(3.5) q[13], q[0]; U3(0.5, 1.5, 0.5) q[4]; U3(0.5, 1.5, 0.5) q[8]; U3(0.249563, 0, 0.5) q[0]; ZZPhase(3.97841) q[8], q[4]; U3(0, 0, 0.5) q[13]; ZZPhase(3.5) q[9], q[0]; U3(0.5, 1.5, 0) q[4]; U3(0.5, 1.5, 0) q[8]; U3(0.250009, 1, 1.5) q[0]; ZZPhase(3.99997) q[8], q[4]; U3(0, 0, 0.5) q[9]; ZZPhase(3.5) q[13], q[0]; U3(0.499938, 1.49728, 0.99707) q[4]; U3(0.500033, 1.95817, 1.99991) q[8]; U3(0.000416269, 0, 0.5) q[0]; U3(0, 0, 0.5) q[13]; ZZPhase(3.5) q[9], q[0]; U3(0.5, 0.5, 1) q[0]; U3(0, 0, 0.5) q[9]; ZZPhase(3.5) q[13], q[0]; U3(0, 1, 1.5) q[0]; U3(0, 0, 0.5) q[13]; ZZPhase(3.5) q[9], q[0]; U3(0, 1, 1.5) q[0]; U3(1, 0.339777, 1.33978) q[9]; ZZPhase(3.5) q[13], q[0]; U3(0.5, 0.5, 1) q[0]; ZZPhase(3.75001) q[13], q[9]; U3(1, 1.52548, 1.02506) q[9]; U3(0, 0.5, 1.74956) q[13]; ZZPhase(3.5) q[13], q[0]; U3(0.250437, 1, 1.5) q[0]; U3(0, 0, 0.5) q[13]; ZZPhase(3.5) q[9], q[0]; U3(0.249991, 0, 0.5) q[0]; U3(0, 0, 0.5) q[9]; ZZPhase(3.5) q[13], q[0]; U3(0.000416269, 0, 0.5) q[0]; U3(0.475256, 0.0468292, 0.497177) q[13]; ZZPhase(3.5) q[9], q[0]; U3(0.5, 0, 1) q[0]; U3(0.500007, 0.497045, 1.00019) q[9]; U3(0.5, 0.5, 1) q[0]; ZZPhase(3.50223) q[13], q[9]; ZZPhase(3.5) q[14], q[0]; U3(0.5, 1.5, 0.5) q[9]; U3(0.5, 1.5, 0.5) q[13]; U3(0.249563, 0, 0.5) q[0]; ZZPhase(3.97841) q[13], q[9]; U3(0, 0, 0.5) q[14]; ZZPhase(3.5) q[10], q[0]; U3(0.5, 1.5, 0) q[9]; U3(0.5, 1.5, 0) q[13]; U3(0.250009, 1, 1.5) q[0]; ZZPhase(3.99997) q[13], q[9]; U3(0, 0, 0.5) q[10]; ZZPhase(3.5) q[14], q[0]; U3(0.499938, 1.49728, 0.99707) q[9]; U3(0.500033, 1.95817, 1.99991) q[13]; U3(0.000416269, 0, 0.5) q[0]; U3(0, 0, 0.5) q[14]; ZZPhase(3.5) q[10], q[0]; U3(0.5, 0.5, 1) q[0]; U3(0, 0, 0.5) q[10]; ZZPhase(3.5) q[14], q[0]; U3(0, 1, 1.5) q[0]; U3(0, 0, 0.5) q[14]; ZZPhase(3.5) q[10], q[0]; U3(0, 1, 1.5) q[0]; U3(1, 0.339777, 1.33978) q[10]; ZZPhase(3.5) q[14], q[0]; U3(0.5, 0.5, 1) q[0]; ZZPhase(3.75001) q[14], q[10]; U3(1, 1.52548, 1.02506) q[10]; U3(0, 0.5, 1.74956) q[14]; ZZPhase(3.5) q[14], q[0]; U3(0.250437, 1, 1.5) q[0]; U3(0, 0, 0.5) q[14]; ZZPhase(3.5) q[10], q[0]; U3(0.249991, 0, 0.5) q[0]; U3(0, 0, 0.5) q[10]; ZZPhase(3.5) q[14], q[0]; U3(0.000416269, 0, 0.5) q[0]; U3(0.475256, 0.0468292, 0.497177) q[14]; ZZPhase(3.5) q[10], q[0]; U3(0.5, 0, 1) q[0]; U3(0.500007, 0.497045, 1.00019) q[10]; U3(0.5, 0.5, 1) q[0]; ZZPhase(3.50223) q[14], q[10]; ZZPhase(3.5) q[15], q[0]; U3(0.5, 1.5, 0.5) q[10]; U3(0.5, 1.5, 0.5) q[14]; U3(0.249563, 0, 0.5) q[0]; ZZPhase(3.97841) q[14], q[10]; U3(0, 0, 0.5) q[15]; ZZPhase(3.5) q[11], q[0]; U3(0.5, 1.5, 0) q[10]; U3(0.5, 1.5, 0) q[14]; U3(0.250009, 1, 1.5) q[0]; ZZPhase(3.99997) q[14], q[10]; U3(0, 0, 0.5) q[11]; ZZPhase(3.5) q[15], q[0]; U3(0.499938, 1.49728, 0.99707) q[10]; U3(0.500033, 1.95817, 1.99991) q[14]; U3(0.000416269, 0, 0.5) q[0]; U3(0, 0, 0.5) q[15]; ZZPhase(3.5) q[11], q[0]; U3(0.5, 0.5, 1) q[0]; U3(0, 0, 0.5) q[11]; ZZPhase(3.5) q[15], q[0]; U3(0, 1, 1.5) q[0]; U3(0, 0, 0.5) q[15]; ZZPhase(3.5) q[11], q[0]; U3(0, 1, 1.5) q[0]; U3(1, 0.339777, 1.33978) q[11]; ZZPhase(3.5) q[15], q[0]; U3(0.5, 0.5, 1) q[0]; ZZPhase(3.75001) q[15], q[11]; U3(1, 1.52548, 1.02506) q[11]; U3(0, 0.5, 1.74956) q[15]; ZZPhase(3.5) q[15], q[0]; U3(0.250437, 1, 1.5) q[0]; U3(0, 0, 0.5) q[15]; ZZPhase(3.5) q[11], q[0]; U3(0.249991, 0, 0.5) q[0]; U3(0, 0, 0.5) q[11]; ZZPhase(3.5) q[15], q[0]; U3(0.000416269, 0, 0.5) q[0]; U3(0.475256, 0.0468292, 0.497177) q[15]; ZZPhase(3.5) q[11], q[0]; U3(0.5, 0, 1) q[0]; U3(0.500007, 0.497045, 1.00019) q[11]; U3(0.5, 0.5, 1) q[0]; ZZPhase(3.50223) q[15], q[11]; ZZPhase(3.5) q[16], q[0]; U3(0.5, 1.5, 0.5) q[11]; U3(0.5, 1.5, 0.5) q[15]; U3(0.249563, 0, 0.5) q[0]; ZZPhase(3.97841) q[15], q[11]; U3(0, 0, 0.5) q[16]; ZZPhase(3.5) q[12], q[0]; U3(0.5, 1.5, 0) q[11]; U3(0.5, 1.5, 0) q[15]; U3(0.250009, 1, 1.5) q[0]; ZZPhase(3.99997) q[15], q[11]; U3(0, 0, 0.5) q[12]; ZZPhase(3.5) q[16], q[0]; U3(0.499938, 1.49728, 0.99707) q[11]; U3(0.500033, 1.95817, 1.99991) q[15]; U3(0.000416269, 0, 0.5) q[0]; U3(0, 0, 0.5) q[16]; ZZPhase(3.5) q[12], q[0]; U3(0.5, 0.5, 1) q[0]; U3(0, 0, 0.5) q[12]; ZZPhase(3.5) q[16], q[0]; U3(0, 1, 1.5) q[0]; U3(0, 0, 0.5) q[16]; ZZPhase(3.5) q[12], q[0]; U3(0, 1, 1.5) q[0]; U3(1, 0.339777, 1.33978) q[12]; ZZPhase(3.5) q[16], q[0]; U3(0.5, 0.5, 1) q[0]; ZZPhase(3.75001) q[16], q[12]; U3(1, 1.52548, 1.02506) q[12]; U3(0, 0.5, 1.74956) q[16]; ZZPhase(3.5) q[16], q[0]; U3(0.250437, 1, 1.5) q[0]; U3(0, 0, 0.5) q[16]; ZZPhase(3.5) q[12], q[0]; U3(0.249991, 0, 0.5) q[0]; U3(0, 0, 0.5) q[12]; ZZPhase(3.5) q[16], q[0]; U3(0.000416269, 0, 0.5) q[0]; U3(0.475256, 0.0468292, 0.497177) q[16]; ZZPhase(3.5) q[12], q[0]; U3(0.5, 0, 1) q[0]; U3(0.500007, 0.497045, 1.00019) q[12]; X q[0]; ZZPhase(3.50223) q[16], q[12]; Unitary1qBox q[0]; U3(0.5, 1.5, 0.5) q[12]; U3(0.5, 1.5, 0.5) q[16]; H q[0]; ZZPhase(3.97841) q[16], q[12]; Measure q[0] --> c[0]; U3(0.5, 1.5, 0) q[12]; U3(0.5, 1.5, 0) q[16]; ZZPhase(3.99997) q[16], q[12]; U3(0.499938, 1.49728, 0.99707) q[12]; U3(0.500033, 1.95817, 1.99991) q[16]; ]"
      ]
     },
     "execution_count": 80,
     "metadata": {},
     "output_type": "execute_result"
    }
   ],
   "source": [
    "from pytket.circuit import Unitary1qBox\n",
    "\n",
    "qc_QPE_real = Circuit(L+1, 1)\n",
    "qc_QPE_real.append(qc_A)\n",
    "qc_QPE_real.H(0)\n",
    "qc_QPE_real.append(qc_cU)\n",
    "qc_QPE_real.H(0)\n",
    "qc_QPE_real.Measure(0, 0)\n",
    "\n",
    "qc_QPE_imag = Circuit(L+1, 1)\n",
    "qc_QPE_imag.append(qc_A)\n",
    "qc_QPE_imag.H(0)\n",
    "qc_QPE_imag.append(qc_cU)\n",
    "qc_QPE_imag.add_unitary1qbox(Unitary1qBox(np.array([[1, 0],\n",
    "                                                    [0, -1j]])), 0)\n",
    "qc_QPE_imag.H(0)\n",
    "qc_QPE_imag.Measure(0, 0)\n"
   ]
  },
  {
   "cell_type": "code",
   "execution_count": 102,
   "id": "a21eb43f-40d9-4143-b45c-93b9466706c1",
   "metadata": {},
   "outputs": [
    {
     "data": {
      "text/plain": [
       "[CX q[0], q[1]; CX q[0], q[1]; CX q[0], q[1]; CX q[0], q[1]; CX q[0], q[1]; CX q[0], q[1]; CX q[0], q[1]; CX q[0], q[1]; CX q[0], q[1]; CX q[0], q[1]; CX q[0], q[1]; CX q[0], q[1]; CX q[0], q[1]; CX q[0], q[1]; CX q[0], q[1]; CX q[0], q[1]; CX q[0], q[1]; CX q[0], q[1]; CX q[0], q[1]; CX q[0], q[1]; CX q[0], q[1]; CX q[0], q[1]; CX q[0], q[1]; CX q[0], q[1]; CX q[0], q[1]; CX q[0], q[1]; CX q[0], q[1]; CX q[0], q[1]; CX q[0], q[1]; CX q[0], q[1]; CX q[0], q[1]; CX q[0], q[1]; CX q[0], q[1]; CX q[0], q[1]; CX q[0], q[1]; CX q[0], q[1]; CX q[0], q[1]; CX q[0], q[1]; CX q[0], q[1]; CX q[0], q[1]; CX q[0], q[1]; CX q[0], q[1]; CX q[0], q[1]; CX q[0], q[1]; CX q[0], q[1]; CX q[0], q[1]; CX q[0], q[1]; CX q[0], q[1]; CX q[0], q[1]; CX q[0], q[1]; CX q[0], q[1]; CX q[0], q[1]; CX q[0], q[1]; CX q[0], q[1]; CX q[0], q[1]; CX q[0], q[1]; CX q[0], q[1]; CX q[0], q[1]; CX q[0], q[1]; CX q[0], q[1]; CX q[0], q[1]; CX q[0], q[1]; CX q[0], q[1]; CX q[0], q[1]; CX q[0], q[1]; CX q[0], q[1]; CX q[0], q[1]; CX q[0], q[1]; CX q[0], q[1]; CX q[0], q[1]; CX q[0], q[1]; CX q[0], q[1]; CX q[0], q[1]; CX q[0], q[1]; CX q[0], q[1]; CX q[0], q[1]; CX q[0], q[1]; CX q[0], q[1]; CX q[0], q[1]; CX q[0], q[1]; CX q[0], q[1]; CX q[0], q[1]; CX q[0], q[1]; CX q[0], q[1]; CX q[0], q[1]; CX q[0], q[1]; CX q[0], q[1]; CX q[0], q[1]; CX q[0], q[1]; CX q[0], q[1]; CX q[0], q[1]; CX q[0], q[1]; CX q[0], q[1]; CX q[0], q[1]; CX q[0], q[1]; CX q[0], q[1]; CX q[0], q[1]; CX q[0], q[1]; CX q[0], q[1]; CX q[0], q[1]; CX q[0], q[1]; CX q[0], q[1]; CX q[0], q[1]; CX q[0], q[1]; CX q[0], q[1]; CX q[0], q[1]; CX q[0], q[1]; CX q[0], q[1]; CX q[0], q[1]; CX q[0], q[1]; CX q[0], q[1]; CX q[0], q[1]; CX q[0], q[1]; CX q[0], q[1]; CX q[0], q[1]; CX q[0], q[1]; CX q[0], q[1]; CX q[0], q[1]; CX q[0], q[1]; CX q[0], q[1]; CX q[0], q[1]; CX q[0], q[1]; CX q[0], q[1]; CX q[0], q[1]; CX q[0], q[1]; CX q[0], q[1]; CX q[0], q[1]; CX q[0], q[1]; CX q[0], q[1]; CX q[0], q[1]; CX q[0], q[1]; CX q[0], q[1]; CX q[0], q[1]; CX q[0], q[1]; CX q[0], q[1]; CX q[0], q[1]; CX q[0], q[1]; CX q[0], q[1]; CX q[0], q[1]; CX q[0], q[1]; CX q[0], q[1]; CX q[0], q[1]; CX q[0], q[1]; CX q[0], q[1]; CX q[0], q[1]; CX q[0], q[1]; CX q[0], q[1]; CX q[0], q[1]; CX q[0], q[1]; CX q[0], q[1]; CX q[0], q[1]; CX q[0], q[1]; CX q[0], q[1]; CX q[0], q[1]; CX q[0], q[1]; CX q[0], q[1]; CX q[0], q[1]; CX q[0], q[1]; CX q[0], q[1]; CX q[0], q[1]; CX q[0], q[1]; CX q[0], q[1]; CX q[0], q[1]; CX q[0], q[1]; CX q[0], q[1]; CX q[0], q[1]; CX q[0], q[1]; CX q[0], q[1]; CX q[0], q[1]; CX q[0], q[1]; CX q[0], q[1]; CX q[0], q[1]; CX q[0], q[1]; CX q[0], q[1]; CX q[0], q[1]; CX q[0], q[1]; CX q[0], q[1]; CX q[0], q[1]; CX q[0], q[1]; CX q[0], q[1]; CX q[0], q[1]; CX q[0], q[1]; CX q[0], q[1]; CX q[0], q[1]; CX q[0], q[1]; CX q[0], q[1]; CX q[0], q[1]; CX q[0], q[1]; CX q[0], q[1]; CX q[0], q[1]; CX q[0], q[1]; CX q[0], q[1]; CX q[0], q[1]; CX q[0], q[1]; CX q[0], q[1]; CX q[0], q[1]; CX q[0], q[1]; CX q[0], q[1]; CX q[0], q[1]; CX q[0], q[1]; CX q[0], q[1]; CX q[0], q[1]; CX q[0], q[1]; CX q[0], q[1]; CX q[0], q[1]; CX q[0], q[1]; CX q[0], q[1]; CX q[0], q[1]; CX q[0], q[1]; CX q[0], q[1]; CX q[0], q[1]; CX q[0], q[1]; CX q[0], q[1]; CX q[0], q[1]; CX q[0], q[1]; CX q[0], q[1]; CX q[0], q[1]; CX q[0], q[1]; CX q[0], q[1]; CX q[0], q[1]; CX q[0], q[1]; CX q[0], q[1]; CX q[0], q[1]; CX q[0], q[1]; CX q[0], q[1]; CX q[0], q[1]; CX q[0], q[1]; CX q[0], q[1]; CX q[0], q[1]; CX q[0], q[1]; CX q[0], q[1]; CX q[0], q[1]; CX q[0], q[1]; CX q[0], q[1]; CX q[0], q[1]; CX q[0], q[1]; CX q[0], q[1]; CX q[0], q[1]; CX q[0], q[1]; CX q[0], q[1]; Measure q[1] --> c[0]; ]"
      ]
     },
     "execution_count": 102,
     "metadata": {},
     "output_type": "execute_result"
    }
   ],
   "source": [
    "qc_dummy = Circuit(2, 1)\n",
    "for i in range(240):\n",
    "    qc_dummy.CX(0, 1)\n",
    "qc_dummy.Measure(1, 0)"
   ]
  },
  {
   "cell_type": "code",
   "execution_count": 103,
   "id": "3e4fbaf4-7a14-4064-abce-223d4e50ac2b",
   "metadata": {},
   "outputs": [],
   "source": [
    "import qnexus as qnx\n",
    "\n",
    "my_project_ref = qnx.projects.get_or_create(name=\"Compile Tester\")"
   ]
  },
  {
   "cell_type": "code",
   "execution_count": 104,
   "id": "922b2161-c3f8-425f-83d3-4d6309b62ec0",
   "metadata": {},
   "outputs": [
    {
     "name": "stderr",
     "output_type": "stream",
     "text": [
      "/opt/anaconda3/envs/pytket/lib/python3.11/site-packages/qnexus/client/utils.py:170: DeprecationWarning: The `circuits` argument is deprecated and will be removed in a future version. Please use `programs`.\n",
      "  warnings.warn(\n"
     ]
    }
   ],
   "source": [
    "# Upload Circuits\n",
    "circ_refs = []\n",
    "\n",
    "\"\"\"circ_refs.append(qnx.circuits.upload(\n",
    "    name=f\"QPE Real, t=0.25\",\n",
    "    circuit=qc_QPE_real,\n",
    "    project=my_project_ref,\n",
    "))\n",
    "\n",
    "circ_refs.append(qnx.circuits.upload(\n",
    "    name=f\"QPE Imag, t=0.25\",\n",
    "    circuit=qc_QPE_imag,\n",
    "    project=my_project_ref,\n",
    "))\"\"\"\n",
    "circ_refs.append(qnx.circuits.upload(\n",
    "    name=f\"dummy\",\n",
    "    circuit=qc_dummy,\n",
    "    project=my_project_ref,\n",
    "))\n",
    "\n",
    "\n",
    "# Compile Circuits\n",
    "compiled_circuits = qnx.compile(\n",
    "    circuits=circ_refs,\n",
    "    name=\"dummy 240\",\n",
    "    optimisation_level = 0,\n",
    "    backend_config=qnx.QuantinuumConfig(device_name=\"H1-Emulator\"),\n",
    "    project=my_project_ref,\n",
    ")"
   ]
  },
  {
   "cell_type": "code",
   "execution_count": 105,
   "id": "b6e4c932-88e4-470e-9052-f970d3ceae77",
   "metadata": {},
   "outputs": [
    {
     "data": {
      "text/html": [
       "<div>\n",
       "<style scoped>\n",
       "    .dataframe tbody tr th:only-of-type {\n",
       "        vertical-align: middle;\n",
       "    }\n",
       "\n",
       "    .dataframe tbody tr th {\n",
       "        vertical-align: top;\n",
       "    }\n",
       "\n",
       "    .dataframe thead th {\n",
       "        text-align: right;\n",
       "    }\n",
       "</style>\n",
       "<table border=\"1\" class=\"dataframe\">\n",
       "  <thead>\n",
       "    <tr style=\"text-align: right;\">\n",
       "      <th></th>\n",
       "      <th>name</th>\n",
       "      <th>description</th>\n",
       "      <th>created</th>\n",
       "      <th>modified</th>\n",
       "      <th>job_type</th>\n",
       "      <th>last_status</th>\n",
       "      <th>project</th>\n",
       "      <th>backend_config</th>\n",
       "      <th>id</th>\n",
       "    </tr>\n",
       "  </thead>\n",
       "  <tbody>\n",
       "    <tr>\n",
       "      <th>0</th>\n",
       "      <td>dummy 240</td>\n",
       "      <td></td>\n",
       "      <td>2025-07-20 12:30:09.976320+00:00</td>\n",
       "      <td>2025-07-20 12:30:09.976320+00:00</td>\n",
       "      <td>JobType.EXECUTE</td>\n",
       "      <td>StatusEnum.SUBMITTED</td>\n",
       "      <td>Compile Tester</td>\n",
       "      <td>QuantinuumConfig</td>\n",
       "      <td>8ea66d9c-547c-4260-adcf-2743f2c1e84a</td>\n",
       "    </tr>\n",
       "  </tbody>\n",
       "</table>\n",
       "</div>"
      ],
      "text/plain": [
       "         name description                          created  \\\n",
       "0  dummy 240              2025-07-20 12:30:09.976320+00:00   \n",
       "\n",
       "                          modified         job_type           last_status  \\\n",
       "0 2025-07-20 12:30:09.976320+00:00  JobType.EXECUTE  StatusEnum.SUBMITTED   \n",
       "\n",
       "          project    backend_config                                    id  \n",
       "0  Compile Tester  QuantinuumConfig  8ea66d9c-547c-4260-adcf-2743f2c1e84a  "
      ]
     },
     "execution_count": 105,
     "metadata": {},
     "output_type": "execute_result"
    }
   ],
   "source": [
    "execute_job_ref = qnx.start_execute_job(\n",
    "    circuits=compiled_circuits,\n",
    "    name=f\"dummy 240 \",\n",
    "    n_shots=[500],\n",
    "    backend_config=qnx.QuantinuumConfig(device_name=\"H1-Emulator\"),\n",
    "    project=my_project_ref,\n",
    ")\n",
    "\n",
    "execute_job_ref.df()"
   ]
  },
  {
   "cell_type": "code",
   "execution_count": null,
   "id": "8c545efb-7efd-405d-9da6-19aad2f1996b",
   "metadata": {},
   "outputs": [],
   "source": [
    "import pandas as pd\n",
    "\n",
    "counts_real = {}\n",
    "counts_imag = {}\n",
    "\n",
    "for i, id in enumerate(range(2, 10)):\n",
    "    table_csv = pd.read_csv(f'./Emulator/shot_results_t0.25_real.csv')\n",
    "\n",
    "    counts_real[0.25]={}\n",
    "    \n",
    "    \n",
    "    for index, row in table_csv.iterrows():\n",
    "        str_key = row['Outcome']\n",
    "        count =  int(row['Count'].replace(',', ''))  if type(row['Count'])==str else int(row['Count'])\n",
    "        counts_real[0.25][int(str_key)] = count"
   ]
  },
  {
   "cell_type": "code",
   "execution_count": null,
   "id": "46fde5a2-bc1a-4acc-9672-968f9687211b",
   "metadata": {},
   "outputs": [],
   "source": [
    "from pytket.extensions.qiskit import AerBackend\n",
    "\n",
    "backend = AerBackend()\n",
    "\n",
    "compiled_circ = backend.get_compiled_circuit(qc_QPE_real)\n",
    "handle = backend.process_circuit(compiled_circ, n_shots=2000)\n",
    "counts_real = backend.get_result(handle).get_counts()\n",
    "\n",
    "compiled_circ = backend.get_compiled_circuit(qc_QPE_imag)\n",
    "handle = backend.process_circuit(compiled_circ, n_shots=2000)\n",
    "counts_imag = backend.get_result(handle).get_counts()"
   ]
  },
  {
   "cell_type": "code",
   "execution_count": 347,
   "id": "88a4078b-0a16-47f7-8133-cb26abd0de53",
   "metadata": {},
   "outputs": [],
   "source": [
    "\n",
    "counts  = {\n",
    "           0.2:  [{(0, ): 1106, (1, ): 894}, {(0, ): 1620, (1, ): 380}],\n",
    "           0.21: [{(0, ): 505, (1, ): 1495}, {(0, ): 1436, (1, ): 564}],\n",
    "    \n",
    "           0.22: [{(0, ): 410, (1, ): 1590}, {(0, ): 814, (1, ): 1186}],\n",
    "    \n",
    "           0.23: [{(0, ): 876, (1, ): 1124}, {(0, ): 391, (1, ): 1609}],\n",
    "           0.5 : [{(0, ): 1015, (1, ): 985}, {(0, ): 1552, (1, ): 448}]\n",
    "          }"
   ]
  },
  {
   "cell_type": "code",
   "execution_count": 348,
   "id": "6dff5898-3ce1-4dc5-9669-acad321c1e02",
   "metadata": {},
   "outputs": [
    {
     "name": "stdout",
     "output_type": "stream",
     "text": [
      "Estimated Phase Amplitude:  0.6289960254246445\n",
      "Estimated Phase Amplitude:  0.6596370213988902\n",
      "Estimated Phase Amplitude:  0.6186242801571887\n",
      "Estimated Phase Amplitude:  0.6214957763331944\n",
      "Estimated Phase Amplitude:  0.55220376673833\n"
     ]
    }
   ],
   "source": [
    "phases_est = {}\n",
    "for t in [0.2, 0.21, 0.22, 0.23, 0.5]:\n",
    "    counts_real, counts_imag = counts[t]\n",
    "    phase_est_real = ((counts_real[(0, )] if (0, ) in counts_real else 0) - (counts_real[(1, )] if (1, ) in counts_real else 0)) /\\\n",
    "                        ((counts_real[(0, )] if (0, ) in counts_real else 0) + (counts_real[(1, )] if (1, ) in counts_real else 0))     \n",
    "    phase_est_imag = ((counts_imag[(0, )] if (0, ) in counts_imag else 0) - (counts_imag[(1, )] if (1, ) in counts_imag else 0)) /\\\n",
    "                        ((counts_imag[(0, )] if (0, ) in counts_imag else 0) + (counts_imag[(1, )] if (1, ) in counts_imag else 0))\n",
    "    phases_est[t] = phase_est_real + 1j*phase_est_imag\n",
    "    print(\"Estimated Phase Amplitude: \", np.linalg.norm(phase_est_real + 1j*phase_est_imag))"
   ]
  },
  {
   "cell_type": "code",
   "execution_count": 349,
   "id": "d1ee1ee2-5767-480a-8a01-d3f597babf20",
   "metadata": {},
   "outputs": [
    {
     "data": {
      "text/plain": [
       "{0.2: (0.106+0.62j),\n",
       " 0.21: (-0.495+0.436j),\n",
       " 0.22: (-0.59-0.186j),\n",
       " 0.23: (-0.124-0.609j),\n",
       " 0.5: (0.015+0.552j)}"
      ]
     },
     "execution_count": 349,
     "metadata": {},
     "output_type": "execute_result"
    }
   ],
   "source": [
    "phases_est"
   ]
  },
  {
   "cell_type": "code",
   "execution_count": 45,
   "id": "1ac584f2-a2fa-493b-b6d4-eeac0c75a2eb",
   "metadata": {},
   "outputs": [],
   "source": [
    "# For t=0.2, here is the exact phase:   (-0.15823157287931242+0.9874020302511732j)\n",
    "# For t=0.21, here is the exact phase:  (-0.9275722326124037+0.37364388565376094j)\n",
    "# For t=0.22, here is the exact phase:  (-0.7984811662380588-0.6020197896773075j)\n",
    "# For t=0.23, here is the exact phase:  (0.10400607051011165-0.9945766623529056j)\n",
    "# For t=0.25, here is the exact phase:  (0.8302036981146572+0.5574601507163961j)\n",
    "# For t=0.5, here is the exact phase:  (0.3784763607264664+0.9256109573526287j)\n",
    "# "
   ]
  },
  {
   "cell_type": "code",
   "execution_count": null,
   "id": "820283c5-7892-4b45-936f-8dfa2672de97",
   "metadata": {},
   "outputs": [],
   "source": []
  },
  {
   "cell_type": "code",
   "execution_count": 5,
   "id": "cc54b827-ccc2-49e8-bb66-c5ad2347dc81",
   "metadata": {},
   "outputs": [],
   "source": [
    "import random\n",
    "from pytket import Circuit, Qubit\n",
    "from pytket.pauli import Pauli\n",
    "\n",
    "def random_state_prep_circuit(n_qubits: int, depth: int = 10) -> Circuit:\n",
    "    circ = Circuit(n_qubits)\n",
    "\n",
    "    for d in range(depth):\n",
    "        # Layer of random single-qubit rotations\n",
    "        for q in range(n_qubits):\n",
    "            theta = random.uniform(0, 2 * 3.1415)\n",
    "            phi = random.uniform(0, 2 * 3.1415)\n",
    "            lamb = random.uniform(0, 2 * 3.1415)\n",
    "            circ.Rz(phi, q)\n",
    "            circ.Ry(theta, q)\n",
    "            circ.Rz(lamb, q)\n",
    "\n",
    "        # Layer of CX gates (entangling)\n",
    "        for q in range(0, n_qubits - 1, 2):\n",
    "            circ.CX(q, q + 1)\n",
    "\n",
    "        # Optionally shuffle qubits between layers for more mixing\n",
    "        random.shuffle(list(range(n_qubits)))\n",
    "\n",
    "    return circ\n",
    "\n",
    "\n",
    "def reverse_bits_statevector(statevec, num_qubits):\n",
    "    n = len(statevec)\n",
    "    output = np.zeros(n, dtype=complex)\n",
    "    for i in range(n):\n",
    "        reversed_i = int(f\"{i:0{num_qubits}b}\"[::-1], 2)\n",
    "        output[reversed_i] = statevec[i]\n",
    "    return output"
   ]
  },
  {
   "cell_type": "code",
   "execution_count": 6,
   "id": "cae8cf76-cb85-4867-b6a5-dc8d256f528d",
   "metadata": {},
   "outputs": [],
   "source": [
    "import numpy as np\n",
    "from scipy.linalg import eig, qr\n",
    "\n",
    "def demultiplex(U, V):\n",
    "    \"\"\"Compute the type-A KAK decomposition of the block-diagonal matrix U⊕V that\n",
    "    corresponds to demultiplexing.\"\"\"\n",
    "    delta = U @ V.conj().T\n",
    "    # Compute eigenvalue decomposition\n",
    "    D_squared, U_1 = eig(delta)\n",
    "    # Compute the square root by extracting phases and halving them\n",
    "    phi = np.angle(D_squared) / 2\n",
    "    U_2 = np.diag(np.exp(1j * phi)) @ U_1.conj().T @ V\n",
    "    # Return the rotation angles for A, instead of the diagonal matrix D\n",
    "    return U_1, phi, U_2"
   ]
  },
  {
   "cell_type": "code",
   "execution_count": 7,
   "id": "08c75ccc-2c0b-460b-9a1d-605545c8ef07",
   "metadata": {},
   "outputs": [],
   "source": [
    "from scipy.linalg import cossin, eig, qr\n",
    "import pennylane as qml\n",
    "\n",
    "def demultiplex(U, V):\n",
    "    \"\"\"Numerically stable demultiplexing decomposition: K = K1 · A · K2\"\"\"\n",
    "    delta = U @ V.conj().T\n",
    "    # Eigen decomposition of delta (not necessarily Hermitian)\n",
    "    D_squared, U_1 = eig(delta)\n",
    "    # Fix: Re-orthogonalize U_1 (ensure unitary)\n",
    "    U_1, _ = qr(U_1)\n",
    "    # Compute eigenphases, halve them\n",
    "    phi = np.angle(D_squared) / 2\n",
    "    # Construct U_2\n",
    "    U_2 = np.diag(np.exp(1j * phi)) @ U_1.conj().T @ V\n",
    "    # Fix: Project U_2 back to nearest unitary using SVD\n",
    "    U, _, Vh = np.linalg.svd(U_2)\n",
    "    U_2 = U @ Vh\n",
    "    return U_1, phi, U_2"
   ]
  },
  {
   "cell_type": "code",
   "execution_count": 68,
   "id": "dffe6866-310d-426a-95aa-baffc747672b",
   "metadata": {},
   "outputs": [
    {
     "name": "stdout",
     "output_type": "stream",
     "text": [
      "     ┌─────┐┌────┐┌─────┐\n",
      "q_0: ┤0    ├┤0   ├┤0    ├\n",
      "     │  U2 ││    ││  U1 │\n",
      "q_1: ┤1    ├┤1 A ├┤1    ├\n",
      "     └─────┘│    │└─────┘\n",
      "q_2: ───────┤2   ├───────\n",
      "            └────┘       \n"
     ]
    },
    {
     "data": {
      "text/plain": [
       "1192"
      ]
     },
     "execution_count": 68,
     "metadata": {},
     "output_type": "execute_result"
    }
   ],
   "source": [
    "from qiskit import QuantumCircuit, transpile\n",
    "\n",
    "Vlist = Vlists[0.25]\n",
    "decomposed_Vs = []\n",
    "counts_nc = 0\n",
    "counts_c = 0\n",
    "for i in range(15):\n",
    "    if i not in control_layers:\n",
    "        qc = qiskit.QuantumCircuit(2)\n",
    "        qc.unitary(Vlist[i], [0, 1])\n",
    "        transpiled_circuit = transpile(qc, basis_gates=['rzz', 'u3'])\n",
    "        gate_counts = transpiled_circuit.count_ops()\n",
    "        counts_nc += gate_counts['rzz']\n",
    "        decomposed_Vs.append(transpiled_circuit)\n",
    "\n",
    "        from qiskit_aer import AerSimulator\n",
    "        from qiskit_aer.library import SaveUnitary\n",
    "        # Add instruction to save unitary\n",
    "        qc.save_unitary()\n",
    "        simulator = AerSimulator(method='unitary')\n",
    "        transpiled = transpile(qc, simulator)\n",
    "        result = simulator.run(transpiled).result()\n",
    "        unitary = result.data(0)['unitary']\n",
    "        assert np.allclose(np.array(unitary.data), Vlist[i])\n",
    "    \n",
    "    else:\n",
    "        ket_0 = np.array([[1],[0]])\n",
    "        ket_1 = np.array([[0],[1]])\n",
    "        rho_0_anc = ket_0 @ ket_0.T\n",
    "        rho_1_anc = ket_1 @ ket_1.T\n",
    "        K_1 = np.kron(rho_0_anc, np.eye(4)) + np.kron(rho_1_anc, Vlist[i])\n",
    "        n = 3\n",
    "        zero = np.zeros((4, 4))\n",
    "        \n",
    "        U_1, phi, U_2 = demultiplex(np.eye(4), Vlist[i])\n",
    "        \n",
    "        rz_ops = [qml.RZ(-2 * p, 0) for p in phi]\n",
    "        demultiplex_A = qml.matrix(qml.Select(rz_ops, control=range(1, n)), wire_order=range(n))\n",
    "        #demultiplex_K_1 = np.block([[U_1, zero], [zero, U_1]])\n",
    "        #demultiplex_K_2 = np.block([[U_2, zero], [zero, U_2]])\n",
    "        demultiplex_K_1 = np.kron(np.eye(2), U_1)\n",
    "        demultiplex_K_2 = np.kron(np.eye(2), U_2)\n",
    "        \n",
    "        reconstructed_K_1 = demultiplex_K_1 @ demultiplex_A @ demultiplex_K_2\n",
    "        assert np.allclose(reconstructed_K_1, K_1)\n",
    "        \n",
    "        qc = qiskit.QuantumCircuit(3)\n",
    "        qc.unitary(U_2, [0, 1], label='U2')\n",
    "        qc.unitary(demultiplex_A  , [0, 1, 2], label='A')\n",
    "        qc.unitary(U_1, [0, 1], label='U1')\n",
    "        if i==0:\n",
    "            print(qc.draw())\n",
    "        \n",
    "        transpiled_circuit = transpile(qc, basis_gates=['rzz', 'u3'])\n",
    "        gate_counts = transpiled_circuit.count_ops()\n",
    "        counts_c += gate_counts['rzz']\n",
    "        decomposed_Vs.append(transpiled_circuit)\n",
    "\n",
    "        from qiskit_aer import AerSimulator\n",
    "        from qiskit_aer.library import SaveUnitary\n",
    "        # Add instruction to save unitary\n",
    "        qc.save_unitary()\n",
    "        simulator = AerSimulator(method='unitary')\n",
    "        transpiled = transpile(qc, simulator)\n",
    "        result = simulator.run(transpiled).result()\n",
    "        unitary = result.data(0)['unitary']\n",
    "        #print(gate_counts['rzz'])\n",
    "        assert np.allclose(np.array(unitary.data), K_1)\n",
    "        #decomposed_Vs.append((U_1, A, U_2))\n",
    "        \n",
    "counts_nc*16 + counts_c*8"
   ]
  },
  {
   "cell_type": "code",
   "execution_count": null,
   "id": "41168442-7b58-474e-b420-8943bd68a630",
   "metadata": {},
   "outputs": [],
   "source": [
    "from pytket.extensions.qiskit import qiskit_to_tk\n",
    "from pytket.circuit.display import render_circuit_jupyter\n",
    "\n",
    "render_circuit_jupyter(qiskit_to_tk(decomposed_Vs[6]))"
   ]
  },
  {
   "cell_type": "code",
   "execution_count": null,
   "id": "b8fb591a-491c-4cb9-8f1a-e8e7c502bb5a",
   "metadata": {},
   "outputs": [],
   "source": []
  }
 ],
 "metadata": {
  "kernelspec": {
   "display_name": "Python 11, PtTKET Env",
   "language": "python",
   "name": "pytket"
  },
  "language_info": {
   "codemirror_mode": {
    "name": "ipython",
    "version": 3
   },
   "file_extension": ".py",
   "mimetype": "text/x-python",
   "name": "python",
   "nbconvert_exporter": "python",
   "pygments_lexer": "ipython3",
   "version": "3.11.13"
  }
 },
 "nbformat": 4,
 "nbformat_minor": 5
}
