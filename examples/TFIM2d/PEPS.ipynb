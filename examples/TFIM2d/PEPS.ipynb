{
 "cells": [
  {
   "cell_type": "code",
   "execution_count": 9,
   "id": "975a4b35-6817-408f-8526-a9318a74bacb",
   "metadata": {
    "scrolled": true
   },
   "outputs": [
    {
     "name": "stdout",
     "output_type": "stream",
     "text": [
      "Norm. Trotter\n",
      "norm finished Trotter\n",
      "Norm. Trotter\n",
      "norm finished Trotter\n",
      "Normalize ccU\n",
      "Normalization of ccU finished\n"
     ]
    }
   ],
   "source": [
    "import sys\n",
    "sys.path.append(\"../../src/brickwall_sparse\")\n",
    "from utils_sparse import applyG_block_state, get_perms\n",
    "\n",
    "import numpy as np\n",
    "import quimb.tensor as qtn\n",
    "import quimb\n",
    "from quimb.tensor.tensor_2d_tebd import TEBD2D, LocalHam2D\n",
    "import scipy\n",
    "import h5py\n",
    "import qib\n",
    "import rqcopt as oc\n",
    "from scipy.sparse.linalg import expm_multiply\n",
    "\n",
    "import time\n",
    "import tracemalloc\n",
    "tracemalloc.start()\n",
    "\n",
    "t = 0.25\n",
    "Lx, Ly = (6, 6)\n",
    "L = Lx*Ly\n",
    "latt = qib.lattice.IntegerLattice((Lx, Ly), pbc=True)\n",
    "field = qib.field.Field(qib.field.ParticleType.QUBIT, latt)\n",
    "J, h, g = (1, 0, 3)\n",
    "\n",
    "perms_v, perms_h = (\n",
    "    [[0 , 1 , 2 , 3 , 4 , 5 , 6 , 7 , 8 , 9 , 10, 11, 12, 13, 14, 15, 16, 17, 18, 19, 20, 21, 22, 23, 24, 25, 26, 27, 28, 29, 30, 31, 32, 33, 34, 35],\n",
    "    [1, 2, 3, 4, 5, 0, 7, 8, 9, 10, 11, 6, 13, 14, 15, 16, 17, 12, 19, 20, 21, 22, 23, 18, 25, 26, 27, 28, 29, 24, 31, 32, 33, 34, 35, 30]],\n",
    "    [[0, 6, 12, 18, 24, 30, 1, 7, 13, 19, 25, 31, 2, 8, 14, 20, 26, 32, 3, 9, 15, 21, 27, 33, 4, 10, 16, 22, 28, 34, 5, 11, 17, 23, 29, 35], \n",
    "    [6, 12, 18, 24, 30, 0, 7, 13, 19, 25, 31, 1, 8, 14, 20, 26, 32, 2, 9, 15, 21, 27, 33, 3, 10, 16, 22, 28, 34, 4, 11, 17, 23, 29, 35, 5]]\n",
    ")\n",
    "\n",
    "with h5py.File(f\"./results/tfim2d_ccU_SPARSE_103_Lx4Ly4_t{t}_layers10_niter8_rS1_2hloc.hdf5\", \"r\") as f:\n",
    "    Vlist =  f[\"Vlist\"][:]\n",
    "perms_extended = [[perms_v[0]]] + [perms_v]*3 + [[perms_v[0]], [perms_h[0]]] +\\\n",
    "                    [perms_h]*3 + [[perms_h[0]]]\n",
    "perms_ext_reduced = [perms_v]*3  + [perms_h]*3\n",
    "control_layers = [0, 4, 5, 9] \t\t\t# 4 control layers\n",
    "\n",
    "map_ = {i: (i//Ly, i%Lx) for i in range(L)}\n",
    "\n",
    "peps = qtn.PEPS.rand(Lx, Ly, bond_dim=1, phys_dim=2, cyclic=True)\n",
    "peps = peps / peps.norm()\n",
    "peps_E = peps.copy()\n",
    "peps_T = peps.copy()\n",
    "peps_C = peps.copy()\n",
    "\n",
    "peps_E = trotter(peps_E, 0.25, L, Lx, Ly, J, g, perms_v, perms_h, \n",
    "                     dt=0.25/10, max_bond_dim=3, lower_max_bond_dim=3, treshold=10, trotter_order=2)\n",
    "peps_T = trotter(peps_T.copy(), 0.25, L, Lx, Ly, J, g, perms_v, perms_h,\n",
    "                     dt=0.25/2, max_bond_dim=3, lower_max_bond_dim=3, treshold=6, trotter_order=1)\n",
    "peps_aE = ccU(peps_C, Vlist, perms_extended, control_layers, dagger=False,\n",
    "                 max_bond_dim=3, lower_max_bond_dim=3, treshold=5)\n"
   ]
  },
  {
   "cell_type": "code",
   "execution_count": 10,
   "id": "db66fd2e-4edb-49f2-982a-1238ba6ad9ad",
   "metadata": {},
   "outputs": [
    {
     "data": {
      "text/plain": [
       "0.8176786174133419"
      ]
     },
     "execution_count": 10,
     "metadata": {},
     "output_type": "execute_result"
    }
   ],
   "source": [
    "np.abs(peps_aE.overlap(peps_E))"
   ]
  },
  {
   "cell_type": "code",
   "execution_count": 11,
   "id": "7437a05a-c796-452f-8e04-7342cbb0f005",
   "metadata": {},
   "outputs": [
    {
     "data": {
      "text/plain": [
       "0.709685934758393"
      ]
     },
     "execution_count": 11,
     "metadata": {},
     "output_type": "execute_result"
    }
   ],
   "source": [
    "np.abs(peps_T.overlap(peps_E))"
   ]
  },
  {
   "cell_type": "code",
   "execution_count": 12,
   "id": "1595ad69-83db-4a43-9d1b-3e4f76130bf0",
   "metadata": {},
   "outputs": [],
   "source": [
    "import rqcopt as oc\n",
    "X = np.array([[0, 1], [1, 0]])\n",
    "Z = np.array([[1, 0], [0, -1]])\n",
    "I2 = np.eye(2)\n",
    "\n",
    "def trotter(peps, t, L, Lx, Ly, J, g, perms_v, perms_h, dag=False, max_bond_dim=5, \n",
    "            dt=0.1, trotter_order=2, treshold=10, lower_max_bond_dim=4):\n",
    "    nsteps = np.abs(int(np.ceil(t/dt)))\n",
    "    t = t/nsteps\n",
    "    if trotter_order > 1:\n",
    "        indices = oc.SplittingMethod.suzuki(2, int(np.log(trotter_order)/np.log(2))).indices\n",
    "        coeffs = oc.SplittingMethod.suzuki(2, int(np.log(trotter_order)/np.log(2))).coeffs\n",
    "    else:\n",
    "        indices = [0, 1]\n",
    "        coeffs = [1, 1]\n",
    "    \n",
    "    hloc1 = g*(np.kron(X, I2)+np.kron(I2, X))/4\n",
    "    hloc2 = J*np.kron(Z, Z)\n",
    "    hlocs = (hloc1, hloc2)\n",
    "    Vlist_start = []\n",
    "    for i, c in zip(indices, coeffs):\n",
    "        Vlist_start.append(-1j*c*t*hlocs[i])\n",
    "\n",
    "    for n in range(nsteps):\n",
    "        for layer, V in enumerate(Vlist_start):\n",
    "            i = n*len(Vlist_start)+layer\n",
    "            for perm in perms_h:\n",
    "                ordering = {(map_[perm[2*j]], map_[perm[2*j+1]]): V for j in range(L//2)}\n",
    "                start = time.time()\n",
    "                t = TEBD2D(peps, ham=LocalHam2D(Lx, Ly, ordering, cyclic=True),\n",
    "                    tau=-1, D=max_bond_dim if i<treshold else lower_max_bond_dim, chi=1)\n",
    "                t.sweep(tau=-1)\n",
    "                peps = t.state\n",
    "                \n",
    "            for perm in perms_v:\n",
    "                ordering = {(map_[perm[2*j]], map_[perm[2*j+1]]): V for j in range(L//2)}\n",
    "                start = time.time()\n",
    "                t = TEBD2D(peps, ham=LocalHam2D(Lx, Ly, ordering, cyclic=True),\n",
    "                    tau=-1, D=max_bond_dim if i<treshold else lower_max_bond_dim, chi=1)\n",
    "                t.sweep(tau=-1)\n",
    "                peps = t.state\n",
    "            #with open(f\"trotter_PEPS_log{Lx}{Ly}.txt\", \"a\") as file:\n",
    "            #    file.write(f\"Time step {n}/{nsteps}, layer {layer}/{len(Vlist_start)} applied \\n\")\n",
    "            #print(f\"Time step {n}/{nsteps}, layer {layer}/{len(Vlist_start)} applied\")\n",
    "    print(f\"Norm. Trotter\")\n",
    "    #peps.normalize()\n",
    "    peps = peps / peps.norm()\n",
    "    print(f\"norm finished Trotter\")\n",
    "    return peps"
   ]
  },
  {
   "cell_type": "code",
   "execution_count": 13,
   "id": "b3546982-58c7-43a5-ba02-4f4b0ee80083",
   "metadata": {},
   "outputs": [],
   "source": [
    "def ccU(peps, Vlist, perms_extended, control_layers, dagger=False, max_bond_dim=10, lower_max_bond_dim=4, treshold=10):\n",
    "    for i, V in enumerate(Vlist):\n",
    "        if dagger or i not in control_layers:\n",
    "            perms = perms_extended[i]\n",
    "            for perm in perms:\n",
    "                ordering = {(map_[perm[2*j]], map_[perm[2*j+1]]): scipy.linalg.logm(V) for j in range(L//2)}\n",
    "                start = time.time()\n",
    "                t = TEBD2D(peps, ham=LocalHam2D(Lx, Ly, ordering, cyclic=True),\n",
    "                    tau=-1, D=max_bond_dim if i<treshold else lower_max_bond_dim, chi=1)\n",
    "                t.sweep(tau=-1)\n",
    "                peps = t.state\n",
    "                #peps /= peps.norm()\n",
    "                #print(f\"Step {i} took {time.time() - start:.2f} seconds\")\n",
    "                #print(\"Peak memory:\", tracemalloc.get_traced_memory())\n",
    "    print(f\"Normalize ccU\")\n",
    "    peps = peps / peps.norm()\n",
    "    print(f\"Normalization of ccU finished\")\n",
    "    return peps"
   ]
  },
  {
   "cell_type": "code",
   "execution_count": null,
   "id": "a579c5b1-714e-47fb-8b0d-ad42a31d4ed3",
   "metadata": {},
   "outputs": [],
   "source": []
  },
  {
   "cell_type": "code",
   "execution_count": null,
   "id": "25ee8731-2099-4289-812d-8847dda92af4",
   "metadata": {},
   "outputs": [],
   "source": []
  },
  {
   "cell_type": "code",
   "execution_count": null,
   "id": "e7463e49-e886-44e6-b853-a3ef4e8d52c9",
   "metadata": {},
   "outputs": [],
   "source": []
  },
  {
   "cell_type": "code",
   "execution_count": null,
   "id": "a8032523-3095-4461-80df-a88f49487990",
   "metadata": {},
   "outputs": [],
   "source": []
  },
  {
   "cell_type": "code",
   "execution_count": null,
   "id": "1e22efcb-1adf-430a-98fe-2653bb762d8c",
   "metadata": {},
   "outputs": [],
   "source": []
  },
  {
   "cell_type": "code",
   "execution_count": null,
   "id": "b10cda94-3589-4500-9332-ffef8d50c402",
   "metadata": {},
   "outputs": [],
   "source": [
    "\"\"\"Vlist = []\n",
    "with h5py.File(f\"./results/tfim2d_ccU_SPARSE_103_Lx4Ly4_t0.25_layers15_rS1_niter15_3hloc.hdf5\", \"r\") as f:\n",
    "    Vlist =  f[\"Vlist\"][:]\n",
    "control_layers = [0, 4, 5, 9, 10, 14]\n",
    "perms_qc = [[0, 1], [0, 2], [1, 2], [0, 2], [0, 1], [1, 2], [0, 2], [0, 1], [1, 2]]\n",
    "Xlists_opt = {}\n",
    "for i in control_layers:\n",
    "    with h5py.File(f\"./results/tfim2d_ccU_SPARSE_103_Lx4Ly4_t0.25_layers15_niter20_rS5_DECOMPOSE_n9_layer{i}.hdf5\", \"r\") as file:\n",
    "        Xlists_opt[i] = file[f\"Xlist_{i}\"][:]\"\"\"\n",
    "\n",
    "#peps_aE2 = ccU(peps_aE.copy(), Vlist, perms_extended, control_layers, dagger=True, \n",
    "#                 max_bond_dim=4, lower_max_bond_dim=4, treshold=10)\n",
    "\n",
    "#peps_trotters[.25] = peps_T.copy()\n",
    "#peps_ccUs[.25] = peps_aE.copy()\n",
    "#peps_exacts[.25] = peps_E.copy()\n",
    "\n",
    "#sv = peps.to_dense()[:, 0]\n",
    "#sv = expm_multiply(1j * 0.25 * hamil, sv)\n",
    "#peps_exact_05 = trotter(peps_E.copy(), -0.25, L, Lx, Ly, J, g, perms_v, perms_h, dt=0.25/10, max_bond_dim=3, lower_max_bond_dim=3, treshold=10)\n",
    "#peps_trotter_05 = trotter(peps_T.copy(), -0.25, L, Lx, Ly, J, g, perms_v, perms_h, dt=0.25/2, max_bond_dim=3, lower_max_bond_dim=3, treshold=10)\n",
    "#f = quimb.fidelity(peps_trotter.to_dense()[:, 0], sv)\n",
    "#print(\"Trotter Fidelity:\", f)  # Should be ≈1\n",
    "#peps_ccU_025 = ccU(peps_C.copy(), Vlist, perms_extended, control_layers, dagger=True, max_bond_dim=3, lower_max_bond_dim=3, treshold=10)\n",
    "#f = quimb.fidelity(peps_ccU.to_dense()[:, 0], sv)\n",
    "#print(\"ccU Fidelity after identity:\", f)  # Should be ≈1\n",
    "#np.linalg.norm(peps_ccU.overlap(peps_trotter))**2\n"
   ]
  }
 ],
 "metadata": {
  "kernelspec": {
   "display_name": "Python3.10 (qc)",
   "language": "python",
   "name": "qc"
  },
  "language_info": {
   "codemirror_mode": {
    "name": "ipython",
    "version": 3
   },
   "file_extension": ".py",
   "mimetype": "text/x-python",
   "name": "python",
   "nbconvert_exporter": "python",
   "pygments_lexer": "ipython3",
   "version": "3.10.13"
  }
 },
 "nbformat": 4,
 "nbformat_minor": 5
}
