{
 "cells": [
  {
   "cell_type": "code",
   "execution_count": 117,
   "id": "35db81ca-d45d-45fc-9612-94d0275dcd86",
   "metadata": {},
   "outputs": [],
   "source": [
    "import tenpy\n",
    "\n",
    "model_params = dict(\n",
    "    bc_MPS='infinite', lattice='Square', Lx=4, Ly=4,\n",
    "    Jz=1, hx=1,\n",
    "    #conserve='best', # conserve parity\n",
    ")\n",
    "model = tenpy.SpinModel(model_params)\n",
    "\n",
    "du_row = [['down'], ['up']]*2\n",
    "ud_row = [['up'], ['down']]*2\n",
    "psi_Neel = tenpy.MPS.from_lat_product_state(model.lat, [du_row, ud_row]*2)\n",
    "dmrg_params = dict( mixer=False, trunc_params=dict(chi_max=10, svd_min=1e-10, ), )\n",
    "engine = tenpy.TwoSiteDMRGEngine( psi_Neel , model , dmrg_params )\n",
    "energy , psi = engine.run()"
   ]
  },
  {
   "cell_type": "code",
   "execution_count": 118,
   "id": "d0366514-ef3a-4bc8-a819-c080c1c2f771",
   "metadata": {},
   "outputs": [
    {
     "data": {
      "text/plain": [
       "-0.7102373008756331"
      ]
     },
     "execution_count": 118,
     "metadata": {},
     "output_type": "execute_result"
    }
   ],
   "source": [
    "energy"
   ]
  },
  {
   "cell_type": "code",
   "execution_count": 119,
   "id": "00678291-3868-479c-94df-407596b278bd",
   "metadata": {},
   "outputs": [
    {
     "name": "stderr",
     "output_type": "stream",
     "text": [
      "/opt/anaconda3/envs/qc/lib/python3.10/site-packages/tenpy/networks/mps.py:3772: UserWarning: The returned overlap between two iMPS is **not** just <phi|psi>, as you might assume naively, but here defined to return the dominant eigenvalue eta of the (mixed) TransferMatrix. The former is lim_{N -> infty} eta^N and vanishes in the thermodynamic limit! See the warning in the docs of tenpy.networks.mps.\n",
      "  warnings.warn(\"The returned overlap between two iMPS is **not** just <phi|psi>, \"\n"
     ]
    },
    {
     "data": {
      "text/plain": [
       "0.5616942798300312"
      ]
     },
     "execution_count": 119,
     "metadata": {},
     "output_type": "execute_result"
    }
   ],
   "source": [
    "import numpy as np\n",
    "\n",
    "du_row = [['down'], ['up']]*2\n",
    "ud_row = [['up'], ['down']]*2\n",
    "psi_Neel = tenpy.MPS.from_lat_product_state(model.lat, [du_row, ud_row]*1)\n",
    "np.abs(psi.overlap(psi_Neel))"
   ]
  },
  {
   "cell_type": "code",
   "execution_count": 120,
   "id": "7b3ee811-f4b0-4c3d-8fc7-98b22876f620",
   "metadata": {},
   "outputs": [
    {
     "data": {
      "text/plain": [
       "0.0005133672869482242"
      ]
     },
     "execution_count": 120,
     "metadata": {},
     "output_type": "execute_result"
    }
   ],
   "source": [
    "import numpy as np\n",
    "\n",
    "du_row = [['down'], ['up']]*2\n",
    "ud_row = [['up'], ['down']]*2\n",
    "psi_Neel = tenpy.MPS.from_lat_product_state(model.lat, [ud_row, du_row]*1)\n",
    "np.abs(psi.overlap(psi_Neel))"
   ]
  },
  {
   "cell_type": "code",
   "execution_count": null,
   "id": "1f48e240-d638-45b0-940a-b47f1af43e58",
   "metadata": {},
   "outputs": [],
   "source": []
  },
  {
   "cell_type": "code",
   "execution_count": null,
   "id": "7711041b-dc3a-4191-b156-bac255871b56",
   "metadata": {},
   "outputs": [],
   "source": []
  }
 ],
 "metadata": {
  "kernelspec": {
   "display_name": "Python3.10 (qc)",
   "language": "python",
   "name": "qc"
  },
  "language_info": {
   "codemirror_mode": {
    "name": "ipython",
    "version": 3
   },
   "file_extension": ".py",
   "mimetype": "text/x-python",
   "name": "python",
   "nbconvert_exporter": "python",
   "pygments_lexer": "ipython3",
   "version": "3.10.13"
  }
 },
 "nbformat": 4,
 "nbformat_minor": 5
}
