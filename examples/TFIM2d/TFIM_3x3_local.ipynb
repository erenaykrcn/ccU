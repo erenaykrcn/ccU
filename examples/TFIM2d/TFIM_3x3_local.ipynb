{
 "cells": [
  {
   "cell_type": "code",
   "execution_count": 91,
   "id": "20405faf-2eb4-4974-9f06-4cfc915a7e07",
   "metadata": {},
   "outputs": [],
   "source": [
    "import h5py\n",
    "\n",
    "Vlist = []\n",
    "with h5py.File(f\"./results/tfim2d_SPARSE_103_Lx3Ly3_t0.25_layers9_U_3hloc.hdf5\", \"r\") as f:\n",
    "    Vlist =  f[\"Vlist\"][:]"
   ]
  },
  {
   "cell_type": "code",
   "execution_count": 185,
   "id": "1101f75d-b804-4fb7-8680-52c06080a6e7",
   "metadata": {},
   "outputs": [
    {
     "name": "stdout",
     "output_type": "stream",
     "text": [
      "Trotter error:  0.0005959361548061315\n"
     ]
    }
   ],
   "source": [
    "import numpy as np\n",
    "import qiskit\n",
    "from qiskit.quantum_info import state_fidelity\n",
    "from numpy import linalg as LA\n",
    "import qib\n",
    "import matplotlib.pyplot as plt\n",
    "import scipy\n",
    "import h5py\n",
    "\n",
    "import sys\n",
    "sys.path.append(\"../../src/brickwall_sparse\")\n",
    "from utils_sparse import construct_ising_local_term, reduce_list, X, I2, get_perms\n",
    "from ansatz_sparse import ansatz_sparse\n",
    "import rqcopt as oc\n",
    "from scipy.sparse.linalg import expm_multiply\n",
    "from qiskit.quantum_info import random_statevector\n",
    "from scipy.linalg import expm\n",
    "\n",
    "\n",
    "Lx, Ly = (3, 3)\n",
    "L = Lx*Ly\n",
    "t = 0.2\n",
    "latt = qib.lattice.IntegerLattice((Lx, Ly), pbc=True)\n",
    "field = qib.field.Field(qib.field.ParticleType.QUBIT, latt)\n",
    "J, h, g = (1, 0, 3)\n",
    "hamil = qib.IsingHamiltonian(field, J, h, g).as_matrix()\n",
    "eigenvalues, eigenvectors = scipy.sparse.linalg.eigsh(hamil, k=10)\n",
    "idx = eigenvalues.argsort()\n",
    "eigenvalues_sort = eigenvalues[idx]\n",
    "eigenvectors_sort = eigenvectors[:,idx]\n",
    "ground_state = eigenvectors_sort[:, 0]\n",
    "\n",
    "perms_v, perms_h = get_perms(Lx, Ly)\n",
    "perms_extended = [perms_v, perms_v, perms_v, perms_h, perms_h, perms_h, perms_v, perms_v, perms_v]\n",
    "\n",
    "#state = np.array(random_statevector(2**L).data)\n",
    "state = ground_state\n",
    "print(\"Trotter error: \", 1-state_fidelity(ansatz_sparse(Vlist, L, perms_extended, state), expm_multiply(\n",
    "    -1j * t * hamil, state)))"
   ]
  },
  {
   "cell_type": "code",
   "execution_count": 186,
   "id": "75cf5870-00a6-439c-82b2-2045ca504ac9",
   "metadata": {},
   "outputs": [
    {
     "data": {
      "text/plain": [
       "28.319684413049284"
      ]
     },
     "execution_count": 186,
     "metadata": {},
     "output_type": "execute_result"
    }
   ],
   "source": [
    "np.linalg.norm(d_phase(t))"
   ]
  },
  {
   "cell_type": "code",
   "execution_count": 187,
   "id": "a38bbd72-e5bd-4711-a1eb-2ee62b8ec7f5",
   "metadata": {},
   "outputs": [
    {
     "data": {
      "text/plain": [
       "(28.319684413049092-2.1510571102112408e-15j)"
      ]
     },
     "execution_count": 187,
     "metadata": {},
     "output_type": "execute_result"
    }
   ],
   "source": [
    "from utils_sparse import applyG_state, Z\n",
    "I2 = np.eye(2)\n",
    "X = np.array([[0, 1+0j], [1+0j, 0]])\n",
    "Y = np.array([[0, -1j], [1j, 0]])\n",
    "Z = np.array([[1+0j, 0], [0, -1+0j]])\n",
    "ket_0 = np.array([[1],[0]])\n",
    "ket_1 = np.array([[0],[1]])\n",
    "rho_0_anc = ket_0 @ ket_0.T\n",
    "rho_1_anc = ket_1 @ ket_1.T\n",
    "\n",
    "\n",
    "def phase(t):\n",
    "    return np.exp(-1j * t * eigenvalues_sort[0])\n",
    "\n",
    "def d_phase(t):\n",
    "    return np.exp(-1j * t * eigenvalues_sort[0]) * (-1j*eigenvalues_sort[0])\n",
    "\n",
    "\n",
    "state_l = expm_multiply(-1j * t * hamil, state)\n",
    "sum_ = 0\n",
    "for perm in perms_v+perms_h:\n",
    "    for j in range(len(perm)//2):\n",
    "        state_l_ = applyG_state(np.kron(Z, Z), state_l, L, perm[2*j], perm[2*j+1])\n",
    "        state_anc = np.kron(np.array([1, 0]), state_l)/np.sqrt(2) + np.kron(np.array([0, 1]), state_l_)/np.sqrt(2)\n",
    "        exp = np.vdot(state_anc, np.kron(X, np.outer(ground_state, np.conj(ground_state)))@state_anc)\n",
    "        sum_ += J*exp\n",
    "        \n",
    "for i in range(L):\n",
    "    state_l_ = applyG_state(np.kron(X, np.eye(2)), state_l, L, i, (i+1)%L)\n",
    "    state_anc = np.kron(np.array([1, 0]), state_l)/np.sqrt(2) + np.kron(np.array([0, 1]), state_l_)/np.sqrt(2)\n",
    "    exp = np.vdot(state_anc, np.kron(X, np.outer(ground_state, np.conj(ground_state)))@state_anc)\n",
    "    sum_ += g*exp\n",
    "\n",
    "r = np.vdot(ground_state, state_l)\n",
    "-sum_"
   ]
  },
  {
   "cell_type": "code",
   "execution_count": 165,
   "id": "333dca39-3ef2-42b9-989e-892c10f30e00",
   "metadata": {},
   "outputs": [
    {
     "data": {
      "text/plain": [
       "(28.319684413049416+1.1587952819525071e-15j)"
      ]
     },
     "execution_count": 165,
     "metadata": {},
     "output_type": "execute_result"
    }
   ],
   "source": [
    "sys.path.append(\"../../../ccU-opt/ccU\")\n",
    "from utils import applyG\n",
    "\n",
    "state_l = expm_multiply(-1j * t * hamil, ground_state)\n",
    "s = 0+0j\n",
    "for perm in perms_v+perms_h:\n",
    "    for j in range(len(perm)//2):\n",
    "        Pj = applyG(np.kron(Z, Z), perm[2*j], perm[2*j+1], L)\n",
    "        ketbra = np.outer(ground_state, np.conj(ground_state))\n",
    "        antc = Pj@ketbra+ketbra@Pj\n",
    "        s += J*0.5*np.vdot(state_l, antc@state_l)\n",
    "\n",
    "for i in range(L):\n",
    "    Pj = applyG(np.kron(X, np.eye(2)), i, (i+1)%L, L)\n",
    "    ketbra = np.outer(ground_state, np.conj(ground_state))\n",
    "    antc = Pj@ketbra+ketbra@Pj\n",
    "    s += g*0.5*np.vdot(state_l, antc@state_l)\n",
    "\n",
    "-s"
   ]
  },
  {
   "cell_type": "code",
   "execution_count": 166,
   "id": "16fd5991-9407-48ce-b915-32d32b5cbde4",
   "metadata": {},
   "outputs": [],
   "source": [
    "\"\"\"\n",
    "    Adiabatic Evolution Implementation.\n",
    "\"\"\"\n",
    "from qiskit import Aer, transpile, execute\n",
    "from qiskit.quantum_info import random_statevector\n",
    "from scipy.sparse.linalg import expm_multiply\n",
    "from qiskit import Aer, execute, transpile\n",
    "from qiskit.circuit.library import CYGate, CZGate, IGate, CXGate\n",
    "from qiskit.converters import circuit_to_dag\n",
    "from qiskit.providers.aer.noise import NoiseModel, errors\n",
    "from qiskit import Aer, execute, transpile\n",
    "from scipy import sparse as sp\n",
    "\n",
    "\n",
    "def trotter(Lx, Ly, tau, L, J_i, h_i, g_i, J_f, h_f, g_f, lamb):\n",
    "    L = Lx * Ly\n",
    "    assert lamb <= 1 and lamb >= 0\n",
    "    J = lamb*J_f + (1-lamb)*J_i\n",
    "    g = lamb*g_f + (1-lamb)*g_i\n",
    "    h = lamb*h_f + (1-lamb)*h_i\n",
    "\n",
    "    qc = qiskit.QuantumCircuit(L)\n",
    "    hloc = construct_ising_local_term_(J, g, 2)\n",
    "        \n",
    "    # permutations specifying gate layout\n",
    "    # Verticals\n",
    "    perms_vercs = []\n",
    "    for i in range(Ly):\n",
    "        start_ind = Lx*i\n",
    "        perms_verc = []\n",
    "        for j in range(start_ind, start_ind+Lx):\n",
    "            perms_verc += [j, (j+Lx)%L]\n",
    "        perms_vercs.append(perms_verc)\n",
    "    if Ly == 4:\n",
    "        perms_vercs = [perms_vercs[0]+perms_vercs[2], perms_vercs[1]+perms_vercs[3]]\n",
    "    # Horizontals\n",
    "    perms_horzs = []\n",
    "    for i in range(Lx):\n",
    "        start_ind = i\n",
    "        perms_horz = []\n",
    "        for j in range(start_ind, L, Lx):\n",
    "            if start_ind != Lx-1:\n",
    "                perms_horz += [j, j+1]\n",
    "            else:\n",
    "                perms_horz += [j, j+1-Lx]\n",
    "        perms_horzs.append(perms_horz)\n",
    "    if Lx == 4:\n",
    "        perms_horzs = [perms_horzs[0]+perms_horzs[2], perms_horzs[1]+perms_horzs[3]]\n",
    "    perm_set = perms_vercs + perms_horzs\n",
    "    perms = perm_set\n",
    "    \n",
    "    method_start = oc.SplittingMethod.suzuki(len(perm_set), 1)\n",
    "    indices = method_start.indices\n",
    "    coeffs = method_start.coeffs\n",
    "\n",
    "    Vlist_start = []\n",
    "    perms = []\n",
    "    for i, c in zip(indices, coeffs):\n",
    "        Vlist_start.append(scipy.linalg.expm(-1j*c*tau*hloc))\n",
    "        perms.append(perm_set[i])\n",
    "    Vlist_gates = []\n",
    "    for V in Vlist_start:\n",
    "        qc2 = qiskit.QuantumCircuit(2)\n",
    "        qc2.unitary(V, [0, 1])\n",
    "        Vlist_gates.append(qc2)\n",
    "    \n",
    "    for layer, qc_gate in enumerate(Vlist_gates):     \n",
    "        for j in range(len(perms[layer])//2):\n",
    "            qc.append(qc_gate.to_gate(), [L-(perms[layer][2*j]+1), L-(perms[layer][2*j+1]+1)])\n",
    "    return qc\n",
    "\n",
    "\n",
    "def construct_ising_local_term_(J, g, ndim, h=0):\n",
    "    X = np.array([[0.,  1.], [1.,  0.]])\n",
    "    Z = np.array([[1.,  0.], [0., -1.]])\n",
    "    I = np.identity(2)\n",
    "    return J*np.kron(Z, Z) + g*(0.5/ndim)*(np.kron(X, I) + np.kron(I, X)) + h*(0.5/ndim)*(np.kron(Z, I) + np.kron(I, Z))\n",
    "\n",
    "\n",
    "def run_adiabatic(Lx, Ly, g, T, S, return_state=False, h_i=0, h_f=0):\n",
    "    L = Lx*Ly\n",
    "    tau = 1/S\n",
    "    t_s = np.linspace(0, T, S*T)\n",
    "    sch = lambda t, T: np.sin(np.pi*t/(2*T))**2\n",
    "    \n",
    "    qc = qiskit.QuantumCircuit(L)\n",
    "    qc.x([i for i in range(L)])\n",
    "    qc.h([i for i in range(L)])\n",
    "    for s in range(S*T):\n",
    "        qc.append(trotter(Lx, Ly, tau, L, 0, h_i, g, J, h_f, g, sch(t_s[s], T)).to_gate(), [i for i in range(L)])\n",
    "    \n",
    "    backend = Aer.get_backend(\"statevector_simulator\")\n",
    "    qc_ = qiskit.QuantumCircuit(L)\n",
    "    qc_.append(qc.to_gate(), [i for i in range(L)])\n",
    "    final = execute(transpile(qc_), backend).result().get_statevector().data\n",
    "    print(\"AQC: \", [np.linalg.norm(np.vdot(final, eigenvectors_sort[:, i]))**2 for i in range(10)])\n",
    "\n",
    "    if return_state:\n",
    "        return qc\n",
    "    else:\n",
    "        noise_model = NoiseModel()\n",
    "        dag = circuit_to_dag(transpile(qc_, basis_gates=['rzz', 'u3', 'initialize']))\n",
    "        count_ops = dag.count_ops_longest_path()\n",
    "        \n",
    "        return [state_fidelity(final, eigenvectors_sort[:, i]) for i in range(10)], {\"gates\": count_ops}, final\n"
   ]
  },
  {
   "cell_type": "code",
   "execution_count": 167,
   "id": "41a19ac4-b146-40ba-9fd0-53c64702036e",
   "metadata": {},
   "outputs": [
    {
     "name": "stdout",
     "output_type": "stream",
     "text": [
      "AQC:  [0.9742154401980777, 5.132603301791985e-32, 5.007417855406812e-32, 7.896312771987667e-31, 1.7333369499485123e-33, 1.222159957093327e-10, 4.770899325786841e-10, 7.185348533848903e-33, 2.1664171268549153e-09, 8.425568108926033e-32]\n"
     ]
    }
   ],
   "source": [
    "J, g, h = (1, 3, 0)\n",
    "H_i = qib.IsingHamiltonian(field, 0, 0., g).as_matrix()\n",
    "eigenvalues, eigenvectors = scipy.sparse.linalg.eigsh(H_i, k=10)\n",
    "idx = eigenvalues.argsort()\n",
    "eigenvectors_sort = eigenvectors[:,idx]\n",
    "state = eigenvectors_sort[:, 0]\n",
    "\n",
    "hamil = qib.IsingHamiltonian(field, J, h, g).as_matrix()\n",
    "eigenvalues, eigenvectors =  scipy.sparse.linalg.eigsh(hamil, k=10)\n",
    "idx = eigenvalues.argsort()\n",
    "eigenvalues_sort = eigenvalues[idx]\n",
    "eigenvectors_sort = eigenvectors[:,idx]\n",
    "qc_A = run_adiabatic(Lx, Ly, g, 1, 4, return_state=True)"
   ]
  },
  {
   "cell_type": "code",
   "execution_count": 168,
   "id": "5eea2249-9afb-47b5-896b-1dca885a15aa",
   "metadata": {},
   "outputs": [
    {
     "data": {
      "text/plain": [
       "0.025987098417656118"
      ]
     },
     "execution_count": 168,
     "metadata": {},
     "output_type": "execute_result"
    }
   ],
   "source": [
    "t = 0.25\n",
    "\n",
    "qc_timeEvolved = qc_A.copy()\n",
    "for n in range(int(t//0.25)):\n",
    "    for i, V in enumerate(Vlist):\n",
    "        perms = perms_extended[i]\n",
    "        for perm in perms:\n",
    "            for j in range(len(perm)//2):\n",
    "                qc_timeEvolved.unitary(V, [L-perm[2*j]-1, L-perm[2*j+1]-1])\n",
    "\n",
    "\n",
    "backend = Aer.get_backend(\"statevector_simulator\")\n",
    "sv = execute(transpile(qc_timeEvolved), backend).result().get_statevector().data\n",
    "1 - state_fidelity(sv, expm_multiply(-1j * t * hamil, ground_state))"
   ]
  },
  {
   "cell_type": "code",
   "execution_count": 172,
   "id": "655716b2-f66f-4d86-8937-bc924ee64e99",
   "metadata": {},
   "outputs": [
    {
     "data": {
      "text/plain": [
       "32.08338363737938"
      ]
     },
     "execution_count": 172,
     "metadata": {},
     "output_type": "execute_result"
    }
   ],
   "source": [
    "\n",
    "sum_ = 0\n",
    "for perm in perms_v+perms_h:\n",
    "    for j in range(len(perm)//2):\n",
    "        qc_C = qiskit.QuantumCircuit(L+1, L+1)\n",
    "        qc_C.h(0)\n",
    "        qc_C.append(qc_timeEvolved.to_gate(), [i for i in range(1, L+1)])\n",
    "        qc_Z = qiskit.QuantumCircuit(2)\n",
    "        qc_Z.unitary(np.kron(Z, Z), [0, 1])\n",
    "        qc_C.append(qc_Z.to_gate().control(), [0, perm[2*j]+1, perm[2*j+1]+1])\n",
    "        qc_C.h(0)\n",
    "        qc_C.append(qc_A.inverse().to_gate(), [i for i in range(1, L+1)])\n",
    "        qc_C.measure([i for i in range(L+1)], [i for i in range(L+1)])\n",
    "\n",
    "        backend = qiskit.Aer.get_backend(\"aer_simulator\")\n",
    "        counts = execute(transpile(qc_C), backend, shots=1000).result().get_counts()\n",
    "        exp = ((counts[\"0\"*L+'0'] if \"0\"*L+'0' in counts.keys() else 0)-(counts[\"0\"*L+'1'] if \"0\"*L+'1' in counts.keys() else 0))/((counts[\"0\"*L+'1'] if \"0\"*L+'1' in counts.keys() else 0)+(counts[\"0\"*L+'0'] if \"0\"*L+'0' in counts.keys() else 0))\n",
    "        \n",
    "        sum_ += J*exp\n",
    "\n",
    "\n",
    "for i in range(L):\n",
    "    qc_C = qiskit.QuantumCircuit(L+1, L+1)\n",
    "    qc_C.h(0)\n",
    "    qc_C.append(qc_timeEvolved.to_gate(), [i for i in range(1, L+1)])\n",
    "    qc_C.cx(0, i+1)\n",
    "    qc_C.h(0)\n",
    "    qc_C.append(qc_A.inverse().to_gate(), [i for i in range(1, L+1)])\n",
    "    qc_C.measure([i for i in range(L+1)], [i for i in range(L+1)])\n",
    "\n",
    "    backend = qiskit.Aer.get_backend(\"aer_simulator\")\n",
    "    counts = execute(transpile(qc_C), backend, shots=1000).result().get_counts()\n",
    "    exp = ((counts[\"0\"*L+'0'] if \"0\"*L+'0' in counts.keys() else 0)-\\\n",
    "                   (counts[\"0\"*L+'1'] if \"0\"*L+'1' in counts.keys() else 0))/\\\n",
    "            ((counts[\"0\"*L+'1'] if \"0\"*L+'1' in counts.keys() else 0)+\\\n",
    "             (counts[\"0\"*L+'0'] if \"0\"*L+'0' in counts.keys() else 0))\n",
    "\n",
    "    sum_ += g*exp\n",
    "\n",
    "r = np.linalg.norm(np.vdot(ground_state, sv))\n",
    "-sum_\n"
   ]
  },
  {
   "cell_type": "code",
   "execution_count": null,
   "id": "cb028afc-8da6-4669-9745-1351bf6ed200",
   "metadata": {},
   "outputs": [],
   "source": []
  },
  {
   "cell_type": "code",
   "execution_count": null,
   "id": "ac8068fd-a4d5-42c4-94c4-da3fd564d0f2",
   "metadata": {},
   "outputs": [],
   "source": []
  },
  {
   "cell_type": "code",
   "execution_count": null,
   "id": "46b70066-cadd-4640-869a-fe40dcd61589",
   "metadata": {},
   "outputs": [],
   "source": []
  },
  {
   "cell_type": "code",
   "execution_count": null,
   "id": "6d90805d-d924-4af7-a75e-e41f1cacc855",
   "metadata": {},
   "outputs": [],
   "source": [
    "import quimb as qu\n",
    "import quimb.tensor as qtn\n",
    "import numpy as np\n",
    "import matplotlib.pyplot as plt\n",
    "\n",
    "# Parameters\n",
    "Lx, Ly = 4, 4\n",
    "N_phys = Lx * Ly\n",
    "N_total = N_phys + 1  # +1 ancilla at site 0\n",
    "J = 1.0\n",
    "g = 3.0\n",
    "dt = 0.05\n",
    "t_total = 0.2\n",
    "steps = int(t_total / dt)\n",
    "bond_dim = 64\n",
    "\n",
    "# Site mapping: ancilla is site 0, physical qubits are sites 1 to 36\n",
    "def phys_site(x, y):\n",
    "    return 1 + x + y * Lx  # +1 due to ancilla at site 0\n",
    "\n",
    "# Build physical qubit interaction pairs (with PBC)\n",
    "pairs = []\n",
    "for y in range(Ly):\n",
    "    for x in range(Lx):\n",
    "        i = phys_site(x, y)\n",
    "        jx = phys_site(x + 1, y)\n",
    "        jy = phys_site(x, y + 1)\n",
    "        pairs.append((i, jx))\n",
    "        pairs.append((i, jy))\n",
    "\n",
    "pairs = list(set(tuple(sorted(p)) for p in pairs))  # deduplicate\n",
    "\n",
    "# Create random cyclic MPS (PBC), 1 ancilla + 36 physical qubits\n",
    "psi = qtn.MPS_rand_state(N_total, bond_dim=bond_dim, cyclic=True, dtype='complex128')\n",
    "\n",
    "# 4th-order Trotter coefficients\n",
    "w1 = 1.0 / (4 - 4 ** (1 / 3))\n",
    "w2 = 1.0 - 2 * w1\n",
    "coeffs = [w1 / 2, w1, w2, w1, w1 / 2]\n",
    "\n",
    "\n",
    "def controlled_zz(anc, i, j, coeff):\n",
    "    ZZ = qu.expm(-1j * dt * coeff * J * qu.pauli('Z') & qu.pauli('Z'))\n",
    "    P0 = qu.ket('0') @ qu.bra('0')\n",
    "    P1 = qu.ket('1') @ qu.bra('1')\n",
    "    C_U = (P0 & qu.eye(4)) + (P1 & ZZ)\n",
    "    return C_U.reshape(2, 2, 2, 2, 2, 2)  # (a,i,j), (a',i',j')\n",
    "\n",
    "\n",
    "def controlled_x(anc, i, coeff):\n",
    "    X = qu.expm(-1j * dt * coeff * g * qu.pauli('X'))\n",
    "    P0 = qu.ket('0') @ qu.bra('0')\n",
    "    P1 = qu.ket('1') @ qu.bra('1')\n",
    "    C_U = (P0 & qu.eye(2)) + (P1 & X)\n",
    "    return C_U.reshape(2, 2, 2, 2)  # (a,i), (a',i')\n",
    "\n",
    "\n",
    "# Time evolution loop\n",
    "anc = 0\n",
    "for step in range(steps):\n",
    "    for coeff in coeffs:\n",
    "        # Apply controlled-ZZ\n",
    "        for i, j in pairs:\n",
    "            Uczz = controlled_zz(anc, i, j, coeff)\n",
    "            psi.apply_two_site_gate(Uczz, (anc, i, j), contract='auto-split', max_bond=bond_dim)\n",
    "\n",
    "        # Apply controlled-X on each physical qubit\n",
    "        for i in range(1, N_total):\n",
    "            Ucx = controlled_x(anc, i, coeff)\n",
    "            psi.apply_two_site_gate(Ucx, (anc, i), contract='swap+split', max_bond=bond_dim)\n",
    "\n",
    "    psi.compress(max_bond=bond_dim, cutoff=1e-10)\n",
    "\n",
    "print(f\"Final bond dimensions: {psi.bond_sizes()}\")\n",
    "print(f\"Norm: {psi.norm():.6f}\")\n"
   ]
  },
  {
   "cell_type": "code",
   "execution_count": null,
   "id": "fee2a633-664e-4e30-9c00-9d76903f296a",
   "metadata": {},
   "outputs": [],
   "source": []
  }
 ],
 "metadata": {
  "kernelspec": {
   "display_name": "Python3.10 (qc)",
   "language": "python",
   "name": "qc"
  },
  "language_info": {
   "codemirror_mode": {
    "name": "ipython",
    "version": 3
   },
   "file_extension": ".py",
   "mimetype": "text/x-python",
   "name": "python",
   "nbconvert_exporter": "python",
   "pygments_lexer": "ipython3",
   "version": "3.10.13"
  }
 },
 "nbformat": 4,
 "nbformat_minor": 5
}
