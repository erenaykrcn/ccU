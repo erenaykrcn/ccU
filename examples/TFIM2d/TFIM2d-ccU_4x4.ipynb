{
 "cells": [
  {
   "cell_type": "code",
   "execution_count": 77,
   "id": "dc1ab3b3-8ab2-4379-9888-56f228334fa2",
   "metadata": {},
   "outputs": [
    {
     "name": "stdout",
     "output_type": "stream",
     "text": [
      "Trotter error of the starting point:  0.18759848113540384\n"
     ]
    }
   ],
   "source": [
    "\"\"\"\n",
    "    Attempt for the controlled version:\n",
    "\"\"\"\n",
    "import numpy as np\n",
    "import qiskit\n",
    "from qiskit.quantum_info import state_fidelity\n",
    "from numpy import linalg as LA\n",
    "import qib\n",
    "import matplotlib.pyplot as plt\n",
    "import scipy\n",
    "import h5py\n",
    "\n",
    "import sys\n",
    "sys.path.append(\"../../src/brickwall_sparse\")\n",
    "from utils_sparse import construct_ising_local_term, reduce_list, X, I2, get_perms\n",
    "from ansatz_sparse import ansatz_sparse\n",
    "import rqcopt as oc\n",
    "from scipy.sparse.linalg import expm_multiply\n",
    "from qiskit.quantum_info import random_statevector\n",
    "\n",
    "Lx, Ly = (4, 4)\n",
    "L = Lx*Ly\n",
    "t = 0.25\n",
    "latt = qib.lattice.IntegerLattice((Lx, Ly), pbc=True)\n",
    "field = qib.field.Field(qib.field.ParticleType.QUBIT, latt)\n",
    "J, h, g = (1, 0, 3)\n",
    "hamil = qib.IsingHamiltonian(field, J, h, g).as_matrix()\n",
    "eigenvalues, eigenvectors = scipy.sparse.linalg.eigsh(hamil, k=10)\n",
    "idx = eigenvalues.argsort()\n",
    "eigenvalues_sort = eigenvalues[idx]\n",
    "eigenvectors_sort = eigenvectors[:,idx]\n",
    "ground_state = eigenvectors_sort[:, 0]\n",
    "\n",
    "X = np.array([[0, 1], [1, 0]])\n",
    "Z = np.array([[1, 0], [0, -1]])\n",
    "Y = np.array([[0, -1j], [1j, 0]])\n",
    "I2 = np.array([[1, 0], [0, 1]])\n",
    "\n",
    "hloc1 = construct_ising_local_term(J, 0, 0, ndim=2)\n",
    "hloc2 = g*(np.kron(X, I2)+np.kron(I2, X))/4\n",
    "\n",
    "V1 = scipy.linalg.expm(-1j*t*hloc1/4)\n",
    "V2 = scipy.linalg.expm(-1j*t*hloc2/2)\n",
    "V3 = scipy.linalg.expm(-1j*t*hloc1/2)\n",
    "V4 = scipy.linalg.expm(-1j*t*hloc2)\n",
    "YZ = np.kron(Y, Z)\n",
    "\n",
    "\"\"\"perms_v = [[0, 1, 4, 5, 8, 9, 12, 13, 2, 3, 6, 7, 10, 11, 14, 15], \n",
    "          [1, 2, 5, 6, 9, 10, 13, 14, 3, 0, 7, 4, 11, 8, 15, 12]]\n",
    "perms_h = [[0, 4, 1, 5, 2, 6, 3, 7, 8, 12, 9, 13, 10, 14, 11, 15], \n",
    "          [4, 8, 5, 9, 6, 10, 7, 11, 12, 0, 13, 1, 14, 2, 15, 3]]\"\"\"\n",
    "#perms_v = [[0, 1, 3, 4, 6, 7], [1, 2, 4, 5, 7, 8], [2, 0, 5, 3, 8, 6]]\n",
    "#perms_h = [[0, 3, 1, 4, 2, 5], [3, 6, 4, 7, 5, 8], [6, 0, 7, 1, 8, 2]]\n",
    "#perms_v = [[0, 1, 2, 3], [1, 0, 3, 2]]\n",
    "#perms_h = [[0, 2, 1, 3], [2, 0, 3, 1]]\n",
    "perms_v, perms_h = get_perms(Lx, Ly)\n",
    "\n",
    "Vlist_start = [YZ, V1, V2, V1, YZ, YZ, V3, V4, V3, YZ, YZ, V1, V2, V1, YZ]\n",
    "Vlist_reduced = [V1, V2, V1, V3, V4, V3, V1, V2, V1]\n",
    "perms_extended = [[perms_v[0]]] + [perms_v]*3 + [[perms_v[0]], [perms_h[0]]] +\\\n",
    "                    [perms_h]*3 + [[perms_h[0]], [perms_v[0]]] + [perms_v]*3 + [[perms_v[0]]]\n",
    "perms_ext_reduced = [perms_v]*3  + [perms_h]*3 + [perms_v]*3\n",
    "control_layers = [0, 4, 5, 9, 10, 14] # 6 control layers\n",
    "\n",
    "\n",
    "# 12 layers with 6 being controlled, 9 parameters in total.\n",
    "state = random_statevector(2**L).data\n",
    "print(\"Trotter error of the starting point: \", (np.linalg.norm(ansatz_sparse(Vlist_start, L, perms_extended, state) - expm_multiply(\n",
    "    1j * t * hamil, state), ord=2) + np.linalg.norm(ansatz_sparse(Vlist_reduced, L, perms_ext_reduced, state) - expm_multiply(\n",
    "    -1j * t * hamil, state), ord=2))/2)"
   ]
  },
  {
   "cell_type": "code",
   "execution_count": 9,
   "id": "0614225b-c4af-4950-ab83-992656288127",
   "metadata": {},
   "outputs": [
    {
     "name": "stdout",
     "output_type": "stream",
     "text": [
      "Current error:  0.08563168820711778\n",
      "Current error:  0.03574975871314787\n",
      "Current error:  0.026875050711299205\n",
      "Current error:  0.02070715421878684\n",
      "Current error:  0.019093986067406164\n",
      "Current error:  0.019093986067406164\n",
      "0.019093986067406164\n"
     ]
    },
    {
     "data": {
      "image/png": "[encoded data removed]",
      "text/plain": [
       "<Figure size 640x480 with 1 Axes>"
      ]
     },
     "metadata": {},
     "output_type": "display_data"
    }
   ],
   "source": [
    "from optimize_sparse import optimize, err\n",
    "\n",
    "Vlist, f_iter, err_iter = optimize(L, hamil, t, Vlist, perms_extended, perms_reduced=perms_ext_reduced, \n",
    "                                   control_layers=control_layers, rS=1, niter=5)\n",
    "plt.plot(err_iter)\n",
    "plt.yscale('log')\n",
    "print(err_iter[-1])"
   ]
  },
  {
   "cell_type": "code",
   "execution_count": 15,
   "id": "d12f0aa1-579f-4933-bd66-4a5d2682a5b7",
   "metadata": {},
   "outputs": [],
   "source": [
    "with h5py.File(f\"./tfim2d_ccU_SPARSE_{J}{h}{g}_Lx{Lx}Ly{Ly}_t{t}_layers{len(Vlist_start)}_niter7_rS1_2hloc.hdf5\", \"w\") as f:\n",
    "    f.create_dataset(\"Vlist\", data=Vlist)\n",
    "    f.create_dataset(\"f_iter\", data=f_iter)\n",
    "    f.create_dataset(\"err_iter\", data=err_iter)\n",
    "    f.attrs[\"L\"] = L\n",
    "    f.attrs[\"t\"] = float(t)"
   ]
  },
  {
   "cell_type": "code",
   "execution_count": 79,
   "id": "ba441f1b-7d90-4cd4-bcc7-b5ef09d1dcca",
   "metadata": {},
   "outputs": [],
   "source": [
    "\n",
    "with h5py.File(f\"./tfim2d_ccU_SPARSE_{J}{h}{g}_Lx{Lx}Ly{Ly}_t{t}_layers{len(Vlist_start)}_niter7_rS1_2hloc.hdf5\", \"r\") as f:\n",
    "    Vlist =  f[\"Vlist\"][:]"
   ]
  },
  {
   "cell_type": "code",
   "execution_count": 80,
   "id": "ed41a40f-b622-47bd-8e26-73d9dda13ddb",
   "metadata": {},
   "outputs": [
    {
     "name": "stdout",
     "output_type": "stream",
     "text": [
      "Trotter error of the starting point:  0.019083824805218447\n"
     ]
    }
   ],
   "source": [
    "\"\"\"\n",
    "    Test operations.\n",
    "\"\"\"\n",
    "\n",
    "Vlist_reduced = []\n",
    "for i, V in enumerate(Vlist):\n",
    "    if i not in control_layers:\n",
    "        Vlist_reduced.append(V)\n",
    "\n",
    "state = random_statevector(2**L).data\n",
    "print(\"Trotter error of the starting point: \", (np.linalg.norm(ansatz_sparse(Vlist, L, perms_extended, state) - expm_multiply(\n",
    "    1j * t * hamil, state), ord=2) + np.linalg.norm(ansatz_sparse(Vlist_reduced, L, perms_ext_reduced, state) - expm_multiply(\n",
    "    -1j * t * hamil, state), ord=2))/2)"
   ]
  },
  {
   "cell_type": "code",
   "execution_count": 13,
   "id": "ab7e60fa-91df-4979-b988-798eed697946",
   "metadata": {},
   "outputs": [
    {
     "name": "stderr",
     "output_type": "stream",
     "text": [
      "/opt/anaconda3/envs/qc/lib/python3.10/site-packages/rqcopt/trust_region.py:81: RuntimeWarning: divide by zero encountered in scalar divide\n",
      "  alpha = rsq / dHd\n",
      "/opt/anaconda3/envs/qc/lib/python3.10/site-packages/rqcopt/trust_region.py:40: RuntimeWarning: divide by zero encountered in scalar divide\n",
      "  rho = (f(x_next) - fx) / (np.dot(grad, eta) + 0.5 * np.dot(eta, hess @ eta))\n",
      "/opt/anaconda3/envs/qc/lib/python3.10/site-packages/rqcopt/trust_region.py:40: RuntimeWarning: invalid value encountered in scalar divide\n",
      "  rho = (f(x_next) - fx) / (np.dot(grad, eta) + 0.5 * np.dot(eta, hess @ eta))\n"
     ]
    },
    {
     "name": "stdout",
     "output_type": "stream",
     "text": [
      "Best f:  -7.999999999999925\n",
      "Best err:  2.191724639327272e-07\n",
      "Best f:  -7.999999999999967\n",
      "Best err:  1.7419223816536136e-07\n",
      "Best f:  -7.999999999999936\n",
      "Best err:  1.972197712435539e-07\n",
      "Best f:  -7.999999999999942\n",
      "Best err:  1.7754426930958346e-07\n",
      "Best f:  -7.999999999999891\n",
      "Best err:  2.630298476652839e-07\n",
      "Best f:  -7.999999999999909\n",
      "Best err:  2.093713867259195e-07\n"
     ]
    }
   ],
   "source": [
    "sys.path.append(\"../../src/controlled_unitary_optimizer\")\n",
    "sys.path.append(\"../../src/brickwall_ansatz\")\n",
    "from optimize_3q import optimize_3q \n",
    "from utils_3q import make_controlled, random_unitary\n",
    "\n",
    "Xlists_opt = {}\n",
    "perms_qc = [[0, 1], [0, 2], [1, 2], [0, 2], [0, 1], [1, 2], [0, 2], [0, 1], [1, 2]]\n",
    "\n",
    "for i in control_layers:\n",
    "    cU = make_controlled(Vlist[i])\n",
    "    f_best, err_best, Glist_best = (0, 2, None)\n",
    "    for _ in range(10):\n",
    "        Xlist_start = [random_unitary(4) for i in range(len(perms_qc))]\n",
    "        Xlist, f_iter, err_iter = optimize_3q(L, cU, Xlist_start, perms_qc, niter=1000)\n",
    "        if err_iter[-1] < err_best:\n",
    "            f_best, err_best, Xlist_best = (f_iter[-1], err_iter[-1], Xlist)\n",
    "    print(\"Best f: \", f_best)\n",
    "    print(\"Best err: \", err_best)\n",
    "    Xlists_opt[i] = Xlist_best"
   ]
  },
  {
   "cell_type": "code",
   "execution_count": 81,
   "id": "3d01802c-c8b5-4235-92b6-22ca8391f3aa",
   "metadata": {},
   "outputs": [],
   "source": [
    "# Save the optimal gates.\n",
    "\n",
    "for i in control_layers:\n",
    "    with h5py.File(f\"./results/tfim2d_ccU_SPARSE_{J}{h}{g}_Lx{Lx}Ly{Ly}_t{t}_layers{len(Vlist)}_niter7_rS1_DECOMPOSE_n{len(perms_qc)}_layer{i}.hdf5\", \"w\") as file:\n",
    "        file.create_dataset(f\"Xlist_{i}\", data=Xlists_opt[i])"
   ]
  },
  {
   "cell_type": "code",
   "execution_count": null,
   "id": "e236d4d9-b3b3-4399-96a3-e2da4843351c",
   "metadata": {},
   "outputs": [],
   "source": [
    "Xlists_opt1 = {}\n",
    "for i in control_layers:\n",
    "    with h5py.File(f\"./results/tfim2d_ccU_SPARSE_{J}{h}{g}_Lx{Lx}Ly{Ly}_t{t}_layers{len(Vlist)}_niter50_rS6_DECOMPOSE_n{len(perms_qc)}_layer{i}.hdf5\", \"r\") as file:\n",
    "        Xlists_opt1[i] = file[f\"Xlist_{i}\"][:]"
   ]
  },
  {
   "cell_type": "code",
   "execution_count": 82,
   "id": "75f3cc0a-242c-4379-b184-ff597db918e3",
   "metadata": {},
   "outputs": [
    {
     "name": "stderr",
     "output_type": "stream",
     "text": [
      "/tmp/ipykernel_27482/1096984358.py:38: DeprecationWarning: The function ``qiskit.execute_function.execute()`` is deprecated as of qiskit 0.46.0. It will be removed in the Qiskit 1.0 release. This function combines ``transpile`` and ``backend.run``, which is covered by ``Sampler`` :mod:`~qiskit.primitives`. Alternatively, you can also run :func:`.transpile` followed by ``backend.run()``.\n",
      "  sv1 = execute(transpile(qc_ext1), backend).result().get_statevector().data\n",
      "/tmp/ipykernel_27482/1096984358.py:46: DeprecationWarning: The function ``qiskit.execute_function.execute()`` is deprecated as of qiskit 0.46.0. It will be removed in the Qiskit 1.0 release. This function combines ``transpile`` and ``backend.run``, which is covered by ``Sampler`` :mod:`~qiskit.primitives`. Alternatively, you can also run :func:`.transpile` followed by ``backend.run()``.\n",
      "  sv2 = execute(transpile(qc_ext2), backend).result().get_statevector().data\n"
     ]
    },
    {
     "name": "stdout",
     "output_type": "stream",
     "text": [
      "t=0.25, Gate Count:  576  Trotter error:  0.019078089549256057\n",
      "t=0.5, Gate Count:  1152  Trotter error:  0.029779510582596095\n",
      "t=1, Gate Count:  2304  Trotter error:  0.048258151298834484\n",
      "t=2, Gate Count:  4608  Trotter error:  0.07485142107455334\n"
     ]
    }
   ],
   "source": [
    "from qiskit import Aer, execute, transpile\n",
    "from qiskit.circuit.library import CYGate, CZGate, IGate, CXGate\n",
    "from qiskit.converters import circuit_to_dag\n",
    "from qiskit.providers.aer.noise import NoiseModel, errors\n",
    "from qiskit import Aer, execute, transpile\n",
    "from scipy import sparse as sp\n",
    "\n",
    "qc = qiskit.QuantumCircuit(L+1)\n",
    "qc.x(L)\n",
    "for i, V in enumerate(Vlist):\n",
    "    layer = i\n",
    "    if i in control_layers:\n",
    "        Glist = Xlists_opt[i]\n",
    "        qc_3 = qiskit.QuantumCircuit(3)\n",
    "        for j, G in enumerate(Glist):\n",
    "            qc_3.unitary( G, (3-1-perms_qc[j][1], 3-1-perms_qc[j][0]))\n",
    "\n",
    "        for perm in perms_extended[layer]:\n",
    "            for j in range(L//2):\n",
    "                qc.append(qc_3.to_gate(), [L-perm[2*j]-1, L-perm[2*j+1]-1, L])\n",
    "        \n",
    "    else:\n",
    "        for perm in perms_extended[layer]:\n",
    "            for j in range(L//2):\n",
    "                qc.unitary(V, [L-perm[2*j]-1, L-perm[2*j+1]-1])\n",
    "qc.x(L)\n",
    "\n",
    "\n",
    "ccU_cxs= []\n",
    "ccU_errs = []\n",
    "for t in [.25, .5, 1, 2]:\n",
    "    state = random_statevector(2**L).data\n",
    "    qc_ext1 = qiskit.QuantumCircuit(L+1)\n",
    "    qc_ext1.initialize(state, [i for i in range(L)])\n",
    "    for i in range(int(t/0.25)):\n",
    "        qc_ext1.append(qc.to_gate(), [i for i in range(L+1)])\n",
    "    backend = Aer.get_backend(\"statevector_simulator\")\n",
    "    sv1 = execute(transpile(qc_ext1), backend).result().get_statevector().data\n",
    "    \n",
    "    qc_ext2 = qiskit.QuantumCircuit(L+1)\n",
    "    qc_ext2.initialize(state, [i for i in range(L)])\n",
    "    qc_ext2.x(L)\n",
    "    for i in range(int(t/0.25)):\n",
    "        qc_ext2.append(qc.to_gate(), [i for i in range(L+1)])\n",
    "    backend = Aer.get_backend(\"statevector_simulator\")\n",
    "    sv2 = execute(transpile(qc_ext2), backend).result().get_statevector().data\n",
    "\n",
    "    ket_0 = np.array([1, 0])\n",
    "    ket_1 = np.array([0, 1])\n",
    "    exact_v1 = np.kron(ket_0, expm_multiply(1j * t * hamil, state))\n",
    "    exact_v2 = np.kron(ket_1, expm_multiply(-1j * t * hamil, state))\n",
    "    err = (np.linalg.norm(sv1-exact_v1, ord=2) + np.linalg.norm(sv2-exact_v2, ord=2))/2\n",
    "    \n",
    "    noise_model = NoiseModel()\n",
    "    dag = circuit_to_dag(transpile(qc_ext1, basis_gates=noise_model.basis_gates+['unitary', 'initialize', 'cx']))\n",
    "    count_ops = dag.count_ops()\n",
    "    \n",
    "    ccU_errs.append(err)\n",
    "    ccU_cxs.append(count_ops['unitary'])\n",
    "    print(f\"t={t}, Gate Count: \", count_ops['unitary'], \" Trotter error: \", err)"
   ]
  },
  {
   "cell_type": "code",
   "execution_count": 87,
   "id": "9446d260-cd9b-49d9-95c1-c37c9ff5f30a",
   "metadata": {},
   "outputs": [
    {
     "name": "stdout",
     "output_type": "stream",
     "text": [
      "nsteps set to:  2\n",
      "dt set to:  0.125\n"
     ]
    },
    {
     "name": "stderr",
     "output_type": "stream",
     "text": [
      "/tmp/ipykernel_27482/4040044168.py:90: DeprecationWarning: The function ``qiskit.execute_function.execute()`` is deprecated as of qiskit 0.46.0. It will be removed in the Qiskit 1.0 release. This function combines ``transpile`` and ``backend.run``, which is covered by ``Sampler`` :mod:`~qiskit.primitives`. Alternatively, you can also run :func:`.transpile` followed by ``backend.run()``.\n",
      "  sv1 = execute(transpile(qc_ext1), backend).result().get_statevector().data\n"
     ]
    },
    {
     "name": "stdout",
     "output_type": "stream",
     "text": [
      "nsteps set to:  2\n",
      "dt set to:  0.125\n"
     ]
    },
    {
     "name": "stderr",
     "output_type": "stream",
     "text": [
      "/tmp/ipykernel_27482/4040044168.py:97: DeprecationWarning: The function ``qiskit.execute_function.execute()`` is deprecated as of qiskit 0.46.0. It will be removed in the Qiskit 1.0 release. This function combines ``transpile`` and ``backend.run``, which is covered by ``Sampler`` :mod:`~qiskit.primitives`. Alternatively, you can also run :func:`.transpile` followed by ``backend.run()``.\n",
      "  sv2 = execute(transpile(qc_ext2), backend).result().get_statevector().data\n"
     ]
    },
    {
     "name": "stdout",
     "output_type": "stream",
     "text": [
      "t=0.25, Gate Count:  576  Trotter error:  0.12154624786816681\n",
      "nsteps set to:  4\n",
      "dt set to:  0.125\n",
      "nsteps set to:  4\n",
      "dt set to:  0.125\n",
      "t=0.5, Gate Count:  1152  Trotter error:  0.11405705461025048\n",
      "nsteps set to:  8\n",
      "dt set to:  0.125\n",
      "nsteps set to:  8\n",
      "dt set to:  0.125\n",
      "t=1, Gate Count:  2304  Trotter error:  0.17798335037544372\n",
      "nsteps set to:  16\n",
      "dt set to:  0.125\n",
      "nsteps set to:  16\n",
      "dt set to:  0.125\n",
      "t=2, Gate Count:  4608  Trotter error:  0.30056603733609033\n"
     ]
    }
   ],
   "source": [
    "\"\"\"\n",
    "    Now here is to compare the performance of the ccU circuit\n",
    "    with the 1st and 2nd order Trotter circuits, in terms of \n",
    "    gate count vs Trotter error. I demonstrate it on L=10 system.\n",
    "\"\"\"\n",
    "\n",
    "\n",
    "def controlled_trotter(c1, L, Lx, Ly, J, g, dag=False, nsteps=1):\n",
    "    if c1/(2*nsteps) > 0.125:\n",
    "        nsteps = int(np.ceil(c1/(2 * 0.125)))\n",
    "        print(\"nsteps set to: \", nsteps)\n",
    "        print(\"dt set to: \",  c1/(2*nsteps))\n",
    "    t = c1/(2*nsteps)\n",
    "\n",
    "    perms_v, perms_h = get_perms(Lx, Ly)\n",
    "    indices = [0,   1,  0]\n",
    "    coeffs  = [.5,  1, .5]\n",
    "    perms_ext = ([perms_v, perms_h])*len(indices)\n",
    "    \n",
    "    hloc1 = construct_ising_local_term(J, 0, 0, ndim=2)\n",
    "    hloc2 = g*(np.kron(X, I2)+np.kron(I2, X))/4\n",
    "    hlocs = (hloc1, hloc2)\n",
    "\n",
    "    K = []\n",
    "    for i, perms in enumerate(perms_ext):\n",
    "        perm = perms[0]\n",
    "        K_layer = [None for _ in range(L)]\n",
    "        for j in range(len(perm)//2):\n",
    "            K_layer[perm[2*j]] = CYGate\n",
    "            K_layer[perm[2*j+1]] = CZGate\n",
    "        K.append(K_layer)\n",
    "\n",
    "    Vlist_start = []\n",
    "    for i, c in zip(indices, coeffs):\n",
    "        Vlist_start.append(scipy.linalg.expm(-1j*c*t*hlocs[i]))\n",
    "    Vlist_gates = []\n",
    "    for V in Vlist_start:\n",
    "        qc2 = qiskit.QuantumCircuit(2)\n",
    "        qc2.unitary(V, [0, 1], label='str')\n",
    "        Vlist_gates.append(qc2)\n",
    "\n",
    "\n",
    "    qc = qiskit.QuantumCircuit(L+1)\n",
    "    for n in range(nsteps):\n",
    "        for layer, qc_gate in enumerate(Vlist_gates):\n",
    "\n",
    "            perms = perms_v\n",
    "            qc.x(L)\n",
    "            for j in range(L):\n",
    "                if K[2*layer][j]:\n",
    "                    qc.append(K[2*layer][j](), [L, L-1-j])\n",
    "            qc.x(L)\n",
    "\n",
    "            for perm in perms:\n",
    "                for j in range(len(perm)//2):\n",
    "                    qc.append(qc_gate.to_gate(), [L-(perm[2*j]+1), L-(perm[2*j+1]+1)])\n",
    "            qc.x(L)\n",
    "            for j in range(L):\n",
    "                if K[2*layer][j]:\n",
    "                    qc.append(K[2*layer][j](), [L, L-1-j])\n",
    "            qc.x(L)\n",
    "\n",
    "            perms = perms_h\n",
    "            qc.x(L)\n",
    "            for j in range(L):\n",
    "                if K[2*layer+1][j]:\n",
    "                    qc.append(K[2*layer+1][j](), [L, L-1-j])\n",
    "            qc.x(L)\n",
    "            \n",
    "            for perm in perms:\n",
    "                for j in range(len(perm)//2):\n",
    "                    qc.append(qc_gate.to_gate(), [L-(perm[2*j]+1), L-(perm[2*j+1]+1)])\n",
    "\n",
    "            qc.x(L)\n",
    "            for j in range(L):\n",
    "                if K[2*layer+1][j]:\n",
    "                    qc.append(K[2*layer+1][j](), [L, L-1-j])\n",
    "            qc.x(L)\n",
    "    return qc\n",
    "\n",
    "    \n",
    "trotter2_cxs= []\n",
    "trotter2_errs = []\n",
    "for t in [0.25, .5, 1, 2]:\n",
    "    state = random_statevector(2**L).data\n",
    "    qc_ext1 = qiskit.QuantumCircuit(L+1)\n",
    "    qc_ext1.initialize(state, [i for i in range(L)])\n",
    "    qc_ext1.append(controlled_trotter(2*t, 16, 4, 4, J, g).to_gate(), [i for i in range(L+1)])\n",
    "    backend = Aer.get_backend(\"statevector_simulator\")\n",
    "    sv1 = execute(transpile(qc_ext1), backend).result().get_statevector().data\n",
    "    \n",
    "    qc_ext2 = qiskit.QuantumCircuit(L+1)\n",
    "    qc_ext2.initialize(state, [i for i in range(L)])\n",
    "    qc_ext2.x(L)\n",
    "    qc_ext2.append(controlled_trotter(2*t, 16, 4, 4, J, g).to_gate(), [i for i in range(L+1)])\n",
    "    backend = Aer.get_backend(\"statevector_simulator\")\n",
    "    sv2 = execute(transpile(qc_ext2), backend).result().get_statevector().data\n",
    "\n",
    "    ket_0 = np.array([1, 0])\n",
    "    ket_1 = np.array([0, 1])\n",
    "    exact_v1 = np.kron(ket_0, expm_multiply(1j * t * hamil, state))\n",
    "    exact_v2 = np.kron(ket_1, expm_multiply(-1j * t * hamil, state))\n",
    "    err = (np.linalg.norm(sv1-exact_v1, ord=2) + np.linalg.norm(sv2-exact_v2, ord=2))/2\n",
    "    \n",
    "    noise_model = NoiseModel()\n",
    "    dag = circuit_to_dag(transpile(qc_ext1, basis_gates=noise_model.basis_gates+['unitary', 'initialize', 'cx']))\n",
    "    count_ops = dag.count_ops()\n",
    "\n",
    "    trotter2_cxs.append(count_ops['cx']+count_ops['unitary'])\n",
    "    trotter2_errs.append(err)\n",
    "\n",
    "    print(f\"t={t}, Gate Count: \", count_ops['cx']+count_ops['unitary'], \" Trotter error: \", err)"
   ]
  },
  {
   "cell_type": "code",
   "execution_count": null,
   "id": "ee55b673-2e16-4f2d-901a-ce4096653a8a",
   "metadata": {},
   "outputs": [],
   "source": []
  }
 ],
 "metadata": {
  "kernelspec": {
   "display_name": "Python3.10 (qc)",
   "language": "python",
   "name": "qc"
  },
  "language_info": {
   "codemirror_mode": {
    "name": "ipython",
    "version": 3
   },
   "file_extension": ".py",
   "mimetype": "text/x-python",
   "name": "python",
   "nbconvert_exporter": "python",
   "pygments_lexer": "ipython3",
   "version": "3.10.13"
  }
 },
 "nbformat": 4,
 "nbformat_minor": 5
}
