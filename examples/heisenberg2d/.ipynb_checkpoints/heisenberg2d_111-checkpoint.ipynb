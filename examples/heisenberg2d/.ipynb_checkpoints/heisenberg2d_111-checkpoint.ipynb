{
 "cells": [
  {
   "cell_type": "code",
   "execution_count": 27,
   "id": "38b6ea50-3b87-4a9c-b91e-59d86960dee7",
   "metadata": {},
   "outputs": [
    {
     "name": "stdout",
     "output_type": "stream",
     "text": [
      "Trotter error:  0.5692301786835906\n"
     ]
    }
   ],
   "source": [
    "import numpy as np\n",
    "import qiskit\n",
    "from qiskit.quantum_info import state_fidelity\n",
    "from numpy import linalg as LA\n",
    "import qib\n",
    "import matplotlib.pyplot as plt\n",
    "import scipy\n",
    "import h5py\n",
    "\n",
    "import sys\n",
    "sys.path.append(\"../../src/brickwall_ansatz_2D\")\n",
    "from utils_2D import construct_heisenberg_local_term, reduce_list, X, I2\n",
    "from ansatz_2D import ansatz_2D, ansatz_sparse\n",
    "import rqcopt as oc\n",
    "\n",
    "Lx, Ly = (3, 3)\n",
    "L = Lx*Ly\n",
    "t = 0.25\n",
    "# construct Hamiltonian\n",
    "latt = qib.lattice.IntegerLattice((Lx, Ly), pbc=True)\n",
    "field = qib.field.Field(qib.field.ParticleType.QUBIT, latt)\n",
    "J = (1, 1, 1)\n",
    "h = (1, 1, 1)\n",
    "hamil = qib.HeisenbergHamiltonian(field, J, h).as_matrix()\n",
    "eigenvalues, eigenvectors = scipy.sparse.linalg.eigsh(hamil, k=10)\n",
    "idx = eigenvalues.argsort()\n",
    "eigenvalues_sort = eigenvalues[idx]\n",
    "eigenvectors_sort = eigenvectors[:,idx]\n",
    "ground_state = eigenvectors_sort[:, 0]\n",
    "\n",
    "hloc1 = construct_heisenberg_local_term([J[0], 0,      0],  [h[0],    0,     0], ndim=2)\n",
    "hloc2 = construct_heisenberg_local_term([0,    J[1],   0],  [0,     h[1],    0], ndim=2)\n",
    "hloc3 = construct_heisenberg_local_term([0,    0,   J[2]],  [0,    0,     h[2]], ndim=2)\n",
    "\n",
    "perms_v = [[0, 1, 3, 4, 6, 7], [1, 2, 4, 5, 7, 8], [2, 0, 5, 3, 8, 6]]\n",
    "perms_h = [[0, 3, 1, 4, 2, 5], [3, 6, 4, 7, 5, 8], [6, 0, 7, 1, 8, 2]]\n",
    "\n",
    "V1_V = scipy.linalg.expm(-1j*t*hloc1)\n",
    "V2_V = scipy.linalg.expm(-1j*t*hloc2)\n",
    "V3_V = scipy.linalg.expm(-1j*t*hloc3)\n",
    "\n",
    "V1_H = scipy.linalg.expm(-1j*t*hloc1)\n",
    "V2_H = scipy.linalg.expm(-1j*t*hloc2)\n",
    "V3_H = scipy.linalg.expm(-1j*t*hloc3)\n",
    "\n",
    "Vlist_V      = [V1_V, V2_V, V3_V]\n",
    "Vlist_H      = [V1_H, V2_H, V3_H]\n",
    "Vlist_start  = Vlist_V + Vlist_H\n",
    "perms_extended = [perms_v]*3 + [perms_h]*3\n",
    "\n",
    "#U = scipy.linalg.expm(-1j*hamil*t)\n",
    "#print(\"Trotter error of the starting point: \", (np.linalg.norm(ansatz_2D(Vlist_start, L, perms_extended) - U, ord=2) ))\n",
    "print(\"Trotter error: \", np.linalg.norm(ansatz_sparse(Vlist_start, L, perms_extended, ground_state) - expm_multiply(\n",
    "    -1j * t * hamil, ground_state), ord=2))"
   ]
  },
  {
   "cell_type": "code",
   "execution_count": 28,
   "id": "a95a83dd-dee0-4ec2-88e8-e8b29f30c2e9",
   "metadata": {},
   "outputs": [
    {
     "name": "stdout",
     "output_type": "stream",
     "text": [
      "1.355636621102228\n"
     ]
    },
    {
     "data": {
      "image/png": "[encoded data removed]",
      "text/plain": [
       "<Figure size 640x480 with 1 Axes>"
      ]
     },
     "metadata": {},
     "output_type": "display_data"
    }
   ],
   "source": [
    "from optimize_2D import optimize\n",
    "\n",
    "Vlist, f_iter, err_iter = optimize(L, U, Vlist_start, perms_extended, niter=20)\n",
    "plt.plot(err_iter)\n",
    "plt.yscale('log')\n",
    "print(err_iter[-1])"
   ]
  },
  {
   "cell_type": "code",
   "execution_count": 29,
   "id": "8c39497a-8b63-4407-b70e-80dc927af6a1",
   "metadata": {},
   "outputs": [],
   "source": [
    "with h5py.File(f\"./results/heisenberg2d_111_Lx{Lx}Ly{Ly}_t{t}_layers{len(Vlist_start)}_U_3hloc.hdf5\", \"w\") as f:\n",
    "    f.create_dataset(\"Vlist\", data=Vlist)\n",
    "    f.create_dataset(\"f_iter\", data=f_iter)\n",
    "    f.create_dataset(\"err_iter\", data=err_iter)\n",
    "    f.attrs[\"L\"] = L\n",
    "    f.attrs[\"t\"] = float(t)"
   ]
  },
  {
   "cell_type": "code",
   "execution_count": 2,
   "id": "59a6b1a4-02ad-4d82-8fee-746490282af4",
   "metadata": {},
   "outputs": [],
   "source": [
    "#Vlist = []\n",
    "with h5py.File(\"./results/tfim2d_101_Lx3Ly3_t0.25_layers9_U_v3.hdf5\", \"r\") as f:\n",
    "    Vlist =  f[\"Vlist\"][:]"
   ]
  },
  {
   "cell_type": "code",
   "execution_count": 32,
   "id": "f72dfc4b-2149-4be3-ab7b-de8218adbb9b",
   "metadata": {},
   "outputs": [
    {
     "name": "stdout",
     "output_type": "stream",
     "text": [
      "Trotter error:  0.39743276241243164\n"
     ]
    }
   ],
   "source": [
    "from scipy.sparse.linalg import expm_multiply\n",
    "\n",
    "Lx, Ly = (3, 3)\n",
    "L = Lx*Ly\n",
    "t = 0.25\n",
    "latt = qib.lattice.IntegerLattice((Lx, Ly), pbc=True)\n",
    "field = qib.field.Field(qib.field.ParticleType.QUBIT, latt)\n",
    "J = (1, 1, 1)\n",
    "h = (1, 1, 1)\n",
    "hamil = qib.HeisenbergHamiltonian(field, J, h).as_matrix().toarray()\n",
    "eigenvalues, eigenvectors = scipy.sparse.linalg.eigsh(hamil, k=10)\n",
    "idx = eigenvalues.argsort()\n",
    "eigenvalues_sort = eigenvalues[idx]\n",
    "eigenvectors_sort = eigenvectors[:,idx]\n",
    "ground_state = eigenvectors_sort[:, 0]\n",
    "\n",
    "perms_v = [[0, 1, 3, 4, 6, 7], [1, 2, 4, 5, 7, 8], [2, 0, 5, 3, 8, 6]]\n",
    "perms_h = [[0, 3, 1, 4, 2, 5], [3, 6, 4, 7, 5, 8], [6, 0, 7, 1, 8, 2]]\n",
    "perms_extended = [perms_v]*3 + [perms_h]*3\n",
    "\n",
    "print(\"Trotter error: \", np.linalg.norm(ansatz_sparse(Vlist, L, perms_extended, ground_state) - expm_multiply(\n",
    "    -1j * t * hamil, ground_state), ord=2))"
   ]
  },
  {
   "cell_type": "code",
   "execution_count": 33,
   "id": "730fc6f5-815d-4bad-a752-7e1290f58472",
   "metadata": {},
   "outputs": [
    {
     "name": "stdout",
     "output_type": "stream",
     "text": [
      "Trotter error:  0.868611009023229\n"
     ]
    }
   ],
   "source": [
    "\"\"\"\n",
    "    Scaling from 3x3 -> 4x4. Important proof of concept! \n",
    "\"\"\"\n",
    "\n",
    "\n",
    "from scipy.sparse.linalg import expm_multiply\n",
    "from qiskit.quantum_info import state_fidelity\n",
    "\n",
    "perms_v = [[0, 1, 4, 5, 8, 9, 12, 13, 2, 3, 6, 7, 10, 11, 14, 15], \n",
    "          [1, 2, 5, 6, 9, 10, 13, 14, 3, 0, 7, 4, 11, 8, 15, 12]]\n",
    "perms_h = [[0, 4, 1, 5, 2, 6, 3, 7, 8, 12, 9, 13, 10, 14, 11, 15], \n",
    "          [4, 8, 5, 9, 6, 10, 7, 11, 12, 0, 13, 1, 14, 2, 15, 3]]\n",
    "perms_extended = [perms_v]*3 + [perms_h]*3\n",
    "\n",
    "\n",
    "Lx, Ly = (4, 4)\n",
    "L = Lx*Ly\n",
    "latt = qib.lattice.IntegerLattice((Lx, Ly), pbc=True)\n",
    "field = qib.field.Field(qib.field.ParticleType.QUBIT, latt)\n",
    "J = (1, 1, 1)\n",
    "h = (1, 1, 1)\n",
    "hamil = qib.HeisenbergHamiltonian(field, J, h).as_matrix()\n",
    "eigenvalues, eigenvectors = scipy.sparse.linalg.eigsh(hamil, k=10)\n",
    "idx = eigenvalues.argsort()\n",
    "eigenvalues_sort = eigenvalues[idx]\n",
    "eigenvectors_sort = eigenvectors[:,idx]\n",
    "ground_state = eigenvectors_sort[:, 0]\n",
    "\n",
    "print(\"Trotter error: \", np.linalg.norm(ansatz_sparse(Vlist, L, perms_extended, ground_state) - expm_multiply(\n",
    "    -1j * t * hamil, ground_state), ord=2))"
   ]
  },
  {
   "cell_type": "code",
   "execution_count": null,
   "id": "ce38a522-9ca9-4564-9b1f-58f46fdde2cd",
   "metadata": {},
   "outputs": [],
   "source": []
  },
  {
   "cell_type": "code",
   "execution_count": null,
   "id": "b613945b-c117-4937-83a9-2c0ab759e158",
   "metadata": {},
   "outputs": [],
   "source": []
  },
  {
   "cell_type": "code",
   "execution_count": null,
   "id": "a7f0557e-118f-47b2-8013-031afd83752a",
   "metadata": {},
   "outputs": [],
   "source": []
  },
  {
   "cell_type": "code",
   "execution_count": null,
   "id": "51550200-61df-464c-b6eb-27a842e29d52",
   "metadata": {},
   "outputs": [],
   "source": []
  },
  {
   "cell_type": "code",
   "execution_count": null,
   "id": "0614225b-c4af-4950-ab83-992656288127",
   "metadata": {},
   "outputs": [],
   "source": []
  }
 ],
 "metadata": {
  "kernelspec": {
   "display_name": "Python3.10 (qc)",
   "language": "python",
   "name": "qc"
  },
  "language_info": {
   "codemirror_mode": {
    "name": "ipython",
    "version": 3
   },
   "file_extension": ".py",
   "mimetype": "text/x-python",
   "name": "python",
   "nbconvert_exporter": "python",
   "pygments_lexer": "ipython3",
   "version": "3.10.13"
  }
 },
 "nbformat": 4,
 "nbformat_minor": 5
}
