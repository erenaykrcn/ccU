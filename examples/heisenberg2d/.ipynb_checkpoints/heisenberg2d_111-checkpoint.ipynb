{
 "cells": [
  {
   "cell_type": "code",
   "execution_count": 219,
   "id": "38b6ea50-3b87-4a9c-b91e-59d86960dee7",
   "metadata": {},
   "outputs": [
    {
     "ename": "KeyboardInterrupt",
     "evalue": "",
     "output_type": "error",
     "traceback": [
      "\u001b[0;31m---------------------------------------------------------------------------\u001b[0m",
      "\u001b[0;31mKeyboardInterrupt\u001b[0m                         Traceback (most recent call last)",
      "Cell \u001b[0;32mIn[219], line 27\u001b[0m\n\u001b[1;32m     25\u001b[0m h \u001b[38;5;241m=\u001b[39m (\u001b[38;5;241m1\u001b[39m, \u001b[38;5;241m1\u001b[39m, \u001b[38;5;241m1\u001b[39m)\n\u001b[1;32m     26\u001b[0m hamil \u001b[38;5;241m=\u001b[39m qib\u001b[38;5;241m.\u001b[39mHeisenbergHamiltonian(field, J, h)\u001b[38;5;241m.\u001b[39mas_matrix()\n\u001b[0;32m---> 27\u001b[0m eigenvalues, eigenvectors \u001b[38;5;241m=\u001b[39m \u001b[43mscipy\u001b[49m\u001b[38;5;241;43m.\u001b[39;49m\u001b[43msparse\u001b[49m\u001b[38;5;241;43m.\u001b[39;49m\u001b[43mlinalg\u001b[49m\u001b[38;5;241;43m.\u001b[39;49m\u001b[43meigsh\u001b[49m\u001b[43m(\u001b[49m\u001b[43mhamil\u001b[49m\u001b[43m,\u001b[49m\u001b[43m \u001b[49m\u001b[43mk\u001b[49m\u001b[38;5;241;43m=\u001b[39;49m\u001b[38;5;241;43m10\u001b[39;49m\u001b[43m)\u001b[49m\n\u001b[1;32m     28\u001b[0m idx \u001b[38;5;241m=\u001b[39m eigenvalues\u001b[38;5;241m.\u001b[39margsort()\n\u001b[1;32m     29\u001b[0m eigenvalues_sort \u001b[38;5;241m=\u001b[39m eigenvalues[idx]\n",
      "File \u001b[0;32m/opt/anaconda3/envs/qc/lib/python3.10/site-packages/scipy/sparse/linalg/_eigen/arpack/arpack.py:1577\u001b[0m, in \u001b[0;36meigsh\u001b[0;34m(A, k, M, sigma, which, v0, ncv, maxiter, tol, return_eigenvectors, Minv, OPinv, mode)\u001b[0m\n\u001b[1;32m   1575\u001b[0m \u001b[38;5;28;01melif\u001b[39;00m which \u001b[38;5;241m==\u001b[39m \u001b[38;5;124m'\u001b[39m\u001b[38;5;124mSA\u001b[39m\u001b[38;5;124m'\u001b[39m:\n\u001b[1;32m   1576\u001b[0m     which \u001b[38;5;241m=\u001b[39m \u001b[38;5;124m'\u001b[39m\u001b[38;5;124mSR\u001b[39m\u001b[38;5;124m'\u001b[39m\n\u001b[0;32m-> 1577\u001b[0m ret \u001b[38;5;241m=\u001b[39m \u001b[43meigs\u001b[49m\u001b[43m(\u001b[49m\u001b[43mA\u001b[49m\u001b[43m,\u001b[49m\u001b[43m \u001b[49m\u001b[43mk\u001b[49m\u001b[43m,\u001b[49m\u001b[43m \u001b[49m\u001b[43mM\u001b[49m\u001b[38;5;241;43m=\u001b[39;49m\u001b[43mM\u001b[49m\u001b[43m,\u001b[49m\u001b[43m \u001b[49m\u001b[43msigma\u001b[49m\u001b[38;5;241;43m=\u001b[39;49m\u001b[43msigma\u001b[49m\u001b[43m,\u001b[49m\u001b[43m \u001b[49m\u001b[43mwhich\u001b[49m\u001b[38;5;241;43m=\u001b[39;49m\u001b[43mwhich\u001b[49m\u001b[43m,\u001b[49m\u001b[43m \u001b[49m\u001b[43mv0\u001b[49m\u001b[38;5;241;43m=\u001b[39;49m\u001b[43mv0\u001b[49m\u001b[43m,\u001b[49m\n\u001b[1;32m   1578\u001b[0m \u001b[43m           \u001b[49m\u001b[43mncv\u001b[49m\u001b[38;5;241;43m=\u001b[39;49m\u001b[43mncv\u001b[49m\u001b[43m,\u001b[49m\u001b[43m \u001b[49m\u001b[43mmaxiter\u001b[49m\u001b[38;5;241;43m=\u001b[39;49m\u001b[43mmaxiter\u001b[49m\u001b[43m,\u001b[49m\u001b[43m \u001b[49m\u001b[43mtol\u001b[49m\u001b[38;5;241;43m=\u001b[39;49m\u001b[43mtol\u001b[49m\u001b[43m,\u001b[49m\n\u001b[1;32m   1579\u001b[0m \u001b[43m           \u001b[49m\u001b[43mreturn_eigenvectors\u001b[49m\u001b[38;5;241;43m=\u001b[39;49m\u001b[43mreturn_eigenvectors\u001b[49m\u001b[43m,\u001b[49m\u001b[43m \u001b[49m\u001b[43mMinv\u001b[49m\u001b[38;5;241;43m=\u001b[39;49m\u001b[43mMinv\u001b[49m\u001b[43m,\u001b[49m\n\u001b[1;32m   1580\u001b[0m \u001b[43m           \u001b[49m\u001b[43mOPinv\u001b[49m\u001b[38;5;241;43m=\u001b[39;49m\u001b[43mOPinv\u001b[49m\u001b[43m)\u001b[49m\n\u001b[1;32m   1582\u001b[0m \u001b[38;5;28;01mif\u001b[39;00m return_eigenvectors:\n\u001b[1;32m   1583\u001b[0m     \u001b[38;5;28;01mreturn\u001b[39;00m ret[\u001b[38;5;241m0\u001b[39m]\u001b[38;5;241m.\u001b[39mreal, ret[\u001b[38;5;241m1\u001b[39m]\n",
      "File \u001b[0;32m/opt/anaconda3/envs/qc/lib/python3.10/site-packages/scipy/sparse/linalg/_eigen/arpack/arpack.py:1355\u001b[0m, in \u001b[0;36meigs\u001b[0;34m(A, k, M, sigma, which, v0, ncv, maxiter, tol, return_eigenvectors, Minv, OPinv, OPpart)\u001b[0m\n\u001b[1;32m   1353\u001b[0m \u001b[38;5;28;01mwith\u001b[39;00m _ARPACK_LOCK:\n\u001b[1;32m   1354\u001b[0m     \u001b[38;5;28;01mwhile\u001b[39;00m \u001b[38;5;129;01mnot\u001b[39;00m params\u001b[38;5;241m.\u001b[39mconverged:\n\u001b[0;32m-> 1355\u001b[0m         \u001b[43mparams\u001b[49m\u001b[38;5;241;43m.\u001b[39;49m\u001b[43miterate\u001b[49m\u001b[43m(\u001b[49m\u001b[43m)\u001b[49m\n\u001b[1;32m   1357\u001b[0m     \u001b[38;5;28;01mreturn\u001b[39;00m params\u001b[38;5;241m.\u001b[39mextract(return_eigenvectors)\n",
      "File \u001b[0;32m/opt/anaconda3/envs/qc/lib/python3.10/site-packages/scipy/sparse/linalg/_eigen/arpack/arpack.py:730\u001b[0m, in \u001b[0;36m_UnsymmetricArpackParams.iterate\u001b[0;34m(self)\u001b[0m\n\u001b[1;32m    726\u001b[0m     \u001b[38;5;28mself\u001b[39m\u001b[38;5;241m.\u001b[39mido, \u001b[38;5;28mself\u001b[39m\u001b[38;5;241m.\u001b[39mtol, \u001b[38;5;28mself\u001b[39m\u001b[38;5;241m.\u001b[39mresid, \u001b[38;5;28mself\u001b[39m\u001b[38;5;241m.\u001b[39mv, \\\n\u001b[1;32m    727\u001b[0m         \u001b[38;5;28mself\u001b[39m\u001b[38;5;241m.\u001b[39miparam, \u001b[38;5;28mself\u001b[39m\u001b[38;5;241m.\u001b[39mipntr, \u001b[38;5;28mself\u001b[39m\u001b[38;5;241m.\u001b[39minfo \u001b[38;5;241m=\u001b[39m results\n\u001b[1;32m    729\u001b[0m \u001b[38;5;28;01melse\u001b[39;00m:\n\u001b[0;32m--> 730\u001b[0m     results \u001b[38;5;241m=\u001b[39m \u001b[38;5;28;43mself\u001b[39;49m\u001b[38;5;241;43m.\u001b[39;49m\u001b[43m_arpack_solver\u001b[49m\u001b[43m(\u001b[49m\u001b[38;5;28;43mself\u001b[39;49m\u001b[38;5;241;43m.\u001b[39;49m\u001b[43mido\u001b[49m\u001b[43m,\u001b[49m\u001b[43m \u001b[49m\u001b[38;5;28;43mself\u001b[39;49m\u001b[38;5;241;43m.\u001b[39;49m\u001b[43mbmat\u001b[49m\u001b[43m,\u001b[49m\u001b[43m \u001b[49m\u001b[38;5;28;43mself\u001b[39;49m\u001b[38;5;241;43m.\u001b[39;49m\u001b[43mwhich\u001b[49m\u001b[43m,\u001b[49m\u001b[43m \u001b[49m\u001b[38;5;28;43mself\u001b[39;49m\u001b[38;5;241;43m.\u001b[39;49m\u001b[43mk\u001b[49m\u001b[43m,\u001b[49m\n\u001b[1;32m    731\u001b[0m \u001b[43m                                  \u001b[49m\u001b[38;5;28;43mself\u001b[39;49m\u001b[38;5;241;43m.\u001b[39;49m\u001b[43mtol\u001b[49m\u001b[43m,\u001b[49m\u001b[43m \u001b[49m\u001b[38;5;28;43mself\u001b[39;49m\u001b[38;5;241;43m.\u001b[39;49m\u001b[43mresid\u001b[49m\u001b[43m,\u001b[49m\u001b[43m \u001b[49m\u001b[38;5;28;43mself\u001b[39;49m\u001b[38;5;241;43m.\u001b[39;49m\u001b[43mv\u001b[49m\u001b[43m,\u001b[49m\u001b[43m \u001b[49m\u001b[38;5;28;43mself\u001b[39;49m\u001b[38;5;241;43m.\u001b[39;49m\u001b[43miparam\u001b[49m\u001b[43m,\u001b[49m\n\u001b[1;32m    732\u001b[0m \u001b[43m                                  \u001b[49m\u001b[38;5;28;43mself\u001b[39;49m\u001b[38;5;241;43m.\u001b[39;49m\u001b[43mipntr\u001b[49m\u001b[43m,\u001b[49m\u001b[43m \u001b[49m\u001b[38;5;28;43mself\u001b[39;49m\u001b[38;5;241;43m.\u001b[39;49m\u001b[43mworkd\u001b[49m\u001b[43m,\u001b[49m\u001b[43m \u001b[49m\u001b[38;5;28;43mself\u001b[39;49m\u001b[38;5;241;43m.\u001b[39;49m\u001b[43mworkl\u001b[49m\u001b[43m,\u001b[49m\n\u001b[1;32m    733\u001b[0m \u001b[43m                                  \u001b[49m\u001b[38;5;28;43mself\u001b[39;49m\u001b[38;5;241;43m.\u001b[39;49m\u001b[43mrwork\u001b[49m\u001b[43m,\u001b[49m\u001b[43m \u001b[49m\u001b[38;5;28;43mself\u001b[39;49m\u001b[38;5;241;43m.\u001b[39;49m\u001b[43minfo\u001b[49m\u001b[43m)\u001b[49m\n\u001b[1;32m    734\u001b[0m     \u001b[38;5;28mself\u001b[39m\u001b[38;5;241m.\u001b[39mido, \u001b[38;5;28mself\u001b[39m\u001b[38;5;241m.\u001b[39mtol, \u001b[38;5;28mself\u001b[39m\u001b[38;5;241m.\u001b[39mresid, \u001b[38;5;28mself\u001b[39m\u001b[38;5;241m.\u001b[39mv, \\\n\u001b[1;32m    735\u001b[0m         \u001b[38;5;28mself\u001b[39m\u001b[38;5;241m.\u001b[39miparam, \u001b[38;5;28mself\u001b[39m\u001b[38;5;241m.\u001b[39mipntr, \u001b[38;5;28mself\u001b[39m\u001b[38;5;241m.\u001b[39minfo \u001b[38;5;241m=\u001b[39m results\n\u001b[1;32m    738\u001b[0m xslice \u001b[38;5;241m=\u001b[39m \u001b[38;5;28mslice\u001b[39m(\u001b[38;5;28mself\u001b[39m\u001b[38;5;241m.\u001b[39mipntr[\u001b[38;5;241m0\u001b[39m] \u001b[38;5;241m-\u001b[39m \u001b[38;5;241m1\u001b[39m, \u001b[38;5;28mself\u001b[39m\u001b[38;5;241m.\u001b[39mipntr[\u001b[38;5;241m0\u001b[39m] \u001b[38;5;241m-\u001b[39m \u001b[38;5;241m1\u001b[39m \u001b[38;5;241m+\u001b[39m \u001b[38;5;28mself\u001b[39m\u001b[38;5;241m.\u001b[39mn)\n",
      "\u001b[0;31mKeyboardInterrupt\u001b[0m: "
     ]
    }
   ],
   "source": [
    "import numpy as np\n",
    "import qiskit\n",
    "from qiskit.quantum_info import state_fidelity\n",
    "from numpy import linalg as LA\n",
    "import qib\n",
    "import matplotlib.pyplot as plt\n",
    "import scipy\n",
    "import h5py\n",
    "\n",
    "import sys\n",
    "sys.path.append(\"../../src/brickwall_sparse\")\n",
    "from utils_sparse import construct_heisenberg_local_term, reduce_list, X, I2, get_perms\n",
    "from ansatz_sparse import ansatz_sparse\n",
    "import rqcopt as oc\n",
    "from scipy.sparse.linalg import expm_multiply\n",
    "from qiskit.quantum_info import random_statevector\n",
    "\n",
    "Lx, Ly = (3, 3)\n",
    "L = Lx*Ly\n",
    "t = 0.25\n",
    "# construct Hamiltonian\n",
    "latt = qib.lattice.IntegerLattice((Lx, Ly), pbc=True)\n",
    "field = qib.field.Field(qib.field.ParticleType.QUBIT, latt)\n",
    "J = (1, 1, 1)\n",
    "h = (1, 1, 1)\n",
    "hamil = qib.HeisenbergHamiltonian(field, J, h).as_matrix()\n",
    "eigenvalues, eigenvectors = scipy.sparse.linalg.eigsh(hamil, k=10)\n",
    "idx = eigenvalues.argsort()\n",
    "eigenvalues_sort = eigenvalues[idx]\n",
    "eigenvectors_sort = eigenvectors[:,idx]\n",
    "ground_state = eigenvectors_sort[:, 0]\n",
    "\n",
    "\n",
    "hloc1 = construct_heisenberg_local_term([J[0],  0,      0], [h[1],    0,    0], ndim=2)\n",
    "hloc2 = construct_heisenberg_local_term([0,    J[1],   0],  [0,    h[1],    0], ndim=2)\n",
    "hloc3 = construct_heisenberg_local_term([0,    0,   J[2]],  [0,       0,    h[2]], ndim=2)\n",
    "\n",
    "V1_25 = scipy.linalg.expm(-1j*t*hloc1/4)\n",
    "V2_25 = scipy.linalg.expm(-1j*t*hloc2/4)\n",
    "V1_5 = scipy.linalg.expm(-1j*t*hloc1/2)\n",
    "V2_5 = scipy.linalg.expm(-1j*t*hloc2/2)\n",
    "V3_5 = scipy.linalg.expm(-1j*t*hloc3/2)\n",
    "V3_1 = scipy.linalg.expm(-1j*t*hloc3)\n",
    "\n",
    "\"\"\"V1_2 = scipy.linalg.expm(-1j*t*hloc1/1)\n",
    "V2_2 = scipy.linalg.expm(-1j*t*hloc2/1)\n",
    "V3_2 = scipy.linalg.expm(-1j*t*hloc3/1)\"\"\"\n",
    "#Vlist_V      = [V1_V, V2_V, V3_V, V4_V, V5_V]\n",
    "#Vlist_H      = [V1_H, V2_H, V3_H, V4_H, V5_H]\n",
    "Vlist_start  = [V1_25, V1_25, V2_25, V2_25, V3_5, V3_5, V2_25, V2_25, V1_5, V1_5, V2_25, V2_25, V3_5, V3_5, V2_25, V2_25, V1_25, V1_25]\n",
    "#Vlist_start  = [V1_5, V1_5, V2_5, V2_5, V3_1, V3_1, V2_5, V2_5, V1_5, V1_5]\n",
    "#perms_v , perms_h = get_perms(Lx, Ly)\n",
    "perms_extended = ([perms_v] + [perms_h])*10\n",
    "\n",
    "#U = scipy.linalg.expm(-1j*hamil.toarray()*t)\n",
    "#print(\"Trotter error of the starting point: \", (np.linalg.norm(ansatz_2D(Vlist_start, L, perms_extended) - U, ord=2) ))\n",
    "\n",
    "state = np.array(random_statevector(2**L).data)\n",
    "print(\"Trotter error: \", np.linalg.norm(ansatz_sparse(Vlist_start, L, perms_extended, state) - expm_multiply(\n",
    "    -1j * t * hamil, state), ord=2))"
   ]
  },
  {
   "cell_type": "code",
   "execution_count": null,
   "id": "2414cbd2-b6ce-40b6-ad76-2f9e95bea0c7",
   "metadata": {},
   "outputs": [],
   "source": [
    "from optimize_sparse import optimize\n",
    "\n",
    "Vlist, f_iter, err_iter = optimize(L, hamil, t, Vlist, perms_extended, niter=10, rS=4)\n",
    "plt.plot(err_iter)\n",
    "plt.yscale('log')\n",
    "print(err_iter[-1])"
   ]
  },
  {
   "cell_type": "code",
   "execution_count": 194,
   "id": "8c39497a-8b63-4407-b70e-80dc927af6a1",
   "metadata": {},
   "outputs": [],
   "source": [
    "with h5py.File(f\"./results/heisenberg2d_111_Lx{Lx}Ly{Ly}_t{t}_layers{len(Vlist)}_U_3hloc.hdf5\", \"w\") as f:\n",
    "    f.create_dataset(\"Vlist\", data=Vlist)\n",
    "    f.create_dataset(\"f_iter\", data=f_iter)\n",
    "    f.create_dataset(\"err_iter\", data=err_iter)\n",
    "    f.attrs[\"L\"] = L\n",
    "    f.attrs[\"t\"] = float(t)"
   ]
  },
  {
   "cell_type": "code",
   "execution_count": 207,
   "id": "07ce3cd9-2bb7-4e1f-a2c7-ef910b70679d",
   "metadata": {},
   "outputs": [],
   "source": [
    "#Vlist = []\n",
    "with h5py.File(\"./results/heisenberg2d_111_Lx3Ly3_t0.25_layers18_U_3hloc.hdf5\", \"r\") as f:\n",
    "    Vlist =  f[\"Vlist\"][:]"
   ]
  },
  {
   "cell_type": "code",
   "execution_count": 212,
   "id": "f72dfc4b-2149-4be3-ab7b-de8218adbb9b",
   "metadata": {},
   "outputs": [
    {
     "name": "stdout",
     "output_type": "stream",
     "text": [
      "Trotter error:  0.00019826513860365935\n"
     ]
    }
   ],
   "source": [
    "from scipy.sparse.linalg import expm_multiply\n",
    "\n",
    "Lx, Ly = (3, 3)\n",
    "L = Lx*Ly\n",
    "t = 0.25\n",
    "latt = qib.lattice.IntegerLattice((Lx, Ly), pbc=True)\n",
    "field = qib.field.Field(qib.field.ParticleType.QUBIT, latt)\n",
    "J = (1, 1, 1)\n",
    "h = (1, 1, 1)\n",
    "hamil = qib.HeisenbergHamiltonian(field, J, h).as_matrix()\n",
    "eigenvalues, eigenvectors = scipy.sparse.linalg.eigsh(hamil, k=10)\n",
    "idx = eigenvalues.argsort()\n",
    "eigenvalues_sort = eigenvalues[idx]\n",
    "eigenvectors_sort = eigenvectors[:,idx]\n",
    "ground_state = eigenvectors_sort[:, 0]\n",
    "\n",
    "perms_v , perms_h = get_perms(Lx, Ly)\n",
    "#perms_extended = [perms_v]*5 + [perms_h]*5 + [perms_v]*5 + [perms_h]*5  + [perms_v]*5\n",
    "perms_extended = ([perms_v] + [perms_h])*20\n",
    "\n",
    "state = np.array(random_statevector(2**L).data)\n",
    "print(\"Trotter error: \", 1-state_fidelity(ansatz_sparse(Vlist, L, perms_extended,  state), expm_multiply(\n",
    "    -1j * t * hamil, state)))"
   ]
  },
  {
   "cell_type": "code",
   "execution_count": 211,
   "id": "730fc6f5-815d-4bad-a752-7e1290f58472",
   "metadata": {},
   "outputs": [
    {
     "name": "stdout",
     "output_type": "stream",
     "text": [
      "Trotter error:  0.005015344167331404\n"
     ]
    }
   ],
   "source": [
    "\"\"\"\n",
    "    Scaling from 3x3 -> 4x4. Important proof of concept! \n",
    "\"\"\"\n",
    "\n",
    "\n",
    "from scipy.sparse.linalg import expm_multiply\n",
    "from qiskit.quantum_info import state_fidelity\n",
    "\n",
    "Lx, Ly = (4, 4)\n",
    "L = Lx*Ly\n",
    "latt = qib.lattice.IntegerLattice((Lx, Ly), pbc=True)\n",
    "field = qib.field.Field(qib.field.ParticleType.QUBIT, latt)\n",
    "J = (1, 1, 1)\n",
    "h = (1, 1, 1)\n",
    "hamil = qib.HeisenbergHamiltonian(field, J, h).as_matrix()\n",
    "eigenvalues, eigenvectors = scipy.sparse.linalg.eigsh(hamil, k=10)\n",
    "idx = eigenvalues.argsort()\n",
    "eigenvalues_sort = eigenvalues[idx]\n",
    "eigenvectors_sort = eigenvectors[:,idx]\n",
    "ground_state = eigenvectors_sort[:, 0]\n",
    "\n",
    "perms_v , perms_h = get_perms(Lx, Ly)\n",
    "#perms_extended = [perms_v]*5 + [perms_h]*5 + [perms_v]*5  + [perms_h]*5  + [perms_v]*5\n",
    "perms_extended = ([perms_v] + [perms_h])*10\n",
    "\n",
    "state = np.array(random_statevector(2**L).data)\n",
    "print(\"Trotter error: \", 1-state_fidelity(ansatz_sparse(Vlist, L, perms_extended,  state), expm_multiply(\n",
    "    -1j * t * hamil, state)))"
   ]
  },
  {
   "cell_type": "code",
   "execution_count": 214,
   "id": "ce38a522-9ca9-4564-9b1f-58f46fdde2cd",
   "metadata": {
    "scrolled": true
   },
   "outputs": [
    {
     "name": "stdout",
     "output_type": "stream",
     "text": [
      "Approach  ccU\n",
      "Trotter error:  0.00022159620267789837\n",
      "Cxs  162\n"
     ]
    },
    {
     "name": "stderr",
     "output_type": "stream",
     "text": [
      "/tmp/ipykernel_14622/3678545000.py:50: DeprecationWarning: The function ``qiskit.execute_function.execute()`` is deprecated as of qiskit 0.46.0. It will be removed in the Qiskit 1.0 release. This function combines ``transpile`` and ``backend.run``, which is covered by ``Sampler`` :mod:`~qiskit.primitives`. Alternatively, you can also run :func:`.transpile` followed by ``backend.run()``.\n",
      "  sv = execute(transpile(qc_), backend).result().get_statevector().data\n"
     ]
    },
    {
     "name": "stdout",
     "output_type": "stream",
     "text": [
      "Trotter error:  0.000526664089328599\n",
      "Cxs  324\n",
      "Trotter error:  0.0013455941268543103\n",
      "Cxs  648\n",
      "Trotter error:  0.00356179261034697\n",
      "Cxs  1296\n",
      "Approach  t2\n",
      "Trotter error:  0.14056598434774847\n",
      "Cxs  90\n",
      "Trotter error:  0.2647442101063505\n",
      "Cxs  180\n",
      "Trotter error:  0.4594325644973797\n",
      "Cxs  360\n",
      "Trotter error:  0.7568784196760924\n",
      "Cxs  720\n",
      "Approach  t4\n",
      "Trotter error:  0.007000316190933309\n",
      "Cxs  162\n",
      "Trotter error:  0.013805057954228327\n",
      "Cxs  324\n",
      "Trotter error:  0.02938868166198445\n",
      "Cxs  648\n",
      "Trotter error:  0.06943042452934807\n",
      "Cxs  1296\n"
     ]
    }
   ],
   "source": [
    "from qiskit import Aer, execute, transpile\n",
    "from qiskit.converters import circuit_to_dag\n",
    "from qiskit.providers.aer.noise import NoiseModel, errors\n",
    "\n",
    "t = 0.25\n",
    "hloc1 = construct_heisenberg_local_term([J[0],  0,      0], [h[1],    0,    0], ndim=2)\n",
    "hloc2 = construct_heisenberg_local_term([0,    J[1],   0],  [0,    h[1],    0], ndim=2)\n",
    "hloc3 = construct_heisenberg_local_term([0,    0,   J[2]],  [0,       0,    h[2]], ndim=2)\n",
    "\n",
    "V1_25 = scipy.linalg.expm(-1j*t*hloc1/4)\n",
    "V2_25 = scipy.linalg.expm(-1j*t*hloc2/4)\n",
    "V1_5 = scipy.linalg.expm(-1j*t*hloc1/2)\n",
    "V2_5 = scipy.linalg.expm(-1j*t*hloc2/2)\n",
    "V3_5 = scipy.linalg.expm(-1j*t*hloc3/2)\n",
    "V3_1 = scipy.linalg.expm(-1j*t*hloc3)\n",
    "Vlist_t4  = [V1_25, V1_25, V2_25, V2_25, V3_5, V3_5, V2_25, V2_25, V1_5, V1_5, V2_25, V2_25, V3_5, V3_5, V2_25, V2_25, V1_25, V1_25]\n",
    "Vlist_t2  = [V1_5, V1_5, V2_5, V2_5, V3_1, V3_1, V2_5, V2_5, V1_5, V1_5]\n",
    "perms_extended = ([perms_v] + [perms_h])*20\n",
    "\n",
    "\n",
    "errs = {'ccU': [], 't2': [], 't4': []}\n",
    "cxs =  {'ccU': [], 't2': [], 't4': []}\n",
    "Vs = {'ccU': Vlist, 't2': Vlist_t2, 't4': Vlist_t4}\n",
    "perms_ = {'ccU': perms_extended, 't2': perms_extended, 't4': perms_extended}\n",
    "\n",
    "for lab in ['ccU', 't2', 't4']:\n",
    "    print('Approach ', lab)\n",
    "    for t in [.25, .5, 1, 2]:\n",
    "        qc = qiskit.QuantumCircuit(L)\n",
    "        \n",
    "        for n in range(int(t//0.25)):\n",
    "            for i, V in enumerate(Vs[lab]):\n",
    "                perms = perms_[lab][i]\n",
    "                for perm in perms:\n",
    "                    for j in range(len(perm)//2):\n",
    "                        qc.unitary(V, [L-perm[2*j]-1, L-perm[2*j+1]-1])\n",
    "\n",
    "        noise_model = NoiseModel()\n",
    "        dag = circuit_to_dag(transpile(qc, basis_gates=noise_model.basis_gates+['unitary', 'initialize', 'cx']))\n",
    "        count_ops = dag.count_ops()\n",
    "        cx = count_ops[\"unitary\"]\n",
    "\n",
    "        backend = Aer.get_backend(\"statevector_simulator\")\n",
    "        err = 0\n",
    "        for _ in range(5):\n",
    "            qc_ = qiskit.QuantumCircuit(L)\n",
    "            state = np.array(random_statevector(2**L).data)\n",
    "            qc_.initialize(state, [i for i in range(L)])\n",
    "            qc_.append(qc.to_gate(), [i for i in range(L)])\n",
    "            sv = execute(transpile(qc_), backend).result().get_statevector().data\n",
    "            err += 1-state_fidelity(sv, expm_multiply(-1j * t * hamil, state))\n",
    "        err /= 5\n",
    "    \n",
    "        errs[lab].append(err)\n",
    "        cxs[lab].append(cx)\n",
    "        print(\"Trotter error: \", err)\n",
    "        print(\"Cxs \", cx)"
   ]
  },
  {
   "cell_type": "code",
   "execution_count": 216,
   "id": "b613945b-c117-4937-83a9-2c0ab759e158",
   "metadata": {},
   "outputs": [
    {
     "data": {
      "text/plain": [
       "<Figure size 700x350 with 0 Axes>"
      ]
     },
     "metadata": {},
     "output_type": "display_data"
    },
    {
     "data": {
      "image/png": "[encoded data removed]",
      "text/plain": [
       "<Figure size 700x350 with 1 Axes>"
      ]
     },
     "metadata": {},
     "output_type": "display_data"
    }
   ],
   "source": [
    "import matplotlib\n",
    "plt.subplots_adjust(left=0.2, bottom=0.1, right=0.9, top=0.8, wspace=0.1, hspace=0.2)\n",
    "plt.rcParams[\"figure.figsize\"] = (7, 3.5)\n",
    "import matplotlib as mpl\n",
    "mpl.rcParams['figure.dpi'] = 100\n",
    "\n",
    "fig1, ax1 = plt.subplots()\n",
    "\n",
    "color1 = (39/256, 42/256  , 138/256)\n",
    "color2 = (61/256, 179/256 , 84/256 )\n",
    "color3 = (181/256, 161/256, 63/256 )\n",
    "plt.xlabel(r'Two Qubit Gates ($\\propto$ t)', size=15)\n",
    "plt.ylabel('Trotter Error', size=15)\n",
    "\n",
    "plt.plot(cxs['t4'], errs['t4'], label=r\"Trotter 4th Order\", color=color1)\n",
    "plt.scatter(cxs['t4'],  errs['t4'], ls='--', color=color1)\n",
    "plt.plot(cxs['t2'],  errs['t2'], label=r\"Trotter 2nd Order\", color=color3)\n",
    "plt.scatter(cxs['t2'],  errs['t2'], ls='--', color=color3)\n",
    "plt.plot(cxs['ccU'],  errs['ccU'], label=r\"Compressed U\", color=color2)\n",
    "plt.scatter(cxs['ccU'],  errs['ccU'], color=color2)\n",
    "\n",
    "annotations = [(\"t=0.25\", (10, -5)), (\"t=0.5\", (1, -15)), (\"t=1\", (1, -15)), (\"t=2\", (-5, -25))]\n",
    "for xi, yi, text in zip(cxs['t4'], errs['t4'], annotations):\n",
    "    plt.annotate(text[0], xy=(xi, yi), xycoords='data', size=10, xytext=text[1], textcoords='offset points', color=color1)\n",
    "    \n",
    "annotations = [(\"t=0.25\", (10, -5)), (\"t=0.5\", (1, -15)), (\"t=1\", (1, -15)), (\"t=2\", (-5, -15))]\n",
    "for xi, yi, text in zip(cxs['ccU'], errs['ccU'], annotations):\n",
    "    plt.annotate(text[0], xy=(xi, yi), xycoords='data', size=10, xytext=text[1], textcoords='offset points', color=color2)\n",
    "\n",
    "annotations = [(\"t=0.25\", (0, -15)), (\"t=0.5\", (-2, -18)), (\"t=1\", (-5, -18)), (\"t=2\", (-2, -17))]\n",
    "for xi, yi, text in zip(cxs['t2'], errs['t2'], annotations):\n",
    "    plt.annotate(text[0], xy=(xi, yi), xycoords='data', size=10, xytext=text[1], textcoords='offset points', color=color3)\n",
    "\n",
    "\n",
    "ax1.set_xscale('log')\n",
    "ax1.set_yscale('log')\n",
    "ax1.set_xticks([150, 300, 1000, 2000])\n",
    "ax1.set_yticks([0.1, 1])\n",
    "ax1.get_xaxis().set_major_formatter(matplotlib.ticker.ScalarFormatter())\n",
    "plt.legend(loc=\"upper left\", prop={'size': 10})\n",
    "plt.title(\"Compressed U of anisotropic Heisenberg model on 4x4 lattice \\n\", size=15)\n",
    "\n",
    "plt.savefig('./heisenberg2d_111_trotter_and_cxs.pdf', dpi=300, bbox_inches='tight')\n",
    "#plt.savefig('./heisenberg2d_111_trotter_and_cxs.png', dpi=300, bbox_inches='tight')\n",
    "plt.show()"
   ]
  },
  {
   "cell_type": "code",
   "execution_count": null,
   "id": "a7f0557e-118f-47b2-8013-031afd83752a",
   "metadata": {},
   "outputs": [],
   "source": []
  },
  {
   "cell_type": "code",
   "execution_count": null,
   "id": "51550200-61df-464c-b6eb-27a842e29d52",
   "metadata": {},
   "outputs": [],
   "source": []
  },
  {
   "cell_type": "code",
   "execution_count": null,
   "id": "0614225b-c4af-4950-ab83-992656288127",
   "metadata": {},
   "outputs": [],
   "source": []
  }
 ],
 "metadata": {
  "kernelspec": {
   "display_name": "Python3.10 (qc)",
   "language": "python",
   "name": "qc"
  },
  "language_info": {
   "codemirror_mode": {
    "name": "ipython",
    "version": 3
   },
   "file_extension": ".py",
   "mimetype": "text/x-python",
   "name": "python",
   "nbconvert_exporter": "python",
   "pygments_lexer": "ipython3",
   "version": "3.10.13"
  }
 },
 "nbformat": 4,
 "nbformat_minor": 5
}
