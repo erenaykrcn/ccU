{
 "cells": [
  {
   "cell_type": "code",
   "execution_count": 2,
   "id": "38b6ea50-3b87-4a9c-b91e-59d86960dee7",
   "metadata": {},
   "outputs": [
    {
     "name": "stdout",
     "output_type": "stream",
     "text": [
      "Trotter error:  0.12854567462819422\n"
     ]
    }
   ],
   "source": [
    "import numpy as np\n",
    "import qiskit\n",
    "from qiskit.quantum_info import state_fidelity\n",
    "from numpy import linalg as LA\n",
    "import qib\n",
    "import matplotlib.pyplot as plt\n",
    "import scipy\n",
    "import h5py\n",
    "\n",
    "import sys\n",
    "sys.path.append(\"../../src/brickwall_sparse\")\n",
    "from utils_sparse import construct_heisenberg_local_term, reduce_list, X, I2, get_perms\n",
    "from ansatz_sparse import ansatz_sparse\n",
    "import rqcopt as oc\n",
    "from scipy.sparse.linalg import expm_multiply\n",
    "from qiskit.quantum_info import random_statevector\n",
    "\n",
    "Lx, Ly = (3, 3)\n",
    "L = Lx*Ly\n",
    "t = 0.25\n",
    "# construct Hamiltonian\n",
    "latt = qib.lattice.IntegerLattice((Lx, Ly), pbc=True)\n",
    "field = qib.field.Field(qib.field.ParticleType.QUBIT, latt)\n",
    "J = (1, 1, 1)\n",
    "h = (1, 1, 1)\n",
    "hamil = qib.HeisenbergHamiltonian(field, J, h).as_matrix()\n",
    "eigenvalues, eigenvectors = scipy.sparse.linalg.eigsh(hamil, k=10)\n",
    "idx = eigenvalues.argsort()\n",
    "eigenvalues_sort = eigenvalues[idx]\n",
    "eigenvectors_sort = eigenvectors[:,idx]\n",
    "ground_state = eigenvectors_sort[:, 0]\n",
    "\n",
    "\n",
    "hloc1 = construct_heisenberg_local_term([J[0],  0,      0], [h[1],    0,    0], ndim=2)\n",
    "hloc2 = construct_heisenberg_local_term([0,    J[1],   0],  [0,    h[1],    0], ndim=2)\n",
    "hloc3 = construct_heisenberg_local_term([0,    0,   J[2]],  [0,       0,    h[2]], ndim=2)\n",
    "\n",
    "V1_25 = scipy.linalg.expm(-1j*t*hloc1/4)\n",
    "V2_25 = scipy.linalg.expm(-1j*t*hloc2/4)\n",
    "V1_5 = scipy.linalg.expm(-1j*t*hloc1/2)\n",
    "V2_5 = scipy.linalg.expm(-1j*t*hloc2/2)\n",
    "V3_5 = scipy.linalg.expm(-1j*t*hloc3/2)\n",
    "V3_1 = scipy.linalg.expm(-1j*t*hloc3)\n",
    "\n",
    "\"\"\"V1_2 = scipy.linalg.expm(-1j*t*hloc1/1)\n",
    "V2_2 = scipy.linalg.expm(-1j*t*hloc2/1)\n",
    "V3_2 = scipy.linalg.expm(-1j*t*hloc3/1)\"\"\"\n",
    "#Vlist_V      = [V1_V, V2_V, V3_V, V4_V, V5_V]\n",
    "#Vlist_H      = [V1_H, V2_H, V3_H, V4_H, V5_H]\n",
    "Vlist_start  = [V1_25, V1_25, V2_25, V2_25, V3_5, V3_5, \n",
    "                V2_25, V2_25, V1_5, V1_5, V2_25, V2_25, \n",
    "                V3_5, V3_5, V2_25, V2_25, V1_25, V1_25]\n",
    "Vlist_start  = [V1_5, V1_5, V2_5, V2_5, V3_1, V3_1, V2_5, V2_5, V1_5, V1_5]\n",
    "perms_v , perms_h = get_perms(Lx, Ly)\n",
    "perms_extended = ([perms_v] + [perms_h])*10\n",
    "\n",
    "#U = scipy.linalg.expm(-1j*hamil.toarray()*t)\n",
    "#print(\"Trotter error of the starting point: \", (np.linalg.norm(ansatz_2D(Vlist_start, L, perms_extended) - U, ord=2) ))\n",
    "\n",
    "state = np.array(random_statevector(2**L).data)\n",
    "print(\"Trotter error: \", 1-state_fidelity(ansatz_sparse(Vlist_start, L, perms_extended, state), expm_multiply(\n",
    "    -1j * t * hamil, state)))"
   ]
  },
  {
   "cell_type": "code",
   "execution_count": null,
   "id": "2414cbd2-b6ce-40b6-ad76-2f9e95bea0c7",
   "metadata": {},
   "outputs": [],
   "source": [
    "from optimize_sparse import optimize\n",
    "\n",
    "Vlist, f_iter, err_iter = optimize(L, hamil, t, Vlist, perms_extended, niter=10, rS=4)\n",
    "plt.plot(err_iter)\n",
    "plt.yscale('log')\n",
    "print(err_iter[-1])"
   ]
  },
  {
   "cell_type": "code",
   "execution_count": 194,
   "id": "8c39497a-8b63-4407-b70e-80dc927af6a1",
   "metadata": {},
   "outputs": [],
   "source": [
    "with h5py.File(f\"./results/heisenberg2d_111_Lx{Lx}Ly{Ly}_t{t}_layers{len(Vlist)}_U_3hloc.hdf5\", \"w\") as f:\n",
    "    f.create_dataset(\"Vlist\", data=Vlist)\n",
    "    f.create_dataset(\"f_iter\", data=f_iter)\n",
    "    f.create_dataset(\"err_iter\", data=err_iter)\n",
    "    f.attrs[\"L\"] = L\n",
    "    f.attrs[\"t\"] = float(t)"
   ]
  },
  {
   "cell_type": "code",
   "execution_count": 3,
   "id": "07ce3cd9-2bb7-4e1f-a2c7-ef910b70679d",
   "metadata": {},
   "outputs": [],
   "source": [
    "#Vlist = []\n",
    "#with h5py.File(\"./results/heisenberg2d_111_Lx3Ly3_t0.25_layers18_U_3hloc.hdf5\", \"r\") as f:\n",
    "#    Vlist =  f[\"Vlist\"][:]\n",
    "\n",
    "with h5py.File(\"./results/heisenberg2d_111_Lx3Ly3_t0.25_layers10_U_3hloc.hdf5\", \"r\") as f:\n",
    "    Vlist =  f[\"Vlist\"][:]"
   ]
  },
  {
   "cell_type": "code",
   "execution_count": 59,
   "id": "f72dfc4b-2149-4be3-ab7b-de8218adbb9b",
   "metadata": {},
   "outputs": [
    {
     "name": "stdout",
     "output_type": "stream",
     "text": [
      "Trotter error:  0.0001817224753296598\n"
     ]
    }
   ],
   "source": [
    "from scipy.sparse.linalg import expm_multiply\n",
    "\n",
    "Lx, Ly = (3, 3)\n",
    "L = Lx*Ly\n",
    "t = 0.25\n",
    "latt = qib.lattice.IntegerLattice((Lx, Ly), pbc=True)\n",
    "field = qib.field.Field(qib.field.ParticleType.QUBIT, latt)\n",
    "J = (1, 1, 1)\n",
    "h = (1, 1, 1)\n",
    "hamil = qib.HeisenbergHamiltonian(field, J, h).as_matrix()\n",
    "eigenvalues, eigenvectors = scipy.sparse.linalg.eigsh(hamil, k=10)\n",
    "idx = eigenvalues.argsort()\n",
    "eigenvalues_sort = eigenvalues[idx]\n",
    "eigenvectors_sort = eigenvectors[:,idx]\n",
    "ground_state = eigenvectors_sort[:, 0]\n",
    "\n",
    "perms_v , perms_h = get_perms(Lx, Ly)\n",
    "#perms_extended = [perms_v]*5 + [perms_h]*5 + [perms_v]*5 + [perms_h]*5  + [perms_v]*5\n",
    "perms_extended = ([perms_v] + [perms_h])*20\n",
    "\n",
    "state = np.array(random_statevector(2**L).data)\n",
    "print(\"Trotter error: \", 1-state_fidelity(ansatz_sparse(Vlist, L, perms_extended,  state), expm_multiply(\n",
    "    -1j * t * hamil, state)))"
   ]
  },
  {
   "cell_type": "code",
   "execution_count": 81,
   "id": "730fc6f5-815d-4bad-a752-7e1290f58472",
   "metadata": {},
   "outputs": [
    {
     "name": "stdout",
     "output_type": "stream",
     "text": [
      "Trotter error:  0.019881949882238792\n"
     ]
    }
   ],
   "source": [
    "\"\"\"\n",
    "    Scaling from 3x3 -> 4x4. Important proof of concept! \n",
    "\"\"\"\n",
    "\n",
    "\n",
    "from scipy.sparse.linalg import expm_multiply\n",
    "from qiskit.quantum_info import state_fidelity\n",
    "\n",
    "Lx, Ly = (4, 4)\n",
    "L = Lx*Ly\n",
    "latt = qib.lattice.IntegerLattice((Lx, Ly), pbc=True)\n",
    "field = qib.field.Field(qib.field.ParticleType.QUBIT, latt)\n",
    "J = (1, 1, 1)\n",
    "h = (1, 1, 1)\n",
    "hamil = qib.HeisenbergHamiltonian(field, J, h).as_matrix()\n",
    "eigenvalues, eigenvectors = scipy.sparse.linalg.eigsh(hamil, k=10)\n",
    "idx = eigenvalues.argsort()\n",
    "eigenvalues_sort = eigenvalues[idx]\n",
    "eigenvectors_sort = eigenvectors[:,idx]\n",
    "ground_state = eigenvectors_sort[:, 0]\n",
    "\n",
    "perms_v , perms_h = get_perms(Lx, Ly)\n",
    "#perms_extended = [perms_v]*5 + [perms_h]*5 + [perms_v]*5  + [perms_h]*5  + [perms_v]*5\n",
    "perms_extended = ([perms_v] + [perms_h])*10\n",
    "\n",
    "state = np.array(random_statevector(2**L).data)\n",
    "print(\"Trotter error: \", 1-state_fidelity(ansatz_sparse(Vlist, L, perms_extended,  state), expm_multiply(\n",
    "    -1j * t * hamil, state)))"
   ]
  },
  {
   "cell_type": "code",
   "execution_count": 5,
   "id": "ce38a522-9ca9-4564-9b1f-58f46fdde2cd",
   "metadata": {
    "scrolled": true
   },
   "outputs": [
    {
     "name": "stdout",
     "output_type": "stream",
     "text": [
      "Approach  ccU\n",
      "{'unitary': 30}\n",
      "Trotter error:  0.0045274696492610955\n",
      "Cxs  30\n",
      "Approach  t4\n",
      "{'unitary': 54}\n",
      "Trotter error:  0.007023100424200623\n",
      "Cxs  54\n"
     ]
    }
   ],
   "source": [
    "from qiskit import Aer, execute, transpile\n",
    "from qiskit.converters import circuit_to_dag\n",
    "from qiskit.providers.aer.noise import NoiseModel, errors\n",
    "\n",
    "dt = 0.25\n",
    "hloc1 = construct_heisenberg_local_term([J[0],    0,      0],  [h[0],     0,      0], ndim=2)\n",
    "hloc2 = construct_heisenberg_local_term([0,    J[1],      0],  [0,     h[1],      0], ndim=2)\n",
    "hloc3 = construct_heisenberg_local_term([0,       0,   J[2]],  [0,       0,    h[2]], ndim=2)\n",
    "\n",
    "V1_25 = scipy.linalg.expm(-1j*dt*hloc1/4)\n",
    "V2_25 = scipy.linalg.expm(-1j*dt*hloc2/4)\n",
    "V1_5 = scipy.linalg.expm(-1j*dt*hloc1/2)\n",
    "V2_5 = scipy.linalg.expm(-1j*dt*hloc2/2)\n",
    "V3_5 = scipy.linalg.expm(-1j*dt*hloc3/2)\n",
    "V3_1 = scipy.linalg.expm(-1j*dt*hloc3)\n",
    "Vlist_t4  = [V1_25, V1_25, V2_25, V2_25, V3_5, V3_5, V2_25, V2_25, V1_5, V1_5, V2_25, V2_25, V3_5, V3_5, V2_25, V2_25, V1_25, V1_25]\n",
    "Vlist_t2  = [V1_5, V1_5, V2_5, V2_5, V3_1, V3_1, V2_5, V2_5, V1_5, V1_5]\n",
    "perms_extended = ([perms_v] + [perms_h])*20\n",
    "\n",
    "\n",
    "errs = {'ccU': [], 't2': [], 't4': []}\n",
    "cxs =  {'ccU': [], 't2': [], 't4': []}\n",
    "Vs = {'ccU': Vlist, 't2': Vlist_t2, 't4': Vlist_t4}\n",
    "perms_ = {'ccU': perms_extended, 't2': perms_extended, 't4': perms_extended}\n",
    "\n",
    "for lab in ['ccU', 't4']:\n",
    "    print('Approach ', lab)\n",
    "    for t in [.25]:\n",
    "        qc = qiskit.QuantumCircuit(L)\n",
    "        \n",
    "        for n in range(int(t//(0.25 if lab=='ccU' else dt))):\n",
    "            for i, V in enumerate(Vs[lab]):\n",
    "                perms = perms_[lab][i]\n",
    "                for perm in perms:\n",
    "                    for j in range(len(perm)//2):\n",
    "                        qc.unitary(V, [L-perm[2*j]-1, L-perm[2*j+1]-1])\n",
    "\n",
    "        noise_model = NoiseModel()\n",
    "        dag = circuit_to_dag(transpile(qc, basis_gates=['unitary', 'initialize', 'u3']))\n",
    "        count_ops = dag.count_ops_longest_path()\n",
    "        print(count_ops)\n",
    "        cx = count_ops[\"unitary\"]\n",
    "\n",
    "        backend = Aer.get_backend(\"statevector_simulator\")\n",
    "        err = 0\n",
    "        for _ in range(1):\n",
    "            qc_ = qiskit.QuantumCircuit(L)\n",
    "            state = np.array(random_statevector(2**L).data)\n",
    "            qc_.initialize(state, [i for i in range(L)])\n",
    "            qc_.append(qc.to_gate(), [i for i in range(L)])\n",
    "            sv = execute(transpile(qc_), backend).result().get_statevector().data\n",
    "            err += 1-state_fidelity(sv, expm_multiply(-1j * t * hamil, state))\n",
    "        err /= 1\n",
    "    \n",
    "        errs[lab].append(err)\n",
    "        cxs[lab].append(cx)\n",
    "        print(\"Trotter error: \", err)\n",
    "        print(\"Cxs \", cx)"
   ]
  },
  {
   "cell_type": "code",
   "execution_count": 70,
   "id": "b613945b-c117-4937-83a9-2c0ab759e158",
   "metadata": {},
   "outputs": [
    {
     "data": {
      "text/plain": [
       "<Figure size 700x350 with 0 Axes>"
      ]
     },
     "metadata": {},
     "output_type": "display_data"
    },
    {
     "data": {
      "image/png": "[encoded data removed]",
      "text/plain": [
       "<Figure size 700x350 with 1 Axes>"
      ]
     },
     "metadata": {},
     "output_type": "display_data"
    }
   ],
   "source": [
    "import matplotlib\n",
    "plt.subplots_adjust(left=0.2, bottom=0.1, right=0.9, top=0.8, wspace=0.1, hspace=0.2)\n",
    "plt.rcParams[\"figure.figsize\"] = (7, 3.5)\n",
    "import matplotlib as mpl\n",
    "mpl.rcParams['figure.dpi'] = 100\n",
    "\n",
    "fig1, ax1 = plt.subplots()\n",
    "\n",
    "color1 = (39/256, 42/256  , 138/256)\n",
    "color2 = (61/256, 179/256 , 84/256 )\n",
    "color3 = (181/256, 161/256, 63/256 )\n",
    "plt.xlabel(r'Two Qubit Gates ($\\propto$ t)', size=15)\n",
    "plt.ylabel('Trotter Error', size=15)\n",
    "\n",
    "plt.plot(cxs['t4'], errs['t4'], label=r\"Trotter 4th Order\", color=color1)\n",
    "plt.scatter(cxs['t4'],  errs['t4'], ls='--', color=color1)\n",
    "plt.plot(cxs['t2'],  errs['t2'], label=r\"Trotter 2nd Order\", color=color3)\n",
    "plt.scatter(cxs['t2'],  errs['t2'], ls='--', color=color3)\n",
    "plt.plot(cxs['ccU'],  errs['ccU'], label=r\"Compressed U\", color=color2)\n",
    "plt.scatter(cxs['ccU'],  errs['ccU'], color=color2)\n",
    "\n",
    "annotations = [(\"t=0.25\", (10, -5)), (\"t=0.5\", (1, -15)), (\"t=1\", (1, -15)), (\"t=2\", (-5, -25))]\n",
    "for xi, yi, text in zip(cxs['t4'], errs['t4'], annotations):\n",
    "    plt.annotate(text[0], xy=(xi, yi), xycoords='data', size=10, xytext=text[1], textcoords='offset points', color=color1)\n",
    "    \n",
    "annotations = [(\"t=0.25\", (10, -5)), (\"t=0.5\", (1, -15)), (\"t=1\", (1, -15)), (\"t=2\", (-5, -15))]\n",
    "for xi, yi, text in zip(cxs['ccU'], errs['ccU'], annotations):\n",
    "    plt.annotate(text[0], xy=(xi, yi), xycoords='data', size=10, xytext=text[1], textcoords='offset points', color=color2)\n",
    "\n",
    "annotations = [(\"t=0.25\", (0, -15)), (\"t=0.5\", (-2, -18)), (\"t=1\", (-5, -18)), (\"t=2\", (-2, -17))]\n",
    "for xi, yi, text in zip(cxs['t2'], errs['t2'], annotations):\n",
    "    plt.annotate(text[0], xy=(xi, yi), xycoords='data', size=10, xytext=text[1], textcoords='offset points', color=color3)\n",
    "\n",
    "\n",
    "ax1.set_xscale('log')\n",
    "ax1.set_yscale('log')\n",
    "ax1.set_xticks([50, 300, 500])\n",
    "ax1.set_yticks([0.1, 1])\n",
    "ax1.get_xaxis().set_major_formatter(matplotlib.ticker.ScalarFormatter())\n",
    "plt.legend(loc=\"upper left\", prop={'size': 10})\n",
    "plt.title(\"Compressed U of anisotropic Heisenberg model on 4x4 lattice \\n\", size=15)\n",
    "\n",
    "#plt.savefig('./heisenberg2d_111_trotter_and_cxs.pdf', dpi=300, bbox_inches='tight')\n",
    "#plt.savefig('./heisenberg2d_111_trotter_and_cxs.png', dpi=300, bbox_inches='tight')\n",
    "plt.show()"
   ]
  },
  {
   "cell_type": "code",
   "execution_count": 29,
   "id": "a7f0557e-118f-47b2-8013-031afd83752a",
   "metadata": {},
   "outputs": [
    {
     "data": {
      "text/plain": [
       "3"
      ]
     },
     "execution_count": 29,
     "metadata": {},
     "output_type": "execute_result"
    }
   ],
   "source": [
    "\n",
    "qc = qiskit.QuantumCircuit(2)\n",
    "qc.unitary(Vlist[6], [0, 1])\n",
    "transpiled_circuit = transpile(qc, basis_gates=['rzz', 'u3'])\n",
    "gate_counts = transpiled_circuit.count_ops()\n",
    "\n",
    "from qiskit_aer import AerSimulator\n",
    "from qiskit_aer.library import SaveUnitary\n",
    "# Add instruction to save unitary\n",
    "qc.save_unitary()\n",
    "simulator = AerSimulator(method='unitary')\n",
    "transpiled = transpile(qc, simulator)\n",
    "result = simulator.run(transpiled).result()\n",
    "unitary = result.data(0)['unitary']\n",
    "#assert np.allclose(np.array(unitary.data), Vlist[i])\n",
    "\n",
    "gate_counts['rzz']"
   ]
  },
  {
   "cell_type": "code",
   "execution_count": null,
   "id": "51550200-61df-464c-b6eb-27a842e29d52",
   "metadata": {},
   "outputs": [],
   "source": []
  },
  {
   "cell_type": "code",
   "execution_count": null,
   "id": "0614225b-c4af-4950-ab83-992656288127",
   "metadata": {},
   "outputs": [],
   "source": []
  }
 ],
 "metadata": {
  "kernelspec": {
   "display_name": "Python3.10 (qc)",
   "language": "python",
   "name": "qc"
  },
  "language_info": {
   "codemirror_mode": {
    "name": "ipython",
    "version": 3
   },
   "file_extension": ".py",
   "mimetype": "text/x-python",
   "name": "python",
   "nbconvert_exporter": "python",
   "pygments_lexer": "ipython3",
   "version": "3.10.13"
  }
 },
 "nbformat": 4,
 "nbformat_minor": 5
}
