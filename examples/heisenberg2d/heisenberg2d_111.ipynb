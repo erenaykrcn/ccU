{
 "cells": [
  {
   "cell_type": "code",
   "execution_count": 191,
   "id": "38b6ea50-3b87-4a9c-b91e-59d86960dee7",
   "metadata": {},
   "outputs": [
    {
     "name": "stdout",
     "output_type": "stream",
     "text": [
      "Trotter error:  0.08314753753069584\n"
     ]
    }
   ],
   "source": [
    "import numpy as np\n",
    "import qiskit\n",
    "from qiskit.quantum_info import state_fidelity\n",
    "from numpy import linalg as LA\n",
    "import qib\n",
    "import matplotlib.pyplot as plt\n",
    "import scipy\n",
    "import h5py\n",
    "\n",
    "import sys\n",
    "sys.path.append(\"../../src/brickwall_sparse\")\n",
    "from utils_sparse import construct_heisenberg_local_term, reduce_list, X, I2, get_perms\n",
    "from ansatz_sparse import ansatz_sparse\n",
    "import rqcopt as oc\n",
    "from scipy.sparse.linalg import expm_multiply\n",
    "from qiskit.quantum_info import random_statevector\n",
    "\n",
    "Lx, Ly = (3, 3)\n",
    "L = Lx*Ly\n",
    "t = 0.25\n",
    "# construct Hamiltonian\n",
    "latt = qib.lattice.IntegerLattice((Lx, Ly), pbc=True)\n",
    "field = qib.field.Field(qib.field.ParticleType.QUBIT, latt)\n",
    "J = (1, 1, 1)\n",
    "h = (1, 1, 1)\n",
    "hamil = qib.HeisenbergHamiltonian(field, J, h).as_matrix()\n",
    "eigenvalues, eigenvectors = scipy.sparse.linalg.eigsh(hamil, k=10)\n",
    "idx = eigenvalues.argsort()\n",
    "eigenvalues_sort = eigenvalues[idx]\n",
    "eigenvectors_sort = eigenvectors[:,idx]\n",
    "ground_state = eigenvectors_sort[:, 0]\n",
    "\n",
    "\n",
    "hloc1 = construct_heisenberg_local_term([J[0],  0,      0], [h[1],    0,    0], ndim=2)\n",
    "hloc2 = construct_heisenberg_local_term([0,    J[1],   0],  [0,    h[1],    0], ndim=2)\n",
    "hloc3 = construct_heisenberg_local_term([0,    0,   J[2]],  [0,       0,    h[2]], ndim=2)\n",
    "\n",
    "V1_25 = scipy.linalg.expm(-1j*t*hloc1/4)\n",
    "V2_25 = scipy.linalg.expm(-1j*t*hloc2/4)\n",
    "V1_5 = scipy.linalg.expm(-1j*t*hloc1/2)\n",
    "V2_5 = scipy.linalg.expm(-1j*t*hloc2/2)\n",
    "V3_5 = scipy.linalg.expm(-1j*t*hloc3/2)\n",
    "V3_1 = scipy.linalg.expm(-1j*t*hloc3)\n",
    "\n",
    "\"\"\"V1_2 = scipy.linalg.expm(-1j*t*hloc1/1)\n",
    "V2_2 = scipy.linalg.expm(-1j*t*hloc2/1)\n",
    "V3_2 = scipy.linalg.expm(-1j*t*hloc3/1)\"\"\"\n",
    "#Vlist_V      = [V1_V, V2_V, V3_V, V4_V, V5_V]\n",
    "#Vlist_H      = [V1_H, V2_H, V3_H, V4_H, V5_H]\n",
    "Vlist_start  = [V1_25, V1_25, V2_25, V2_25, V3_5, V3_5, V2_25, V2_25, V1_5, V1_5, V2_25, V2_25, V3_5, V3_5, V2_25, V2_25, V1_25, V1_25]\n",
    "#Vlist_start  = [V1_5, V1_5, V2_5, V2_5, V3_1, V3_1, V2_5, V2_5, V1_5, V1_5]\n",
    "#perms_v , perms_h = get_perms(Lx, Ly)\n",
    "perms_extended = ([perms_v] + [perms_h])*10\n",
    "\n",
    "#U = scipy.linalg.expm(-1j*hamil.toarray()*t)\n",
    "#print(\"Trotter error of the starting point: \", (np.linalg.norm(ansatz_2D(Vlist_start, L, perms_extended) - U, ord=2) ))\n",
    "\n",
    "state = np.array(random_statevector(2**L).data)\n",
    "print(\"Trotter error: \", np.linalg.norm(ansatz_sparse(Vlist_start, L, perms_extended, state) - expm_multiply(\n",
    "    -1j * t * hamil, state), ord=2))"
   ]
  },
  {
   "cell_type": "code",
   "execution_count": 197,
   "id": "7685264c-b470-4a4c-8802-411275f5558f",
   "metadata": {},
   "outputs": [
    {
     "ename": "KeyboardInterrupt",
     "evalue": "",
     "output_type": "error",
     "traceback": [
      "\u001b[0;31m---------------------------------------------------------------------------\u001b[0m",
      "\u001b[0;31mKeyboardInterrupt\u001b[0m                         Traceback (most recent call last)",
      "Cell \u001b[0;32mIn[197], line 3\u001b[0m\n\u001b[1;32m      1\u001b[0m \u001b[38;5;28;01mfrom\u001b[39;00m \u001b[38;5;21;01moptimize_sparse\u001b[39;00m \u001b[38;5;28;01mimport\u001b[39;00m optimize\n\u001b[0;32m----> 3\u001b[0m Vlist, f_iter, err_iter \u001b[38;5;241m=\u001b[39m \u001b[43moptimize\u001b[49m\u001b[43m(\u001b[49m\u001b[43mL\u001b[49m\u001b[43m,\u001b[49m\u001b[43m \u001b[49m\u001b[43mhamil\u001b[49m\u001b[43m,\u001b[49m\u001b[43m \u001b[49m\u001b[43mt\u001b[49m\u001b[43m,\u001b[49m\u001b[43m \u001b[49m\u001b[43mVlist\u001b[49m\u001b[43m,\u001b[49m\u001b[43m \u001b[49m\u001b[43mperms_extended\u001b[49m\u001b[43m,\u001b[49m\u001b[43m \u001b[49m\u001b[43mniter\u001b[49m\u001b[38;5;241;43m=\u001b[39;49m\u001b[38;5;241;43m10\u001b[39;49m\u001b[43m,\u001b[49m\u001b[43m \u001b[49m\u001b[43mrS\u001b[49m\u001b[38;5;241;43m=\u001b[39;49m\u001b[38;5;241;43m4\u001b[39;49m\u001b[43m)\u001b[49m\n\u001b[1;32m      4\u001b[0m plt\u001b[38;5;241m.\u001b[39mplot(err_iter)\n\u001b[1;32m      5\u001b[0m plt\u001b[38;5;241m.\u001b[39myscale(\u001b[38;5;124m'\u001b[39m\u001b[38;5;124mlog\u001b[39m\u001b[38;5;124m'\u001b[39m)\n",
      "File \u001b[0;32m~/Desktop/QC/ccU/examples/heisenberg2d/../../src/brickwall_sparse/optimize_sparse.py:114\u001b[0m, in \u001b[0;36moptimize\u001b[0;34m(L, hamil, t, Vlist_start, perms, perms_reduced, control_layers, rS, **kwargs)\u001b[0m\n\u001b[1;32m    111\u001b[0m         \u001b[38;5;28;01mreturn\u001b[39;00m e\u001b[38;5;241m/\u001b[39m(\u001b[38;5;241m2\u001b[39m\u001b[38;5;241m*\u001b[39mrS)\n\u001b[1;32m    113\u001b[0m kwargs[\u001b[38;5;124m\"\u001b[39m\u001b[38;5;124mgfunc\u001b[39m\u001b[38;5;124m\"\u001b[39m] \u001b[38;5;241m=\u001b[39m errfunc\n\u001b[0;32m--> 114\u001b[0m Vlist, f_iter, err_iter \u001b[38;5;241m=\u001b[39m \u001b[43mriemannian_trust_region_optimize\u001b[49m\u001b[43m(\u001b[49m\n\u001b[1;32m    115\u001b[0m \u001b[43m    \u001b[49m\u001b[43mf\u001b[49m\u001b[43m,\u001b[49m\u001b[43m \u001b[49m\u001b[43mretract_unitary_list\u001b[49m\u001b[43m,\u001b[49m\u001b[43m \u001b[49m\u001b[43mgradfunc\u001b[49m\u001b[43m,\u001b[49m\u001b[43m \u001b[49m\u001b[43mhessfunc\u001b[49m\u001b[43m,\u001b[49m\u001b[43m \u001b[49m\u001b[43mnp\u001b[49m\u001b[38;5;241;43m.\u001b[39;49m\u001b[43mstack\u001b[49m\u001b[43m(\u001b[49m\u001b[43mVlist_start\u001b[49m\u001b[43m)\u001b[49m\u001b[43m,\u001b[49m\u001b[43m \u001b[49m\u001b[38;5;241;43m*\u001b[39;49m\u001b[38;5;241;43m*\u001b[39;49m\u001b[43mkwargs\u001b[49m\u001b[43m)\u001b[49m\n\u001b[1;32m    116\u001b[0m \u001b[38;5;28;01mreturn\u001b[39;00m Vlist, f_iter, err_iter\n",
      "File \u001b[0;32m/opt/anaconda3/envs/qc/lib/python3.10/site-packages/rqcopt/trust_region.py:34\u001b[0m, in \u001b[0;36mriemannian_trust_region_optimize\u001b[0;34m(f, retract, gradfunc, hessfunc, x_init, **kwargs)\u001b[0m\n\u001b[1;32m     32\u001b[0m \u001b[38;5;28;01mfor\u001b[39;00m k \u001b[38;5;129;01min\u001b[39;00m \u001b[38;5;28mrange\u001b[39m(niter):\n\u001b[1;32m     33\u001b[0m     grad \u001b[38;5;241m=\u001b[39m gradfunc(x)\n\u001b[0;32m---> 34\u001b[0m     hess \u001b[38;5;241m=\u001b[39m \u001b[43mhessfunc\u001b[49m\u001b[43m(\u001b[49m\u001b[43mx\u001b[49m\u001b[43m)\u001b[49m\n\u001b[1;32m     35\u001b[0m     eta, on_boundary \u001b[38;5;241m=\u001b[39m truncated_cg(grad, hess, radius, \u001b[38;5;241m*\u001b[39m\u001b[38;5;241m*\u001b[39mtcg_kwargs)\n\u001b[1;32m     36\u001b[0m     x_next \u001b[38;5;241m=\u001b[39m retract(x, eta)\n",
      "File \u001b[0;32m~/Desktop/QC/ccU/examples/heisenberg2d/../../src/brickwall_sparse/optimize_sparse.py:70\u001b[0m, in \u001b[0;36moptimize.<locals>.hessfunc\u001b[0;34m(vlist)\u001b[0m\n\u001b[1;32m     68\u001b[0m     h \u001b[38;5;241m=\u001b[39m \u001b[38;5;241m-\u001b[39mansatz_sparse_hessian_matrix(vlist, L, expm_multiply(\u001b[38;5;241m-\u001b[39m\u001b[38;5;241m1\u001b[39mj \u001b[38;5;241m*\u001b[39m t \u001b[38;5;241m*\u001b[39m hamil, random_svs[\u001b[38;5;241m0\u001b[39m]), random_svs[\u001b[38;5;241m0\u001b[39m], perms)\n\u001b[1;32m     69\u001b[0m     \u001b[38;5;28;01mfor\u001b[39;00m v \u001b[38;5;129;01min\u001b[39;00m random_svs[\u001b[38;5;241m1\u001b[39m:]:\n\u001b[0;32m---> 70\u001b[0m         h \u001b[38;5;241m+\u001b[39m\u001b[38;5;241m=\u001b[39m \u001b[38;5;241m-\u001b[39m\u001b[43mansatz_sparse_hessian_matrix\u001b[49m\u001b[43m(\u001b[49m\u001b[43mvlist\u001b[49m\u001b[43m,\u001b[49m\u001b[43m \u001b[49m\u001b[43mL\u001b[49m\u001b[43m,\u001b[49m\u001b[43m \u001b[49m\u001b[43mexpm_multiply\u001b[49m\u001b[43m(\u001b[49m\u001b[38;5;241;43m-\u001b[39;49m\u001b[38;5;241;43m1\u001b[39;49m\u001b[43mj\u001b[49m\u001b[43m \u001b[49m\u001b[38;5;241;43m*\u001b[39;49m\u001b[43m \u001b[49m\u001b[43mt\u001b[49m\u001b[43m \u001b[49m\u001b[38;5;241;43m*\u001b[39;49m\u001b[43m \u001b[49m\u001b[43mhamil\u001b[49m\u001b[43m,\u001b[49m\u001b[43m \u001b[49m\u001b[43mv\u001b[49m\u001b[43m)\u001b[49m\u001b[43m,\u001b[49m\u001b[43m \u001b[49m\u001b[43mv\u001b[49m\u001b[43m,\u001b[49m\u001b[43m \u001b[49m\u001b[43mperms\u001b[49m\u001b[43m)\u001b[49m\n\u001b[1;32m     71\u001b[0m     \u001b[38;5;28;01mreturn\u001b[39;00m h\n\u001b[1;32m     72\u001b[0m \u001b[38;5;28;01melse\u001b[39;00m:\n",
      "File \u001b[0;32m~/Desktop/QC/ccU/examples/heisenberg2d/../../src/brickwall_sparse/hessian_sparse.py:27\u001b[0m, in \u001b[0;36mansatz_sparse_hessian_matrix\u001b[0;34m(Vlist, L, Uv, state, perms, flatten, unprojected)\u001b[0m\n\u001b[1;32m     25\u001b[0m \tZ[j] \u001b[38;5;241m=\u001b[39m \u001b[38;5;241m1\u001b[39m\n\u001b[1;32m     26\u001b[0m \tZ \u001b[38;5;241m=\u001b[39m real_to_antisymm(np\u001b[38;5;241m.\u001b[39mreshape(Z, (\u001b[38;5;241m4\u001b[39m, \u001b[38;5;241m4\u001b[39m)))\n\u001b[0;32m---> 27\u001b[0m dVZj \u001b[38;5;241m=\u001b[39m \u001b[43mansatz_sparse_hess\u001b[49m\u001b[43m(\u001b[49m\u001b[43mVlist\u001b[49m\u001b[43m,\u001b[49m\u001b[43m \u001b[49m\u001b[43mL\u001b[49m\u001b[43m,\u001b[49m\u001b[43m \u001b[49m\u001b[43mVlist\u001b[49m\u001b[43m[\u001b[49m\u001b[43mk\u001b[49m\u001b[43m]\u001b[49m\u001b[43m \u001b[49m\u001b[38;5;241;43m@\u001b[39;49m\u001b[43m \u001b[49m\u001b[43mZ\u001b[49m\u001b[43m,\u001b[49m\u001b[43m \u001b[49m\u001b[43mk\u001b[49m\u001b[43m,\u001b[49m\u001b[43m \u001b[49m\u001b[43mUv\u001b[49m\u001b[43m,\u001b[49m\u001b[43m \u001b[49m\u001b[43mstate\u001b[49m\u001b[43m,\u001b[49m\u001b[43m \u001b[49m\u001b[43mperms\u001b[49m\u001b[43m,\u001b[49m\u001b[43m \u001b[49m\u001b[43munprojected\u001b[49m\u001b[38;5;241;43m=\u001b[39;49m\u001b[43munprojected\u001b[49m\u001b[43m)\u001b[49m\n\u001b[1;32m     28\u001b[0m \u001b[38;5;28;01mfor\u001b[39;00m i \u001b[38;5;129;01min\u001b[39;00m \u001b[38;5;28mrange\u001b[39m(eta):\n\u001b[1;32m     29\u001b[0m \tHess[i, :, k, j] \u001b[38;5;241m=\u001b[39m dVZj[i]\u001b[38;5;241m.\u001b[39mreshape(\u001b[38;5;241m-\u001b[39m\u001b[38;5;241m1\u001b[39m) \u001b[38;5;28;01mif\u001b[39;00m unprojected \u001b[38;5;28;01melse\u001b[39;00m \\\n\u001b[1;32m     30\u001b[0m \t\t\tantisymm_to_real(antisymm( Vlist[i]\u001b[38;5;241m.\u001b[39mconj()\u001b[38;5;241m.\u001b[39mT \u001b[38;5;241m@\u001b[39m dVZj[i] ))\u001b[38;5;241m.\u001b[39mreshape(\u001b[38;5;241m-\u001b[39m\u001b[38;5;241m1\u001b[39m)\n",
      "File \u001b[0;32m~/Desktop/QC/ccU/examples/heisenberg2d/../../src/brickwall_sparse/hessian_sparse.py:131\u001b[0m, in \u001b[0;36mansatz_sparse_hess\u001b[0;34m(Vlist, L, Z, k, Uv, state, perms_extended, unprojected)\u001b[0m\n\u001b[1;32m    129\u001b[0m \u001b[38;5;28;01mif\u001b[39;00m k\u001b[38;5;241m!=\u001b[39mj:\n\u001b[1;32m    130\u001b[0m \t\u001b[38;5;28;01mfor\u001b[39;00m perm \u001b[38;5;129;01min\u001b[39;00m perms_j[::\u001b[38;5;241m-\u001b[39m\u001b[38;5;241m1\u001b[39m]:\n\u001b[0;32m--> 131\u001b[0m \t\tw \u001b[38;5;241m=\u001b[39m \u001b[43mapplyG_block_state\u001b[49m\u001b[43m(\u001b[49m\u001b[43mVlist\u001b[49m\u001b[43m[\u001b[49m\u001b[43mj\u001b[49m\u001b[43m]\u001b[49m\u001b[38;5;241;43m.\u001b[39;49m\u001b[43mconj\u001b[49m\u001b[43m(\u001b[49m\u001b[43m)\u001b[49m\u001b[38;5;241;43m.\u001b[39;49m\u001b[43mT\u001b[49m\u001b[43m,\u001b[49m\u001b[43m \u001b[49m\u001b[43mw\u001b[49m\u001b[43m,\u001b[49m\u001b[43m \u001b[49m\u001b[43mL\u001b[49m\u001b[43m,\u001b[49m\u001b[43m \u001b[49m\u001b[43mperm\u001b[49m\u001b[43m)\u001b[49m\n\u001b[1;32m    132\u001b[0m \u001b[38;5;28;01melse\u001b[39;00m:\n\u001b[1;32m    133\u001b[0m \tw \u001b[38;5;241m=\u001b[39m ansatz_sparse_grad_directed(Vlist[k]\u001b[38;5;241m.\u001b[39mconj()\u001b[38;5;241m.\u001b[39mT, w, L, Z\u001b[38;5;241m.\u001b[39mconj()\u001b[38;5;241m.\u001b[39mT, perms_j[::\u001b[38;5;241m-\u001b[39m\u001b[38;5;241m1\u001b[39m])\n",
      "File \u001b[0;32m~/Desktop/QC/ccU/examples/heisenberg2d/../../src/brickwall_sparse/utils_sparse.py:108\u001b[0m, in \u001b[0;36mapplyG_block_state\u001b[0;34m(G, state, L, perm)\u001b[0m\n\u001b[1;32m    106\u001b[0m     k \u001b[38;5;241m=\u001b[39m perm[\u001b[38;5;241m2\u001b[39m \u001b[38;5;241m*\u001b[39m j]\n\u001b[1;32m    107\u001b[0m     l \u001b[38;5;241m=\u001b[39m perm[\u001b[38;5;241m2\u001b[39m \u001b[38;5;241m*\u001b[39m j \u001b[38;5;241m+\u001b[39m \u001b[38;5;241m1\u001b[39m]\n\u001b[0;32m--> 108\u001b[0m     state \u001b[38;5;241m=\u001b[39m \u001b[43mapplyG_state\u001b[49m\u001b[43m(\u001b[49m\u001b[43mG\u001b[49m\u001b[43m,\u001b[49m\u001b[43m \u001b[49m\u001b[43mstate\u001b[49m\u001b[43m,\u001b[49m\u001b[43m \u001b[49m\u001b[43mL\u001b[49m\u001b[43m,\u001b[49m\u001b[43m \u001b[49m\u001b[43mk\u001b[49m\u001b[43m,\u001b[49m\u001b[43m \u001b[49m\u001b[43ml\u001b[49m\u001b[43m)\u001b[49m\n\u001b[1;32m    109\u001b[0m \u001b[38;5;28;01mreturn\u001b[39;00m state\n",
      "File \u001b[0;32m~/Desktop/QC/ccU/examples/heisenberg2d/../../src/brickwall_sparse/utils_sparse.py:95\u001b[0m, in \u001b[0;36mapplyG_state\u001b[0;34m(G, state, L, k, l)\u001b[0m\n\u001b[1;32m     92\u001b[0m updated \u001b[38;5;241m=\u001b[39m G \u001b[38;5;241m@\u001b[39m transposed\n\u001b[1;32m     94\u001b[0m \u001b[38;5;66;03m# Reshape back\u001b[39;00m\n\u001b[0;32m---> 95\u001b[0m updated \u001b[38;5;241m=\u001b[39m \u001b[43mupdated\u001b[49m\u001b[38;5;241;43m.\u001b[39;49m\u001b[43mreshape\u001b[49m\u001b[43m(\u001b[49m\u001b[43m[\u001b[49m\u001b[38;5;241;43m2\u001b[39;49m\u001b[43m,\u001b[49m\u001b[43m \u001b[49m\u001b[38;5;241;43m2\u001b[39;49m\u001b[43m]\u001b[49m\u001b[43m \u001b[49m\u001b[38;5;241;43m+\u001b[39;49m\u001b[43m \u001b[49m\u001b[43m[\u001b[49m\u001b[38;5;241;43m2\u001b[39;49m\u001b[43m]\u001b[49m\u001b[43m \u001b[49m\u001b[38;5;241;43m*\u001b[39;49m\u001b[43m \u001b[49m\u001b[43m(\u001b[49m\u001b[43mL\u001b[49m\u001b[43m \u001b[49m\u001b[38;5;241;43m-\u001b[39;49m\u001b[43m \u001b[49m\u001b[38;5;241;43m2\u001b[39;49m\u001b[43m)\u001b[49m\u001b[43m)\u001b[49m\n\u001b[1;32m     96\u001b[0m updated \u001b[38;5;241m=\u001b[39m np\u001b[38;5;241m.\u001b[39mtranspose(updated, inv_axes)\n\u001b[1;32m     97\u001b[0m \u001b[38;5;28;01mreturn\u001b[39;00m updated\u001b[38;5;241m.\u001b[39mreshape(\u001b[38;5;241m2\u001b[39m\u001b[38;5;241m*\u001b[39m\u001b[38;5;241m*\u001b[39mL)\n",
      "\u001b[0;31mKeyboardInterrupt\u001b[0m: "
     ]
    }
   ],
   "source": [
    "from optimize_sparse import optimize\n",
    "\n",
    "Vlist, f_iter, err_iter = optimize(L, hamil, t, Vlist, perms_extended, niter=10, rS=4)\n",
    "plt.plot(err_iter)\n",
    "plt.yscale('log')\n",
    "print(err_iter[-1])"
   ]
  },
  {
   "cell_type": "code",
   "execution_count": 194,
   "id": "8c39497a-8b63-4407-b70e-80dc927af6a1",
   "metadata": {},
   "outputs": [],
   "source": [
    "with h5py.File(f\"./results/heisenberg2d_111_Lx{Lx}Ly{Ly}_t{t}_layers{len(Vlist)}_U_3hloc.hdf5\", \"w\") as f:\n",
    "    f.create_dataset(\"Vlist\", data=Vlist)\n",
    "    f.create_dataset(\"f_iter\", data=f_iter)\n",
    "    f.create_dataset(\"err_iter\", data=err_iter)\n",
    "    f.attrs[\"L\"] = L\n",
    "    f.attrs[\"t\"] = float(t)"
   ]
  },
  {
   "cell_type": "code",
   "execution_count": 152,
   "id": "07ce3cd9-2bb7-4e1f-a2c7-ef910b70679d",
   "metadata": {},
   "outputs": [],
   "source": [
    "#Vlist = []\n",
    "with h5py.File(\"./results/heisenberg2d_111_Lx3Ly3_t0.25_layers10_U_3hloc.hdf5\", \"r\") as f:\n",
    "    Vlist =  f[\"Vlist\"][:]"
   ]
  },
  {
   "cell_type": "code",
   "execution_count": 195,
   "id": "f72dfc4b-2149-4be3-ab7b-de8218adbb9b",
   "metadata": {},
   "outputs": [
    {
     "name": "stdout",
     "output_type": "stream",
     "text": [
      "Trotter error:  0.01367067214525796\n"
     ]
    }
   ],
   "source": [
    "from scipy.sparse.linalg import expm_multiply\n",
    "\n",
    "Lx, Ly = (3, 3)\n",
    "L = Lx*Ly\n",
    "t = 0.25\n",
    "latt = qib.lattice.IntegerLattice((Lx, Ly), pbc=True)\n",
    "field = qib.field.Field(qib.field.ParticleType.QUBIT, latt)\n",
    "J = (1, 1, 1)\n",
    "h = (1, 1, 1)\n",
    "hamil = qib.HeisenbergHamiltonian(field, J, h).as_matrix()\n",
    "eigenvalues, eigenvectors = scipy.sparse.linalg.eigsh(hamil, k=10)\n",
    "idx = eigenvalues.argsort()\n",
    "eigenvalues_sort = eigenvalues[idx]\n",
    "eigenvectors_sort = eigenvectors[:,idx]\n",
    "ground_state = eigenvectors_sort[:, 0]\n",
    "\n",
    "perms_v , perms_h = get_perms(Lx, Ly)\n",
    "#perms_extended = [perms_v]*5 + [perms_h]*5 + [perms_v]*5 + [perms_h]*5  + [perms_v]*5\n",
    "perms_extended = ([perms_v] + [perms_h])*10\n",
    "\n",
    "state = np.array(random_statevector(2**L).data)\n",
    "print(\"Trotter error: \", np.linalg.norm(ansatz_sparse(Vlist, L, perms_extended, state) - expm_multiply(\n",
    "    -1j * t * hamil, state), ord=2))"
   ]
  },
  {
   "cell_type": "code",
   "execution_count": 196,
   "id": "730fc6f5-815d-4bad-a752-7e1290f58472",
   "metadata": {},
   "outputs": [
    {
     "name": "stdout",
     "output_type": "stream",
     "text": [
      "Trotter error:  0.07061855807306978\n"
     ]
    }
   ],
   "source": [
    "\"\"\"\n",
    "    Scaling from 3x3 -> 4x4. Important proof of concept! \n",
    "\"\"\"\n",
    "\n",
    "\n",
    "from scipy.sparse.linalg import expm_multiply\n",
    "from qiskit.quantum_info import state_fidelity\n",
    "\n",
    "Lx, Ly = (4, 4)\n",
    "L = Lx*Ly\n",
    "latt = qib.lattice.IntegerLattice((Lx, Ly), pbc=True)\n",
    "field = qib.field.Field(qib.field.ParticleType.QUBIT, latt)\n",
    "J = (1, 1, 1)\n",
    "h = (1, 1, 1)\n",
    "hamil = qib.HeisenbergHamiltonian(field, J, h).as_matrix()\n",
    "eigenvalues, eigenvectors = scipy.sparse.linalg.eigsh(hamil, k=10)\n",
    "idx = eigenvalues.argsort()\n",
    "eigenvalues_sort = eigenvalues[idx]\n",
    "eigenvectors_sort = eigenvectors[:,idx]\n",
    "ground_state = eigenvectors_sort[:, 0]\n",
    "\n",
    "perms_v , perms_h = get_perms(Lx, Ly)\n",
    "#perms_extended = [perms_v]*5 + [perms_h]*5 + [perms_v]*5  + [perms_h]*5  + [perms_v]*5\n",
    "perms_extended = ([perms_v] + [perms_h])*10\n",
    "\n",
    "state = np.array(random_statevector(2**L).data)\n",
    "print(\"Trotter error: \", np.linalg.norm(ansatz_sparse(Vlist, L, perms_extended,  state) - expm_multiply(\n",
    "    -1j * t * hamil, state), ord=2))"
   ]
  },
  {
   "cell_type": "code",
   "execution_count": 171,
   "id": "ce38a522-9ca9-4564-9b1f-58f46fdde2cd",
   "metadata": {
    "scrolled": true
   },
   "outputs": [
    {
     "name": "stdout",
     "output_type": "stream",
     "text": [
      "Approach  ccU\n"
     ]
    },
    {
     "name": "stderr",
     "output_type": "stream",
     "text": [
      "/tmp/ipykernel_14622/4177511620.py:50: DeprecationWarning: The function ``qiskit.execute_function.execute()`` is deprecated as of qiskit 0.46.0. It will be removed in the Qiskit 1.0 release. This function combines ``transpile`` and ``backend.run``, which is covered by ``Sampler`` :mod:`~qiskit.primitives`. Alternatively, you can also run :func:`.transpile` followed by ``backend.run()``.\n",
      "  sv = execute(transpile(qc_), backend).result().get_statevector().data\n"
     ]
    },
    {
     "name": "stdout",
     "output_type": "stream",
     "text": [
      "Trotter error:  0.14142103681425572\n",
      "Cxs  160\n",
      "Trotter error:  0.20343248979164613\n",
      "Cxs  320\n",
      "Trotter error:  0.2900032615835805\n",
      "Cxs  640\n",
      "Trotter error:  0.4181735045732111\n",
      "Cxs  1280\n",
      "Approach  t2\n",
      "Trotter error:  0.5557824358979202\n",
      "Cxs  160\n",
      "Trotter error:  0.7629813909121719\n",
      "Cxs  320\n",
      "Trotter error:  1.0194336395614232\n",
      "Cxs  640\n",
      "Trotter error:  1.2660350354087144\n",
      "Cxs  1280\n",
      "Approach  t4\n",
      "Trotter error:  0.12370466653752829\n",
      "Cxs  288\n",
      "Trotter error:  0.1767844993209525\n",
      "Cxs  576\n",
      "Trotter error:  0.26900396334260224\n",
      "Cxs  1152\n",
      "Trotter error:  0.43521495594797593\n",
      "Cxs  2304\n"
     ]
    }
   ],
   "source": [
    "from qiskit import Aer, execute, transpile\n",
    "from qiskit.converters import circuit_to_dag\n",
    "from qiskit.providers.aer.noise import NoiseModel, errors\n",
    "\n",
    "t = 0.25\n",
    "hloc1 = construct_heisenberg_local_term([J[0],  0,      0], [h[1],    0,    0], ndim=2)\n",
    "hloc2 = construct_heisenberg_local_term([0,    J[1],   0],  [0,    h[1],    0], ndim=2)\n",
    "hloc3 = construct_heisenberg_local_term([0,    0,   J[2]],  [0,       0,    h[2]], ndim=2)\n",
    "\n",
    "V1_25 = scipy.linalg.expm(-1j*t*hloc1/4)\n",
    "V2_25 = scipy.linalg.expm(-1j*t*hloc2/4)\n",
    "V1_5 = scipy.linalg.expm(-1j*t*hloc1/2)\n",
    "V2_5 = scipy.linalg.expm(-1j*t*hloc2/2)\n",
    "V3_5 = scipy.linalg.expm(-1j*t*hloc3/2)\n",
    "V3_1 = scipy.linalg.expm(-1j*t*hloc3)\n",
    "Vlist_t4  = [V1_25, V1_25, V2_25, V2_25, V3_5, V3_5, V2_25, V2_25, V1_5, V1_5, V2_25, V2_25, V3_5, V3_5, V2_25, V2_25, V1_25, V1_25]\n",
    "Vlist_t2  = [V1_5, V1_5, V2_5, V2_5, V3_1, V3_1, V2_5, V2_5, V1_5, V1_5]\n",
    "perms_extended = ([perms_v] + [perms_h])*20\n",
    "\n",
    "\n",
    "errs = {'ccU': [], 't2': [], 't4': []}\n",
    "cxs =  {'ccU': [], 't2': [], 't4': []}\n",
    "Vs = {'ccU': Vlist, 't2': Vlist_t2, 't4': Vlist_t4}\n",
    "perms_ = {'ccU': perms_extended, 't2': perms_extended, 't4': perms_extended}\n",
    "\n",
    "for lab in ['ccU', 't2', 't4']:\n",
    "    print('Approach ', lab)\n",
    "    for t in [.25, .5, 1, 2]:\n",
    "        qc = qiskit.QuantumCircuit(L)\n",
    "        \n",
    "        for n in range(int(t//0.25)):\n",
    "            for i, V in enumerate(Vs[lab]):\n",
    "                perms = perms_[lab][i]\n",
    "                for perm in perms:\n",
    "                    for j in range(len(perm)//2):\n",
    "                        qc.unitary(V, [L-perm[2*j]-1, L-perm[2*j+1]-1])\n",
    "\n",
    "        noise_model = NoiseModel()\n",
    "        dag = circuit_to_dag(transpile(qc, basis_gates=noise_model.basis_gates+['unitary', 'initialize', 'cx']))\n",
    "        count_ops = dag.count_ops()\n",
    "        cx = count_ops[\"unitary\"]\n",
    "\n",
    "        backend = Aer.get_backend(\"statevector_simulator\")\n",
    "        err = 0\n",
    "        for _ in range(5):\n",
    "            qc_ = qiskit.QuantumCircuit(L)\n",
    "            state = np.array(random_statevector(2**L).data)\n",
    "            qc_.initialize(state, [i for i in range(L)])\n",
    "            qc_.append(qc.to_gate(), [i for i in range(L)])\n",
    "            sv = execute(transpile(qc_), backend).result().get_statevector().data\n",
    "            err += np.linalg.norm(sv - expm_multiply(-1j * t * hamil, state), ord=2)\n",
    "        err /= 5\n",
    "    \n",
    "        errs[lab].append(err)\n",
    "        cxs[lab].append(cx)\n",
    "        print(\"Trotter error: \", err)\n",
    "        print(\"Cxs \", cx)"
   ]
  },
  {
   "cell_type": "code",
   "execution_count": 189,
   "id": "b613945b-c117-4937-83a9-2c0ab759e158",
   "metadata": {},
   "outputs": [
    {
     "data": {
      "text/plain": [
       "<Figure size 700x350 with 0 Axes>"
      ]
     },
     "metadata": {},
     "output_type": "display_data"
    },
    {
     "data": {
      "image/png": "[encoded data removed]",
      "text/plain": [
       "<Figure size 700x350 with 1 Axes>"
      ]
     },
     "metadata": {},
     "output_type": "display_data"
    }
   ],
   "source": [
    "import matplotlib\n",
    "plt.subplots_adjust(left=0.2, bottom=0.1, right=0.9, top=0.8, wspace=0.1, hspace=0.2)\n",
    "plt.rcParams[\"figure.figsize\"] = (7, 3.5)\n",
    "import matplotlib as mpl\n",
    "mpl.rcParams['figure.dpi'] = 100\n",
    "\n",
    "fig1, ax1 = plt.subplots()\n",
    "\n",
    "color1 = (39/256, 42/256  , 138/256)\n",
    "color2 = (61/256, 179/256 , 84/256 )\n",
    "color3 = (181/256, 161/256, 63/256 )\n",
    "plt.xlabel(r'Two Qubit Gates ($\\propto$ t)', size=15)\n",
    "plt.ylabel('Trotter Error', size=15)\n",
    "\n",
    "plt.plot(cxs['t4'], errs['t4'], label=r\"Trotter 4th Order\", color=color1)\n",
    "plt.scatter(cxs['t4'],  errs['t4'], ls='--', color=color1)\n",
    "plt.plot(cxs['t2'],  errs['t2'], label=r\"Trotter 2nd Order\", color=color3)\n",
    "plt.scatter(cxs['t2'],  errs['t2'], ls='--', color=color3)\n",
    "plt.plot(cxs['ccU'],  errs['ccU'], label=r\"Compressed U\", color=color2)\n",
    "plt.scatter(cxs['ccU'],  errs['ccU'], color=color2)\n",
    "\n",
    "annotations = [(\"t=0.25\", (10, -5)), (\"t=0.5\", (1, -15)), (\"t=1\", (1, -15)), (\"t=2\", (-5, -25))]\n",
    "for xi, yi, text in zip(cxs['t4'], errs['t4'], annotations):\n",
    "    plt.annotate(text[0], xy=(xi, yi), xycoords='data', size=10, xytext=text[1], textcoords='offset points', color=color1)\n",
    "    \n",
    "annotations = [(\"t=0.25\", (10, -5)), (\"t=0.5\", (1, -15)), (\"t=1\", (1, -15)), (\"t=2\", (-5, -15))]\n",
    "for xi, yi, text in zip(cxs['ccU'], errs['ccU'], annotations):\n",
    "    plt.annotate(text[0], xy=(xi, yi), xycoords='data', size=10, xytext=text[1], textcoords='offset points', color=color2)\n",
    "\n",
    "annotations = [(\"t=0.25\", (0, -15)), (\"t=0.5\", (-2, -18)), (\"t=1\", (-5, -18)), (\"t=2\", (-2, -17))]\n",
    "for xi, yi, text in zip(cxs['t2'], errs['t2'], annotations):\n",
    "    plt.annotate(text[0], xy=(xi, yi), xycoords='data', size=10, xytext=text[1], textcoords='offset points', color=color3)\n",
    "\n",
    "\n",
    "ax1.set_xscale('log')\n",
    "ax1.set_yscale('log')\n",
    "ax1.set_xticks([150, 300, 1000, 2000])\n",
    "ax1.set_yticks([0.1, 1])\n",
    "ax1.get_xaxis().set_major_formatter(matplotlib.ticker.ScalarFormatter())\n",
    "plt.legend(loc=\"upper left\", prop={'size': 10})\n",
    "plt.title(\"Compressed U of anisotropic Heisenberg model on 4x4 lattice \\n\", size=15)\n",
    "\n",
    "plt.savefig('./heisenberg2d_111_trotter_and_cxs.pdf', dpi=300, bbox_inches='tight')\n",
    "#plt.savefig('./heisenberg2d_111_trotter_and_cxs.png', dpi=300, bbox_inches='tight')\n",
    "plt.show()"
   ]
  },
  {
   "cell_type": "code",
   "execution_count": null,
   "id": "a7f0557e-118f-47b2-8013-031afd83752a",
   "metadata": {},
   "outputs": [],
   "source": []
  },
  {
   "cell_type": "code",
   "execution_count": null,
   "id": "51550200-61df-464c-b6eb-27a842e29d52",
   "metadata": {},
   "outputs": [],
   "source": []
  },
  {
   "cell_type": "code",
   "execution_count": null,
   "id": "0614225b-c4af-4950-ab83-992656288127",
   "metadata": {},
   "outputs": [],
   "source": []
  }
 ],
 "metadata": {
  "kernelspec": {
   "display_name": "Python3.10 (qc)",
   "language": "python",
   "name": "qc"
  },
  "language_info": {
   "codemirror_mode": {
    "name": "ipython",
    "version": 3
   },
   "file_extension": ".py",
   "mimetype": "text/x-python",
   "name": "python",
   "nbconvert_exporter": "python",
   "pygments_lexer": "ipython3",
   "version": "3.10.13"
  }
 },
 "nbformat": 4,
 "nbformat_minor": 5
}
