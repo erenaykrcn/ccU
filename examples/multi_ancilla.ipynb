{
 "cells": [
  {
   "cell_type": "code",
   "execution_count": 74,
   "id": "fe760f6a-66e9-4800-b3e8-048d057e06e2",
   "metadata": {},
   "outputs": [
    {
     "name": "stdout",
     "output_type": "stream",
     "text": [
      "Trotter error of the starting point:  2.9653117715247033e-16\n"
     ]
    }
   ],
   "source": [
    "\"\"\"\n",
    "    MULTI ANCILLA QPE\n",
    "\"\"\"\n",
    "import numpy as np\n",
    "import qiskit\n",
    "from qiskit.quantum_info import state_fidelity\n",
    "from numpy import linalg as LA\n",
    "import qib\n",
    "import matplotlib.pyplot as plt\n",
    "import scipy\n",
    "import h5py\n",
    "\n",
    "import sys\n",
    "sys.path.append(\"../src/brickwall_sparse\")\n",
    "from utils_sparse import construct_ising_local_term, reduce_list, X, I2, get_perms\n",
    "from ansatz_sparse import ansatz_sparse\n",
    "import rqcopt as oc\n",
    "from scipy.sparse.linalg import expm_multiply\n",
    "from qiskit.quantum_info import random_statevector\n",
    "\n",
    "\n",
    "L = 4\n",
    "t= 0.2\n",
    "latt = qib.lattice.IntegerLattice((L, ), pbc=True)\n",
    "field = qib.field.Field(qib.field.ParticleType.QUBIT, latt)\n",
    "J, h, g = (0, 0, 1)\n",
    "hamil = qib.IsingHamiltonian(field, J, h, g).as_matrix()\n",
    "eigenvalues, eigenvectors = scipy.sparse.linalg.eigsh(hamil, k=10)\n",
    "idx = eigenvalues.argsort()\n",
    "eigenvalues_sort = eigenvalues[idx]\n",
    "eigenvectors_sort = eigenvectors[:,idx]\n",
    "ground_state = eigenvectors_sort[:, 0]\n",
    "lamb0 = eigenvalues_sort[0]\n",
    "\n",
    "X = np.array([[0, 1], [1, 0]])\n",
    "Z = np.array([[1, 0], [0, -1]])\n",
    "Y = np.array([[0, -1j], [1j, 0]])\n",
    "I2 = np.array([[1, 0], [0, 1]])\n",
    "\n",
    "\n",
    "hloc = construct_ising_local_term(J, 0, 0, ndim=2) + g*(np.kron(X, I2)+np.kron(I2, X))/2\n",
    "V2 = scipy.linalg.expm(-1j*t*hloc)\n",
    "Vlist_reduced = [V2, V2]\n",
    "Vlist_start = [V2, V2]\n",
    "\n",
    "control_layers = []\n",
    "perms_extended = [[[i for i in range(L)]] if i%2==0 else [[i for i in range(1, L)]+[0]] for i in range(len(Vlist_start))]\n",
    "perms_ext_reduced = []\n",
    "for i, perm in enumerate(perms_extended):\n",
    "    if i not in control_layers:\n",
    "        perms_ext_reduced.append(perm)\n",
    "\n",
    "# 12 layers with 6 being controlled, 9 parameters in total.\n",
    "state = random_statevector(2**L).data\n",
    "print(\"Trotter error of the starting point: \", np.linalg.norm(ansatz_sparse(Vlist_reduced, L, perms_ext_reduced, state) - expm_multiply(\n",
    "    -1j * t * hamil, state), ord=2))"
   ]
  },
  {
   "cell_type": "code",
   "execution_count": 90,
   "id": "bef0646c-0e8e-4fe5-9aff-29b2fd9947d5",
   "metadata": {},
   "outputs": [],
   "source": [
    "from qiskit import execute, transpile, Aer\n",
    "\n",
    "qc = qiskit.QuantumCircuit(L+2, 2)\n",
    "qc.h(0)\n",
    "qc.cx(0, 1)\n",
    "\n",
    "#AQC\n",
    "for i in range(2, L+2):\n",
    "    qc.x(i)\n",
    "    qc.h(i)\n",
    "\n",
    "#ccU\n",
    "for perms in perms_ext_reduced:\n",
    "    for perm in perms:\n",
    "        for j in range(L//2):\n",
    "            qc_2 =  qiskit.QuantumCircuit(2)\n",
    "            qc_2.unitary(V2, [0, 1])\n",
    "            if j%2==0:\n",
    "                qc.append(qc_2.control(), [0, perm[2*j]+2, perm[2*j+1]+2])\n",
    "            else:\n",
    "                qc.append(qc_2.control(), [1, perm[2*j]+2, perm[2*j+1]+2])\n",
    "\n",
    "\n",
    "\n",
    "qc.cx(0, 1)\n",
    "qc.p(-0.5*np.pi, 0) # Optional for iamg part.\n",
    "qc.h(0)\n",
    "\n",
    "qc.measure(0, 0)\n",
    "qc.measure(1, 1)\n",
    "\n",
    "backend = Aer.get_backend('aer_simulator')\n",
    "transpiled = transpile(qc)\n",
    "shots = execute(transpiled, backend, shots=5000).result().get_counts()"
   ]
  },
  {
   "cell_type": "code",
   "execution_count": 91,
   "id": "159d87d2-4c73-4f48-a244-eb39dbb7b687",
   "metadata": {},
   "outputs": [
    {
     "data": {
      "text/plain": [
       "{'00': 4298, '01': 702}"
      ]
     },
     "execution_count": 91,
     "metadata": {},
     "output_type": "execute_result"
    }
   ],
   "source": [
    "shots"
   ]
  },
  {
   "cell_type": "code",
   "execution_count": 92,
   "id": "d8bd5b83-5cc1-42d5-8722-c812f49d2f54",
   "metadata": {},
   "outputs": [
    {
     "data": {
      "text/plain": [
       "(0.6967067093471654+0.7173560908995228j)"
      ]
     },
     "execution_count": 92,
     "metadata": {},
     "output_type": "execute_result"
    }
   ],
   "source": [
    "np.exp(-1j*t*lamb0)"
   ]
  },
  {
   "cell_type": "code",
   "execution_count": 93,
   "id": "54ea3528-fd58-40e3-88fc-8accf03e4571",
   "metadata": {},
   "outputs": [
    {
     "data": {
      "text/plain": [
       "0.5372"
      ]
     },
     "execution_count": 93,
     "metadata": {},
     "output_type": "execute_result"
    }
   ],
   "source": [
    "(3843-1157)/5000"
   ]
  },
  {
   "cell_type": "code",
   "execution_count": 94,
   "id": "644ae2cb-75f8-4911-8d93-ef172296b35f",
   "metadata": {},
   "outputs": [
    {
     "data": {
      "text/plain": [
       "0.7192"
      ]
     },
     "execution_count": 94,
     "metadata": {},
     "output_type": "execute_result"
    }
   ],
   "source": [
    "(shots['00']-shots['01'])/5000"
   ]
  },
  {
   "cell_type": "code",
   "execution_count": null,
   "id": "ead177f1-0f76-4087-91ee-6b4b739e6090",
   "metadata": {},
   "outputs": [],
   "source": []
  }
 ],
 "metadata": {
  "kernelspec": {
   "display_name": "Python3.10 (qc)",
   "language": "python",
   "name": "qc"
  },
  "language_info": {
   "codemirror_mode": {
    "name": "ipython",
    "version": 3
   },
   "file_extension": ".py",
   "mimetype": "text/x-python",
   "name": "python",
   "nbconvert_exporter": "python",
   "pygments_lexer": "ipython3",
   "version": "3.10.13"
  }
 },
 "nbformat": 4,
 "nbformat_minor": 5
}
